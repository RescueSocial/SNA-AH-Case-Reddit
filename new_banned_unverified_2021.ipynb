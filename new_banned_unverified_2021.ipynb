{
 "cells": [
  {
   "cell_type": "markdown",
   "id": "23691531",
   "metadata": {},
   "source": [
    "# Case Study:  Reddit Social Network Analysis Against Influence Operation\n",
    "Adel Abu Hashim & Mahmoud Nagy - August 2021"
   ]
  },
  {
   "cell_type": "markdown",
   "id": "a405b9ef",
   "metadata": {},
   "source": [
    "## Table of Contents\n",
    "<ul>\n",
    "<li><a href=\"#intro\"><b><mark>Introduction<mark/><b/></a></li>\n",
    "<li><a href=\"#eda\">Exploratory Data Analysis</a></li>\n",
    "<li><a href=\"#conclusions\">Conclusions</a></li>\n",
    "</ul>"
   ]
  },
  {
   "cell_type": "markdown",
   "id": "d6f82bb0",
   "metadata": {},
   "source": [
    "<a id='intro'></a>\n",
    "## Introduction\n",
    "\n",
    ">This case study aims to help **Amber Heard** <br>\n",
    "> \n",
    "> By analyzing new accounts posting/ commenting against a victim of a Social Bot Disinformation/Influence Operation. \n",
    "> \n",
    "> **We have three main datasets**: <br>\n",
    ">(The datasets screaped from **reddit**).\n",
    "> - 1- A dataset with submissions & comments data (2021).\n",
    "> - 2- Users Data (from 2006 to 2021).\n",
    "> - 3- A merged dataset (submissions & comments data, users data).\n",
    "> - 4- Daily creation data \n",
    "> (# of accounts created per day from 2006 to 2021)"
   ]
  },
  {
   "cell_type": "code",
   "execution_count": 1,
   "id": "9f85802b",
   "metadata": {},
   "outputs": [],
   "source": [
    "#import dependencies\n",
    "import numpy as np\n",
    "import pandas as pd\n",
    "import matplotlib.pyplot as plt\n",
    "import seaborn as sb\n",
    "import helpers\n",
    "import matplotlib.dates as mdates\n",
    "import plotly.express as px\n",
    "import plotly.graph_objects as go\n",
    "import re\n",
    "import warnings\n",
    "warnings.filterwarnings('ignore')\n",
    "sb.set_style(\"darkgrid\")\n",
    "%matplotlib inline\n",
    "\n",
    "import plotly.io as pio\n",
    "pio.renderers.default = \"svg\"\n",
    "svg_renderer = pio.renderers[\"svg\"]\n",
    "svg_renderer.width = 900\n",
    "svg_renderer.height = 500"
   ]
  },
  {
   "cell_type": "code",
   "execution_count": 2,
   "id": "7a50531a",
   "metadata": {},
   "outputs": [],
   "source": [
    "# load data\n",
    "df = pd.read_csv(\"cleaned_data/reddit_cleaned_2021.csv\")\n",
    "df_merged = pd.read_csv(\"cleaned_data/reddit_merged_2021.csv\")"
   ]
  },
  {
   "cell_type": "code",
   "execution_count": 3,
   "id": "543b9a5e",
   "metadata": {},
   "outputs": [],
   "source": [
    "# convert to datetime\n",
    "df.created_at = pd.to_datetime(df.created_at)\n",
    "df_merged.created_at = pd.to_datetime(df_merged.created_at)\n",
    "df_merged.user_created_at = pd.to_datetime(df_merged.user_created_at)"
   ]
  },
  {
   "cell_type": "code",
   "execution_count": 4,
   "id": "a29dbfb8",
   "metadata": {},
   "outputs": [
    {
     "name": "stdout",
     "output_type": "stream",
     "text": [
      "(18305, 17)\n"
     ]
    }
   ],
   "source": [
    "print(df.shape)\n",
    "df.head(2);"
   ]
  },
  {
   "cell_type": "code",
   "execution_count": 5,
   "id": "2e5a6826",
   "metadata": {},
   "outputs": [
    {
     "name": "stdout",
     "output_type": "stream",
     "text": [
      "(18305, 24)\n"
     ]
    }
   ],
   "source": [
    "print(df_merged.shape)\n",
    "df_merged.head(2);"
   ]
  },
  {
   "cell_type": "code",
   "execution_count": 6,
   "id": "99865d0c",
   "metadata": {},
   "outputs": [
    {
     "name": "stdout",
     "output_type": "stream",
     "text": [
      "(1323, 24)\n"
     ]
    }
   ],
   "source": [
    "# Filter on banned accounts\n",
    "df_banned = df_merged[df_merged['is_banned']]\n",
    "print(df_banned.shape)\n",
    "df_banned.head(2);"
   ]
  },
  {
   "cell_type": "markdown",
   "id": "7e52f0f6",
   "metadata": {},
   "source": [
    "**Note:** we only have user names for the banned accounts"
   ]
  },
  {
   "cell_type": "code",
   "execution_count": 7,
   "id": "95407782",
   "metadata": {},
   "outputs": [
    {
     "name": "stdout",
     "output_type": "stream",
     "text": [
      "(2082, 24)\n"
     ]
    }
   ],
   "source": [
    "# Filter on unverified accounts\n",
    "df_unverified = df_merged[~df_merged['has_verified_email']]\n",
    "print(df_unverified.shape)\n",
    "df_unverified.head(2);"
   ]
  },
  {
   "cell_type": "code",
   "execution_count": 8,
   "id": "34f08c93",
   "metadata": {},
   "outputs": [
    {
     "name": "stdout",
     "output_type": "stream",
     "text": [
      "(9759, 24)\n"
     ]
    }
   ],
   "source": [
    "# Filter on Accounts created in the last 4 years\n",
    "df_4 = df_merged[df_merged['user_created_at'].dt.year.isin([2018, 2019, 2020, 2021])]\n",
    "print(df_4.shape)\n",
    "df_4.head(2);"
   ]
  },
  {
   "cell_type": "code",
   "execution_count": 9,
   "id": "e7099309",
   "metadata": {},
   "outputs": [
    {
     "name": "stdout",
     "output_type": "stream",
     "text": [
      "(1807, 24)\n"
     ]
    }
   ],
   "source": [
    "# Filter on Accounts created in 2018\n",
    "df_18 = df_merged[df_merged['user_created_at'].dt.year == 2018]\n",
    "print(df_18.shape)\n",
    "df_18.head(2);"
   ]
  },
  {
   "cell_type": "code",
   "execution_count": 10,
   "id": "6f7614ce",
   "metadata": {},
   "outputs": [
    {
     "name": "stdout",
     "output_type": "stream",
     "text": [
      "(2857, 24)\n"
     ]
    }
   ],
   "source": [
    "# Filter on Accounts created in 2019\n",
    "df_19 = df_merged[df_merged['user_created_at'].dt.year == 2019]\n",
    "print(df_19.shape)\n",
    "df_19.head(2);"
   ]
  },
  {
   "cell_type": "code",
   "execution_count": 11,
   "id": "719cfd2e",
   "metadata": {},
   "outputs": [
    {
     "name": "stdout",
     "output_type": "stream",
     "text": [
      "(3859, 24)\n"
     ]
    }
   ],
   "source": [
    "# Filter on Accounts created in 2020\n",
    "df_20 = df_merged[df_merged['user_created_at'].dt.year == 2020]\n",
    "print(df_20.shape)\n",
    "df_20.head(2);"
   ]
  },
  {
   "cell_type": "code",
   "execution_count": 12,
   "id": "4c396f22",
   "metadata": {},
   "outputs": [
    {
     "name": "stdout",
     "output_type": "stream",
     "text": [
      "(1236, 24)\n"
     ]
    }
   ],
   "source": [
    "# Filter on Accounts created in 2020\n",
    "df_21 = df_merged[df_merged['user_created_at'].dt.year == 2021]\n",
    "print(df_21.shape)\n",
    "df_21.head(2);"
   ]
  },
  {
   "cell_type": "code",
   "execution_count": 13,
   "id": "1dc68674",
   "metadata": {},
   "outputs": [],
   "source": [
    "# Filter on Peak Day \n",
    "df_peak = df_merged[df_merged['created_at'].dt.date.astype('str') == '2021-04-17']\n",
    "df_peak_submissions = df_peak.query(\"submission_comment == 'submission'\")"
   ]
  },
  {
   "cell_type": "code",
   "execution_count": 14,
   "id": "12896486",
   "metadata": {},
   "outputs": [],
   "source": [
    "# Filter on Peak Day For Unverified accounts\n",
    "df_unverified_peak = df_unverified[df_unverified['created_at'].dt.date.astype('str') == '2021-04-17']\n",
    "df_unverified_peak_submissions = df_unverified_peak.query(\"submission_comment == 'submission'\")"
   ]
  },
  {
   "cell_type": "code",
   "execution_count": 15,
   "id": "3c23d112",
   "metadata": {},
   "outputs": [],
   "source": [
    "# Filter on Submissions\n",
    "df_submissions = df_merged.query(\"submission_comment == 'submission'\")\n",
    "df_unverified_submissions = df_unverified.query(\"submission_comment == 'submission'\")"
   ]
  },
  {
   "cell_type": "markdown",
   "id": "ef92e5f0",
   "metadata": {},
   "source": [
    "<a id='eda'></a>\n",
    "## Exploratory Data Analysis\n",
    "<ul>\n",
    "<li><a href=\"#intro\">Introduction</a></li>\n",
    "<li><a href=\"#eda\"><b><mark>Exploratory Data Analysis</mark></b></a></li>\n",
    "<li><a href=\"#conclusions\">Conclusions</a></li>\n",
    "</ul>\n"
   ]
  },
  {
   "cell_type": "markdown",
   "id": "7db1c94a",
   "metadata": {},
   "source": [
    "<a id='banned_unverified'></a>\n",
    "># Banned / Unverified\n",
    "\n",
    "<ul>\n",
    "<li><a href=\"#banned_unverified\"><b><mark>Banned / Unverified</mark></b></a></li>\n",
    "<li><a href=\"#explore_banned\">Banned Accounts</a></li>\n",
    "    <br>\n",
    "<li><a href=\"#explore_unverified\">Unverified Accounts</a></li>\n",
    "    <br>\n",
    "<li><a href=\"#new_others\">New Vs Others</a></li>\n",
    "<li><a href=\"#explore_new\">New Accounts</a></li>\n",
    "    <br>\n",
    "<li><a href=\"#contributions_scores\">2021 Contributions Scores</a></li>\n",
    "</ul>"
   ]
  },
  {
   "cell_type": "markdown",
   "id": "ec498758",
   "metadata": {},
   "source": [
    "<a id='contributions'></a>\n",
    ">>### Contributions\n",
    "\n",
    "<ul>\n",
    "<li><a href=\"#contributions\"><b><mark>Contributions</mark></b></a></li>\n",
    "<li><a href=\"#peak_contributions\">Peak Day Contributions</a></li>\n",
    "<li><a href=\"#submissions\">Submissions</a></li>\n",
    "<li><a href=\"#peak_submissions\">Peak Day Submissions</a></li>\n",
    "</ul>"
   ]
  },
  {
   "cell_type": "code",
   "execution_count": 16,
   "id": "30920d14",
   "metadata": {},
   "outputs": [
    {
     "data": {
      "image/svg+xml": [
       "<svg class=\"main-svg\" xmlns=\"http://www.w3.org/2000/svg\" xmlns:xlink=\"http://www.w3.org/1999/xlink\" width=\"900\" height=\"500\" style=\"\" viewBox=\"0 0 900 500\"><rect x=\"0\" y=\"0\" width=\"900\" height=\"500\" style=\"fill: rgb(255, 255, 255); fill-opacity: 1;\"/><defs id=\"defs-d70ff2\"><g class=\"clips\"/><g class=\"gradients\"/><g class=\"patterns\"/></defs><g class=\"bglayer\"/><g class=\"layer-below\"><g class=\"imagelayer\"/><g class=\"shapelayer\"/></g><g class=\"cartesianlayer\"/><g class=\"polarlayer\"/><g class=\"ternarylayer\"/><g class=\"geolayer\"/><g class=\"funnelarealayer\"/><g class=\"pielayer\"><g class=\"trace\" stroke-linejoin=\"round\" style=\"opacity: 1;\"><g class=\"slice\"><path class=\"surface\" d=\"M424.5,260l0,-160a160,160 0 1 1 -147.24289838600595,97.39385912797108Z\" style=\"pointer-events: all; stroke-width: 0; fill: rgb(76, 120, 168); fill-opacity: 1; stroke: rgb(68, 68, 68); stroke-opacity: 1;\"/><g class=\"slicetext\"><text data-notex=\"1\" class=\"slicetext\" transform=\"translate(468.5956991121286,323.4195421129418)\" text-anchor=\"middle\" x=\"0\" y=\"0\" style=\"font-family: 'Open Sans', verdana, arial, sans-serif; font-size: 12px; fill: rgb(255, 255, 255); fill-opacity: 1; white-space: pre;\"><tspan class=\"line\" dy=\"0em\" x=\"0\" y=\"0\">others</tspan><tspan class=\"line\" dy=\"1.3em\" x=\"0\" y=\"0\">81.4%</tspan></text></g></g><g class=\"slice\"><path class=\"surface\" d=\"M424.5,260l-104.85599035665054,-120.85206364115595a160,160 0 0 1 104.85599035665054,-39.14793635884405Z\" style=\"pointer-events: all; stroke-width: 0; fill: rgb(245, 133, 24); fill-opacity: 1; stroke: rgb(68, 68, 68); stroke-opacity: 1;\"/><g class=\"slicetext\"><text data-notex=\"1\" class=\"slicetext\" transform=\"translate(383.0389339255271,145.643708026365)\" text-anchor=\"middle\" x=\"0\" y=\"0\" style=\"font-family: 'Open Sans', verdana, arial, sans-serif; font-size: 12px; fill: rgb(68, 68, 68); fill-opacity: 1; white-space: pre;\"><tspan class=\"line\" dy=\"0em\" x=\"0\" y=\"0\">unverified</tspan><tspan class=\"line\" dy=\"1.3em\" x=\"0\" y=\"0\">11.4%</tspan></text></g></g><g class=\"slice\"><path class=\"surface\" d=\"M424.5,260l-147.24289838600592,-62.60614087202895a160,160 0 0 1 42.38690802935538,-58.245922769127Z\" style=\"pointer-events: all; stroke-width: 0; fill: rgb(228, 87, 86); fill-opacity: 1; stroke: rgb(68, 68, 68); stroke-opacity: 1;\"/><g class=\"slicetext\"><text data-notex=\"1\" class=\"slicetext\" transform=\"translate(318.9015930003267,179.84890415510438)\" text-anchor=\"middle\" x=\"0\" y=\"0\" style=\"font-family: 'Open Sans', verdana, arial, sans-serif; font-size: 12px; fill: rgb(68, 68, 68); fill-opacity: 1; white-space: pre;\"><tspan class=\"line\" dy=\"0em\" x=\"0\" y=\"0\">banned</tspan><tspan class=\"line\" dy=\"1.3em\" x=\"0\" y=\"0\">7.23%</tspan></text></g></g></g></g><g class=\"iciclelayer\"/><g class=\"treemaplayer\"/><g class=\"sunburstlayer\"/><g class=\"glimages\"/><defs id=\"topdefs-d70ff2\"><g class=\"clips\"/><clipPath id=\"legendd70ff2\"><rect width=\"105\" height=\"67\" x=\"0\" y=\"0\"/></clipPath></defs><g class=\"layer-above\"><g class=\"imagelayer\"/><g class=\"shapelayer\"/></g><g class=\"infolayer\"><g class=\"legend\" pointer-events=\"all\" transform=\"translate(782.78,100)\"><rect class=\"bg\" shape-rendering=\"crispEdges\" style=\"stroke: rgb(68, 68, 68); stroke-opacity: 1; fill: rgb(255, 255, 255); fill-opacity: 1; stroke-width: 0px;\" width=\"105\" height=\"67\" x=\"0\" y=\"0\"/><g class=\"scrollbox\" transform=\"\" clip-path=\"url(#legendd70ff2)\"><g class=\"groups\"><g class=\"traces\" transform=\"translate(0,14.5)\" style=\"opacity: 1;\"><text class=\"legendtext\" text-anchor=\"start\" x=\"40\" y=\"4.680000000000001\" style=\"font-family: 'Open Sans', verdana, arial, sans-serif; font-size: 12px; fill: rgb(42, 63, 95); fill-opacity: 1; white-space: pre;\">others</text><g class=\"layers\" style=\"opacity: 1;\"><g class=\"legendfill\"/><g class=\"legendlines\"/><g class=\"legendsymbols\"><g class=\"legendpoints\"><path class=\"legendpie\" d=\"M6,6H-6V-6H6Z\" transform=\"translate(20,0)\" style=\"stroke-width: 0; fill: rgb(76, 120, 168); fill-opacity: 1; stroke: rgb(68, 68, 68); stroke-opacity: 1;\"/></g></g></g><rect class=\"legendtoggle\" x=\"0\" y=\"-9.5\" width=\"99.765625\" height=\"19\" style=\"fill: rgb(0, 0, 0); fill-opacity: 0;\"/></g><g class=\"traces\" transform=\"translate(0,33.5)\" style=\"opacity: 1;\"><text class=\"legendtext\" text-anchor=\"start\" x=\"40\" y=\"4.680000000000001\" style=\"font-family: 'Open Sans', verdana, arial, sans-serif; font-size: 12px; fill: rgb(42, 63, 95); fill-opacity: 1; white-space: pre;\">unverified</text><g class=\"layers\" style=\"opacity: 1;\"><g class=\"legendfill\"/><g class=\"legendlines\"/><g class=\"legendsymbols\"><g class=\"legendpoints\"><path class=\"legendpie\" d=\"M6,6H-6V-6H6Z\" transform=\"translate(20,0)\" style=\"stroke-width: 0; fill: rgb(245, 133, 24); fill-opacity: 1; stroke: rgb(68, 68, 68); stroke-opacity: 1;\"/></g></g></g><rect class=\"legendtoggle\" x=\"0\" y=\"-9.5\" width=\"99.765625\" height=\"19\" style=\"fill: rgb(0, 0, 0); fill-opacity: 0;\"/></g><g class=\"traces\" transform=\"translate(0,52.5)\" style=\"opacity: 1;\"><text class=\"legendtext\" text-anchor=\"start\" x=\"40\" y=\"4.680000000000001\" style=\"font-family: 'Open Sans', verdana, arial, sans-serif; font-size: 12px; fill: rgb(42, 63, 95); fill-opacity: 1; white-space: pre;\">banned</text><g class=\"layers\" style=\"opacity: 1;\"><g class=\"legendfill\"/><g class=\"legendlines\"/><g class=\"legendsymbols\"><g class=\"legendpoints\"><path class=\"legendpie\" d=\"M6,6H-6V-6H6Z\" transform=\"translate(20,0)\" style=\"stroke-width: 0; fill: rgb(228, 87, 86); fill-opacity: 1; stroke: rgb(68, 68, 68); stroke-opacity: 1;\"/></g></g></g><rect class=\"legendtoggle\" x=\"0\" y=\"-9.5\" width=\"99.765625\" height=\"19\" style=\"fill: rgb(0, 0, 0); fill-opacity: 0;\"/></g></g></g><rect class=\"scrollbar\" rx=\"20\" ry=\"3\" width=\"0\" height=\"0\" style=\"fill: rgb(128, 139, 164); fill-opacity: 1;\" x=\"0\" y=\"0\"/></g><g class=\"g-gtitle\"><text class=\"gtitle\" x=\"45\" y=\"50\" text-anchor=\"start\" dy=\"0em\" style=\"font-family: 'Open Sans', verdana, arial, sans-serif; font-size: 17px; fill: rgb(42, 63, 95); opacity: 1; font-weight: normal; white-space: pre;\">Contributions of banned / unverified /others in 2021</text></g></g></svg>"
      ]
     },
     "metadata": {},
     "output_type": "display_data"
    }
   ],
   "source": [
    "colors = px.colors.qualitative.T10\n",
    "\n",
    "fig = px.pie(df_merged.banned_unverified.value_counts().to_frame().reset_index(),\n",
    "             values='banned_unverified', names='index', color_discrete_sequence = colors,\n",
    "             title = 'Contributions of banned / unverified /others in 2021')\n",
    "\n",
    "fig.update_traces(textposition='inside', textinfo='percent+label')\n",
    "\n",
    "fig.show()"
   ]
  },
  {
   "cell_type": "code",
   "execution_count": 17,
   "id": "b0006818",
   "metadata": {},
   "outputs": [
    {
     "data": {
      "image/svg+xml": [
       "<svg class=\"main-svg\" xmlns=\"http://www.w3.org/2000/svg\" xmlns:xlink=\"http://www.w3.org/1999/xlink\" width=\"900\" height=\"500\" style=\"\" viewBox=\"0 0 900 500\"><rect x=\"0\" y=\"0\" width=\"900\" height=\"500\" style=\"fill: rgb(255, 255, 255); fill-opacity: 1;\"/><defs id=\"defs-40eb32\"><g class=\"clips\"><clipPath id=\"clip40eb32xyplot\" class=\"plotclip\"><rect width=\"660\" height=\"320\"/></clipPath><clipPath class=\"axesclip\" id=\"clip40eb32x\"><rect x=\"80\" y=\"0\" width=\"660\" height=\"500\"/></clipPath><clipPath class=\"axesclip\" id=\"clip40eb32y\"><rect x=\"0\" y=\"100\" width=\"900\" height=\"320\"/></clipPath><clipPath class=\"axesclip\" id=\"clip40eb32xy\"><rect x=\"80\" y=\"100\" width=\"660\" height=\"320\"/></clipPath></g><g class=\"gradients\"/><g class=\"patterns\"/></defs><g class=\"bglayer\"><rect class=\"bg\" x=\"80\" y=\"100\" width=\"660\" height=\"320\" style=\"fill: rgb(229, 236, 246); fill-opacity: 1; stroke-width: 0;\"/></g><g class=\"layer-below\"><g class=\"imagelayer\"/><g class=\"shapelayer\"/></g><g class=\"cartesianlayer\"><g class=\"subplot xy\"><g class=\"layer-subplot\"><g class=\"shapelayer\"/><g class=\"imagelayer\"/></g><g class=\"gridlayer\"><g class=\"x\"/><g class=\"y\"><path class=\"ygrid crisp\" transform=\"translate(0,379.19)\" d=\"M80,0h660\" style=\"stroke: rgb(255, 255, 255); stroke-opacity: 1; stroke-width: 1px;\"/><path class=\"ygrid crisp\" transform=\"translate(0,338.39)\" d=\"M80,0h660\" style=\"stroke: rgb(255, 255, 255); stroke-opacity: 1; stroke-width: 1px;\"/><path class=\"ygrid crisp\" transform=\"translate(0,297.58000000000004)\" d=\"M80,0h660\" style=\"stroke: rgb(255, 255, 255); stroke-opacity: 1; stroke-width: 1px;\"/><path class=\"ygrid crisp\" transform=\"translate(0,256.78)\" d=\"M80,0h660\" style=\"stroke: rgb(255, 255, 255); stroke-opacity: 1; stroke-width: 1px;\"/><path class=\"ygrid crisp\" transform=\"translate(0,215.97)\" d=\"M80,0h660\" style=\"stroke: rgb(255, 255, 255); stroke-opacity: 1; stroke-width: 1px;\"/><path class=\"ygrid crisp\" transform=\"translate(0,175.17000000000002)\" d=\"M80,0h660\" style=\"stroke: rgb(255, 255, 255); stroke-opacity: 1; stroke-width: 1px;\"/><path class=\"ygrid crisp\" transform=\"translate(0,134.36)\" d=\"M80,0h660\" style=\"stroke: rgb(255, 255, 255); stroke-opacity: 1; stroke-width: 1px;\"/></g></g><g class=\"zerolinelayer\"><path class=\"yzl zl crisp\" transform=\"translate(0,420)\" d=\"M80,0h660\" style=\"stroke: rgb(255, 255, 255); stroke-opacity: 1; stroke-width: 2px;\"/></g><path class=\"xlines-below\"/><path class=\"ylines-below\"/><g class=\"overlines-below\"/><g class=\"xaxislayer-below\"/><g class=\"yaxislayer-below\"/><g class=\"overaxes-below\"/><g class=\"plot\" transform=\"translate(80,100)\" clip-path=\"url(#clip40eb32xyplot)\"><g class=\"barlayer mlayer\"><g class=\"trace bars\" style=\"opacity: 1;\"><g class=\"points\"><g class=\"point\"><path d=\"M22,320V16H198V320Z\" style=\"vector-effect: non-scaling-stroke; opacity: 1; stroke-width: 0px; fill: rgb(76, 120, 168); fill-opacity: 1;\"/></g></g></g><g class=\"trace bars\" style=\"opacity: 1;\"><g class=\"points\"><g class=\"point\"><path d=\"M242,320V277.52H418V320Z\" style=\"vector-effect: non-scaling-stroke; opacity: 1; stroke-width: 0px; fill: rgb(245, 133, 24); fill-opacity: 1;\"/></g></g></g><g class=\"trace bars\" style=\"opacity: 1;\"><g class=\"points\"><g class=\"point\"><path d=\"M462,320V293.01H638V320Z\" style=\"vector-effect: non-scaling-stroke; opacity: 1; stroke-width: 0px; fill: rgb(228, 87, 86); fill-opacity: 1;\"/></g></g></g></g></g><g class=\"overplot\"/><path class=\"xlines-above crisp\" d=\"M0,0\" style=\"fill: none;\"/><path class=\"ylines-above crisp\" d=\"M0,0\" style=\"fill: none;\"/><g class=\"overlines-above\"/><g class=\"xaxislayer-above\"><g class=\"xtick\"><text text-anchor=\"middle\" x=\"0\" y=\"433\" transform=\"translate(190,0)\" style=\"font-family: 'Open Sans', verdana, arial, sans-serif; font-size: 12px; fill: rgb(42, 63, 95); fill-opacity: 1; white-space: pre; opacity: 1;\">others</text></g><g class=\"xtick\"><text text-anchor=\"middle\" x=\"0\" y=\"433\" transform=\"translate(410,0)\" style=\"font-family: 'Open Sans', verdana, arial, sans-serif; font-size: 12px; fill: rgb(42, 63, 95); fill-opacity: 1; white-space: pre; opacity: 1;\">unverified</text></g><g class=\"xtick\"><text text-anchor=\"middle\" x=\"0\" y=\"433\" transform=\"translate(630,0)\" style=\"font-family: 'Open Sans', verdana, arial, sans-serif; font-size: 12px; fill: rgb(42, 63, 95); fill-opacity: 1; white-space: pre; opacity: 1;\">banned</text></g></g><g class=\"yaxislayer-above\"><g class=\"ytick\"><text text-anchor=\"end\" x=\"79\" y=\"4.199999999999999\" transform=\"translate(0,420)\" style=\"font-family: 'Open Sans', verdana, arial, sans-serif; font-size: 12px; fill: rgb(42, 63, 95); fill-opacity: 1; white-space: pre; opacity: 1;\">0</text></g><g class=\"ytick\"><text text-anchor=\"end\" x=\"79\" y=\"4.199999999999999\" style=\"font-family: 'Open Sans', verdana, arial, sans-serif; font-size: 12px; fill: rgb(42, 63, 95); fill-opacity: 1; white-space: pre; opacity: 1;\" transform=\"translate(0,379.19)\">2k</text></g><g class=\"ytick\"><text text-anchor=\"end\" x=\"79\" y=\"4.199999999999999\" style=\"font-family: 'Open Sans', verdana, arial, sans-serif; font-size: 12px; fill: rgb(42, 63, 95); fill-opacity: 1; white-space: pre; opacity: 1;\" transform=\"translate(0,338.39)\">4k</text></g><g class=\"ytick\"><text text-anchor=\"end\" x=\"79\" y=\"4.199999999999999\" style=\"font-family: 'Open Sans', verdana, arial, sans-serif; font-size: 12px; fill: rgb(42, 63, 95); fill-opacity: 1; white-space: pre; opacity: 1;\" transform=\"translate(0,297.58000000000004)\">6k</text></g><g class=\"ytick\"><text text-anchor=\"end\" x=\"79\" y=\"4.199999999999999\" style=\"font-family: 'Open Sans', verdana, arial, sans-serif; font-size: 12px; fill: rgb(42, 63, 95); fill-opacity: 1; white-space: pre; opacity: 1;\" transform=\"translate(0,256.78)\">8k</text></g><g class=\"ytick\"><text text-anchor=\"end\" x=\"79\" y=\"4.199999999999999\" style=\"font-family: 'Open Sans', verdana, arial, sans-serif; font-size: 12px; fill: rgb(42, 63, 95); fill-opacity: 1; white-space: pre; opacity: 1;\" transform=\"translate(0,215.97)\">10k</text></g><g class=\"ytick\"><text text-anchor=\"end\" x=\"79\" y=\"4.199999999999999\" style=\"font-family: 'Open Sans', verdana, arial, sans-serif; font-size: 12px; fill: rgb(42, 63, 95); fill-opacity: 1; white-space: pre; opacity: 1;\" transform=\"translate(0,175.17000000000002)\">12k</text></g><g class=\"ytick\"><text text-anchor=\"end\" x=\"79\" y=\"4.199999999999999\" style=\"font-family: 'Open Sans', verdana, arial, sans-serif; font-size: 12px; fill: rgb(42, 63, 95); fill-opacity: 1; white-space: pre; opacity: 1;\" transform=\"translate(0,134.36)\">14k</text></g></g><g class=\"overaxes-above\"/></g></g><g class=\"polarlayer\"/><g class=\"ternarylayer\"/><g class=\"geolayer\"/><g class=\"funnelarealayer\"/><g class=\"pielayer\"/><g class=\"iciclelayer\"/><g class=\"treemaplayer\"/><g class=\"sunburstlayer\"/><g class=\"glimages\"/><defs id=\"topdefs-40eb32\"><g class=\"clips\"/><clipPath id=\"legend40eb32\"><rect width=\"135\" height=\"86\" x=\"0\" y=\"0\"/></clipPath></defs><g class=\"layer-above\"><g class=\"imagelayer\"/><g class=\"shapelayer\"/></g><g class=\"infolayer\"><g class=\"legend\" pointer-events=\"all\" transform=\"translate(753.2,100)\"><rect class=\"bg\" shape-rendering=\"crispEdges\" style=\"stroke: rgb(68, 68, 68); stroke-opacity: 1; fill: rgb(255, 255, 255); fill-opacity: 1; stroke-width: 0px;\" width=\"135\" height=\"86\" x=\"0\" y=\"0\"/><g class=\"scrollbox\" transform=\"\" clip-path=\"url(#legend40eb32)\"><text class=\"legendtitletext\" text-anchor=\"start\" x=\"2\" y=\"18.2\" style=\"font-family: 'Open Sans', verdana, arial, sans-serif; font-size: 14px; fill: rgb(42, 63, 95); fill-opacity: 1; white-space: pre;\">banned_unverified</text><g class=\"groups\" transform=\"\"><g class=\"traces\" transform=\"translate(0,32.7)\" style=\"opacity: 1;\"><text class=\"legendtext\" text-anchor=\"start\" x=\"40\" y=\"4.680000000000001\" style=\"font-family: 'Open Sans', verdana, arial, sans-serif; font-size: 12px; fill: rgb(42, 63, 95); fill-opacity: 1; white-space: pre;\">others</text><g class=\"layers\" style=\"opacity: 1;\"><g class=\"legendfill\"/><g class=\"legendlines\"/><g class=\"legendsymbols\"><g class=\"legendpoints\"><path class=\"legendundefined\" d=\"M6,6H-6V-6H6Z\" transform=\"translate(20,0)\" style=\"stroke-width: 0px; fill: rgb(76, 120, 168); fill-opacity: 1;\"/></g></g></g><rect class=\"legendtoggle\" x=\"0\" y=\"-9.5\" width=\"99.765625\" height=\"19\" style=\"fill: rgb(0, 0, 0); fill-opacity: 0;\"/></g></g><g class=\"groups\" transform=\"\"><g class=\"traces\" transform=\"translate(0,51.7)\" style=\"opacity: 1;\"><text class=\"legendtext\" text-anchor=\"start\" x=\"40\" y=\"4.680000000000001\" style=\"font-family: 'Open Sans', verdana, arial, sans-serif; font-size: 12px; fill: rgb(42, 63, 95); fill-opacity: 1; white-space: pre;\">unverified</text><g class=\"layers\" style=\"opacity: 1;\"><g class=\"legendfill\"/><g class=\"legendlines\"/><g class=\"legendsymbols\"><g class=\"legendpoints\"><path class=\"legendundefined\" d=\"M6,6H-6V-6H6Z\" transform=\"translate(20,0)\" style=\"stroke-width: 0px; fill: rgb(245, 133, 24); fill-opacity: 1;\"/></g></g></g><rect class=\"legendtoggle\" x=\"0\" y=\"-9.5\" width=\"99.765625\" height=\"19\" style=\"fill: rgb(0, 0, 0); fill-opacity: 0;\"/></g></g><g class=\"groups\" transform=\"\"><g class=\"traces\" transform=\"translate(0,70.7)\" style=\"opacity: 1;\"><text class=\"legendtext\" text-anchor=\"start\" x=\"40\" y=\"4.680000000000001\" style=\"font-family: 'Open Sans', verdana, arial, sans-serif; font-size: 12px; fill: rgb(42, 63, 95); fill-opacity: 1; white-space: pre;\">banned</text><g class=\"layers\" style=\"opacity: 1;\"><g class=\"legendfill\"/><g class=\"legendlines\"/><g class=\"legendsymbols\"><g class=\"legendpoints\"><path class=\"legendundefined\" d=\"M6,6H-6V-6H6Z\" transform=\"translate(20,0)\" style=\"stroke-width: 0px; fill: rgb(228, 87, 86); fill-opacity: 1;\"/></g></g></g><rect class=\"legendtoggle\" x=\"0\" y=\"-9.5\" width=\"99.765625\" height=\"19\" style=\"fill: rgb(0, 0, 0); fill-opacity: 0;\"/></g></g></g><rect class=\"scrollbar\" rx=\"20\" ry=\"3\" width=\"0\" height=\"0\" x=\"0\" y=\"0\" style=\"fill: rgb(128, 139, 164); fill-opacity: 1;\"/></g><g class=\"g-gtitle\"><text class=\"gtitle\" x=\"45\" y=\"50\" text-anchor=\"start\" dy=\"0em\" style=\"font-family: 'Open Sans', verdana, arial, sans-serif; font-size: 17px; fill: rgb(42, 63, 95); opacity: 1; font-weight: normal; white-space: pre;\">Contributions of banned / unverified /others in 2021</text></g><g class=\"g-xtitle\"><text class=\"xtitle\" x=\"410\" y=\"460.8\" text-anchor=\"middle\" style=\"font-family: 'Open Sans', verdana, arial, sans-serif; font-size: 14px; fill: rgb(42, 63, 95); opacity: 1; font-weight: normal; white-space: pre;\">banned_unverified</text></g><g class=\"g-ytitle\"><text class=\"ytitle\" transform=\"rotate(-90,31.840625000000003,260)\" x=\"31.840625000000003\" y=\"260\" text-anchor=\"middle\" style=\"font-family: 'Open Sans', verdana, arial, sans-serif; font-size: 14px; fill: rgb(42, 63, 95); opacity: 1; font-weight: normal; white-space: pre;\">count</text></g></g></svg>"
      ]
     },
     "metadata": {},
     "output_type": "display_data"
    }
   ],
   "source": [
    "fig = px.histogram(df_merged, x='banned_unverified', color=\"banned_unverified\", \n",
    "                    color_discrete_sequence = colors, \n",
    "                   title = 'Contributions of banned / unverified /others in 2021')\n",
    "fig.show()"
   ]
  },
  {
   "cell_type": "markdown",
   "id": "d3aacc0b",
   "metadata": {},
   "source": [
    "<a id='peak_contributions'></a>\n",
    ">>### Peak Day Contributions\n",
    "\n",
    "<ul>\n",
    "<li><a href=\"#contributions\">Contributions</a></li>\n",
    "<li><a href=\"#peak_contributions\"><b><mark>Peak Day Contributions</mark></b></a></li>\n",
    "<li><a href=\"#submissions\">Submissions</a></li>\n",
    "<li><a href=\"#peak_submissions\">Peak Day Submissions</a></li>\n",
    "</ul>"
   ]
  },
  {
   "cell_type": "code",
   "execution_count": 18,
   "id": "4aa74ae7",
   "metadata": {},
   "outputs": [
    {
     "data": {
      "image/svg+xml": [
       "<svg class=\"main-svg\" xmlns=\"http://www.w3.org/2000/svg\" xmlns:xlink=\"http://www.w3.org/1999/xlink\" width=\"900\" height=\"500\" style=\"\" viewBox=\"0 0 900 500\"><rect x=\"0\" y=\"0\" width=\"900\" height=\"500\" style=\"fill: rgb(255, 255, 255); fill-opacity: 1;\"/><defs id=\"defs-5ac5a9\"><g class=\"clips\"/><g class=\"gradients\"/><g class=\"patterns\"/></defs><g class=\"bglayer\"/><g class=\"layer-below\"><g class=\"imagelayer\"/><g class=\"shapelayer\"/></g><g class=\"cartesianlayer\"/><g class=\"polarlayer\"/><g class=\"ternarylayer\"/><g class=\"geolayer\"/><g class=\"funnelarealayer\"/><g class=\"pielayer\"><g class=\"trace\" stroke-linejoin=\"round\" style=\"opacity: 1;\"><g class=\"slice\"><path class=\"surface\" d=\"M424.5,260l0,-160a160,160 0 1 1 -158.4997486015968,138.14068406306788Z\" style=\"pointer-events: all; stroke-width: 0; fill: rgb(76, 120, 168); fill-opacity: 1; stroke: rgb(68, 68, 68); stroke-opacity: 1;\"/><g class=\"slicetext\"><text data-notex=\"1\" class=\"slicetext\" transform=\"translate(477.02341157857967,317.00440235168526)\" text-anchor=\"middle\" x=\"0\" y=\"0\" style=\"font-family: 'Open Sans', verdana, arial, sans-serif; font-size: 12px; fill: rgb(255, 255, 255); fill-opacity: 1; white-space: pre;\"><tspan class=\"line\" dy=\"0em\" x=\"0\" y=\"0\">others</tspan><tspan class=\"line\" dy=\"1.3em\" x=\"0\" y=\"0\">77.2%</tspan></text></g></g><g class=\"slice\"><path class=\"surface\" d=\"M424.5,260l-142.6714902736094,-72.42130807371109a160,160 0 0 1 142.6714902736094,-87.57869192628891Z\" style=\"pointer-events: all; stroke-width: 0; fill: rgb(245, 133, 24); fill-opacity: 1; stroke: rgb(68, 68, 68); stroke-opacity: 1;\"/><g class=\"slicetext\"><text data-notex=\"1\" class=\"slicetext\" transform=\"translate(369.5456304505612,167.17100438103387)\" text-anchor=\"middle\" x=\"0\" y=\"0\" style=\"font-family: 'Open Sans', verdana, arial, sans-serif; font-size: 12px; fill: rgb(68, 68, 68); fill-opacity: 1; white-space: pre;\"><tspan class=\"line\" dy=\"0em\" x=\"0\" y=\"0\">unverified</tspan><tspan class=\"line\" dy=\"1.3em\" x=\"0\" y=\"0\">17.5%</tspan></text></g></g><g class=\"slice\"><path class=\"surface\" d=\"M424.5,260l-158.49974860159676,-21.859315936932298a160,160 0 0 1 15.828258327987356,-50.56199213677879Z\" style=\"pointer-events: all; stroke-width: 0; fill: rgb(228, 87, 86); fill-opacity: 1; stroke: rgb(68, 68, 68); stroke-opacity: 1;\"/><g class=\"slicetext\"><text data-notex=\"1\" class=\"slicetext\" transform=\"translate(298.638657588607,217.1367079168436)rotate(17.3825503355705)\" text-anchor=\"middle\" x=\"0\" y=\"0\" style=\"font-family: 'Open Sans', verdana, arial, sans-serif; font-size: 12px; fill: rgb(68, 68, 68); fill-opacity: 1; white-space: pre;\"><tspan class=\"line\" dy=\"0em\" x=\"0\" y=\"0\">banned</tspan><tspan class=\"line\" dy=\"1.3em\" x=\"0\" y=\"0\">5.29%</tspan></text></g></g></g></g><g class=\"iciclelayer\"/><g class=\"treemaplayer\"/><g class=\"sunburstlayer\"/><g class=\"glimages\"/><defs id=\"topdefs-5ac5a9\"><g class=\"clips\"/><clipPath id=\"legend5ac5a9\"><rect width=\"105\" height=\"67\" x=\"0\" y=\"0\"/></clipPath></defs><g class=\"layer-above\"><g class=\"imagelayer\"/><g class=\"shapelayer\"/></g><g class=\"infolayer\"><g class=\"legend\" pointer-events=\"all\" transform=\"translate(782.78,100)\"><rect class=\"bg\" shape-rendering=\"crispEdges\" width=\"105\" height=\"67\" x=\"0\" y=\"0\" style=\"stroke: rgb(68, 68, 68); stroke-opacity: 1; fill: rgb(255, 255, 255); fill-opacity: 1; stroke-width: 0px;\"/><g class=\"scrollbox\" transform=\"\" clip-path=\"url(#legend5ac5a9)\"><g class=\"groups\"><g class=\"traces\" transform=\"translate(0,14.5)\" style=\"opacity: 1;\"><text class=\"legendtext\" text-anchor=\"start\" x=\"40\" y=\"4.680000000000001\" style=\"font-family: 'Open Sans', verdana, arial, sans-serif; font-size: 12px; fill: rgb(42, 63, 95); fill-opacity: 1; white-space: pre;\">others</text><g class=\"layers\" style=\"opacity: 1;\"><g class=\"legendfill\"/><g class=\"legendlines\"/><g class=\"legendsymbols\"><g class=\"legendpoints\"><path class=\"legendpie\" d=\"M6,6H-6V-6H6Z\" transform=\"translate(20,0)\" style=\"stroke-width: 0; fill: rgb(76, 120, 168); fill-opacity: 1; stroke: rgb(68, 68, 68); stroke-opacity: 1;\"/></g></g></g><rect class=\"legendtoggle\" x=\"0\" y=\"-9.5\" width=\"99.765625\" height=\"19\" style=\"fill: rgb(0, 0, 0); fill-opacity: 0;\"/></g><g class=\"traces\" transform=\"translate(0,33.5)\" style=\"opacity: 1;\"><text class=\"legendtext\" text-anchor=\"start\" x=\"40\" y=\"4.680000000000001\" style=\"font-family: 'Open Sans', verdana, arial, sans-serif; font-size: 12px; fill: rgb(42, 63, 95); fill-opacity: 1; white-space: pre;\">unverified</text><g class=\"layers\" style=\"opacity: 1;\"><g class=\"legendfill\"/><g class=\"legendlines\"/><g class=\"legendsymbols\"><g class=\"legendpoints\"><path class=\"legendpie\" d=\"M6,6H-6V-6H6Z\" transform=\"translate(20,0)\" style=\"stroke-width: 0; fill: rgb(245, 133, 24); fill-opacity: 1; stroke: rgb(68, 68, 68); stroke-opacity: 1;\"/></g></g></g><rect class=\"legendtoggle\" x=\"0\" y=\"-9.5\" width=\"99.765625\" height=\"19\" style=\"fill: rgb(0, 0, 0); fill-opacity: 0;\"/></g><g class=\"traces\" transform=\"translate(0,52.5)\" style=\"opacity: 1;\"><text class=\"legendtext\" text-anchor=\"start\" x=\"40\" y=\"4.680000000000001\" style=\"font-family: 'Open Sans', verdana, arial, sans-serif; font-size: 12px; fill: rgb(42, 63, 95); fill-opacity: 1; white-space: pre;\">banned</text><g class=\"layers\" style=\"opacity: 1;\"><g class=\"legendfill\"/><g class=\"legendlines\"/><g class=\"legendsymbols\"><g class=\"legendpoints\"><path class=\"legendpie\" d=\"M6,6H-6V-6H6Z\" transform=\"translate(20,0)\" style=\"stroke-width: 0; fill: rgb(228, 87, 86); fill-opacity: 1; stroke: rgb(68, 68, 68); stroke-opacity: 1;\"/></g></g></g><rect class=\"legendtoggle\" x=\"0\" y=\"-9.5\" width=\"99.765625\" height=\"19\" style=\"fill: rgb(0, 0, 0); fill-opacity: 0;\"/></g></g></g><rect class=\"scrollbar\" rx=\"20\" ry=\"3\" width=\"0\" height=\"0\" x=\"0\" y=\"0\" style=\"fill: rgb(128, 139, 164); fill-opacity: 1;\"/></g><g class=\"g-gtitle\"><text class=\"gtitle\" x=\"45\" y=\"50\" text-anchor=\"start\" dy=\"0em\" style=\"font-family: 'Open Sans', verdana, arial, sans-serif; font-size: 17px; fill: rgb(42, 63, 95); opacity: 1; font-weight: normal; white-space: pre;\">Contributions of banned / unverified /others on the peak day (2021-04-17)</text></g></g></svg>"
      ]
     },
     "metadata": {},
     "output_type": "display_data"
    }
   ],
   "source": [
    "fig = px.pie(df_peak.banned_unverified.value_counts().to_frame().reset_index(),\n",
    "             values='banned_unverified', names='index', color_discrete_sequence = colors,\n",
    "             title = 'Contributions of banned / unverified /others on the peak day (2021-04-17)')\n",
    "\n",
    "fig.update_traces(textposition='inside', textinfo='percent+label')\n",
    "\n",
    "fig.show()"
   ]
  },
  {
   "cell_type": "markdown",
   "id": "ac46c11d",
   "metadata": {},
   "source": [
    "**NOTE:** 23% of peak day contributions were made by banned accounts and acoounts with unverified email address"
   ]
  },
  {
   "cell_type": "code",
   "execution_count": 19,
   "id": "b14bf801",
   "metadata": {},
   "outputs": [
    {
     "data": {
      "image/svg+xml": [
       "<svg class=\"main-svg\" xmlns=\"http://www.w3.org/2000/svg\" xmlns:xlink=\"http://www.w3.org/1999/xlink\" width=\"900\" height=\"500\" style=\"\" viewBox=\"0 0 900 500\"><rect x=\"0\" y=\"0\" width=\"900\" height=\"500\" style=\"fill: rgb(255, 255, 255); fill-opacity: 1;\"/><defs id=\"defs-05d720\"><g class=\"clips\"><clipPath id=\"clip05d720xyplot\" class=\"plotclip\"><rect width=\"660\" height=\"320\"/></clipPath><clipPath class=\"axesclip\" id=\"clip05d720x\"><rect x=\"80\" y=\"0\" width=\"660\" height=\"500\"/></clipPath><clipPath class=\"axesclip\" id=\"clip05d720y\"><rect x=\"0\" y=\"100\" width=\"900\" height=\"320\"/></clipPath><clipPath class=\"axesclip\" id=\"clip05d720xy\"><rect x=\"80\" y=\"100\" width=\"660\" height=\"320\"/></clipPath></g><g class=\"gradients\"/><g class=\"patterns\"/></defs><g class=\"bglayer\"><rect class=\"bg\" x=\"80\" y=\"100\" width=\"660\" height=\"320\" style=\"fill: rgb(229, 236, 246); fill-opacity: 1; stroke-width: 0;\"/></g><g class=\"layer-below\"><g class=\"imagelayer\"/><g class=\"shapelayer\"/></g><g class=\"cartesianlayer\"><g class=\"subplot xy\"><g class=\"layer-subplot\"><g class=\"shapelayer\"/><g class=\"imagelayer\"/></g><g class=\"gridlayer\"><g class=\"x\"/><g class=\"y\"><path class=\"ygrid crisp\" transform=\"translate(0,361.26)\" d=\"M80,0h660\" style=\"stroke: rgb(255, 255, 255); stroke-opacity: 1; stroke-width: 1px;\"/><path class=\"ygrid crisp\" transform=\"translate(0,302.51)\" d=\"M80,0h660\" style=\"stroke: rgb(255, 255, 255); stroke-opacity: 1; stroke-width: 1px;\"/><path class=\"ygrid crisp\" transform=\"translate(0,243.77)\" d=\"M80,0h660\" style=\"stroke: rgb(255, 255, 255); stroke-opacity: 1; stroke-width: 1px;\"/><path class=\"ygrid crisp\" transform=\"translate(0,185.01999999999998)\" d=\"M80,0h660\" style=\"stroke: rgb(255, 255, 255); stroke-opacity: 1; stroke-width: 1px;\"/><path class=\"ygrid crisp\" transform=\"translate(0,126.28)\" d=\"M80,0h660\" style=\"stroke: rgb(255, 255, 255); stroke-opacity: 1; stroke-width: 1px;\"/></g></g><g class=\"zerolinelayer\"><path class=\"yzl zl crisp\" transform=\"translate(0,420)\" d=\"M80,0h660\" style=\"stroke: rgb(255, 255, 255); stroke-opacity: 1; stroke-width: 2px;\"/></g><path class=\"xlines-below\"/><path class=\"ylines-below\"/><g class=\"overlines-below\"/><g class=\"xaxislayer-below\"/><g class=\"yaxislayer-below\"/><g class=\"overaxes-below\"/><g class=\"plot\" transform=\"translate(80,100)\" clip-path=\"url(#clip05d720xyplot)\"><g class=\"barlayer mlayer\"><g class=\"trace bars\" style=\"opacity: 1;\"><g class=\"points\"><g class=\"point\"><path d=\"M22,320V16H198V320Z\" style=\"vector-effect: non-scaling-stroke; opacity: 1; stroke-width: 0px; fill: rgb(76, 120, 168); fill-opacity: 1;\"/></g></g></g><g class=\"trace bars\" style=\"opacity: 1;\"><g class=\"points\"><g class=\"point\"><path d=\"M242,320V299.15H418V320Z\" style=\"vector-effect: non-scaling-stroke; opacity: 1; stroke-width: 0px; fill: rgb(245, 133, 24); fill-opacity: 1;\"/></g></g></g><g class=\"trace bars\" style=\"opacity: 1;\"><g class=\"points\"><g class=\"point\"><path d=\"M462,320V250.98H638V320Z\" style=\"vector-effect: non-scaling-stroke; opacity: 1; stroke-width: 0px; fill: rgb(228, 87, 86); fill-opacity: 1;\"/></g></g></g></g></g><g class=\"overplot\"/><path class=\"xlines-above crisp\" d=\"M0,0\" style=\"fill: none;\"/><path class=\"ylines-above crisp\" d=\"M0,0\" style=\"fill: none;\"/><g class=\"overlines-above\"/><g class=\"xaxislayer-above\"><g class=\"xtick\"><text text-anchor=\"middle\" x=\"0\" y=\"433\" transform=\"translate(190,0)\" style=\"font-family: 'Open Sans', verdana, arial, sans-serif; font-size: 12px; fill: rgb(42, 63, 95); fill-opacity: 1; white-space: pre; opacity: 1;\">others</text></g><g class=\"xtick\"><text text-anchor=\"middle\" x=\"0\" y=\"433\" transform=\"translate(410,0)\" style=\"font-family: 'Open Sans', verdana, arial, sans-serif; font-size: 12px; fill: rgb(42, 63, 95); fill-opacity: 1; white-space: pre; opacity: 1;\">banned</text></g><g class=\"xtick\"><text text-anchor=\"middle\" x=\"0\" y=\"433\" transform=\"translate(630,0)\" style=\"font-family: 'Open Sans', verdana, arial, sans-serif; font-size: 12px; fill: rgb(42, 63, 95); fill-opacity: 1; white-space: pre; opacity: 1;\">unverified</text></g></g><g class=\"yaxislayer-above\"><g class=\"ytick\"><text text-anchor=\"end\" x=\"79\" y=\"4.199999999999999\" transform=\"translate(0,420)\" style=\"font-family: 'Open Sans', verdana, arial, sans-serif; font-size: 12px; fill: rgb(42, 63, 95); fill-opacity: 1; white-space: pre; opacity: 1;\">0</text></g><g class=\"ytick\"><text text-anchor=\"end\" x=\"79\" y=\"4.199999999999999\" style=\"font-family: 'Open Sans', verdana, arial, sans-serif; font-size: 12px; fill: rgb(42, 63, 95); fill-opacity: 1; white-space: pre; opacity: 1;\" transform=\"translate(0,361.26)\">200</text></g><g class=\"ytick\"><text text-anchor=\"end\" x=\"79\" y=\"4.199999999999999\" style=\"font-family: 'Open Sans', verdana, arial, sans-serif; font-size: 12px; fill: rgb(42, 63, 95); fill-opacity: 1; white-space: pre; opacity: 1;\" transform=\"translate(0,302.51)\">400</text></g><g class=\"ytick\"><text text-anchor=\"end\" x=\"79\" y=\"4.199999999999999\" style=\"font-family: 'Open Sans', verdana, arial, sans-serif; font-size: 12px; fill: rgb(42, 63, 95); fill-opacity: 1; white-space: pre; opacity: 1;\" transform=\"translate(0,243.77)\">600</text></g><g class=\"ytick\"><text text-anchor=\"end\" x=\"79\" y=\"4.199999999999999\" style=\"font-family: 'Open Sans', verdana, arial, sans-serif; font-size: 12px; fill: rgb(42, 63, 95); fill-opacity: 1; white-space: pre; opacity: 1;\" transform=\"translate(0,185.01999999999998)\">800</text></g><g class=\"ytick\"><text text-anchor=\"end\" x=\"79\" y=\"4.199999999999999\" style=\"font-family: 'Open Sans', verdana, arial, sans-serif; font-size: 12px; fill: rgb(42, 63, 95); fill-opacity: 1; white-space: pre; opacity: 1;\" transform=\"translate(0,126.28)\">1000</text></g></g><g class=\"overaxes-above\"/></g></g><g class=\"polarlayer\"/><g class=\"ternarylayer\"/><g class=\"geolayer\"/><g class=\"funnelarealayer\"/><g class=\"pielayer\"/><g class=\"iciclelayer\"/><g class=\"treemaplayer\"/><g class=\"sunburstlayer\"/><g class=\"glimages\"/><defs id=\"topdefs-05d720\"><g class=\"clips\"/><clipPath id=\"legend05d720\"><rect width=\"135\" height=\"86\" x=\"0\" y=\"0\"/></clipPath></defs><g class=\"layer-above\"><g class=\"imagelayer\"/><g class=\"shapelayer\"/></g><g class=\"infolayer\"><g class=\"legend\" pointer-events=\"all\" transform=\"translate(753.2,100)\"><rect class=\"bg\" shape-rendering=\"crispEdges\" width=\"135\" height=\"86\" x=\"0\" y=\"0\" style=\"stroke: rgb(68, 68, 68); stroke-opacity: 1; fill: rgb(255, 255, 255); fill-opacity: 1; stroke-width: 0px;\"/><g class=\"scrollbox\" transform=\"\" clip-path=\"url(#legend05d720)\"><text class=\"legendtitletext\" text-anchor=\"start\" x=\"2\" y=\"18.2\" style=\"font-family: 'Open Sans', verdana, arial, sans-serif; font-size: 14px; fill: rgb(42, 63, 95); fill-opacity: 1; white-space: pre;\">banned_unverified</text><g class=\"groups\" transform=\"\"><g class=\"traces\" transform=\"translate(0,32.7)\" style=\"opacity: 1;\"><text class=\"legendtext\" text-anchor=\"start\" x=\"40\" y=\"4.680000000000001\" style=\"font-family: 'Open Sans', verdana, arial, sans-serif; font-size: 12px; fill: rgb(42, 63, 95); fill-opacity: 1; white-space: pre;\">others</text><g class=\"layers\" style=\"opacity: 1;\"><g class=\"legendfill\"/><g class=\"legendlines\"/><g class=\"legendsymbols\"><g class=\"legendpoints\"><path class=\"legendundefined\" d=\"M6,6H-6V-6H6Z\" transform=\"translate(20,0)\" style=\"stroke-width: 0px; fill: rgb(76, 120, 168); fill-opacity: 1;\"/></g></g></g><rect class=\"legendtoggle\" x=\"0\" y=\"-9.5\" width=\"99.765625\" height=\"19\" style=\"fill: rgb(0, 0, 0); fill-opacity: 0;\"/></g></g><g class=\"groups\" transform=\"\"><g class=\"traces\" transform=\"translate(0,51.7)\" style=\"opacity: 1;\"><text class=\"legendtext\" text-anchor=\"start\" x=\"40\" y=\"4.680000000000001\" style=\"font-family: 'Open Sans', verdana, arial, sans-serif; font-size: 12px; fill: rgb(42, 63, 95); fill-opacity: 1; white-space: pre;\">banned</text><g class=\"layers\" style=\"opacity: 1;\"><g class=\"legendfill\"/><g class=\"legendlines\"/><g class=\"legendsymbols\"><g class=\"legendpoints\"><path class=\"legendundefined\" d=\"M6,6H-6V-6H6Z\" transform=\"translate(20,0)\" style=\"stroke-width: 0px; fill: rgb(245, 133, 24); fill-opacity: 1;\"/></g></g></g><rect class=\"legendtoggle\" x=\"0\" y=\"-9.5\" width=\"99.765625\" height=\"19\" style=\"fill: rgb(0, 0, 0); fill-opacity: 0;\"/></g></g><g class=\"groups\" transform=\"\"><g class=\"traces\" transform=\"translate(0,70.7)\" style=\"opacity: 1;\"><text class=\"legendtext\" text-anchor=\"start\" x=\"40\" y=\"4.680000000000001\" style=\"font-family: 'Open Sans', verdana, arial, sans-serif; font-size: 12px; fill: rgb(42, 63, 95); fill-opacity: 1; white-space: pre;\">unverified</text><g class=\"layers\" style=\"opacity: 1;\"><g class=\"legendfill\"/><g class=\"legendlines\"/><g class=\"legendsymbols\"><g class=\"legendpoints\"><path class=\"legendundefined\" d=\"M6,6H-6V-6H6Z\" transform=\"translate(20,0)\" style=\"stroke-width: 0px; fill: rgb(228, 87, 86); fill-opacity: 1;\"/></g></g></g><rect class=\"legendtoggle\" x=\"0\" y=\"-9.5\" width=\"99.765625\" height=\"19\" style=\"fill: rgb(0, 0, 0); fill-opacity: 0;\"/></g></g></g><rect class=\"scrollbar\" rx=\"20\" ry=\"3\" width=\"0\" height=\"0\" x=\"0\" y=\"0\" style=\"fill: rgb(128, 139, 164); fill-opacity: 1;\"/></g><g class=\"g-gtitle\"><text class=\"gtitle\" x=\"45\" y=\"50\" text-anchor=\"start\" dy=\"0em\" style=\"font-family: 'Open Sans', verdana, arial, sans-serif; font-size: 17px; fill: rgb(42, 63, 95); opacity: 1; font-weight: normal; white-space: pre;\">Contributions of banned / unverified /others on the peak day (2021-04-17)</text></g><g class=\"g-xtitle\"><text class=\"xtitle\" x=\"410\" y=\"460.8\" text-anchor=\"middle\" style=\"font-family: 'Open Sans', verdana, arial, sans-serif; font-size: 14px; fill: rgb(42, 63, 95); opacity: 1; font-weight: normal; white-space: pre;\">banned_unverified</text></g><g class=\"g-ytitle\"><text class=\"ytitle\" transform=\"rotate(-90,23.684375000000003,260)\" x=\"23.684375000000003\" y=\"260\" text-anchor=\"middle\" style=\"font-family: 'Open Sans', verdana, arial, sans-serif; font-size: 14px; fill: rgb(42, 63, 95); opacity: 1; font-weight: normal; white-space: pre;\">count</text></g></g></svg>"
      ]
     },
     "metadata": {},
     "output_type": "display_data"
    }
   ],
   "source": [
    "fig = px.histogram(df_peak, \n",
    "                   x='banned_unverified', color=\"banned_unverified\", \n",
    "                   color_discrete_sequence = colors, \n",
    "                   category_orders = dict(creation_year=['2018', '2019', '2020', '2021', 'banned', 'others']),\n",
    "                   title = 'Contributions of banned / unverified /others on the peak day (2021-04-17)')\n",
    "fig.show()"
   ]
  },
  {
   "cell_type": "markdown",
   "id": "37d1c80e",
   "metadata": {},
   "source": [
    "<a id='submissions'></a>\n",
    ">>### Submissions\n",
    "\n",
    "<ul>\n",
    "<li><a href=\"#contributions\">Contributions</a></li>\n",
    "<li><a href=\"#peak_contributions\">Peak Day Contributions</a></li>\n",
    "<li><a href=\"#submissions\"><b><mark>Submissions</mark></b></a></li>\n",
    "<li><a href=\"#peak_submissions\">Peak Day Submissions</a></li>\n",
    "</ul>"
   ]
  },
  {
   "cell_type": "code",
   "execution_count": 20,
   "id": "311122a8",
   "metadata": {},
   "outputs": [
    {
     "data": {
      "image/svg+xml": [
       "<svg class=\"main-svg\" xmlns=\"http://www.w3.org/2000/svg\" xmlns:xlink=\"http://www.w3.org/1999/xlink\" width=\"900\" height=\"500\" style=\"\" viewBox=\"0 0 900 500\"><rect x=\"0\" y=\"0\" width=\"900\" height=\"500\" style=\"fill: rgb(255, 255, 255); fill-opacity: 1;\"/><defs id=\"defs-49bd7a\"><g class=\"clips\"/><g class=\"gradients\"/><g class=\"patterns\"/></defs><g class=\"bglayer\"/><g class=\"layer-below\"><g class=\"imagelayer\"/><g class=\"shapelayer\"/></g><g class=\"cartesianlayer\"/><g class=\"polarlayer\"/><g class=\"ternarylayer\"/><g class=\"geolayer\"/><g class=\"funnelarealayer\"/><g class=\"pielayer\"><g class=\"trace\" stroke-linejoin=\"round\" style=\"opacity: 1;\"><g class=\"slice\"><path class=\"surface\" d=\"M424.5,260l0,-160a160,160 0 1 1 -149.7516540461211,103.65781233879126Z\" style=\"pointer-events: all; stroke-width: 0; fill: rgb(76, 120, 168); fill-opacity: 1; stroke: rgb(68, 68, 68); stroke-opacity: 1;\"/><g class=\"slicetext\"><text data-notex=\"1\" class=\"slicetext\" transform=\"translate(469.9928630772894,322.474060992383)\" text-anchor=\"middle\" x=\"0\" y=\"0\" style=\"font-family: 'Open Sans', verdana, arial, sans-serif; font-size: 12px; fill: rgb(255, 255, 255); fill-opacity: 1; white-space: pre;\"><tspan class=\"line\" dy=\"0em\" x=\"0\" y=\"0\">others</tspan><tspan class=\"line\" dy=\"1.3em\" x=\"0\" y=\"0\">80.7%</tspan></text></g></g><g class=\"slice\"><path class=\"surface\" d=\"M424.5,260l-108.38021727997587,-117.701862781968a160,160 0 0 1 108.38021727997587,-42.298137218032Z\" style=\"pointer-events: all; stroke-width: 0; fill: rgb(245, 133, 24); fill-opacity: 1; stroke: rgb(68, 68, 68); stroke-opacity: 1;\"/><g class=\"slicetext\"><text data-notex=\"1\" class=\"slicetext\" transform=\"translate(381.8392173379216,147.3858913683569)\" text-anchor=\"middle\" x=\"0\" y=\"0\" style=\"font-family: 'Open Sans', verdana, arial, sans-serif; font-size: 12px; fill: rgb(68, 68, 68); fill-opacity: 1; white-space: pre;\"><tspan class=\"line\" dy=\"0em\" x=\"0\" y=\"0\">banned</tspan><tspan class=\"line\" dy=\"1.3em\" x=\"0\" y=\"0\">11.8%</tspan></text></g></g><g class=\"slice\"><path class=\"surface\" d=\"M424.5,260l-149.75165404612108,-56.342187661208776a160,160 0 0 1 41.37143676614521,-61.35967512075923Z\" style=\"pointer-events: all; stroke-width: 0; fill: rgb(228, 87, 86); fill-opacity: 1; stroke: rgb(68, 68, 68); stroke-opacity: 1;\"/><g class=\"slicetext\"><text data-notex=\"1\" class=\"slicetext\" transform=\"translate(326.37368024412837,189.85316138869482)rotate(33.989610389610334)\" text-anchor=\"middle\" x=\"0\" y=\"0\" style=\"font-family: 'Open Sans', verdana, arial, sans-serif; font-size: 12px; fill: rgb(68, 68, 68); fill-opacity: 1; white-space: pre;\"><tspan class=\"line\" dy=\"0em\" x=\"0\" y=\"0\">unverified</tspan><tspan class=\"line\" dy=\"1.3em\" x=\"0\" y=\"0\">7.43%</tspan></text></g></g></g></g><g class=\"iciclelayer\"/><g class=\"treemaplayer\"/><g class=\"sunburstlayer\"/><g class=\"glimages\"/><defs id=\"topdefs-49bd7a\"><g class=\"clips\"/><clipPath id=\"legend49bd7a\"><rect width=\"105\" height=\"67\" x=\"0\" y=\"0\"/></clipPath></defs><g class=\"layer-above\"><g class=\"imagelayer\"/><g class=\"shapelayer\"/></g><g class=\"infolayer\"><g class=\"legend\" pointer-events=\"all\" transform=\"translate(782.78,100)\"><rect class=\"bg\" shape-rendering=\"crispEdges\" width=\"105\" height=\"67\" x=\"0\" y=\"0\" style=\"stroke: rgb(68, 68, 68); stroke-opacity: 1; fill: rgb(255, 255, 255); fill-opacity: 1; stroke-width: 0px;\"/><g class=\"scrollbox\" transform=\"\" clip-path=\"url(#legend49bd7a)\"><g class=\"groups\"><g class=\"traces\" transform=\"translate(0,14.5)\" style=\"opacity: 1;\"><text class=\"legendtext\" text-anchor=\"start\" x=\"40\" y=\"4.680000000000001\" style=\"font-family: 'Open Sans', verdana, arial, sans-serif; font-size: 12px; fill: rgb(42, 63, 95); fill-opacity: 1; white-space: pre;\">others</text><g class=\"layers\" style=\"opacity: 1;\"><g class=\"legendfill\"/><g class=\"legendlines\"/><g class=\"legendsymbols\"><g class=\"legendpoints\"><path class=\"legendpie\" d=\"M6,6H-6V-6H6Z\" transform=\"translate(20,0)\" style=\"stroke-width: 0; fill: rgb(76, 120, 168); fill-opacity: 1; stroke: rgb(68, 68, 68); stroke-opacity: 1;\"/></g></g></g><rect class=\"legendtoggle\" x=\"0\" y=\"-9.5\" width=\"99.765625\" height=\"19\" style=\"fill: rgb(0, 0, 0); fill-opacity: 0;\"/></g><g class=\"traces\" transform=\"translate(0,33.5)\" style=\"opacity: 1;\"><text class=\"legendtext\" text-anchor=\"start\" x=\"40\" y=\"4.680000000000001\" style=\"font-family: 'Open Sans', verdana, arial, sans-serif; font-size: 12px; fill: rgb(42, 63, 95); fill-opacity: 1; white-space: pre;\">banned</text><g class=\"layers\" style=\"opacity: 1;\"><g class=\"legendfill\"/><g class=\"legendlines\"/><g class=\"legendsymbols\"><g class=\"legendpoints\"><path class=\"legendpie\" d=\"M6,6H-6V-6H6Z\" transform=\"translate(20,0)\" style=\"stroke-width: 0; fill: rgb(245, 133, 24); fill-opacity: 1; stroke: rgb(68, 68, 68); stroke-opacity: 1;\"/></g></g></g><rect class=\"legendtoggle\" x=\"0\" y=\"-9.5\" width=\"99.765625\" height=\"19\" style=\"fill: rgb(0, 0, 0); fill-opacity: 0;\"/></g><g class=\"traces\" transform=\"translate(0,52.5)\" style=\"opacity: 1;\"><text class=\"legendtext\" text-anchor=\"start\" x=\"40\" y=\"4.680000000000001\" style=\"font-family: 'Open Sans', verdana, arial, sans-serif; font-size: 12px; fill: rgb(42, 63, 95); fill-opacity: 1; white-space: pre;\">unverified</text><g class=\"layers\" style=\"opacity: 1;\"><g class=\"legendfill\"/><g class=\"legendlines\"/><g class=\"legendsymbols\"><g class=\"legendpoints\"><path class=\"legendpie\" d=\"M6,6H-6V-6H6Z\" transform=\"translate(20,0)\" style=\"stroke-width: 0; fill: rgb(228, 87, 86); fill-opacity: 1; stroke: rgb(68, 68, 68); stroke-opacity: 1;\"/></g></g></g><rect class=\"legendtoggle\" x=\"0\" y=\"-9.5\" width=\"99.765625\" height=\"19\" style=\"fill: rgb(0, 0, 0); fill-opacity: 0;\"/></g></g></g><rect class=\"scrollbar\" rx=\"20\" ry=\"3\" width=\"0\" height=\"0\" x=\"0\" y=\"0\" style=\"fill: rgb(128, 139, 164); fill-opacity: 1;\"/></g><g class=\"g-gtitle\"><text class=\"gtitle\" x=\"45\" y=\"50\" text-anchor=\"start\" dy=\"0em\" style=\"font-family: 'Open Sans', verdana, arial, sans-serif; font-size: 17px; fill: rgb(42, 63, 95); opacity: 1; font-weight: normal; white-space: pre;\">Submissions of banned / unverified /others in 2021</text></g></g></svg>"
      ]
     },
     "metadata": {},
     "output_type": "display_data"
    }
   ],
   "source": [
    "fig = px.pie(df_submissions.banned_unverified.value_counts().to_frame().reset_index(),\n",
    "             values='banned_unverified', names='index', color_discrete_sequence = colors,\n",
    "             title = 'Submissions of banned / unverified /others in 2021')\n",
    "\n",
    "fig.update_traces(textposition='inside', textinfo='percent+label')\n",
    "\n",
    "fig.show()"
   ]
  },
  {
   "cell_type": "markdown",
   "id": "40a035de",
   "metadata": {},
   "source": [
    "**NOTE:** About 20% of 2021 submissions were made by banned and unverified accounts."
   ]
  },
  {
   "cell_type": "code",
   "execution_count": 21,
   "id": "562e47d7",
   "metadata": {},
   "outputs": [
    {
     "data": {
      "image/svg+xml": [
       "<svg class=\"main-svg\" xmlns=\"http://www.w3.org/2000/svg\" xmlns:xlink=\"http://www.w3.org/1999/xlink\" width=\"900\" height=\"500\" style=\"\" viewBox=\"0 0 900 500\"><rect x=\"0\" y=\"0\" width=\"900\" height=\"500\" style=\"fill: rgb(255, 255, 255); fill-opacity: 1;\"/><defs id=\"defs-0e6881\"><g class=\"clips\"><clipPath id=\"clip0e6881xyplot\" class=\"plotclip\"><rect width=\"660\" height=\"320\"/></clipPath><clipPath class=\"axesclip\" id=\"clip0e6881x\"><rect x=\"80\" y=\"0\" width=\"660\" height=\"500\"/></clipPath><clipPath class=\"axesclip\" id=\"clip0e6881y\"><rect x=\"0\" y=\"100\" width=\"900\" height=\"320\"/></clipPath><clipPath class=\"axesclip\" id=\"clip0e6881xy\"><rect x=\"80\" y=\"100\" width=\"660\" height=\"320\"/></clipPath></g><g class=\"gradients\"/><g class=\"patterns\"/></defs><g class=\"bglayer\"><rect class=\"bg\" x=\"80\" y=\"100\" width=\"660\" height=\"320\" style=\"fill: rgb(229, 236, 246); fill-opacity: 1; stroke-width: 0;\"/></g><g class=\"layer-below\"><g class=\"imagelayer\"/><g class=\"shapelayer\"/></g><g class=\"cartesianlayer\"><g class=\"subplot xy\"><g class=\"layer-subplot\"><g class=\"shapelayer\"/><g class=\"imagelayer\"/></g><g class=\"gridlayer\"><g class=\"x\"/><g class=\"y\"><path class=\"ygrid crisp\" transform=\"translate(0,380.88)\" d=\"M80,0h660\" style=\"stroke: rgb(255, 255, 255); stroke-opacity: 1; stroke-width: 1px;\"/><path class=\"ygrid crisp\" transform=\"translate(0,341.75)\" d=\"M80,0h660\" style=\"stroke: rgb(255, 255, 255); stroke-opacity: 1; stroke-width: 1px;\"/><path class=\"ygrid crisp\" transform=\"translate(0,302.63)\" d=\"M80,0h660\" style=\"stroke: rgb(255, 255, 255); stroke-opacity: 1; stroke-width: 1px;\"/><path class=\"ygrid crisp\" transform=\"translate(0,263.5)\" d=\"M80,0h660\" style=\"stroke: rgb(255, 255, 255); stroke-opacity: 1; stroke-width: 1px;\"/><path class=\"ygrid crisp\" transform=\"translate(0,224.38)\" d=\"M80,0h660\" style=\"stroke: rgb(255, 255, 255); stroke-opacity: 1; stroke-width: 1px;\"/><path class=\"ygrid crisp\" transform=\"translate(0,185.25)\" d=\"M80,0h660\" style=\"stroke: rgb(255, 255, 255); stroke-opacity: 1; stroke-width: 1px;\"/><path class=\"ygrid crisp\" transform=\"translate(0,146.13)\" d=\"M80,0h660\" style=\"stroke: rgb(255, 255, 255); stroke-opacity: 1; stroke-width: 1px;\"/><path class=\"ygrid crisp\" transform=\"translate(0,107)\" d=\"M80,0h660\" style=\"stroke: rgb(255, 255, 255); stroke-opacity: 1; stroke-width: 1px;\"/></g></g><g class=\"zerolinelayer\"><path class=\"yzl zl crisp\" transform=\"translate(0,420)\" d=\"M80,0h660\" style=\"stroke: rgb(255, 255, 255); stroke-opacity: 1; stroke-width: 2px;\"/></g><path class=\"xlines-below\"/><path class=\"ylines-below\"/><g class=\"overlines-below\"/><g class=\"xaxislayer-below\"/><g class=\"yaxislayer-below\"/><g class=\"overaxes-below\"/><g class=\"plot\" transform=\"translate(80,100)\" clip-path=\"url(#clip0e6881xyplot)\"><g class=\"barlayer mlayer\"><g class=\"trace bars\" style=\"opacity: 1;\"><g class=\"points\"><g class=\"point\"><path d=\"M22,320V16H198V320Z\" style=\"vector-effect: non-scaling-stroke; opacity: 1; stroke-width: 0px; fill: rgb(76, 120, 168); fill-opacity: 1;\"/></g></g></g><g class=\"trace bars\" style=\"opacity: 1;\"><g class=\"points\"><g class=\"point\"><path d=\"M242,320V292.03H418V320Z\" style=\"vector-effect: non-scaling-stroke; opacity: 1; stroke-width: 0px; fill: rgb(245, 133, 24); fill-opacity: 1;\"/></g></g></g><g class=\"trace bars\" style=\"opacity: 1;\"><g class=\"points\"><g class=\"point\"><path d=\"M462,320V275.4H638V320Z\" style=\"vector-effect: non-scaling-stroke; opacity: 1; stroke-width: 0px; fill: rgb(228, 87, 86); fill-opacity: 1;\"/></g></g></g></g></g><g class=\"overplot\"/><path class=\"xlines-above crisp\" d=\"M0,0\" style=\"fill: none;\"/><path class=\"ylines-above crisp\" d=\"M0,0\" style=\"fill: none;\"/><g class=\"overlines-above\"/><g class=\"xaxislayer-above\"><g class=\"xtick\"><text text-anchor=\"middle\" x=\"0\" y=\"433\" transform=\"translate(190,0)\" style=\"font-family: 'Open Sans', verdana, arial, sans-serif; font-size: 12px; fill: rgb(42, 63, 95); fill-opacity: 1; white-space: pre; opacity: 1;\">others</text></g><g class=\"xtick\"><text text-anchor=\"middle\" x=\"0\" y=\"433\" transform=\"translate(410,0)\" style=\"font-family: 'Open Sans', verdana, arial, sans-serif; font-size: 12px; fill: rgb(42, 63, 95); fill-opacity: 1; white-space: pre; opacity: 1;\">unverified</text></g><g class=\"xtick\"><text text-anchor=\"middle\" x=\"0\" y=\"433\" transform=\"translate(630,0)\" style=\"font-family: 'Open Sans', verdana, arial, sans-serif; font-size: 12px; fill: rgb(42, 63, 95); fill-opacity: 1; white-space: pre; opacity: 1;\">banned</text></g></g><g class=\"yaxislayer-above\"><g class=\"ytick\"><text text-anchor=\"end\" x=\"79\" y=\"4.199999999999999\" transform=\"translate(0,420)\" style=\"font-family: 'Open Sans', verdana, arial, sans-serif; font-size: 12px; fill: rgb(42, 63, 95); fill-opacity: 1; white-space: pre; opacity: 1;\">0</text></g><g class=\"ytick\"><text text-anchor=\"end\" x=\"79\" y=\"4.199999999999999\" style=\"font-family: 'Open Sans', verdana, arial, sans-serif; font-size: 12px; fill: rgb(42, 63, 95); fill-opacity: 1; white-space: pre; opacity: 1;\" transform=\"translate(0,380.88)\">200</text></g><g class=\"ytick\"><text text-anchor=\"end\" x=\"79\" y=\"4.199999999999999\" style=\"font-family: 'Open Sans', verdana, arial, sans-serif; font-size: 12px; fill: rgb(42, 63, 95); fill-opacity: 1; white-space: pre; opacity: 1;\" transform=\"translate(0,341.75)\">400</text></g><g class=\"ytick\"><text text-anchor=\"end\" x=\"79\" y=\"4.199999999999999\" style=\"font-family: 'Open Sans', verdana, arial, sans-serif; font-size: 12px; fill: rgb(42, 63, 95); fill-opacity: 1; white-space: pre; opacity: 1;\" transform=\"translate(0,302.63)\">600</text></g><g class=\"ytick\"><text text-anchor=\"end\" x=\"79\" y=\"4.199999999999999\" style=\"font-family: 'Open Sans', verdana, arial, sans-serif; font-size: 12px; fill: rgb(42, 63, 95); fill-opacity: 1; white-space: pre; opacity: 1;\" transform=\"translate(0,263.5)\">800</text></g><g class=\"ytick\"><text text-anchor=\"end\" x=\"79\" y=\"4.199999999999999\" style=\"font-family: 'Open Sans', verdana, arial, sans-serif; font-size: 12px; fill: rgb(42, 63, 95); fill-opacity: 1; white-space: pre; opacity: 1;\" transform=\"translate(0,224.38)\">1000</text></g><g class=\"ytick\"><text text-anchor=\"end\" x=\"79\" y=\"4.199999999999999\" style=\"font-family: 'Open Sans', verdana, arial, sans-serif; font-size: 12px; fill: rgb(42, 63, 95); fill-opacity: 1; white-space: pre; opacity: 1;\" transform=\"translate(0,185.25)\">1200</text></g><g class=\"ytick\"><text text-anchor=\"end\" x=\"79\" y=\"4.199999999999999\" style=\"font-family: 'Open Sans', verdana, arial, sans-serif; font-size: 12px; fill: rgb(42, 63, 95); fill-opacity: 1; white-space: pre; opacity: 1;\" transform=\"translate(0,146.13)\">1400</text></g><g class=\"ytick\"><text text-anchor=\"end\" x=\"79\" y=\"4.199999999999999\" style=\"font-family: 'Open Sans', verdana, arial, sans-serif; font-size: 12px; fill: rgb(42, 63, 95); fill-opacity: 1; white-space: pre; opacity: 1;\" transform=\"translate(0,107)\">1600</text></g></g><g class=\"overaxes-above\"/></g></g><g class=\"polarlayer\"/><g class=\"ternarylayer\"/><g class=\"geolayer\"/><g class=\"funnelarealayer\"/><g class=\"pielayer\"/><g class=\"iciclelayer\"/><g class=\"treemaplayer\"/><g class=\"sunburstlayer\"/><g class=\"glimages\"/><defs id=\"topdefs-0e6881\"><g class=\"clips\"/><clipPath id=\"legend0e6881\"><rect width=\"135\" height=\"86\" x=\"0\" y=\"0\"/></clipPath></defs><g class=\"layer-above\"><g class=\"imagelayer\"/><g class=\"shapelayer\"/></g><g class=\"infolayer\"><g class=\"legend\" pointer-events=\"all\" transform=\"translate(753.2,100)\"><rect class=\"bg\" shape-rendering=\"crispEdges\" width=\"135\" height=\"86\" x=\"0\" y=\"0\" style=\"stroke: rgb(68, 68, 68); stroke-opacity: 1; fill: rgb(255, 255, 255); fill-opacity: 1; stroke-width: 0px;\"/><g class=\"scrollbox\" transform=\"\" clip-path=\"url(#legend0e6881)\"><text class=\"legendtitletext\" text-anchor=\"start\" x=\"2\" y=\"18.2\" style=\"font-family: 'Open Sans', verdana, arial, sans-serif; font-size: 14px; fill: rgb(42, 63, 95); fill-opacity: 1; white-space: pre;\">banned_unverified</text><g class=\"groups\" transform=\"\"><g class=\"traces\" transform=\"translate(0,32.7)\" style=\"opacity: 1;\"><text class=\"legendtext\" text-anchor=\"start\" x=\"40\" y=\"4.680000000000001\" style=\"font-family: 'Open Sans', verdana, arial, sans-serif; font-size: 12px; fill: rgb(42, 63, 95); fill-opacity: 1; white-space: pre;\">others</text><g class=\"layers\" style=\"opacity: 1;\"><g class=\"legendfill\"/><g class=\"legendlines\"/><g class=\"legendsymbols\"><g class=\"legendpoints\"><path class=\"legendundefined\" d=\"M6,6H-6V-6H6Z\" transform=\"translate(20,0)\" style=\"stroke-width: 0px; fill: rgb(76, 120, 168); fill-opacity: 1;\"/></g></g></g><rect class=\"legendtoggle\" x=\"0\" y=\"-9.5\" width=\"99.765625\" height=\"19\" style=\"fill: rgb(0, 0, 0); fill-opacity: 0;\"/></g></g><g class=\"groups\" transform=\"\"><g class=\"traces\" transform=\"translate(0,51.7)\" style=\"opacity: 1;\"><text class=\"legendtext\" text-anchor=\"start\" x=\"40\" y=\"4.680000000000001\" style=\"font-family: 'Open Sans', verdana, arial, sans-serif; font-size: 12px; fill: rgb(42, 63, 95); fill-opacity: 1; white-space: pre;\">unverified</text><g class=\"layers\" style=\"opacity: 1;\"><g class=\"legendfill\"/><g class=\"legendlines\"/><g class=\"legendsymbols\"><g class=\"legendpoints\"><path class=\"legendundefined\" d=\"M6,6H-6V-6H6Z\" transform=\"translate(20,0)\" style=\"stroke-width: 0px; fill: rgb(245, 133, 24); fill-opacity: 1;\"/></g></g></g><rect class=\"legendtoggle\" x=\"0\" y=\"-9.5\" width=\"99.765625\" height=\"19\" style=\"fill: rgb(0, 0, 0); fill-opacity: 0;\"/></g></g><g class=\"groups\" transform=\"\"><g class=\"traces\" transform=\"translate(0,70.7)\" style=\"opacity: 1;\"><text class=\"legendtext\" text-anchor=\"start\" x=\"40\" y=\"4.680000000000001\" style=\"font-family: 'Open Sans', verdana, arial, sans-serif; font-size: 12px; fill: rgb(42, 63, 95); fill-opacity: 1; white-space: pre;\">banned</text><g class=\"layers\" style=\"opacity: 1;\"><g class=\"legendfill\"/><g class=\"legendlines\"/><g class=\"legendsymbols\"><g class=\"legendpoints\"><path class=\"legendundefined\" d=\"M6,6H-6V-6H6Z\" transform=\"translate(20,0)\" style=\"stroke-width: 0px; fill: rgb(228, 87, 86); fill-opacity: 1;\"/></g></g></g><rect class=\"legendtoggle\" x=\"0\" y=\"-9.5\" width=\"99.765625\" height=\"19\" style=\"fill: rgb(0, 0, 0); fill-opacity: 0;\"/></g></g></g><rect class=\"scrollbar\" rx=\"20\" ry=\"3\" width=\"0\" height=\"0\" x=\"0\" y=\"0\" style=\"fill: rgb(128, 139, 164); fill-opacity: 1;\"/></g><g class=\"g-gtitle\"><text class=\"gtitle\" x=\"45\" y=\"50\" text-anchor=\"start\" dy=\"0em\" style=\"font-family: 'Open Sans', verdana, arial, sans-serif; font-size: 17px; fill: rgb(42, 63, 95); opacity: 1; font-weight: normal; white-space: pre;\">Submissions of banned / unverified /others in 2021</text></g><g class=\"g-xtitle\"><text class=\"xtitle\" x=\"410\" y=\"460.8\" text-anchor=\"middle\" style=\"font-family: 'Open Sans', verdana, arial, sans-serif; font-size: 14px; fill: rgb(42, 63, 95); opacity: 1; font-weight: normal; white-space: pre;\">banned_unverified</text></g><g class=\"g-ytitle\"><text class=\"ytitle\" transform=\"rotate(-90,23.684375000000003,260)\" x=\"23.684375000000003\" y=\"260\" text-anchor=\"middle\" style=\"font-family: 'Open Sans', verdana, arial, sans-serif; font-size: 14px; fill: rgb(42, 63, 95); opacity: 1; font-weight: normal; white-space: pre;\">count</text></g></g></svg>"
      ]
     },
     "metadata": {},
     "output_type": "display_data"
    }
   ],
   "source": [
    "fig = px.histogram(df_submissions, x='banned_unverified', color=\"banned_unverified\", \n",
    "                   color_discrete_sequence = colors, \n",
    "                   title = 'Submissions of banned / unverified /others in 2021')\n",
    "fig.show()"
   ]
  },
  {
   "cell_type": "markdown",
   "id": "b51e3cf5",
   "metadata": {},
   "source": [
    "<a id='peak_submissions'></a>\n",
    ">>### Peak Day Submissions\n",
    "\n",
    "<ul>\n",
    "<li><a href=\"#contributions\">Contributions</a></li>\n",
    "<li><a href=\"#peak_contributions\">Peak Day Contributions</a></li>\n",
    "<li><a href=\"#submissions\">Submissions</a></li>\n",
    "<li><a href=\"#peak_submissions\"><b><mark>Peak Day Submissions</mark></b></a></li>\n",
    "</ul>"
   ]
  },
  {
   "cell_type": "code",
   "execution_count": 22,
   "id": "616416aa",
   "metadata": {},
   "outputs": [
    {
     "data": {
      "image/svg+xml": [
       "<svg class=\"main-svg\" xmlns=\"http://www.w3.org/2000/svg\" xmlns:xlink=\"http://www.w3.org/1999/xlink\" width=\"900\" height=\"500\" style=\"\" viewBox=\"0 0 900 500\"><rect x=\"0\" y=\"0\" width=\"900\" height=\"500\" style=\"fill: rgb(255, 255, 255); fill-opacity: 1;\"/><defs id=\"defs-8eb257\"><g class=\"clips\"/><g class=\"gradients\"/><g class=\"patterns\"/></defs><g class=\"bglayer\"/><g class=\"layer-below\"><g class=\"imagelayer\"/><g class=\"shapelayer\"/></g><g class=\"cartesianlayer\"/><g class=\"polarlayer\"/><g class=\"ternarylayer\"/><g class=\"geolayer\"/><g class=\"funnelarealayer\"/><g class=\"pielayer\"><g class=\"trace\" stroke-linejoin=\"round\" style=\"opacity: 1;\"><g class=\"slice\"><path class=\"surface\" d=\"M432,260l0,-160a160,160 0 1 1 -102.84601754984634,37.43288910096355Z\" style=\"pointer-events: all; stroke-width: 0; fill: rgb(76, 120, 168); fill-opacity: 1; stroke: rgb(68, 68, 68); stroke-opacity: 1;\"/><g class=\"slicetext\"><text data-notex=\"1\" class=\"slicetext\" transform=\"translate(459.3225489660535,331.87072216287265)\" text-anchor=\"middle\" x=\"0\" y=\"0\" style=\"font-family: 'Open Sans', verdana, arial, sans-serif; font-size: 12px; fill: rgb(255, 255, 255); fill-opacity: 1; white-space: pre;\"><tspan class=\"line\" dy=\"0em\" x=\"0\" y=\"0\">others</tspan><tspan class=\"line\" dy=\"1.3em\" x=\"0\" y=\"0\">88.9%</tspan></text></g></g><g class=\"slice\"><path class=\"surface\" d=\"M432,260l-102.84601754984628,-122.56711089903648a160,160 0 0 1 102.84601754984628,-37.43288910096352Z\" style=\"pointer-events: all; stroke-width: 0; fill: rgb(245, 133, 24); fill-opacity: 1; stroke: rgb(68, 68, 68); stroke-opacity: 1;\"/><g class=\"slicetext\"><text data-notex=\"1\" class=\"slicetext\" transform=\"translate(391.22324772525616,144.66210638644642)\" text-anchor=\"middle\" x=\"0\" y=\"0\" style=\"font-family: 'Open Sans', verdana, arial, sans-serif; font-size: 12px; fill: rgb(68, 68, 68); fill-opacity: 1; white-space: pre;\"><tspan class=\"line\" dy=\"0em\" x=\"0\" y=\"0\">banned</tspan><tspan class=\"line\" dy=\"1.3em\" x=\"0\" y=\"0\">11.1%</tspan></text></g></g></g></g><g class=\"iciclelayer\"/><g class=\"treemaplayer\"/><g class=\"sunburstlayer\"/><g class=\"glimages\"/><defs id=\"topdefs-8eb257\"><g class=\"clips\"/><clipPath id=\"legend8eb257\"><rect width=\"90\" height=\"48\" x=\"0\" y=\"0\"/></clipPath></defs><g class=\"layer-above\"><g class=\"imagelayer\"/><g class=\"shapelayer\"/></g><g class=\"infolayer\"><g class=\"legend\" pointer-events=\"all\" transform=\"translate(798.08,100)\"><rect class=\"bg\" shape-rendering=\"crispEdges\" width=\"90\" height=\"48\" x=\"0\" y=\"0\" style=\"stroke: rgb(68, 68, 68); stroke-opacity: 1; fill: rgb(255, 255, 255); fill-opacity: 1; stroke-width: 0px;\"/><g class=\"scrollbox\" transform=\"\" clip-path=\"url(#legend8eb257)\"><g class=\"groups\"><g class=\"traces\" transform=\"translate(0,14.5)\" style=\"opacity: 1;\"><text class=\"legendtext\" text-anchor=\"start\" x=\"40\" y=\"4.680000000000001\" style=\"font-family: 'Open Sans', verdana, arial, sans-serif; font-size: 12px; fill: rgb(42, 63, 95); fill-opacity: 1; white-space: pre;\">others</text><g class=\"layers\" style=\"opacity: 1;\"><g class=\"legendfill\"/><g class=\"legendlines\"/><g class=\"legendsymbols\"><g class=\"legendpoints\"><path class=\"legendpie\" d=\"M6,6H-6V-6H6Z\" transform=\"translate(20,0)\" style=\"stroke-width: 0; fill: rgb(76, 120, 168); fill-opacity: 1; stroke: rgb(68, 68, 68); stroke-opacity: 1;\"/></g></g></g><rect class=\"legendtoggle\" x=\"0\" y=\"-9.5\" width=\"84.5\" height=\"19\" style=\"fill: rgb(0, 0, 0); fill-opacity: 0;\"/></g><g class=\"traces\" transform=\"translate(0,33.5)\" style=\"opacity: 1;\"><text class=\"legendtext\" text-anchor=\"start\" x=\"40\" y=\"4.680000000000001\" style=\"font-family: 'Open Sans', verdana, arial, sans-serif; font-size: 12px; fill: rgb(42, 63, 95); fill-opacity: 1; white-space: pre;\">banned</text><g class=\"layers\" style=\"opacity: 1;\"><g class=\"legendfill\"/><g class=\"legendlines\"/><g class=\"legendsymbols\"><g class=\"legendpoints\"><path class=\"legendpie\" d=\"M6,6H-6V-6H6Z\" transform=\"translate(20,0)\" style=\"stroke-width: 0; fill: rgb(245, 133, 24); fill-opacity: 1; stroke: rgb(68, 68, 68); stroke-opacity: 1;\"/></g></g></g><rect class=\"legendtoggle\" x=\"0\" y=\"-9.5\" width=\"84.5\" height=\"19\" style=\"fill: rgb(0, 0, 0); fill-opacity: 0;\"/></g></g></g><rect class=\"scrollbar\" rx=\"20\" ry=\"3\" width=\"0\" height=\"0\" x=\"0\" y=\"0\" style=\"fill: rgb(128, 139, 164); fill-opacity: 1;\"/></g><g class=\"g-gtitle\"><text class=\"gtitle\" x=\"45\" y=\"50\" text-anchor=\"start\" dy=\"0em\" style=\"font-family: 'Open Sans', verdana, arial, sans-serif; font-size: 17px; fill: rgb(42, 63, 95); opacity: 1; font-weight: normal; white-space: pre;\">Submissions of banned / unverified /others on the peak day (2021-04-17)</text></g></g></svg>"
      ]
     },
     "metadata": {},
     "output_type": "display_data"
    }
   ],
   "source": [
    "fig = px.pie(df_peak_submissions.banned_unverified.value_counts().to_frame().reset_index(),\n",
    "             values='banned_unverified', names='index', color_discrete_sequence = colors,\n",
    "             title = 'Submissions of banned / unverified /others on the peak day (2021-04-17)')\n",
    "\n",
    "fig.update_traces(textposition='inside', textinfo='percent+label')\n",
    "\n",
    "fig.show()"
   ]
  },
  {
   "cell_type": "code",
   "execution_count": 23,
   "id": "a44e1204",
   "metadata": {},
   "outputs": [
    {
     "data": {
      "image/svg+xml": [
       "<svg class=\"main-svg\" xmlns=\"http://www.w3.org/2000/svg\" xmlns:xlink=\"http://www.w3.org/1999/xlink\" width=\"900\" height=\"500\" style=\"\" viewBox=\"0 0 900 500\"><rect x=\"0\" y=\"0\" width=\"900\" height=\"500\" style=\"fill: rgb(255, 255, 255); fill-opacity: 1;\"/><defs id=\"defs-0cd7d3\"><g class=\"clips\"><clipPath id=\"clip0cd7d3xyplot\" class=\"plotclip\"><rect width=\"660\" height=\"320\"/></clipPath><clipPath class=\"axesclip\" id=\"clip0cd7d3x\"><rect x=\"80\" y=\"0\" width=\"660\" height=\"500\"/></clipPath><clipPath class=\"axesclip\" id=\"clip0cd7d3y\"><rect x=\"0\" y=\"100\" width=\"900\" height=\"320\"/></clipPath><clipPath class=\"axesclip\" id=\"clip0cd7d3xy\"><rect x=\"80\" y=\"100\" width=\"660\" height=\"320\"/></clipPath></g><g class=\"gradients\"/><g class=\"patterns\"/></defs><g class=\"bglayer\"><rect class=\"bg\" x=\"80\" y=\"100\" width=\"660\" height=\"320\" style=\"fill: rgb(229, 236, 246); fill-opacity: 1; stroke-width: 0;\"/></g><g class=\"layer-below\"><g class=\"imagelayer\"/><g class=\"shapelayer\"/></g><g class=\"cartesianlayer\"><g class=\"subplot xy\"><g class=\"layer-subplot\"><g class=\"shapelayer\"/><g class=\"imagelayer\"/></g><g class=\"gridlayer\"><g class=\"x\"/><g class=\"y\"><path class=\"ygrid crisp\" transform=\"translate(0,382)\" d=\"M80,0h660\" style=\"stroke: rgb(255, 255, 255); stroke-opacity: 1; stroke-width: 1px;\"/><path class=\"ygrid crisp\" transform=\"translate(0,344)\" d=\"M80,0h660\" style=\"stroke: rgb(255, 255, 255); stroke-opacity: 1; stroke-width: 1px;\"/><path class=\"ygrid crisp\" transform=\"translate(0,306)\" d=\"M80,0h660\" style=\"stroke: rgb(255, 255, 255); stroke-opacity: 1; stroke-width: 1px;\"/><path class=\"ygrid crisp\" transform=\"translate(0,268)\" d=\"M80,0h660\" style=\"stroke: rgb(255, 255, 255); stroke-opacity: 1; stroke-width: 1px;\"/><path class=\"ygrid crisp\" transform=\"translate(0,230)\" d=\"M80,0h660\" style=\"stroke: rgb(255, 255, 255); stroke-opacity: 1; stroke-width: 1px;\"/><path class=\"ygrid crisp\" transform=\"translate(0,192)\" d=\"M80,0h660\" style=\"stroke: rgb(255, 255, 255); stroke-opacity: 1; stroke-width: 1px;\"/><path class=\"ygrid crisp\" transform=\"translate(0,154)\" d=\"M80,0h660\" style=\"stroke: rgb(255, 255, 255); stroke-opacity: 1; stroke-width: 1px;\"/><path class=\"ygrid crisp\" transform=\"translate(0,116)\" d=\"M80,0h660\" style=\"stroke: rgb(255, 255, 255); stroke-opacity: 1; stroke-width: 1px;\"/></g></g><g class=\"zerolinelayer\"><path class=\"yzl zl crisp\" transform=\"translate(0,420)\" d=\"M80,0h660\" style=\"stroke: rgb(255, 255, 255); stroke-opacity: 1; stroke-width: 2px;\"/></g><path class=\"xlines-below\"/><path class=\"ylines-below\"/><g class=\"overlines-below\"/><g class=\"xaxislayer-below\"/><g class=\"yaxislayer-below\"/><g class=\"overaxes-below\"/><g class=\"plot\" transform=\"translate(80,100)\" clip-path=\"url(#clip0cd7d3xyplot)\"><g class=\"barlayer mlayer\"><g class=\"trace bars\" style=\"opacity: 1;\"><g class=\"points\"><g class=\"point\"><path d=\"M33,320V16H297V320Z\" style=\"vector-effect: non-scaling-stroke; opacity: 1; stroke-width: 0px; fill: rgb(76, 120, 168); fill-opacity: 1;\"/></g></g></g><g class=\"trace bars\" style=\"opacity: 1;\"><g class=\"points\"><g class=\"point\"><path d=\"M363,320V282H627V320Z\" style=\"vector-effect: non-scaling-stroke; opacity: 1; stroke-width: 0px; fill: rgb(245, 133, 24); fill-opacity: 1;\"/></g></g></g></g></g><g class=\"overplot\"/><path class=\"xlines-above crisp\" d=\"M0,0\" style=\"fill: none;\"/><path class=\"ylines-above crisp\" d=\"M0,0\" style=\"fill: none;\"/><g class=\"overlines-above\"/><g class=\"xaxislayer-above\"><g class=\"xtick\"><text text-anchor=\"middle\" x=\"0\" y=\"433\" transform=\"translate(245,0)\" style=\"font-family: 'Open Sans', verdana, arial, sans-serif; font-size: 12px; fill: rgb(42, 63, 95); fill-opacity: 1; white-space: pre; opacity: 1;\">others</text></g><g class=\"xtick\"><text text-anchor=\"middle\" x=\"0\" y=\"433\" transform=\"translate(575,0)\" style=\"font-family: 'Open Sans', verdana, arial, sans-serif; font-size: 12px; fill: rgb(42, 63, 95); fill-opacity: 1; white-space: pre; opacity: 1;\">banned</text></g></g><g class=\"yaxislayer-above\"><g class=\"ytick\"><text text-anchor=\"end\" x=\"79\" y=\"4.199999999999999\" transform=\"translate(0,420)\" style=\"font-family: 'Open Sans', verdana, arial, sans-serif; font-size: 12px; fill: rgb(42, 63, 95); fill-opacity: 1; white-space: pre; opacity: 1;\">0</text></g><g class=\"ytick\"><text text-anchor=\"end\" x=\"79\" y=\"4.199999999999999\" style=\"font-family: 'Open Sans', verdana, arial, sans-serif; font-size: 12px; fill: rgb(42, 63, 95); fill-opacity: 1; white-space: pre; opacity: 1;\" transform=\"translate(0,382)\">2</text></g><g class=\"ytick\"><text text-anchor=\"end\" x=\"79\" y=\"4.199999999999999\" style=\"font-family: 'Open Sans', verdana, arial, sans-serif; font-size: 12px; fill: rgb(42, 63, 95); fill-opacity: 1; white-space: pre; opacity: 1;\" transform=\"translate(0,344)\">4</text></g><g class=\"ytick\"><text text-anchor=\"end\" x=\"79\" y=\"4.199999999999999\" style=\"font-family: 'Open Sans', verdana, arial, sans-serif; font-size: 12px; fill: rgb(42, 63, 95); fill-opacity: 1; white-space: pre; opacity: 1;\" transform=\"translate(0,306)\">6</text></g><g class=\"ytick\"><text text-anchor=\"end\" x=\"79\" y=\"4.199999999999999\" style=\"font-family: 'Open Sans', verdana, arial, sans-serif; font-size: 12px; fill: rgb(42, 63, 95); fill-opacity: 1; white-space: pre; opacity: 1;\" transform=\"translate(0,268)\">8</text></g><g class=\"ytick\"><text text-anchor=\"end\" x=\"79\" y=\"4.199999999999999\" style=\"font-family: 'Open Sans', verdana, arial, sans-serif; font-size: 12px; fill: rgb(42, 63, 95); fill-opacity: 1; white-space: pre; opacity: 1;\" transform=\"translate(0,230)\">10</text></g><g class=\"ytick\"><text text-anchor=\"end\" x=\"79\" y=\"4.199999999999999\" style=\"font-family: 'Open Sans', verdana, arial, sans-serif; font-size: 12px; fill: rgb(42, 63, 95); fill-opacity: 1; white-space: pre; opacity: 1;\" transform=\"translate(0,192)\">12</text></g><g class=\"ytick\"><text text-anchor=\"end\" x=\"79\" y=\"4.199999999999999\" style=\"font-family: 'Open Sans', verdana, arial, sans-serif; font-size: 12px; fill: rgb(42, 63, 95); fill-opacity: 1; white-space: pre; opacity: 1;\" transform=\"translate(0,154)\">14</text></g><g class=\"ytick\"><text text-anchor=\"end\" x=\"79\" y=\"4.199999999999999\" style=\"font-family: 'Open Sans', verdana, arial, sans-serif; font-size: 12px; fill: rgb(42, 63, 95); fill-opacity: 1; white-space: pre; opacity: 1;\" transform=\"translate(0,116)\">16</text></g></g><g class=\"overaxes-above\"/></g></g><g class=\"polarlayer\"/><g class=\"ternarylayer\"/><g class=\"geolayer\"/><g class=\"funnelarealayer\"/><g class=\"pielayer\"/><g class=\"iciclelayer\"/><g class=\"treemaplayer\"/><g class=\"sunburstlayer\"/><g class=\"glimages\"/><defs id=\"topdefs-0cd7d3\"><g class=\"clips\"/><clipPath id=\"legend0cd7d3\"><rect width=\"135\" height=\"67\" x=\"0\" y=\"0\"/></clipPath></defs><g class=\"layer-above\"><g class=\"imagelayer\"/><g class=\"shapelayer\"/></g><g class=\"infolayer\"><g class=\"legend\" pointer-events=\"all\" transform=\"translate(753.2,100)\"><rect class=\"bg\" shape-rendering=\"crispEdges\" width=\"135\" height=\"67\" x=\"0\" y=\"0\" style=\"stroke: rgb(68, 68, 68); stroke-opacity: 1; fill: rgb(255, 255, 255); fill-opacity: 1; stroke-width: 0px;\"/><g class=\"scrollbox\" transform=\"\" clip-path=\"url(#legend0cd7d3)\"><text class=\"legendtitletext\" text-anchor=\"start\" x=\"2\" y=\"18.2\" style=\"font-family: 'Open Sans', verdana, arial, sans-serif; font-size: 14px; fill: rgb(42, 63, 95); fill-opacity: 1; white-space: pre;\">banned_unverified</text><g class=\"groups\" transform=\"\"><g class=\"traces\" transform=\"translate(0,32.7)\" style=\"opacity: 1;\"><text class=\"legendtext\" text-anchor=\"start\" x=\"40\" y=\"4.680000000000001\" style=\"font-family: 'Open Sans', verdana, arial, sans-serif; font-size: 12px; fill: rgb(42, 63, 95); fill-opacity: 1; white-space: pre;\">others</text><g class=\"layers\" style=\"opacity: 1;\"><g class=\"legendfill\"/><g class=\"legendlines\"/><g class=\"legendsymbols\"><g class=\"legendpoints\"><path class=\"legendundefined\" d=\"M6,6H-6V-6H6Z\" transform=\"translate(20,0)\" style=\"stroke-width: 0px; fill: rgb(76, 120, 168); fill-opacity: 1;\"/></g></g></g><rect class=\"legendtoggle\" x=\"0\" y=\"-9.5\" width=\"84.5\" height=\"19\" style=\"fill: rgb(0, 0, 0); fill-opacity: 0;\"/></g></g><g class=\"groups\" transform=\"\"><g class=\"traces\" transform=\"translate(0,51.7)\" style=\"opacity: 1;\"><text class=\"legendtext\" text-anchor=\"start\" x=\"40\" y=\"4.680000000000001\" style=\"font-family: 'Open Sans', verdana, arial, sans-serif; font-size: 12px; fill: rgb(42, 63, 95); fill-opacity: 1; white-space: pre;\">banned</text><g class=\"layers\" style=\"opacity: 1;\"><g class=\"legendfill\"/><g class=\"legendlines\"/><g class=\"legendsymbols\"><g class=\"legendpoints\"><path class=\"legendundefined\" d=\"M6,6H-6V-6H6Z\" transform=\"translate(20,0)\" style=\"stroke-width: 0px; fill: rgb(245, 133, 24); fill-opacity: 1;\"/></g></g></g><rect class=\"legendtoggle\" x=\"0\" y=\"-9.5\" width=\"84.5\" height=\"19\" style=\"fill: rgb(0, 0, 0); fill-opacity: 0;\"/></g></g></g><rect class=\"scrollbar\" rx=\"20\" ry=\"3\" width=\"0\" height=\"0\" x=\"0\" y=\"0\" style=\"fill: rgb(128, 139, 164); fill-opacity: 1;\"/></g><g class=\"g-gtitle\"><text class=\"gtitle\" x=\"45\" y=\"50\" text-anchor=\"start\" dy=\"0em\" style=\"font-family: 'Open Sans', verdana, arial, sans-serif; font-size: 17px; fill: rgb(42, 63, 95); opacity: 1; font-weight: normal; white-space: pre;\">Submissions of banned / unverified /others on the peak day (2021-04-17)</text></g><g class=\"g-xtitle\"><text class=\"xtitle\" x=\"410\" y=\"460.8\" text-anchor=\"middle\" style=\"font-family: 'Open Sans', verdana, arial, sans-serif; font-size: 14px; fill: rgb(42, 63, 95); opacity: 1; font-weight: normal; white-space: pre;\">banned_unverified</text></g><g class=\"g-ytitle\"><text class=\"ytitle\" transform=\"rotate(-90,38.934375,260)\" x=\"38.934375\" y=\"260\" text-anchor=\"middle\" style=\"font-family: 'Open Sans', verdana, arial, sans-serif; font-size: 14px; fill: rgb(42, 63, 95); opacity: 1; font-weight: normal; white-space: pre;\">count</text></g></g></svg>"
      ]
     },
     "metadata": {},
     "output_type": "display_data"
    }
   ],
   "source": [
    "fig = px.histogram(df_peak_submissions, x='banned_unverified', color=\"banned_unverified\", \n",
    "                    color_discrete_sequence = colors, \n",
    "                   title = 'Submissions of banned / unverified /others on the peak day (2021-04-17)')\n",
    "fig.show()"
   ]
  },
  {
   "cell_type": "markdown",
   "id": "5d9461a2",
   "metadata": {},
   "source": [
    "<a id='explore_banned'></a>\n",
    "># Banned Accounts\n",
    "\n",
    "<ul>\n",
    "<li><a href=\"#banned_unverified\">Banned / Unverified</a></li>\n",
    "<li><a href=\"#explore_banned\"><b><mark>Banned Accounts</mark></b></a></li>\n",
    "    <br>\n",
    "<li><a href=\"#explore_unverified\">Unverified Accounts</a></li>\n",
    "    <br>\n",
    "<li><a href=\"#new_others\">New Vs Others</a></li>    \n",
    "<li><a href=\"#explore_new\">New Accounts</a></li>\n",
    "    <br>\n",
    "<li><a href=\"#contributions_scores\">2021 Contributions Scores</a></li>\n",
    "</ul>"
   ]
  },
  {
   "cell_type": "markdown",
   "id": "75930581",
   "metadata": {},
   "source": [
    "<a id='banned_largest_scores'></a>\n",
    ">>### Banned-Accounts largest scores\n",
    "\n",
    "<ul>\n",
    "<li><a href=\"#banned_largest_scores\"><b><mark>Banned-Accounts largest scores</mark></b></a></li>\n",
    "<li><a href=\"#banned_minimum_scores\">Banned-Accounts minimum scores</a></li>\n",
    "    <br>\n",
    "<li><a href=\"#banned_contributions\">Contributions of Banned accounts in 2021</a></li>\n",
    "<li><a href=\"#banned_peaks\">Banned Accounts Contributions Peaks</a></li>\n",
    "</ul>"
   ]
  },
  {
   "cell_type": "code",
   "execution_count": 24,
   "id": "f798b55d",
   "metadata": {},
   "outputs": [
    {
     "data": {
      "text/plain": [
       "count     1315.000000\n",
       "mean        42.793156\n",
       "std        455.733256\n",
       "min       -189.000000\n",
       "25%          1.000000\n",
       "50%          2.000000\n",
       "75%          7.000000\n",
       "max      11476.000000\n",
       "Name: score, dtype: float64"
      ]
     },
     "execution_count": 24,
     "metadata": {},
     "output_type": "execute_result"
    }
   ],
   "source": [
    "df_banned.score.describe()"
   ]
  },
  {
   "cell_type": "code",
   "execution_count": 25,
   "id": "1cf63266",
   "metadata": {},
   "outputs": [
    {
     "data": {
      "image/svg+xml": [
       "<svg class=\"main-svg\" xmlns=\"http://www.w3.org/2000/svg\" xmlns:xlink=\"http://www.w3.org/1999/xlink\" width=\"900\" height=\"500\" style=\"\" viewBox=\"0 0 900 500\"><rect x=\"0\" y=\"0\" width=\"900\" height=\"500\" style=\"fill: rgb(255, 255, 255); fill-opacity: 1;\"/><defs id=\"defs-a946a7\"><g class=\"clips\"><clipPath id=\"clipa946a7xyplot\" class=\"plotclip\"><rect width=\"740\" height=\"224\"/></clipPath><clipPath class=\"axesclip\" id=\"clipa946a7x\"><rect x=\"80\" y=\"0\" width=\"740\" height=\"500\"/></clipPath><clipPath class=\"axesclip\" id=\"clipa946a7y\"><rect x=\"0\" y=\"100\" width=\"900\" height=\"224\"/></clipPath><clipPath class=\"axesclip\" id=\"clipa946a7xy\"><rect x=\"80\" y=\"100\" width=\"740\" height=\"224\"/></clipPath></g><g class=\"gradients\"/><g class=\"patterns\"/></defs><g class=\"bglayer\"><rect class=\"bg\" x=\"80\" y=\"100\" width=\"740\" height=\"224\" style=\"fill: rgb(229, 236, 246); fill-opacity: 1; stroke-width: 0;\"/></g><g class=\"layer-below\"><g class=\"imagelayer\"/><g class=\"shapelayer\"/></g><g class=\"cartesianlayer\"><g class=\"subplot xy\"><g class=\"layer-subplot\"><g class=\"shapelayer\"/><g class=\"imagelayer\"/></g><g class=\"gridlayer\"><g class=\"x\"/><g class=\"y\"><path class=\"ygrid crisp\" transform=\"translate(0,285.9)\" d=\"M80,0h740\" style=\"stroke: rgb(255, 255, 255); stroke-opacity: 1; stroke-width: 1px;\"/><path class=\"ygrid crisp\" transform=\"translate(0,247.8)\" d=\"M80,0h740\" style=\"stroke: rgb(255, 255, 255); stroke-opacity: 1; stroke-width: 1px;\"/><path class=\"ygrid crisp\" transform=\"translate(0,209.7)\" d=\"M80,0h740\" style=\"stroke: rgb(255, 255, 255); stroke-opacity: 1; stroke-width: 1px;\"/><path class=\"ygrid crisp\" transform=\"translate(0,171.6)\" d=\"M80,0h740\" style=\"stroke: rgb(255, 255, 255); stroke-opacity: 1; stroke-width: 1px;\"/><path class=\"ygrid crisp\" transform=\"translate(0,133.5)\" d=\"M80,0h740\" style=\"stroke: rgb(255, 255, 255); stroke-opacity: 1; stroke-width: 1px;\"/></g></g><g class=\"zerolinelayer\"><path class=\"yzl zl crisp\" transform=\"translate(0,324)\" d=\"M80,0h740\" style=\"stroke: rgb(255, 255, 255); stroke-opacity: 1; stroke-width: 2px;\"/></g><path class=\"xlines-below\"/><path class=\"ylines-below\"/><g class=\"overlines-below\"/><g class=\"xaxislayer-below\"/><g class=\"yaxislayer-below\"/><g class=\"overaxes-below\"/><g class=\"plot\" transform=\"translate(80,100)\" clip-path=\"url(#clipa946a7xyplot)\"><g class=\"barlayer mlayer\"><g class=\"trace bars\" style=\"opacity: 1;\"><g class=\"points\"><g class=\"point\"><path d=\"M12.33,224V136.55H111V224Z\" style=\"vector-effect: non-scaling-stroke; opacity: 1; stroke-width: 2px; fill: rgb(255, 0, 0); fill-opacity: 1; stroke: rgb(229, 236, 246); stroke-opacity: 1;\"/><text class=\"bartext bartext-inside\" text-anchor=\"middle\" data-notex=\"1\" x=\"0\" y=\"0\" style=\"font-family: 'Open Sans', verdana, arial, sans-serif; font-size: 12px; fill: rgb(255, 255, 255); fill-opacity: 1; white-space: pre;\" transform=\"translate(61.4775,151.55)\">11476.0</text></g><g class=\"point\"><path d=\"M12.33,136.55V69.9H111V136.55Z\" style=\"vector-effect: non-scaling-stroke; opacity: 1; stroke-width: 2px; fill: rgb(255, 0, 0); fill-opacity: 1; stroke: rgb(229, 236, 246); stroke-opacity: 1;\"/><text class=\"bartext bartext-inside\" text-anchor=\"middle\" data-notex=\"1\" x=\"0\" y=\"0\" style=\"font-family: 'Open Sans', verdana, arial, sans-serif; font-size: 12px; fill: rgb(255, 255, 255); fill-opacity: 1; white-space: pre;\" transform=\"translate(61.4775,84.9)\">8747.0</text></g><g class=\"point\"><path d=\"M12.33,69.9V30.46H111V69.9Z\" style=\"vector-effect: non-scaling-stroke; opacity: 1; stroke-width: 2px; fill: rgb(255, 0, 0); fill-opacity: 1; stroke: rgb(229, 236, 246); stroke-opacity: 1;\"/><text class=\"bartext bartext-inside\" text-anchor=\"middle\" data-notex=\"1\" x=\"0\" y=\"0\" style=\"font-family: 'Open Sans', verdana, arial, sans-serif; font-size: 12px; fill: rgb(255, 255, 255); fill-opacity: 1; white-space: pre;\" transform=\"translate(61.4775,45.46)\">5176.0</text></g><g class=\"point\"><path d=\"M135.67,224V192.69H234.33V224Z\" style=\"vector-effect: non-scaling-stroke; opacity: 1; stroke-width: 2px; fill: rgb(82, 150, 221); fill-opacity: 1; stroke: rgb(229, 236, 246); stroke-opacity: 1;\"/><text class=\"bartext bartext-inside\" text-anchor=\"middle\" data-notex=\"1\" x=\"0\" y=\"0\" style=\"font-family: 'Open Sans', verdana, arial, sans-serif; font-size: 12px; fill: rgb(68, 68, 68); fill-opacity: 1; white-space: pre;\" transform=\"translate(184.8125,207.69)\">4109.0</text></g><g class=\"point\"><path d=\"M259,224V204.07H357.67V224Z\" style=\"vector-effect: non-scaling-stroke; opacity: 1; stroke-width: 2px; fill: rgb(82, 150, 221); fill-opacity: 1; stroke: rgb(229, 236, 246); stroke-opacity: 1;\"/><text class=\"bartext bartext-outside\" text-anchor=\"middle\" data-notex=\"1\" x=\"0\" y=\"0\" style=\"font-family: 'Open Sans', verdana, arial, sans-serif; font-size: 12px; fill: rgb(42, 63, 95); fill-opacity: 1; white-space: pre;\" transform=\"translate(308.14750000000004,198.07)\">2616.0</text></g><g class=\"point\"><path d=\"M382.33,224V209.19H481V224Z\" style=\"vector-effect: non-scaling-stroke; opacity: 1; stroke-width: 2px; fill: rgb(82, 150, 221); fill-opacity: 1; stroke: rgb(229, 236, 246); stroke-opacity: 1;\"/><text class=\"bartext bartext-outside\" text-anchor=\"middle\" data-notex=\"1\" x=\"0\" y=\"0\" style=\"font-family: 'Open Sans', verdana, arial, sans-serif; font-size: 12px; fill: rgb(42, 63, 95); fill-opacity: 1; white-space: pre;\" transform=\"translate(431.47749999999996,203.19)\">1944.0</text></g><g class=\"point\"><path d=\"M505.67,224V211.06H604.33V224Z\" style=\"vector-effect: non-scaling-stroke; opacity: 1; stroke-width: 2px; fill: rgb(82, 150, 221); fill-opacity: 1; stroke: rgb(229, 236, 246); stroke-opacity: 1;\"/><text class=\"bartext bartext-outside\" text-anchor=\"middle\" data-notex=\"1\" x=\"0\" y=\"0\" style=\"font-family: 'Open Sans', verdana, arial, sans-serif; font-size: 12px; fill: rgb(42, 63, 95); fill-opacity: 1; white-space: pre;\" transform=\"translate(554.8125,205.06)\">1698.0</text></g><g class=\"point\"><path d=\"M629,224V213.75H727.67V224Z\" style=\"vector-effect: non-scaling-stroke; opacity: 1; stroke-width: 2px; fill: rgb(82, 150, 221); fill-opacity: 1; stroke: rgb(229, 236, 246); stroke-opacity: 1;\"/><text class=\"bartext bartext-outside\" text-anchor=\"middle\" data-notex=\"1\" x=\"0\" y=\"0\" style=\"font-family: 'Open Sans', verdana, arial, sans-serif; font-size: 12px; fill: rgb(42, 63, 95); fill-opacity: 1; white-space: pre;\" transform=\"translate(678.1475,207.75)\">1345.0</text></g><g class=\"point\"><path d=\"M12.33,30.46V20.38H111V30.46Z\" style=\"vector-effect: non-scaling-stroke; opacity: 1; stroke-width: 2px; fill: rgb(82, 150, 221); fill-opacity: 1; stroke: rgb(229, 236, 246); stroke-opacity: 1;\"/><text class=\"bartext bartext-inside\" text-anchor=\"middle\" data-notex=\"1\" x=\"0\" y=\"0\" style=\"font-family: 'Open Sans', verdana, arial, sans-serif; font-size: 12px; fill: rgb(68, 68, 68); fill-opacity: 1; white-space: pre;\" transform=\"translate(61.614,26.644000000000002)scale(0.27200000000000013)\">1323.0</text></g><g class=\"point\"><path d=\"M12.33,20.38V11.2H111V20.38Z\" style=\"vector-effect: non-scaling-stroke; opacity: 1; stroke-width: 2px; fill: rgb(82, 150, 221); fill-opacity: 1; stroke: rgb(229, 236, 246); stroke-opacity: 1;\"/><text class=\"bartext bartext-outside\" text-anchor=\"middle\" data-notex=\"1\" x=\"0\" y=\"0\" style=\"font-family: 'Open Sans', verdana, arial, sans-serif; font-size: 12px; fill: rgb(42, 63, 95); fill-opacity: 1; white-space: pre;\" transform=\"translate(61.4775,5.199999999999999)\">1205.0</text></g></g></g></g></g><g class=\"overplot\"/><path class=\"xlines-above crisp\" d=\"M0,0\" style=\"fill: none;\"/><path class=\"ylines-above crisp\" d=\"M0,0\" style=\"fill: none;\"/><g class=\"overlines-above\"/><g class=\"xaxislayer-above\"><g class=\"xtick\"><text text-anchor=\"start\" x=\"0\" y=\"337\" transform=\"translate(141.67000000000002,0) rotate(90,0,331)\" style=\"font-family: 'Open Sans', verdana, arial, sans-serif; font-size: 12px; fill: rgb(42, 63, 95); fill-opacity: 1; white-space: pre; opacity: 1;\">Truthbetheprejudice</text></g><g class=\"xtick\"><text text-anchor=\"start\" x=\"0\" y=\"337\" transform=\"translate(265,0) rotate(90,0,331)\" style=\"font-family: 'Open Sans', verdana, arial, sans-serif; font-size: 12px; fill: rgb(42, 63, 95); fill-opacity: 1; white-space: pre; opacity: 1;\">dhruvangrup</text></g><g class=\"xtick\"><text text-anchor=\"start\" x=\"0\" y=\"337\" transform=\"translate(388.33,0) rotate(90,0,331)\" style=\"font-family: 'Open Sans', verdana, arial, sans-serif; font-size: 12px; fill: rgb(42, 63, 95); fill-opacity: 1; white-space: pre; opacity: 1;\">Run2daend93</text></g><g class=\"xtick\"><text text-anchor=\"start\" x=\"0\" y=\"337\" transform=\"translate(511.67,0) rotate(90,0,331)\" style=\"font-family: 'Open Sans', verdana, arial, sans-serif; font-size: 12px; fill: rgb(42, 63, 95); fill-opacity: 1; white-space: pre; opacity: 1;\">Imperial_in_NewYork</text></g><g class=\"xtick\"><text text-anchor=\"start\" x=\"0\" y=\"337\" transform=\"translate(635,0) rotate(90,0,331)\" style=\"font-family: 'Open Sans', verdana, arial, sans-serif; font-size: 12px; fill: rgb(42, 63, 95); fill-opacity: 1; white-space: pre; opacity: 1;\">NotherThrowaway284</text></g><g class=\"xtick\"><text text-anchor=\"start\" x=\"0\" y=\"337\" transform=\"translate(758.33,0) rotate(90,0,331)\" style=\"font-family: 'Open Sans', verdana, arial, sans-serif; font-size: 12px; fill: rgb(42, 63, 95); fill-opacity: 1; white-space: pre; opacity: 1;\">buwud</text></g></g><g class=\"yaxislayer-above\"><g class=\"ytick\"><text text-anchor=\"end\" x=\"79\" y=\"4.199999999999999\" transform=\"translate(0,324)\" style=\"font-family: 'Open Sans', verdana, arial, sans-serif; font-size: 12px; fill: rgb(42, 63, 95); fill-opacity: 1; white-space: pre; opacity: 1;\">0</text></g><g class=\"ytick\"><text text-anchor=\"end\" x=\"79\" y=\"4.199999999999999\" style=\"font-family: 'Open Sans', verdana, arial, sans-serif; font-size: 12px; fill: rgb(42, 63, 95); fill-opacity: 1; white-space: pre; opacity: 1;\" transform=\"translate(0,285.9)\">5k</text></g><g class=\"ytick\"><text text-anchor=\"end\" x=\"79\" y=\"4.199999999999999\" style=\"font-family: 'Open Sans', verdana, arial, sans-serif; font-size: 12px; fill: rgb(42, 63, 95); fill-opacity: 1; white-space: pre; opacity: 1;\" transform=\"translate(0,247.8)\">10k</text></g><g class=\"ytick\"><text text-anchor=\"end\" x=\"79\" y=\"4.199999999999999\" style=\"font-family: 'Open Sans', verdana, arial, sans-serif; font-size: 12px; fill: rgb(42, 63, 95); fill-opacity: 1; white-space: pre; opacity: 1;\" transform=\"translate(0,209.7)\">15k</text></g><g class=\"ytick\"><text text-anchor=\"end\" x=\"79\" y=\"4.199999999999999\" style=\"font-family: 'Open Sans', verdana, arial, sans-serif; font-size: 12px; fill: rgb(42, 63, 95); fill-opacity: 1; white-space: pre; opacity: 1;\" transform=\"translate(0,171.6)\">20k</text></g><g class=\"ytick\"><text text-anchor=\"end\" x=\"79\" y=\"4.199999999999999\" style=\"font-family: 'Open Sans', verdana, arial, sans-serif; font-size: 12px; fill: rgb(42, 63, 95); fill-opacity: 1; white-space: pre; opacity: 1;\" transform=\"translate(0,133.5)\">25k</text></g></g><g class=\"overaxes-above\"/></g></g><g class=\"polarlayer\"/><g class=\"ternarylayer\"/><g class=\"geolayer\"/><g class=\"funnelarealayer\"/><g class=\"pielayer\"/><g class=\"iciclelayer\"/><g class=\"treemaplayer\"/><g class=\"sunburstlayer\"/><g class=\"glimages\"/><defs id=\"topdefs-a946a7\"><g class=\"clips\"/></defs><g class=\"layer-above\"><g class=\"imagelayer\"/><g class=\"shapelayer\"/></g><g class=\"infolayer\"><g class=\"g-gtitle\"><text class=\"gtitle\" x=\"45\" y=\"50\" text-anchor=\"start\" dy=\"0em\" style=\"font-family: 'Open Sans', verdana, arial, sans-serif; font-size: 17px; fill: rgb(42, 63, 95); opacity: 1; font-weight: normal; white-space: pre;\">Banned accounts highest contribution scores</text></g><g class=\"g-xtitle\"><text class=\"xtitle\" x=\"450\" y=\"488.08125\" text-anchor=\"middle\" style=\"font-family: 'Open Sans', verdana, arial, sans-serif; font-size: 14px; fill: rgb(42, 63, 95); opacity: 1; font-weight: normal; white-space: pre;\">user name</text></g><g class=\"g-ytitle\"><text class=\"ytitle\" transform=\"rotate(-90,31.840625000000003,212)\" x=\"31.840625000000003\" y=\"212\" text-anchor=\"middle\" style=\"font-family: 'Open Sans', verdana, arial, sans-serif; font-size: 14px; fill: rgb(42, 63, 95); opacity: 1; font-weight: normal; white-space: pre;\">score</text></g></g></svg>"
      ]
     },
     "metadata": {},
     "output_type": "display_data"
    }
   ],
   "source": [
    "# Filter on largest scores\n",
    "\n",
    "df_scores_high = df_banned.sort_values('score', ascending=False).head(10)\n",
    "\n",
    "fig = px.bar(df_scores_high,\n",
    "             x='user_name', \n",
    "             y=df_scores_high.score, text = df_scores_high.score, title='Banned accounts highest contribution scores')\n",
    "\n",
    "fig.update_layout(\n",
    "    xaxis = dict(\n",
    "        title='user name',\n",
    "        tickmode = 'array',\n",
    "        tickvals = df_scores_high.user_name,\n",
    "    )\n",
    ")\n",
    "\n",
    "clrs = ['red' if (y > 5000) else '#5296dd' for y in df_scores_high.score]\n",
    "\n",
    "fig.update_traces(marker_color=clrs,\n",
    "                  marker_line_width=2, opacity=1, textposition='auto')\n",
    "\n",
    "# , marker_line_color='#5296dd'\n",
    "\n",
    "fig.show()\n"
   ]
  },
  {
   "cell_type": "markdown",
   "id": "f3260bbb",
   "metadata": {},
   "source": [
    "**NOTE:** \"Truthbetheprejudice\": this user contributions got the hieghest scores. <br>\n",
    "(Since this user is banned, we have no user information but, we can further investigate his contributions)"
   ]
  },
  {
   "cell_type": "code",
   "execution_count": 26,
   "id": "973ca3a0",
   "metadata": {},
   "outputs": [
    {
     "data": {
      "text/html": [
       "<div>\n",
       "<style scoped>\n",
       "    .dataframe tbody tr th:only-of-type {\n",
       "        vertical-align: middle;\n",
       "    }\n",
       "\n",
       "    .dataframe tbody tr th {\n",
       "        vertical-align: top;\n",
       "    }\n",
       "\n",
       "    .dataframe thead th {\n",
       "        text-align: right;\n",
       "    }\n",
       "</style>\n",
       "<table border=\"1\" class=\"dataframe\">\n",
       "  <thead>\n",
       "    <tr style=\"text-align: right;\">\n",
       "      <th></th>\n",
       "      <th>child_id</th>\n",
       "      <th>permalink</th>\n",
       "      <th>text</th>\n",
       "      <th>parent_id</th>\n",
       "      <th>subreddit</th>\n",
       "      <th>created_at</th>\n",
       "      <th>sentiment_blob</th>\n",
       "      <th>sentiment_nltk</th>\n",
       "      <th>score</th>\n",
       "      <th>top_level</th>\n",
       "      <th>...</th>\n",
       "      <th>is_mod</th>\n",
       "      <th>is_gold</th>\n",
       "      <th>is_banned</th>\n",
       "      <th>comment_karma</th>\n",
       "      <th>link_karma</th>\n",
       "      <th>user_created_at</th>\n",
       "      <th>banned_unverified</th>\n",
       "      <th>creation_year</th>\n",
       "      <th>diff</th>\n",
       "      <th>days_after_creation</th>\n",
       "    </tr>\n",
       "  </thead>\n",
       "  <tbody>\n",
       "    <tr>\n",
       "      <th>15498</th>\n",
       "      <td>t3_mtioam</td>\n",
       "      <td>/r/MensRights/comments/mtioam/johnny_depp_seen...</td>\n",
       "      <td>Johnny Depp Seen In Rare Photos In Spain, As H...</td>\n",
       "      <td>NaN</td>\n",
       "      <td>r/MensRights</td>\n",
       "      <td>2021-04-18 18:41:42</td>\n",
       "      <td>Positive</td>\n",
       "      <td>Neutral</td>\n",
       "      <td>1.0</td>\n",
       "      <td>NaN</td>\n",
       "      <td>...</td>\n",
       "      <td>True</td>\n",
       "      <td>True</td>\n",
       "      <td>True</td>\n",
       "      <td>NaN</td>\n",
       "      <td>NaN</td>\n",
       "      <td>NaT</td>\n",
       "      <td>banned</td>\n",
       "      <td>banned</td>\n",
       "      <td>NaN</td>\n",
       "      <td>NaN</td>\n",
       "    </tr>\n",
       "    <tr>\n",
       "      <th>15499</th>\n",
       "      <td>t3_mtjtsr</td>\n",
       "      <td>/r/movies/comments/mtjtsr/johnny_depp_makes_an...</td>\n",
       "      <td>Johnny Depp Makes an Appearance in Spain as La...</td>\n",
       "      <td>NaN</td>\n",
       "      <td>r/movies</td>\n",
       "      <td>2021-04-18 19:40:25</td>\n",
       "      <td>Positive</td>\n",
       "      <td>Negative</td>\n",
       "      <td>1.0</td>\n",
       "      <td>NaN</td>\n",
       "      <td>...</td>\n",
       "      <td>True</td>\n",
       "      <td>True</td>\n",
       "      <td>True</td>\n",
       "      <td>NaN</td>\n",
       "      <td>NaN</td>\n",
       "      <td>NaT</td>\n",
       "      <td>banned</td>\n",
       "      <td>banned</td>\n",
       "      <td>NaN</td>\n",
       "      <td>NaN</td>\n",
       "    </tr>\n",
       "    <tr>\n",
       "      <th>15500</th>\n",
       "      <td>t3_mtkogv</td>\n",
       "      <td>/r/entertainment/comments/mtkogv/johnny_depp_m...</td>\n",
       "      <td>Johnny Depp Makes an Appearance in Spain as La...</td>\n",
       "      <td>NaN</td>\n",
       "      <td>r/entertainment</td>\n",
       "      <td>2021-04-18 20:24:14</td>\n",
       "      <td>Positive</td>\n",
       "      <td>Negative</td>\n",
       "      <td>1.0</td>\n",
       "      <td>NaN</td>\n",
       "      <td>...</td>\n",
       "      <td>True</td>\n",
       "      <td>True</td>\n",
       "      <td>True</td>\n",
       "      <td>NaN</td>\n",
       "      <td>NaN</td>\n",
       "      <td>NaT</td>\n",
       "      <td>banned</td>\n",
       "      <td>banned</td>\n",
       "      <td>NaN</td>\n",
       "      <td>NaN</td>\n",
       "    </tr>\n",
       "    <tr>\n",
       "      <th>15501</th>\n",
       "      <td>t3_muyp3k</td>\n",
       "      <td>/r/MensRights/comments/muyp3k/justiceforjohnny...</td>\n",
       "      <td>#JusticeForJohnnyDepp Johnny Depp fans donate ...</td>\n",
       "      <td>NaN</td>\n",
       "      <td>r/MensRights</td>\n",
       "      <td>2021-04-20 19:47:45</td>\n",
       "      <td>Neutral</td>\n",
       "      <td>Negative</td>\n",
       "      <td>75.0</td>\n",
       "      <td>NaN</td>\n",
       "      <td>...</td>\n",
       "      <td>True</td>\n",
       "      <td>True</td>\n",
       "      <td>True</td>\n",
       "      <td>NaN</td>\n",
       "      <td>NaN</td>\n",
       "      <td>NaT</td>\n",
       "      <td>banned</td>\n",
       "      <td>banned</td>\n",
       "      <td>NaN</td>\n",
       "      <td>NaN</td>\n",
       "    </tr>\n",
       "    <tr>\n",
       "      <th>15502</th>\n",
       "      <td>t3_muypet</td>\n",
       "      <td>/r/entertainment/comments/muypet/justiceforjoh...</td>\n",
       "      <td>#JusticeForJohnnyDepp Johnny Depp fans donate ...</td>\n",
       "      <td>NaN</td>\n",
       "      <td>r/entertainment</td>\n",
       "      <td>2021-04-20 19:48:06</td>\n",
       "      <td>Neutral</td>\n",
       "      <td>Negative</td>\n",
       "      <td>1.0</td>\n",
       "      <td>NaN</td>\n",
       "      <td>...</td>\n",
       "      <td>True</td>\n",
       "      <td>True</td>\n",
       "      <td>True</td>\n",
       "      <td>NaN</td>\n",
       "      <td>NaN</td>\n",
       "      <td>NaT</td>\n",
       "      <td>banned</td>\n",
       "      <td>banned</td>\n",
       "      <td>NaN</td>\n",
       "      <td>NaN</td>\n",
       "    </tr>\n",
       "  </tbody>\n",
       "</table>\n",
       "<p>5 rows × 24 columns</p>\n",
       "</div>"
      ],
      "text/plain": [
       "        child_id                                          permalink  \\\n",
       "15498  t3_mtioam  /r/MensRights/comments/mtioam/johnny_depp_seen...   \n",
       "15499  t3_mtjtsr  /r/movies/comments/mtjtsr/johnny_depp_makes_an...   \n",
       "15500  t3_mtkogv  /r/entertainment/comments/mtkogv/johnny_depp_m...   \n",
       "15501  t3_muyp3k  /r/MensRights/comments/muyp3k/justiceforjohnny...   \n",
       "15502  t3_muypet  /r/entertainment/comments/muypet/justiceforjoh...   \n",
       "\n",
       "                                                    text parent_id  \\\n",
       "15498  Johnny Depp Seen In Rare Photos In Spain, As H...       NaN   \n",
       "15499  Johnny Depp Makes an Appearance in Spain as La...       NaN   \n",
       "15500  Johnny Depp Makes an Appearance in Spain as La...       NaN   \n",
       "15501  #JusticeForJohnnyDepp Johnny Depp fans donate ...       NaN   \n",
       "15502  #JusticeForJohnnyDepp Johnny Depp fans donate ...       NaN   \n",
       "\n",
       "             subreddit          created_at sentiment_blob sentiment_nltk  \\\n",
       "15498     r/MensRights 2021-04-18 18:41:42       Positive        Neutral   \n",
       "15499         r/movies 2021-04-18 19:40:25       Positive       Negative   \n",
       "15500  r/entertainment 2021-04-18 20:24:14       Positive       Negative   \n",
       "15501     r/MensRights 2021-04-20 19:47:45        Neutral       Negative   \n",
       "15502  r/entertainment 2021-04-20 19:48:06        Neutral       Negative   \n",
       "\n",
       "       score top_level  ... is_mod is_gold is_banned  comment_karma  \\\n",
       "15498    1.0       NaN  ...   True    True      True            NaN   \n",
       "15499    1.0       NaN  ...   True    True      True            NaN   \n",
       "15500    1.0       NaN  ...   True    True      True            NaN   \n",
       "15501   75.0       NaN  ...   True    True      True            NaN   \n",
       "15502    1.0       NaN  ...   True    True      True            NaN   \n",
       "\n",
       "       link_karma  user_created_at  banned_unverified  creation_year  diff  \\\n",
       "15498         NaN              NaT             banned         banned   NaN   \n",
       "15499         NaN              NaT             banned         banned   NaN   \n",
       "15500         NaN              NaT             banned         banned   NaN   \n",
       "15501         NaN              NaT             banned         banned   NaN   \n",
       "15502         NaN              NaT             banned         banned   NaN   \n",
       "\n",
       "      days_after_creation  \n",
       "15498                 NaN  \n",
       "15499                 NaN  \n",
       "15500                 NaN  \n",
       "15501                 NaN  \n",
       "15502                 NaN  \n",
       "\n",
       "[5 rows x 24 columns]"
      ]
     },
     "execution_count": 26,
     "metadata": {},
     "output_type": "execute_result"
    }
   ],
   "source": [
    "df_truth = df_banned[df_banned.user_name == 'Truthbetheprejudice'].sort_values('created_at')\n",
    "df_truth.head()"
   ]
  },
  {
   "cell_type": "code",
   "execution_count": 27,
   "id": "3d204372",
   "metadata": {},
   "outputs": [
    {
     "data": {
      "text/plain": [
       "submission    43\n",
       "Name: submission_comment, dtype: int64"
      ]
     },
     "execution_count": 27,
     "metadata": {},
     "output_type": "execute_result"
    }
   ],
   "source": [
    "df_truth.submission_comment.value_counts()"
   ]
  },
  {
   "cell_type": "markdown",
   "id": "4e187801",
   "metadata": {},
   "source": [
    "**NOTE:** \"Truthbetheprejudice\": this user made 43 submissions, no comments at all."
   ]
  },
  {
   "cell_type": "code",
   "execution_count": 28,
   "id": "9c22a2a5",
   "metadata": {},
   "outputs": [
    {
     "data": {
      "text/plain": [
       "Johnny Depp sues ACLU on to see if ex-wife Amber Heard gave $7m divorce settlement                                                      5\n",
       "Amber Heard Under Investigation for Perjury in Johnny Depp Domestic Violence Case                                                       5\n",
       "Amber Heard probed for perjury and staging 2016 Johnny Depp domestic violence case: 'Lock her up'                                       5\n",
       "Amber Heard to struggle in new LAPD domestic violence probe                                                                             5\n",
       "Amber Heard Is Allegedly Being Investigated By LAPD For Perjury, Could Face Jail Time Over Johnny Depp Domestic Violence Accusations    5\n",
       "Confirmed: Amber Heard Under Criminal Investigation in Australia                                                                        4\n",
       "Remove Amber Heard from Aquaman 2                                                                                                       4\n",
       "#JusticeForJohnnyDepp Johnny Depp fans donate $40k to children that Amber Heard neglected                                               4\n",
       "Big tech silence Johnny Depp and censor Amber Heard evidence                                                                            3\n",
       "Johnny Depp Makes an Appearance in Spain as Lawyers Drop New Evidence in Amber Heard Case                                               2\n",
       "Johnny Depp Seen In Rare Photos In Spain, As His Lawyers Announce New Evidence Against Amber Heard                                      1\n",
       "Name: text, dtype: int64"
      ]
     },
     "execution_count": 28,
     "metadata": {},
     "output_type": "execute_result"
    }
   ],
   "source": [
    "df_truth.text.value_counts()"
   ]
  },
  {
   "cell_type": "code",
   "execution_count": 29,
   "id": "653f8e63",
   "metadata": {},
   "outputs": [
    {
     "data": {
      "image/svg+xml": [
       "<svg class=\"main-svg\" xmlns=\"http://www.w3.org/2000/svg\" xmlns:xlink=\"http://www.w3.org/1999/xlink\" width=\"900\" height=\"500\" style=\"\" viewBox=\"0 0 900 500\"><rect x=\"0\" y=\"0\" width=\"900\" height=\"500\" style=\"fill: rgb(255, 255, 255); fill-opacity: 1;\"/><defs id=\"defs-96bf5b\"><g class=\"clips\"><clipPath id=\"clip96bf5bxyplot\" class=\"plotclip\"><rect width=\"740\" height=\"307\"/></clipPath><clipPath class=\"axesclip\" id=\"clip96bf5bx\"><rect x=\"80\" y=\"0\" width=\"740\" height=\"500\"/></clipPath><clipPath class=\"axesclip\" id=\"clip96bf5by\"><rect x=\"0\" y=\"100\" width=\"900\" height=\"307\"/></clipPath><clipPath class=\"axesclip\" id=\"clip96bf5bxy\"><rect x=\"80\" y=\"100\" width=\"740\" height=\"307\"/></clipPath></g><g class=\"gradients\"/><g class=\"patterns\"/></defs><g class=\"bglayer\"><rect class=\"bg\" x=\"80\" y=\"100\" width=\"740\" height=\"307\" style=\"fill: rgb(229, 236, 246); fill-opacity: 1; stroke-width: 0;\"/></g><g class=\"layer-below\"><g class=\"imagelayer\"/><g class=\"shapelayer\"/></g><g class=\"cartesianlayer\"><g class=\"subplot xy\"><g class=\"layer-subplot\"><g class=\"shapelayer\"/><g class=\"imagelayer\"/></g><g class=\"gridlayer\"><g class=\"x\"/><g class=\"y\"><path class=\"ygrid crisp\" transform=\"translate(0,370.54)\" d=\"M80,0h740\" style=\"stroke: rgb(255, 255, 255); stroke-opacity: 1; stroke-width: 1px;\"/><path class=\"ygrid crisp\" transform=\"translate(0,334.09000000000003)\" d=\"M80,0h740\" style=\"stroke: rgb(255, 255, 255); stroke-opacity: 1; stroke-width: 1px;\"/><path class=\"ygrid crisp\" transform=\"translate(0,297.63)\" d=\"M80,0h740\" style=\"stroke: rgb(255, 255, 255); stroke-opacity: 1; stroke-width: 1px;\"/><path class=\"ygrid crisp\" transform=\"translate(0,261.16999999999996)\" d=\"M80,0h740\" style=\"stroke: rgb(255, 255, 255); stroke-opacity: 1; stroke-width: 1px;\"/><path class=\"ygrid crisp\" transform=\"translate(0,224.72)\" d=\"M80,0h740\" style=\"stroke: rgb(255, 255, 255); stroke-opacity: 1; stroke-width: 1px;\"/><path class=\"ygrid crisp\" transform=\"translate(0,188.26)\" d=\"M80,0h740\" style=\"stroke: rgb(255, 255, 255); stroke-opacity: 1; stroke-width: 1px;\"/><path class=\"ygrid crisp\" transform=\"translate(0,151.81)\" d=\"M80,0h740\" style=\"stroke: rgb(255, 255, 255); stroke-opacity: 1; stroke-width: 1px;\"/><path class=\"ygrid crisp\" transform=\"translate(0,115.35)\" d=\"M80,0h740\" style=\"stroke: rgb(255, 255, 255); stroke-opacity: 1; stroke-width: 1px;\"/></g></g><g class=\"zerolinelayer\"><path class=\"yzl zl crisp\" transform=\"translate(0,407)\" d=\"M80,0h740\" style=\"stroke: rgb(255, 255, 255); stroke-opacity: 1; stroke-width: 2px;\"/></g><path class=\"xlines-below\"/><path class=\"ylines-below\"/><g class=\"overlines-below\"/><g class=\"xaxislayer-below\"/><g class=\"yaxislayer-below\"/><g class=\"overaxes-below\"/><g class=\"plot\" transform=\"translate(80,100)\" clip-path=\"url(#clip96bf5bxyplot)\"><g class=\"barlayer mlayer\"><g class=\"trace bars\" style=\"opacity: 1;\"><g class=\"points\"><g class=\"point\"><path d=\"M2.31,307V197.63H20.81V307Z\" style=\"vector-effect: non-scaling-stroke; opacity: 1; stroke-width: 2px; fill: rgb(255, 0, 0); fill-opacity: 1; stroke: rgb(229, 236, 246); stroke-opacity: 1;\"/></g><g class=\"point\"><path d=\"M48.56,307V161.17H67.06V307Z\" style=\"vector-effect: non-scaling-stroke; opacity: 1; stroke-width: 2px; fill: rgb(255, 0, 0); fill-opacity: 1; stroke: rgb(229, 236, 246); stroke-opacity: 1;\"/></g><g class=\"point\"><path d=\"M256.69,307V161.17H275.19V307Z\" style=\"vector-effect: non-scaling-stroke; opacity: 1; stroke-width: 2px; fill: rgb(255, 0, 0); fill-opacity: 1; stroke: rgb(229, 236, 246); stroke-opacity: 1;\"/></g><g class=\"point\"><path d=\"M279.81,307V161.17H298.31V307Z\" style=\"vector-effect: non-scaling-stroke; opacity: 1; stroke-width: 2px; fill: rgb(255, 0, 0); fill-opacity: 1; stroke: rgb(229, 236, 246); stroke-opacity: 1;\"/></g><g class=\"point\"><path d=\"M441.69,307V15.35H460.19V307Z\" style=\"vector-effect: non-scaling-stroke; opacity: 1; stroke-width: 2px; fill: rgb(255, 0, 0); fill-opacity: 1; stroke: rgb(229, 236, 246); stroke-opacity: 1;\"/></g><g class=\"point\"><path d=\"M464.81,307V124.72H483.31V307Z\" style=\"vector-effect: non-scaling-stroke; opacity: 1; stroke-width: 2px; fill: rgb(255, 0, 0); fill-opacity: 1; stroke: rgb(229, 236, 246); stroke-opacity: 1;\"/></g><g class=\"point\"><path d=\"M487.94,307V124.72H506.44V307Z\" style=\"vector-effect: non-scaling-stroke; opacity: 1; stroke-width: 2px; fill: rgb(255, 0, 0); fill-opacity: 1; stroke: rgb(229, 236, 246); stroke-opacity: 1;\"/></g><g class=\"point\"><path d=\"M511.06,307V124.72H529.56V307Z\" style=\"vector-effect: non-scaling-stroke; opacity: 1; stroke-width: 2px; fill: rgb(255, 0, 0); fill-opacity: 1; stroke: rgb(229, 236, 246); stroke-opacity: 1;\"/></g><g class=\"point\"><path d=\"M719.19,307V124.72H737.69V307Z\" style=\"vector-effect: non-scaling-stroke; opacity: 1; stroke-width: 2px; fill: rgb(255, 0, 0); fill-opacity: 1; stroke: rgb(229, 236, 246); stroke-opacity: 1;\"/></g></g></g></g></g><g class=\"overplot\"/><path class=\"xlines-above crisp\" d=\"M0,0\" style=\"fill: none;\"/><path class=\"ylines-above crisp\" d=\"M0,0\" style=\"fill: none;\"/><g class=\"overlines-above\"/><g class=\"xaxislayer-above\"><g class=\"xtick\"><text text-anchor=\"start\" x=\"0\" y=\"420\" transform=\"translate(91.56,0) rotate(30,0,414)\" style=\"font-family: 'Open Sans', verdana, arial, sans-serif; font-size: 12px; fill: rgb(42, 63, 95); fill-opacity: 1; white-space: pre; opacity: 1;\">Apr 18, 2021</text></g><g class=\"xtick\"><text text-anchor=\"start\" x=\"0\" y=\"420\" style=\"font-family: 'Open Sans', verdana, arial, sans-serif; font-size: 12px; fill: rgb(42, 63, 95); fill-opacity: 1; white-space: pre; opacity: 1;\" transform=\"translate(137.81,0) rotate(30,0,414)\">Apr 20, 2021</text></g><g class=\"xtick\"><text text-anchor=\"start\" x=\"0\" y=\"420\" style=\"font-family: 'Open Sans', verdana, arial, sans-serif; font-size: 12px; fill: rgb(42, 63, 95); fill-opacity: 1; white-space: pre; opacity: 1;\" transform=\"translate(345.94,0) rotate(30,0,414)\">Apr 29, 2021</text></g><g class=\"xtick\"><text text-anchor=\"start\" x=\"0\" y=\"420\" style=\"font-family: 'Open Sans', verdana, arial, sans-serif; font-size: 12px; fill: rgb(42, 63, 95); fill-opacity: 1; white-space: pre; opacity: 1;\" transform=\"translate(369.06,0) rotate(30,0,414)\">Apr 30, 2021</text></g><g class=\"xtick\"><text text-anchor=\"start\" x=\"0\" y=\"420\" style=\"font-family: 'Open Sans', verdana, arial, sans-serif; font-size: 12px; fill: rgb(42, 63, 95); fill-opacity: 1; white-space: pre; opacity: 1;\" transform=\"translate(530.94,0) rotate(30,0,414)\">May 7, 2021</text></g><g class=\"xtick\"><text text-anchor=\"start\" x=\"0\" y=\"420\" style=\"font-family: 'Open Sans', verdana, arial, sans-serif; font-size: 12px; fill: rgb(42, 63, 95); fill-opacity: 1; white-space: pre; opacity: 1;\" transform=\"translate(554.06,0) rotate(30,0,414)\">May 8, 2021</text></g><g class=\"xtick\"><text text-anchor=\"start\" x=\"0\" y=\"420\" style=\"font-family: 'Open Sans', verdana, arial, sans-serif; font-size: 12px; fill: rgb(42, 63, 95); fill-opacity: 1; white-space: pre; opacity: 1;\" transform=\"translate(577.19,0) rotate(30,0,414)\">May 9, 2021</text></g><g class=\"xtick\"><text text-anchor=\"start\" x=\"0\" y=\"420\" style=\"font-family: 'Open Sans', verdana, arial, sans-serif; font-size: 12px; fill: rgb(42, 63, 95); fill-opacity: 1; white-space: pre; opacity: 1;\" transform=\"translate(600.31,0) rotate(30,0,414)\">May 10, 2021</text></g><g class=\"xtick\"><text text-anchor=\"start\" x=\"0\" y=\"420\" style=\"font-family: 'Open Sans', verdana, arial, sans-serif; font-size: 12px; fill: rgb(42, 63, 95); fill-opacity: 1; white-space: pre; opacity: 1;\" transform=\"translate(808.44,0) rotate(30,0,414)\">May 19, 2021</text></g></g><g class=\"yaxislayer-above\"><g class=\"ytick\"><text text-anchor=\"end\" x=\"79\" y=\"4.199999999999999\" transform=\"translate(0,407)\" style=\"font-family: 'Open Sans', verdana, arial, sans-serif; font-size: 12px; fill: rgb(42, 63, 95); fill-opacity: 1; white-space: pre; opacity: 1;\">0</text></g><g class=\"ytick\"><text text-anchor=\"end\" x=\"79\" y=\"4.199999999999999\" style=\"font-family: 'Open Sans', verdana, arial, sans-serif; font-size: 12px; fill: rgb(42, 63, 95); fill-opacity: 1; white-space: pre; opacity: 1;\" transform=\"translate(0,370.54)\">1</text></g><g class=\"ytick\"><text text-anchor=\"end\" x=\"79\" y=\"4.199999999999999\" style=\"font-family: 'Open Sans', verdana, arial, sans-serif; font-size: 12px; fill: rgb(42, 63, 95); fill-opacity: 1; white-space: pre; opacity: 1;\" transform=\"translate(0,334.09000000000003)\">2</text></g><g class=\"ytick\"><text text-anchor=\"end\" x=\"79\" y=\"4.199999999999999\" style=\"font-family: 'Open Sans', verdana, arial, sans-serif; font-size: 12px; fill: rgb(42, 63, 95); fill-opacity: 1; white-space: pre; opacity: 1;\" transform=\"translate(0,297.63)\">3</text></g><g class=\"ytick\"><text text-anchor=\"end\" x=\"79\" y=\"4.199999999999999\" style=\"font-family: 'Open Sans', verdana, arial, sans-serif; font-size: 12px; fill: rgb(42, 63, 95); fill-opacity: 1; white-space: pre; opacity: 1;\" transform=\"translate(0,261.16999999999996)\">4</text></g><g class=\"ytick\"><text text-anchor=\"end\" x=\"79\" y=\"4.199999999999999\" style=\"font-family: 'Open Sans', verdana, arial, sans-serif; font-size: 12px; fill: rgb(42, 63, 95); fill-opacity: 1; white-space: pre; opacity: 1;\" transform=\"translate(0,224.72)\">5</text></g><g class=\"ytick\"><text text-anchor=\"end\" x=\"79\" y=\"4.199999999999999\" style=\"font-family: 'Open Sans', verdana, arial, sans-serif; font-size: 12px; fill: rgb(42, 63, 95); fill-opacity: 1; white-space: pre; opacity: 1;\" transform=\"translate(0,188.26)\">6</text></g><g class=\"ytick\"><text text-anchor=\"end\" x=\"79\" y=\"4.199999999999999\" style=\"font-family: 'Open Sans', verdana, arial, sans-serif; font-size: 12px; fill: rgb(42, 63, 95); fill-opacity: 1; white-space: pre; opacity: 1;\" transform=\"translate(0,151.81)\">7</text></g><g class=\"ytick\"><text text-anchor=\"end\" x=\"79\" y=\"4.199999999999999\" style=\"font-family: 'Open Sans', verdana, arial, sans-serif; font-size: 12px; fill: rgb(42, 63, 95); fill-opacity: 1; white-space: pre; opacity: 1;\" transform=\"translate(0,115.35)\">8</text></g></g><g class=\"overaxes-above\"/></g></g><g class=\"polarlayer\"/><g class=\"ternarylayer\"/><g class=\"geolayer\"/><g class=\"funnelarealayer\"/><g class=\"pielayer\"/><g class=\"iciclelayer\"/><g class=\"treemaplayer\"/><g class=\"sunburstlayer\"/><g class=\"glimages\"/><defs id=\"topdefs-96bf5b\"><g class=\"clips\"/></defs><g class=\"layer-above\"><g class=\"imagelayer\"/><g class=\"shapelayer\"/></g><g class=\"infolayer\"><g class=\"g-gtitle\"><text class=\"gtitle\" x=\"45\" y=\"50\" text-anchor=\"start\" dy=\"0em\" style=\"font-family: 'Open Sans', verdana, arial, sans-serif; font-size: 17px; fill: rgb(42, 63, 95); opacity: 1; font-weight: normal; white-space: pre;\">\"Truthbetheprejudice\" contributions in 2021</text></g><g class=\"g-xtitle\"><text class=\"xtitle\" x=\"450\" y=\"488.0470703125\" text-anchor=\"middle\" style=\"font-family: 'Open Sans', verdana, arial, sans-serif; font-size: 14px; fill: rgb(42, 63, 95); opacity: 1; font-weight: normal; white-space: pre;\">Contribution Date</text></g><g class=\"g-ytitle\"><text class=\"ytitle\" transform=\"rotate(-90,46.559375,253.5)\" x=\"46.559375\" y=\"253.5\" text-anchor=\"middle\" style=\"font-family: 'Open Sans', verdana, arial, sans-serif; font-size: 14px; fill: rgb(42, 63, 95); opacity: 1; font-weight: normal; white-space: pre;\">n_contributions</text></g></g></svg>"
      ]
     },
     "metadata": {},
     "output_type": "display_data"
    }
   ],
   "source": [
    "df_truth_contributions = df_truth.groupby(df_truth.created_at.dt.date).size().reset_index(name='n_contributions')\n",
    "\n",
    "fig = px.bar(df_truth_contributions,\n",
    "             x='created_at', \n",
    "             y='n_contributions', title='\"Truthbetheprejudice\" contributions in 2021')\n",
    "\n",
    "fig.update_layout(\n",
    "    xaxis = dict(\n",
    "        title='Contribution Date',\n",
    "        tickmode = 'array',\n",
    "        tickvals = df_truth_contributions.created_at,\n",
    "    )\n",
    ")\n",
    "\n",
    "fig.update_traces(marker_color='red',\n",
    "                  marker_line_width=2, opacity=1, textposition='auto')\n",
    "fig.show()"
   ]
  },
  {
   "cell_type": "markdown",
   "id": "0c2fc8a0",
   "metadata": {},
   "source": [
    "<a id='banned_minimum_scores'></a>\n",
    ">>### Banned-Accounts minimum scores\n",
    "\n",
    "<ul>\n",
    "<li><a href=\"#banned_largest_scores\">Banned-Accounts largest scores</a></li>\n",
    "<li><a href=\"#banned_minimum_scores\"><b><mark>Banned-Accounts minimum scores</mark></b></a></li>\n",
    "    <br>\n",
    "<li><a href=\"#banned_contributions\">Contributions of Banned accounts in 2021</a></li>\n",
    "<li><a href=\"#banned_peaks\">Banned Accounts Contributions Peaks</a></li>\n",
    "</ul>"
   ]
  },
  {
   "cell_type": "markdown",
   "id": "203bd6c9",
   "metadata": {},
   "source": [
    "https://stackoverflow.com/questions/67590028/plotly-how-to-move-x-axis-to-top-and-y-axis-to-the-right"
   ]
  },
  {
   "cell_type": "code",
   "execution_count": 30,
   "id": "adac7db9",
   "metadata": {},
   "outputs": [
    {
     "data": {
      "image/svg+xml": [
       "<svg class=\"main-svg\" xmlns=\"http://www.w3.org/2000/svg\" xmlns:xlink=\"http://www.w3.org/1999/xlink\" width=\"900\" height=\"500\" style=\"\" viewBox=\"0 0 900 500\"><rect x=\"0\" y=\"0\" width=\"900\" height=\"500\" style=\"fill: rgb(255, 255, 255); fill-opacity: 1;\"/><defs id=\"defs-5560b5\"><g class=\"clips\"><clipPath id=\"clip5560b5xyplot\" class=\"plotclip\"><rect width=\"714\" height=\"295\"/></clipPath><clipPath class=\"axesclip\" id=\"clip5560b5x\"><rect x=\"106\" y=\"0\" width=\"714\" height=\"500\"/></clipPath><clipPath class=\"axesclip\" id=\"clip5560b5y\"><rect x=\"0\" y=\"125\" width=\"900\" height=\"295\"/></clipPath><clipPath class=\"axesclip\" id=\"clip5560b5xy\"><rect x=\"106\" y=\"125\" width=\"714\" height=\"295\"/></clipPath></g><g class=\"gradients\"/><g class=\"patterns\"/></defs><g class=\"bglayer\"><rect class=\"bg\" x=\"106\" y=\"125\" width=\"714\" height=\"295\" style=\"fill: rgb(229, 236, 246); fill-opacity: 1; stroke-width: 0;\"/></g><g class=\"layer-below\"><g class=\"imagelayer\"/><g class=\"shapelayer\"/></g><g class=\"cartesianlayer\"><g class=\"subplot xy\"><g class=\"layer-subplot\"><g class=\"shapelayer\"/><g class=\"imagelayer\"/></g><g class=\"gridlayer\"><g class=\"x\"/><g class=\"y\"><path class=\"ygrid crisp\" transform=\"translate(0,395.12)\" d=\"M106,0h714\" style=\"stroke: rgb(255, 255, 255); stroke-opacity: 1; stroke-width: 1px;\"/><path class=\"ygrid crisp\" transform=\"translate(0,327.59000000000003)\" d=\"M106,0h714\" style=\"stroke: rgb(255, 255, 255); stroke-opacity: 1; stroke-width: 1px;\"/><path class=\"ygrid crisp\" transform=\"translate(0,260.06)\" d=\"M106,0h714\" style=\"stroke: rgb(255, 255, 255); stroke-opacity: 1; stroke-width: 1px;\"/><path class=\"ygrid crisp\" transform=\"translate(0,192.53)\" d=\"M106,0h714\" style=\"stroke: rgb(255, 255, 255); stroke-opacity: 1; stroke-width: 1px;\"/></g></g><g class=\"zerolinelayer\"><path class=\"yzl zl crisp\" transform=\"translate(0,125)\" d=\"M106,0h714\" style=\"stroke: rgb(255, 255, 255); stroke-opacity: 1; stroke-width: 2px;\"/></g><path class=\"xlines-below\"/><path class=\"ylines-below\"/><g class=\"overlines-below\"/><g class=\"xaxislayer-below\"/><g class=\"yaxislayer-below\"/><g class=\"overaxes-below\"/><g class=\"plot\" transform=\"translate(106,125)\" clip-path=\"url(#clip5560b5xyplot)\"><g class=\"barlayer mlayer\"><g class=\"trace bars\" style=\"opacity: 1;\"><g class=\"points\"><g class=\"point\"><path d=\"M4.46,0V127.63H40.16V0Z\" style=\"vector-effect: non-scaling-stroke; opacity: 1; stroke-width: 2px; fill: rgb(255, 0, 0); fill-opacity: 1; stroke: rgb(229, 236, 246); stroke-opacity: 1;\"/><text class=\"bartext bartext-inside\" text-anchor=\"middle\" data-notex=\"1\" x=\"0\" y=\"0\" style=\"font-family: 'Open Sans', verdana, arial, sans-serif; font-size: 12px; fill: rgb(255, 255, 255); fill-opacity: 1; white-space: pre;\" transform=\"translate(22.1225,108.770625)rotate(90 0.1875 -4.5)\">-189.0</text></g><g class=\"point\"><path d=\"M49.09,0V107.37H84.79V0Z\" style=\"vector-effect: non-scaling-stroke; opacity: 1; stroke-width: 2px; fill: rgb(255, 0, 0); fill-opacity: 1; stroke: rgb(229, 236, 246); stroke-opacity: 1;\"/><text class=\"bartext bartext-inside\" text-anchor=\"middle\" data-notex=\"1\" x=\"0\" y=\"0\" style=\"font-family: 'Open Sans', verdana, arial, sans-serif; font-size: 12px; fill: rgb(255, 255, 255); fill-opacity: 1; white-space: pre;\" transform=\"translate(66.7525,88.510625)rotate(90 0.1875 -4.5)\">-159.0</text></g><g class=\"point\"><path d=\"M4.46,127.63V214.75H40.16V127.63Z\" style=\"vector-effect: non-scaling-stroke; opacity: 1; stroke-width: 2px; fill: rgb(255, 0, 0); fill-opacity: 1; stroke: rgb(229, 236, 246); stroke-opacity: 1;\"/><text class=\"bartext bartext-inside\" text-anchor=\"middle\" data-notex=\"1\" x=\"0\" y=\"0\" style=\"font-family: 'Open Sans', verdana, arial, sans-serif; font-size: 12px; fill: rgb(255, 255, 255); fill-opacity: 1; white-space: pre;\" transform=\"translate(22.1225,195.890625)rotate(90 0.1875 -4.5)\">-129.0</text></g><g class=\"point\"><path d=\"M93.71,0V70.91H129.41V0Z\" style=\"vector-effect: non-scaling-stroke; opacity: 1; stroke-width: 2px; fill: rgb(82, 150, 221); fill-opacity: 1; stroke: rgb(229, 236, 246); stroke-opacity: 1;\"/><text class=\"bartext bartext-inside\" text-anchor=\"middle\" data-notex=\"1\" x=\"0\" y=\"0\" style=\"font-family: 'Open Sans', verdana, arial, sans-serif; font-size: 12px; fill: rgb(68, 68, 68); fill-opacity: 1; white-space: pre;\" transform=\"translate(111.3725,52.050625)rotate(90 0.1875 -4.5)\">-105.0</text></g><g class=\"point\"><path d=\"M138.34,0V70.91H174.04V0Z\" style=\"vector-effect: non-scaling-stroke; opacity: 1; stroke-width: 2px; fill: rgb(82, 150, 221); fill-opacity: 1; stroke: rgb(229, 236, 246); stroke-opacity: 1;\"/><text class=\"bartext bartext-inside\" text-anchor=\"middle\" data-notex=\"1\" x=\"0\" y=\"0\" style=\"font-family: 'Open Sans', verdana, arial, sans-serif; font-size: 12px; fill: rgb(68, 68, 68); fill-opacity: 1; white-space: pre;\" transform=\"translate(156.0025,52.050625)rotate(90 0.1875 -4.5)\">-105.0</text></g><g class=\"point\"><path d=\"M4.46,214.75V280.25H40.16V214.75Z\" style=\"vector-effect: non-scaling-stroke; opacity: 1; stroke-width: 2px; fill: rgb(82, 150, 221); fill-opacity: 1; stroke: rgb(229, 236, 246); stroke-opacity: 1;\"/><text class=\"bartext bartext-inside\" text-anchor=\"middle\" data-notex=\"1\" x=\"0\" y=\"0\" style=\"font-family: 'Open Sans', verdana, arial, sans-serif; font-size: 12px; fill: rgb(68, 68, 68); fill-opacity: 1; white-space: pre;\" transform=\"translate(22.1225,265.203125)rotate(90 0.1875 -4.5)\">-97.0</text></g><g class=\"point\"><path d=\"M182.96,0V43.89H218.66V0Z\" style=\"vector-effect: non-scaling-stroke; opacity: 1; stroke-width: 2px; fill: rgb(82, 150, 221); fill-opacity: 1; stroke: rgb(229, 236, 246); stroke-opacity: 1;\"/><text class=\"bartext bartext-inside\" text-anchor=\"middle\" data-notex=\"1\" x=\"0\" y=\"0\" style=\"font-family: 'Open Sans', verdana, arial, sans-serif; font-size: 12px; fill: rgb(68, 68, 68); fill-opacity: 1; white-space: pre;\" transform=\"translate(200.6225,28.843125)rotate(90 0.1875 -4.5)\">-65.0</text></g><g class=\"point\"><path d=\"M227.59,0V33.77H263.29V0Z\" style=\"vector-effect: non-scaling-stroke; opacity: 1; stroke-width: 2px; fill: rgb(82, 150, 221); fill-opacity: 1; stroke: rgb(229, 236, 246); stroke-opacity: 1;\"/><text class=\"bartext bartext-inside\" text-anchor=\"middle\" data-notex=\"1\" x=\"0\" y=\"0\" style=\"font-family: 'Open Sans', verdana, arial, sans-serif; font-size: 12px; fill: rgb(68, 68, 68); fill-opacity: 1; white-space: pre;\" transform=\"translate(245.27172804532577,28.077648725212466)scale(0.897450424929179)\">-50.0</text></g><g class=\"point\"><path d=\"M272.21,0V31.74H307.91V0Z\" style=\"vector-effect: non-scaling-stroke; opacity: 1; stroke-width: 2px; fill: rgb(82, 150, 221); fill-opacity: 1; stroke: rgb(229, 236, 246); stroke-opacity: 1;\"/><text class=\"bartext bartext-inside\" text-anchor=\"middle\" data-notex=\"1\" x=\"0\" y=\"0\" style=\"font-family: 'Open Sans', verdana, arial, sans-serif; font-size: 12px; fill: rgb(68, 68, 68); fill-opacity: 1; white-space: pre;\" transform=\"translate(289.8917280453258,26.047648725212458)scale(0.8974504249291798)\">-47.0</text></g><g class=\"point\"><path d=\"M316.84,0V24.99H352.54V0Z\" style=\"vector-effect: non-scaling-stroke; opacity: 1; stroke-width: 2px; fill: rgb(82, 150, 221); fill-opacity: 1; stroke: rgb(229, 236, 246); stroke-opacity: 1;\"/><text class=\"bartext bartext-inside\" text-anchor=\"middle\" data-notex=\"1\" x=\"0\" y=\"0\" style=\"font-family: 'Open Sans', verdana, arial, sans-serif; font-size: 12px; fill: rgb(68, 68, 68); fill-opacity: 1; white-space: pre;\" transform=\"translate(334.5217280453258,19.297648725212458)scale(0.8974504249291798)\">-37.0</text></g><g class=\"point\"><path d=\"M361.46,0V24.99H397.16V0Z\" style=\"vector-effect: non-scaling-stroke; opacity: 1; stroke-width: 2px; fill: rgb(82, 150, 221); fill-opacity: 1; stroke: rgb(229, 236, 246); stroke-opacity: 1;\"/><text class=\"bartext bartext-inside\" text-anchor=\"middle\" data-notex=\"1\" x=\"0\" y=\"0\" style=\"font-family: 'Open Sans', verdana, arial, sans-serif; font-size: 12px; fill: rgb(68, 68, 68); fill-opacity: 1; white-space: pre;\" transform=\"translate(379.1417280453258,19.297648725212458)scale(0.8974504249291798)\">-37.0</text></g><g class=\"point\"><path d=\"M406.09,0V22.96H441.79V0Z\" style=\"vector-effect: non-scaling-stroke; opacity: 1; stroke-width: 2px; fill: rgb(82, 150, 221); fill-opacity: 1; stroke: rgb(229, 236, 246); stroke-opacity: 1;\"/><text class=\"bartext bartext-inside\" text-anchor=\"middle\" data-notex=\"1\" x=\"0\" y=\"0\" style=\"font-family: 'Open Sans', verdana, arial, sans-serif; font-size: 12px; fill: rgb(68, 68, 68); fill-opacity: 1; white-space: pre;\" transform=\"translate(423.7717280453258,17.26764872521246)scale(0.8974504249291798)\">-34.0</text></g><g class=\"point\"><path d=\"M450.71,0V21.61H486.41V0Z\" style=\"vector-effect: non-scaling-stroke; opacity: 1; stroke-width: 2px; fill: rgb(82, 150, 221); fill-opacity: 1; stroke: rgb(229, 236, 246); stroke-opacity: 1;\"/><text class=\"bartext bartext-inside\" text-anchor=\"middle\" data-notex=\"1\" x=\"0\" y=\"0\" style=\"font-family: 'Open Sans', verdana, arial, sans-serif; font-size: 12px; fill: rgb(68, 68, 68); fill-opacity: 1; white-space: pre;\" transform=\"translate(468.3917280453258,15.91764872521246)scale(0.8974504249291798)\">-32.0</text></g><g class=\"point\"><path d=\"M495.34,0V20.26H531.04V0Z\" style=\"vector-effect: non-scaling-stroke; opacity: 1; stroke-width: 2px; fill: rgb(82, 150, 221); fill-opacity: 1; stroke: rgb(229, 236, 246); stroke-opacity: 1;\"/><text class=\"bartext bartext-inside\" text-anchor=\"middle\" data-notex=\"1\" x=\"0\" y=\"0\" style=\"font-family: 'Open Sans', verdana, arial, sans-serif; font-size: 12px; fill: rgb(68, 68, 68); fill-opacity: 1; white-space: pre;\" transform=\"translate(513.0217280453257,14.567648725212468)scale(0.8974504249291781)\">-30.0</text></g><g class=\"point\"><path d=\"M539.96,0V19.58H575.66V0Z\" style=\"vector-effect: non-scaling-stroke; opacity: 1; stroke-width: 2px; fill: rgb(82, 150, 221); fill-opacity: 1; stroke: rgb(229, 236, 246); stroke-opacity: 1;\"/><text class=\"bartext bartext-inside\" text-anchor=\"middle\" data-notex=\"1\" x=\"0\" y=\"0\" style=\"font-family: 'Open Sans', verdana, arial, sans-serif; font-size: 12px; fill: rgb(68, 68, 68); fill-opacity: 1; white-space: pre;\" transform=\"translate(557.6417280453257,13.887648725212468)scale(0.8974504249291764)\">-29.0</text></g><g class=\"point\"><path d=\"M182.96,43.89V62.8H218.66V43.89Z\" style=\"vector-effect: non-scaling-stroke; opacity: 1; stroke-width: 2px; fill: rgb(82, 150, 221); fill-opacity: 1; stroke: rgb(229, 236, 246); stroke-opacity: 1;\"/><text class=\"bartext bartext-inside\" text-anchor=\"middle\" data-notex=\"1\" x=\"0\" y=\"0\" style=\"font-family: 'Open Sans', verdana, arial, sans-serif; font-size: 12px; fill: rgb(68, 68, 68); fill-opacity: 1; white-space: pre;\" transform=\"translate(200.648625,57.217999999999996)scale(0.8606666666666665)\">-28.0</text></g><g class=\"point\"><path d=\"M584.59,0V18.91H620.29V0Z\" style=\"vector-effect: non-scaling-stroke; opacity: 1; stroke-width: 2px; fill: rgb(82, 150, 221); fill-opacity: 1; stroke: rgb(229, 236, 246); stroke-opacity: 1;\"/><text class=\"bartext bartext-outside\" text-anchor=\"middle\" data-notex=\"1\" x=\"0\" y=\"0\" style=\"font-family: 'Open Sans', verdana, arial, sans-serif; font-size: 12px; fill: rgb(42, 63, 95); fill-opacity: 1; white-space: pre;\" transform=\"translate(602.2525,33.91)\">-28.0</text></g><g class=\"point\"><path d=\"M182.96,62.8V81.71H218.66V62.8Z\" style=\"vector-effect: non-scaling-stroke; opacity: 1; stroke-width: 2px; fill: rgb(82, 150, 221); fill-opacity: 1; stroke: rgb(229, 236, 246); stroke-opacity: 1;\"/><text class=\"bartext bartext-outside\" text-anchor=\"middle\" data-notex=\"1\" x=\"0\" y=\"0\" style=\"font-family: 'Open Sans', verdana, arial, sans-serif; font-size: 12px; fill: rgb(42, 63, 95); fill-opacity: 1; white-space: pre;\" transform=\"translate(200.6225,96.71)\">-28.0</text></g><g class=\"point\"><path d=\"M629.21,0V17.56H664.91V0Z\" style=\"vector-effect: non-scaling-stroke; opacity: 1; stroke-width: 2px; fill: rgb(82, 150, 221); fill-opacity: 1; stroke: rgb(229, 236, 246); stroke-opacity: 1;\"/><text class=\"bartext bartext-outside\" text-anchor=\"middle\" data-notex=\"1\" x=\"0\" y=\"0\" style=\"font-family: 'Open Sans', verdana, arial, sans-serif; font-size: 12px; fill: rgb(42, 63, 95); fill-opacity: 1; white-space: pre;\" transform=\"translate(646.8725,32.56)\">-26.0</text></g><g class=\"point\"><path d=\"M673.84,0V17.56H709.54V0Z\" style=\"vector-effect: non-scaling-stroke; opacity: 1; stroke-width: 2px; fill: rgb(82, 150, 221); fill-opacity: 1; stroke: rgb(229, 236, 246); stroke-opacity: 1;\"/><text class=\"bartext bartext-outside\" text-anchor=\"middle\" data-notex=\"1\" x=\"0\" y=\"0\" style=\"font-family: 'Open Sans', verdana, arial, sans-serif; font-size: 12px; fill: rgb(42, 63, 95); fill-opacity: 1; white-space: pre;\" transform=\"translate(691.5025,32.56)\">-26.0</text></g></g></g></g></g><g class=\"overplot\"/><path class=\"xlines-above crisp\" d=\"M0,0\" style=\"fill: none;\"/><path class=\"ylines-above crisp\" d=\"M0,0\" style=\"fill: none;\"/><g class=\"overlines-above\"/><g class=\"xaxislayer-above\"><g class=\"xtick\"><text text-anchor=\"end\" x=\"0\" y=\"121.6\" transform=\"translate(128.31,0) rotate(30,0,115.6)\" style=\"font-family: 'Open Sans', verdana, arial, sans-serif; font-size: 12px; fill: rgb(42, 63, 95); fill-opacity: 1; white-space: pre; opacity: 1;\">My_pp_big_and_hard</text></g><g class=\"xtick\"><text text-anchor=\"end\" x=\"0\" y=\"121.6\" transform=\"translate(172.94,0) rotate(30,0,115.6)\" style=\"font-family: 'Open Sans', verdana, arial, sans-serif; font-size: 12px; fill: rgb(42, 63, 95); fill-opacity: 1; white-space: pre; opacity: 1;\">AmazingAdminAnus</text></g><g class=\"xtick\"><text text-anchor=\"end\" x=\"0\" y=\"121.6\" transform=\"translate(217.56,0) rotate(30,0,115.6)\" style=\"font-family: 'Open Sans', verdana, arial, sans-serif; font-size: 12px; fill: rgb(42, 63, 95); fill-opacity: 1; white-space: pre; opacity: 1;\">_theangrybadger_</text></g><g class=\"xtick\"><text text-anchor=\"end\" x=\"0\" y=\"121.6\" transform=\"translate(262.19,0) rotate(30,0,115.6)\" style=\"font-family: 'Open Sans', verdana, arial, sans-serif; font-size: 12px; fill: rgb(42, 63, 95); fill-opacity: 1; white-space: pre; opacity: 1;\">ObviousTrollB8</text></g><g class=\"xtick\"><text text-anchor=\"end\" x=\"0\" y=\"121.6\" transform=\"translate(306.81,0) rotate(30,0,115.6)\" style=\"font-family: 'Open Sans', verdana, arial, sans-serif; font-size: 12px; fill: rgb(42, 63, 95); fill-opacity: 1; white-space: pre; opacity: 1;\">swampwitch116</text></g><g class=\"xtick\"><text text-anchor=\"end\" x=\"0\" y=\"121.6\" transform=\"translate(351.44,0) rotate(30,0,115.6)\" style=\"font-family: 'Open Sans', verdana, arial, sans-serif; font-size: 12px; fill: rgb(42, 63, 95); fill-opacity: 1; white-space: pre; opacity: 1;\">tenet99221133</text></g><g class=\"xtick\"><text text-anchor=\"end\" x=\"0\" y=\"121.6\" transform=\"translate(396.06,0) rotate(30,0,115.6)\" style=\"font-family: 'Open Sans', verdana, arial, sans-serif; font-size: 12px; fill: rgb(42, 63, 95); fill-opacity: 1; white-space: pre; opacity: 1;\">december17</text></g><g class=\"xtick\"><text text-anchor=\"end\" x=\"0\" y=\"121.6\" transform=\"translate(440.69,0) rotate(30,0,115.6)\" style=\"font-family: 'Open Sans', verdana, arial, sans-serif; font-size: 12px; fill: rgb(42, 63, 95); fill-opacity: 1; white-space: pre; opacity: 1;\">Lunarskies92</text></g><g class=\"xtick\"><text text-anchor=\"end\" x=\"0\" y=\"121.6\" transform=\"translate(485.31,0) rotate(30,0,115.6)\" style=\"font-family: 'Open Sans', verdana, arial, sans-serif; font-size: 12px; fill: rgb(42, 63, 95); fill-opacity: 1; white-space: pre; opacity: 1;\">RedditGroyperCommand</text></g><g class=\"xtick\"><text text-anchor=\"end\" x=\"0\" y=\"121.6\" transform=\"translate(529.94,0) rotate(30,0,115.6)\" style=\"font-family: 'Open Sans', verdana, arial, sans-serif; font-size: 12px; fill: rgb(42, 63, 95); fill-opacity: 1; white-space: pre; opacity: 1;\">realnovacade</text></g><g class=\"xtick\"><text text-anchor=\"end\" x=\"0\" y=\"121.6\" transform=\"translate(574.56,0) rotate(30,0,115.6)\" style=\"font-family: 'Open Sans', verdana, arial, sans-serif; font-size: 12px; fill: rgb(42, 63, 95); fill-opacity: 1; white-space: pre; opacity: 1;\">Zennyboy64</text></g><g class=\"xtick\"><text text-anchor=\"end\" x=\"0\" y=\"121.6\" transform=\"translate(619.19,0) rotate(30,0,115.6)\" style=\"font-family: 'Open Sans', verdana, arial, sans-serif; font-size: 12px; fill: rgb(42, 63, 95); fill-opacity: 1; white-space: pre; opacity: 1;\">notaxaponey</text></g><g class=\"xtick\"><text text-anchor=\"end\" x=\"0\" y=\"121.6\" transform=\"translate(663.81,0) rotate(30,0,115.6)\" style=\"font-family: 'Open Sans', verdana, arial, sans-serif; font-size: 12px; fill: rgb(42, 63, 95); fill-opacity: 1; white-space: pre; opacity: 1;\">ImpishFinch</text></g><g class=\"xtick\"><text text-anchor=\"end\" x=\"0\" y=\"121.6\" transform=\"translate(708.44,0) rotate(30,0,115.6)\" style=\"font-family: 'Open Sans', verdana, arial, sans-serif; font-size: 12px; fill: rgb(42, 63, 95); fill-opacity: 1; white-space: pre; opacity: 1;\">RedditAdminsRNazis2</text></g><g class=\"xtick\"><text text-anchor=\"end\" x=\"0\" y=\"121.6\" transform=\"translate(753.06,0) rotate(30,0,115.6)\" style=\"font-family: 'Open Sans', verdana, arial, sans-serif; font-size: 12px; fill: rgb(42, 63, 95); fill-opacity: 1; white-space: pre; opacity: 1;\">Such_Star_7421</text></g><g class=\"xtick\"><text text-anchor=\"end\" x=\"0\" y=\"121.6\" transform=\"translate(797.69,0) rotate(30,0,115.6)\" style=\"font-family: 'Open Sans', verdana, arial, sans-serif; font-size: 12px; fill: rgb(42, 63, 95); fill-opacity: 1; white-space: pre; opacity: 1;\">roughneck1084</text></g></g><g class=\"yaxislayer-above\"><g class=\"ytick\"><text text-anchor=\"end\" x=\"105\" y=\"4.199999999999999\" transform=\"translate(0,395.12)\" style=\"font-family: 'Open Sans', verdana, arial, sans-serif; font-size: 12px; fill: rgb(42, 63, 95); fill-opacity: 1; white-space: pre; opacity: 1;\">−400</text></g><g class=\"ytick\"><text text-anchor=\"end\" x=\"105\" y=\"4.199999999999999\" style=\"font-family: 'Open Sans', verdana, arial, sans-serif; font-size: 12px; fill: rgb(42, 63, 95); fill-opacity: 1; white-space: pre; opacity: 1;\" transform=\"translate(0,327.59000000000003)\">−300</text></g><g class=\"ytick\"><text text-anchor=\"end\" x=\"105\" y=\"4.199999999999999\" style=\"font-family: 'Open Sans', verdana, arial, sans-serif; font-size: 12px; fill: rgb(42, 63, 95); fill-opacity: 1; white-space: pre; opacity: 1;\" transform=\"translate(0,260.06)\">−200</text></g><g class=\"ytick\"><text text-anchor=\"end\" x=\"105\" y=\"4.199999999999999\" style=\"font-family: 'Open Sans', verdana, arial, sans-serif; font-size: 12px; fill: rgb(42, 63, 95); fill-opacity: 1; white-space: pre; opacity: 1;\" transform=\"translate(0,192.53)\">−100</text></g><g class=\"ytick\"><text text-anchor=\"end\" x=\"105\" y=\"4.199999999999999\" style=\"font-family: 'Open Sans', verdana, arial, sans-serif; font-size: 12px; fill: rgb(42, 63, 95); fill-opacity: 1; white-space: pre; opacity: 1;\" transform=\"translate(0,125)\">0</text></g></g><g class=\"overaxes-above\"/></g></g><g class=\"polarlayer\"/><g class=\"ternarylayer\"/><g class=\"geolayer\"/><g class=\"funnelarealayer\"/><g class=\"pielayer\"/><g class=\"iciclelayer\"/><g class=\"treemaplayer\"/><g class=\"sunburstlayer\"/><g class=\"glimages\"/><defs id=\"topdefs-5560b5\"><g class=\"clips\"/></defs><g class=\"layer-above\"><g class=\"imagelayer\"/><g class=\"shapelayer\"/></g><g class=\"infolayer\"><g class=\"g-gtitle\"><text class=\"gtitle\" x=\"450\" y=\"400\" text-anchor=\"middle\" dy=\"0em\" style=\"font-family: 'Open Sans', verdana, arial, sans-serif; font-size: 17px; fill: rgb(42, 63, 95); opacity: 1; font-weight: normal; white-space: pre;\">Banned accounts minimum contribution scores</text></g><g class=\"g-xtitle\" transform=\"translate(0,2.370312499999997)\"><text class=\"xtitle\" x=\"463\" y=\"11.629687500000003\" text-anchor=\"middle\" style=\"font-family: 'Open Sans', verdana, arial, sans-serif; font-size: 14px; fill: rgb(42, 63, 95); opacity: 1; font-weight: normal; white-space: pre;\">user name</text></g><g class=\"g-ytitle\"><text class=\"ytitle\" transform=\"rotate(-90,47.48125,272.5)\" x=\"47.48125\" y=\"272.5\" text-anchor=\"middle\" style=\"font-family: 'Open Sans', verdana, arial, sans-serif; font-size: 14px; fill: rgb(42, 63, 95); opacity: 1; font-weight: normal; white-space: pre;\">score</text></g></g></svg>"
      ]
     },
     "metadata": {},
     "output_type": "display_data"
    }
   ],
   "source": [
    "# Filter on minimum scores\n",
    "\n",
    "df_scores_low = df_banned.sort_values('score').head(20)\n",
    "\n",
    "fig = px.bar(df_scores_low,\n",
    "             x='user_name', \n",
    "             y=df_scores_low.score, \n",
    "             text = df_scores_low.score)\n",
    "\n",
    "fig.update_layout(title_text='Banned accounts minimum contribution scores', title_x=0.5, title_y=0.2)\n",
    "\n",
    "fig.update_layout(\n",
    "    xaxis = dict(\n",
    "        side='top',\n",
    "        title='user name',\n",
    "        tickmode = 'array',\n",
    "        tickvals = df_scores_low.user_name,\n",
    "    )\n",
    ")\n",
    "\n",
    "clrs = ['red' if (y < -120) else '#5296dd' for y in df_scores_low.score]\n",
    "\n",
    "fig.update_traces(marker_color=clrs,\n",
    "                  marker_line_width=2, opacity=1, textposition='auto')\n",
    "\n",
    "\n",
    "fig.show()\n"
   ]
  },
  {
   "cell_type": "code",
   "execution_count": 31,
   "id": "bd753616",
   "metadata": {},
   "outputs": [],
   "source": [
    "df_pp = df_banned[df_banned.user_name == 'My_pp_big_and_hard']\n",
    "df_pp.sort_values('created_at', inplace=True);"
   ]
  },
  {
   "cell_type": "markdown",
   "id": "9775eed6",
   "metadata": {},
   "source": [
    "Posting sexual comments"
   ]
  },
  {
   "cell_type": "code",
   "execution_count": 32,
   "id": "134a5c1d",
   "metadata": {},
   "outputs": [
    {
     "data": {
      "text/html": [
       "<div>\n",
       "<style scoped>\n",
       "    .dataframe tbody tr th:only-of-type {\n",
       "        vertical-align: middle;\n",
       "    }\n",
       "\n",
       "    .dataframe tbody tr th {\n",
       "        vertical-align: top;\n",
       "    }\n",
       "\n",
       "    .dataframe thead th {\n",
       "        text-align: right;\n",
       "    }\n",
       "</style>\n",
       "<table border=\"1\" class=\"dataframe\">\n",
       "  <thead>\n",
       "    <tr style=\"text-align: right;\">\n",
       "      <th></th>\n",
       "      <th>child_id</th>\n",
       "      <th>permalink</th>\n",
       "      <th>text</th>\n",
       "      <th>parent_id</th>\n",
       "      <th>subreddit</th>\n",
       "      <th>created_at</th>\n",
       "      <th>sentiment_blob</th>\n",
       "      <th>sentiment_nltk</th>\n",
       "      <th>score</th>\n",
       "      <th>top_level</th>\n",
       "      <th>...</th>\n",
       "      <th>is_mod</th>\n",
       "      <th>is_gold</th>\n",
       "      <th>is_banned</th>\n",
       "      <th>comment_karma</th>\n",
       "      <th>link_karma</th>\n",
       "      <th>user_created_at</th>\n",
       "      <th>banned_unverified</th>\n",
       "      <th>creation_year</th>\n",
       "      <th>diff</th>\n",
       "      <th>days_after_creation</th>\n",
       "    </tr>\n",
       "  </thead>\n",
       "  <tbody>\n",
       "    <tr>\n",
       "      <th>5207</th>\n",
       "      <td>t1_giyqv2e</td>\n",
       "      <td>/r/pussypassdenied/comments/kv8enp/lawyer_brea...</td>\n",
       "      <td>I wanna fuck her tho</td>\n",
       "      <td>t1_gix73iy</td>\n",
       "      <td>r/pussypassdenied</td>\n",
       "      <td>2021-01-12 03:56:44</td>\n",
       "      <td>Negative</td>\n",
       "      <td>Negative</td>\n",
       "      <td>-189.0</td>\n",
       "      <td>comment</td>\n",
       "      <td>...</td>\n",
       "      <td>True</td>\n",
       "      <td>True</td>\n",
       "      <td>True</td>\n",
       "      <td>NaN</td>\n",
       "      <td>NaN</td>\n",
       "      <td>NaT</td>\n",
       "      <td>banned</td>\n",
       "      <td>banned</td>\n",
       "      <td>NaN</td>\n",
       "      <td>NaN</td>\n",
       "    </tr>\n",
       "    <tr>\n",
       "      <th>5208</th>\n",
       "      <td>t1_giyw8mi</td>\n",
       "      <td>/r/pussypassdenied/comments/kv8enp/lawyer_brea...</td>\n",
       "      <td>But im horny af :(</td>\n",
       "      <td>t1_giyvk4d</td>\n",
       "      <td>r/pussypassdenied</td>\n",
       "      <td>2021-01-12 04:46:36</td>\n",
       "      <td>Negative</td>\n",
       "      <td>Negative</td>\n",
       "      <td>-129.0</td>\n",
       "      <td>comment</td>\n",
       "      <td>...</td>\n",
       "      <td>True</td>\n",
       "      <td>True</td>\n",
       "      <td>True</td>\n",
       "      <td>NaN</td>\n",
       "      <td>NaN</td>\n",
       "      <td>NaT</td>\n",
       "      <td>banned</td>\n",
       "      <td>banned</td>\n",
       "      <td>NaN</td>\n",
       "      <td>NaN</td>\n",
       "    </tr>\n",
       "    <tr>\n",
       "      <th>5209</th>\n",
       "      <td>t1_giyx62k</td>\n",
       "      <td>/r/pussypassdenied/comments/kv8enp/lawyer_brea...</td>\n",
       "      <td>Can I stick you in you? 😳😳😳</td>\n",
       "      <td>t1_giyx1cz</td>\n",
       "      <td>r/pussypassdenied</td>\n",
       "      <td>2021-01-12 04:55:46</td>\n",
       "      <td>Neutral</td>\n",
       "      <td>Neutral</td>\n",
       "      <td>-97.0</td>\n",
       "      <td>comment</td>\n",
       "      <td>...</td>\n",
       "      <td>True</td>\n",
       "      <td>True</td>\n",
       "      <td>True</td>\n",
       "      <td>NaN</td>\n",
       "      <td>NaN</td>\n",
       "      <td>NaT</td>\n",
       "      <td>banned</td>\n",
       "      <td>banned</td>\n",
       "      <td>NaN</td>\n",
       "      <td>NaN</td>\n",
       "    </tr>\n",
       "    <tr>\n",
       "      <th>5210</th>\n",
       "      <td>t1_giyxmsv</td>\n",
       "      <td>/r/pussypassdenied/comments/kv8enp/lawyer_brea...</td>\n",
       "      <td>Hehehe \\n#😆😆😆</td>\n",
       "      <td>t1_giyxg6o</td>\n",
       "      <td>r/pussypassdenied</td>\n",
       "      <td>2021-01-12 05:00:29</td>\n",
       "      <td>Neutral</td>\n",
       "      <td>Neutral</td>\n",
       "      <td>-19.0</td>\n",
       "      <td>comment</td>\n",
       "      <td>...</td>\n",
       "      <td>True</td>\n",
       "      <td>True</td>\n",
       "      <td>True</td>\n",
       "      <td>NaN</td>\n",
       "      <td>NaN</td>\n",
       "      <td>NaT</td>\n",
       "      <td>banned</td>\n",
       "      <td>banned</td>\n",
       "      <td>NaN</td>\n",
       "      <td>NaN</td>\n",
       "    </tr>\n",
       "    <tr>\n",
       "      <th>5211</th>\n",
       "      <td>t1_giz0jk1</td>\n",
       "      <td>/r/pussypassdenied/comments/kv8enp/lawyer_brea...</td>\n",
       "      <td>What if you she later calls and says you pumpe...</td>\n",
       "      <td>t1_giyzieh</td>\n",
       "      <td>r/pussypassdenied</td>\n",
       "      <td>2021-01-12 05:31:55</td>\n",
       "      <td>Neutral</td>\n",
       "      <td>Neutral</td>\n",
       "      <td>8.0</td>\n",
       "      <td>comment</td>\n",
       "      <td>...</td>\n",
       "      <td>True</td>\n",
       "      <td>True</td>\n",
       "      <td>True</td>\n",
       "      <td>NaN</td>\n",
       "      <td>NaN</td>\n",
       "      <td>NaT</td>\n",
       "      <td>banned</td>\n",
       "      <td>banned</td>\n",
       "      <td>NaN</td>\n",
       "      <td>NaN</td>\n",
       "    </tr>\n",
       "    <tr>\n",
       "      <th>5212</th>\n",
       "      <td>t1_giz1e85</td>\n",
       "      <td>/r/pussypassdenied/comments/kv8enp/lawyer_brea...</td>\n",
       "      <td>But it feels better to fuck women who you are ...</td>\n",
       "      <td>t1_giz10gy</td>\n",
       "      <td>r/pussypassdenied</td>\n",
       "      <td>2021-01-12 05:41:42</td>\n",
       "      <td>Positive</td>\n",
       "      <td>Neutral</td>\n",
       "      <td>-3.0</td>\n",
       "      <td>comment</td>\n",
       "      <td>...</td>\n",
       "      <td>True</td>\n",
       "      <td>True</td>\n",
       "      <td>True</td>\n",
       "      <td>NaN</td>\n",
       "      <td>NaN</td>\n",
       "      <td>NaT</td>\n",
       "      <td>banned</td>\n",
       "      <td>banned</td>\n",
       "      <td>NaN</td>\n",
       "      <td>NaN</td>\n",
       "    </tr>\n",
       "    <tr>\n",
       "      <th>5213</th>\n",
       "      <td>t1_giz627s</td>\n",
       "      <td>/r/pussypassdenied/comments/kv8enp/lawyer_brea...</td>\n",
       "      <td>OooooooooOoOOoOoHHHH!!</td>\n",
       "      <td>t1_giz5s7s</td>\n",
       "      <td>r/pussypassdenied</td>\n",
       "      <td>2021-01-12 06:39:55</td>\n",
       "      <td>Neutral</td>\n",
       "      <td>Neutral</td>\n",
       "      <td>-9.0</td>\n",
       "      <td>comment</td>\n",
       "      <td>...</td>\n",
       "      <td>True</td>\n",
       "      <td>True</td>\n",
       "      <td>True</td>\n",
       "      <td>NaN</td>\n",
       "      <td>NaN</td>\n",
       "      <td>NaT</td>\n",
       "      <td>banned</td>\n",
       "      <td>banned</td>\n",
       "      <td>NaN</td>\n",
       "      <td>NaN</td>\n",
       "    </tr>\n",
       "  </tbody>\n",
       "</table>\n",
       "<p>7 rows × 24 columns</p>\n",
       "</div>"
      ],
      "text/plain": [
       "        child_id                                          permalink  \\\n",
       "5207  t1_giyqv2e  /r/pussypassdenied/comments/kv8enp/lawyer_brea...   \n",
       "5208  t1_giyw8mi  /r/pussypassdenied/comments/kv8enp/lawyer_brea...   \n",
       "5209  t1_giyx62k  /r/pussypassdenied/comments/kv8enp/lawyer_brea...   \n",
       "5210  t1_giyxmsv  /r/pussypassdenied/comments/kv8enp/lawyer_brea...   \n",
       "5211  t1_giz0jk1  /r/pussypassdenied/comments/kv8enp/lawyer_brea...   \n",
       "5212  t1_giz1e85  /r/pussypassdenied/comments/kv8enp/lawyer_brea...   \n",
       "5213  t1_giz627s  /r/pussypassdenied/comments/kv8enp/lawyer_brea...   \n",
       "\n",
       "                                                   text   parent_id  \\\n",
       "5207                               I wanna fuck her tho  t1_gix73iy   \n",
       "5208                                 But im horny af :(  t1_giyvk4d   \n",
       "5209                        Can I stick you in you? 😳😳😳  t1_giyx1cz   \n",
       "5210                                      Hehehe \\n#😆😆😆  t1_giyxg6o   \n",
       "5211  What if you she later calls and says you pumpe...  t1_giyzieh   \n",
       "5212  But it feels better to fuck women who you are ...  t1_giz10gy   \n",
       "5213                             OooooooooOoOOoOoHHHH!!  t1_giz5s7s   \n",
       "\n",
       "              subreddit          created_at sentiment_blob sentiment_nltk  \\\n",
       "5207  r/pussypassdenied 2021-01-12 03:56:44       Negative       Negative   \n",
       "5208  r/pussypassdenied 2021-01-12 04:46:36       Negative       Negative   \n",
       "5209  r/pussypassdenied 2021-01-12 04:55:46        Neutral        Neutral   \n",
       "5210  r/pussypassdenied 2021-01-12 05:00:29        Neutral        Neutral   \n",
       "5211  r/pussypassdenied 2021-01-12 05:31:55        Neutral        Neutral   \n",
       "5212  r/pussypassdenied 2021-01-12 05:41:42       Positive        Neutral   \n",
       "5213  r/pussypassdenied 2021-01-12 06:39:55        Neutral        Neutral   \n",
       "\n",
       "      score top_level  ... is_mod is_gold is_banned  comment_karma  \\\n",
       "5207 -189.0   comment  ...   True    True      True            NaN   \n",
       "5208 -129.0   comment  ...   True    True      True            NaN   \n",
       "5209  -97.0   comment  ...   True    True      True            NaN   \n",
       "5210  -19.0   comment  ...   True    True      True            NaN   \n",
       "5211    8.0   comment  ...   True    True      True            NaN   \n",
       "5212   -3.0   comment  ...   True    True      True            NaN   \n",
       "5213   -9.0   comment  ...   True    True      True            NaN   \n",
       "\n",
       "      link_karma  user_created_at  banned_unverified  creation_year  diff  \\\n",
       "5207         NaN              NaT             banned         banned   NaN   \n",
       "5208         NaN              NaT             banned         banned   NaN   \n",
       "5209         NaN              NaT             banned         banned   NaN   \n",
       "5210         NaN              NaT             banned         banned   NaN   \n",
       "5211         NaN              NaT             banned         banned   NaN   \n",
       "5212         NaN              NaT             banned         banned   NaN   \n",
       "5213         NaN              NaT             banned         banned   NaN   \n",
       "\n",
       "     days_after_creation  \n",
       "5207                 NaN  \n",
       "5208                 NaN  \n",
       "5209                 NaN  \n",
       "5210                 NaN  \n",
       "5211                 NaN  \n",
       "5212                 NaN  \n",
       "5213                 NaN  \n",
       "\n",
       "[7 rows x 24 columns]"
      ]
     },
     "execution_count": 32,
     "metadata": {},
     "output_type": "execute_result"
    }
   ],
   "source": [
    "df_pp"
   ]
  },
  {
   "cell_type": "code",
   "execution_count": 33,
   "id": "aaf080bc",
   "metadata": {},
   "outputs": [
    {
     "data": {
      "text/plain": [
       "comment    7\n",
       "Name: submission_comment, dtype: int64"
      ]
     },
     "execution_count": 33,
     "metadata": {},
     "output_type": "execute_result"
    }
   ],
   "source": [
    "df_pp.submission_comment.value_counts()"
   ]
  },
  {
   "cell_type": "code",
   "execution_count": 34,
   "id": "f9766bf1",
   "metadata": {},
   "outputs": [],
   "source": [
    "# df_amazing.permalink[15599]"
   ]
  },
  {
   "cell_type": "code",
   "execution_count": 35,
   "id": "5248303e",
   "metadata": {},
   "outputs": [],
   "source": [
    "df_amazing = df_banned[df_banned.user_name == 'AmazingAdminAnus']\n",
    "df_amazing.sort_values('created_at', inplace=True)\n",
    "df_amazing;"
   ]
  },
  {
   "cell_type": "code",
   "execution_count": 36,
   "id": "67d21852",
   "metadata": {},
   "outputs": [
    {
     "data": {
      "text/plain": [
       "comment    5\n",
       "Name: submission_comment, dtype: int64"
      ]
     },
     "execution_count": 36,
     "metadata": {},
     "output_type": "execute_result"
    }
   ],
   "source": [
    "df_amazing.submission_comment.value_counts()"
   ]
  },
  {
   "cell_type": "markdown",
   "id": "a957d165",
   "metadata": {},
   "source": [
    "<a id='banned_contributions'></a>\n",
    ">>### Contributions of Banned accounts in 2021\n",
    "\n",
    "<ul>\n",
    "<li><a href=\"#banned_largest_scores\">Explore the largest scores</a></li>\n",
    "<li><a href=\"#banned_minimum_scores\">Explore the minimum scores</a></li>\n",
    "    <br>\n",
    "<li><a href=\"#banned_contributions\"><b><mark>Contributions of Banned accounts in 2021</mark></b></a></li>\n",
    "<li><a href=\"#banned_peaks\">Banned Accounts Contributions Peaks</a></li>\n",
    "</ul>"
   ]
  },
  {
   "cell_type": "markdown",
   "id": "10f310f4",
   "metadata": {},
   "source": [
    "### Contributions"
   ]
  },
  {
   "cell_type": "code",
   "execution_count": 37,
   "id": "c7770e31",
   "metadata": {},
   "outputs": [
    {
     "data": {
      "image/svg+xml": [
       "<svg class=\"main-svg\" xmlns=\"http://www.w3.org/2000/svg\" xmlns:xlink=\"http://www.w3.org/1999/xlink\" width=\"900\" height=\"500\" style=\"\" viewBox=\"0 0 900 500\"><rect x=\"0\" y=\"0\" width=\"900\" height=\"500\" style=\"fill: rgb(255, 255, 255); fill-opacity: 1;\"/><defs id=\"defs-043ca6\"><g class=\"clips\"/><g class=\"gradients\"/><g class=\"patterns\"/></defs><g class=\"bglayer\"/><g class=\"layer-below\"><g class=\"imagelayer\"/><g class=\"shapelayer\"/></g><g class=\"cartesianlayer\"/><g class=\"polarlayer\"/><g class=\"ternarylayer\"/><g class=\"geolayer\"/><g class=\"funnelarealayer\"/><g class=\"pielayer\"><g class=\"trace\" stroke-linejoin=\"round\" style=\"opacity: 1;\"><g class=\"slice\"><path class=\"surface\" d=\"M432,260l0,-160a160,160 0 1 1 -70.18737014318306,16.216367160988Z\" style=\"pointer-events: all; stroke-width: 0; fill: rgb(76, 120, 168); fill-opacity: 1; stroke: rgb(68, 68, 68); stroke-opacity: 1;\"/><g class=\"slicetext\"><text data-notex=\"1\" class=\"slicetext\" transform=\"translate(449.97002807170185,334.6419138164156)\" text-anchor=\"middle\" x=\"0\" y=\"0\" style=\"font-family: 'Open Sans', verdana, arial, sans-serif; font-size: 12px; fill: rgb(255, 255, 255); fill-opacity: 1; white-space: pre;\"><tspan class=\"line\" dy=\"0em\" x=\"0\" y=\"0\">others</tspan><tspan class=\"line\" dy=\"1.3em\" x=\"0\" y=\"0\">92.8%</tspan></text></g></g><g class=\"slice\"><path class=\"surface\" d=\"M432,260l-70.18737014318299,-143.78363283901206a160,160 0 0 1 70.18737014318299,-16.216367160987943Z\" style=\"pointer-events: all; stroke-width: 0; fill: rgb(245, 133, 24); fill-opacity: 1; stroke: rgb(68, 68, 68); stroke-opacity: 1;\"/><g class=\"slicetext\"><text data-notex=\"1\" class=\"slicetext\" transform=\"translate(402.60013030766504,129.44735888795634)\" text-anchor=\"middle\" x=\"0\" y=\"0\" style=\"font-family: 'Open Sans', verdana, arial, sans-serif; font-size: 12px; fill: rgb(68, 68, 68); fill-opacity: 1; white-space: pre;\"><tspan class=\"line\" dy=\"0em\" x=\"0\" y=\"0\">banned</tspan><tspan class=\"line\" dy=\"1.3em\" x=\"0\" y=\"0\">7.23%</tspan></text></g></g></g></g><g class=\"iciclelayer\"/><g class=\"treemaplayer\"/><g class=\"sunburstlayer\"/><g class=\"glimages\"/><defs id=\"topdefs-043ca6\"><g class=\"clips\"/><clipPath id=\"legend043ca6\"><rect width=\"90\" height=\"48\" x=\"0\" y=\"0\"/></clipPath></defs><g class=\"layer-above\"><g class=\"imagelayer\"/><g class=\"shapelayer\"/></g><g class=\"infolayer\"><g class=\"legend\" pointer-events=\"all\" transform=\"translate(798.08,100)\"><rect class=\"bg\" shape-rendering=\"crispEdges\" width=\"90\" height=\"48\" x=\"0\" y=\"0\" style=\"stroke: rgb(68, 68, 68); stroke-opacity: 1; fill: rgb(255, 255, 255); fill-opacity: 1; stroke-width: 0px;\"/><g class=\"scrollbox\" transform=\"\" clip-path=\"url(#legend043ca6)\"><g class=\"groups\"><g class=\"traces\" transform=\"translate(0,14.5)\" style=\"opacity: 1;\"><text class=\"legendtext\" text-anchor=\"start\" x=\"40\" y=\"4.680000000000001\" style=\"font-family: 'Open Sans', verdana, arial, sans-serif; font-size: 12px; fill: rgb(42, 63, 95); fill-opacity: 1; white-space: pre;\">others</text><g class=\"layers\" style=\"opacity: 1;\"><g class=\"legendfill\"/><g class=\"legendlines\"/><g class=\"legendsymbols\"><g class=\"legendpoints\"><path class=\"legendpie\" d=\"M6,6H-6V-6H6Z\" transform=\"translate(20,0)\" style=\"stroke-width: 0; fill: rgb(76, 120, 168); fill-opacity: 1; stroke: rgb(68, 68, 68); stroke-opacity: 1;\"/></g></g></g><rect class=\"legendtoggle\" x=\"0\" y=\"-9.5\" width=\"84.5\" height=\"19\" style=\"fill: rgb(0, 0, 0); fill-opacity: 0;\"/></g><g class=\"traces\" transform=\"translate(0,33.5)\" style=\"opacity: 1;\"><text class=\"legendtext\" text-anchor=\"start\" x=\"40\" y=\"4.680000000000001\" style=\"font-family: 'Open Sans', verdana, arial, sans-serif; font-size: 12px; fill: rgb(42, 63, 95); fill-opacity: 1; white-space: pre;\">banned</text><g class=\"layers\" style=\"opacity: 1;\"><g class=\"legendfill\"/><g class=\"legendlines\"/><g class=\"legendsymbols\"><g class=\"legendpoints\"><path class=\"legendpie\" d=\"M6,6H-6V-6H6Z\" transform=\"translate(20,0)\" style=\"stroke-width: 0; fill: rgb(245, 133, 24); fill-opacity: 1; stroke: rgb(68, 68, 68); stroke-opacity: 1;\"/></g></g></g><rect class=\"legendtoggle\" x=\"0\" y=\"-9.5\" width=\"84.5\" height=\"19\" style=\"fill: rgb(0, 0, 0); fill-opacity: 0;\"/></g></g></g><rect class=\"scrollbar\" rx=\"20\" ry=\"3\" width=\"0\" height=\"0\" x=\"0\" y=\"0\" style=\"fill: rgb(128, 139, 164); fill-opacity: 1;\"/></g><g class=\"g-gtitle\"><text class=\"gtitle\" x=\"45\" y=\"50\" text-anchor=\"start\" dy=\"0em\" style=\"font-family: 'Open Sans', verdana, arial, sans-serif; font-size: 17px; fill: rgb(42, 63, 95); opacity: 1; font-weight: normal; white-space: pre;\">Contributions of Banned accounts in 2021</text></g></g></svg>"
      ]
     },
     "metadata": {},
     "output_type": "display_data"
    }
   ],
   "source": [
    "fig = px.pie(df_merged.is_banned.value_counts(),\n",
    "             values='is_banned', names=['others', 'banned'], color_discrete_sequence = colors,\n",
    "             title = 'Contributions of Banned accounts in 2021')\n",
    "\n",
    "fig.update_traces(textposition='inside', textinfo='percent+label')\n",
    "\n",
    "fig.show()"
   ]
  },
  {
   "cell_type": "code",
   "execution_count": 38,
   "id": "29fbc524",
   "metadata": {},
   "outputs": [
    {
     "name": "stdout",
     "output_type": "stream",
     "text": [
      "The percentage % of 2021 contributions made by Banned accounts:\n"
     ]
    },
    {
     "data": {
      "text/plain": [
       "7.227533460803059"
      ]
     },
     "execution_count": 38,
     "metadata": {},
     "output_type": "execute_result"
    }
   ],
   "source": [
    "print('The percentage % of 2021 contributions made by Banned accounts:')\n",
    "banned_contr_prop = df_banned.shape[0] * 100 /df_merged.shape[0]\n",
    "banned_contr_prop"
   ]
  },
  {
   "cell_type": "code",
   "execution_count": 39,
   "id": "b91b441c",
   "metadata": {},
   "outputs": [
    {
     "data": {
      "image/svg+xml": [
       "<svg class=\"main-svg\" xmlns=\"http://www.w3.org/2000/svg\" xmlns:xlink=\"http://www.w3.org/1999/xlink\" width=\"900\" height=\"500\" style=\"\" viewBox=\"0 0 900 500\"><rect x=\"0\" y=\"0\" width=\"900\" height=\"500\" style=\"fill: rgb(255, 255, 255); fill-opacity: 1;\"/><defs id=\"defs-1f9763\"><g class=\"clips\"><clipPath id=\"clip1f9763xyplot\" class=\"plotclip\"><rect width=\"740\" height=\"360\"/></clipPath><clipPath class=\"axesclip\" id=\"clip1f9763x\"><rect x=\"80\" y=\"0\" width=\"740\" height=\"500\"/></clipPath><clipPath class=\"axesclip\" id=\"clip1f9763y\"><rect x=\"0\" y=\"60\" width=\"900\" height=\"360\"/></clipPath><clipPath class=\"axesclip\" id=\"clip1f9763xy\"><rect x=\"80\" y=\"60\" width=\"740\" height=\"360\"/></clipPath></g><g class=\"gradients\"/><g class=\"patterns\"/></defs><g class=\"bglayer\"><rect class=\"bg\" x=\"80\" y=\"60\" width=\"740\" height=\"360\" style=\"fill: rgb(229, 236, 246); fill-opacity: 1; stroke-width: 0;\"/></g><g class=\"layer-below\"><g class=\"imagelayer\"/><g class=\"shapelayer\"/></g><g class=\"cartesianlayer\"><g class=\"subplot xy\"><g class=\"layer-subplot\"><g class=\"shapelayer\"/><g class=\"imagelayer\"/></g><g class=\"gridlayer\"><g class=\"x\"/><g class=\"y\"><path class=\"ygrid crisp\" transform=\"translate(0,379.72)\" d=\"M80,0h740\" style=\"stroke: rgb(255, 255, 255); stroke-opacity: 1; stroke-width: 1px;\"/><path class=\"ygrid crisp\" transform=\"translate(0,339.44)\" d=\"M80,0h740\" style=\"stroke: rgb(255, 255, 255); stroke-opacity: 1; stroke-width: 1px;\"/><path class=\"ygrid crisp\" transform=\"translate(0,299.16999999999996)\" d=\"M80,0h740\" style=\"stroke: rgb(255, 255, 255); stroke-opacity: 1; stroke-width: 1px;\"/><path class=\"ygrid crisp\" transform=\"translate(0,258.89)\" d=\"M80,0h740\" style=\"stroke: rgb(255, 255, 255); stroke-opacity: 1; stroke-width: 1px;\"/><path class=\"ygrid crisp\" transform=\"translate(0,218.61)\" d=\"M80,0h740\" style=\"stroke: rgb(255, 255, 255); stroke-opacity: 1; stroke-width: 1px;\"/><path class=\"ygrid crisp\" transform=\"translate(0,178.32999999999998)\" d=\"M80,0h740\" style=\"stroke: rgb(255, 255, 255); stroke-opacity: 1; stroke-width: 1px;\"/><path class=\"ygrid crisp\" transform=\"translate(0,138.05)\" d=\"M80,0h740\" style=\"stroke: rgb(255, 255, 255); stroke-opacity: 1; stroke-width: 1px;\"/><path class=\"ygrid crisp\" transform=\"translate(0,97.78)\" d=\"M80,0h740\" style=\"stroke: rgb(255, 255, 255); stroke-opacity: 1; stroke-width: 1px;\"/></g></g><g class=\"zerolinelayer\"><path class=\"yzl zl crisp\" transform=\"translate(0,420)\" d=\"M80,0h740\" style=\"stroke: rgb(255, 255, 255); stroke-opacity: 1; stroke-width: 2px;\"/></g><path class=\"xlines-below\"/><path class=\"ylines-below\"/><g class=\"overlines-below\"/><g class=\"xaxislayer-below\"/><g class=\"yaxislayer-below\"/><g class=\"overaxes-below\"/><g class=\"plot\" transform=\"translate(80,60)\" clip-path=\"url(#clip1f9763xyplot)\"><g class=\"barlayer mlayer\"><g class=\"trace bars\" style=\"opacity: 1;\"><g class=\"points\"><g class=\"point\"><path d=\"M37,360V18H333V360Z\" style=\"vector-effect: non-scaling-stroke; opacity: 1; stroke-width: 0.5px; fill: rgb(82, 150, 221); fill-opacity: 1; stroke: rgb(229, 236, 246); stroke-opacity: 1;\"/></g><g class=\"point\"><path d=\"M407,360V333.36H703V360Z\" style=\"vector-effect: non-scaling-stroke; opacity: 1; stroke-width: 0.5px; fill: rgb(82, 150, 221); fill-opacity: 1; stroke: rgb(229, 236, 246); stroke-opacity: 1;\"/></g></g></g></g></g><g class=\"overplot\"/><path class=\"xlines-above crisp\" d=\"M0,0\" style=\"fill: none;\"/><path class=\"ylines-above crisp\" d=\"M0,0\" style=\"fill: none;\"/><g class=\"overlines-above\"/><g class=\"xaxislayer-above\"><g class=\"xtick\"><text text-anchor=\"middle\" x=\"0\" y=\"433\" transform=\"translate(265,0)\" style=\"font-family: 'Open Sans', verdana, arial, sans-serif; font-size: 12px; fill: rgb(42, 63, 95); fill-opacity: 1; white-space: pre; opacity: 1;\">others</text></g><g class=\"xtick\"><text text-anchor=\"middle\" x=\"0\" y=\"433\" transform=\"translate(635,0)\" style=\"font-family: 'Open Sans', verdana, arial, sans-serif; font-size: 12px; fill: rgb(42, 63, 95); fill-opacity: 1; white-space: pre; opacity: 1;\">banned</text></g></g><g class=\"yaxislayer-above\"><g class=\"ytick\"><text text-anchor=\"end\" x=\"79\" y=\"4.199999999999999\" transform=\"translate(0,420)\" style=\"font-family: 'Open Sans', verdana, arial, sans-serif; font-size: 12px; fill: rgb(42, 63, 95); fill-opacity: 1; white-space: pre; opacity: 1;\">0</text></g><g class=\"ytick\"><text text-anchor=\"end\" x=\"79\" y=\"4.199999999999999\" style=\"font-family: 'Open Sans', verdana, arial, sans-serif; font-size: 12px; fill: rgb(42, 63, 95); fill-opacity: 1; white-space: pre; opacity: 1;\" transform=\"translate(0,379.72)\">2k</text></g><g class=\"ytick\"><text text-anchor=\"end\" x=\"79\" y=\"4.199999999999999\" style=\"font-family: 'Open Sans', verdana, arial, sans-serif; font-size: 12px; fill: rgb(42, 63, 95); fill-opacity: 1; white-space: pre; opacity: 1;\" transform=\"translate(0,339.44)\">4k</text></g><g class=\"ytick\"><text text-anchor=\"end\" x=\"79\" y=\"4.199999999999999\" style=\"font-family: 'Open Sans', verdana, arial, sans-serif; font-size: 12px; fill: rgb(42, 63, 95); fill-opacity: 1; white-space: pre; opacity: 1;\" transform=\"translate(0,299.16999999999996)\">6k</text></g><g class=\"ytick\"><text text-anchor=\"end\" x=\"79\" y=\"4.199999999999999\" style=\"font-family: 'Open Sans', verdana, arial, sans-serif; font-size: 12px; fill: rgb(42, 63, 95); fill-opacity: 1; white-space: pre; opacity: 1;\" transform=\"translate(0,258.89)\">8k</text></g><g class=\"ytick\"><text text-anchor=\"end\" x=\"79\" y=\"4.199999999999999\" style=\"font-family: 'Open Sans', verdana, arial, sans-serif; font-size: 12px; fill: rgb(42, 63, 95); fill-opacity: 1; white-space: pre; opacity: 1;\" transform=\"translate(0,218.61)\">10k</text></g><g class=\"ytick\"><text text-anchor=\"end\" x=\"79\" y=\"4.199999999999999\" style=\"font-family: 'Open Sans', verdana, arial, sans-serif; font-size: 12px; fill: rgb(42, 63, 95); fill-opacity: 1; white-space: pre; opacity: 1;\" transform=\"translate(0,178.32999999999998)\">12k</text></g><g class=\"ytick\"><text text-anchor=\"end\" x=\"79\" y=\"4.199999999999999\" style=\"font-family: 'Open Sans', verdana, arial, sans-serif; font-size: 12px; fill: rgb(42, 63, 95); fill-opacity: 1; white-space: pre; opacity: 1;\" transform=\"translate(0,138.05)\">14k</text></g><g class=\"ytick\"><text text-anchor=\"end\" x=\"79\" y=\"4.199999999999999\" style=\"font-family: 'Open Sans', verdana, arial, sans-serif; font-size: 12px; fill: rgb(42, 63, 95); fill-opacity: 1; white-space: pre; opacity: 1;\" transform=\"translate(0,97.78)\">16k</text></g></g><g class=\"overaxes-above\"/></g></g><g class=\"polarlayer\"/><g class=\"ternarylayer\"/><g class=\"geolayer\"/><g class=\"funnelarealayer\"/><g class=\"pielayer\"/><g class=\"iciclelayer\"/><g class=\"treemaplayer\"/><g class=\"sunburstlayer\"/><g class=\"glimages\"/><defs id=\"topdefs-1f9763\"><g class=\"clips\"/></defs><g class=\"layer-above\"><g class=\"imagelayer\"/><g class=\"shapelayer\"/></g><g class=\"infolayer\"><g class=\"g-gtitle\"><text class=\"gtitle\" x=\"45\" y=\"30\" text-anchor=\"start\" dy=\"0em\" style=\"font-family: 'Open Sans', verdana, arial, sans-serif; font-size: 17px; fill: rgb(42, 63, 95); opacity: 1; font-weight: normal; white-space: pre;\">Contributions of Banned accounts in 2021</text></g><g class=\"g-xtitle\"/><g class=\"g-ytitle\"><text class=\"ytitle\" transform=\"rotate(-90,31.840625000000003,240)\" x=\"31.840625000000003\" y=\"240\" text-anchor=\"middle\" style=\"font-family: 'Open Sans', verdana, arial, sans-serif; font-size: 14px; fill: rgb(42, 63, 95); opacity: 1; font-weight: normal; white-space: pre;\">n_contributions</text></g></g></svg>"
      ]
     },
     "metadata": {},
     "output_type": "display_data"
    }
   ],
   "source": [
    "px.bar(data_frame=df_merged['is_banned'].value_counts(),\n",
    "       x=['others', 'banned'], y=\"is_banned\").update_layout(title='Contributions of Banned accounts in 2021',\n",
    "                   xaxis_title='',\n",
    "                   yaxis_title='n_contributions').update_traces(marker_color='#5296dd')\n"
   ]
  },
  {
   "cell_type": "code",
   "execution_count": 40,
   "id": "e910cac3",
   "metadata": {},
   "outputs": [
    {
     "name": "stdout",
     "output_type": "stream",
     "text": [
      "Total banned accounts contributions in 2021:\n"
     ]
    },
    {
     "data": {
      "text/plain": [
       "1323"
      ]
     },
     "execution_count": 40,
     "metadata": {},
     "output_type": "execute_result"
    }
   ],
   "source": [
    "print('Total banned accounts contributions in 2021:')\n",
    "df_banned.shape[0]"
   ]
  },
  {
   "cell_type": "markdown",
   "id": "76e1e375",
   "metadata": {},
   "source": [
    "### Comments"
   ]
  },
  {
   "cell_type": "code",
   "execution_count": 41,
   "id": "94c71fce",
   "metadata": {},
   "outputs": [
    {
     "name": "stdout",
     "output_type": "stream",
     "text": [
      "Total banned accounts comments in 2021:\n"
     ]
    },
    {
     "data": {
      "text/plain": [
       "1095"
      ]
     },
     "execution_count": 41,
     "metadata": {},
     "output_type": "execute_result"
    }
   ],
   "source": [
    "print('Total banned accounts comments in 2021:')\n",
    "df_banned.query(\" submission_comment == 'comment' \").shape[0]"
   ]
  },
  {
   "cell_type": "code",
   "execution_count": 42,
   "id": "5a874d53",
   "metadata": {},
   "outputs": [
    {
     "data": {
      "text/plain": [
       "Stfu                    3\n",
       "Good.                   2\n",
       "Dm to chat about her    2\n",
       "Kik: Nigel__420         2\n",
       "Nobody cares            2\n",
       "Name: text, dtype: int64"
      ]
     },
     "execution_count": 42,
     "metadata": {},
     "output_type": "execute_result"
    }
   ],
   "source": [
    "df_banned.query(\" submission_comment == 'comment' \").text.value_counts().head(5)"
   ]
  },
  {
   "cell_type": "markdown",
   "id": "9f1ffc39",
   "metadata": {},
   "source": [
    "### Submissions"
   ]
  },
  {
   "cell_type": "code",
   "execution_count": 43,
   "id": "eb3639c4",
   "metadata": {},
   "outputs": [
    {
     "data": {
      "image/svg+xml": [
       "<svg class=\"main-svg\" xmlns=\"http://www.w3.org/2000/svg\" xmlns:xlink=\"http://www.w3.org/1999/xlink\" width=\"900\" height=\"500\" style=\"\" viewBox=\"0 0 900 500\"><rect x=\"0\" y=\"0\" width=\"900\" height=\"500\" style=\"fill: rgb(255, 255, 255); fill-opacity: 1;\"/><defs id=\"defs-4720e5\"><g class=\"clips\"/><g class=\"gradients\"/><g class=\"patterns\"/></defs><g class=\"bglayer\"/><g class=\"layer-below\"><g class=\"imagelayer\"/><g class=\"shapelayer\"/></g><g class=\"cartesianlayer\"/><g class=\"polarlayer\"/><g class=\"ternarylayer\"/><g class=\"geolayer\"/><g class=\"funnelarealayer\"/><g class=\"pielayer\"><g class=\"trace\" stroke-linejoin=\"round\" style=\"opacity: 1;\"><g class=\"slice\"><path class=\"surface\" d=\"M432,260l0,-160a160,160 0 1 1 -108.38021727997584,42.29813721803198Z\" style=\"pointer-events: all; stroke-width: 0; fill: rgb(76, 120, 168); fill-opacity: 1; stroke: rgb(68, 68, 68); stroke-opacity: 1;\"/><g class=\"slicetext\"><text data-notex=\"1\" class=\"slicetext\" transform=\"translate(461.04637619981406,331.22072598855004)\" text-anchor=\"middle\" x=\"0\" y=\"0\" style=\"font-family: 'Open Sans', verdana, arial, sans-serif; font-size: 12px; fill: rgb(255, 255, 255); fill-opacity: 1; white-space: pre;\"><tspan class=\"line\" dy=\"0em\" x=\"0\" y=\"0\">others</tspan><tspan class=\"line\" dy=\"1.3em\" x=\"0\" y=\"0\">88.2%</tspan></text></g></g><g class=\"slice\"><path class=\"surface\" d=\"M432,260l-108.38021727997587,-117.701862781968a160,160 0 0 1 108.38021727997587,-42.298137218032Z\" style=\"pointer-events: all; stroke-width: 0; fill: rgb(245, 133, 24); fill-opacity: 1; stroke: rgb(68, 68, 68); stroke-opacity: 1;\"/><g class=\"slicetext\"><text data-notex=\"1\" class=\"slicetext\" transform=\"translate(389.3392173379216,147.3858913683569)\" text-anchor=\"middle\" x=\"0\" y=\"0\" style=\"font-family: 'Open Sans', verdana, arial, sans-serif; font-size: 12px; fill: rgb(68, 68, 68); fill-opacity: 1; white-space: pre;\"><tspan class=\"line\" dy=\"0em\" x=\"0\" y=\"0\">banned</tspan><tspan class=\"line\" dy=\"1.3em\" x=\"0\" y=\"0\">11.8%</tspan></text></g></g></g></g><g class=\"iciclelayer\"/><g class=\"treemaplayer\"/><g class=\"sunburstlayer\"/><g class=\"glimages\"/><defs id=\"topdefs-4720e5\"><g class=\"clips\"/><clipPath id=\"legend4720e5\"><rect width=\"90\" height=\"48\" x=\"0\" y=\"0\"/></clipPath></defs><g class=\"layer-above\"><g class=\"imagelayer\"/><g class=\"shapelayer\"/></g><g class=\"infolayer\"><g class=\"legend\" pointer-events=\"all\" transform=\"translate(798.08,100)\"><rect class=\"bg\" shape-rendering=\"crispEdges\" width=\"90\" height=\"48\" x=\"0\" y=\"0\" style=\"stroke: rgb(68, 68, 68); stroke-opacity: 1; fill: rgb(255, 255, 255); fill-opacity: 1; stroke-width: 0px;\"/><g class=\"scrollbox\" transform=\"\" clip-path=\"url(#legend4720e5)\"><g class=\"groups\"><g class=\"traces\" transform=\"translate(0,14.5)\" style=\"opacity: 1;\"><text class=\"legendtext\" text-anchor=\"start\" x=\"40\" y=\"4.680000000000001\" style=\"font-family: 'Open Sans', verdana, arial, sans-serif; font-size: 12px; fill: rgb(42, 63, 95); fill-opacity: 1; white-space: pre;\">others</text><g class=\"layers\" style=\"opacity: 1;\"><g class=\"legendfill\"/><g class=\"legendlines\"/><g class=\"legendsymbols\"><g class=\"legendpoints\"><path class=\"legendpie\" d=\"M6,6H-6V-6H6Z\" transform=\"translate(20,0)\" style=\"stroke-width: 0; fill: rgb(76, 120, 168); fill-opacity: 1; stroke: rgb(68, 68, 68); stroke-opacity: 1;\"/></g></g></g><rect class=\"legendtoggle\" x=\"0\" y=\"-9.5\" width=\"84.5\" height=\"19\" style=\"fill: rgb(0, 0, 0); fill-opacity: 0;\"/></g><g class=\"traces\" transform=\"translate(0,33.5)\" style=\"opacity: 1;\"><text class=\"legendtext\" text-anchor=\"start\" x=\"40\" y=\"4.680000000000001\" style=\"font-family: 'Open Sans', verdana, arial, sans-serif; font-size: 12px; fill: rgb(42, 63, 95); fill-opacity: 1; white-space: pre;\">banned</text><g class=\"layers\" style=\"opacity: 1;\"><g class=\"legendfill\"/><g class=\"legendlines\"/><g class=\"legendsymbols\"><g class=\"legendpoints\"><path class=\"legendpie\" d=\"M6,6H-6V-6H6Z\" transform=\"translate(20,0)\" style=\"stroke-width: 0; fill: rgb(245, 133, 24); fill-opacity: 1; stroke: rgb(68, 68, 68); stroke-opacity: 1;\"/></g></g></g><rect class=\"legendtoggle\" x=\"0\" y=\"-9.5\" width=\"84.5\" height=\"19\" style=\"fill: rgb(0, 0, 0); fill-opacity: 0;\"/></g></g></g><rect class=\"scrollbar\" rx=\"20\" ry=\"3\" width=\"0\" height=\"0\" x=\"0\" y=\"0\" style=\"fill: rgb(128, 139, 164); fill-opacity: 1;\"/></g><g class=\"g-gtitle\"><text class=\"gtitle\" x=\"45\" y=\"50\" text-anchor=\"start\" dy=\"0em\" style=\"font-family: 'Open Sans', verdana, arial, sans-serif; font-size: 17px; fill: rgb(42, 63, 95); opacity: 1; font-weight: normal; white-space: pre;\">Submissions of Banned accounts in 2021</text></g></g></svg>"
      ]
     },
     "metadata": {},
     "output_type": "display_data"
    }
   ],
   "source": [
    "fig = px.pie(df_submissions.is_banned.value_counts(),\n",
    "             values='is_banned', names=['others', 'banned'], color_discrete_sequence = colors,\n",
    "             title = 'Submissions of Banned accounts in 2021')\n",
    "\n",
    "fig.update_traces(textposition='inside', textinfo='percent+label')\n",
    "\n",
    "fig.show()"
   ]
  },
  {
   "cell_type": "code",
   "execution_count": 44,
   "id": "7f437b35",
   "metadata": {},
   "outputs": [
    {
     "name": "stdout",
     "output_type": "stream",
     "text": [
      "The percentage % of 2021 submissions made by Banned accounts:\n"
     ]
    },
    {
     "data": {
      "text/plain": [
       "11.844155844155845"
      ]
     },
     "execution_count": 44,
     "metadata": {},
     "output_type": "execute_result"
    }
   ],
   "source": [
    "print('The percentage % of 2021 submissions made by Banned accounts:')\n",
    "banned_sub_prop = df_banned.query(\" submission_comment == 'submission' \").shape[0] * 100\\\n",
    "/df_merged.query(\" submission_comment == 'submission' \").shape[0]\n",
    "\n",
    "banned_sub_prop"
   ]
  },
  {
   "cell_type": "code",
   "execution_count": 45,
   "id": "1cfce412",
   "metadata": {},
   "outputs": [
    {
     "data": {
      "image/svg+xml": [
       "<svg class=\"main-svg\" xmlns=\"http://www.w3.org/2000/svg\" xmlns:xlink=\"http://www.w3.org/1999/xlink\" width=\"900\" height=\"500\" style=\"\" viewBox=\"0 0 900 500\"><rect x=\"0\" y=\"0\" width=\"900\" height=\"500\" style=\"fill: rgb(255, 255, 255); fill-opacity: 1;\"/><defs id=\"defs-dc0741\"><g class=\"clips\"><clipPath id=\"clipdc0741xyplot\" class=\"plotclip\"><rect width=\"740\" height=\"360\"/></clipPath><clipPath class=\"axesclip\" id=\"clipdc0741x\"><rect x=\"80\" y=\"0\" width=\"740\" height=\"500\"/></clipPath><clipPath class=\"axesclip\" id=\"clipdc0741y\"><rect x=\"0\" y=\"60\" width=\"900\" height=\"360\"/></clipPath><clipPath class=\"axesclip\" id=\"clipdc0741xy\"><rect x=\"80\" y=\"60\" width=\"740\" height=\"360\"/></clipPath></g><g class=\"gradients\"/><g class=\"patterns\"/></defs><g class=\"bglayer\"><rect class=\"bg\" x=\"80\" y=\"60\" width=\"740\" height=\"360\" style=\"fill: rgb(229, 236, 246); fill-opacity: 1; stroke-width: 0;\"/></g><g class=\"layer-below\"><g class=\"imagelayer\"/><g class=\"shapelayer\"/></g><g class=\"cartesianlayer\"><g class=\"subplot xy\"><g class=\"layer-subplot\"><g class=\"shapelayer\"/><g class=\"imagelayer\"/></g><g class=\"gridlayer\"><g class=\"x\"/><g class=\"y\"><path class=\"ygrid crisp\" transform=\"translate(0,379.69)\" d=\"M80,0h740\" style=\"stroke: rgb(255, 255, 255); stroke-opacity: 1; stroke-width: 1px;\"/><path class=\"ygrid crisp\" transform=\"translate(0,339.39)\" d=\"M80,0h740\" style=\"stroke: rgb(255, 255, 255); stroke-opacity: 1; stroke-width: 1px;\"/><path class=\"ygrid crisp\" transform=\"translate(0,299.08000000000004)\" d=\"M80,0h740\" style=\"stroke: rgb(255, 255, 255); stroke-opacity: 1; stroke-width: 1px;\"/><path class=\"ygrid crisp\" transform=\"translate(0,258.77)\" d=\"M80,0h740\" style=\"stroke: rgb(255, 255, 255); stroke-opacity: 1; stroke-width: 1px;\"/><path class=\"ygrid crisp\" transform=\"translate(0,218.47)\" d=\"M80,0h740\" style=\"stroke: rgb(255, 255, 255); stroke-opacity: 1; stroke-width: 1px;\"/><path class=\"ygrid crisp\" transform=\"translate(0,178.16)\" d=\"M80,0h740\" style=\"stroke: rgb(255, 255, 255); stroke-opacity: 1; stroke-width: 1px;\"/><path class=\"ygrid crisp\" transform=\"translate(0,137.86)\" d=\"M80,0h740\" style=\"stroke: rgb(255, 255, 255); stroke-opacity: 1; stroke-width: 1px;\"/><path class=\"ygrid crisp\" transform=\"translate(0,97.55)\" d=\"M80,0h740\" style=\"stroke: rgb(255, 255, 255); stroke-opacity: 1; stroke-width: 1px;\"/></g></g><g class=\"zerolinelayer\"><path class=\"yzl zl crisp\" transform=\"translate(0,420)\" d=\"M80,0h740\" style=\"stroke: rgb(255, 255, 255); stroke-opacity: 1; stroke-width: 2px;\"/></g><path class=\"xlines-below\"/><path class=\"ylines-below\"/><g class=\"overlines-below\"/><g class=\"xaxislayer-below\"/><g class=\"yaxislayer-below\"/><g class=\"overaxes-below\"/><g class=\"plot\" transform=\"translate(80,60)\" clip-path=\"url(#clipdc0741xyplot)\"><g class=\"barlayer mlayer\"><g class=\"trace bars\" style=\"opacity: 1;\"><g class=\"points\"><g class=\"point\"><path d=\"M37,360V18H333V360Z\" style=\"vector-effect: non-scaling-stroke; opacity: 1; stroke-width: 0.5px; fill: rgb(82, 150, 221); fill-opacity: 1; stroke: rgb(229, 236, 246); stroke-opacity: 1;\"/></g><g class=\"point\"><path d=\"M407,360V314.05H703V360Z\" style=\"vector-effect: non-scaling-stroke; opacity: 1; stroke-width: 0.5px; fill: rgb(82, 150, 221); fill-opacity: 1; stroke: rgb(229, 236, 246); stroke-opacity: 1;\"/></g></g></g></g></g><g class=\"overplot\"/><path class=\"xlines-above crisp\" d=\"M0,0\" style=\"fill: none;\"/><path class=\"ylines-above crisp\" d=\"M0,0\" style=\"fill: none;\"/><g class=\"overlines-above\"/><g class=\"xaxislayer-above\"><g class=\"xtick\"><text text-anchor=\"middle\" x=\"0\" y=\"433\" transform=\"translate(265,0)\" style=\"font-family: 'Open Sans', verdana, arial, sans-serif; font-size: 12px; fill: rgb(42, 63, 95); fill-opacity: 1; white-space: pre; opacity: 1;\">others</text></g><g class=\"xtick\"><text text-anchor=\"middle\" x=\"0\" y=\"433\" transform=\"translate(635,0)\" style=\"font-family: 'Open Sans', verdana, arial, sans-serif; font-size: 12px; fill: rgb(42, 63, 95); fill-opacity: 1; white-space: pre; opacity: 1;\">banned</text></g></g><g class=\"yaxislayer-above\"><g class=\"ytick\"><text text-anchor=\"end\" x=\"79\" y=\"4.199999999999999\" transform=\"translate(0,420)\" style=\"font-family: 'Open Sans', verdana, arial, sans-serif; font-size: 12px; fill: rgb(42, 63, 95); fill-opacity: 1; white-space: pre; opacity: 1;\">0</text></g><g class=\"ytick\"><text text-anchor=\"end\" x=\"79\" y=\"4.199999999999999\" style=\"font-family: 'Open Sans', verdana, arial, sans-serif; font-size: 12px; fill: rgb(42, 63, 95); fill-opacity: 1; white-space: pre; opacity: 1;\" transform=\"translate(0,379.69)\">200</text></g><g class=\"ytick\"><text text-anchor=\"end\" x=\"79\" y=\"4.199999999999999\" style=\"font-family: 'Open Sans', verdana, arial, sans-serif; font-size: 12px; fill: rgb(42, 63, 95); fill-opacity: 1; white-space: pre; opacity: 1;\" transform=\"translate(0,339.39)\">400</text></g><g class=\"ytick\"><text text-anchor=\"end\" x=\"79\" y=\"4.199999999999999\" style=\"font-family: 'Open Sans', verdana, arial, sans-serif; font-size: 12px; fill: rgb(42, 63, 95); fill-opacity: 1; white-space: pre; opacity: 1;\" transform=\"translate(0,299.08000000000004)\">600</text></g><g class=\"ytick\"><text text-anchor=\"end\" x=\"79\" y=\"4.199999999999999\" style=\"font-family: 'Open Sans', verdana, arial, sans-serif; font-size: 12px; fill: rgb(42, 63, 95); fill-opacity: 1; white-space: pre; opacity: 1;\" transform=\"translate(0,258.77)\">800</text></g><g class=\"ytick\"><text text-anchor=\"end\" x=\"79\" y=\"4.199999999999999\" style=\"font-family: 'Open Sans', verdana, arial, sans-serif; font-size: 12px; fill: rgb(42, 63, 95); fill-opacity: 1; white-space: pre; opacity: 1;\" transform=\"translate(0,218.47)\">1000</text></g><g class=\"ytick\"><text text-anchor=\"end\" x=\"79\" y=\"4.199999999999999\" style=\"font-family: 'Open Sans', verdana, arial, sans-serif; font-size: 12px; fill: rgb(42, 63, 95); fill-opacity: 1; white-space: pre; opacity: 1;\" transform=\"translate(0,178.16)\">1200</text></g><g class=\"ytick\"><text text-anchor=\"end\" x=\"79\" y=\"4.199999999999999\" style=\"font-family: 'Open Sans', verdana, arial, sans-serif; font-size: 12px; fill: rgb(42, 63, 95); fill-opacity: 1; white-space: pre; opacity: 1;\" transform=\"translate(0,137.86)\">1400</text></g><g class=\"ytick\"><text text-anchor=\"end\" x=\"79\" y=\"4.199999999999999\" style=\"font-family: 'Open Sans', verdana, arial, sans-serif; font-size: 12px; fill: rgb(42, 63, 95); fill-opacity: 1; white-space: pre; opacity: 1;\" transform=\"translate(0,97.55)\">1600</text></g></g><g class=\"overaxes-above\"/></g></g><g class=\"polarlayer\"/><g class=\"ternarylayer\"/><g class=\"geolayer\"/><g class=\"funnelarealayer\"/><g class=\"pielayer\"/><g class=\"iciclelayer\"/><g class=\"treemaplayer\"/><g class=\"sunburstlayer\"/><g class=\"glimages\"/><defs id=\"topdefs-dc0741\"><g class=\"clips\"/></defs><g class=\"layer-above\"><g class=\"imagelayer\"/><g class=\"shapelayer\"/></g><g class=\"infolayer\"><g class=\"g-gtitle\"><text class=\"gtitle\" x=\"45\" y=\"30\" text-anchor=\"start\" dy=\"0em\" style=\"font-family: 'Open Sans', verdana, arial, sans-serif; font-size: 17px; fill: rgb(42, 63, 95); opacity: 1; font-weight: normal; white-space: pre;\">Submissions of Banned accounts in 2021</text></g><g class=\"g-xtitle\"/><g class=\"g-ytitle\"><text class=\"ytitle\" transform=\"rotate(-90,23.684375000000003,240)\" x=\"23.684375000000003\" y=\"240\" text-anchor=\"middle\" style=\"font-family: 'Open Sans', verdana, arial, sans-serif; font-size: 14px; fill: rgb(42, 63, 95); opacity: 1; font-weight: normal; white-space: pre;\">n_submissions</text></g></g></svg>"
      ]
     },
     "metadata": {},
     "output_type": "display_data"
    }
   ],
   "source": [
    "px.bar(data_frame=df_submissions['is_banned'].value_counts(),\n",
    "       x=['others', 'banned'], y=\"is_banned\").update_layout(title='Submissions of Banned accounts in 2021',\n",
    "                   xaxis_title='',\n",
    "                   yaxis_title='n_submissions').update_traces(marker_color='#5296dd')\n"
   ]
  },
  {
   "cell_type": "code",
   "execution_count": 46,
   "id": "a8745487",
   "metadata": {},
   "outputs": [
    {
     "name": "stdout",
     "output_type": "stream",
     "text": [
      "Total banned accounts submissions in 2021:\n"
     ]
    },
    {
     "data": {
      "text/plain": [
       "228"
      ]
     },
     "execution_count": 46,
     "metadata": {},
     "output_type": "execute_result"
    }
   ],
   "source": [
    "print('Total banned accounts submissions in 2021:')\n",
    "df_banned.query(\" submission_comment == 'submission' \").shape[0]"
   ]
  },
  {
   "cell_type": "code",
   "execution_count": 47,
   "id": "ca5db378",
   "metadata": {},
   "outputs": [
    {
     "data": {
      "text/plain": [
       "Amber Heard                                                                                                                             18\n",
       "Amber Heard Touching Herself                                                                                                            17\n",
       "Remove Amber Heard from Aquaman 2                                                                                                        6\n",
       "Amber Heard Is Allegedly Being Investigated By LAPD For Perjury, Could Face Jail Time Over Johnny Depp Domestic Violence Accusations     6\n",
       "Amber Heard to struggle in new LAPD domestic violence probe                                                                              5\n",
       "Name: text, dtype: int64"
      ]
     },
     "execution_count": 47,
     "metadata": {},
     "output_type": "execute_result"
    }
   ],
   "source": [
    "df_banned.query(\" submission_comment == 'submission' \").text.value_counts().head(5)"
   ]
  },
  {
   "cell_type": "code",
   "execution_count": 48,
   "id": "2068de2f",
   "metadata": {},
   "outputs": [
    {
     "data": {
      "text/html": [
       "<div>\n",
       "<style scoped>\n",
       "    .dataframe tbody tr th:only-of-type {\n",
       "        vertical-align: middle;\n",
       "    }\n",
       "\n",
       "    .dataframe tbody tr th {\n",
       "        vertical-align: top;\n",
       "    }\n",
       "\n",
       "    .dataframe thead th {\n",
       "        text-align: right;\n",
       "    }\n",
       "</style>\n",
       "<table border=\"1\" class=\"dataframe\">\n",
       "  <thead>\n",
       "    <tr style=\"text-align: right;\">\n",
       "      <th></th>\n",
       "      <th>user_name</th>\n",
       "      <th>subreddit</th>\n",
       "      <th>created_at</th>\n",
       "    </tr>\n",
       "  </thead>\n",
       "  <tbody>\n",
       "    <tr>\n",
       "      <th>13831</th>\n",
       "      <td>90police</td>\n",
       "      <td>r/90sTits</td>\n",
       "      <td>2021-04-14 13:04:09</td>\n",
       "    </tr>\n",
       "    <tr>\n",
       "      <th>13832</th>\n",
       "      <td>90police</td>\n",
       "      <td>r/CMNF</td>\n",
       "      <td>2021-04-14 13:04:29</td>\n",
       "    </tr>\n",
       "    <tr>\n",
       "      <th>13833</th>\n",
       "      <td>90police</td>\n",
       "      <td>r/fyiff</td>\n",
       "      <td>2021-04-14 13:04:54</td>\n",
       "    </tr>\n",
       "    <tr>\n",
       "      <th>13834</th>\n",
       "      <td>90police</td>\n",
       "      <td>r/JanaDefi</td>\n",
       "      <td>2021-04-14 13:05:13</td>\n",
       "    </tr>\n",
       "    <tr>\n",
       "      <th>13835</th>\n",
       "      <td>90police</td>\n",
       "      <td>r/indiansgetlaid</td>\n",
       "      <td>2021-04-14 13:05:42</td>\n",
       "    </tr>\n",
       "    <tr>\n",
       "      <th>13836</th>\n",
       "      <td>90police</td>\n",
       "      <td>r/nonwhitebimbos</td>\n",
       "      <td>2021-04-14 13:06:00</td>\n",
       "    </tr>\n",
       "    <tr>\n",
       "      <th>13837</th>\n",
       "      <td>90police</td>\n",
       "      <td>r/Tgirlguru</td>\n",
       "      <td>2021-04-14 13:06:15</td>\n",
       "    </tr>\n",
       "    <tr>\n",
       "      <th>13838</th>\n",
       "      <td>90police</td>\n",
       "      <td>r/soniafucks</td>\n",
       "      <td>2021-04-14 13:06:31</td>\n",
       "    </tr>\n",
       "    <tr>\n",
       "      <th>13839</th>\n",
       "      <td>90police</td>\n",
       "      <td>r/GloriaV</td>\n",
       "      <td>2021-04-14 13:06:49</td>\n",
       "    </tr>\n",
       "    <tr>\n",
       "      <th>13840</th>\n",
       "      <td>90police</td>\n",
       "      <td>r/TheFamilyTrap</td>\n",
       "      <td>2021-04-14 13:07:07</td>\n",
       "    </tr>\n",
       "    <tr>\n",
       "      <th>13841</th>\n",
       "      <td>90police</td>\n",
       "      <td>r/HipDips</td>\n",
       "      <td>2021-04-14 13:07:26</td>\n",
       "    </tr>\n",
       "    <tr>\n",
       "      <th>13842</th>\n",
       "      <td>90police</td>\n",
       "      <td>r/Clithood</td>\n",
       "      <td>2021-04-14 13:07:42</td>\n",
       "    </tr>\n",
       "    <tr>\n",
       "      <th>13843</th>\n",
       "      <td>90police</td>\n",
       "      <td>r/Slutblonde</td>\n",
       "      <td>2021-04-14 13:07:58</td>\n",
       "    </tr>\n",
       "    <tr>\n",
       "      <th>13844</th>\n",
       "      <td>90police</td>\n",
       "      <td>r/AnimeBunnyGirls</td>\n",
       "      <td>2021-04-14 13:08:15</td>\n",
       "    </tr>\n",
       "    <tr>\n",
       "      <th>13845</th>\n",
       "      <td>90police</td>\n",
       "      <td>r/Dattaint</td>\n",
       "      <td>2021-04-14 13:08:34</td>\n",
       "    </tr>\n",
       "    <tr>\n",
       "      <th>13846</th>\n",
       "      <td>90police</td>\n",
       "      <td>r/desnudas</td>\n",
       "      <td>2021-04-14 13:08:51</td>\n",
       "    </tr>\n",
       "    <tr>\n",
       "      <th>13847</th>\n",
       "      <td>90police</td>\n",
       "      <td>r/Hot_n_Sexy</td>\n",
       "      <td>2021-04-14 13:09:12</td>\n",
       "    </tr>\n",
       "  </tbody>\n",
       "</table>\n",
       "</div>"
      ],
      "text/plain": [
       "      user_name          subreddit          created_at\n",
       "13831  90police          r/90sTits 2021-04-14 13:04:09\n",
       "13832  90police             r/CMNF 2021-04-14 13:04:29\n",
       "13833  90police            r/fyiff 2021-04-14 13:04:54\n",
       "13834  90police         r/JanaDefi 2021-04-14 13:05:13\n",
       "13835  90police   r/indiansgetlaid 2021-04-14 13:05:42\n",
       "13836  90police   r/nonwhitebimbos 2021-04-14 13:06:00\n",
       "13837  90police        r/Tgirlguru 2021-04-14 13:06:15\n",
       "13838  90police       r/soniafucks 2021-04-14 13:06:31\n",
       "13839  90police          r/GloriaV 2021-04-14 13:06:49\n",
       "13840  90police    r/TheFamilyTrap 2021-04-14 13:07:07\n",
       "13841  90police          r/HipDips 2021-04-14 13:07:26\n",
       "13842  90police         r/Clithood 2021-04-14 13:07:42\n",
       "13843  90police       r/Slutblonde 2021-04-14 13:07:58\n",
       "13844  90police  r/AnimeBunnyGirls 2021-04-14 13:08:15\n",
       "13845  90police         r/Dattaint 2021-04-14 13:08:34\n",
       "13846  90police         r/desnudas 2021-04-14 13:08:51\n",
       "13847  90police       r/Hot_n_Sexy 2021-04-14 13:09:12"
      ]
     },
     "execution_count": 48,
     "metadata": {},
     "output_type": "execute_result"
    }
   ],
   "source": [
    "txt = 'Amber Heard Touching Herself'\n",
    "df_banned[df_banned['text'] == txt][['user_name', 'subreddit', 'created_at']]\n",
    "\n",
    "# Nothe that we don't have data on banned users except for their names"
   ]
  },
  {
   "cell_type": "markdown",
   "id": "9ceb9cab",
   "metadata": {},
   "source": [
    "**NOTE:** \"90police\": this user made 17 submissions within only 5 minutes!! <br>\n",
    "(Sexual Content)"
   ]
  },
  {
   "cell_type": "code",
   "execution_count": 49,
   "id": "a1940348",
   "metadata": {},
   "outputs": [
    {
     "data": {
      "text/html": [
       "<div>\n",
       "<style scoped>\n",
       "    .dataframe tbody tr th:only-of-type {\n",
       "        vertical-align: middle;\n",
       "    }\n",
       "\n",
       "    .dataframe tbody tr th {\n",
       "        vertical-align: top;\n",
       "    }\n",
       "\n",
       "    .dataframe thead th {\n",
       "        text-align: right;\n",
       "    }\n",
       "</style>\n",
       "<table border=\"1\" class=\"dataframe\">\n",
       "  <thead>\n",
       "    <tr style=\"text-align: right;\">\n",
       "      <th></th>\n",
       "      <th>user_name</th>\n",
       "      <th>subreddit</th>\n",
       "      <th>created_at</th>\n",
       "    </tr>\n",
       "  </thead>\n",
       "  <tbody>\n",
       "    <tr>\n",
       "      <th>3252</th>\n",
       "      <td>the-speed-of-pain</td>\n",
       "      <td>r/pussypassdenied</td>\n",
       "      <td>2021-02-20 11:08:44</td>\n",
       "    </tr>\n",
       "    <tr>\n",
       "      <th>3253</th>\n",
       "      <td>the-speed-of-pain</td>\n",
       "      <td>r/JusticeForJohnnyDepp</td>\n",
       "      <td>2021-02-20 11:08:47</td>\n",
       "    </tr>\n",
       "    <tr>\n",
       "      <th>15505</th>\n",
       "      <td>Truthbetheprejudice</td>\n",
       "      <td>r/pussypassdenied</td>\n",
       "      <td>2021-04-29 18:36:22</td>\n",
       "    </tr>\n",
       "    <tr>\n",
       "      <th>15506</th>\n",
       "      <td>Truthbetheprejudice</td>\n",
       "      <td>r/entertainment</td>\n",
       "      <td>2021-04-29 18:36:27</td>\n",
       "    </tr>\n",
       "    <tr>\n",
       "      <th>15507</th>\n",
       "      <td>Truthbetheprejudice</td>\n",
       "      <td>r/MensRights</td>\n",
       "      <td>2021-04-29 18:36:40</td>\n",
       "    </tr>\n",
       "    <tr>\n",
       "      <th>15508</th>\n",
       "      <td>Truthbetheprejudice</td>\n",
       "      <td>r/movies</td>\n",
       "      <td>2021-04-29 18:36:53</td>\n",
       "    </tr>\n",
       "  </tbody>\n",
       "</table>\n",
       "</div>"
      ],
      "text/plain": [
       "                 user_name               subreddit          created_at\n",
       "3252     the-speed-of-pain       r/pussypassdenied 2021-02-20 11:08:44\n",
       "3253     the-speed-of-pain  r/JusticeForJohnnyDepp 2021-02-20 11:08:47\n",
       "15505  Truthbetheprejudice       r/pussypassdenied 2021-04-29 18:36:22\n",
       "15506  Truthbetheprejudice         r/entertainment 2021-04-29 18:36:27\n",
       "15507  Truthbetheprejudice            r/MensRights 2021-04-29 18:36:40\n",
       "15508  Truthbetheprejudice                r/movies 2021-04-29 18:36:53"
      ]
     },
     "execution_count": 49,
     "metadata": {},
     "output_type": "execute_result"
    }
   ],
   "source": [
    "txt = 'Remove Amber Heard from Aquaman 2'\n",
    "df_banned[df_banned['text'] == txt][['user_name', 'subreddit', 'created_at']]\n",
    "\n",
    "# Nothe that we don't have data on banned users except for their names"
   ]
  },
  {
   "cell_type": "markdown",
   "id": "bd016d95",
   "metadata": {},
   "source": [
    "**NOTE:** \n",
    "- \"Truthbetheprejudice\": this user made 4 submissions with the same text \"Remove Amber Heard from Aquaman 2\" within only 30 seconds!! <br>\n",
    "\n",
    "- \"the-speed-of-pain\": this user made 2 submissions with the same text \"Remove Amber Heard from Aquaman 2\" within only 3 seconds!!"
   ]
  },
  {
   "cell_type": "markdown",
   "id": "33e903e7",
   "metadata": {},
   "source": [
    "<a id='banned_peaks'></a>\n",
    ">>### Banned Accounts Contributions Peaks\n",
    "\n",
    "<ul>\n",
    "<li><a href=\"#banned_largest_scores\">Explore the largest scores</a></li>\n",
    "<li><a href=\"#banned_minimum_scores\">Explore the minimum scores</a></li>\n",
    "    <br>\n",
    "<li><a href=\"#banned_contributions\">Contributions of Banned accounts in 2021</a></li>\n",
    "<li><a href=\"#banned_peaks\"><b><mark>Banned Accounts Contributions Peaks</mark></b></a></li>\n",
    "</ul>"
   ]
  },
  {
   "cell_type": "markdown",
   "id": "24a57137",
   "metadata": {},
   "source": [
    "### Which dates had the highest contrbitions of banned users?"
   ]
  },
  {
   "cell_type": "code",
   "execution_count": 50,
   "id": "f936beda",
   "metadata": {},
   "outputs": [
    {
     "data": {
      "image/svg+xml": [
       "<svg class=\"main-svg\" xmlns=\"http://www.w3.org/2000/svg\" xmlns:xlink=\"http://www.w3.org/1999/xlink\" width=\"900\" height=\"500\" style=\"\" viewBox=\"0 0 900 500\"><rect x=\"0\" y=\"0\" width=\"900\" height=\"500\" style=\"fill: rgb(255, 255, 255); fill-opacity: 1;\"/><defs id=\"defs-76804e\"><g class=\"clips\"><clipPath id=\"clip76804exyplot\" class=\"plotclip\"><rect width=\"740\" height=\"360\"/></clipPath><clipPath class=\"axesclip\" id=\"clip76804ex\"><rect x=\"80\" y=\"0\" width=\"740\" height=\"500\"/></clipPath><clipPath class=\"axesclip\" id=\"clip76804ey\"><rect x=\"0\" y=\"60\" width=\"900\" height=\"360\"/></clipPath><clipPath class=\"axesclip\" id=\"clip76804exy\"><rect x=\"80\" y=\"60\" width=\"740\" height=\"360\"/></clipPath></g><g class=\"gradients\"/><g class=\"patterns\"/></defs><g class=\"bglayer\"><rect class=\"bg\" x=\"80\" y=\"60\" width=\"740\" height=\"360\" style=\"fill: rgb(229, 236, 246); fill-opacity: 1; stroke-width: 0;\"/></g><g class=\"layer-below\"><g class=\"imagelayer\"/><g class=\"shapelayer\"/></g><g class=\"cartesianlayer\"><g class=\"subplot xy\"><g class=\"layer-subplot\"><g class=\"shapelayer\"/><g class=\"imagelayer\"/></g><g class=\"gridlayer\"><g class=\"x\"/><g class=\"y\"><path class=\"ygrid crisp\" transform=\"translate(0,371.83)\" d=\"M80,0h740\" style=\"stroke: rgb(255, 255, 255); stroke-opacity: 1; stroke-width: 1px;\"/><path class=\"ygrid crisp\" transform=\"translate(0,323.66)\" d=\"M80,0h740\" style=\"stroke: rgb(255, 255, 255); stroke-opacity: 1; stroke-width: 1px;\"/><path class=\"ygrid crisp\" transform=\"translate(0,275.49)\" d=\"M80,0h740\" style=\"stroke: rgb(255, 255, 255); stroke-opacity: 1; stroke-width: 1px;\"/><path class=\"ygrid crisp\" transform=\"translate(0,227.32)\" d=\"M80,0h740\" style=\"stroke: rgb(255, 255, 255); stroke-opacity: 1; stroke-width: 1px;\"/><path class=\"ygrid crisp\" transform=\"translate(0,179.15)\" d=\"M80,0h740\" style=\"stroke: rgb(255, 255, 255); stroke-opacity: 1; stroke-width: 1px;\"/><path class=\"ygrid crisp\" transform=\"translate(0,130.99)\" d=\"M80,0h740\" style=\"stroke: rgb(255, 255, 255); stroke-opacity: 1; stroke-width: 1px;\"/><path class=\"ygrid crisp\" transform=\"translate(0,82.82)\" d=\"M80,0h740\" style=\"stroke: rgb(255, 255, 255); stroke-opacity: 1; stroke-width: 1px;\"/></g></g><g class=\"zerolinelayer\"><path class=\"yzl zl crisp\" transform=\"translate(0,420)\" d=\"M80,0h740\" style=\"stroke: rgb(255, 255, 255); stroke-opacity: 1; stroke-width: 2px;\"/></g><path class=\"xlines-below\"/><path class=\"ylines-below\"/><g class=\"overlines-below\"/><g class=\"xaxislayer-below\"/><g class=\"yaxislayer-below\"/><g class=\"overaxes-below\"/><g class=\"plot\" transform=\"translate(80,60)\" clip-path=\"url(#clip76804exyplot)\"><g class=\"barlayer mlayer\"><g class=\"trace bars\" style=\"opacity: 1;\"><g class=\"points\"><g class=\"point\"><path d=\"M0.49,360V244.39H4.41V360Z\" style=\"vector-effect: non-scaling-stroke; opacity: 1; stroke-width: 1.5px; fill: rgb(82, 150, 221); fill-opacity: 1; stroke: rgb(229, 236, 246); stroke-opacity: 1;\"/></g><g class=\"point\"><path d=\"M5.39,360V302.2H9.31V360Z\" style=\"vector-effect: non-scaling-stroke; opacity: 1; stroke-width: 1.5px; fill: rgb(82, 150, 221); fill-opacity: 1; stroke: rgb(229, 236, 246); stroke-opacity: 1;\"/></g><g class=\"point\"><path d=\"M10.29,360V263.66H14.21V360Z\" style=\"vector-effect: non-scaling-stroke; opacity: 1; stroke-width: 1.5px; fill: rgb(82, 150, 221); fill-opacity: 1; stroke: rgb(229, 236, 246); stroke-opacity: 1;\"/></g><g class=\"point\"><path d=\"M15.19,360V292.56H19.11V360Z\" style=\"vector-effect: non-scaling-stroke; opacity: 1; stroke-width: 1.5px; fill: rgb(82, 150, 221); fill-opacity: 1; stroke: rgb(229, 236, 246); stroke-opacity: 1;\"/></g><g class=\"point\"><path d=\"M20.09,360V258.85H24.01V360Z\" style=\"vector-effect: non-scaling-stroke; opacity: 1; stroke-width: 1.5px; fill: rgb(82, 150, 221); fill-opacity: 1; stroke: rgb(229, 236, 246); stroke-opacity: 1;\"/></g><g class=\"point\"><path d=\"M24.99,360V307.01H28.91V360Z\" style=\"vector-effect: non-scaling-stroke; opacity: 1; stroke-width: 1.5px; fill: rgb(82, 150, 221); fill-opacity: 1; stroke: rgb(229, 236, 246); stroke-opacity: 1;\"/></g><g class=\"point\"><path d=\"M29.89,360V268.48H33.81V360Z\" style=\"vector-effect: non-scaling-stroke; opacity: 1; stroke-width: 1.5px; fill: rgb(82, 150, 221); fill-opacity: 1; stroke: rgb(229, 236, 246); stroke-opacity: 1;\"/></g><g class=\"point\"><path d=\"M34.79,360V297.38H38.72V360Z\" style=\"vector-effect: non-scaling-stroke; opacity: 1; stroke-width: 1.5px; fill: rgb(82, 150, 221); fill-opacity: 1; stroke: rgb(229, 236, 246); stroke-opacity: 1;\"/></g><g class=\"point\"><path d=\"M39.7,360V176.96H43.62V360Z\" style=\"vector-effect: non-scaling-stroke; opacity: 1; stroke-width: 1.5px; fill: rgb(82, 150, 221); fill-opacity: 1; stroke: rgb(229, 236, 246); stroke-opacity: 1;\"/></g><g class=\"point\"><path d=\"M44.6,360V307.01H48.52V360Z\" style=\"vector-effect: non-scaling-stroke; opacity: 1; stroke-width: 1.5px; fill: rgb(82, 150, 221); fill-opacity: 1; stroke: rgb(229, 236, 246); stroke-opacity: 1;\"/></g><g class=\"point\"><path d=\"M49.5,360V302.2H53.42V360Z\" style=\"vector-effect: non-scaling-stroke; opacity: 1; stroke-width: 1.5px; fill: rgb(82, 150, 221); fill-opacity: 1; stroke: rgb(229, 236, 246); stroke-opacity: 1;\"/></g><g class=\"point\"><path d=\"M54.4,360V244.39H58.32V360Z\" style=\"vector-effect: non-scaling-stroke; opacity: 1; stroke-width: 1.5px; fill: rgb(82, 150, 221); fill-opacity: 1; stroke: rgb(229, 236, 246); stroke-opacity: 1;\"/></g><g class=\"point\"><path d=\"M59.3,360V345.55H63.22V360Z\" style=\"vector-effect: non-scaling-stroke; opacity: 1; stroke-width: 1.5px; fill: rgb(82, 150, 221); fill-opacity: 1; stroke: rgb(229, 236, 246); stroke-opacity: 1;\"/></g><g class=\"point\"><path d=\"M64.2,360V340.73H68.12V360Z\" style=\"vector-effect: non-scaling-stroke; opacity: 1; stroke-width: 1.5px; fill: rgb(82, 150, 221); fill-opacity: 1; stroke: rgb(229, 236, 246); stroke-opacity: 1;\"/></g><g class=\"point\"><path d=\"M69.1,360V311.83H73.02V360Z\" style=\"vector-effect: non-scaling-stroke; opacity: 1; stroke-width: 1.5px; fill: rgb(82, 150, 221); fill-opacity: 1; stroke: rgb(229, 236, 246); stroke-opacity: 1;\"/></g><g class=\"point\"><path d=\"M74,360V239.58H77.92V360Z\" style=\"vector-effect: non-scaling-stroke; opacity: 1; stroke-width: 1.5px; fill: rgb(82, 150, 221); fill-opacity: 1; stroke: rgb(229, 236, 246); stroke-opacity: 1;\"/></g><g class=\"point\"><path d=\"M78.9,360V297.38H82.82V360Z\" style=\"vector-effect: non-scaling-stroke; opacity: 1; stroke-width: 1.5px; fill: rgb(82, 150, 221); fill-opacity: 1; stroke: rgb(229, 236, 246); stroke-opacity: 1;\"/></g><g class=\"point\"><path d=\"M83.8,360V249.21H87.72V360Z\" style=\"vector-effect: non-scaling-stroke; opacity: 1; stroke-width: 1.5px; fill: rgb(82, 150, 221); fill-opacity: 1; stroke: rgb(229, 236, 246); stroke-opacity: 1;\"/></g><g class=\"point\"><path d=\"M88.7,360V355.18H92.62V360Z\" style=\"vector-effect: non-scaling-stroke; opacity: 1; stroke-width: 1.5px; fill: rgb(82, 150, 221); fill-opacity: 1; stroke: rgb(229, 236, 246); stroke-opacity: 1;\"/></g><g class=\"point\"><path d=\"M93.6,360V345.55H97.52V360Z\" style=\"vector-effect: non-scaling-stroke; opacity: 1; stroke-width: 1.5px; fill: rgb(82, 150, 221); fill-opacity: 1; stroke: rgb(229, 236, 246); stroke-opacity: 1;\"/></g><g class=\"point\"><path d=\"M98.5,360V350.37H102.42V360Z\" style=\"vector-effect: non-scaling-stroke; opacity: 1; stroke-width: 1.5px; fill: rgb(82, 150, 221); fill-opacity: 1; stroke: rgb(229, 236, 246); stroke-opacity: 1;\"/></g><g class=\"point\"><path d=\"M103.4,360V350.37H107.32V360Z\" style=\"vector-effect: non-scaling-stroke; opacity: 1; stroke-width: 1.5px; fill: rgb(82, 150, 221); fill-opacity: 1; stroke: rgb(229, 236, 246); stroke-opacity: 1;\"/></g><g class=\"point\"><path d=\"M108.3,360V311.83H112.23V360Z\" style=\"vector-effect: non-scaling-stroke; opacity: 1; stroke-width: 1.5px; fill: rgb(82, 150, 221); fill-opacity: 1; stroke: rgb(229, 236, 246); stroke-opacity: 1;\"/></g><g class=\"point\"><path d=\"M118.11,360V355.18H122.03V360Z\" style=\"vector-effect: non-scaling-stroke; opacity: 1; stroke-width: 1.5px; fill: rgb(82, 150, 221); fill-opacity: 1; stroke: rgb(229, 236, 246); stroke-opacity: 1;\"/></g><g class=\"point\"><path d=\"M127.91,360V350.37H131.83V360Z\" style=\"vector-effect: non-scaling-stroke; opacity: 1; stroke-width: 1.5px; fill: rgb(82, 150, 221); fill-opacity: 1; stroke: rgb(229, 236, 246); stroke-opacity: 1;\"/></g><g class=\"point\"><path d=\"M132.81,360V292.56H136.73V360Z\" style=\"vector-effect: non-scaling-stroke; opacity: 1; stroke-width: 1.5px; fill: rgb(82, 150, 221); fill-opacity: 1; stroke: rgb(229, 236, 246); stroke-opacity: 1;\"/></g><g class=\"point\"><path d=\"M137.71,360V355.18H141.63V360Z\" style=\"vector-effect: non-scaling-stroke; opacity: 1; stroke-width: 1.5px; fill: rgb(82, 150, 221); fill-opacity: 1; stroke: rgb(229, 236, 246); stroke-opacity: 1;\"/></g><g class=\"point\"><path d=\"M142.61,360V268.48H146.53V360Z\" style=\"vector-effect: non-scaling-stroke; opacity: 1; stroke-width: 1.5px; fill: rgb(82, 150, 221); fill-opacity: 1; stroke: rgb(229, 236, 246); stroke-opacity: 1;\"/></g><g class=\"point\"><path d=\"M147.51,360V345.55H151.43V360Z\" style=\"vector-effect: non-scaling-stroke; opacity: 1; stroke-width: 1.5px; fill: rgb(82, 150, 221); fill-opacity: 1; stroke: rgb(229, 236, 246); stroke-opacity: 1;\"/></g><g class=\"point\"><path d=\"M152.41,360V196.23H156.33V360Z\" style=\"vector-effect: non-scaling-stroke; opacity: 1; stroke-width: 1.5px; fill: rgb(82, 150, 221); fill-opacity: 1; stroke: rgb(229, 236, 246); stroke-opacity: 1;\"/></g><g class=\"point\"><path d=\"M157.31,360V234.76H161.23V360Z\" style=\"vector-effect: non-scaling-stroke; opacity: 1; stroke-width: 1.5px; fill: rgb(82, 150, 221); fill-opacity: 1; stroke: rgb(229, 236, 246); stroke-opacity: 1;\"/></g><g class=\"point\"><path d=\"M162.21,360V307.01H166.13V360Z\" style=\"vector-effect: non-scaling-stroke; opacity: 1; stroke-width: 1.5px; fill: rgb(82, 150, 221); fill-opacity: 1; stroke: rgb(229, 236, 246); stroke-opacity: 1;\"/></g><g class=\"point\"><path d=\"M167.11,360V345.55H171.03V360Z\" style=\"vector-effect: non-scaling-stroke; opacity: 1; stroke-width: 1.5px; fill: rgb(82, 150, 221); fill-opacity: 1; stroke: rgb(229, 236, 246); stroke-opacity: 1;\"/></g><g class=\"point\"><path d=\"M172.01,360V355.18H175.93V360Z\" style=\"vector-effect: non-scaling-stroke; opacity: 1; stroke-width: 1.5px; fill: rgb(82, 150, 221); fill-opacity: 1; stroke: rgb(229, 236, 246); stroke-opacity: 1;\"/></g><g class=\"point\"><path d=\"M176.91,360V350.37H180.83V360Z\" style=\"vector-effect: non-scaling-stroke; opacity: 1; stroke-width: 1.5px; fill: rgb(82, 150, 221); fill-opacity: 1; stroke: rgb(229, 236, 246); stroke-opacity: 1;\"/></g><g class=\"point\"><path d=\"M181.81,360V355.18H185.74V360Z\" style=\"vector-effect: non-scaling-stroke; opacity: 1; stroke-width: 1.5px; fill: rgb(82, 150, 221); fill-opacity: 1; stroke: rgb(229, 236, 246); stroke-opacity: 1;\"/></g><g class=\"point\"><path d=\"M186.72,360V355.18H190.64V360Z\" style=\"vector-effect: non-scaling-stroke; opacity: 1; stroke-width: 1.5px; fill: rgb(82, 150, 221); fill-opacity: 1; stroke: rgb(229, 236, 246); stroke-opacity: 1;\"/></g><g class=\"point\"><path d=\"M191.62,360V331.1H195.54V360Z\" style=\"vector-effect: non-scaling-stroke; opacity: 1; stroke-width: 1.5px; fill: rgb(82, 150, 221); fill-opacity: 1; stroke: rgb(229, 236, 246); stroke-opacity: 1;\"/></g><g class=\"point\"><path d=\"M196.52,360V316.65H200.44V360Z\" style=\"vector-effect: non-scaling-stroke; opacity: 1; stroke-width: 1.5px; fill: rgb(82, 150, 221); fill-opacity: 1; stroke: rgb(229, 236, 246); stroke-opacity: 1;\"/></g><g class=\"point\"><path d=\"M201.42,360V326.28H205.34V360Z\" style=\"vector-effect: non-scaling-stroke; opacity: 1; stroke-width: 1.5px; fill: rgb(82, 150, 221); fill-opacity: 1; stroke: rgb(229, 236, 246); stroke-opacity: 1;\"/></g><g class=\"point\"><path d=\"M206.32,360V307.01H210.24V360Z\" style=\"vector-effect: non-scaling-stroke; opacity: 1; stroke-width: 1.5px; fill: rgb(82, 150, 221); fill-opacity: 1; stroke: rgb(229, 236, 246); stroke-opacity: 1;\"/></g><g class=\"point\"><path d=\"M211.22,360V307.01H215.14V360Z\" style=\"vector-effect: non-scaling-stroke; opacity: 1; stroke-width: 1.5px; fill: rgb(82, 150, 221); fill-opacity: 1; stroke: rgb(229, 236, 246); stroke-opacity: 1;\"/></g><g class=\"point\"><path d=\"M216.12,360V355.18H220.04V360Z\" style=\"vector-effect: non-scaling-stroke; opacity: 1; stroke-width: 1.5px; fill: rgb(82, 150, 221); fill-opacity: 1; stroke: rgb(229, 236, 246); stroke-opacity: 1;\"/></g><g class=\"point\"><path d=\"M221.02,360V316.65H224.94V360Z\" style=\"vector-effect: non-scaling-stroke; opacity: 1; stroke-width: 1.5px; fill: rgb(82, 150, 221); fill-opacity: 1; stroke: rgb(229, 236, 246); stroke-opacity: 1;\"/></g><g class=\"point\"><path d=\"M225.92,360V345.55H229.84V360Z\" style=\"vector-effect: non-scaling-stroke; opacity: 1; stroke-width: 1.5px; fill: rgb(82, 150, 221); fill-opacity: 1; stroke: rgb(229, 236, 246); stroke-opacity: 1;\"/></g><g class=\"point\"><path d=\"M230.82,360V355.18H234.74V360Z\" style=\"vector-effect: non-scaling-stroke; opacity: 1; stroke-width: 1.5px; fill: rgb(82, 150, 221); fill-opacity: 1; stroke: rgb(229, 236, 246); stroke-opacity: 1;\"/></g><g class=\"point\"><path d=\"M235.72,360V321.46H239.64V360Z\" style=\"vector-effect: non-scaling-stroke; opacity: 1; stroke-width: 1.5px; fill: rgb(82, 150, 221); fill-opacity: 1; stroke: rgb(229, 236, 246); stroke-opacity: 1;\"/></g><g class=\"point\"><path d=\"M240.62,360V335.92H244.54V360Z\" style=\"vector-effect: non-scaling-stroke; opacity: 1; stroke-width: 1.5px; fill: rgb(82, 150, 221); fill-opacity: 1; stroke: rgb(229, 236, 246); stroke-opacity: 1;\"/></g><g class=\"point\"><path d=\"M245.52,360V70.99H249.44V360Z\" style=\"vector-effect: non-scaling-stroke; opacity: 1; stroke-width: 1.5px; fill: rgb(82, 150, 221); fill-opacity: 1; stroke: rgb(229, 236, 246); stroke-opacity: 1;\"/></g><g class=\"point\"><path d=\"M250.42,360V287.75H254.34V360Z\" style=\"vector-effect: non-scaling-stroke; opacity: 1; stroke-width: 1.5px; fill: rgb(82, 150, 221); fill-opacity: 1; stroke: rgb(229, 236, 246); stroke-opacity: 1;\"/></g><g class=\"point\"><path d=\"M255.32,360V234.76H259.25V360Z\" style=\"vector-effect: non-scaling-stroke; opacity: 1; stroke-width: 1.5px; fill: rgb(82, 150, 221); fill-opacity: 1; stroke: rgb(229, 236, 246); stroke-opacity: 1;\"/></g><g class=\"point\"><path d=\"M260.23,360V316.65H264.15V360Z\" style=\"vector-effect: non-scaling-stroke; opacity: 1; stroke-width: 1.5px; fill: rgb(82, 150, 221); fill-opacity: 1; stroke: rgb(229, 236, 246); stroke-opacity: 1;\"/></g><g class=\"point\"><path d=\"M265.13,360V326.28H269.05V360Z\" style=\"vector-effect: non-scaling-stroke; opacity: 1; stroke-width: 1.5px; fill: rgb(82, 150, 221); fill-opacity: 1; stroke: rgb(229, 236, 246); stroke-opacity: 1;\"/></g><g class=\"point\"><path d=\"M270.03,360V292.56H273.95V360Z\" style=\"vector-effect: non-scaling-stroke; opacity: 1; stroke-width: 1.5px; fill: rgb(82, 150, 221); fill-opacity: 1; stroke: rgb(229, 236, 246); stroke-opacity: 1;\"/></g><g class=\"point\"><path d=\"M274.93,360V345.55H278.85V360Z\" style=\"vector-effect: non-scaling-stroke; opacity: 1; stroke-width: 1.5px; fill: rgb(82, 150, 221); fill-opacity: 1; stroke: rgb(229, 236, 246); stroke-opacity: 1;\"/></g><g class=\"point\"><path d=\"M279.83,360V331.1H283.75V360Z\" style=\"vector-effect: non-scaling-stroke; opacity: 1; stroke-width: 1.5px; fill: rgb(82, 150, 221); fill-opacity: 1; stroke: rgb(229, 236, 246); stroke-opacity: 1;\"/></g><g class=\"point\"><path d=\"M284.73,360V42.08H288.65V360Z\" style=\"vector-effect: non-scaling-stroke; opacity: 1; stroke-width: 1.5px; fill: rgb(82, 150, 221); fill-opacity: 1; stroke: rgb(229, 236, 246); stroke-opacity: 1;\"/></g><g class=\"point\"><path d=\"M289.63,360V278.11H293.55V360Z\" style=\"vector-effect: non-scaling-stroke; opacity: 1; stroke-width: 1.5px; fill: rgb(82, 150, 221); fill-opacity: 1; stroke: rgb(229, 236, 246); stroke-opacity: 1;\"/></g><g class=\"point\"><path d=\"M294.53,360V326.28H298.45V360Z\" style=\"vector-effect: non-scaling-stroke; opacity: 1; stroke-width: 1.5px; fill: rgb(82, 150, 221); fill-opacity: 1; stroke: rgb(229, 236, 246); stroke-opacity: 1;\"/></g><g class=\"point\"><path d=\"M299.43,360V297.38H303.35V360Z\" style=\"vector-effect: non-scaling-stroke; opacity: 1; stroke-width: 1.5px; fill: rgb(82, 150, 221); fill-opacity: 1; stroke: rgb(229, 236, 246); stroke-opacity: 1;\"/></g><g class=\"point\"><path d=\"M304.33,360V220.31H308.25V360Z\" style=\"vector-effect: non-scaling-stroke; opacity: 1; stroke-width: 1.5px; fill: rgb(82, 150, 221); fill-opacity: 1; stroke: rgb(229, 236, 246); stroke-opacity: 1;\"/></g><g class=\"point\"><path d=\"M309.23,360V355.18H313.15V360Z\" style=\"vector-effect: non-scaling-stroke; opacity: 1; stroke-width: 1.5px; fill: rgb(82, 150, 221); fill-opacity: 1; stroke: rgb(229, 236, 246); stroke-opacity: 1;\"/></g><g class=\"point\"><path d=\"M314.13,360V355.18H318.05V360Z\" style=\"vector-effect: non-scaling-stroke; opacity: 1; stroke-width: 1.5px; fill: rgb(82, 150, 221); fill-opacity: 1; stroke: rgb(229, 236, 246); stroke-opacity: 1;\"/></g><g class=\"point\"><path d=\"M323.93,360V331.1H327.85V360Z\" style=\"vector-effect: non-scaling-stroke; opacity: 1; stroke-width: 1.5px; fill: rgb(82, 150, 221); fill-opacity: 1; stroke: rgb(229, 236, 246); stroke-opacity: 1;\"/></g><g class=\"point\"><path d=\"M328.83,360V345.55H332.75V360Z\" style=\"vector-effect: non-scaling-stroke; opacity: 1; stroke-width: 1.5px; fill: rgb(82, 150, 221); fill-opacity: 1; stroke: rgb(229, 236, 246); stroke-opacity: 1;\"/></g><g class=\"point\"><path d=\"M333.74,360V350.37H337.66V360Z\" style=\"vector-effect: non-scaling-stroke; opacity: 1; stroke-width: 1.5px; fill: rgb(82, 150, 221); fill-opacity: 1; stroke: rgb(229, 236, 246); stroke-opacity: 1;\"/></g><g class=\"point\"><path d=\"M338.64,360V350.37H342.56V360Z\" style=\"vector-effect: non-scaling-stroke; opacity: 1; stroke-width: 1.5px; fill: rgb(82, 150, 221); fill-opacity: 1; stroke: rgb(229, 236, 246); stroke-opacity: 1;\"/></g><g class=\"point\"><path d=\"M343.54,360V340.73H347.46V360Z\" style=\"vector-effect: non-scaling-stroke; opacity: 1; stroke-width: 1.5px; fill: rgb(82, 150, 221); fill-opacity: 1; stroke: rgb(229, 236, 246); stroke-opacity: 1;\"/></g><g class=\"point\"><path d=\"M348.44,360V326.28H352.36V360Z\" style=\"vector-effect: non-scaling-stroke; opacity: 1; stroke-width: 1.5px; fill: rgb(82, 150, 221); fill-opacity: 1; stroke: rgb(229, 236, 246); stroke-opacity: 1;\"/></g><g class=\"point\"><path d=\"M353.34,360V326.28H357.26V360Z\" style=\"vector-effect: non-scaling-stroke; opacity: 1; stroke-width: 1.5px; fill: rgb(82, 150, 221); fill-opacity: 1; stroke: rgb(229, 236, 246); stroke-opacity: 1;\"/></g><g class=\"point\"><path d=\"M358.24,360V326.28H362.16V360Z\" style=\"vector-effect: non-scaling-stroke; opacity: 1; stroke-width: 1.5px; fill: rgb(82, 150, 221); fill-opacity: 1; stroke: rgb(229, 236, 246); stroke-opacity: 1;\"/></g><g class=\"point\"><path d=\"M363.14,360V355.18H367.06V360Z\" style=\"vector-effect: non-scaling-stroke; opacity: 1; stroke-width: 1.5px; fill: rgb(82, 150, 221); fill-opacity: 1; stroke: rgb(229, 236, 246); stroke-opacity: 1;\"/></g><g class=\"point\"><path d=\"M372.94,360V355.18H376.86V360Z\" style=\"vector-effect: non-scaling-stroke; opacity: 1; stroke-width: 1.5px; fill: rgb(82, 150, 221); fill-opacity: 1; stroke: rgb(229, 236, 246); stroke-opacity: 1;\"/></g><g class=\"point\"><path d=\"M377.84,360V355.18H381.76V360Z\" style=\"vector-effect: non-scaling-stroke; opacity: 1; stroke-width: 1.5px; fill: rgb(82, 150, 221); fill-opacity: 1; stroke: rgb(229, 236, 246); stroke-opacity: 1;\"/></g><g class=\"point\"><path d=\"M387.64,360V355.18H391.56V360Z\" style=\"vector-effect: non-scaling-stroke; opacity: 1; stroke-width: 1.5px; fill: rgb(82, 150, 221); fill-opacity: 1; stroke: rgb(229, 236, 246); stroke-opacity: 1;\"/></g><g class=\"point\"><path d=\"M397.44,360V355.18H401.36V360Z\" style=\"vector-effect: non-scaling-stroke; opacity: 1; stroke-width: 1.5px; fill: rgb(82, 150, 221); fill-opacity: 1; stroke: rgb(229, 236, 246); stroke-opacity: 1;\"/></g><g class=\"point\"><path d=\"M417.05,360V350.37H420.97V360Z\" style=\"vector-effect: non-scaling-stroke; opacity: 1; stroke-width: 1.5px; fill: rgb(82, 150, 221); fill-opacity: 1; stroke: rgb(229, 236, 246); stroke-opacity: 1;\"/></g><g class=\"point\"><path d=\"M421.95,360V340.73H425.87V360Z\" style=\"vector-effect: non-scaling-stroke; opacity: 1; stroke-width: 1.5px; fill: rgb(82, 150, 221); fill-opacity: 1; stroke: rgb(229, 236, 246); stroke-opacity: 1;\"/></g><g class=\"point\"><path d=\"M426.85,360V321.46H430.77V360Z\" style=\"vector-effect: non-scaling-stroke; opacity: 1; stroke-width: 1.5px; fill: rgb(82, 150, 221); fill-opacity: 1; stroke: rgb(229, 236, 246); stroke-opacity: 1;\"/></g><g class=\"point\"><path d=\"M431.75,360V254.03H435.67V360Z\" style=\"vector-effect: non-scaling-stroke; opacity: 1; stroke-width: 1.5px; fill: rgb(82, 150, 221); fill-opacity: 1; stroke: rgb(229, 236, 246); stroke-opacity: 1;\"/></g><g class=\"point\"><path d=\"M436.65,360V321.46H440.57V360Z\" style=\"vector-effect: non-scaling-stroke; opacity: 1; stroke-width: 1.5px; fill: rgb(82, 150, 221); fill-opacity: 1; stroke: rgb(229, 236, 246); stroke-opacity: 1;\"/></g><g class=\"point\"><path d=\"M441.55,360V350.37H445.47V360Z\" style=\"vector-effect: non-scaling-stroke; opacity: 1; stroke-width: 1.5px; fill: rgb(82, 150, 221); fill-opacity: 1; stroke: rgb(229, 236, 246); stroke-opacity: 1;\"/></g><g class=\"point\"><path d=\"M446.45,360V355.18H450.37V360Z\" style=\"vector-effect: non-scaling-stroke; opacity: 1; stroke-width: 1.5px; fill: rgb(82, 150, 221); fill-opacity: 1; stroke: rgb(229, 236, 246); stroke-opacity: 1;\"/></g><g class=\"point\"><path d=\"M456.25,360V355.18H460.17V360Z\" style=\"vector-effect: non-scaling-stroke; opacity: 1; stroke-width: 1.5px; fill: rgb(82, 150, 221); fill-opacity: 1; stroke: rgb(229, 236, 246); stroke-opacity: 1;\"/></g><g class=\"point\"><path d=\"M466.05,360V345.55H469.97V360Z\" style=\"vector-effect: non-scaling-stroke; opacity: 1; stroke-width: 1.5px; fill: rgb(82, 150, 221); fill-opacity: 1; stroke: rgb(229, 236, 246); stroke-opacity: 1;\"/></g><g class=\"point\"><path d=\"M470.95,360V355.18H474.87V360Z\" style=\"vector-effect: non-scaling-stroke; opacity: 1; stroke-width: 1.5px; fill: rgb(82, 150, 221); fill-opacity: 1; stroke: rgb(229, 236, 246); stroke-opacity: 1;\"/></g><g class=\"point\"><path d=\"M475.85,360V335.92H479.77V360Z\" style=\"vector-effect: non-scaling-stroke; opacity: 1; stroke-width: 1.5px; fill: rgb(82, 150, 221); fill-opacity: 1; stroke: rgb(229, 236, 246); stroke-opacity: 1;\"/></g><g class=\"point\"><path d=\"M480.75,360V355.18H484.68V360Z\" style=\"vector-effect: non-scaling-stroke; opacity: 1; stroke-width: 1.5px; fill: rgb(82, 150, 221); fill-opacity: 1; stroke: rgb(229, 236, 246); stroke-opacity: 1;\"/></g><g class=\"point\"><path d=\"M485.66,360V355.18H489.58V360Z\" style=\"vector-effect: non-scaling-stroke; opacity: 1; stroke-width: 1.5px; fill: rgb(82, 150, 221); fill-opacity: 1; stroke: rgb(229, 236, 246); stroke-opacity: 1;\"/></g><g class=\"point\"><path d=\"M505.26,360V254.03H509.18V360Z\" style=\"vector-effect: non-scaling-stroke; opacity: 1; stroke-width: 1.5px; fill: rgb(82, 150, 221); fill-opacity: 1; stroke: rgb(229, 236, 246); stroke-opacity: 1;\"/></g><g class=\"point\"><path d=\"M510.16,360V331.1H514.08V360Z\" style=\"vector-effect: non-scaling-stroke; opacity: 1; stroke-width: 1.5px; fill: rgb(82, 150, 221); fill-opacity: 1; stroke: rgb(229, 236, 246); stroke-opacity: 1;\"/></g><g class=\"point\"><path d=\"M515.06,360V326.28H518.98V360Z\" style=\"vector-effect: non-scaling-stroke; opacity: 1; stroke-width: 1.5px; fill: rgb(82, 150, 221); fill-opacity: 1; stroke: rgb(229, 236, 246); stroke-opacity: 1;\"/></g><g class=\"point\"><path d=\"M519.96,360V18H523.88V360Z\" style=\"vector-effect: non-scaling-stroke; opacity: 1; stroke-width: 1.5px; fill: rgb(82, 150, 221); fill-opacity: 1; stroke: rgb(229, 236, 246); stroke-opacity: 1;\"/></g><g class=\"point\"><path d=\"M524.86,360V263.66H528.78V360Z\" style=\"vector-effect: non-scaling-stroke; opacity: 1; stroke-width: 1.5px; fill: rgb(82, 150, 221); fill-opacity: 1; stroke: rgb(229, 236, 246); stroke-opacity: 1;\"/></g><g class=\"point\"><path d=\"M529.76,360V326.28H533.68V360Z\" style=\"vector-effect: non-scaling-stroke; opacity: 1; stroke-width: 1.5px; fill: rgb(82, 150, 221); fill-opacity: 1; stroke: rgb(229, 236, 246); stroke-opacity: 1;\"/></g><g class=\"point\"><path d=\"M534.66,360V229.94H538.58V360Z\" style=\"vector-effect: non-scaling-stroke; opacity: 1; stroke-width: 1.5px; fill: rgb(82, 150, 221); fill-opacity: 1; stroke: rgb(229, 236, 246); stroke-opacity: 1;\"/></g><g class=\"point\"><path d=\"M539.56,360V316.65H543.48V360Z\" style=\"vector-effect: non-scaling-stroke; opacity: 1; stroke-width: 1.5px; fill: rgb(82, 150, 221); fill-opacity: 1; stroke: rgb(229, 236, 246); stroke-opacity: 1;\"/></g><g class=\"point\"><path d=\"M544.46,360V326.28H548.38V360Z\" style=\"vector-effect: non-scaling-stroke; opacity: 1; stroke-width: 1.5px; fill: rgb(82, 150, 221); fill-opacity: 1; stroke: rgb(229, 236, 246); stroke-opacity: 1;\"/></g><g class=\"point\"><path d=\"M549.36,360V355.18H553.28V360Z\" style=\"vector-effect: non-scaling-stroke; opacity: 1; stroke-width: 1.5px; fill: rgb(82, 150, 221); fill-opacity: 1; stroke: rgb(229, 236, 246); stroke-opacity: 1;\"/></g><g class=\"point\"><path d=\"M554.26,360V350.37H558.19V360Z\" style=\"vector-effect: non-scaling-stroke; opacity: 1; stroke-width: 1.5px; fill: rgb(82, 150, 221); fill-opacity: 1; stroke: rgb(229, 236, 246); stroke-opacity: 1;\"/></g><g class=\"point\"><path d=\"M559.17,360V350.37H563.09V360Z\" style=\"vector-effect: non-scaling-stroke; opacity: 1; stroke-width: 1.5px; fill: rgb(82, 150, 221); fill-opacity: 1; stroke: rgb(229, 236, 246); stroke-opacity: 1;\"/></g><g class=\"point\"><path d=\"M564.07,360V254.03H567.99V360Z\" style=\"vector-effect: non-scaling-stroke; opacity: 1; stroke-width: 1.5px; fill: rgb(82, 150, 221); fill-opacity: 1; stroke: rgb(229, 236, 246); stroke-opacity: 1;\"/></g><g class=\"point\"><path d=\"M573.87,360V326.28H577.79V360Z\" style=\"vector-effect: non-scaling-stroke; opacity: 1; stroke-width: 1.5px; fill: rgb(82, 150, 221); fill-opacity: 1; stroke: rgb(229, 236, 246); stroke-opacity: 1;\"/></g><g class=\"point\"><path d=\"M578.77,360V297.38H582.69V360Z\" style=\"vector-effect: non-scaling-stroke; opacity: 1; stroke-width: 1.5px; fill: rgb(82, 150, 221); fill-opacity: 1; stroke: rgb(229, 236, 246); stroke-opacity: 1;\"/></g><g class=\"point\"><path d=\"M583.67,360V311.83H587.59V360Z\" style=\"vector-effect: non-scaling-stroke; opacity: 1; stroke-width: 1.5px; fill: rgb(82, 150, 221); fill-opacity: 1; stroke: rgb(229, 236, 246); stroke-opacity: 1;\"/></g><g class=\"point\"><path d=\"M588.57,360V321.46H592.49V360Z\" style=\"vector-effect: non-scaling-stroke; opacity: 1; stroke-width: 1.5px; fill: rgb(82, 150, 221); fill-opacity: 1; stroke: rgb(229, 236, 246); stroke-opacity: 1;\"/></g><g class=\"point\"><path d=\"M593.47,360V311.83H597.39V360Z\" style=\"vector-effect: non-scaling-stroke; opacity: 1; stroke-width: 1.5px; fill: rgb(82, 150, 221); fill-opacity: 1; stroke: rgb(229, 236, 246); stroke-opacity: 1;\"/></g><g class=\"point\"><path d=\"M598.37,360V345.55H602.29V360Z\" style=\"vector-effect: non-scaling-stroke; opacity: 1; stroke-width: 1.5px; fill: rgb(82, 150, 221); fill-opacity: 1; stroke: rgb(229, 236, 246); stroke-opacity: 1;\"/></g><g class=\"point\"><path d=\"M603.27,360V350.37H607.19V360Z\" style=\"vector-effect: non-scaling-stroke; opacity: 1; stroke-width: 1.5px; fill: rgb(82, 150, 221); fill-opacity: 1; stroke: rgb(229, 236, 246); stroke-opacity: 1;\"/></g><g class=\"point\"><path d=\"M608.17,360V350.37H612.09V360Z\" style=\"vector-effect: non-scaling-stroke; opacity: 1; stroke-width: 1.5px; fill: rgb(82, 150, 221); fill-opacity: 1; stroke: rgb(229, 236, 246); stroke-opacity: 1;\"/></g><g class=\"point\"><path d=\"M613.07,360V350.37H616.99V360Z\" style=\"vector-effect: non-scaling-stroke; opacity: 1; stroke-width: 1.5px; fill: rgb(82, 150, 221); fill-opacity: 1; stroke: rgb(229, 236, 246); stroke-opacity: 1;\"/></g><g class=\"point\"><path d=\"M617.97,360V307.01H621.89V360Z\" style=\"vector-effect: non-scaling-stroke; opacity: 1; stroke-width: 1.5px; fill: rgb(82, 150, 221); fill-opacity: 1; stroke: rgb(229, 236, 246); stroke-opacity: 1;\"/></g><g class=\"point\"><path d=\"M622.87,360V273.3H626.79V360Z\" style=\"vector-effect: non-scaling-stroke; opacity: 1; stroke-width: 1.5px; fill: rgb(82, 150, 221); fill-opacity: 1; stroke: rgb(229, 236, 246); stroke-opacity: 1;\"/></g><g class=\"point\"><path d=\"M627.77,360V307.01H631.7V360Z\" style=\"vector-effect: non-scaling-stroke; opacity: 1; stroke-width: 1.5px; fill: rgb(82, 150, 221); fill-opacity: 1; stroke: rgb(229, 236, 246); stroke-opacity: 1;\"/></g><g class=\"point\"><path d=\"M632.68,360V292.56H636.6V360Z\" style=\"vector-effect: non-scaling-stroke; opacity: 1; stroke-width: 1.5px; fill: rgb(82, 150, 221); fill-opacity: 1; stroke: rgb(229, 236, 246); stroke-opacity: 1;\"/></g><g class=\"point\"><path d=\"M637.58,360V172.14H641.5V360Z\" style=\"vector-effect: non-scaling-stroke; opacity: 1; stroke-width: 1.5px; fill: rgb(82, 150, 221); fill-opacity: 1; stroke: rgb(229, 236, 246); stroke-opacity: 1;\"/></g><g class=\"point\"><path d=\"M642.48,360V307.01H646.4V360Z\" style=\"vector-effect: non-scaling-stroke; opacity: 1; stroke-width: 1.5px; fill: rgb(82, 150, 221); fill-opacity: 1; stroke: rgb(229, 236, 246); stroke-opacity: 1;\"/></g><g class=\"point\"><path d=\"M647.38,360V340.73H651.3V360Z\" style=\"vector-effect: non-scaling-stroke; opacity: 1; stroke-width: 1.5px; fill: rgb(82, 150, 221); fill-opacity: 1; stroke: rgb(229, 236, 246); stroke-opacity: 1;\"/></g><g class=\"point\"><path d=\"M652.28,360V331.1H656.2V360Z\" style=\"vector-effect: non-scaling-stroke; opacity: 1; stroke-width: 1.5px; fill: rgb(82, 150, 221); fill-opacity: 1; stroke: rgb(229, 236, 246); stroke-opacity: 1;\"/></g><g class=\"point\"><path d=\"M657.18,360V355.18H661.1V360Z\" style=\"vector-effect: non-scaling-stroke; opacity: 1; stroke-width: 1.5px; fill: rgb(82, 150, 221); fill-opacity: 1; stroke: rgb(229, 236, 246); stroke-opacity: 1;\"/></g><g class=\"point\"><path d=\"M662.08,360V345.55H666V360Z\" style=\"vector-effect: non-scaling-stroke; opacity: 1; stroke-width: 1.5px; fill: rgb(82, 150, 221); fill-opacity: 1; stroke: rgb(229, 236, 246); stroke-opacity: 1;\"/></g><g class=\"point\"><path d=\"M666.98,360V335.92H670.9V360Z\" style=\"vector-effect: non-scaling-stroke; opacity: 1; stroke-width: 1.5px; fill: rgb(82, 150, 221); fill-opacity: 1; stroke: rgb(229, 236, 246); stroke-opacity: 1;\"/></g><g class=\"point\"><path d=\"M671.88,360V307.01H675.8V360Z\" style=\"vector-effect: non-scaling-stroke; opacity: 1; stroke-width: 1.5px; fill: rgb(82, 150, 221); fill-opacity: 1; stroke: rgb(229, 236, 246); stroke-opacity: 1;\"/></g><g class=\"point\"><path d=\"M676.78,360V311.83H680.7V360Z\" style=\"vector-effect: non-scaling-stroke; opacity: 1; stroke-width: 1.5px; fill: rgb(82, 150, 221); fill-opacity: 1; stroke: rgb(229, 236, 246); stroke-opacity: 1;\"/></g><g class=\"point\"><path d=\"M681.68,360V350.37H685.6V360Z\" style=\"vector-effect: non-scaling-stroke; opacity: 1; stroke-width: 1.5px; fill: rgb(82, 150, 221); fill-opacity: 1; stroke: rgb(229, 236, 246); stroke-opacity: 1;\"/></g><g class=\"point\"><path d=\"M686.58,360V321.46H690.5V360Z\" style=\"vector-effect: non-scaling-stroke; opacity: 1; stroke-width: 1.5px; fill: rgb(82, 150, 221); fill-opacity: 1; stroke: rgb(229, 236, 246); stroke-opacity: 1;\"/></g><g class=\"point\"><path d=\"M691.48,360V335.92H695.4V360Z\" style=\"vector-effect: non-scaling-stroke; opacity: 1; stroke-width: 1.5px; fill: rgb(82, 150, 221); fill-opacity: 1; stroke: rgb(229, 236, 246); stroke-opacity: 1;\"/></g><g class=\"point\"><path d=\"M696.38,360V345.55H700.3V360Z\" style=\"vector-effect: non-scaling-stroke; opacity: 1; stroke-width: 1.5px; fill: rgb(82, 150, 221); fill-opacity: 1; stroke: rgb(229, 236, 246); stroke-opacity: 1;\"/></g><g class=\"point\"><path d=\"M701.28,360V340.73H705.21V360Z\" style=\"vector-effect: non-scaling-stroke; opacity: 1; stroke-width: 1.5px; fill: rgb(82, 150, 221); fill-opacity: 1; stroke: rgb(229, 236, 246); stroke-opacity: 1;\"/></g><g class=\"point\"><path d=\"M706.19,360V350.37H710.11V360Z\" style=\"vector-effect: non-scaling-stroke; opacity: 1; stroke-width: 1.5px; fill: rgb(82, 150, 221); fill-opacity: 1; stroke: rgb(229, 236, 246); stroke-opacity: 1;\"/></g><g class=\"point\"><path d=\"M711.09,360V340.73H715.01V360Z\" style=\"vector-effect: non-scaling-stroke; opacity: 1; stroke-width: 1.5px; fill: rgb(82, 150, 221); fill-opacity: 1; stroke: rgb(229, 236, 246); stroke-opacity: 1;\"/></g><g class=\"point\"><path d=\"M715.99,360V335.92H719.91V360Z\" style=\"vector-effect: non-scaling-stroke; opacity: 1; stroke-width: 1.5px; fill: rgb(82, 150, 221); fill-opacity: 1; stroke: rgb(229, 236, 246); stroke-opacity: 1;\"/></g><g class=\"point\"><path d=\"M720.89,360V345.55H724.81V360Z\" style=\"vector-effect: non-scaling-stroke; opacity: 1; stroke-width: 1.5px; fill: rgb(82, 150, 221); fill-opacity: 1; stroke: rgb(229, 236, 246); stroke-opacity: 1;\"/></g><g class=\"point\"><path d=\"M730.69,360V355.18H734.61V360Z\" style=\"vector-effect: non-scaling-stroke; opacity: 1; stroke-width: 1.5px; fill: rgb(82, 150, 221); fill-opacity: 1; stroke: rgb(229, 236, 246); stroke-opacity: 1;\"/></g><g class=\"point\"><path d=\"M735.59,360V355.18H739.51V360Z\" style=\"vector-effect: non-scaling-stroke; opacity: 1; stroke-width: 1.5px; fill: rgb(82, 150, 221); fill-opacity: 1; stroke: rgb(229, 236, 246); stroke-opacity: 1;\"/></g></g></g></g></g><g class=\"overplot\"/><path class=\"xlines-above crisp\" d=\"M0,0\" style=\"fill: none;\"/><path class=\"ylines-above crisp\" d=\"M0,0\" style=\"fill: none;\"/><g class=\"overlines-above\"/><g class=\"xaxislayer-above\"><g class=\"xtick\"><text text-anchor=\"middle\" x=\"0\" y=\"433\" transform=\"translate(92.25,0)\" style=\"font-family: 'Open Sans', verdana, arial, sans-serif; font-size: 12px; fill: rgb(42, 63, 95); fill-opacity: 1; white-space: pre; opacity: 1;\"><tspan class=\"line\" dy=\"0em\" x=\"0\" y=\"433\">Jan 3</tspan><tspan class=\"line\" dy=\"1.3em\" x=\"0\" y=\"433\">2021</tspan></text></g><g class=\"xtick\"><text text-anchor=\"middle\" x=\"0\" y=\"433\" style=\"font-family: 'Open Sans', verdana, arial, sans-serif; font-size: 12px; fill: rgb(42, 63, 95); fill-opacity: 1; white-space: pre; opacity: 1;\" transform=\"translate(160.86,0)\">Jan 17</text></g><g class=\"xtick\"><text text-anchor=\"middle\" x=\"0\" y=\"433\" style=\"font-family: 'Open Sans', verdana, arial, sans-serif; font-size: 12px; fill: rgb(42, 63, 95); fill-opacity: 1; white-space: pre; opacity: 1;\" transform=\"translate(229.47,0)\">Jan 31</text></g><g class=\"xtick\"><text text-anchor=\"middle\" x=\"0\" y=\"433\" style=\"font-family: 'Open Sans', verdana, arial, sans-serif; font-size: 12px; fill: rgb(42, 63, 95); fill-opacity: 1; white-space: pre; opacity: 1;\" transform=\"translate(298.08000000000004,0)\">Feb 14</text></g><g class=\"xtick\"><text text-anchor=\"middle\" x=\"0\" y=\"433\" style=\"font-family: 'Open Sans', verdana, arial, sans-serif; font-size: 12px; fill: rgb(42, 63, 95); fill-opacity: 1; white-space: pre; opacity: 1;\" transform=\"translate(366.69,0)\">Feb 28</text></g><g class=\"xtick\"><text text-anchor=\"middle\" x=\"0\" y=\"433\" style=\"font-family: 'Open Sans', verdana, arial, sans-serif; font-size: 12px; fill: rgb(42, 63, 95); fill-opacity: 1; white-space: pre; opacity: 1;\" transform=\"translate(435.3,0)\">Mar 14</text></g><g class=\"xtick\"><text text-anchor=\"middle\" x=\"0\" y=\"433\" style=\"font-family: 'Open Sans', verdana, arial, sans-serif; font-size: 12px; fill: rgb(42, 63, 95); fill-opacity: 1; white-space: pre; opacity: 1;\" transform=\"translate(503.91,0)\">Mar 28</text></g><g class=\"xtick\"><text text-anchor=\"middle\" x=\"0\" y=\"433\" style=\"font-family: 'Open Sans', verdana, arial, sans-serif; font-size: 12px; fill: rgb(42, 63, 95); fill-opacity: 1; white-space: pre; opacity: 1;\" transform=\"translate(572.52,0)\">Apr 11</text></g><g class=\"xtick\"><text text-anchor=\"middle\" x=\"0\" y=\"433\" style=\"font-family: 'Open Sans', verdana, arial, sans-serif; font-size: 12px; fill: rgb(42, 63, 95); fill-opacity: 1; white-space: pre; opacity: 1;\" transform=\"translate(641.13,0)\">Apr 25</text></g><g class=\"xtick\"><text text-anchor=\"middle\" x=\"0\" y=\"433\" style=\"font-family: 'Open Sans', verdana, arial, sans-serif; font-size: 12px; fill: rgb(42, 63, 95); fill-opacity: 1; white-space: pre; opacity: 1;\" transform=\"translate(709.74,0)\">May 9</text></g><g class=\"xtick\"><text text-anchor=\"middle\" x=\"0\" y=\"433\" style=\"font-family: 'Open Sans', verdana, arial, sans-serif; font-size: 12px; fill: rgb(42, 63, 95); fill-opacity: 1; white-space: pre; opacity: 1;\" transform=\"translate(778.34,0)\">May 23</text></g></g><g class=\"yaxislayer-above\"><g class=\"ytick\"><text text-anchor=\"end\" x=\"79\" y=\"4.199999999999999\" transform=\"translate(0,420)\" style=\"font-family: 'Open Sans', verdana, arial, sans-serif; font-size: 12px; fill: rgb(42, 63, 95); fill-opacity: 1; white-space: pre; opacity: 1;\">0</text></g><g class=\"ytick\"><text text-anchor=\"end\" x=\"79\" y=\"4.199999999999999\" style=\"font-family: 'Open Sans', verdana, arial, sans-serif; font-size: 12px; fill: rgb(42, 63, 95); fill-opacity: 1; white-space: pre; opacity: 1;\" transform=\"translate(0,371.83)\">10</text></g><g class=\"ytick\"><text text-anchor=\"end\" x=\"79\" y=\"4.199999999999999\" style=\"font-family: 'Open Sans', verdana, arial, sans-serif; font-size: 12px; fill: rgb(42, 63, 95); fill-opacity: 1; white-space: pre; opacity: 1;\" transform=\"translate(0,323.66)\">20</text></g><g class=\"ytick\"><text text-anchor=\"end\" x=\"79\" y=\"4.199999999999999\" style=\"font-family: 'Open Sans', verdana, arial, sans-serif; font-size: 12px; fill: rgb(42, 63, 95); fill-opacity: 1; white-space: pre; opacity: 1;\" transform=\"translate(0,275.49)\">30</text></g><g class=\"ytick\"><text text-anchor=\"end\" x=\"79\" y=\"4.199999999999999\" style=\"font-family: 'Open Sans', verdana, arial, sans-serif; font-size: 12px; fill: rgb(42, 63, 95); fill-opacity: 1; white-space: pre; opacity: 1;\" transform=\"translate(0,227.32)\">40</text></g><g class=\"ytick\"><text text-anchor=\"end\" x=\"79\" y=\"4.199999999999999\" style=\"font-family: 'Open Sans', verdana, arial, sans-serif; font-size: 12px; fill: rgb(42, 63, 95); fill-opacity: 1; white-space: pre; opacity: 1;\" transform=\"translate(0,179.15)\">50</text></g><g class=\"ytick\"><text text-anchor=\"end\" x=\"79\" y=\"4.199999999999999\" style=\"font-family: 'Open Sans', verdana, arial, sans-serif; font-size: 12px; fill: rgb(42, 63, 95); fill-opacity: 1; white-space: pre; opacity: 1;\" transform=\"translate(0,130.99)\">60</text></g><g class=\"ytick\"><text text-anchor=\"end\" x=\"79\" y=\"4.199999999999999\" style=\"font-family: 'Open Sans', verdana, arial, sans-serif; font-size: 12px; fill: rgb(42, 63, 95); fill-opacity: 1; white-space: pre; opacity: 1;\" transform=\"translate(0,82.82)\">70</text></g></g><g class=\"overaxes-above\"/></g></g><g class=\"polarlayer\"/><g class=\"ternarylayer\"/><g class=\"geolayer\"/><g class=\"funnelarealayer\"/><g class=\"pielayer\"/><g class=\"iciclelayer\"/><g class=\"treemaplayer\"/><g class=\"sunburstlayer\"/><g class=\"glimages\"/><defs id=\"topdefs-76804e\"><g class=\"clips\"/></defs><g class=\"layer-above\"><g class=\"imagelayer\"/><g class=\"shapelayer\"/></g><g class=\"infolayer\"><g class=\"g-gtitle\"><text class=\"gtitle\" x=\"450\" y=\"30\" text-anchor=\"middle\" dy=\"0.7em\" style=\"font-family: 'Open Sans', verdana, arial, sans-serif; font-size: 17px; fill: rgb(42, 63, 95); opacity: 1; font-weight: normal; white-space: pre;\">The number of banned users contributions created on each date</text></g><g class=\"g-xtitle\"><text class=\"xtitle\" x=\"450\" y=\"476.409375\" text-anchor=\"middle\" style=\"font-family: 'Open Sans', verdana, arial, sans-serif; font-size: 14px; fill: rgb(42, 63, 95); opacity: 1; font-weight: normal; white-space: pre;\">created_at</text></g><g class=\"g-ytitle\"><text class=\"ytitle\" transform=\"rotate(-90,38.934375,240)\" x=\"38.934375\" y=\"240\" text-anchor=\"middle\" style=\"font-family: 'Open Sans', verdana, arial, sans-serif; font-size: 14px; fill: rgb(42, 63, 95); opacity: 1; font-weight: normal; white-space: pre;\">n_contributions</text></g></g></svg>"
      ]
     },
     "metadata": {},
     "output_type": "display_data"
    }
   ],
   "source": [
    "# group by date an count\n",
    "banned_contributions = df_banned.groupby(df_banned.created_at.dt.date).size().reset_index(name='n_contributions')\n",
    "\n",
    "fig = px.bar(banned_contributions,\n",
    "             x='created_at', y='n_contributions')\n",
    "\n",
    "fig.update_layout(\n",
    "            title={\n",
    "        'text': \"The number of banned users contributions created on each date\",\n",
    "        'x':0.5,\n",
    "        'xanchor': 'center',\n",
    "        'yanchor': 'top'\n",
    "        })\n",
    "\n",
    "fig.update_traces(marker_color='#5296dd',\n",
    "                  marker_line_width=1.5, opacity=1, textposition='auto').update_layout()\n",
    "fig.show()"
   ]
  },
  {
   "cell_type": "code",
   "execution_count": 51,
   "id": "4599d478",
   "metadata": {},
   "outputs": [
    {
     "data": {
      "image/svg+xml": [
       "<svg class=\"main-svg\" xmlns=\"http://www.w3.org/2000/svg\" xmlns:xlink=\"http://www.w3.org/1999/xlink\" width=\"900\" height=\"500\" style=\"\" viewBox=\"0 0 900 500\"><rect x=\"0\" y=\"0\" width=\"900\" height=\"500\" style=\"fill: rgb(255, 255, 255); fill-opacity: 1;\"/><defs id=\"defs-37cea4\"><g class=\"clips\"><clipPath id=\"clip37cea4xyplot\" class=\"plotclip\"><rect width=\"740\" height=\"347\"/></clipPath><clipPath class=\"axesclip\" id=\"clip37cea4x\"><rect x=\"80\" y=\"0\" width=\"740\" height=\"500\"/></clipPath><clipPath class=\"axesclip\" id=\"clip37cea4y\"><rect x=\"0\" y=\"60\" width=\"900\" height=\"347\"/></clipPath><clipPath class=\"axesclip\" id=\"clip37cea4xy\"><rect x=\"80\" y=\"60\" width=\"740\" height=\"347\"/></clipPath></g><g class=\"gradients\"/><g class=\"patterns\"/></defs><g class=\"bglayer\"><rect class=\"bg\" x=\"80\" y=\"60\" width=\"740\" height=\"347\" style=\"fill: rgb(229, 236, 246); fill-opacity: 1; stroke-width: 0;\"/></g><g class=\"layer-below\"><g class=\"imagelayer\"/><g class=\"shapelayer\"/></g><g class=\"cartesianlayer\"><g class=\"subplot xy\"><g class=\"layer-subplot\"><g class=\"shapelayer\"/><g class=\"imagelayer\"/></g><g class=\"gridlayer\"><g class=\"x\"/><g class=\"y\"><path class=\"ygrid crisp\" transform=\"translate(0,360.57)\" d=\"M80,0h740\" style=\"stroke: rgb(255, 255, 255); stroke-opacity: 1; stroke-width: 1px;\"/><path class=\"ygrid crisp\" transform=\"translate(0,314.14)\" d=\"M80,0h740\" style=\"stroke: rgb(255, 255, 255); stroke-opacity: 1; stroke-width: 1px;\"/><path class=\"ygrid crisp\" transform=\"translate(0,267.71000000000004)\" d=\"M80,0h740\" style=\"stroke: rgb(255, 255, 255); stroke-opacity: 1; stroke-width: 1px;\"/><path class=\"ygrid crisp\" transform=\"translate(0,221.28)\" d=\"M80,0h740\" style=\"stroke: rgb(255, 255, 255); stroke-opacity: 1; stroke-width: 1px;\"/><path class=\"ygrid crisp\" transform=\"translate(0,174.85)\" d=\"M80,0h740\" style=\"stroke: rgb(255, 255, 255); stroke-opacity: 1; stroke-width: 1px;\"/><path class=\"ygrid crisp\" transform=\"translate(0,128.42000000000002)\" d=\"M80,0h740\" style=\"stroke: rgb(255, 255, 255); stroke-opacity: 1; stroke-width: 1px;\"/><path class=\"ygrid crisp\" transform=\"translate(0,81.99)\" d=\"M80,0h740\" style=\"stroke: rgb(255, 255, 255); stroke-opacity: 1; stroke-width: 1px;\"/></g></g><g class=\"zerolinelayer\"><path class=\"yzl zl crisp\" transform=\"translate(0,407)\" d=\"M80,0h740\" style=\"stroke: rgb(255, 255, 255); stroke-opacity: 1; stroke-width: 2px;\"/></g><path class=\"xlines-below\"/><path class=\"ylines-below\"/><g class=\"overlines-below\"/><g class=\"xaxislayer-below\"/><g class=\"yaxislayer-below\"/><g class=\"overaxes-below\"/><g class=\"plot\" transform=\"translate(80,60)\" clip-path=\"url(#clip37cea4xyplot)\"><g class=\"barlayer mlayer\"><g class=\"trace bars\" style=\"opacity: 1;\"><g class=\"points\"><g class=\"point\"><path d=\"M4.55,347V170.57H40.98V347Z\" style=\"vector-effect: non-scaling-stroke; opacity: 1; stroke-width: 1.5px; fill: rgb(82, 150, 221); fill-opacity: 1; stroke: rgb(229, 236, 246); stroke-opacity: 1;\"/></g><g class=\"point\"><path d=\"M243.63,347V68.42H280.06V347Z\" style=\"vector-effect: non-scaling-stroke; opacity: 1; stroke-width: 1.5px; fill: rgb(82, 150, 221); fill-opacity: 1; stroke: rgb(229, 236, 246); stroke-opacity: 1;\"/></g><g class=\"point\"><path d=\"M289.17,347V40.56H325.6V347Z\" style=\"vector-effect: non-scaling-stroke; opacity: 1; stroke-width: 1.5px; fill: rgb(255, 0, 0); fill-opacity: 1; stroke: rgb(229, 236, 246); stroke-opacity: 1;\"/></g><g class=\"point\"><path d=\"M562.4,347V17.35H598.83V347Z\" style=\"vector-effect: non-scaling-stroke; opacity: 1; stroke-width: 1.5px; fill: rgb(255, 0, 0); fill-opacity: 1; stroke: rgb(229, 236, 246); stroke-opacity: 1;\"/></g><g class=\"point\"><path d=\"M699.02,347V165.92H735.45V347Z\" style=\"vector-effect: non-scaling-stroke; opacity: 1; stroke-width: 1.5px; fill: rgb(82, 150, 221); fill-opacity: 1; stroke: rgb(229, 236, 246); stroke-opacity: 1;\"/></g></g></g></g></g><g class=\"overplot\"/><path class=\"xlines-above crisp\" d=\"M0,0\" style=\"fill: none;\"/><path class=\"ylines-above crisp\" d=\"M0,0\" style=\"fill: none;\"/><g class=\"overlines-above\"/><g class=\"xaxislayer-above\"><g class=\"xtick\"><text text-anchor=\"start\" x=\"0\" y=\"420\" transform=\"translate(102.77,0) rotate(30,0,414)\" style=\"font-family: 'Open Sans', verdana, arial, sans-serif; font-size: 12px; fill: rgb(42, 63, 95); fill-opacity: 1; white-space: pre; opacity: 1;\">Jan 9, 2021</text></g><g class=\"xtick\"><text text-anchor=\"start\" x=\"0\" y=\"420\" style=\"font-family: 'Open Sans', verdana, arial, sans-serif; font-size: 12px; fill: rgb(42, 63, 95); fill-opacity: 1; white-space: pre; opacity: 1;\" transform=\"translate(341.85,0) rotate(30,0,414)\">Feb 20, 2021</text></g><g class=\"xtick\"><text text-anchor=\"start\" x=\"0\" y=\"420\" style=\"font-family: 'Open Sans', verdana, arial, sans-serif; font-size: 12px; fill: rgb(42, 63, 95); fill-opacity: 1; white-space: pre; opacity: 1;\" transform=\"translate(387.38,0) rotate(30,0,414)\">Feb 28, 2021</text></g><g class=\"xtick\"><text text-anchor=\"start\" x=\"0\" y=\"420\" style=\"font-family: 'Open Sans', verdana, arial, sans-serif; font-size: 12px; fill: rgb(42, 63, 95); fill-opacity: 1; white-space: pre; opacity: 1;\" transform=\"translate(660.62,0) rotate(30,0,414)\">Apr 17, 2021</text></g><g class=\"xtick\"><text text-anchor=\"start\" x=\"0\" y=\"420\" style=\"font-family: 'Open Sans', verdana, arial, sans-serif; font-size: 12px; fill: rgb(42, 63, 95); fill-opacity: 1; white-space: pre; opacity: 1;\" transform=\"translate(797.23,0) rotate(30,0,414)\">May 11, 2021</text></g></g><g class=\"yaxislayer-above\"><g class=\"ytick\"><text text-anchor=\"end\" x=\"79\" y=\"4.199999999999999\" transform=\"translate(0,407)\" style=\"font-family: 'Open Sans', verdana, arial, sans-serif; font-size: 12px; fill: rgb(42, 63, 95); fill-opacity: 1; white-space: pre; opacity: 1;\">0</text></g><g class=\"ytick\"><text text-anchor=\"end\" x=\"79\" y=\"4.199999999999999\" style=\"font-family: 'Open Sans', verdana, arial, sans-serif; font-size: 12px; fill: rgb(42, 63, 95); fill-opacity: 1; white-space: pre; opacity: 1;\" transform=\"translate(0,360.57)\">10</text></g><g class=\"ytick\"><text text-anchor=\"end\" x=\"79\" y=\"4.199999999999999\" style=\"font-family: 'Open Sans', verdana, arial, sans-serif; font-size: 12px; fill: rgb(42, 63, 95); fill-opacity: 1; white-space: pre; opacity: 1;\" transform=\"translate(0,314.14)\">20</text></g><g class=\"ytick\"><text text-anchor=\"end\" x=\"79\" y=\"4.199999999999999\" style=\"font-family: 'Open Sans', verdana, arial, sans-serif; font-size: 12px; fill: rgb(42, 63, 95); fill-opacity: 1; white-space: pre; opacity: 1;\" transform=\"translate(0,267.71000000000004)\">30</text></g><g class=\"ytick\"><text text-anchor=\"end\" x=\"79\" y=\"4.199999999999999\" style=\"font-family: 'Open Sans', verdana, arial, sans-serif; font-size: 12px; fill: rgb(42, 63, 95); fill-opacity: 1; white-space: pre; opacity: 1;\" transform=\"translate(0,221.28)\">40</text></g><g class=\"ytick\"><text text-anchor=\"end\" x=\"79\" y=\"4.199999999999999\" style=\"font-family: 'Open Sans', verdana, arial, sans-serif; font-size: 12px; fill: rgb(42, 63, 95); fill-opacity: 1; white-space: pre; opacity: 1;\" transform=\"translate(0,174.85)\">50</text></g><g class=\"ytick\"><text text-anchor=\"end\" x=\"79\" y=\"4.199999999999999\" style=\"font-family: 'Open Sans', verdana, arial, sans-serif; font-size: 12px; fill: rgb(42, 63, 95); fill-opacity: 1; white-space: pre; opacity: 1;\" transform=\"translate(0,128.42000000000002)\">60</text></g><g class=\"ytick\"><text text-anchor=\"end\" x=\"79\" y=\"4.199999999999999\" style=\"font-family: 'Open Sans', verdana, arial, sans-serif; font-size: 12px; fill: rgb(42, 63, 95); fill-opacity: 1; white-space: pre; opacity: 1;\" transform=\"translate(0,81.99)\">70</text></g></g><g class=\"overaxes-above\"/></g></g><g class=\"polarlayer\"/><g class=\"ternarylayer\"/><g class=\"geolayer\"/><g class=\"funnelarealayer\"/><g class=\"pielayer\"/><g class=\"iciclelayer\"/><g class=\"treemaplayer\"/><g class=\"sunburstlayer\"/><g class=\"glimages\"/><defs id=\"topdefs-37cea4\"><g class=\"clips\"/></defs><g class=\"layer-above\"><g class=\"imagelayer\"/><g class=\"shapelayer\"/></g><g class=\"infolayer\"><g class=\"g-gtitle\"><text class=\"gtitle\" x=\"450\" y=\"30\" text-anchor=\"middle\" dy=\"0.7em\" style=\"font-family: 'Open Sans', verdana, arial, sans-serif; font-size: 17px; fill: rgb(42, 63, 95); opacity: 1; font-weight: normal; white-space: pre;\">The number of banned users contributions on peak dates</text></g><g class=\"g-xtitle\"><text class=\"xtitle\" x=\"450\" y=\"488.0470703125\" text-anchor=\"middle\" style=\"font-family: 'Open Sans', verdana, arial, sans-serif; font-size: 14px; fill: rgb(42, 63, 95); opacity: 1; font-weight: normal; white-space: pre;\">Contribution Date</text></g><g class=\"g-ytitle\"><text class=\"ytitle\" transform=\"rotate(-90,38.934375,233.5)\" x=\"38.934375\" y=\"233.5\" text-anchor=\"middle\" style=\"font-family: 'Open Sans', verdana, arial, sans-serif; font-size: 14px; fill: rgb(42, 63, 95); opacity: 1; font-weight: normal; white-space: pre;\">n_contributions</text></g></g></svg>"
      ]
     },
     "metadata": {},
     "output_type": "display_data"
    }
   ],
   "source": [
    "# sort by n_contributions, take the top 3, then sort them by date \n",
    "banned_contributions.sort_values('n_contributions', ascending=False, inplace=True)\n",
    "banned_trendy = banned_contributions.head(5)\n",
    "banned_trendy.sort_values('created_at', inplace=True)\n",
    "\n",
    "fig = px.bar(banned_trendy,\n",
    "             x='created_at', y='n_contributions')\n",
    "\n",
    "fig.update_layout(\n",
    "            title={\n",
    "        'text': \"The number of banned users contributions on peak dates\",\n",
    "        'x':0.5,\n",
    "        'xanchor': 'center',\n",
    "        'yanchor': 'top'\n",
    "        })\n",
    "\n",
    "fig.update_layout(\n",
    "    xaxis = dict(\n",
    "        title='Contribution Date',\n",
    "        tickmode = 'array',\n",
    "        tickvals = banned_trendy.created_at,\n",
    "    )\n",
    ")\n",
    "\n",
    "clrs = ['red' if (y > 60) else '#5296dd' for y in banned_trendy['n_contributions']] \n",
    "\n",
    "fig.update_traces(marker_color=clrs,\n",
    "                  marker_line_width=1.5, opacity=1, textposition='auto').update_layout()\n",
    "fig.show()"
   ]
  },
  {
   "cell_type": "markdown",
   "id": "028639e7",
   "metadata": {},
   "source": [
    "<a id='explore_unverified'></a>\n",
    "># Unverified Accounts\n",
    "\n",
    "<ul>\n",
    "<li><a href=\"#banned_unverified\">Banned / Unverified</a></li>    \n",
    "<li><a href=\"#explore_banned\">Banned Accounts</a></li>\n",
    "    <br>\n",
    "<li><a href=\"#explore_unverified\"><b><mark>Unverified Accounts</mark></b></a></li>\n",
    "    <br>\n",
    "<li><a href=\"#new_others\">New Vs Others</a></li>\n",
    "<li><a href=\"#explore_new\">New Accounts</a></li>\n",
    "    <br>\n",
    "<li><a href=\"#contributions_scores\">2021 Contributions Scores</a></li>\n",
    "</ul>"
   ]
  },
  {
   "cell_type": "markdown",
   "id": "6f60c0f7",
   "metadata": {},
   "source": [
    "<a id='largest_link_karma'></a>\n",
    ">>### Explore unverified accounts with the largest link karma\n",
    "\n",
    "<ul>\n",
    "<li><a href=\"#largest_link_karma\"><b><mark>Unverified Accounts With The Largest Link Karma</mark></b></a></li>   \n",
    "<li><a href=\"#largest_comment_karma\">Unverified Accounts With The Largest Comment Karma</a></li>\n",
    "    <br>\n",
    "<li><a href=\"#minimum_link_karma\">Unverified Accounts With The Minimum Link Karma</a></li>\n",
    "<li><a href=\"#minimum_comment_karma\">Unverified Accounts With The Minimum Comment Karma</a></li>\n",
    "    <br>\n",
    "<li><a href=\"#largest_scores\">Explore the largest scores</a></li>\n",
    "<li><a href=\"#minimum_scores\">Explore the minimum scores</a></li>\n",
    "    <br>\n",
    "<li><a href=\"#unverified_contributions\">Contributions of Unverified accounts in 2021</a></li>\n",
    "<li><a href=\"#unverified_creations\">Creation years of the unverified accounts contributed in 2021</a></li>\n",
    "<li><a href=\"#unverified_peak\">Unverified Contributions Peaks</a></li>\n",
    "</ul>"
   ]
  },
  {
   "cell_type": "code",
   "execution_count": 52,
   "id": "c8f1a6dc",
   "metadata": {},
   "outputs": [
    {
     "data": {
      "image/svg+xml": [
       "<svg class=\"main-svg\" xmlns=\"http://www.w3.org/2000/svg\" xmlns:xlink=\"http://www.w3.org/1999/xlink\" width=\"900\" height=\"500\" style=\"\" viewBox=\"0 0 900 500\"><rect x=\"0\" y=\"0\" width=\"900\" height=\"500\" style=\"fill: rgb(255, 255, 255); fill-opacity: 1;\"/><defs id=\"defs-bb1508\"><g class=\"clips\"><clipPath id=\"clipbb1508xyplot\" class=\"plotclip\"><rect width=\"740\" height=\"300\"/></clipPath><clipPath class=\"axesclip\" id=\"clipbb1508x\"><rect x=\"80\" y=\"0\" width=\"740\" height=\"500\"/></clipPath><clipPath class=\"axesclip\" id=\"clipbb1508y\"><rect x=\"0\" y=\"100\" width=\"900\" height=\"300\"/></clipPath><clipPath class=\"axesclip\" id=\"clipbb1508xy\"><rect x=\"80\" y=\"100\" width=\"740\" height=\"300\"/></clipPath></g><g class=\"gradients\"/><g class=\"patterns\"/></defs><g class=\"bglayer\"><rect class=\"bg\" x=\"80\" y=\"100\" width=\"740\" height=\"300\" style=\"fill: rgb(229, 236, 246); fill-opacity: 1; stroke-width: 0;\"/></g><g class=\"layer-below\"><g class=\"imagelayer\"/><g class=\"shapelayer\"/></g><g class=\"cartesianlayer\"><g class=\"subplot xy\"><g class=\"layer-subplot\"><g class=\"shapelayer\"/><g class=\"imagelayer\"/></g><g class=\"gridlayer\"><g class=\"x\"/><g class=\"y\"><path class=\"ygrid crisp\" transform=\"translate(0,354.64)\" d=\"M80,0h740\" style=\"stroke: rgb(255, 255, 255); stroke-opacity: 1; stroke-width: 1px;\"/><path class=\"ygrid crisp\" transform=\"translate(0,309.28)\" d=\"M80,0h740\" style=\"stroke: rgb(255, 255, 255); stroke-opacity: 1; stroke-width: 1px;\"/><path class=\"ygrid crisp\" transform=\"translate(0,263.91999999999996)\" d=\"M80,0h740\" style=\"stroke: rgb(255, 255, 255); stroke-opacity: 1; stroke-width: 1px;\"/><path class=\"ygrid crisp\" transform=\"translate(0,218.56)\" d=\"M80,0h740\" style=\"stroke: rgb(255, 255, 255); stroke-opacity: 1; stroke-width: 1px;\"/><path class=\"ygrid crisp\" transform=\"translate(0,173.2)\" d=\"M80,0h740\" style=\"stroke: rgb(255, 255, 255); stroke-opacity: 1; stroke-width: 1px;\"/><path class=\"ygrid crisp\" transform=\"translate(0,127.84)\" d=\"M80,0h740\" style=\"stroke: rgb(255, 255, 255); stroke-opacity: 1; stroke-width: 1px;\"/></g></g><g class=\"zerolinelayer\"><path class=\"yzl zl crisp\" transform=\"translate(0,400)\" d=\"M80,0h740\" style=\"stroke: rgb(255, 255, 255); stroke-opacity: 1; stroke-width: 2px;\"/></g><path class=\"xlines-below\"/><path class=\"ylines-below\"/><g class=\"overlines-below\"/><g class=\"xaxislayer-below\"/><g class=\"yaxislayer-below\"/><g class=\"overaxes-below\"/><g class=\"plot\" transform=\"translate(80,100)\" clip-path=\"url(#clipbb1508xyplot)\"><g class=\"barlayer mlayer\"><g class=\"trace bars\" style=\"opacity: 1;\"><g class=\"points\"><g class=\"point\"><path d=\"M7.4,300V15H66.6V300Z\" style=\"vector-effect: non-scaling-stroke; opacity: 1; stroke-width: 2px; fill: rgb(255, 0, 0); fill-opacity: 1; stroke: rgb(229, 236, 246); stroke-opacity: 1;\"/><text class=\"bartext bartext-inside\" text-anchor=\"middle\" data-notex=\"1\" x=\"0\" y=\"0\" style=\"font-family: 'Open Sans', verdana, arial, sans-serif; font-size: 12px; fill: rgb(255, 255, 255); fill-opacity: 1; white-space: pre;\" transform=\"translate(36.8125,55.390625)rotate(90 0.1875 -4.5)\">3141592.0</text></g><g class=\"point\"><path d=\"M81.4,300V116.94H140.6V300Z\" style=\"vector-effect: non-scaling-stroke; opacity: 1; stroke-width: 2px; fill: rgb(255, 0, 0); fill-opacity: 1; stroke: rgb(229, 236, 246); stroke-opacity: 1;\"/><text class=\"bartext bartext-inside\" text-anchor=\"middle\" data-notex=\"1\" x=\"0\" y=\"0\" style=\"font-family: 'Open Sans', verdana, arial, sans-serif; font-size: 12px; fill: rgb(255, 255, 255); fill-opacity: 1; white-space: pre;\" transform=\"translate(110.8125,157.330625)rotate(90 0.1875 -4.5)\">2017869.0</text></g><g class=\"point\"><path d=\"M155.4,300V245.25H214.6V300Z\" style=\"vector-effect: non-scaling-stroke; opacity: 1; stroke-width: 2px; fill: rgb(82, 150, 221); fill-opacity: 1; stroke: rgb(229, 236, 246); stroke-opacity: 1;\"/><text class=\"bartext bartext-inside\" text-anchor=\"middle\" data-notex=\"1\" x=\"0\" y=\"0\" style=\"font-family: 'Open Sans', verdana, arial, sans-serif; font-size: 12px; fill: rgb(68, 68, 68); fill-opacity: 1; white-space: pre;\" transform=\"translate(184.82847931219774,259.22732401934445)scale(0.9147770016120363)\">603553.0</text></g><g class=\"point\"><path d=\"M229.4,300V261.74H288.6V300Z\" style=\"vector-effect: non-scaling-stroke; opacity: 1; stroke-width: 2px; fill: rgb(82, 150, 221); fill-opacity: 1; stroke: rgb(229, 236, 246); stroke-opacity: 1;\"/><text class=\"bartext bartext-inside\" text-anchor=\"middle\" data-notex=\"1\" x=\"0\" y=\"0\" style=\"font-family: 'Open Sans', verdana, arial, sans-serif; font-size: 12px; fill: rgb(68, 68, 68); fill-opacity: 1; white-space: pre;\" transform=\"translate(258.82847931219777,275.71732401934446)scale(0.9147770016120368)\">421745.0</text></g><g class=\"point\"><path d=\"M303.4,300V273.59H362.6V300Z\" style=\"vector-effect: non-scaling-stroke; opacity: 1; stroke-width: 2px; fill: rgb(82, 150, 221); fill-opacity: 1; stroke: rgb(229, 236, 246); stroke-opacity: 1;\"/><text class=\"bartext bartext-inside\" text-anchor=\"middle\" data-notex=\"1\" x=\"0\" y=\"0\" style=\"font-family: 'Open Sans', verdana, arial, sans-serif; font-size: 12px; fill: rgb(68, 68, 68); fill-opacity: 1; white-space: pre;\" transform=\"translate(332.82847931219777,287.5673240193444)scale(0.9147770016120373)\">291085.0</text></g><g class=\"point\"><path d=\"M377.4,300V281.84H436.6V300Z\" style=\"vector-effect: non-scaling-stroke; opacity: 1; stroke-width: 2px; fill: rgb(82, 150, 221); fill-opacity: 1; stroke: rgb(229, 236, 246); stroke-opacity: 1;\"/><text class=\"bartext bartext-outside\" text-anchor=\"middle\" data-notex=\"1\" x=\"0\" y=\"0\" style=\"font-family: 'Open Sans', verdana, arial, sans-serif; font-size: 12px; fill: rgb(42, 63, 95); fill-opacity: 1; white-space: pre;\" transform=\"translate(406.8125,275.84)\">200174.0</text></g><g class=\"point\"><path d=\"M451.4,300V282.29H510.6V300Z\" style=\"vector-effect: non-scaling-stroke; opacity: 1; stroke-width: 2px; fill: rgb(82, 150, 221); fill-opacity: 1; stroke: rgb(229, 236, 246); stroke-opacity: 1;\"/><text class=\"bartext bartext-outside\" text-anchor=\"middle\" data-notex=\"1\" x=\"0\" y=\"0\" style=\"font-family: 'Open Sans', verdana, arial, sans-serif; font-size: 12px; fill: rgb(42, 63, 95); fill-opacity: 1; white-space: pre;\" transform=\"translate(480.8125,276.29)\">195200.0</text></g><g class=\"point\"><path d=\"M525.4,300V284.42H584.6V300Z\" style=\"vector-effect: non-scaling-stroke; opacity: 1; stroke-width: 2px; fill: rgb(82, 150, 221); fill-opacity: 1; stroke: rgb(229, 236, 246); stroke-opacity: 1;\"/><text class=\"bartext bartext-outside\" text-anchor=\"middle\" data-notex=\"1\" x=\"0\" y=\"0\" style=\"font-family: 'Open Sans', verdana, arial, sans-serif; font-size: 12px; fill: rgb(42, 63, 95); fill-opacity: 1; white-space: pre;\" transform=\"translate(554.8125,278.42)\">171725.0</text></g><g class=\"point\"><path d=\"M599.4,300V287.08H658.6V300Z\" style=\"vector-effect: non-scaling-stroke; opacity: 1; stroke-width: 2px; fill: rgb(82, 150, 221); fill-opacity: 1; stroke: rgb(229, 236, 246); stroke-opacity: 1;\"/><text class=\"bartext bartext-outside\" text-anchor=\"middle\" data-notex=\"1\" x=\"0\" y=\"0\" style=\"font-family: 'Open Sans', verdana, arial, sans-serif; font-size: 12px; fill: rgb(42, 63, 95); fill-opacity: 1; white-space: pre;\" transform=\"translate(628.8125,281.08)\">142451.0</text></g><g class=\"point\"><path d=\"M673.4,300V289.38H732.6V300Z\" style=\"vector-effect: non-scaling-stroke; opacity: 1; stroke-width: 2px; fill: rgb(82, 150, 221); fill-opacity: 1; stroke: rgb(229, 236, 246); stroke-opacity: 1;\"/><text class=\"bartext bartext-outside\" text-anchor=\"middle\" data-notex=\"1\" x=\"0\" y=\"0\" style=\"font-family: 'Open Sans', verdana, arial, sans-serif; font-size: 12px; fill: rgb(42, 63, 95); fill-opacity: 1; white-space: pre;\" transform=\"translate(702.8125,283.38)\">117101.0</text></g></g></g></g></g><g class=\"overplot\"/><path class=\"xlines-above crisp\" d=\"M0,0\" style=\"fill: none;\"/><path class=\"ylines-above crisp\" d=\"M0,0\" style=\"fill: none;\"/><g class=\"overlines-above\"/><g class=\"xaxislayer-above\"><g class=\"xtick\"><text text-anchor=\"start\" x=\"0\" y=\"413\" transform=\"translate(117,0) rotate(30,0,407)\" style=\"font-family: 'Open Sans', verdana, arial, sans-serif; font-size: 12px; fill: rgb(42, 63, 95); fill-opacity: 1; white-space: pre; opacity: 1;\">agree-with-you</text></g><g class=\"xtick\"><text text-anchor=\"start\" x=\"0\" y=\"413\" transform=\"translate(191,0) rotate(30,0,407)\" style=\"font-family: 'Open Sans', verdana, arial, sans-serif; font-size: 12px; fill: rgb(42, 63, 95); fill-opacity: 1; white-space: pre; opacity: 1;\">Endless_Vanity</text></g><g class=\"xtick\"><text text-anchor=\"start\" x=\"0\" y=\"413\" transform=\"translate(265,0) rotate(30,0,407)\" style=\"font-family: 'Open Sans', verdana, arial, sans-serif; font-size: 12px; fill: rgb(42, 63, 95); fill-opacity: 1; white-space: pre; opacity: 1;\">lurker_bee</text></g><g class=\"xtick\"><text text-anchor=\"start\" x=\"0\" y=\"413\" transform=\"translate(339,0) rotate(30,0,407)\" style=\"font-family: 'Open Sans', verdana, arial, sans-serif; font-size: 12px; fill: rgb(42, 63, 95); fill-opacity: 1; white-space: pre; opacity: 1;\">Jonny43</text></g><g class=\"xtick\"><text text-anchor=\"start\" x=\"0\" y=\"413\" transform=\"translate(413,0) rotate(30,0,407)\" style=\"font-family: 'Open Sans', verdana, arial, sans-serif; font-size: 12px; fill: rgb(42, 63, 95); fill-opacity: 1; white-space: pre; opacity: 1;\">gccmelb</text></g><g class=\"xtick\"><text text-anchor=\"start\" x=\"0\" y=\"413\" transform=\"translate(487,0) rotate(30,0,407)\" style=\"font-family: 'Open Sans', verdana, arial, sans-serif; font-size: 12px; fill: rgb(42, 63, 95); fill-opacity: 1; white-space: pre; opacity: 1;\">rebel_chef</text></g><g class=\"xtick\"><text text-anchor=\"start\" x=\"0\" y=\"413\" transform=\"translate(561,0) rotate(30,0,407)\" style=\"font-family: 'Open Sans', verdana, arial, sans-serif; font-size: 12px; fill: rgb(42, 63, 95); fill-opacity: 1; white-space: pre; opacity: 1;\">Allyouneedisslut</text></g><g class=\"xtick\"><text text-anchor=\"start\" x=\"0\" y=\"413\" transform=\"translate(635,0) rotate(30,0,407)\" style=\"font-family: 'Open Sans', verdana, arial, sans-serif; font-size: 12px; fill: rgb(42, 63, 95); fill-opacity: 1; white-space: pre; opacity: 1;\">Olliebkl</text></g><g class=\"xtick\"><text text-anchor=\"start\" x=\"0\" y=\"413\" transform=\"translate(709,0) rotate(30,0,407)\" style=\"font-family: 'Open Sans', verdana, arial, sans-serif; font-size: 12px; fill: rgb(42, 63, 95); fill-opacity: 1; white-space: pre; opacity: 1;\">GeeWhillickers</text></g><g class=\"xtick\"><text text-anchor=\"start\" x=\"0\" y=\"413\" transform=\"translate(783,0) rotate(30,0,407)\" style=\"font-family: 'Open Sans', verdana, arial, sans-serif; font-size: 12px; fill: rgb(42, 63, 95); fill-opacity: 1; white-space: pre; opacity: 1;\">22022004</text></g></g><g class=\"yaxislayer-above\"><g class=\"ytick\"><text text-anchor=\"end\" x=\"79\" y=\"4.199999999999999\" transform=\"translate(0,400)\" style=\"font-family: 'Open Sans', verdana, arial, sans-serif; font-size: 12px; fill: rgb(42, 63, 95); fill-opacity: 1; white-space: pre; opacity: 1;\">0</text></g><g class=\"ytick\"><text text-anchor=\"end\" x=\"79\" y=\"4.199999999999999\" style=\"font-family: 'Open Sans', verdana, arial, sans-serif; font-size: 12px; fill: rgb(42, 63, 95); fill-opacity: 1; white-space: pre; opacity: 1;\" transform=\"translate(0,354.64)\">0.5M</text></g><g class=\"ytick\"><text text-anchor=\"end\" x=\"79\" y=\"4.199999999999999\" style=\"font-family: 'Open Sans', verdana, arial, sans-serif; font-size: 12px; fill: rgb(42, 63, 95); fill-opacity: 1; white-space: pre; opacity: 1;\" transform=\"translate(0,309.28)\">1M</text></g><g class=\"ytick\"><text text-anchor=\"end\" x=\"79\" y=\"4.199999999999999\" style=\"font-family: 'Open Sans', verdana, arial, sans-serif; font-size: 12px; fill: rgb(42, 63, 95); fill-opacity: 1; white-space: pre; opacity: 1;\" transform=\"translate(0,263.91999999999996)\">1.5M</text></g><g class=\"ytick\"><text text-anchor=\"end\" x=\"79\" y=\"4.199999999999999\" style=\"font-family: 'Open Sans', verdana, arial, sans-serif; font-size: 12px; fill: rgb(42, 63, 95); fill-opacity: 1; white-space: pre; opacity: 1;\" transform=\"translate(0,218.56)\">2M</text></g><g class=\"ytick\"><text text-anchor=\"end\" x=\"79\" y=\"4.199999999999999\" style=\"font-family: 'Open Sans', verdana, arial, sans-serif; font-size: 12px; fill: rgb(42, 63, 95); fill-opacity: 1; white-space: pre; opacity: 1;\" transform=\"translate(0,173.2)\">2.5M</text></g><g class=\"ytick\"><text text-anchor=\"end\" x=\"79\" y=\"4.199999999999999\" style=\"font-family: 'Open Sans', verdana, arial, sans-serif; font-size: 12px; fill: rgb(42, 63, 95); fill-opacity: 1; white-space: pre; opacity: 1;\" transform=\"translate(0,127.84)\">3M</text></g></g><g class=\"overaxes-above\"/></g></g><g class=\"polarlayer\"/><g class=\"ternarylayer\"/><g class=\"geolayer\"/><g class=\"funnelarealayer\"/><g class=\"pielayer\"/><g class=\"iciclelayer\"/><g class=\"treemaplayer\"/><g class=\"sunburstlayer\"/><g class=\"glimages\"/><defs id=\"topdefs-bb1508\"><g class=\"clips\"/></defs><g class=\"layer-above\"><g class=\"imagelayer\"/><g class=\"shapelayer\"/></g><g class=\"infolayer\"><g class=\"g-gtitle\"><text class=\"gtitle\" x=\"45\" y=\"50\" text-anchor=\"start\" dy=\"0em\" style=\"font-family: 'Open Sans', verdana, arial, sans-serif; font-size: 17px; fill: rgb(42, 63, 95); opacity: 1; font-weight: normal; white-space: pre;\">Unverified accounts with highest link karma</text></g><g class=\"g-xtitle\"><text class=\"xtitle\" x=\"450\" y=\"488.4533203125\" text-anchor=\"middle\" style=\"font-family: 'Open Sans', verdana, arial, sans-serif; font-size: 14px; fill: rgb(42, 63, 95); opacity: 1; font-weight: normal; white-space: pre;\">user name</text></g><g class=\"g-ytitle\"><text class=\"ytitle\" transform=\"rotate(-90,24.450000000000003,250)\" x=\"24.450000000000003\" y=\"250\" text-anchor=\"middle\" style=\"font-family: 'Open Sans', verdana, arial, sans-serif; font-size: 14px; fill: rgb(42, 63, 95); opacity: 1; font-weight: normal; white-space: pre;\">link_karma</text></g></g></svg>"
      ]
     },
     "metadata": {},
     "output_type": "display_data"
    }
   ],
   "source": [
    "# Filter on largest link karma\n",
    "\n",
    "df_link_high = df_unverified.sort_values('link_karma', ascending=False).head(10)\n",
    "\n",
    "fig = px.bar(df_link_high,\n",
    "             x='user_name', \n",
    "             y=df_link_high.link_karma, text = df_link_high.link_karma, title='Unverified accounts with highest link karma')\n",
    "\n",
    "fig.update_layout(\n",
    "    xaxis = dict(\n",
    "        title='user name',\n",
    "        tickmode = 'array',\n",
    "        tickvals = df_link_high.user_name,\n",
    "    )\n",
    ")\n",
    "\n",
    "clrs = ['red' if (y > 2000000) else '#5296dd' for y in df_link_high.link_karma]\n",
    "\n",
    "fig.update_traces(marker_color=clrs,\n",
    "                  marker_line_width=2, opacity=1, textposition='auto')\n",
    "\n",
    "# , marker_line_color='#5296dd'\n",
    "\n",
    "fig.show()\n"
   ]
  },
  {
   "cell_type": "code",
   "execution_count": 53,
   "id": "f5d1659b",
   "metadata": {},
   "outputs": [
    {
     "data": {
      "text/html": [
       "<div>\n",
       "<style scoped>\n",
       "    .dataframe tbody tr th:only-of-type {\n",
       "        vertical-align: middle;\n",
       "    }\n",
       "\n",
       "    .dataframe tbody tr th {\n",
       "        vertical-align: top;\n",
       "    }\n",
       "\n",
       "    .dataframe thead th {\n",
       "        text-align: right;\n",
       "    }\n",
       "</style>\n",
       "<table border=\"1\" class=\"dataframe\">\n",
       "  <thead>\n",
       "    <tr style=\"text-align: right;\">\n",
       "      <th></th>\n",
       "      <th>child_id</th>\n",
       "      <th>permalink</th>\n",
       "      <th>text</th>\n",
       "      <th>parent_id</th>\n",
       "      <th>subreddit</th>\n",
       "      <th>created_at</th>\n",
       "      <th>sentiment_blob</th>\n",
       "      <th>sentiment_nltk</th>\n",
       "      <th>score</th>\n",
       "      <th>top_level</th>\n",
       "      <th>submission_comment</th>\n",
       "      <th>submission_text</th>\n",
       "      <th>user_name</th>\n",
       "      <th>has_verified_email</th>\n",
       "      <th>is_mod</th>\n",
       "      <th>is_gold</th>\n",
       "      <th>is_banned</th>\n",
       "      <th>comment_karma</th>\n",
       "      <th>link_karma</th>\n",
       "      <th>user_created_at</th>\n",
       "      <th>banned_unverified</th>\n",
       "      <th>creation_year</th>\n",
       "      <th>diff</th>\n",
       "      <th>days_after_creation</th>\n",
       "    </tr>\n",
       "  </thead>\n",
       "  <tbody>\n",
       "    <tr>\n",
       "      <th>11889</th>\n",
       "      <td>t1_gplvb3x</td>\n",
       "      <td>/r/TrueOffMyChest/comments/lx2s7w/its_disgusting_that_people_are_less_angry_about/gplvb3x/</td>\n",
       "      <td>I agree, this does not seem possible.</td>\n",
       "      <td>t1_gplva7c</td>\n",
       "      <td>r/TrueOffMyChest</td>\n",
       "      <td>2021-03-04 02:14:19</td>\n",
       "      <td>Neutral</td>\n",
       "      <td>Positive</td>\n",
       "      <td>-1.0</td>\n",
       "      <td>comment</td>\n",
       "      <td>comment</td>\n",
       "      <td>its_disgusting_that_people_are_less_angry_about</td>\n",
       "      <td>agree-with-you</td>\n",
       "      <td>False</td>\n",
       "      <td>False</td>\n",
       "      <td>False</td>\n",
       "      <td>False</td>\n",
       "      <td>3141592.0</td>\n",
       "      <td>3141592.0</td>\n",
       "      <td>2018-03-11 00:17:42</td>\n",
       "      <td>unverified</td>\n",
       "      <td>2018</td>\n",
       "      <td>1089 days 01:56:37</td>\n",
       "      <td>1089.0</td>\n",
       "    </tr>\n",
       "  </tbody>\n",
       "</table>\n",
       "</div>"
      ],
      "text/plain": [
       "         child_id  \\\n",
       "11889  t1_gplvb3x   \n",
       "\n",
       "                                                                                        permalink  \\\n",
       "11889  /r/TrueOffMyChest/comments/lx2s7w/its_disgusting_that_people_are_less_angry_about/gplvb3x/   \n",
       "\n",
       "                                        text   parent_id         subreddit  \\\n",
       "11889  I agree, this does not seem possible.  t1_gplva7c  r/TrueOffMyChest   \n",
       "\n",
       "               created_at sentiment_blob sentiment_nltk  score top_level  \\\n",
       "11889 2021-03-04 02:14:19        Neutral       Positive   -1.0   comment   \n",
       "\n",
       "      submission_comment                                  submission_text  \\\n",
       "11889            comment  its_disgusting_that_people_are_less_angry_about   \n",
       "\n",
       "            user_name  has_verified_email  is_mod  is_gold  is_banned  \\\n",
       "11889  agree-with-you               False   False    False      False   \n",
       "\n",
       "       comment_karma  link_karma     user_created_at banned_unverified  \\\n",
       "11889      3141592.0   3141592.0 2018-03-11 00:17:42        unverified   \n",
       "\n",
       "      creation_year                diff  days_after_creation  \n",
       "11889          2018  1089 days 01:56:37               1089.0  "
      ]
     },
     "metadata": {},
     "output_type": "display_data"
    }
   ],
   "source": [
    "with pd.option_context('display.max_colwidth', None, 'display.max_columns', None):\n",
    "  display(df_unverified[df_unverified.user_name == 'agree-with-you'].head(1))"
   ]
  },
  {
   "cell_type": "code",
   "execution_count": 54,
   "id": "8a79e270",
   "metadata": {},
   "outputs": [
    {
     "data": {
      "text/html": [
       "<div>\n",
       "<style scoped>\n",
       "    .dataframe tbody tr th:only-of-type {\n",
       "        vertical-align: middle;\n",
       "    }\n",
       "\n",
       "    .dataframe tbody tr th {\n",
       "        vertical-align: top;\n",
       "    }\n",
       "\n",
       "    .dataframe thead th {\n",
       "        text-align: right;\n",
       "    }\n",
       "</style>\n",
       "<table border=\"1\" class=\"dataframe\">\n",
       "  <thead>\n",
       "    <tr style=\"text-align: right;\">\n",
       "      <th></th>\n",
       "      <th>child_id</th>\n",
       "      <th>permalink</th>\n",
       "      <th>text</th>\n",
       "      <th>parent_id</th>\n",
       "      <th>subreddit</th>\n",
       "      <th>created_at</th>\n",
       "      <th>sentiment_blob</th>\n",
       "      <th>sentiment_nltk</th>\n",
       "      <th>score</th>\n",
       "      <th>top_level</th>\n",
       "      <th>submission_comment</th>\n",
       "      <th>submission_text</th>\n",
       "      <th>user_name</th>\n",
       "      <th>has_verified_email</th>\n",
       "      <th>is_mod</th>\n",
       "      <th>is_gold</th>\n",
       "      <th>is_banned</th>\n",
       "      <th>comment_karma</th>\n",
       "      <th>link_karma</th>\n",
       "      <th>user_created_at</th>\n",
       "      <th>banned_unverified</th>\n",
       "      <th>creation_year</th>\n",
       "      <th>diff</th>\n",
       "      <th>days_after_creation</th>\n",
       "    </tr>\n",
       "  </thead>\n",
       "  <tbody>\n",
       "    <tr>\n",
       "      <th>3557</th>\n",
       "      <td>t1_gi5kiwu</td>\n",
       "      <td>/r/AskReddit/comments/kqrzft/amber_heard_just_shit_on_your_bed_what_do_you_do/gi5kiwu/</td>\n",
       "      <td>Put it for sale on Ebay and wait for the thousands to pour in.</td>\n",
       "      <td>t3_kqrzft</td>\n",
       "      <td>r/AskReddit</td>\n",
       "      <td>2021-01-05 06:00:24</td>\n",
       "      <td>Neutral</td>\n",
       "      <td>Neutral</td>\n",
       "      <td>5.0</td>\n",
       "      <td>submission</td>\n",
       "      <td>comment</td>\n",
       "      <td>amber_heard_just_shit_on_your_bed_what_do_you_do</td>\n",
       "      <td>Endless_Vanity</td>\n",
       "      <td>False</td>\n",
       "      <td>True</td>\n",
       "      <td>True</td>\n",
       "      <td>False</td>\n",
       "      <td>312743.0</td>\n",
       "      <td>2017869.0</td>\n",
       "      <td>2014-11-09 18:30:46</td>\n",
       "      <td>unverified</td>\n",
       "      <td>others</td>\n",
       "      <td>2248 days 11:29:38</td>\n",
       "      <td>2248.0</td>\n",
       "    </tr>\n",
       "  </tbody>\n",
       "</table>\n",
       "</div>"
      ],
      "text/plain": [
       "        child_id  \\\n",
       "3557  t1_gi5kiwu   \n",
       "\n",
       "                                                                                   permalink  \\\n",
       "3557  /r/AskReddit/comments/kqrzft/amber_heard_just_shit_on_your_bed_what_do_you_do/gi5kiwu/   \n",
       "\n",
       "                                                                text  \\\n",
       "3557  Put it for sale on Ebay and wait for the thousands to pour in.   \n",
       "\n",
       "      parent_id    subreddit          created_at sentiment_blob  \\\n",
       "3557  t3_kqrzft  r/AskReddit 2021-01-05 06:00:24        Neutral   \n",
       "\n",
       "     sentiment_nltk  score   top_level submission_comment  \\\n",
       "3557        Neutral    5.0  submission            comment   \n",
       "\n",
       "                                       submission_text       user_name  \\\n",
       "3557  amber_heard_just_shit_on_your_bed_what_do_you_do  Endless_Vanity   \n",
       "\n",
       "      has_verified_email  is_mod  is_gold  is_banned  comment_karma  \\\n",
       "3557               False    True     True      False       312743.0   \n",
       "\n",
       "      link_karma     user_created_at banned_unverified creation_year  \\\n",
       "3557   2017869.0 2014-11-09 18:30:46        unverified        others   \n",
       "\n",
       "                    diff  days_after_creation  \n",
       "3557  2248 days 11:29:38               2248.0  "
      ]
     },
     "metadata": {},
     "output_type": "display_data"
    }
   ],
   "source": [
    "with pd.option_context('display.max_colwidth', None, 'display.max_columns', None):\n",
    "  display(df_unverified[df_unverified.user_name == 'Endless_Vanity'].head(1))"
   ]
  },
  {
   "cell_type": "markdown",
   "id": "c1760089",
   "metadata": {},
   "source": [
    "<a id='largest_comment_karma'></a>\n",
    ">>### Explore unverified accounts with the largest comment karma\n",
    "\n",
    "<ul>\n",
    "<li><a href=\"#largest_link_karma\">Unverified Accounts With The Largest Link Karma</a></li>   \n",
    "<li><a href=\"#largest_comment_karma\"><b><mark>Unverified Accounts With The Largest Comment Karma</mark></b></a></li>\n",
    "    <br>\n",
    "<li><a href=\"#minimum_link_karma\">Unverified Accounts With The Minimum Link Karma</a></li>\n",
    "<li><a href=\"#minimum_comment_karma\">Unverified Accounts With The Minimum Comment Karma</a></li>\n",
    "    <br>\n",
    "<li><a href=\"#largest_scores\">Explore the largest scores</a></li>\n",
    "<li><a href=\"#minimum_scores\">Explore the minimum scores</a></li>\n",
    "    <br>\n",
    "<li><a href=\"#unverified_contributions\">Contributions of Unverified accounts in 2021</a></li>\n",
    "<li><a href=\"#unverified_creations\">Creation years of the unverified accounts contributed in 2021</a></li>\n",
    "<li><a href=\"#unverified_peak\">Unverified Contributions Peaks</a></li>\n",
    "</ul>"
   ]
  },
  {
   "cell_type": "code",
   "execution_count": 55,
   "id": "d6c1fd25",
   "metadata": {},
   "outputs": [
    {
     "data": {
      "image/svg+xml": [
       "<svg class=\"main-svg\" xmlns=\"http://www.w3.org/2000/svg\" xmlns:xlink=\"http://www.w3.org/1999/xlink\" width=\"900\" height=\"500\" style=\"\" viewBox=\"0 0 900 500\"><rect x=\"0\" y=\"0\" width=\"900\" height=\"500\" style=\"fill: rgb(255, 255, 255); fill-opacity: 1;\"/><defs id=\"defs-546711\"><g class=\"clips\"><clipPath id=\"clip546711xyplot\" class=\"plotclip\"><rect width=\"740\" height=\"287\"/></clipPath><clipPath class=\"axesclip\" id=\"clip546711x\"><rect x=\"80\" y=\"0\" width=\"740\" height=\"500\"/></clipPath><clipPath class=\"axesclip\" id=\"clip546711y\"><rect x=\"0\" y=\"100\" width=\"900\" height=\"287\"/></clipPath><clipPath class=\"axesclip\" id=\"clip546711xy\"><rect x=\"80\" y=\"100\" width=\"740\" height=\"287\"/></clipPath></g><g class=\"gradients\"/><g class=\"patterns\"/></defs><g class=\"bglayer\"><rect class=\"bg\" x=\"80\" y=\"100\" width=\"740\" height=\"287\" style=\"fill: rgb(229, 236, 246); fill-opacity: 1; stroke-width: 0;\"/></g><g class=\"layer-below\"><g class=\"imagelayer\"/><g class=\"shapelayer\"/></g><g class=\"cartesianlayer\"><g class=\"subplot xy\"><g class=\"layer-subplot\"><g class=\"shapelayer\"/><g class=\"imagelayer\"/></g><g class=\"gridlayer\"><g class=\"x\"/><g class=\"y\"><path class=\"ygrid crisp\" transform=\"translate(0,343.61)\" d=\"M80,0h740\" style=\"stroke: rgb(255, 255, 255); stroke-opacity: 1; stroke-width: 1px;\"/><path class=\"ygrid crisp\" transform=\"translate(0,300.21000000000004)\" d=\"M80,0h740\" style=\"stroke: rgb(255, 255, 255); stroke-opacity: 1; stroke-width: 1px;\"/><path class=\"ygrid crisp\" transform=\"translate(0,256.82)\" d=\"M80,0h740\" style=\"stroke: rgb(255, 255, 255); stroke-opacity: 1; stroke-width: 1px;\"/><path class=\"ygrid crisp\" transform=\"translate(0,213.43)\" d=\"M80,0h740\" style=\"stroke: rgb(255, 255, 255); stroke-opacity: 1; stroke-width: 1px;\"/><path class=\"ygrid crisp\" transform=\"translate(0,170.03)\" d=\"M80,0h740\" style=\"stroke: rgb(255, 255, 255); stroke-opacity: 1; stroke-width: 1px;\"/><path class=\"ygrid crisp\" transform=\"translate(0,126.64)\" d=\"M80,0h740\" style=\"stroke: rgb(255, 255, 255); stroke-opacity: 1; stroke-width: 1px;\"/></g></g><g class=\"zerolinelayer\"><path class=\"yzl zl crisp\" transform=\"translate(0,387)\" d=\"M80,0h740\" style=\"stroke: rgb(255, 255, 255); stroke-opacity: 1; stroke-width: 2px;\"/></g><path class=\"xlines-below\"/><path class=\"ylines-below\"/><g class=\"overlines-below\"/><g class=\"xaxislayer-below\"/><g class=\"yaxislayer-below\"/><g class=\"overaxes-below\"/><g class=\"plot\" transform=\"translate(80,100)\" clip-path=\"url(#clip546711xyplot)\"><g class=\"barlayer mlayer\"><g class=\"trace bars\" style=\"opacity: 1;\"><g class=\"points\"><g class=\"point\"><path d=\"M9.25,287V14.35H83.25V287Z\" style=\"vector-effect: non-scaling-stroke; opacity: 1; stroke-width: 2px; fill: rgb(255, 0, 0); fill-opacity: 1; stroke: rgb(229, 236, 246); stroke-opacity: 1;\"/><text class=\"bartext bartext-inside\" text-anchor=\"middle\" data-notex=\"1\" x=\"0\" y=\"0\" style=\"font-family: 'Open Sans', verdana, arial, sans-serif; font-size: 12px; fill: rgb(255, 255, 255); fill-opacity: 1; white-space: pre;\" transform=\"translate(46.0625,29.35)\">3141592.0</text></g><g class=\"point\"><path d=\"M101.75,287V103.2H175.75V287Z\" style=\"vector-effect: non-scaling-stroke; opacity: 1; stroke-width: 2px; fill: rgb(255, 0, 0); fill-opacity: 1; stroke: rgb(229, 236, 246); stroke-opacity: 1;\"/><text class=\"bartext bartext-inside\" text-anchor=\"middle\" data-notex=\"1\" x=\"0\" y=\"0\" style=\"font-family: 'Open Sans', verdana, arial, sans-serif; font-size: 12px; fill: rgb(255, 255, 255); fill-opacity: 1; white-space: pre;\" transform=\"translate(138.5625,118.2)\">2117799.0</text></g><g class=\"point\"><path d=\"M194.25,287V227.4H268.25V287Z\" style=\"vector-effect: non-scaling-stroke; opacity: 1; stroke-width: 2px; fill: rgb(82, 150, 221); fill-opacity: 1; stroke: rgb(229, 236, 246); stroke-opacity: 1;\"/><text class=\"bartext bartext-inside\" text-anchor=\"middle\" data-notex=\"1\" x=\"0\" y=\"0\" style=\"font-family: 'Open Sans', verdana, arial, sans-serif; font-size: 12px; fill: rgb(68, 68, 68); fill-opacity: 1; white-space: pre;\" transform=\"translate(231.0625,242.4)\">686730.0</text></g><g class=\"point\"><path d=\"M194.25,227.4V167.8H268.25V227.4Z\" style=\"vector-effect: non-scaling-stroke; opacity: 1; stroke-width: 2px; fill: rgb(82, 150, 221); fill-opacity: 1; stroke: rgb(229, 236, 246); stroke-opacity: 1;\"/><text class=\"bartext bartext-inside\" text-anchor=\"middle\" data-notex=\"1\" x=\"0\" y=\"0\" style=\"font-family: 'Open Sans', verdana, arial, sans-serif; font-size: 12px; fill: rgb(68, 68, 68); fill-opacity: 1; white-space: pre;\" transform=\"translate(231.0625,182.8)\">686730.0</text></g><g class=\"point\"><path d=\"M286.75,287V243.34H360.75V287Z\" style=\"vector-effect: non-scaling-stroke; opacity: 1; stroke-width: 2px; fill: rgb(82, 150, 221); fill-opacity: 1; stroke: rgb(229, 236, 246); stroke-opacity: 1;\"/><text class=\"bartext bartext-inside\" text-anchor=\"middle\" data-notex=\"1\" x=\"0\" y=\"0\" style=\"font-family: 'Open Sans', verdana, arial, sans-serif; font-size: 12px; fill: rgb(68, 68, 68); fill-opacity: 1; white-space: pre;\" transform=\"translate(323.5625,258.34000000000003)\">503075.0</text></g><g class=\"point\"><path d=\"M379.25,287V249H453.25V287Z\" style=\"vector-effect: non-scaling-stroke; opacity: 1; stroke-width: 2px; fill: rgb(82, 150, 221); fill-opacity: 1; stroke: rgb(229, 236, 246); stroke-opacity: 1;\"/><text class=\"bartext bartext-inside\" text-anchor=\"middle\" data-notex=\"1\" x=\"0\" y=\"0\" style=\"font-family: 'Open Sans', verdana, arial, sans-serif; font-size: 12px; fill: rgb(68, 68, 68); fill-opacity: 1; white-space: pre;\" transform=\"translate(416.0625,264)\">437892.0</text></g><g class=\"point\"><path d=\"M379.25,249V210.99H453.25V249Z\" style=\"vector-effect: non-scaling-stroke; opacity: 1; stroke-width: 2px; fill: rgb(82, 150, 221); fill-opacity: 1; stroke: rgb(229, 236, 246); stroke-opacity: 1;\"/><text class=\"bartext bartext-inside\" text-anchor=\"middle\" data-notex=\"1\" x=\"0\" y=\"0\" style=\"font-family: 'Open Sans', verdana, arial, sans-serif; font-size: 12px; fill: rgb(68, 68, 68); fill-opacity: 1; white-space: pre;\" transform=\"translate(416.0625,225.99)\">437892.0</text></g><g class=\"point\"><path d=\"M471.75,287V250.08H545.75V287Z\" style=\"vector-effect: non-scaling-stroke; opacity: 1; stroke-width: 2px; fill: rgb(82, 150, 221); fill-opacity: 1; stroke: rgb(229, 236, 246); stroke-opacity: 1;\"/><text class=\"bartext bartext-inside\" text-anchor=\"middle\" data-notex=\"1\" x=\"0\" y=\"0\" style=\"font-family: 'Open Sans', verdana, arial, sans-serif; font-size: 12px; fill: rgb(68, 68, 68); fill-opacity: 1; white-space: pre;\" transform=\"translate(508.5625,265.08000000000004)\">425379.0</text></g><g class=\"point\"><path d=\"M564.25,287V251.13H638.25V287Z\" style=\"vector-effect: non-scaling-stroke; opacity: 1; stroke-width: 2px; fill: rgb(82, 150, 221); fill-opacity: 1; stroke: rgb(229, 236, 246); stroke-opacity: 1;\"/><text class=\"bartext bartext-inside\" text-anchor=\"middle\" data-notex=\"1\" x=\"0\" y=\"0\" style=\"font-family: 'Open Sans', verdana, arial, sans-serif; font-size: 12px; fill: rgb(68, 68, 68); fill-opacity: 1; white-space: pre;\" transform=\"translate(601.0625,266.13)\">413325.0</text></g><g class=\"point\"><path d=\"M656.75,287V251.6H730.75V287Z\" style=\"vector-effect: non-scaling-stroke; opacity: 1; stroke-width: 2px; fill: rgb(82, 150, 221); fill-opacity: 1; stroke: rgb(229, 236, 246); stroke-opacity: 1;\"/><text class=\"bartext bartext-inside\" text-anchor=\"middle\" data-notex=\"1\" x=\"0\" y=\"0\" style=\"font-family: 'Open Sans', verdana, arial, sans-serif; font-size: 12px; fill: rgb(68, 68, 68); fill-opacity: 1; white-space: pre;\" transform=\"translate(693.5625,266.6)\">407900.0</text></g></g></g></g></g><g class=\"overplot\"/><path class=\"xlines-above crisp\" d=\"M0,0\" style=\"fill: none;\"/><path class=\"ylines-above crisp\" d=\"M0,0\" style=\"fill: none;\"/><g class=\"overlines-above\"/><g class=\"xaxislayer-above\"><g class=\"xtick\"><text text-anchor=\"start\" x=\"0\" y=\"400\" transform=\"translate(126.25,0) rotate(30,0,394)\" style=\"font-family: 'Open Sans', verdana, arial, sans-serif; font-size: 12px; fill: rgb(42, 63, 95); fill-opacity: 1; white-space: pre; opacity: 1;\">agree-with-you</text></g><g class=\"xtick\"><text text-anchor=\"start\" x=\"0\" y=\"400\" transform=\"translate(218.75,0) rotate(30,0,394)\" style=\"font-family: 'Open Sans', verdana, arial, sans-serif; font-size: 12px; fill: rgb(42, 63, 95); fill-opacity: 1; white-space: pre; opacity: 1;\">HighOnGoofballs</text></g><g class=\"xtick\"><text text-anchor=\"start\" x=\"0\" y=\"400\" transform=\"translate(311.25,0) rotate(30,0,394)\" style=\"font-family: 'Open Sans', verdana, arial, sans-serif; font-size: 12px; fill: rgb(42, 63, 95); fill-opacity: 1; white-space: pre; opacity: 1;\">IAMATruckerAMA</text></g><g class=\"xtick\"><text text-anchor=\"start\" x=\"0\" y=\"400\" transform=\"translate(403.75,0) rotate(30,0,394)\" style=\"font-family: 'Open Sans', verdana, arial, sans-serif; font-size: 12px; fill: rgb(42, 63, 95); fill-opacity: 1; white-space: pre; opacity: 1;\">Roland_T_Flakfeizer</text></g><g class=\"xtick\"><text text-anchor=\"start\" x=\"0\" y=\"400\" transform=\"translate(496.25,0) rotate(30,0,394)\" style=\"font-family: 'Open Sans', verdana, arial, sans-serif; font-size: 12px; fill: rgb(42, 63, 95); fill-opacity: 1; white-space: pre; opacity: 1;\">rattatally</text></g><g class=\"xtick\"><text text-anchor=\"start\" x=\"0\" y=\"400\" transform=\"translate(588.75,0) rotate(30,0,394)\" style=\"font-family: 'Open Sans', verdana, arial, sans-serif; font-size: 12px; fill: rgb(42, 63, 95); fill-opacity: 1; white-space: pre; opacity: 1;\">colorcorrection</text></g><g class=\"xtick\"><text text-anchor=\"start\" x=\"0\" y=\"400\" transform=\"translate(681.25,0) rotate(30,0,394)\" style=\"font-family: 'Open Sans', verdana, arial, sans-serif; font-size: 12px; fill: rgb(42, 63, 95); fill-opacity: 1; white-space: pre; opacity: 1;\">fart_fig_newton</text></g><g class=\"xtick\"><text text-anchor=\"start\" x=\"0\" y=\"400\" transform=\"translate(773.75,0) rotate(30,0,394)\" style=\"font-family: 'Open Sans', verdana, arial, sans-serif; font-size: 12px; fill: rgb(42, 63, 95); fill-opacity: 1; white-space: pre; opacity: 1;\">prplehailstorm</text></g></g><g class=\"yaxislayer-above\"><g class=\"ytick\"><text text-anchor=\"end\" x=\"79\" y=\"4.199999999999999\" transform=\"translate(0,387)\" style=\"font-family: 'Open Sans', verdana, arial, sans-serif; font-size: 12px; fill: rgb(42, 63, 95); fill-opacity: 1; white-space: pre; opacity: 1;\">0</text></g><g class=\"ytick\"><text text-anchor=\"end\" x=\"79\" y=\"4.199999999999999\" style=\"font-family: 'Open Sans', verdana, arial, sans-serif; font-size: 12px; fill: rgb(42, 63, 95); fill-opacity: 1; white-space: pre; opacity: 1;\" transform=\"translate(0,343.61)\">0.5M</text></g><g class=\"ytick\"><text text-anchor=\"end\" x=\"79\" y=\"4.199999999999999\" style=\"font-family: 'Open Sans', verdana, arial, sans-serif; font-size: 12px; fill: rgb(42, 63, 95); fill-opacity: 1; white-space: pre; opacity: 1;\" transform=\"translate(0,300.21000000000004)\">1M</text></g><g class=\"ytick\"><text text-anchor=\"end\" x=\"79\" y=\"4.199999999999999\" style=\"font-family: 'Open Sans', verdana, arial, sans-serif; font-size: 12px; fill: rgb(42, 63, 95); fill-opacity: 1; white-space: pre; opacity: 1;\" transform=\"translate(0,256.82)\">1.5M</text></g><g class=\"ytick\"><text text-anchor=\"end\" x=\"79\" y=\"4.199999999999999\" style=\"font-family: 'Open Sans', verdana, arial, sans-serif; font-size: 12px; fill: rgb(42, 63, 95); fill-opacity: 1; white-space: pre; opacity: 1;\" transform=\"translate(0,213.43)\">2M</text></g><g class=\"ytick\"><text text-anchor=\"end\" x=\"79\" y=\"4.199999999999999\" style=\"font-family: 'Open Sans', verdana, arial, sans-serif; font-size: 12px; fill: rgb(42, 63, 95); fill-opacity: 1; white-space: pre; opacity: 1;\" transform=\"translate(0,170.03)\">2.5M</text></g><g class=\"ytick\"><text text-anchor=\"end\" x=\"79\" y=\"4.199999999999999\" style=\"font-family: 'Open Sans', verdana, arial, sans-serif; font-size: 12px; fill: rgb(42, 63, 95); fill-opacity: 1; white-space: pre; opacity: 1;\" transform=\"translate(0,126.64)\">3M</text></g></g><g class=\"overaxes-above\"/></g></g><g class=\"polarlayer\"/><g class=\"ternarylayer\"/><g class=\"geolayer\"/><g class=\"funnelarealayer\"/><g class=\"pielayer\"/><g class=\"iciclelayer\"/><g class=\"treemaplayer\"/><g class=\"sunburstlayer\"/><g class=\"glimages\"/><defs id=\"topdefs-546711\"><g class=\"clips\"/></defs><g class=\"layer-above\"><g class=\"imagelayer\"/><g class=\"shapelayer\"/></g><g class=\"infolayer\"><g class=\"g-gtitle\"><text class=\"gtitle\" x=\"45\" y=\"50\" text-anchor=\"start\" dy=\"0em\" style=\"font-family: 'Open Sans', verdana, arial, sans-serif; font-size: 17px; fill: rgb(42, 63, 95); opacity: 1; font-weight: normal; white-space: pre;\">Unverified accounts with highest comment karma</text></g><g class=\"g-xtitle\"><text class=\"xtitle\" x=\"450\" y=\"487.6486328125\" text-anchor=\"middle\" style=\"font-family: 'Open Sans', verdana, arial, sans-serif; font-size: 14px; fill: rgb(42, 63, 95); opacity: 1; font-weight: normal; white-space: pre;\">user name</text></g><g class=\"g-ytitle\"><text class=\"ytitle\" transform=\"rotate(-90,24.450000000000003,243.5)\" x=\"24.450000000000003\" y=\"243.5\" text-anchor=\"middle\" style=\"font-family: 'Open Sans', verdana, arial, sans-serif; font-size: 14px; fill: rgb(42, 63, 95); opacity: 1; font-weight: normal; white-space: pre;\">comment_karma</text></g></g></svg>"
      ]
     },
     "metadata": {},
     "output_type": "display_data"
    }
   ],
   "source": [
    "# Filter on largest comment karma\n",
    "\n",
    "df_comment_high = df_unverified.sort_values('comment_karma', ascending=False).head(10)\n",
    "\n",
    "fig = px.bar(df_comment_high,\n",
    "             x='user_name', \n",
    "             y=df_comment_high.comment_karma, text = df_comment_high.comment_karma, title='Unverified accounts with highest comment karma')\n",
    "\n",
    "fig.update_layout(\n",
    "    xaxis = dict(\n",
    "        title='user name',\n",
    "        tickmode = 'array',\n",
    "        tickvals = df_comment_high.user_name,\n",
    "    )\n",
    ")\n",
    "\n",
    "clrs = ['red' if (y > 2000000) else '#5296dd' for y in df_comment_high.comment_karma]\n",
    "\n",
    "fig.update_traces(marker_color=clrs,\n",
    "                  marker_line_width=2, opacity=1, textposition='auto')\n",
    "\n",
    "# , marker_line_color='#5296dd'\n",
    "\n",
    "fig.show()\n",
    "\n"
   ]
  },
  {
   "cell_type": "markdown",
   "id": "5a2ac8a6",
   "metadata": {},
   "source": [
    "https://www.reddit.com/r/TrueOffMyChest/comments/lx2s7w/its_disgusting_that_people_are_less_angry_about/gplvb3x/"
   ]
  },
  {
   "cell_type": "code",
   "execution_count": 56,
   "id": "4d16c6f1",
   "metadata": {},
   "outputs": [
    {
     "data": {
      "text/html": [
       "<div>\n",
       "<style scoped>\n",
       "    .dataframe tbody tr th:only-of-type {\n",
       "        vertical-align: middle;\n",
       "    }\n",
       "\n",
       "    .dataframe tbody tr th {\n",
       "        vertical-align: top;\n",
       "    }\n",
       "\n",
       "    .dataframe thead th {\n",
       "        text-align: right;\n",
       "    }\n",
       "</style>\n",
       "<table border=\"1\" class=\"dataframe\">\n",
       "  <thead>\n",
       "    <tr style=\"text-align: right;\">\n",
       "      <th></th>\n",
       "      <th>child_id</th>\n",
       "      <th>permalink</th>\n",
       "      <th>text</th>\n",
       "      <th>parent_id</th>\n",
       "      <th>subreddit</th>\n",
       "      <th>created_at</th>\n",
       "      <th>sentiment_blob</th>\n",
       "      <th>sentiment_nltk</th>\n",
       "      <th>score</th>\n",
       "      <th>top_level</th>\n",
       "      <th>...</th>\n",
       "      <th>is_mod</th>\n",
       "      <th>is_gold</th>\n",
       "      <th>is_banned</th>\n",
       "      <th>comment_karma</th>\n",
       "      <th>link_karma</th>\n",
       "      <th>user_created_at</th>\n",
       "      <th>banned_unverified</th>\n",
       "      <th>creation_year</th>\n",
       "      <th>diff</th>\n",
       "      <th>days_after_creation</th>\n",
       "    </tr>\n",
       "  </thead>\n",
       "  <tbody>\n",
       "    <tr>\n",
       "      <th>11889</th>\n",
       "      <td>t1_gplvb3x</td>\n",
       "      <td>/r/TrueOffMyChest/comments/lx2s7w/its_disgusti...</td>\n",
       "      <td>I agree, this does not seem possible.</td>\n",
       "      <td>t1_gplva7c</td>\n",
       "      <td>r/TrueOffMyChest</td>\n",
       "      <td>2021-03-04 02:14:19</td>\n",
       "      <td>Neutral</td>\n",
       "      <td>Positive</td>\n",
       "      <td>-1.0</td>\n",
       "      <td>comment</td>\n",
       "      <td>...</td>\n",
       "      <td>False</td>\n",
       "      <td>False</td>\n",
       "      <td>False</td>\n",
       "      <td>3141592.0</td>\n",
       "      <td>3141592.0</td>\n",
       "      <td>2018-03-11 00:17:42</td>\n",
       "      <td>unverified</td>\n",
       "      <td>2018</td>\n",
       "      <td>1089 days 01:56:37</td>\n",
       "      <td>1089.0</td>\n",
       "    </tr>\n",
       "  </tbody>\n",
       "</table>\n",
       "<p>1 rows × 24 columns</p>\n",
       "</div>"
      ],
      "text/plain": [
       "         child_id                                          permalink  \\\n",
       "11889  t1_gplvb3x  /r/TrueOffMyChest/comments/lx2s7w/its_disgusti...   \n",
       "\n",
       "                                        text   parent_id         subreddit  \\\n",
       "11889  I agree, this does not seem possible.  t1_gplva7c  r/TrueOffMyChest   \n",
       "\n",
       "               created_at sentiment_blob sentiment_nltk  score top_level  ...  \\\n",
       "11889 2021-03-04 02:14:19        Neutral       Positive   -1.0   comment  ...   \n",
       "\n",
       "      is_mod is_gold is_banned  comment_karma  link_karma     user_created_at  \\\n",
       "11889  False   False     False      3141592.0   3141592.0 2018-03-11 00:17:42   \n",
       "\n",
       "       banned_unverified  creation_year                diff  \\\n",
       "11889         unverified           2018  1089 days 01:56:37   \n",
       "\n",
       "      days_after_creation  \n",
       "11889              1089.0  \n",
       "\n",
       "[1 rows x 24 columns]"
      ]
     },
     "execution_count": 56,
     "metadata": {},
     "output_type": "execute_result"
    }
   ],
   "source": [
    "df_unverified[df_unverified.user_name == 'agree-with-you']"
   ]
  },
  {
   "cell_type": "markdown",
   "id": "532a0f52",
   "metadata": {},
   "source": [
    "Account Created at: 2018-03-11 <br>\n",
    "Comment Created at: 2021-03-04 "
   ]
  },
  {
   "cell_type": "code",
   "execution_count": 57,
   "id": "59ba0b07",
   "metadata": {},
   "outputs": [
    {
     "data": {
      "text/html": [
       "<div>\n",
       "<style scoped>\n",
       "    .dataframe tbody tr th:only-of-type {\n",
       "        vertical-align: middle;\n",
       "    }\n",
       "\n",
       "    .dataframe tbody tr th {\n",
       "        vertical-align: top;\n",
       "    }\n",
       "\n",
       "    .dataframe thead th {\n",
       "        text-align: right;\n",
       "    }\n",
       "</style>\n",
       "<table border=\"1\" class=\"dataframe\">\n",
       "  <thead>\n",
       "    <tr style=\"text-align: right;\">\n",
       "      <th></th>\n",
       "      <th>child_id</th>\n",
       "      <th>permalink</th>\n",
       "      <th>text</th>\n",
       "      <th>parent_id</th>\n",
       "      <th>subreddit</th>\n",
       "      <th>created_at</th>\n",
       "      <th>sentiment_blob</th>\n",
       "      <th>sentiment_nltk</th>\n",
       "      <th>score</th>\n",
       "      <th>top_level</th>\n",
       "      <th>submission_comment</th>\n",
       "      <th>submission_text</th>\n",
       "      <th>user_name</th>\n",
       "      <th>has_verified_email</th>\n",
       "      <th>is_mod</th>\n",
       "      <th>is_gold</th>\n",
       "      <th>is_banned</th>\n",
       "      <th>comment_karma</th>\n",
       "      <th>link_karma</th>\n",
       "      <th>user_created_at</th>\n",
       "      <th>banned_unverified</th>\n",
       "      <th>creation_year</th>\n",
       "      <th>diff</th>\n",
       "      <th>days_after_creation</th>\n",
       "    </tr>\n",
       "  </thead>\n",
       "  <tbody>\n",
       "    <tr>\n",
       "      <th>9876</th>\n",
       "      <td>t1_go80vr4</td>\n",
       "      <td>/r/movies/comments/low6va/emilia_clarke_to_replace_amber_heard_as_mera_in/go80vr4/</td>\n",
       "      <td>How do you know they suck if you haven’t seen them?</td>\n",
       "      <td>t1_go80mn8</td>\n",
       "      <td>r/movies</td>\n",
       "      <td>2021-02-21 12:58:42</td>\n",
       "      <td>Neutral</td>\n",
       "      <td>Negative</td>\n",
       "      <td>3.0</td>\n",
       "      <td>comment</td>\n",
       "      <td>comment</td>\n",
       "      <td>emilia_clarke_to_replace_amber_heard_as_mera_in</td>\n",
       "      <td>HighOnGoofballs</td>\n",
       "      <td>False</td>\n",
       "      <td>True</td>\n",
       "      <td>False</td>\n",
       "      <td>False</td>\n",
       "      <td>2117799.0</td>\n",
       "      <td>32205.0</td>\n",
       "      <td>2015-08-15 00:54:10</td>\n",
       "      <td>unverified</td>\n",
       "      <td>others</td>\n",
       "      <td>2017 days 12:04:32</td>\n",
       "      <td>2017.0</td>\n",
       "    </tr>\n",
       "  </tbody>\n",
       "</table>\n",
       "</div>"
      ],
      "text/plain": [
       "        child_id  \\\n",
       "9876  t1_go80vr4   \n",
       "\n",
       "                                                                               permalink  \\\n",
       "9876  /r/movies/comments/low6va/emilia_clarke_to_replace_amber_heard_as_mera_in/go80vr4/   \n",
       "\n",
       "                                                     text   parent_id  \\\n",
       "9876  How do you know they suck if you haven’t seen them?  t1_go80mn8   \n",
       "\n",
       "     subreddit          created_at sentiment_blob sentiment_nltk  score  \\\n",
       "9876  r/movies 2021-02-21 12:58:42        Neutral       Negative    3.0   \n",
       "\n",
       "     top_level submission_comment  \\\n",
       "9876   comment            comment   \n",
       "\n",
       "                                      submission_text        user_name  \\\n",
       "9876  emilia_clarke_to_replace_amber_heard_as_mera_in  HighOnGoofballs   \n",
       "\n",
       "      has_verified_email  is_mod  is_gold  is_banned  comment_karma  \\\n",
       "9876               False    True    False      False      2117799.0   \n",
       "\n",
       "      link_karma     user_created_at banned_unverified creation_year  \\\n",
       "9876     32205.0 2015-08-15 00:54:10        unverified        others   \n",
       "\n",
       "                    diff  days_after_creation  \n",
       "9876  2017 days 12:04:32               2017.0  "
      ]
     },
     "metadata": {},
     "output_type": "display_data"
    }
   ],
   "source": [
    "with pd.option_context('display.max_colwidth', None, 'display.max_columns', None):\n",
    "  display(df_unverified[df_unverified.user_name == 'HighOnGoofballs'].head(1))"
   ]
  },
  {
   "cell_type": "markdown",
   "id": "461dada9",
   "metadata": {},
   "source": [
    "<a id='minimum_link_karma'></a>\n",
    ">>### Explore unverified accounts with the minimum link karma\n",
    "\n",
    "<ul>\n",
    "<li><a href=\"#largest_link_karma\">Unverified Accounts With The Largest Link Karma</a></li>   \n",
    "<li><a href=\"#largest_comment_karma\">Unverified Accounts With The Largest Comment Karma</a></li>\n",
    "    <br>\n",
    "<li><a href=\"#minimum_link_karma\"><b><mark>Unverified Accounts With The Minimum Link Karma</mark></b></a></li>\n",
    "<li><a href=\"#minimum_comment_karma\">Unverified Accounts With The Minimum Comment Karma</a></li>\n",
    "    <br>\n",
    "<li><a href=\"#largest_scores\">Explore the largest scores</a></li>\n",
    "<li><a href=\"#minimum_scores\">Explore the minimum scores</a></li>\n",
    "    <br>\n",
    "<li><a href=\"#unverified_contributions\">Contributions of Unverified accounts in 2021</a></li>\n",
    "<li><a href=\"#unverified_creations\">Creation years of the unverified accounts contributed in 2021</a></li>\n",
    "<li><a href=\"#unverified_peak\">Unverified Contributions Peaks</a></li>\n",
    "</ul>"
   ]
  },
  {
   "cell_type": "code",
   "execution_count": 58,
   "id": "c106978f",
   "metadata": {},
   "outputs": [
    {
     "data": {
      "image/svg+xml": [
       "<svg class=\"main-svg\" xmlns=\"http://www.w3.org/2000/svg\" xmlns:xlink=\"http://www.w3.org/1999/xlink\" width=\"900\" height=\"500\" style=\"\" viewBox=\"0 0 900 500\"><rect x=\"0\" y=\"0\" width=\"900\" height=\"500\" style=\"fill: rgb(255, 255, 255); fill-opacity: 1;\"/><defs id=\"defs-15b5fe\"><g class=\"clips\"><clipPath id=\"clip15b5fexyplot\" class=\"plotclip\"><rect width=\"711\" height=\"320\"/></clipPath><clipPath class=\"axesclip\" id=\"clip15b5fex\"><rect x=\"80\" y=\"0\" width=\"711\" height=\"500\"/></clipPath><clipPath class=\"axesclip\" id=\"clip15b5fey\"><rect x=\"0\" y=\"60\" width=\"900\" height=\"320\"/></clipPath><clipPath class=\"axesclip\" id=\"clip15b5fexy\"><rect x=\"80\" y=\"60\" width=\"711\" height=\"320\"/></clipPath></g><g class=\"gradients\"/><g class=\"patterns\"/></defs><g class=\"bglayer\"><rect class=\"bg\" x=\"80\" y=\"60\" width=\"711\" height=\"320\" style=\"fill: rgb(229, 236, 246); fill-opacity: 1; stroke-width: 0;\"/></g><g class=\"layer-below\"><g class=\"imagelayer\"/><g class=\"shapelayer\"/></g><g class=\"cartesianlayer\"><g class=\"subplot xy\"><g class=\"layer-subplot\"><g class=\"shapelayer\"/><g class=\"imagelayer\"/></g><g class=\"gridlayer\"><g class=\"x\"/><g class=\"y\"><path class=\"ygrid crisp\" transform=\"translate(0,342)\" d=\"M80,0h711\" style=\"stroke: rgb(255, 255, 255); stroke-opacity: 1; stroke-width: 1px;\"/><path class=\"ygrid crisp\" transform=\"translate(0,304)\" d=\"M80,0h711\" style=\"stroke: rgb(255, 255, 255); stroke-opacity: 1; stroke-width: 1px;\"/><path class=\"ygrid crisp\" transform=\"translate(0,266)\" d=\"M80,0h711\" style=\"stroke: rgb(255, 255, 255); stroke-opacity: 1; stroke-width: 1px;\"/><path class=\"ygrid crisp\" transform=\"translate(0,228)\" d=\"M80,0h711\" style=\"stroke: rgb(255, 255, 255); stroke-opacity: 1; stroke-width: 1px;\"/><path class=\"ygrid crisp\" transform=\"translate(0,190)\" d=\"M80,0h711\" style=\"stroke: rgb(255, 255, 255); stroke-opacity: 1; stroke-width: 1px;\"/><path class=\"ygrid crisp\" transform=\"translate(0,152)\" d=\"M80,0h711\" style=\"stroke: rgb(255, 255, 255); stroke-opacity: 1; stroke-width: 1px;\"/><path class=\"ygrid crisp\" transform=\"translate(0,114)\" d=\"M80,0h711\" style=\"stroke: rgb(255, 255, 255); stroke-opacity: 1; stroke-width: 1px;\"/><path class=\"ygrid crisp\" transform=\"translate(0,76)\" d=\"M80,0h711\" style=\"stroke: rgb(255, 255, 255); stroke-opacity: 1; stroke-width: 1px;\"/></g></g><g class=\"zerolinelayer\"><path class=\"yzl zl crisp\" transform=\"translate(0,380)\" d=\"M80,0h711\" style=\"stroke: rgb(255, 255, 255); stroke-opacity: 1; stroke-width: 2px;\"/></g><path class=\"xlines-below\"/><path class=\"ylines-below\"/><g class=\"overlines-below\"/><g class=\"xaxislayer-below\"/><g class=\"yaxislayer-below\"/><g class=\"overaxes-below\"/><g class=\"plot\" transform=\"translate(80,60)\" clip-path=\"url(#clip15b5fexyplot)\"><g class=\"barlayer mlayer\"><g class=\"trace bars\" style=\"opacity: 1;\"><g class=\"points\"><g class=\"point\"><path d=\"M4.74,320V244H42.66V320Z\" style=\"vector-effect: non-scaling-stroke; opacity: 1; stroke-width: 2px; fill: rgb(82, 150, 221); fill-opacity: 1; stroke: rgb(229, 236, 246); stroke-opacity: 1;\"/><text class=\"bartext bartext-inside\" text-anchor=\"middle\" data-notex=\"1\" x=\"0\" y=\"0\" style=\"font-family: 'Open Sans', verdana, arial, sans-serif; font-size: 12px; fill: rgb(68, 68, 68); fill-opacity: 1; white-space: pre;\" transform=\"translate(23.5125,259)\">1.0</text></g><g class=\"point\"><path d=\"M52.14,320V244H90.06V320Z\" style=\"vector-effect: non-scaling-stroke; opacity: 1; stroke-width: 2px; fill: rgb(82, 150, 221); fill-opacity: 1; stroke: rgb(229, 236, 246); stroke-opacity: 1;\"/><text class=\"bartext bartext-inside\" text-anchor=\"middle\" data-notex=\"1\" x=\"0\" y=\"0\" style=\"font-family: 'Open Sans', verdana, arial, sans-serif; font-size: 12px; fill: rgb(68, 68, 68); fill-opacity: 1; white-space: pre;\" transform=\"translate(70.9125,259)\">1.0</text></g><g class=\"point\"><path d=\"M99.54,320V244H137.46V320Z\" style=\"vector-effect: non-scaling-stroke; opacity: 1; stroke-width: 2px; fill: rgb(82, 150, 221); fill-opacity: 1; stroke: rgb(229, 236, 246); stroke-opacity: 1;\"/><text class=\"bartext bartext-inside\" text-anchor=\"middle\" data-notex=\"1\" x=\"0\" y=\"0\" style=\"font-family: 'Open Sans', verdana, arial, sans-serif; font-size: 12px; fill: rgb(68, 68, 68); fill-opacity: 1; white-space: pre;\" transform=\"translate(118.3125,259)\">1.0</text></g><g class=\"point\"><path d=\"M146.94,320V244H184.86V320Z\" style=\"vector-effect: non-scaling-stroke; opacity: 1; stroke-width: 2px; fill: rgb(82, 150, 221); fill-opacity: 1; stroke: rgb(229, 236, 246); stroke-opacity: 1;\"/><text class=\"bartext bartext-inside\" text-anchor=\"middle\" data-notex=\"1\" x=\"0\" y=\"0\" style=\"font-family: 'Open Sans', verdana, arial, sans-serif; font-size: 12px; fill: rgb(68, 68, 68); fill-opacity: 1; white-space: pre;\" transform=\"translate(165.7125,259)\">1.0</text></g><g class=\"point\"><path d=\"M194.34,320V244H232.26V320Z\" style=\"vector-effect: non-scaling-stroke; opacity: 1; stroke-width: 2px; fill: rgb(82, 150, 221); fill-opacity: 1; stroke: rgb(229, 236, 246); stroke-opacity: 1;\"/><text class=\"bartext bartext-inside\" text-anchor=\"middle\" data-notex=\"1\" x=\"0\" y=\"0\" style=\"font-family: 'Open Sans', verdana, arial, sans-serif; font-size: 12px; fill: rgb(68, 68, 68); fill-opacity: 1; white-space: pre;\" transform=\"translate(213.1125,259)\">1.0</text></g><g class=\"point\"><path d=\"M241.74,320V244H279.66V320Z\" style=\"vector-effect: non-scaling-stroke; opacity: 1; stroke-width: 2px; fill: rgb(82, 150, 221); fill-opacity: 1; stroke: rgb(229, 236, 246); stroke-opacity: 1;\"/><text class=\"bartext bartext-inside\" text-anchor=\"middle\" data-notex=\"1\" x=\"0\" y=\"0\" style=\"font-family: 'Open Sans', verdana, arial, sans-serif; font-size: 12px; fill: rgb(68, 68, 68); fill-opacity: 1; white-space: pre;\" transform=\"translate(260.51250000000005,259)\">1.0</text></g><g class=\"point\"><path d=\"M241.74,244V168H279.66V244Z\" style=\"vector-effect: non-scaling-stroke; opacity: 1; stroke-width: 2px; fill: rgb(82, 150, 221); fill-opacity: 1; stroke: rgb(229, 236, 246); stroke-opacity: 1;\"/><text class=\"bartext bartext-inside\" text-anchor=\"middle\" data-notex=\"1\" x=\"0\" y=\"0\" style=\"font-family: 'Open Sans', verdana, arial, sans-serif; font-size: 12px; fill: rgb(68, 68, 68); fill-opacity: 1; white-space: pre;\" transform=\"translate(260.51250000000005,183)\">1.0</text></g><g class=\"point\"><path d=\"M289.14,320V244H327.06V320Z\" style=\"vector-effect: non-scaling-stroke; opacity: 1; stroke-width: 2px; fill: rgb(82, 150, 221); fill-opacity: 1; stroke: rgb(229, 236, 246); stroke-opacity: 1;\"/><text class=\"bartext bartext-inside\" text-anchor=\"middle\" data-notex=\"1\" x=\"0\" y=\"0\" style=\"font-family: 'Open Sans', verdana, arial, sans-serif; font-size: 12px; fill: rgb(68, 68, 68); fill-opacity: 1; white-space: pre;\" transform=\"translate(307.9125,259)\">1.0</text></g><g class=\"point\"><path d=\"M241.74,168V92H279.66V168Z\" style=\"vector-effect: non-scaling-stroke; opacity: 1; stroke-width: 2px; fill: rgb(82, 150, 221); fill-opacity: 1; stroke: rgb(229, 236, 246); stroke-opacity: 1;\"/><text class=\"bartext bartext-inside\" text-anchor=\"middle\" data-notex=\"1\" x=\"0\" y=\"0\" style=\"font-family: 'Open Sans', verdana, arial, sans-serif; font-size: 12px; fill: rgb(68, 68, 68); fill-opacity: 1; white-space: pre;\" transform=\"translate(260.51250000000005,107)\">1.0</text></g><g class=\"point\"><path d=\"M336.54,320V244H374.46V320Z\" style=\"vector-effect: non-scaling-stroke; opacity: 1; stroke-width: 2px; fill: rgb(82, 150, 221); fill-opacity: 1; stroke: rgb(229, 236, 246); stroke-opacity: 1;\"/><text class=\"bartext bartext-inside\" text-anchor=\"middle\" data-notex=\"1\" x=\"0\" y=\"0\" style=\"font-family: 'Open Sans', verdana, arial, sans-serif; font-size: 12px; fill: rgb(68, 68, 68); fill-opacity: 1; white-space: pre;\" transform=\"translate(355.3125,259)\">1.0</text></g><g class=\"point\"><path d=\"M383.94,320V244H421.86V320Z\" style=\"vector-effect: non-scaling-stroke; opacity: 1; stroke-width: 2px; fill: rgb(82, 150, 221); fill-opacity: 1; stroke: rgb(229, 236, 246); stroke-opacity: 1;\"/><text class=\"bartext bartext-inside\" text-anchor=\"middle\" data-notex=\"1\" x=\"0\" y=\"0\" style=\"font-family: 'Open Sans', verdana, arial, sans-serif; font-size: 12px; fill: rgb(68, 68, 68); fill-opacity: 1; white-space: pre;\" transform=\"translate(402.7125,259)\">1.0</text></g><g class=\"point\"><path d=\"M431.34,320V244H469.26V320Z\" style=\"vector-effect: non-scaling-stroke; opacity: 1; stroke-width: 2px; fill: rgb(82, 150, 221); fill-opacity: 1; stroke: rgb(229, 236, 246); stroke-opacity: 1;\"/><text class=\"bartext bartext-inside\" text-anchor=\"middle\" data-notex=\"1\" x=\"0\" y=\"0\" style=\"font-family: 'Open Sans', verdana, arial, sans-serif; font-size: 12px; fill: rgb(68, 68, 68); fill-opacity: 1; white-space: pre;\" transform=\"translate(450.11249999999995,259)\">1.0</text></g><g class=\"point\"><path d=\"M478.74,320V244H516.66V320Z\" style=\"vector-effect: non-scaling-stroke; opacity: 1; stroke-width: 2px; fill: rgb(82, 150, 221); fill-opacity: 1; stroke: rgb(229, 236, 246); stroke-opacity: 1;\"/><text class=\"bartext bartext-inside\" text-anchor=\"middle\" data-notex=\"1\" x=\"0\" y=\"0\" style=\"font-family: 'Open Sans', verdana, arial, sans-serif; font-size: 12px; fill: rgb(68, 68, 68); fill-opacity: 1; white-space: pre;\" transform=\"translate(497.5125,259)\">1.0</text></g><g class=\"point\"><path d=\"M526.14,320V244H564.06V320Z\" style=\"vector-effect: non-scaling-stroke; opacity: 1; stroke-width: 2px; fill: rgb(82, 150, 221); fill-opacity: 1; stroke: rgb(229, 236, 246); stroke-opacity: 1;\"/><text class=\"bartext bartext-inside\" text-anchor=\"middle\" data-notex=\"1\" x=\"0\" y=\"0\" style=\"font-family: 'Open Sans', verdana, arial, sans-serif; font-size: 12px; fill: rgb(68, 68, 68); fill-opacity: 1; white-space: pre;\" transform=\"translate(544.9124999999999,259)\">1.0</text></g><g class=\"point\"><path d=\"M526.14,244V168H564.06V244Z\" style=\"vector-effect: non-scaling-stroke; opacity: 1; stroke-width: 2px; fill: rgb(82, 150, 221); fill-opacity: 1; stroke: rgb(229, 236, 246); stroke-opacity: 1;\"/><text class=\"bartext bartext-inside\" text-anchor=\"middle\" data-notex=\"1\" x=\"0\" y=\"0\" style=\"font-family: 'Open Sans', verdana, arial, sans-serif; font-size: 12px; fill: rgb(68, 68, 68); fill-opacity: 1; white-space: pre;\" transform=\"translate(544.9124999999999,183)\">1.0</text></g><g class=\"point\"><path d=\"M526.14,168V92H564.06V168Z\" style=\"vector-effect: non-scaling-stroke; opacity: 1; stroke-width: 2px; fill: rgb(82, 150, 221); fill-opacity: 1; stroke: rgb(229, 236, 246); stroke-opacity: 1;\"/><text class=\"bartext bartext-inside\" text-anchor=\"middle\" data-notex=\"1\" x=\"0\" y=\"0\" style=\"font-family: 'Open Sans', verdana, arial, sans-serif; font-size: 12px; fill: rgb(68, 68, 68); fill-opacity: 1; white-space: pre;\" transform=\"translate(544.9124999999999,107)\">1.0</text></g><g class=\"point\"><path d=\"M526.14,92V16H564.06V92Z\" style=\"vector-effect: non-scaling-stroke; opacity: 1; stroke-width: 2px; fill: rgb(82, 150, 221); fill-opacity: 1; stroke: rgb(229, 236, 246); stroke-opacity: 1;\"/><text class=\"bartext bartext-inside\" text-anchor=\"middle\" data-notex=\"1\" x=\"0\" y=\"0\" style=\"font-family: 'Open Sans', verdana, arial, sans-serif; font-size: 12px; fill: rgb(68, 68, 68); fill-opacity: 1; white-space: pre;\" transform=\"translate(544.9124999999999,31)\">1.0</text></g><g class=\"point\"><path d=\"M573.54,320V244H611.46V320Z\" style=\"vector-effect: non-scaling-stroke; opacity: 1; stroke-width: 2px; fill: rgb(82, 150, 221); fill-opacity: 1; stroke: rgb(229, 236, 246); stroke-opacity: 1;\"/><text class=\"bartext bartext-inside\" text-anchor=\"middle\" data-notex=\"1\" x=\"0\" y=\"0\" style=\"font-family: 'Open Sans', verdana, arial, sans-serif; font-size: 12px; fill: rgb(68, 68, 68); fill-opacity: 1; white-space: pre;\" transform=\"translate(592.3125,259)\">1.0</text></g><g class=\"point\"><path d=\"M620.94,320V244H658.86V320Z\" style=\"vector-effect: non-scaling-stroke; opacity: 1; stroke-width: 2px; fill: rgb(82, 150, 221); fill-opacity: 1; stroke: rgb(229, 236, 246); stroke-opacity: 1;\"/><text class=\"bartext bartext-inside\" text-anchor=\"middle\" data-notex=\"1\" x=\"0\" y=\"0\" style=\"font-family: 'Open Sans', verdana, arial, sans-serif; font-size: 12px; fill: rgb(68, 68, 68); fill-opacity: 1; white-space: pre;\" transform=\"translate(639.7125000000001,259)\">1.0</text></g><g class=\"point\"><path d=\"M668.34,320V244H706.26V320Z\" style=\"vector-effect: non-scaling-stroke; opacity: 1; stroke-width: 2px; fill: rgb(82, 150, 221); fill-opacity: 1; stroke: rgb(229, 236, 246); stroke-opacity: 1;\"/><text class=\"bartext bartext-inside\" text-anchor=\"middle\" data-notex=\"1\" x=\"0\" y=\"0\" style=\"font-family: 'Open Sans', verdana, arial, sans-serif; font-size: 12px; fill: rgb(68, 68, 68); fill-opacity: 1; white-space: pre;\" transform=\"translate(687.1125,259)\">1.0</text></g></g></g></g></g><g class=\"overplot\"/><path class=\"xlines-above crisp\" d=\"M0,0\" style=\"fill: none;\"/><path class=\"ylines-above crisp\" d=\"M0,0\" style=\"fill: none;\"/><g class=\"overlines-above\"/><g class=\"xaxislayer-above\"><g class=\"xtick\"><text text-anchor=\"start\" x=\"0\" y=\"393\" transform=\"translate(103.7,0) rotate(30,0,387)\" style=\"font-family: 'Open Sans', verdana, arial, sans-serif; font-size: 12px; fill: rgb(42, 63, 95); fill-opacity: 1; white-space: pre; opacity: 1;\">saudade_sleep_repeat</text></g><g class=\"xtick\"><text text-anchor=\"start\" x=\"0\" y=\"393\" transform=\"translate(151.1,0) rotate(30,0,387)\" style=\"font-family: 'Open Sans', verdana, arial, sans-serif; font-size: 12px; fill: rgb(42, 63, 95); fill-opacity: 1; white-space: pre; opacity: 1;\">Technical-Waltz931</text></g><g class=\"xtick\"><text text-anchor=\"start\" x=\"0\" y=\"393\" transform=\"translate(198.5,0) rotate(30,0,387)\" style=\"font-family: 'Open Sans', verdana, arial, sans-serif; font-size: 12px; fill: rgb(42, 63, 95); fill-opacity: 1; white-space: pre; opacity: 1;\">thehealer420</text></g><g class=\"xtick\"><text text-anchor=\"start\" x=\"0\" y=\"393\" transform=\"translate(245.9,0) rotate(30,0,387)\" style=\"font-family: 'Open Sans', verdana, arial, sans-serif; font-size: 12px; fill: rgb(42, 63, 95); fill-opacity: 1; white-space: pre; opacity: 1;\">horniestthrowaway563</text></g><g class=\"xtick\"><text text-anchor=\"start\" x=\"0\" y=\"393\" transform=\"translate(293.3,0) rotate(30,0,387)\" style=\"font-family: 'Open Sans', verdana, arial, sans-serif; font-size: 12px; fill: rgb(42, 63, 95); fill-opacity: 1; white-space: pre; opacity: 1;\">nenihi</text></g><g class=\"xtick\"><text text-anchor=\"start\" x=\"0\" y=\"393\" transform=\"translate(340.7,0) rotate(30,0,387)\" style=\"font-family: 'Open Sans', verdana, arial, sans-serif; font-size: 12px; fill: rgb(42, 63, 95); fill-opacity: 1; white-space: pre; opacity: 1;\">alejoconejolex</text></g><g class=\"xtick\"><text text-anchor=\"start\" x=\"0\" y=\"393\" transform=\"translate(388.1,0) rotate(30,0,387)\" style=\"font-family: 'Open Sans', verdana, arial, sans-serif; font-size: 12px; fill: rgb(42, 63, 95); fill-opacity: 1; white-space: pre; opacity: 1;\">B-Jeff</text></g><g class=\"xtick\"><text text-anchor=\"start\" x=\"0\" y=\"393\" transform=\"translate(435.5,0) rotate(30,0,387)\" style=\"font-family: 'Open Sans', verdana, arial, sans-serif; font-size: 12px; fill: rgb(42, 63, 95); fill-opacity: 1; white-space: pre; opacity: 1;\">Quitsy06</text></g><g class=\"xtick\"><text text-anchor=\"start\" x=\"0\" y=\"393\" transform=\"translate(482.9,0) rotate(30,0,387)\" style=\"font-family: 'Open Sans', verdana, arial, sans-serif; font-size: 12px; fill: rgb(42, 63, 95); fill-opacity: 1; white-space: pre; opacity: 1;\">nick57490</text></g><g class=\"xtick\"><text text-anchor=\"start\" x=\"0\" y=\"393\" transform=\"translate(530.3,0) rotate(30,0,387)\" style=\"font-family: 'Open Sans', verdana, arial, sans-serif; font-size: 12px; fill: rgb(42, 63, 95); fill-opacity: 1; white-space: pre; opacity: 1;\">nobbby438</text></g><g class=\"xtick\"><text text-anchor=\"start\" x=\"0\" y=\"393\" transform=\"translate(577.7,0) rotate(30,0,387)\" style=\"font-family: 'Open Sans', verdana, arial, sans-serif; font-size: 12px; fill: rgb(42, 63, 95); fill-opacity: 1; white-space: pre; opacity: 1;\">Armpitlicker_94</text></g><g class=\"xtick\"><text text-anchor=\"start\" x=\"0\" y=\"393\" transform=\"translate(625.1,0) rotate(30,0,387)\" style=\"font-family: 'Open Sans', verdana, arial, sans-serif; font-size: 12px; fill: rgb(42, 63, 95); fill-opacity: 1; white-space: pre; opacity: 1;\">WhosDadIsThat</text></g><g class=\"xtick\"><text text-anchor=\"start\" x=\"0\" y=\"393\" transform=\"translate(672.5,0) rotate(30,0,387)\" style=\"font-family: 'Open Sans', verdana, arial, sans-serif; font-size: 12px; fill: rgb(42, 63, 95); fill-opacity: 1; white-space: pre; opacity: 1;\">EnnyRay</text></g><g class=\"xtick\"><text text-anchor=\"start\" x=\"0\" y=\"393\" transform=\"translate(719.9,0) rotate(30,0,387)\" style=\"font-family: 'Open Sans', verdana, arial, sans-serif; font-size: 12px; fill: rgb(42, 63, 95); fill-opacity: 1; white-space: pre; opacity: 1;\">OldestSheldon</text></g><g class=\"xtick\"><text text-anchor=\"start\" x=\"0\" y=\"393\" transform=\"translate(767.3,0) rotate(30,0,387)\" style=\"font-family: 'Open Sans', verdana, arial, sans-serif; font-size: 12px; fill: rgb(42, 63, 95); fill-opacity: 1; white-space: pre; opacity: 1;\">UnexpectedClownRape</text></g></g><g class=\"yaxislayer-above\"><g class=\"ytick\"><text text-anchor=\"end\" x=\"79\" y=\"4.199999999999999\" transform=\"translate(0,380)\" style=\"font-family: 'Open Sans', verdana, arial, sans-serif; font-size: 12px; fill: rgb(42, 63, 95); fill-opacity: 1; white-space: pre; opacity: 1;\">0</text></g><g class=\"ytick\"><text text-anchor=\"end\" x=\"79\" y=\"4.199999999999999\" style=\"font-family: 'Open Sans', verdana, arial, sans-serif; font-size: 12px; fill: rgb(42, 63, 95); fill-opacity: 1; white-space: pre; opacity: 1;\" transform=\"translate(0,342)\">0.5</text></g><g class=\"ytick\"><text text-anchor=\"end\" x=\"79\" y=\"4.199999999999999\" style=\"font-family: 'Open Sans', verdana, arial, sans-serif; font-size: 12px; fill: rgb(42, 63, 95); fill-opacity: 1; white-space: pre; opacity: 1;\" transform=\"translate(0,304)\">1</text></g><g class=\"ytick\"><text text-anchor=\"end\" x=\"79\" y=\"4.199999999999999\" style=\"font-family: 'Open Sans', verdana, arial, sans-serif; font-size: 12px; fill: rgb(42, 63, 95); fill-opacity: 1; white-space: pre; opacity: 1;\" transform=\"translate(0,266)\">1.5</text></g><g class=\"ytick\"><text text-anchor=\"end\" x=\"79\" y=\"4.199999999999999\" style=\"font-family: 'Open Sans', verdana, arial, sans-serif; font-size: 12px; fill: rgb(42, 63, 95); fill-opacity: 1; white-space: pre; opacity: 1;\" transform=\"translate(0,228)\">2</text></g><g class=\"ytick\"><text text-anchor=\"end\" x=\"79\" y=\"4.199999999999999\" style=\"font-family: 'Open Sans', verdana, arial, sans-serif; font-size: 12px; fill: rgb(42, 63, 95); fill-opacity: 1; white-space: pre; opacity: 1;\" transform=\"translate(0,190)\">2.5</text></g><g class=\"ytick\"><text text-anchor=\"end\" x=\"79\" y=\"4.199999999999999\" style=\"font-family: 'Open Sans', verdana, arial, sans-serif; font-size: 12px; fill: rgb(42, 63, 95); fill-opacity: 1; white-space: pre; opacity: 1;\" transform=\"translate(0,152)\">3</text></g><g class=\"ytick\"><text text-anchor=\"end\" x=\"79\" y=\"4.199999999999999\" style=\"font-family: 'Open Sans', verdana, arial, sans-serif; font-size: 12px; fill: rgb(42, 63, 95); fill-opacity: 1; white-space: pre; opacity: 1;\" transform=\"translate(0,114)\">3.5</text></g><g class=\"ytick\"><text text-anchor=\"end\" x=\"79\" y=\"4.199999999999999\" style=\"font-family: 'Open Sans', verdana, arial, sans-serif; font-size: 12px; fill: rgb(42, 63, 95); fill-opacity: 1; white-space: pre; opacity: 1;\" transform=\"translate(0,76)\">4</text></g></g><g class=\"overaxes-above\"/></g></g><g class=\"polarlayer\"/><g class=\"ternarylayer\"/><g class=\"geolayer\"/><g class=\"funnelarealayer\"/><g class=\"pielayer\"/><g class=\"iciclelayer\"/><g class=\"treemaplayer\"/><g class=\"sunburstlayer\"/><g class=\"glimages\"/><defs id=\"topdefs-15b5fe\"><g class=\"clips\"/></defs><g class=\"layer-above\"><g class=\"imagelayer\"/><g class=\"shapelayer\"/></g><g class=\"infolayer\"><g class=\"g-gtitle\"><text class=\"gtitle\" x=\"450\" y=\"30\" text-anchor=\"middle\" dy=\"0em\" style=\"font-family: 'Open Sans', verdana, arial, sans-serif; font-size: 17px; fill: rgb(42, 63, 95); opacity: 1; font-weight: normal; white-space: pre;\">Unverified accounts with minimum link karma</text></g><g class=\"g-xtitle\"><text class=\"xtitle\" x=\"435.5\" y=\"488.2970703125\" text-anchor=\"middle\" style=\"font-family: 'Open Sans', verdana, arial, sans-serif; font-size: 14px; fill: rgb(42, 63, 95); opacity: 1; font-weight: normal; white-space: pre;\">user name</text></g><g class=\"g-ytitle\"><text class=\"ytitle\" transform=\"rotate(-90,34.575,220)\" x=\"34.575\" y=\"220\" text-anchor=\"middle\" style=\"font-family: 'Open Sans', verdana, arial, sans-serif; font-size: 14px; fill: rgb(42, 63, 95); opacity: 1; font-weight: normal; white-space: pre;\">link_karma</text></g></g></svg>"
      ]
     },
     "metadata": {},
     "output_type": "display_data"
    }
   ],
   "source": [
    "# Filter on minimum link karma\n",
    "\n",
    "df_link_low = df_unverified.sort_values('link_karma').head(20)\n",
    "\n",
    "fig = px.bar(df_link_low,\n",
    "             x='user_name', \n",
    "             y=df_link_low.link_karma, \n",
    "             text = df_link_low.link_karma)\n",
    "\n",
    "fig.update_layout(title_text='Unverified accounts with minimum link karma', title_x=0.5)\n",
    "\n",
    "fig.update_layout(\n",
    "    xaxis = dict(\n",
    "        title='user name',\n",
    "        tickmode = 'array',\n",
    "        tickvals = df_link_low.user_name,\n",
    "    )\n",
    ")\n",
    "\n",
    "clrs = ['red' if (y < -60) else '#5296dd' for y in df_link_low.link_karma]\n",
    "\n",
    "fig.update_traces(marker_color=clrs,\n",
    "                  marker_line_width=2, opacity=1, textposition='auto')\n",
    "\n",
    "\n",
    "fig.show()"
   ]
  },
  {
   "cell_type": "markdown",
   "id": "a201d6bb",
   "metadata": {},
   "source": [
    "<a id='minimum_comment_karma'></a>\n",
    ">>### Explore unverified accounts with the minimum comment karma\n",
    "\n",
    "<ul>\n",
    "<li><a href=\"#largest_link_karma\">Unverified Accounts With The Largest Link Karma</a></li>   \n",
    "<li><a href=\"#largest_comment_karma\">Unverified Accounts With The Largest Comment Karma</a></li>\n",
    "    <br>\n",
    "<li><a href=\"#minimum_link_karma\">Unverified Accounts With The Minimum Link Karma</a></li>\n",
    "<li><a href=\"#minimum_comment_karma\"><b><mark>Unverified Accounts With The Minimum Comment Karma</mark></b></a></li>\n",
    "    <br>\n",
    "<li><a href=\"#largest_scores\">Explore the largest scores</a></li>\n",
    "<li><a href=\"#minimum_scores\">Explore the minimum scores</a></li>\n",
    "    <br>\n",
    "<li><a href=\"#unverified_contributions\">Contributions of Unverified accounts in 2021</a></li>\n",
    "<li><a href=\"#unverified_creations\">Creation years of the unverified accounts contributed in 2021</a></li>\n",
    "<li><a href=\"#unverified_peak\">Unverified Contributions Peaks</a></li>\n",
    "</ul>"
   ]
  },
  {
   "cell_type": "code",
   "execution_count": 59,
   "id": "014bce07",
   "metadata": {},
   "outputs": [
    {
     "data": {
      "image/svg+xml": [
       "<svg class=\"main-svg\" xmlns=\"http://www.w3.org/2000/svg\" xmlns:xlink=\"http://www.w3.org/1999/xlink\" width=\"900\" height=\"500\" style=\"\" viewBox=\"0 0 900 500\"><rect x=\"0\" y=\"0\" width=\"900\" height=\"500\" style=\"fill: rgb(255, 255, 255); fill-opacity: 1;\"/><defs id=\"defs-898c5a\"><g class=\"clips\"><clipPath id=\"clip898c5axyplot\" class=\"plotclip\"><rect width=\"740\" height=\"298\"/></clipPath><clipPath class=\"axesclip\" id=\"clip898c5ax\"><rect x=\"80\" y=\"0\" width=\"740\" height=\"500\"/></clipPath><clipPath class=\"axesclip\" id=\"clip898c5ay\"><rect x=\"0\" y=\"122\" width=\"900\" height=\"298\"/></clipPath><clipPath class=\"axesclip\" id=\"clip898c5axy\"><rect x=\"80\" y=\"122\" width=\"740\" height=\"298\"/></clipPath></g><g class=\"gradients\"/><g class=\"patterns\"/></defs><g class=\"bglayer\"><rect class=\"bg\" x=\"80\" y=\"122\" width=\"740\" height=\"298\" style=\"fill: rgb(229, 236, 246); fill-opacity: 1; stroke-width: 0;\"/></g><g class=\"layer-below\"><g class=\"imagelayer\"/><g class=\"shapelayer\"/></g><g class=\"cartesianlayer\"><g class=\"subplot xy\"><g class=\"layer-subplot\"><g class=\"shapelayer\"/><g class=\"imagelayer\"/></g><g class=\"gridlayer\"><g class=\"x\"/><g class=\"y\"><path class=\"ygrid crisp\" transform=\"translate(0,390.09)\" d=\"M80,0h740\" style=\"stroke: rgb(255, 255, 255); stroke-opacity: 1; stroke-width: 1px;\"/><path class=\"ygrid crisp\" transform=\"translate(0,336.47)\" d=\"M80,0h740\" style=\"stroke: rgb(255, 255, 255); stroke-opacity: 1; stroke-width: 1px;\"/><path class=\"ygrid crisp\" transform=\"translate(0,282.85)\" d=\"M80,0h740\" style=\"stroke: rgb(255, 255, 255); stroke-opacity: 1; stroke-width: 1px;\"/><path class=\"ygrid crisp\" transform=\"translate(0,229.23000000000002)\" d=\"M80,0h740\" style=\"stroke: rgb(255, 255, 255); stroke-opacity: 1; stroke-width: 1px;\"/><path class=\"ygrid crisp\" transform=\"translate(0,175.62)\" d=\"M80,0h740\" style=\"stroke: rgb(255, 255, 255); stroke-opacity: 1; stroke-width: 1px;\"/></g></g><g class=\"zerolinelayer\"><path class=\"yzl zl crisp\" transform=\"translate(0,122)\" d=\"M80,0h740\" style=\"stroke: rgb(255, 255, 255); stroke-opacity: 1; stroke-width: 2px;\"/></g><path class=\"xlines-below\"/><path class=\"ylines-below\"/><g class=\"overlines-below\"/><g class=\"xaxislayer-below\"/><g class=\"yaxislayer-below\"/><g class=\"overaxes-below\"/><g class=\"plot\" transform=\"translate(80,122)\" clip-path=\"url(#clip898c5axyplot)\"><g class=\"barlayer mlayer\"><g class=\"trace bars\" style=\"opacity: 1;\"><g class=\"points\"><g class=\"point\"><path d=\"M5.69,0V107.23H51.23V0Z\" style=\"vector-effect: non-scaling-stroke; opacity: 1; stroke-width: 2px; fill: rgb(255, 0, 0); fill-opacity: 1; stroke: rgb(229, 236, 246); stroke-opacity: 1;\"/><text class=\"bartext bartext-inside\" text-anchor=\"middle\" data-notex=\"1\" x=\"0\" y=\"0\" style=\"font-family: 'Open Sans', verdana, arial, sans-serif; font-size: 12px; fill: rgb(255, 255, 255); fill-opacity: 1; white-space: pre;\" transform=\"translate(28.2725,88.370625)rotate(90 0.1875 -4.5)\">-100.0</text></g><g class=\"point\"><path d=\"M62.62,0V107.23H108.15V0Z\" style=\"vector-effect: non-scaling-stroke; opacity: 1; stroke-width: 2px; fill: rgb(255, 0, 0); fill-opacity: 1; stroke: rgb(229, 236, 246); stroke-opacity: 1;\"/><text class=\"bartext bartext-inside\" text-anchor=\"middle\" data-notex=\"1\" x=\"0\" y=\"0\" style=\"font-family: 'Open Sans', verdana, arial, sans-serif; font-size: 12px; fill: rgb(255, 255, 255); fill-opacity: 1; white-space: pre;\" transform=\"translate(85.1975,88.370625)rotate(90 0.1875 -4.5)\">-100.0</text></g><g class=\"point\"><path d=\"M119.54,0V35.39H165.08V0Z\" style=\"vector-effect: non-scaling-stroke; opacity: 1; stroke-width: 2px; fill: rgb(255, 0, 0); fill-opacity: 1; stroke: rgb(229, 236, 246); stroke-opacity: 1;\"/><text class=\"bartext bartext-inside\" text-anchor=\"middle\" data-notex=\"1\" x=\"0\" y=\"0\" style=\"font-family: 'Open Sans', verdana, arial, sans-serif; font-size: 12px; fill: rgb(255, 255, 255); fill-opacity: 1; white-space: pre;\" transform=\"translate(142.1225,29.39)\">-33.0</text></g><g class=\"point\"><path d=\"M119.54,35.39V70.77H165.08V35.39Z\" style=\"vector-effect: non-scaling-stroke; opacity: 1; stroke-width: 2px; fill: rgb(255, 0, 0); fill-opacity: 1; stroke: rgb(229, 236, 246); stroke-opacity: 1;\"/><text class=\"bartext bartext-inside\" text-anchor=\"middle\" data-notex=\"1\" x=\"0\" y=\"0\" style=\"font-family: 'Open Sans', verdana, arial, sans-serif; font-size: 12px; fill: rgb(255, 255, 255); fill-opacity: 1; white-space: pre;\" transform=\"translate(142.1225,64.77)\">-33.0</text></g><g class=\"point\"><path d=\"M119.54,70.77V106.16H165.08V70.77Z\" style=\"vector-effect: non-scaling-stroke; opacity: 1; stroke-width: 2px; fill: rgb(255, 0, 0); fill-opacity: 1; stroke: rgb(229, 236, 246); stroke-opacity: 1;\"/><text class=\"bartext bartext-inside\" text-anchor=\"middle\" data-notex=\"1\" x=\"0\" y=\"0\" style=\"font-family: 'Open Sans', verdana, arial, sans-serif; font-size: 12px; fill: rgb(255, 255, 255); fill-opacity: 1; white-space: pre;\" transform=\"translate(142.1225,100.16)\">-33.0</text></g><g class=\"point\"><path d=\"M119.54,106.16V141.55H165.08V106.16Z\" style=\"vector-effect: non-scaling-stroke; opacity: 1; stroke-width: 2px; fill: rgb(255, 0, 0); fill-opacity: 1; stroke: rgb(229, 236, 246); stroke-opacity: 1;\"/><text class=\"bartext bartext-inside\" text-anchor=\"middle\" data-notex=\"1\" x=\"0\" y=\"0\" style=\"font-family: 'Open Sans', verdana, arial, sans-serif; font-size: 12px; fill: rgb(255, 255, 255); fill-opacity: 1; white-space: pre;\" transform=\"translate(142.1225,135.55)\">-33.0</text></g><g class=\"point\"><path d=\"M119.54,141.55V176.94H165.08V141.55Z\" style=\"vector-effect: non-scaling-stroke; opacity: 1; stroke-width: 2px; fill: rgb(255, 0, 0); fill-opacity: 1; stroke: rgb(229, 236, 246); stroke-opacity: 1;\"/><text class=\"bartext bartext-inside\" text-anchor=\"middle\" data-notex=\"1\" x=\"0\" y=\"0\" style=\"font-family: 'Open Sans', verdana, arial, sans-serif; font-size: 12px; fill: rgb(255, 255, 255); fill-opacity: 1; white-space: pre;\" transform=\"translate(142.1225,170.94)\">-33.0</text></g><g class=\"point\"><path d=\"M119.54,176.94V212.33H165.08V176.94Z\" style=\"vector-effect: non-scaling-stroke; opacity: 1; stroke-width: 2px; fill: rgb(255, 0, 0); fill-opacity: 1; stroke: rgb(229, 236, 246); stroke-opacity: 1;\"/><text class=\"bartext bartext-inside\" text-anchor=\"middle\" data-notex=\"1\" x=\"0\" y=\"0\" style=\"font-family: 'Open Sans', verdana, arial, sans-serif; font-size: 12px; fill: rgb(255, 255, 255); fill-opacity: 1; white-space: pre;\" transform=\"translate(142.1225,206.33)\">-33.0</text></g><g class=\"point\"><path d=\"M119.54,212.33V247.71H165.08V212.33Z\" style=\"vector-effect: non-scaling-stroke; opacity: 1; stroke-width: 2px; fill: rgb(255, 0, 0); fill-opacity: 1; stroke: rgb(229, 236, 246); stroke-opacity: 1;\"/><text class=\"bartext bartext-inside\" text-anchor=\"middle\" data-notex=\"1\" x=\"0\" y=\"0\" style=\"font-family: 'Open Sans', verdana, arial, sans-serif; font-size: 12px; fill: rgb(255, 255, 255); fill-opacity: 1; white-space: pre;\" transform=\"translate(142.1225,241.71)\">-33.0</text></g><g class=\"point\"><path d=\"M119.54,247.71V283.1H165.08V247.71Z\" style=\"vector-effect: non-scaling-stroke; opacity: 1; stroke-width: 2px; fill: rgb(255, 0, 0); fill-opacity: 1; stroke: rgb(229, 236, 246); stroke-opacity: 1;\"/><text class=\"bartext bartext-inside\" text-anchor=\"middle\" data-notex=\"1\" x=\"0\" y=\"0\" style=\"font-family: 'Open Sans', verdana, arial, sans-serif; font-size: 12px; fill: rgb(255, 255, 255); fill-opacity: 1; white-space: pre;\" transform=\"translate(142.1225,277.1)\">-33.0</text></g><g class=\"point\"><path d=\"M176.46,0V24.66H222V0Z\" style=\"vector-effect: non-scaling-stroke; opacity: 1; stroke-width: 2px; fill: rgb(82, 150, 221); fill-opacity: 1; stroke: rgb(229, 236, 246); stroke-opacity: 1;\"/><text class=\"bartext bartext-inside\" text-anchor=\"middle\" data-notex=\"1\" x=\"0\" y=\"0\" style=\"font-family: 'Open Sans', verdana, arial, sans-serif; font-size: 12px; fill: rgb(68, 68, 68); fill-opacity: 1; white-space: pre;\" transform=\"translate(199.04250000000002,18.66)\">-23.0</text></g><g class=\"point\"><path d=\"M233.38,0V16.09H278.92V0Z\" style=\"vector-effect: non-scaling-stroke; opacity: 1; stroke-width: 2px; fill: rgb(82, 150, 221); fill-opacity: 1; stroke: rgb(229, 236, 246); stroke-opacity: 1;\"/><text class=\"bartext bartext-outside\" text-anchor=\"middle\" data-notex=\"1\" x=\"0\" y=\"0\" style=\"font-family: 'Open Sans', verdana, arial, sans-serif; font-size: 12px; fill: rgb(42, 63, 95); fill-opacity: 1; white-space: pre;\" transform=\"translate(255.96249999999998,31.09)\">-15.0</text></g><g class=\"point\"><path d=\"M290.31,0V13.94H335.85V0Z\" style=\"vector-effect: non-scaling-stroke; opacity: 1; stroke-width: 2px; fill: rgb(82, 150, 221); fill-opacity: 1; stroke: rgb(229, 236, 246); stroke-opacity: 1;\"/><text class=\"bartext bartext-outside\" text-anchor=\"middle\" data-notex=\"1\" x=\"0\" y=\"0\" style=\"font-family: 'Open Sans', verdana, arial, sans-serif; font-size: 12px; fill: rgb(42, 63, 95); fill-opacity: 1; white-space: pre;\" transform=\"translate(312.89250000000004,28.939999999999998)\">-13.0</text></g><g class=\"point\"><path d=\"M347.23,0V5.36H392.77V0Z\" style=\"vector-effect: non-scaling-stroke; opacity: 1; stroke-width: 2px; fill: rgb(82, 150, 221); fill-opacity: 1; stroke: rgb(229, 236, 246); stroke-opacity: 1;\"/><text class=\"bartext bartext-outside\" text-anchor=\"middle\" data-notex=\"1\" x=\"0\" y=\"0\" style=\"font-family: 'Open Sans', verdana, arial, sans-serif; font-size: 12px; fill: rgb(42, 63, 95); fill-opacity: 1; white-space: pre;\" transform=\"translate(369.8125,20.36)\">-5.0</text></g><g class=\"point\"><path d=\"M404.15,0V5.36H449.69V0Z\" style=\"vector-effect: non-scaling-stroke; opacity: 1; stroke-width: 2px; fill: rgb(82, 150, 221); fill-opacity: 1; stroke: rgb(229, 236, 246); stroke-opacity: 1;\"/><text class=\"bartext bartext-outside\" text-anchor=\"middle\" data-notex=\"1\" x=\"0\" y=\"0\" style=\"font-family: 'Open Sans', verdana, arial, sans-serif; font-size: 12px; fill: rgb(42, 63, 95); fill-opacity: 1; white-space: pre;\" transform=\"translate(426.73249999999996,20.36)\">-5.0</text></g><g class=\"point\"><path d=\"M461.08,0V4.29H506.62V0Z\" style=\"vector-effect: non-scaling-stroke; opacity: 1; stroke-width: 2px; fill: rgb(82, 150, 221); fill-opacity: 1; stroke: rgb(229, 236, 246); stroke-opacity: 1;\"/><text class=\"bartext bartext-outside\" text-anchor=\"middle\" data-notex=\"1\" x=\"0\" y=\"0\" style=\"font-family: 'Open Sans', verdana, arial, sans-serif; font-size: 12px; fill: rgb(42, 63, 95); fill-opacity: 1; white-space: pre;\" transform=\"translate(483.6625,19.29)\">-4.0</text></g><g class=\"point\"><path d=\"M518,0V3.22H563.54V0Z\" style=\"vector-effect: non-scaling-stroke; opacity: 1; stroke-width: 2px; fill: rgb(82, 150, 221); fill-opacity: 1; stroke: rgb(229, 236, 246); stroke-opacity: 1;\"/><text class=\"bartext bartext-outside\" text-anchor=\"middle\" data-notex=\"1\" x=\"0\" y=\"0\" style=\"font-family: 'Open Sans', verdana, arial, sans-serif; font-size: 12px; fill: rgb(42, 63, 95); fill-opacity: 1; white-space: pre;\" transform=\"translate(540.5825,18.22)\">-3.0</text></g><g class=\"point\"><path d=\"M574.92,0V3.22H620.46V0Z\" style=\"vector-effect: non-scaling-stroke; opacity: 1; stroke-width: 2px; fill: rgb(82, 150, 221); fill-opacity: 1; stroke: rgb(229, 236, 246); stroke-opacity: 1;\"/><text class=\"bartext bartext-outside\" text-anchor=\"middle\" data-notex=\"1\" x=\"0\" y=\"0\" style=\"font-family: 'Open Sans', verdana, arial, sans-serif; font-size: 12px; fill: rgb(42, 63, 95); fill-opacity: 1; white-space: pre;\" transform=\"translate(597.5025,18.22)\">-3.0</text></g><g class=\"point\"><path d=\"M631.85,0V0H677.38V0Z\" style=\"vector-effect: non-scaling-stroke; opacity: 1; stroke-width: 2px; fill: rgb(82, 150, 221); fill-opacity: 1; stroke: rgb(229, 236, 246); stroke-opacity: 1;\"/></g><g class=\"point\"><path d=\"M688.77,0V0H734.31V0Z\" style=\"vector-effect: non-scaling-stroke; opacity: 1; stroke-width: 2px; fill: rgb(82, 150, 221); fill-opacity: 1; stroke: rgb(229, 236, 246); stroke-opacity: 1;\"/></g></g></g></g></g><g class=\"overplot\"/><path class=\"xlines-above crisp\" d=\"M0,0\" style=\"fill: none;\"/><path class=\"ylines-above crisp\" d=\"M0,0\" style=\"fill: none;\"/><g class=\"overlines-above\"/><g class=\"xaxislayer-above\"><g class=\"xtick\"><text text-anchor=\"end\" x=\"0\" y=\"118.6\" transform=\"translate(108.46000000000001,0) rotate(30,0,112.6)\" style=\"font-family: 'Open Sans', verdana, arial, sans-serif; font-size: 12px; fill: rgb(42, 63, 95); fill-opacity: 1; white-space: pre; opacity: 1;\">Bot_EmojiBae</text></g><g class=\"xtick\"><text text-anchor=\"end\" x=\"0\" y=\"118.6\" transform=\"translate(165.38,0) rotate(30,0,112.6)\" style=\"font-family: 'Open Sans', verdana, arial, sans-serif; font-size: 12px; fill: rgb(42, 63, 95); fill-opacity: 1; white-space: pre; opacity: 1;\">DogPrune</text></g><g class=\"xtick\"><text text-anchor=\"end\" x=\"0\" y=\"118.6\" transform=\"translate(222.31,0) rotate(30,0,112.6)\" style=\"font-family: 'Open Sans', verdana, arial, sans-serif; font-size: 12px; fill: rgb(42, 63, 95); fill-opacity: 1; white-space: pre; opacity: 1;\">IgotThisAppForMemes8</text></g><g class=\"xtick\"><text text-anchor=\"end\" x=\"0\" y=\"118.6\" transform=\"translate(279.23,0) rotate(30,0,112.6)\" style=\"font-family: 'Open Sans', verdana, arial, sans-serif; font-size: 12px; fill: rgb(42, 63, 95); fill-opacity: 1; white-space: pre; opacity: 1;\">thatgamerguy567</text></g><g class=\"xtick\"><text text-anchor=\"end\" x=\"0\" y=\"118.6\" transform=\"translate(336.15,0) rotate(30,0,112.6)\" style=\"font-family: 'Open Sans', verdana, arial, sans-serif; font-size: 12px; fill: rgb(42, 63, 95); fill-opacity: 1; white-space: pre; opacity: 1;\">onexunited</text></g><g class=\"xtick\"><text text-anchor=\"end\" x=\"0\" y=\"118.6\" transform=\"translate(393.08,0) rotate(30,0,112.6)\" style=\"font-family: 'Open Sans', verdana, arial, sans-serif; font-size: 12px; fill: rgb(42, 63, 95); fill-opacity: 1; white-space: pre; opacity: 1;\">moldycheese999</text></g><g class=\"xtick\"><text text-anchor=\"end\" x=\"0\" y=\"118.6\" transform=\"translate(450,0) rotate(30,0,112.6)\" style=\"font-family: 'Open Sans', verdana, arial, sans-serif; font-size: 12px; fill: rgb(42, 63, 95); fill-opacity: 1; white-space: pre; opacity: 1;\">thebadfemale99</text></g><g class=\"xtick\"><text text-anchor=\"end\" x=\"0\" y=\"118.6\" transform=\"translate(506.92,0) rotate(30,0,112.6)\" style=\"font-family: 'Open Sans', verdana, arial, sans-serif; font-size: 12px; fill: rgb(42, 63, 95); fill-opacity: 1; white-space: pre; opacity: 1;\">killaminj</text></g><g class=\"xtick\"><text text-anchor=\"end\" x=\"0\" y=\"118.6\" transform=\"translate(563.85,0) rotate(30,0,112.6)\" style=\"font-family: 'Open Sans', verdana, arial, sans-serif; font-size: 12px; fill: rgb(42, 63, 95); fill-opacity: 1; white-space: pre; opacity: 1;\">Ty_Needik</text></g><g class=\"xtick\"><text text-anchor=\"end\" x=\"0\" y=\"118.6\" transform=\"translate(620.77,0) rotate(30,0,112.6)\" style=\"font-family: 'Open Sans', verdana, arial, sans-serif; font-size: 12px; fill: rgb(42, 63, 95); fill-opacity: 1; white-space: pre; opacity: 1;\">huncho919</text></g><g class=\"xtick\"><text text-anchor=\"end\" x=\"0\" y=\"118.6\" transform=\"translate(677.69,0) rotate(30,0,112.6)\" style=\"font-family: 'Open Sans', verdana, arial, sans-serif; font-size: 12px; fill: rgb(42, 63, 95); fill-opacity: 1; white-space: pre; opacity: 1;\">anonymous1234512</text></g><g class=\"xtick\"><text text-anchor=\"end\" x=\"0\" y=\"118.6\" transform=\"translate(734.62,0) rotate(30,0,112.6)\" style=\"font-family: 'Open Sans', verdana, arial, sans-serif; font-size: 12px; fill: rgb(42, 63, 95); fill-opacity: 1; white-space: pre; opacity: 1;\">SevenNewsRj</text></g><g class=\"xtick\"><text text-anchor=\"end\" x=\"0\" y=\"118.6\" transform=\"translate(791.54,0) rotate(30,0,112.6)\" style=\"font-family: 'Open Sans', verdana, arial, sans-serif; font-size: 12px; fill: rgb(42, 63, 95); fill-opacity: 1; white-space: pre; opacity: 1;\">Persohosh</text></g></g><g class=\"yaxislayer-above\"><g class=\"ytick\"><text text-anchor=\"end\" x=\"79\" y=\"4.199999999999999\" transform=\"translate(0,390.09)\" style=\"font-family: 'Open Sans', verdana, arial, sans-serif; font-size: 12px; fill: rgb(42, 63, 95); fill-opacity: 1; white-space: pre; opacity: 1;\">−250</text></g><g class=\"ytick\"><text text-anchor=\"end\" x=\"79\" y=\"4.199999999999999\" style=\"font-family: 'Open Sans', verdana, arial, sans-serif; font-size: 12px; fill: rgb(42, 63, 95); fill-opacity: 1; white-space: pre; opacity: 1;\" transform=\"translate(0,336.47)\">−200</text></g><g class=\"ytick\"><text text-anchor=\"end\" x=\"79\" y=\"4.199999999999999\" style=\"font-family: 'Open Sans', verdana, arial, sans-serif; font-size: 12px; fill: rgb(42, 63, 95); fill-opacity: 1; white-space: pre; opacity: 1;\" transform=\"translate(0,282.85)\">−150</text></g><g class=\"ytick\"><text text-anchor=\"end\" x=\"79\" y=\"4.199999999999999\" style=\"font-family: 'Open Sans', verdana, arial, sans-serif; font-size: 12px; fill: rgb(42, 63, 95); fill-opacity: 1; white-space: pre; opacity: 1;\" transform=\"translate(0,229.23000000000002)\">−100</text></g><g class=\"ytick\"><text text-anchor=\"end\" x=\"79\" y=\"4.199999999999999\" style=\"font-family: 'Open Sans', verdana, arial, sans-serif; font-size: 12px; fill: rgb(42, 63, 95); fill-opacity: 1; white-space: pre; opacity: 1;\" transform=\"translate(0,175.62)\">−50</text></g><g class=\"ytick\"><text text-anchor=\"end\" x=\"79\" y=\"4.199999999999999\" style=\"font-family: 'Open Sans', verdana, arial, sans-serif; font-size: 12px; fill: rgb(42, 63, 95); fill-opacity: 1; white-space: pre; opacity: 1;\" transform=\"translate(0,122)\">0</text></g></g><g class=\"overaxes-above\"/></g></g><g class=\"polarlayer\"/><g class=\"ternarylayer\"/><g class=\"geolayer\"/><g class=\"funnelarealayer\"/><g class=\"pielayer\"/><g class=\"iciclelayer\"/><g class=\"treemaplayer\"/><g class=\"sunburstlayer\"/><g class=\"glimages\"/><defs id=\"topdefs-898c5a\"><g class=\"clips\"/></defs><g class=\"layer-above\"><g class=\"imagelayer\"/><g class=\"shapelayer\"/></g><g class=\"infolayer\"><g class=\"g-gtitle\"><text class=\"gtitle\" x=\"450\" y=\"450\" text-anchor=\"middle\" dy=\"0em\" style=\"font-family: 'Open Sans', verdana, arial, sans-serif; font-size: 17px; fill: rgb(42, 63, 95); opacity: 1; font-weight: normal; white-space: pre;\">Unverified accounts with minimum comment karma</text></g><g class=\"g-xtitle\" transform=\"translate(0,2.003124999999997)\"><text class=\"xtitle\" x=\"450\" y=\"11.996875000000003\" text-anchor=\"middle\" style=\"font-family: 'Open Sans', verdana, arial, sans-serif; font-size: 14px; fill: rgb(42, 63, 95); opacity: 1; font-weight: normal; white-space: pre;\">user name</text></g><g class=\"g-ytitle\"><text class=\"ytitle\" transform=\"rotate(-90,21.481250000000003,271)\" x=\"21.481250000000003\" y=\"271\" text-anchor=\"middle\" style=\"font-family: 'Open Sans', verdana, arial, sans-serif; font-size: 14px; fill: rgb(42, 63, 95); opacity: 1; font-weight: normal; white-space: pre;\">comment_karma</text></g></g></svg>"
      ]
     },
     "metadata": {},
     "output_type": "display_data"
    }
   ],
   "source": [
    "# Filter on minimum comment karma\n",
    "\n",
    "df_comment_low = df_unverified.sort_values('comment_karma').head(20)\n",
    "\n",
    "fig = px.bar(df_comment_low,\n",
    "             x='user_name', \n",
    "             y=df_comment_low.comment_karma, \n",
    "             text = df_comment_low.comment_karma)\n",
    "\n",
    "fig.update_layout(title_text='Unverified accounts with minimum comment karma', title_x=0.5, title_y=0.1)\n",
    "\n",
    "fig.update_layout(\n",
    "    xaxis = dict(\n",
    "        side='top',\n",
    "        title='user name',\n",
    "        tickmode = 'array',\n",
    "        tickvals = df_comment_low.user_name,\n",
    "    )\n",
    ")\n",
    "\n",
    "clrs = ['red' if (y < -30) else '#5296dd' for y in df_comment_low.comment_karma]\n",
    "\n",
    "fig.update_traces(marker_color=clrs,\n",
    "                  marker_line_width=2, opacity=1, textposition='auto')\n",
    "\n",
    "\n",
    "fig.show() "
   ]
  },
  {
   "cell_type": "code",
   "execution_count": 60,
   "id": "0f3d2c40",
   "metadata": {},
   "outputs": [
    {
     "data": {
      "text/html": [
       "<div>\n",
       "<style scoped>\n",
       "    .dataframe tbody tr th:only-of-type {\n",
       "        vertical-align: middle;\n",
       "    }\n",
       "\n",
       "    .dataframe tbody tr th {\n",
       "        vertical-align: top;\n",
       "    }\n",
       "\n",
       "    .dataframe thead th {\n",
       "        text-align: right;\n",
       "    }\n",
       "</style>\n",
       "<table border=\"1\" class=\"dataframe\">\n",
       "  <thead>\n",
       "    <tr style=\"text-align: right;\">\n",
       "      <th></th>\n",
       "      <th>child_id</th>\n",
       "      <th>permalink</th>\n",
       "      <th>text</th>\n",
       "      <th>parent_id</th>\n",
       "      <th>subreddit</th>\n",
       "      <th>created_at</th>\n",
       "      <th>sentiment_blob</th>\n",
       "      <th>sentiment_nltk</th>\n",
       "      <th>score</th>\n",
       "      <th>top_level</th>\n",
       "      <th>...</th>\n",
       "      <th>is_mod</th>\n",
       "      <th>is_gold</th>\n",
       "      <th>is_banned</th>\n",
       "      <th>comment_karma</th>\n",
       "      <th>link_karma</th>\n",
       "      <th>user_created_at</th>\n",
       "      <th>banned_unverified</th>\n",
       "      <th>creation_year</th>\n",
       "      <th>diff</th>\n",
       "      <th>days_after_creation</th>\n",
       "    </tr>\n",
       "  </thead>\n",
       "  <tbody>\n",
       "    <tr>\n",
       "      <th>11520</th>\n",
       "      <td>t1_gpiyb1b</td>\n",
       "      <td>/r/copypasta/comments/lwskfd/amber_heard_what/...</td>\n",
       "      <td>There is a giant fucking internet incel moveme...</td>\n",
       "      <td>t3_lwskfd</td>\n",
       "      <td>r/copypasta</td>\n",
       "      <td>2021-03-03 12:18:16</td>\n",
       "      <td>Negative</td>\n",
       "      <td>Neutral</td>\n",
       "      <td>1.0</td>\n",
       "      <td>submission</td>\n",
       "      <td>...</td>\n",
       "      <td>False</td>\n",
       "      <td>False</td>\n",
       "      <td>False</td>\n",
       "      <td>-100.0</td>\n",
       "      <td>1.0</td>\n",
       "      <td>2021-02-13 02:18:31</td>\n",
       "      <td>unverified</td>\n",
       "      <td>2021</td>\n",
       "      <td>18 days 09:59:45</td>\n",
       "      <td>18.0</td>\n",
       "    </tr>\n",
       "  </tbody>\n",
       "</table>\n",
       "<p>1 rows × 24 columns</p>\n",
       "</div>"
      ],
      "text/plain": [
       "         child_id                                          permalink  \\\n",
       "11520  t1_gpiyb1b  /r/copypasta/comments/lwskfd/amber_heard_what/...   \n",
       "\n",
       "                                                    text  parent_id  \\\n",
       "11520  There is a giant fucking internet incel moveme...  t3_lwskfd   \n",
       "\n",
       "         subreddit          created_at sentiment_blob sentiment_nltk  score  \\\n",
       "11520  r/copypasta 2021-03-03 12:18:16       Negative        Neutral    1.0   \n",
       "\n",
       "        top_level  ... is_mod is_gold is_banned  comment_karma  link_karma  \\\n",
       "11520  submission  ...  False   False     False         -100.0         1.0   \n",
       "\n",
       "          user_created_at  banned_unverified  creation_year              diff  \\\n",
       "11520 2021-02-13 02:18:31         unverified           2021  18 days 09:59:45   \n",
       "\n",
       "      days_after_creation  \n",
       "11520                18.0  \n",
       "\n",
       "[1 rows x 24 columns]"
      ]
     },
     "execution_count": 60,
     "metadata": {},
     "output_type": "execute_result"
    }
   ],
   "source": [
    "df_unverified[df_unverified.user_name == 'Bot_EmojiBae']\n",
    "\n",
    "# Defending AH"
   ]
  },
  {
   "cell_type": "code",
   "execution_count": 61,
   "id": "d1adae8b",
   "metadata": {},
   "outputs": [
    {
     "data": {
      "text/html": [
       "<div>\n",
       "<style scoped>\n",
       "    .dataframe tbody tr th:only-of-type {\n",
       "        vertical-align: middle;\n",
       "    }\n",
       "\n",
       "    .dataframe tbody tr th {\n",
       "        vertical-align: top;\n",
       "    }\n",
       "\n",
       "    .dataframe thead th {\n",
       "        text-align: right;\n",
       "    }\n",
       "</style>\n",
       "<table border=\"1\" class=\"dataframe\">\n",
       "  <thead>\n",
       "    <tr style=\"text-align: right;\">\n",
       "      <th></th>\n",
       "      <th>child_id</th>\n",
       "      <th>permalink</th>\n",
       "      <th>text</th>\n",
       "      <th>parent_id</th>\n",
       "      <th>subreddit</th>\n",
       "      <th>created_at</th>\n",
       "      <th>sentiment_blob</th>\n",
       "      <th>sentiment_nltk</th>\n",
       "      <th>score</th>\n",
       "      <th>top_level</th>\n",
       "      <th>...</th>\n",
       "      <th>is_mod</th>\n",
       "      <th>is_gold</th>\n",
       "      <th>is_banned</th>\n",
       "      <th>comment_karma</th>\n",
       "      <th>link_karma</th>\n",
       "      <th>user_created_at</th>\n",
       "      <th>banned_unverified</th>\n",
       "      <th>creation_year</th>\n",
       "      <th>diff</th>\n",
       "      <th>days_after_creation</th>\n",
       "    </tr>\n",
       "  </thead>\n",
       "  <tbody>\n",
       "    <tr>\n",
       "      <th>7267</th>\n",
       "      <td>t1_glhiqhb</td>\n",
       "      <td>/r/TIHI/comments/l9bdw3/thanks_i_hate_johnny_d...</td>\n",
       "      <td>r/bonehurtingjuice</td>\n",
       "      <td>t3_l9bdw3</td>\n",
       "      <td>r/TIHI</td>\n",
       "      <td>2021-01-31 15:25:34</td>\n",
       "      <td>Neutral</td>\n",
       "      <td>Neutral</td>\n",
       "      <td>4.0</td>\n",
       "      <td>submission</td>\n",
       "      <td>...</td>\n",
       "      <td>True</td>\n",
       "      <td>False</td>\n",
       "      <td>False</td>\n",
       "      <td>-100.0</td>\n",
       "      <td>35.0</td>\n",
       "      <td>2020-12-25 20:20:09</td>\n",
       "      <td>unverified</td>\n",
       "      <td>2020</td>\n",
       "      <td>36 days 19:05:25</td>\n",
       "      <td>36.0</td>\n",
       "    </tr>\n",
       "  </tbody>\n",
       "</table>\n",
       "<p>1 rows × 24 columns</p>\n",
       "</div>"
      ],
      "text/plain": [
       "        child_id                                          permalink  \\\n",
       "7267  t1_glhiqhb  /r/TIHI/comments/l9bdw3/thanks_i_hate_johnny_d...   \n",
       "\n",
       "                    text  parent_id subreddit          created_at  \\\n",
       "7267  r/bonehurtingjuice  t3_l9bdw3    r/TIHI 2021-01-31 15:25:34   \n",
       "\n",
       "     sentiment_blob sentiment_nltk  score   top_level  ... is_mod is_gold  \\\n",
       "7267        Neutral        Neutral    4.0  submission  ...   True   False   \n",
       "\n",
       "     is_banned  comment_karma  link_karma     user_created_at  \\\n",
       "7267     False         -100.0        35.0 2020-12-25 20:20:09   \n",
       "\n",
       "      banned_unverified  creation_year              diff days_after_creation  \n",
       "7267         unverified           2020  36 days 19:05:25                36.0  \n",
       "\n",
       "[1 rows x 24 columns]"
      ]
     },
     "execution_count": 61,
     "metadata": {},
     "output_type": "execute_result"
    }
   ],
   "source": [
    "df_unverified[df_unverified.user_name == 'DogPrune']"
   ]
  },
  {
   "cell_type": "code",
   "execution_count": 62,
   "id": "569d0991",
   "metadata": {},
   "outputs": [],
   "source": [
    "df_unverified[df_unverified.user_name == 'IgotThisAppForMemes8'];\n",
    "\n",
    "# Defending AH"
   ]
  },
  {
   "cell_type": "markdown",
   "id": "46d11204",
   "metadata": {},
   "source": [
    "<a id='largest_scores'></a>\n",
    ">>### Explore the largest scores\n",
    "\n",
    "<ul>\n",
    "<li><a href=\"#largest_link_karma\">Unverified Accounts With The Largest Link Karma</a></li>   \n",
    "<li><a href=\"#largest_comment_karma\">Unverified Accounts With The Largest Comment Karma</a></li>\n",
    "    <br>\n",
    "<li><a href=\"#minimum_link_karma\">Unverified Accounts With The Minimum Link Karma</a></li>\n",
    "<li><a href=\"#minimum_comment_karma\">Unverified Accounts With The Minimum Comment Karma</a></li>\n",
    "    <br>\n",
    "<li><a href=\"#largest_scores\"><b><mark>Explore the largest scores</mark></b></a></li>\n",
    "<li><a href=\"#minimum_scores\">Explore the minimum scores</a></li>\n",
    "    <br>\n",
    "<li><a href=\"#unverified_contributions\">Contributions of Unverified accounts in 2021</a></li>\n",
    "<li><a href=\"#unverified_creations\">Creation years of the unverified accounts contributed in 2021</a></li>\n",
    "<li><a href=\"#unverified_peak\">Unverified Contributions Peaks</a></li>\n",
    "</ul>"
   ]
  },
  {
   "cell_type": "code",
   "execution_count": 63,
   "id": "e40f8d2c",
   "metadata": {},
   "outputs": [
    {
     "data": {
      "text/plain": [
       "count    2078.000000\n",
       "mean       16.089028\n",
       "std       121.927349\n",
       "min       -73.000000\n",
       "25%         1.000000\n",
       "50%         2.000000\n",
       "75%         6.000000\n",
       "max      3745.000000\n",
       "Name: score, dtype: float64"
      ]
     },
     "execution_count": 63,
     "metadata": {},
     "output_type": "execute_result"
    }
   ],
   "source": [
    "df_unverified.score.describe()"
   ]
  },
  {
   "cell_type": "code",
   "execution_count": 64,
   "id": "aacf4f4c",
   "metadata": {},
   "outputs": [
    {
     "data": {
      "image/svg+xml": [
       "<svg class=\"main-svg\" xmlns=\"http://www.w3.org/2000/svg\" xmlns:xlink=\"http://www.w3.org/1999/xlink\" width=\"900\" height=\"500\" style=\"\" viewBox=\"0 0 900 500\"><rect x=\"0\" y=\"0\" width=\"900\" height=\"500\" style=\"fill: rgb(255, 255, 255); fill-opacity: 1;\"/><defs id=\"defs-deae92\"><g class=\"clips\"><clipPath id=\"clipdeae92xyplot\" class=\"plotclip\"><rect width=\"740\" height=\"293\"/></clipPath><clipPath class=\"axesclip\" id=\"clipdeae92x\"><rect x=\"80\" y=\"0\" width=\"740\" height=\"500\"/></clipPath><clipPath class=\"axesclip\" id=\"clipdeae92y\"><rect x=\"0\" y=\"100\" width=\"900\" height=\"293\"/></clipPath><clipPath class=\"axesclip\" id=\"clipdeae92xy\"><rect x=\"80\" y=\"100\" width=\"740\" height=\"293\"/></clipPath></g><g class=\"gradients\"/><g class=\"patterns\"/></defs><g class=\"bglayer\"><rect class=\"bg\" x=\"80\" y=\"100\" width=\"740\" height=\"293\" style=\"fill: rgb(229, 236, 246); fill-opacity: 1; stroke-width: 0;\"/></g><g class=\"layer-below\"><g class=\"imagelayer\"/><g class=\"shapelayer\"/></g><g class=\"cartesianlayer\"><g class=\"subplot xy\"><g class=\"layer-subplot\"><g class=\"shapelayer\"/><g class=\"imagelayer\"/></g><g class=\"gridlayer\"><g class=\"x\"/><g class=\"y\"><path class=\"ygrid crisp\" transform=\"translate(0,355.84000000000003)\" d=\"M80,0h740\" style=\"stroke: rgb(255, 255, 255); stroke-opacity: 1; stroke-width: 1px;\"/><path class=\"ygrid crisp\" transform=\"translate(0,318.66999999999996)\" d=\"M80,0h740\" style=\"stroke: rgb(255, 255, 255); stroke-opacity: 1; stroke-width: 1px;\"/><path class=\"ygrid crisp\" transform=\"translate(0,281.51)\" d=\"M80,0h740\" style=\"stroke: rgb(255, 255, 255); stroke-opacity: 1; stroke-width: 1px;\"/><path class=\"ygrid crisp\" transform=\"translate(0,244.35)\" d=\"M80,0h740\" style=\"stroke: rgb(255, 255, 255); stroke-opacity: 1; stroke-width: 1px;\"/><path class=\"ygrid crisp\" transform=\"translate(0,207.19)\" d=\"M80,0h740\" style=\"stroke: rgb(255, 255, 255); stroke-opacity: 1; stroke-width: 1px;\"/><path class=\"ygrid crisp\" transform=\"translate(0,170.01999999999998)\" d=\"M80,0h740\" style=\"stroke: rgb(255, 255, 255); stroke-opacity: 1; stroke-width: 1px;\"/><path class=\"ygrid crisp\" transform=\"translate(0,132.86)\" d=\"M80,0h740\" style=\"stroke: rgb(255, 255, 255); stroke-opacity: 1; stroke-width: 1px;\"/></g></g><g class=\"zerolinelayer\"><path class=\"yzl zl crisp\" transform=\"translate(0,393)\" d=\"M80,0h740\" style=\"stroke: rgb(255, 255, 255); stroke-opacity: 1; stroke-width: 2px;\"/></g><path class=\"xlines-below\"/><path class=\"ylines-below\"/><g class=\"overlines-below\"/><g class=\"xaxislayer-below\"/><g class=\"yaxislayer-below\"/><g class=\"overaxes-below\"/><g class=\"plot\" transform=\"translate(80,100)\" clip-path=\"url(#clipdeae92xyplot)\"><g class=\"barlayer mlayer\"><g class=\"trace bars\" style=\"opacity: 1;\"><g class=\"points\"><g class=\"point\"><path d=\"M7.4,293V14.65H66.6V293Z\" style=\"vector-effect: non-scaling-stroke; opacity: 1; stroke-width: 2px; fill: rgb(255, 0, 0); fill-opacity: 1; stroke: rgb(229, 236, 246); stroke-opacity: 1;\"/><text class=\"bartext bartext-inside\" text-anchor=\"middle\" data-notex=\"1\" x=\"0\" y=\"0\" style=\"font-family: 'Open Sans', verdana, arial, sans-serif; font-size: 12px; fill: rgb(255, 255, 255); fill-opacity: 1; white-space: pre;\" transform=\"translate(36.8125,29.65)\">3745.0</text></g><g class=\"point\"><path d=\"M81.4,293V99.38H140.6V293Z\" style=\"vector-effect: non-scaling-stroke; opacity: 1; stroke-width: 2px; fill: rgb(255, 0, 0); fill-opacity: 1; stroke: rgb(229, 236, 246); stroke-opacity: 1;\"/><text class=\"bartext bartext-inside\" text-anchor=\"middle\" data-notex=\"1\" x=\"0\" y=\"0\" style=\"font-family: 'Open Sans', verdana, arial, sans-serif; font-size: 12px; fill: rgb(255, 255, 255); fill-opacity: 1; white-space: pre;\" transform=\"translate(110.8125,114.38)\">2605.0</text></g><g class=\"point\"><path d=\"M155.4,293V176.09H214.6V293Z\" style=\"vector-effect: non-scaling-stroke; opacity: 1; stroke-width: 2px; fill: rgb(82, 150, 221); fill-opacity: 1; stroke: rgb(229, 236, 246); stroke-opacity: 1;\"/><text class=\"bartext bartext-inside\" text-anchor=\"middle\" data-notex=\"1\" x=\"0\" y=\"0\" style=\"font-family: 'Open Sans', verdana, arial, sans-serif; font-size: 12px; fill: rgb(68, 68, 68); fill-opacity: 1; white-space: pre;\" transform=\"translate(184.8125,191.09)\">1573.0</text></g><g class=\"point\"><path d=\"M229.4,293V185.6H288.6V293Z\" style=\"vector-effect: non-scaling-stroke; opacity: 1; stroke-width: 2px; fill: rgb(82, 150, 221); fill-opacity: 1; stroke: rgb(229, 236, 246); stroke-opacity: 1;\"/><text class=\"bartext bartext-inside\" text-anchor=\"middle\" data-notex=\"1\" x=\"0\" y=\"0\" style=\"font-family: 'Open Sans', verdana, arial, sans-serif; font-size: 12px; fill: rgb(68, 68, 68); fill-opacity: 1; white-space: pre;\" transform=\"translate(258.8125,200.6)\">1445.0</text></g><g class=\"point\"><path d=\"M303.4,293V220.83H362.6V293Z\" style=\"vector-effect: non-scaling-stroke; opacity: 1; stroke-width: 2px; fill: rgb(82, 150, 221); fill-opacity: 1; stroke: rgb(229, 236, 246); stroke-opacity: 1;\"/><text class=\"bartext bartext-inside\" text-anchor=\"middle\" data-notex=\"1\" x=\"0\" y=\"0\" style=\"font-family: 'Open Sans', verdana, arial, sans-serif; font-size: 12px; fill: rgb(68, 68, 68); fill-opacity: 1; white-space: pre;\" transform=\"translate(332.8203125,235.83)\">971.0</text></g><g class=\"point\"><path d=\"M377.4,293V221.87H436.6V293Z\" style=\"vector-effect: non-scaling-stroke; opacity: 1; stroke-width: 2px; fill: rgb(82, 150, 221); fill-opacity: 1; stroke: rgb(229, 236, 246); stroke-opacity: 1;\"/><text class=\"bartext bartext-inside\" text-anchor=\"middle\" data-notex=\"1\" x=\"0\" y=\"0\" style=\"font-family: 'Open Sans', verdana, arial, sans-serif; font-size: 12px; fill: rgb(68, 68, 68); fill-opacity: 1; white-space: pre;\" transform=\"translate(406.8203125,236.87)\">957.0</text></g><g class=\"point\"><path d=\"M451.4,293V235.55H510.6V293Z\" style=\"vector-effect: non-scaling-stroke; opacity: 1; stroke-width: 2px; fill: rgb(82, 150, 221); fill-opacity: 1; stroke: rgb(229, 236, 246); stroke-opacity: 1;\"/><text class=\"bartext bartext-inside\" text-anchor=\"middle\" data-notex=\"1\" x=\"0\" y=\"0\" style=\"font-family: 'Open Sans', verdana, arial, sans-serif; font-size: 12px; fill: rgb(68, 68, 68); fill-opacity: 1; white-space: pre;\" transform=\"translate(480.8203125,250.55)\">773.0</text></g><g class=\"point\"><path d=\"M525.4,293V246.55H584.6V293Z\" style=\"vector-effect: non-scaling-stroke; opacity: 1; stroke-width: 2px; fill: rgb(82, 150, 221); fill-opacity: 1; stroke: rgb(229, 236, 246); stroke-opacity: 1;\"/><text class=\"bartext bartext-inside\" text-anchor=\"middle\" data-notex=\"1\" x=\"0\" y=\"0\" style=\"font-family: 'Open Sans', verdana, arial, sans-serif; font-size: 12px; fill: rgb(68, 68, 68); fill-opacity: 1; white-space: pre;\" transform=\"translate(554.8203125,261.55)\">625.0</text></g><g class=\"point\"><path d=\"M599.4,293V248.03H658.6V293Z\" style=\"vector-effect: non-scaling-stroke; opacity: 1; stroke-width: 2px; fill: rgb(82, 150, 221); fill-opacity: 1; stroke: rgb(229, 236, 246); stroke-opacity: 1;\"/><text class=\"bartext bartext-inside\" text-anchor=\"middle\" data-notex=\"1\" x=\"0\" y=\"0\" style=\"font-family: 'Open Sans', verdana, arial, sans-serif; font-size: 12px; fill: rgb(68, 68, 68); fill-opacity: 1; white-space: pre;\" transform=\"translate(628.8203125,263.03)\">605.0</text></g><g class=\"point\"><path d=\"M673.4,293V254.72H732.6V293Z\" style=\"vector-effect: non-scaling-stroke; opacity: 1; stroke-width: 2px; fill: rgb(82, 150, 221); fill-opacity: 1; stroke: rgb(229, 236, 246); stroke-opacity: 1;\"/><text class=\"bartext bartext-inside\" text-anchor=\"middle\" data-notex=\"1\" x=\"0\" y=\"0\" style=\"font-family: 'Open Sans', verdana, arial, sans-serif; font-size: 12px; fill: rgb(68, 68, 68); fill-opacity: 1; white-space: pre;\" transform=\"translate(702.8203125,269.72)\">515.0</text></g></g></g></g></g><g class=\"overplot\"/><path class=\"xlines-above crisp\" d=\"M0,0\" style=\"fill: none;\"/><path class=\"ylines-above crisp\" d=\"M0,0\" style=\"fill: none;\"/><g class=\"overlines-above\"/><g class=\"xaxislayer-above\"><g class=\"xtick\"><text text-anchor=\"start\" x=\"0\" y=\"406\" transform=\"translate(117,0) rotate(30,0,400)\" style=\"font-family: 'Open Sans', verdana, arial, sans-serif; font-size: 12px; fill: rgb(42, 63, 95); fill-opacity: 1; white-space: pre; opacity: 1;\">lurker_bee</text></g><g class=\"xtick\"><text text-anchor=\"start\" x=\"0\" y=\"406\" transform=\"translate(191,0) rotate(30,0,400)\" style=\"font-family: 'Open Sans', verdana, arial, sans-serif; font-size: 12px; fill: rgb(42, 63, 95); fill-opacity: 1; white-space: pre; opacity: 1;\">johnboycutter</text></g><g class=\"xtick\"><text text-anchor=\"start\" x=\"0\" y=\"406\" transform=\"translate(265,0) rotate(30,0,400)\" style=\"font-family: 'Open Sans', verdana, arial, sans-serif; font-size: 12px; fill: rgb(42, 63, 95); fill-opacity: 1; white-space: pre; opacity: 1;\">nopedontcareatall</text></g><g class=\"xtick\"><text text-anchor=\"start\" x=\"0\" y=\"406\" transform=\"translate(339,0) rotate(30,0,400)\" style=\"font-family: 'Open Sans', verdana, arial, sans-serif; font-size: 12px; fill: rgb(42, 63, 95); fill-opacity: 1; white-space: pre; opacity: 1;\">Not-a-JoJo-weeb</text></g><g class=\"xtick\"><text text-anchor=\"start\" x=\"0\" y=\"406\" transform=\"translate(413,0) rotate(30,0,400)\" style=\"font-family: 'Open Sans', verdana, arial, sans-serif; font-size: 12px; fill: rgb(42, 63, 95); fill-opacity: 1; white-space: pre; opacity: 1;\">phishyfingers</text></g><g class=\"xtick\"><text text-anchor=\"start\" x=\"0\" y=\"406\" transform=\"translate(487,0) rotate(30,0,400)\" style=\"font-family: 'Open Sans', verdana, arial, sans-serif; font-size: 12px; fill: rgb(42, 63, 95); fill-opacity: 1; white-space: pre; opacity: 1;\">Ayrab4Trump</text></g><g class=\"xtick\"><text text-anchor=\"start\" x=\"0\" y=\"406\" transform=\"translate(561,0) rotate(30,0,400)\" style=\"font-family: 'Open Sans', verdana, arial, sans-serif; font-size: 12px; fill: rgb(42, 63, 95); fill-opacity: 1; white-space: pre; opacity: 1;\">DebSheep</text></g><g class=\"xtick\"><text text-anchor=\"start\" x=\"0\" y=\"406\" transform=\"translate(635,0) rotate(30,0,400)\" style=\"font-family: 'Open Sans', verdana, arial, sans-serif; font-size: 12px; fill: rgb(42, 63, 95); fill-opacity: 1; white-space: pre; opacity: 1;\">sammy_thebull</text></g><g class=\"xtick\"><text text-anchor=\"start\" x=\"0\" y=\"406\" transform=\"translate(709,0) rotate(30,0,400)\" style=\"font-family: 'Open Sans', verdana, arial, sans-serif; font-size: 12px; fill: rgb(42, 63, 95); fill-opacity: 1; white-space: pre; opacity: 1;\">CommunistBoi360</text></g><g class=\"xtick\"><text text-anchor=\"start\" x=\"0\" y=\"406\" transform=\"translate(783,0) rotate(30,0,400)\" style=\"font-family: 'Open Sans', verdana, arial, sans-serif; font-size: 12px; fill: rgb(42, 63, 95); fill-opacity: 1; white-space: pre; opacity: 1;\">gccmelb</text></g></g><g class=\"yaxislayer-above\"><g class=\"ytick\"><text text-anchor=\"end\" x=\"79\" y=\"4.199999999999999\" transform=\"translate(0,393)\" style=\"font-family: 'Open Sans', verdana, arial, sans-serif; font-size: 12px; fill: rgb(42, 63, 95); fill-opacity: 1; white-space: pre; opacity: 1;\">0</text></g><g class=\"ytick\"><text text-anchor=\"end\" x=\"79\" y=\"4.199999999999999\" style=\"font-family: 'Open Sans', verdana, arial, sans-serif; font-size: 12px; fill: rgb(42, 63, 95); fill-opacity: 1; white-space: pre; opacity: 1;\" transform=\"translate(0,355.84000000000003)\">500</text></g><g class=\"ytick\"><text text-anchor=\"end\" x=\"79\" y=\"4.199999999999999\" style=\"font-family: 'Open Sans', verdana, arial, sans-serif; font-size: 12px; fill: rgb(42, 63, 95); fill-opacity: 1; white-space: pre; opacity: 1;\" transform=\"translate(0,318.66999999999996)\">1000</text></g><g class=\"ytick\"><text text-anchor=\"end\" x=\"79\" y=\"4.199999999999999\" style=\"font-family: 'Open Sans', verdana, arial, sans-serif; font-size: 12px; fill: rgb(42, 63, 95); fill-opacity: 1; white-space: pre; opacity: 1;\" transform=\"translate(0,281.51)\">1500</text></g><g class=\"ytick\"><text text-anchor=\"end\" x=\"79\" y=\"4.199999999999999\" style=\"font-family: 'Open Sans', verdana, arial, sans-serif; font-size: 12px; fill: rgb(42, 63, 95); fill-opacity: 1; white-space: pre; opacity: 1;\" transform=\"translate(0,244.35)\">2000</text></g><g class=\"ytick\"><text text-anchor=\"end\" x=\"79\" y=\"4.199999999999999\" style=\"font-family: 'Open Sans', verdana, arial, sans-serif; font-size: 12px; fill: rgb(42, 63, 95); fill-opacity: 1; white-space: pre; opacity: 1;\" transform=\"translate(0,207.19)\">2500</text></g><g class=\"ytick\"><text text-anchor=\"end\" x=\"79\" y=\"4.199999999999999\" style=\"font-family: 'Open Sans', verdana, arial, sans-serif; font-size: 12px; fill: rgb(42, 63, 95); fill-opacity: 1; white-space: pre; opacity: 1;\" transform=\"translate(0,170.01999999999998)\">3000</text></g><g class=\"ytick\"><text text-anchor=\"end\" x=\"79\" y=\"4.199999999999999\" style=\"font-family: 'Open Sans', verdana, arial, sans-serif; font-size: 12px; fill: rgb(42, 63, 95); fill-opacity: 1; white-space: pre; opacity: 1;\" transform=\"translate(0,132.86)\">3500</text></g></g><g class=\"overaxes-above\"/></g></g><g class=\"polarlayer\"/><g class=\"ternarylayer\"/><g class=\"geolayer\"/><g class=\"funnelarealayer\"/><g class=\"pielayer\"/><g class=\"iciclelayer\"/><g class=\"treemaplayer\"/><g class=\"sunburstlayer\"/><g class=\"glimages\"/><defs id=\"topdefs-deae92\"><g class=\"clips\"/></defs><g class=\"layer-above\"><g class=\"imagelayer\"/><g class=\"shapelayer\"/></g><g class=\"infolayer\"><g class=\"g-gtitle\"><text class=\"gtitle\" x=\"45\" y=\"50\" text-anchor=\"start\" dy=\"0em\" style=\"font-family: 'Open Sans', verdana, arial, sans-serif; font-size: 17px; fill: rgb(42, 63, 95); opacity: 1; font-weight: normal; white-space: pre;\">Unverified accounts with highest contribution scores in 2021</text></g><g class=\"g-xtitle\"><text class=\"xtitle\" x=\"450\" y=\"487.8595703125\" text-anchor=\"middle\" style=\"font-family: 'Open Sans', verdana, arial, sans-serif; font-size: 14px; fill: rgb(42, 63, 95); opacity: 1; font-weight: normal; white-space: pre;\">user name</text></g><g class=\"g-ytitle\"><text class=\"ytitle\" transform=\"rotate(-90,23.684375000000003,246.5)\" x=\"23.684375000000003\" y=\"246.5\" text-anchor=\"middle\" style=\"font-family: 'Open Sans', verdana, arial, sans-serif; font-size: 14px; fill: rgb(42, 63, 95); opacity: 1; font-weight: normal; white-space: pre;\">score</text></g></g></svg>"
      ]
     },
     "metadata": {},
     "output_type": "display_data"
    }
   ],
   "source": [
    "# Filter on largest scores\n",
    "\n",
    "df_scores_high = df_unverified.sort_values('score', ascending=False).head(10)\n",
    "\n",
    "fig = px.bar(df_scores_high,\n",
    "             x='user_name', \n",
    "             y=df_scores_high.score, text = df_scores_high.score, title='Unverified accounts with highest contribution scores in 2021')\n",
    "\n",
    "fig.update_layout(\n",
    "    xaxis = dict(\n",
    "        title='user name',\n",
    "        tickmode = 'array',\n",
    "        tickvals = df_scores_high.user_name,\n",
    "    )\n",
    ")\n",
    "\n",
    "clrs = ['red' if (y > 2500) else '#5296dd' for y in df_scores_high.score]\n",
    "\n",
    "fig.update_traces(marker_color=clrs,\n",
    "                  marker_line_width=2, opacity=1, textposition='auto')\n",
    "\n",
    "\n",
    "fig.show()"
   ]
  },
  {
   "cell_type": "code",
   "execution_count": 65,
   "id": "c47177ea",
   "metadata": {},
   "outputs": [
    {
     "data": {
      "text/html": [
       "<div>\n",
       "<style scoped>\n",
       "    .dataframe tbody tr th:only-of-type {\n",
       "        vertical-align: middle;\n",
       "    }\n",
       "\n",
       "    .dataframe tbody tr th {\n",
       "        vertical-align: top;\n",
       "    }\n",
       "\n",
       "    .dataframe thead th {\n",
       "        text-align: right;\n",
       "    }\n",
       "</style>\n",
       "<table border=\"1\" class=\"dataframe\">\n",
       "  <thead>\n",
       "    <tr style=\"text-align: right;\">\n",
       "      <th></th>\n",
       "      <th>child_id</th>\n",
       "      <th>permalink</th>\n",
       "      <th>text</th>\n",
       "      <th>parent_id</th>\n",
       "      <th>subreddit</th>\n",
       "      <th>created_at</th>\n",
       "      <th>sentiment_blob</th>\n",
       "      <th>sentiment_nltk</th>\n",
       "      <th>score</th>\n",
       "      <th>top_level</th>\n",
       "      <th>submission_comment</th>\n",
       "      <th>submission_text</th>\n",
       "      <th>user_name</th>\n",
       "      <th>has_verified_email</th>\n",
       "      <th>is_mod</th>\n",
       "      <th>is_gold</th>\n",
       "      <th>is_banned</th>\n",
       "      <th>comment_karma</th>\n",
       "      <th>link_karma</th>\n",
       "      <th>user_created_at</th>\n",
       "      <th>banned_unverified</th>\n",
       "      <th>creation_year</th>\n",
       "      <th>diff</th>\n",
       "      <th>days_after_creation</th>\n",
       "    </tr>\n",
       "  </thead>\n",
       "  <tbody>\n",
       "    <tr>\n",
       "      <th>17566</th>\n",
       "      <td>t3_naqo5d</td>\n",
       "      <td>/r/entertainment/comments/naqo5d/amber_heard_reportedly_probed_by_lapd_facing/</td>\n",
       "      <td>Amber Heard Reportedly Probed By LAPD, Facing Years of Jail Time</td>\n",
       "      <td>NaN</td>\n",
       "      <td>r/entertainment</td>\n",
       "      <td>2021-05-12 14:56:49</td>\n",
       "      <td>Negative</td>\n",
       "      <td>Neutral</td>\n",
       "      <td>3745.0</td>\n",
       "      <td>NaN</td>\n",
       "      <td>submission</td>\n",
       "      <td>amber_heard_reportedly_probed_by_lapd_facing</td>\n",
       "      <td>lurker_bee</td>\n",
       "      <td>False</td>\n",
       "      <td>True</td>\n",
       "      <td>False</td>\n",
       "      <td>False</td>\n",
       "      <td>46000.0</td>\n",
       "      <td>603553.0</td>\n",
       "      <td>2013-06-30 05:32:46</td>\n",
       "      <td>unverified</td>\n",
       "      <td>others</td>\n",
       "      <td>2873 days 09:24:03</td>\n",
       "      <td>2873.0</td>\n",
       "    </tr>\n",
       "  </tbody>\n",
       "</table>\n",
       "</div>"
      ],
      "text/plain": [
       "        child_id  \\\n",
       "17566  t3_naqo5d   \n",
       "\n",
       "                                                                            permalink  \\\n",
       "17566  /r/entertainment/comments/naqo5d/amber_heard_reportedly_probed_by_lapd_facing/   \n",
       "\n",
       "                                                                   text  \\\n",
       "17566  Amber Heard Reportedly Probed By LAPD, Facing Years of Jail Time   \n",
       "\n",
       "      parent_id        subreddit          created_at sentiment_blob  \\\n",
       "17566       NaN  r/entertainment 2021-05-12 14:56:49       Negative   \n",
       "\n",
       "      sentiment_nltk   score top_level submission_comment  \\\n",
       "17566        Neutral  3745.0       NaN         submission   \n",
       "\n",
       "                                    submission_text   user_name  \\\n",
       "17566  amber_heard_reportedly_probed_by_lapd_facing  lurker_bee   \n",
       "\n",
       "       has_verified_email  is_mod  is_gold  is_banned  comment_karma  \\\n",
       "17566               False    True    False      False        46000.0   \n",
       "\n",
       "       link_karma     user_created_at banned_unverified creation_year  \\\n",
       "17566    603553.0 2013-06-30 05:32:46        unverified        others   \n",
       "\n",
       "                     diff  days_after_creation  \n",
       "17566  2873 days 09:24:03               2873.0  "
      ]
     },
     "metadata": {},
     "output_type": "display_data"
    }
   ],
   "source": [
    "with pd.option_context('display.max_colwidth', None, 'display.max_columns', None):\n",
    "  display(df_unverified[df_unverified.user_name == 'lurker_bee'].head(1))\n",
    "\n",
    "# Negative Submission"
   ]
  },
  {
   "cell_type": "markdown",
   "id": "c7027b79",
   "metadata": {},
   "source": [
    "https://www.reddit.com/r/entertainment/comments/naqo5d/amber_heard_reportedly_probed_by_lapd_facing/\n",
    "\n",
    "LAPD --> Los Angeles Police Department"
   ]
  },
  {
   "cell_type": "code",
   "execution_count": 66,
   "id": "8445d862",
   "metadata": {},
   "outputs": [],
   "source": [
    "# df_unverified[df_unverified.user_name == 'johnboycutter'].permalink[3540]"
   ]
  },
  {
   "cell_type": "code",
   "execution_count": 67,
   "id": "520044f5",
   "metadata": {},
   "outputs": [
    {
     "data": {
      "text/html": [
       "<div>\n",
       "<style scoped>\n",
       "    .dataframe tbody tr th:only-of-type {\n",
       "        vertical-align: middle;\n",
       "    }\n",
       "\n",
       "    .dataframe tbody tr th {\n",
       "        vertical-align: top;\n",
       "    }\n",
       "\n",
       "    .dataframe thead th {\n",
       "        text-align: right;\n",
       "    }\n",
       "</style>\n",
       "<table border=\"1\" class=\"dataframe\">\n",
       "  <thead>\n",
       "    <tr style=\"text-align: right;\">\n",
       "      <th></th>\n",
       "      <th>child_id</th>\n",
       "      <th>permalink</th>\n",
       "      <th>text</th>\n",
       "      <th>parent_id</th>\n",
       "      <th>subreddit</th>\n",
       "      <th>created_at</th>\n",
       "      <th>sentiment_blob</th>\n",
       "      <th>sentiment_nltk</th>\n",
       "      <th>score</th>\n",
       "      <th>top_level</th>\n",
       "      <th>...</th>\n",
       "      <th>is_mod</th>\n",
       "      <th>is_gold</th>\n",
       "      <th>is_banned</th>\n",
       "      <th>comment_karma</th>\n",
       "      <th>link_karma</th>\n",
       "      <th>user_created_at</th>\n",
       "      <th>banned_unverified</th>\n",
       "      <th>creation_year</th>\n",
       "      <th>diff</th>\n",
       "      <th>days_after_creation</th>\n",
       "    </tr>\n",
       "  </thead>\n",
       "  <tbody>\n",
       "    <tr>\n",
       "      <th>3538</th>\n",
       "      <td>t3_kqowtw</td>\n",
       "      <td>/r/videos/comments/kqowtw/its_official_amber_heard_lied_did_not_donate_7/</td>\n",
       "      <td>It's official AMBER HEARD lied!: did not Donate 7 million divorce settlement which she PROMISED and stated to have donated in court under oath. 3,5 million are unaccounted, her legal team refuses to &amp; is actively fighting against having to provide donation evidence</td>\n",
       "      <td>NaN</td>\n",
       "      <td>r/videos</td>\n",
       "      <td>2021-01-05 02:58:44</td>\n",
       "      <td>Positive</td>\n",
       "      <td>Neutral</td>\n",
       "      <td>1.0</td>\n",
       "      <td>NaN</td>\n",
       "      <td>...</td>\n",
       "      <td>False</td>\n",
       "      <td>False</td>\n",
       "      <td>False</td>\n",
       "      <td>4796.0</td>\n",
       "      <td>15565.0</td>\n",
       "      <td>2016-03-26 12:47:09</td>\n",
       "      <td>unverified</td>\n",
       "      <td>others</td>\n",
       "      <td>1745 days 14:11:35</td>\n",
       "      <td>1745.0</td>\n",
       "    </tr>\n",
       "  </tbody>\n",
       "</table>\n",
       "<p>1 rows × 24 columns</p>\n",
       "</div>"
      ],
      "text/plain": [
       "       child_id  \\\n",
       "3538  t3_kqowtw   \n",
       "\n",
       "                                                                      permalink  \\\n",
       "3538  /r/videos/comments/kqowtw/its_official_amber_heard_lied_did_not_donate_7/   \n",
       "\n",
       "                                                                                                                                                                                                                                                                           text  \\\n",
       "3538  It's official AMBER HEARD lied!: did not Donate 7 million divorce settlement which she PROMISED and stated to have donated in court under oath. 3,5 million are unaccounted, her legal team refuses to & is actively fighting against having to provide donation evidence   \n",
       "\n",
       "     parent_id subreddit          created_at sentiment_blob sentiment_nltk  \\\n",
       "3538       NaN  r/videos 2021-01-05 02:58:44       Positive        Neutral   \n",
       "\n",
       "      score top_level  ... is_mod is_gold is_banned  comment_karma  \\\n",
       "3538    1.0       NaN  ...  False   False     False         4796.0   \n",
       "\n",
       "      link_karma     user_created_at  banned_unverified  creation_year  \\\n",
       "3538     15565.0 2016-03-26 12:47:09         unverified         others   \n",
       "\n",
       "                    diff days_after_creation  \n",
       "3538  1745 days 14:11:35              1745.0  \n",
       "\n",
       "[1 rows x 24 columns]"
      ]
     },
     "metadata": {},
     "output_type": "display_data"
    }
   ],
   "source": [
    "with pd.option_context('display.max_colwidth', None):\n",
    "  display(df_unverified[df_unverified.user_name == 'johnboycutter'].head(1))\n",
    "\n",
    "# Negative Submissions and Comments"
   ]
  },
  {
   "cell_type": "markdown",
   "id": "1b0e7b43",
   "metadata": {},
   "source": [
    "<a id='minimum_scores'></a>\n",
    ">>### Explore the minimum scores\n",
    "\n",
    "<ul>\n",
    "<li><a href=\"#largest_link_karma\">Unverified Accounts With The Largest Link Karma</a></li>   \n",
    "<li><a href=\"#largest_comment_karma\">Unverified Accounts With The Largest Comment Karma</a></li>\n",
    "    <br>\n",
    "<li><a href=\"#minimum_link_karma\">Unverified Accounts With The Minimum Link Karma</a></li>\n",
    "<li><a href=\"#minimum_comment_karma\">Unverified Accounts With The Minimum Comment Karma</a></li>\n",
    "    <br>\n",
    "<li><a href=\"#largest_scores\">Explore the largest scores</a></li>\n",
    "<li><a href=\"#minimum_scores\"><b><mark>Explore the minimum scores</mark></b></a></li>\n",
    "    <br>\n",
    "<li><a href=\"#unverified_contributions\">Contributions of Unverified accounts in 2021</a></li>\n",
    "<li><a href=\"#unverified_creations\">Creation years of the unverified accounts contributed in 2021</a></li>\n",
    "<li><a href=\"#unverified_peak\">Unverified Contributions Peaks</a></li>\n",
    "</ul>"
   ]
  },
  {
   "cell_type": "code",
   "execution_count": 68,
   "id": "793bcf0c",
   "metadata": {},
   "outputs": [
    {
     "data": {
      "image/svg+xml": [
       "<svg class=\"main-svg\" xmlns=\"http://www.w3.org/2000/svg\" xmlns:xlink=\"http://www.w3.org/1999/xlink\" width=\"900\" height=\"500\" style=\"\" viewBox=\"0 0 900 500\"><rect x=\"0\" y=\"0\" width=\"900\" height=\"500\" style=\"fill: rgb(255, 255, 255); fill-opacity: 1;\"/><defs id=\"defs-3603a0\"><g class=\"clips\"><clipPath id=\"clip3603a0xyplot\" class=\"plotclip\"><rect width=\"740\" height=\"299\"/></clipPath><clipPath class=\"axesclip\" id=\"clip3603a0x\"><rect x=\"80\" y=\"0\" width=\"740\" height=\"500\"/></clipPath><clipPath class=\"axesclip\" id=\"clip3603a0y\"><rect x=\"0\" y=\"121\" width=\"900\" height=\"299\"/></clipPath><clipPath class=\"axesclip\" id=\"clip3603a0xy\"><rect x=\"80\" y=\"121\" width=\"740\" height=\"299\"/></clipPath></g><g class=\"gradients\"/><g class=\"patterns\"/></defs><g class=\"bglayer\"><rect class=\"bg\" x=\"80\" y=\"121\" width=\"740\" height=\"299\" style=\"fill: rgb(229, 236, 246); fill-opacity: 1; stroke-width: 0;\"/></g><g class=\"layer-below\"><g class=\"imagelayer\"/><g class=\"shapelayer\"/></g><g class=\"cartesianlayer\"><g class=\"subplot xy\"><g class=\"layer-subplot\"><g class=\"shapelayer\"/><g class=\"imagelayer\"/></g><g class=\"gridlayer\"><g class=\"x\"/><g class=\"y\"><path class=\"ygrid crisp\" transform=\"translate(0,373.12)\" d=\"M80,0h740\" style=\"stroke: rgb(255, 255, 255); stroke-opacity: 1; stroke-width: 1px;\"/><path class=\"ygrid crisp\" transform=\"translate(0,289.08000000000004)\" d=\"M80,0h740\" style=\"stroke: rgb(255, 255, 255); stroke-opacity: 1; stroke-width: 1px;\"/><path class=\"ygrid crisp\" transform=\"translate(0,205.04000000000002)\" d=\"M80,0h740\" style=\"stroke: rgb(255, 255, 255); stroke-opacity: 1; stroke-width: 1px;\"/></g></g><g class=\"zerolinelayer\"><path class=\"yzl zl crisp\" transform=\"translate(0,121)\" d=\"M80,0h740\" style=\"stroke: rgb(255, 255, 255); stroke-opacity: 1; stroke-width: 2px;\"/></g><path class=\"xlines-below\"/><path class=\"ylines-below\"/><g class=\"overlines-below\"/><g class=\"xaxislayer-below\"/><g class=\"yaxislayer-below\"/><g class=\"overaxes-below\"/><g class=\"plot\" transform=\"translate(80,121)\" clip-path=\"url(#clip3603a0xyplot)\"><g class=\"barlayer mlayer\"><g class=\"trace bars\" style=\"opacity: 1;\"><g class=\"points\"><g class=\"point\"><path d=\"M4.11,0V122.7H37V0Z\" style=\"vector-effect: non-scaling-stroke; opacity: 1; stroke-width: 2px; fill: rgb(255, 0, 0); fill-opacity: 1; stroke: rgb(229, 236, 246); stroke-opacity: 1;\"/><text class=\"bartext bartext-inside\" text-anchor=\"middle\" data-notex=\"1\" x=\"0\" y=\"0\" style=\"font-family: 'Open Sans', verdana, arial, sans-serif; font-size: 12px; fill: rgb(255, 255, 255); fill-opacity: 1; white-space: pre;\" transform=\"translate(20.3675,107.653125)rotate(90 0.1875 -4.5)\">-73.0</text></g><g class=\"point\"><path d=\"M45.22,0V104.21H78.11V0Z\" style=\"vector-effect: non-scaling-stroke; opacity: 1; stroke-width: 2px; fill: rgb(255, 0, 0); fill-opacity: 1; stroke: rgb(229, 236, 246); stroke-opacity: 1;\"/><text class=\"bartext bartext-inside\" text-anchor=\"middle\" data-notex=\"1\" x=\"0\" y=\"0\" style=\"font-family: 'Open Sans', verdana, arial, sans-serif; font-size: 12px; fill: rgb(255, 255, 255); fill-opacity: 1; white-space: pre;\" transform=\"translate(61.4775,89.163125)rotate(90 0.1875 -4.5)\">-62.0</text></g><g class=\"point\"><path d=\"M86.33,0V104.21H119.22V0Z\" style=\"vector-effect: non-scaling-stroke; opacity: 1; stroke-width: 2px; fill: rgb(255, 0, 0); fill-opacity: 1; stroke: rgb(229, 236, 246); stroke-opacity: 1;\"/><text class=\"bartext bartext-inside\" text-anchor=\"middle\" data-notex=\"1\" x=\"0\" y=\"0\" style=\"font-family: 'Open Sans', verdana, arial, sans-serif; font-size: 12px; fill: rgb(255, 255, 255); fill-opacity: 1; white-space: pre;\" transform=\"translate(102.5875,89.163125)rotate(90 0.1875 -4.5)\">-62.0</text></g><g class=\"point\"><path d=\"M45.22,104.21V206.73H78.11V104.21Z\" style=\"vector-effect: non-scaling-stroke; opacity: 1; stroke-width: 2px; fill: rgb(255, 0, 0); fill-opacity: 1; stroke: rgb(229, 236, 246); stroke-opacity: 1;\"/><text class=\"bartext bartext-inside\" text-anchor=\"middle\" data-notex=\"1\" x=\"0\" y=\"0\" style=\"font-family: 'Open Sans', verdana, arial, sans-serif; font-size: 12px; fill: rgb(255, 255, 255); fill-opacity: 1; white-space: pre;\" transform=\"translate(61.4775,191.683125)rotate(90 0.1875 -4.5)\">-61.0</text></g><g class=\"point\"><path d=\"M45.22,206.73V284.05H78.11V206.73Z\" style=\"vector-effect: non-scaling-stroke; opacity: 1; stroke-width: 2px; fill: rgb(255, 0, 0); fill-opacity: 1; stroke: rgb(229, 236, 246); stroke-opacity: 1;\"/><text class=\"bartext bartext-inside\" text-anchor=\"middle\" data-notex=\"1\" x=\"0\" y=\"0\" style=\"font-family: 'Open Sans', verdana, arial, sans-serif; font-size: 12px; fill: rgb(255, 255, 255); fill-opacity: 1; white-space: pre;\" transform=\"translate(61.4775,269.003125)rotate(90 0.1875 -4.5)\">-46.0</text></g><g class=\"point\"><path d=\"M127.44,0V75.63H160.33V0Z\" style=\"vector-effect: non-scaling-stroke; opacity: 1; stroke-width: 2px; fill: rgb(82, 150, 221); fill-opacity: 1; stroke: rgb(229, 236, 246); stroke-opacity: 1;\"/><text class=\"bartext bartext-inside\" text-anchor=\"middle\" data-notex=\"1\" x=\"0\" y=\"0\" style=\"font-family: 'Open Sans', verdana, arial, sans-serif; font-size: 12px; fill: rgb(68, 68, 68); fill-opacity: 1; white-space: pre;\" transform=\"translate(143.6975,60.583124999999995)rotate(90 0.1875 -4.5)\">-45.0</text></g><g class=\"point\"><path d=\"M168.56,0V70.59H201.44V0Z\" style=\"vector-effect: non-scaling-stroke; opacity: 1; stroke-width: 2px; fill: rgb(82, 150, 221); fill-opacity: 1; stroke: rgb(229, 236, 246); stroke-opacity: 1;\"/><text class=\"bartext bartext-inside\" text-anchor=\"middle\" data-notex=\"1\" x=\"0\" y=\"0\" style=\"font-family: 'Open Sans', verdana, arial, sans-serif; font-size: 12px; fill: rgb(68, 68, 68); fill-opacity: 1; white-space: pre;\" transform=\"translate(184.8125,55.543125)rotate(90 0.1875 -4.5)\">-42.0</text></g><g class=\"point\"><path d=\"M209.67,0V62.19H242.56V0Z\" style=\"vector-effect: non-scaling-stroke; opacity: 1; stroke-width: 2px; fill: rgb(82, 150, 221); fill-opacity: 1; stroke: rgb(229, 236, 246); stroke-opacity: 1;\"/><text class=\"bartext bartext-inside\" text-anchor=\"middle\" data-notex=\"1\" x=\"0\" y=\"0\" style=\"font-family: 'Open Sans', verdana, arial, sans-serif; font-size: 12px; fill: rgb(68, 68, 68); fill-opacity: 1; white-space: pre;\" transform=\"translate(225.9275,47.143125)rotate(90 0.1875 -4.5)\">-37.0</text></g><g class=\"point\"><path d=\"M250.78,0V62.19H283.67V0Z\" style=\"vector-effect: non-scaling-stroke; opacity: 1; stroke-width: 2px; fill: rgb(82, 150, 221); fill-opacity: 1; stroke: rgb(229, 236, 246); stroke-opacity: 1;\"/><text class=\"bartext bartext-inside\" text-anchor=\"middle\" data-notex=\"1\" x=\"0\" y=\"0\" style=\"font-family: 'Open Sans', verdana, arial, sans-serif; font-size: 12px; fill: rgb(68, 68, 68); fill-opacity: 1; white-space: pre;\" transform=\"translate(267.0375,47.143125)rotate(90 0.1875 -4.5)\">-37.0</text></g><g class=\"point\"><path d=\"M291.89,0V58.83H324.78V0Z\" style=\"vector-effect: non-scaling-stroke; opacity: 1; stroke-width: 2px; fill: rgb(82, 150, 221); fill-opacity: 1; stroke: rgb(229, 236, 246); stroke-opacity: 1;\"/><text class=\"bartext bartext-inside\" text-anchor=\"middle\" data-notex=\"1\" x=\"0\" y=\"0\" style=\"font-family: 'Open Sans', verdana, arial, sans-serif; font-size: 12px; fill: rgb(68, 68, 68); fill-opacity: 1; white-space: pre;\" transform=\"translate(308.1475,43.783125)rotate(90 0.1875 -4.5)\">-35.0</text></g><g class=\"point\"><path d=\"M333,0V53.78H365.89V0Z\" style=\"vector-effect: non-scaling-stroke; opacity: 1; stroke-width: 2px; fill: rgb(82, 150, 221); fill-opacity: 1; stroke: rgb(229, 236, 246); stroke-opacity: 1;\"/><text class=\"bartext bartext-inside\" text-anchor=\"middle\" data-notex=\"1\" x=\"0\" y=\"0\" style=\"font-family: 'Open Sans', verdana, arial, sans-serif; font-size: 12px; fill: rgb(68, 68, 68); fill-opacity: 1; white-space: pre;\" transform=\"translate(349.2575,38.733125)rotate(90 0.1875 -4.5)\">-32.0</text></g><g class=\"point\"><path d=\"M374.11,0V53.78H407V0Z\" style=\"vector-effect: non-scaling-stroke; opacity: 1; stroke-width: 2px; fill: rgb(82, 150, 221); fill-opacity: 1; stroke: rgb(229, 236, 246); stroke-opacity: 1;\"/><text class=\"bartext bartext-inside\" text-anchor=\"middle\" data-notex=\"1\" x=\"0\" y=\"0\" style=\"font-family: 'Open Sans', verdana, arial, sans-serif; font-size: 12px; fill: rgb(68, 68, 68); fill-opacity: 1; white-space: pre;\" transform=\"translate(390.3675,38.733125)rotate(90 0.1875 -4.5)\">-32.0</text></g><g class=\"point\"><path d=\"M415.22,0V48.74H448.11V0Z\" style=\"vector-effect: non-scaling-stroke; opacity: 1; stroke-width: 2px; fill: rgb(82, 150, 221); fill-opacity: 1; stroke: rgb(229, 236, 246); stroke-opacity: 1;\"/><text class=\"bartext bartext-inside\" text-anchor=\"middle\" data-notex=\"1\" x=\"0\" y=\"0\" style=\"font-family: 'Open Sans', verdana, arial, sans-serif; font-size: 12px; fill: rgb(68, 68, 68); fill-opacity: 1; white-space: pre;\" transform=\"translate(431.4775,33.693125)rotate(90 0.1875 -4.5)\">-29.0</text></g><g class=\"point\"><path d=\"M456.33,0V47.06H489.22V0Z\" style=\"vector-effect: non-scaling-stroke; opacity: 1; stroke-width: 2px; fill: rgb(82, 150, 221); fill-opacity: 1; stroke: rgb(229, 236, 246); stroke-opacity: 1;\"/><text class=\"bartext bartext-inside\" text-anchor=\"middle\" data-notex=\"1\" x=\"0\" y=\"0\" style=\"font-family: 'Open Sans', verdana, arial, sans-serif; font-size: 12px; fill: rgb(68, 68, 68); fill-opacity: 1; white-space: pre;\" transform=\"translate(472.5875,32.013125)rotate(90 0.1875 -4.5)\">-28.0</text></g><g class=\"point\"><path d=\"M497.44,0V45.38H530.33V0Z\" style=\"vector-effect: non-scaling-stroke; opacity: 1; stroke-width: 2px; fill: rgb(82, 150, 221); fill-opacity: 1; stroke: rgb(229, 236, 246); stroke-opacity: 1;\"/><text class=\"bartext bartext-inside\" text-anchor=\"middle\" data-notex=\"1\" x=\"0\" y=\"0\" style=\"font-family: 'Open Sans', verdana, arial, sans-serif; font-size: 12px; fill: rgb(68, 68, 68); fill-opacity: 1; white-space: pre;\" transform=\"translate(513.6975,30.333125000000003)rotate(90 0.1875 -4.5)\">-27.0</text></g><g class=\"point\"><path d=\"M538.56,0V40.34H571.44V0Z\" style=\"vector-effect: non-scaling-stroke; opacity: 1; stroke-width: 2px; fill: rgb(82, 150, 221); fill-opacity: 1; stroke: rgb(229, 236, 246); stroke-opacity: 1;\"/><text class=\"bartext bartext-inside\" text-anchor=\"middle\" data-notex=\"1\" x=\"0\" y=\"0\" style=\"font-family: 'Open Sans', verdana, arial, sans-serif; font-size: 12px; fill: rgb(68, 68, 68); fill-opacity: 1; white-space: pre;\" transform=\"translate(554.8125,25.293125000000003)rotate(90 0.1875 -4.5)\">-24.0</text></g><g class=\"point\"><path d=\"M579.67,0V36.98H612.56V0Z\" style=\"vector-effect: non-scaling-stroke; opacity: 1; stroke-width: 2px; fill: rgb(82, 150, 221); fill-opacity: 1; stroke: rgb(229, 236, 246); stroke-opacity: 1;\"/><text class=\"bartext bartext-inside\" text-anchor=\"middle\" data-notex=\"1\" x=\"0\" y=\"0\" style=\"font-family: 'Open Sans', verdana, arial, sans-serif; font-size: 12px; fill: rgb(68, 68, 68); fill-opacity: 1; white-space: pre;\" transform=\"translate(595.9394759206799,22.702577903682716)scale(0.9361284230406043)rotate(90 0.1875 -4.5)\">-22.0</text></g><g class=\"point\"><path d=\"M620.78,0V33.62H653.67V0Z\" style=\"vector-effect: non-scaling-stroke; opacity: 1; stroke-width: 2px; fill: rgb(82, 150, 221); fill-opacity: 1; stroke: rgb(229, 236, 246); stroke-opacity: 1;\"/><text class=\"bartext bartext-inside\" text-anchor=\"middle\" data-notex=\"1\" x=\"0\" y=\"0\" style=\"font-family: 'Open Sans', verdana, arial, sans-serif; font-size: 12px; fill: rgb(68, 68, 68); fill-opacity: 1; white-space: pre;\" transform=\"translate(637.0685127478753,20.5656940509915)scale(0.8345986779981114)rotate(90 0.1875 -4.5)\">-20.0</text></g><g class=\"point\"><path d=\"M661.89,0V30.25H694.78V0Z\" style=\"vector-effect: non-scaling-stroke; opacity: 1; stroke-width: 2px; fill: rgb(82, 150, 221); fill-opacity: 1; stroke: rgb(229, 236, 246); stroke-opacity: 1;\"/><text class=\"bartext bartext-inside\" text-anchor=\"middle\" data-notex=\"1\" x=\"0\" y=\"0\" style=\"font-family: 'Open Sans', verdana, arial, sans-serif; font-size: 12px; fill: rgb(68, 68, 68); fill-opacity: 1; white-space: pre;\" transform=\"translate(678.1826487252125,24.812379603399435)scale(0.8125401322001884)\">-18.0</text></g><g class=\"point\"><path d=\"M703,0V28.57H735.89V0Z\" style=\"vector-effect: non-scaling-stroke; opacity: 1; stroke-width: 2px; fill: rgb(82, 150, 221); fill-opacity: 1; stroke: rgb(229, 236, 246); stroke-opacity: 1;\"/><text class=\"bartext bartext-inside\" text-anchor=\"middle\" data-notex=\"1\" x=\"0\" y=\"0\" style=\"font-family: 'Open Sans', verdana, arial, sans-serif; font-size: 12px; fill: rgb(68, 68, 68); fill-opacity: 1; white-space: pre;\" transform=\"translate(719.2926487252124,23.132379603399436)scale(0.8125401322001884)\">-17.0</text></g></g></g></g></g><g class=\"overplot\"/><path class=\"xlines-above crisp\" d=\"M0,0\" style=\"fill: none;\"/><path class=\"ylines-above crisp\" d=\"M0,0\" style=\"fill: none;\"/><g class=\"overlines-above\"/><g class=\"xaxislayer-above\"><g class=\"xtick\"><text text-anchor=\"end\" x=\"0\" y=\"117.6\" transform=\"translate(100.56,0) rotate(30,0,111.6)\" style=\"font-family: 'Open Sans', verdana, arial, sans-serif; font-size: 12px; fill: rgb(42, 63, 95); fill-opacity: 1; white-space: pre; opacity: 1;\">bluewaffle2019</text></g><g class=\"xtick\"><text text-anchor=\"end\" x=\"0\" y=\"117.6\" transform=\"translate(141.67000000000002,0) rotate(30,0,111.6)\" style=\"font-family: 'Open Sans', verdana, arial, sans-serif; font-size: 12px; fill: rgb(42, 63, 95); fill-opacity: 1; white-space: pre; opacity: 1;\">someonesgranpa</text></g><g class=\"xtick\"><text text-anchor=\"end\" x=\"0\" y=\"117.6\" transform=\"translate(182.78,0) rotate(30,0,111.6)\" style=\"font-family: 'Open Sans', verdana, arial, sans-serif; font-size: 12px; fill: rgb(42, 63, 95); fill-opacity: 1; white-space: pre; opacity: 1;\">Expert_Grade</text></g><g class=\"xtick\"><text text-anchor=\"end\" x=\"0\" y=\"117.6\" transform=\"translate(223.89,0) rotate(30,0,111.6)\" style=\"font-family: 'Open Sans', verdana, arial, sans-serif; font-size: 12px; fill: rgb(42, 63, 95); fill-opacity: 1; white-space: pre; opacity: 1;\">hahseya</text></g><g class=\"xtick\"><text text-anchor=\"end\" x=\"0\" y=\"117.6\" transform=\"translate(265,0) rotate(30,0,111.6)\" style=\"font-family: 'Open Sans', verdana, arial, sans-serif; font-size: 12px; fill: rgb(42, 63, 95); fill-opacity: 1; white-space: pre; opacity: 1;\">jimmyray01</text></g><g class=\"xtick\"><text text-anchor=\"end\" x=\"0\" y=\"117.6\" transform=\"translate(306.11,0) rotate(30,0,111.6)\" style=\"font-family: 'Open Sans', verdana, arial, sans-serif; font-size: 12px; fill: rgb(42, 63, 95); fill-opacity: 1; white-space: pre; opacity: 1;\">sloppycuntplunger</text></g><g class=\"xtick\"><text text-anchor=\"end\" x=\"0\" y=\"117.6\" transform=\"translate(347.22,0) rotate(30,0,111.6)\" style=\"font-family: 'Open Sans', verdana, arial, sans-serif; font-size: 12px; fill: rgb(42, 63, 95); fill-opacity: 1; white-space: pre; opacity: 1;\">AreYou4RealM8</text></g><g class=\"xtick\"><text text-anchor=\"end\" x=\"0\" y=\"117.6\" transform=\"translate(388.33,0) rotate(30,0,111.6)\" style=\"font-family: 'Open Sans', verdana, arial, sans-serif; font-size: 12px; fill: rgb(42, 63, 95); fill-opacity: 1; white-space: pre; opacity: 1;\">sleepycatinarayofsun</text></g><g class=\"xtick\"><text text-anchor=\"end\" x=\"0\" y=\"117.6\" transform=\"translate(429.44,0) rotate(30,0,111.6)\" style=\"font-family: 'Open Sans', verdana, arial, sans-serif; font-size: 12px; fill: rgb(42, 63, 95); fill-opacity: 1; white-space: pre; opacity: 1;\">GreenCountryTowne</text></g><g class=\"xtick\"><text text-anchor=\"end\" x=\"0\" y=\"117.6\" transform=\"translate(470.56,0) rotate(30,0,111.6)\" style=\"font-family: 'Open Sans', verdana, arial, sans-serif; font-size: 12px; fill: rgb(42, 63, 95); fill-opacity: 1; white-space: pre; opacity: 1;\">Alpha-OMG</text></g><g class=\"xtick\"><text text-anchor=\"end\" x=\"0\" y=\"117.6\" transform=\"translate(511.67,0) rotate(30,0,111.6)\" style=\"font-family: 'Open Sans', verdana, arial, sans-serif; font-size: 12px; fill: rgb(42, 63, 95); fill-opacity: 1; white-space: pre; opacity: 1;\">Legitimate-Basket-13</text></g><g class=\"xtick\"><text text-anchor=\"end\" x=\"0\" y=\"117.6\" transform=\"translate(552.78,0) rotate(30,0,111.6)\" style=\"font-family: 'Open Sans', verdana, arial, sans-serif; font-size: 12px; fill: rgb(42, 63, 95); fill-opacity: 1; white-space: pre; opacity: 1;\">gariant</text></g><g class=\"xtick\"><text text-anchor=\"end\" x=\"0\" y=\"117.6\" transform=\"translate(593.89,0) rotate(30,0,111.6)\" style=\"font-family: 'Open Sans', verdana, arial, sans-serif; font-size: 12px; fill: rgb(42, 63, 95); fill-opacity: 1; white-space: pre; opacity: 1;\">Additional_Meeting_2</text></g><g class=\"xtick\"><text text-anchor=\"end\" x=\"0\" y=\"117.6\" transform=\"translate(635,0) rotate(30,0,111.6)\" style=\"font-family: 'Open Sans', verdana, arial, sans-serif; font-size: 12px; fill: rgb(42, 63, 95); fill-opacity: 1; white-space: pre; opacity: 1;\">crunchypens</text></g><g class=\"xtick\"><text text-anchor=\"end\" x=\"0\" y=\"117.6\" transform=\"translate(676.11,0) rotate(30,0,111.6)\" style=\"font-family: 'Open Sans', verdana, arial, sans-serif; font-size: 12px; fill: rgb(42, 63, 95); fill-opacity: 1; white-space: pre; opacity: 1;\">Important_Morning271</text></g><g class=\"xtick\"><text text-anchor=\"end\" x=\"0\" y=\"117.6\" transform=\"translate(717.22,0) rotate(30,0,111.6)\" style=\"font-family: 'Open Sans', verdana, arial, sans-serif; font-size: 12px; fill: rgb(42, 63, 95); fill-opacity: 1; white-space: pre; opacity: 1;\">Encontra</text></g><g class=\"xtick\"><text text-anchor=\"end\" x=\"0\" y=\"117.6\" transform=\"translate(758.33,0) rotate(30,0,111.6)\" style=\"font-family: 'Open Sans', verdana, arial, sans-serif; font-size: 12px; fill: rgb(42, 63, 95); fill-opacity: 1; white-space: pre; opacity: 1;\">Danteriusx</text></g><g class=\"xtick\"><text text-anchor=\"end\" x=\"0\" y=\"117.6\" transform=\"translate(799.44,0) rotate(30,0,111.6)\" style=\"font-family: 'Open Sans', verdana, arial, sans-serif; font-size: 12px; fill: rgb(42, 63, 95); fill-opacity: 1; white-space: pre; opacity: 1;\">Apocalypse_and_chill</text></g></g><g class=\"yaxislayer-above\"><g class=\"ytick\"><text text-anchor=\"end\" x=\"79\" y=\"4.199999999999999\" transform=\"translate(0,373.12)\" style=\"font-family: 'Open Sans', verdana, arial, sans-serif; font-size: 12px; fill: rgb(42, 63, 95); fill-opacity: 1; white-space: pre; opacity: 1;\">−150</text></g><g class=\"ytick\"><text text-anchor=\"end\" x=\"79\" y=\"4.199999999999999\" style=\"font-family: 'Open Sans', verdana, arial, sans-serif; font-size: 12px; fill: rgb(42, 63, 95); fill-opacity: 1; white-space: pre; opacity: 1;\" transform=\"translate(0,289.08000000000004)\">−100</text></g><g class=\"ytick\"><text text-anchor=\"end\" x=\"79\" y=\"4.199999999999999\" style=\"font-family: 'Open Sans', verdana, arial, sans-serif; font-size: 12px; fill: rgb(42, 63, 95); fill-opacity: 1; white-space: pre; opacity: 1;\" transform=\"translate(0,205.04000000000002)\">−50</text></g><g class=\"ytick\"><text text-anchor=\"end\" x=\"79\" y=\"4.199999999999999\" style=\"font-family: 'Open Sans', verdana, arial, sans-serif; font-size: 12px; fill: rgb(42, 63, 95); fill-opacity: 1; white-space: pre; opacity: 1;\" transform=\"translate(0,121)\">0</text></g></g><g class=\"overaxes-above\"/></g></g><g class=\"polarlayer\"/><g class=\"ternarylayer\"/><g class=\"geolayer\"/><g class=\"funnelarealayer\"/><g class=\"pielayer\"/><g class=\"iciclelayer\"/><g class=\"treemaplayer\"/><g class=\"sunburstlayer\"/><g class=\"glimages\"/><defs id=\"topdefs-3603a0\"><g class=\"clips\"/></defs><g class=\"layer-above\"><g class=\"imagelayer\"/><g class=\"shapelayer\"/></g><g class=\"infolayer\"><g class=\"g-gtitle\"><text class=\"gtitle\" x=\"450\" y=\"400\" text-anchor=\"middle\" dy=\"0em\" style=\"font-family: 'Open Sans', verdana, arial, sans-serif; font-size: 17px; fill: rgb(42, 63, 95); opacity: 1; font-weight: normal; white-space: pre;\">Unverified accounts with minimum contribution scores in 2021</text></g><g class=\"g-xtitle\" transform=\"translate(0,2.331249999999997)\"><text class=\"xtitle\" x=\"450\" y=\"11.668750000000003\" text-anchor=\"middle\" style=\"font-family: 'Open Sans', verdana, arial, sans-serif; font-size: 14px; fill: rgb(42, 63, 95); opacity: 1; font-weight: normal; white-space: pre;\">user name</text></g><g class=\"g-ytitle\"><text class=\"ytitle\" transform=\"rotate(-90,21.481250000000003,270.5)\" x=\"21.481250000000003\" y=\"270.5\" text-anchor=\"middle\" style=\"font-family: 'Open Sans', verdana, arial, sans-serif; font-size: 14px; fill: rgb(42, 63, 95); opacity: 1; font-weight: normal; white-space: pre;\">score</text></g></g></svg>"
      ]
     },
     "metadata": {},
     "output_type": "display_data"
    }
   ],
   "source": [
    "# Filter on minimum scores\n",
    "\n",
    "df_scores_low = df_unverified.sort_values('score').head(20)\n",
    "\n",
    "fig = px.bar(df_scores_low,\n",
    "             x='user_name', \n",
    "             y=df_scores_low.score, \n",
    "             text = df_scores_low.score)\n",
    "\n",
    "fig.update_layout(title_text='Unverified accounts with minimum contribution scores in 2021', title_x=0.5, title_y=0.2)\n",
    "\n",
    "fig.update_layout(\n",
    "    xaxis = dict(\n",
    "        side='top',\n",
    "        title='user name',\n",
    "        tickmode = 'array',\n",
    "        tickvals = df_scores_low.user_name,\n",
    "    )\n",
    ")\n",
    "\n",
    "clrs = ['red' if (y < -45) else '#5296dd' for y in df_scores_low.score]\n",
    "\n",
    "fig.update_traces(marker_color=clrs,\n",
    "                  marker_line_width=2, opacity=1, textposition='auto')\n",
    "\n",
    "\n",
    "fig.show()\n",
    "\n"
   ]
  },
  {
   "cell_type": "code",
   "execution_count": 69,
   "id": "96cd3cf6",
   "metadata": {},
   "outputs": [
    {
     "data": {
      "text/html": [
       "<div>\n",
       "<style scoped>\n",
       "    .dataframe tbody tr th:only-of-type {\n",
       "        vertical-align: middle;\n",
       "    }\n",
       "\n",
       "    .dataframe tbody tr th {\n",
       "        vertical-align: top;\n",
       "    }\n",
       "\n",
       "    .dataframe thead th {\n",
       "        text-align: right;\n",
       "    }\n",
       "</style>\n",
       "<table border=\"1\" class=\"dataframe\">\n",
       "  <thead>\n",
       "    <tr style=\"text-align: right;\">\n",
       "      <th></th>\n",
       "      <th>child_id</th>\n",
       "      <th>permalink</th>\n",
       "      <th>text</th>\n",
       "      <th>parent_id</th>\n",
       "      <th>subreddit</th>\n",
       "      <th>created_at</th>\n",
       "      <th>sentiment_blob</th>\n",
       "      <th>sentiment_nltk</th>\n",
       "      <th>score</th>\n",
       "      <th>top_level</th>\n",
       "      <th>...</th>\n",
       "      <th>is_mod</th>\n",
       "      <th>is_gold</th>\n",
       "      <th>is_banned</th>\n",
       "      <th>comment_karma</th>\n",
       "      <th>link_karma</th>\n",
       "      <th>user_created_at</th>\n",
       "      <th>banned_unverified</th>\n",
       "      <th>creation_year</th>\n",
       "      <th>diff</th>\n",
       "      <th>days_after_creation</th>\n",
       "    </tr>\n",
       "  </thead>\n",
       "  <tbody>\n",
       "    <tr>\n",
       "      <th>11658</th>\n",
       "      <td>t1_gplcmal</td>\n",
       "      <td>/r/TrueOffMyChest/comments/lx2s7w/its_disgusti...</td>\n",
       "      <td>So how did you feel when Depp publicly threate...</td>\n",
       "      <td>t1_gpkyjx4</td>\n",
       "      <td>r/TrueOffMyChest</td>\n",
       "      <td>2021-03-03 23:26:57</td>\n",
       "      <td>Neutral</td>\n",
       "      <td>Neutral</td>\n",
       "      <td>-73.0</td>\n",
       "      <td>comment</td>\n",
       "      <td>...</td>\n",
       "      <td>False</td>\n",
       "      <td>False</td>\n",
       "      <td>False</td>\n",
       "      <td>24097.0</td>\n",
       "      <td>93.0</td>\n",
       "      <td>2019-08-12 10:10:21</td>\n",
       "      <td>unverified</td>\n",
       "      <td>2019</td>\n",
       "      <td>569 days 13:16:36</td>\n",
       "      <td>569.0</td>\n",
       "    </tr>\n",
       "  </tbody>\n",
       "</table>\n",
       "<p>1 rows × 24 columns</p>\n",
       "</div>"
      ],
      "text/plain": [
       "         child_id                                          permalink  \\\n",
       "11658  t1_gplcmal  /r/TrueOffMyChest/comments/lx2s7w/its_disgusti...   \n",
       "\n",
       "                                                    text   parent_id  \\\n",
       "11658  So how did you feel when Depp publicly threate...  t1_gpkyjx4   \n",
       "\n",
       "              subreddit          created_at sentiment_blob sentiment_nltk  \\\n",
       "11658  r/TrueOffMyChest 2021-03-03 23:26:57        Neutral        Neutral   \n",
       "\n",
       "       score top_level  ... is_mod is_gold is_banned  comment_karma  \\\n",
       "11658  -73.0   comment  ...  False   False     False        24097.0   \n",
       "\n",
       "       link_karma     user_created_at  banned_unverified  creation_year  \\\n",
       "11658        93.0 2019-08-12 10:10:21         unverified           2019   \n",
       "\n",
       "                    diff days_after_creation  \n",
       "11658  569 days 13:16:36               569.0  \n",
       "\n",
       "[1 rows x 24 columns]"
      ]
     },
     "execution_count": 69,
     "metadata": {},
     "output_type": "execute_result"
    }
   ],
   "source": [
    "df_unverified[df_unverified.user_name == 'bluewaffle2019']"
   ]
  },
  {
   "cell_type": "code",
   "execution_count": 70,
   "id": "db6e20b2",
   "metadata": {},
   "outputs": [
    {
     "data": {
      "text/html": [
       "<div>\n",
       "<style scoped>\n",
       "    .dataframe tbody tr th:only-of-type {\n",
       "        vertical-align: middle;\n",
       "    }\n",
       "\n",
       "    .dataframe tbody tr th {\n",
       "        vertical-align: top;\n",
       "    }\n",
       "\n",
       "    .dataframe thead th {\n",
       "        text-align: right;\n",
       "    }\n",
       "</style>\n",
       "<table border=\"1\" class=\"dataframe\">\n",
       "  <thead>\n",
       "    <tr style=\"text-align: right;\">\n",
       "      <th></th>\n",
       "      <th>child_id</th>\n",
       "      <th>permalink</th>\n",
       "      <th>text</th>\n",
       "      <th>parent_id</th>\n",
       "      <th>subreddit</th>\n",
       "      <th>created_at</th>\n",
       "      <th>sentiment_blob</th>\n",
       "      <th>sentiment_nltk</th>\n",
       "      <th>score</th>\n",
       "      <th>top_level</th>\n",
       "      <th>submission_comment</th>\n",
       "      <th>submission_text</th>\n",
       "      <th>user_name</th>\n",
       "      <th>has_verified_email</th>\n",
       "      <th>is_mod</th>\n",
       "      <th>is_gold</th>\n",
       "      <th>is_banned</th>\n",
       "      <th>comment_karma</th>\n",
       "      <th>link_karma</th>\n",
       "      <th>user_created_at</th>\n",
       "      <th>banned_unverified</th>\n",
       "      <th>creation_year</th>\n",
       "      <th>diff</th>\n",
       "      <th>days_after_creation</th>\n",
       "    </tr>\n",
       "  </thead>\n",
       "  <tbody>\n",
       "    <tr>\n",
       "      <th>9039</th>\n",
       "      <td>t1_go4k204</td>\n",
       "      <td>/r/entertainment/comments/lo748q/emilia_clarke_to_replace_amber_heard_as_mera_in/go4k204/</td>\n",
       "      <td>She’s way too expensive. DC absolutely cannot afford her for a “side-kick” role.</td>\n",
       "      <td>t1_go4gnh1</td>\n",
       "      <td>r/entertainment</td>\n",
       "      <td>2021-02-20 15:25:59</td>\n",
       "      <td>Negative</td>\n",
       "      <td>Neutral</td>\n",
       "      <td>-61.0</td>\n",
       "      <td>comment</td>\n",
       "      <td>comment</td>\n",
       "      <td>emilia_clarke_to_replace_amber_heard_as_mera_in</td>\n",
       "      <td>someonesgranpa</td>\n",
       "      <td>False</td>\n",
       "      <td>False</td>\n",
       "      <td>False</td>\n",
       "      <td>False</td>\n",
       "      <td>4448.0</td>\n",
       "      <td>33.0</td>\n",
       "      <td>2021-01-13 00:48:37</td>\n",
       "      <td>unverified</td>\n",
       "      <td>2021</td>\n",
       "      <td>38 days 14:37:22</td>\n",
       "      <td>38.0</td>\n",
       "    </tr>\n",
       "  </tbody>\n",
       "</table>\n",
       "</div>"
      ],
      "text/plain": [
       "        child_id  \\\n",
       "9039  t1_go4k204   \n",
       "\n",
       "                                                                                      permalink  \\\n",
       "9039  /r/entertainment/comments/lo748q/emilia_clarke_to_replace_amber_heard_as_mera_in/go4k204/   \n",
       "\n",
       "                                                                                  text  \\\n",
       "9039  She’s way too expensive. DC absolutely cannot afford her for a “side-kick” role.   \n",
       "\n",
       "       parent_id        subreddit          created_at sentiment_blob  \\\n",
       "9039  t1_go4gnh1  r/entertainment 2021-02-20 15:25:59       Negative   \n",
       "\n",
       "     sentiment_nltk  score top_level submission_comment  \\\n",
       "9039        Neutral  -61.0   comment            comment   \n",
       "\n",
       "                                      submission_text       user_name  \\\n",
       "9039  emilia_clarke_to_replace_amber_heard_as_mera_in  someonesgranpa   \n",
       "\n",
       "      has_verified_email  is_mod  is_gold  is_banned  comment_karma  \\\n",
       "9039               False   False    False      False         4448.0   \n",
       "\n",
       "      link_karma     user_created_at banned_unverified creation_year  \\\n",
       "9039        33.0 2021-01-13 00:48:37        unverified          2021   \n",
       "\n",
       "                  diff  days_after_creation  \n",
       "9039  38 days 14:37:22                 38.0  "
      ]
     },
     "metadata": {},
     "output_type": "display_data"
    }
   ],
   "source": [
    "with pd.option_context('display.max_colwidth', None, 'display.max_columns', None):\n",
    "  display(df_unverified[df_unverified.user_name == 'someonesgranpa'].head(1))"
   ]
  },
  {
   "cell_type": "code",
   "execution_count": 71,
   "id": "6d109ae6",
   "metadata": {},
   "outputs": [
    {
     "data": {
      "text/html": [
       "<div>\n",
       "<style scoped>\n",
       "    .dataframe tbody tr th:only-of-type {\n",
       "        vertical-align: middle;\n",
       "    }\n",
       "\n",
       "    .dataframe tbody tr th {\n",
       "        vertical-align: top;\n",
       "    }\n",
       "\n",
       "    .dataframe thead th {\n",
       "        text-align: right;\n",
       "    }\n",
       "</style>\n",
       "<table border=\"1\" class=\"dataframe\">\n",
       "  <thead>\n",
       "    <tr style=\"text-align: right;\">\n",
       "      <th></th>\n",
       "      <th>child_id</th>\n",
       "      <th>permalink</th>\n",
       "      <th>text</th>\n",
       "      <th>parent_id</th>\n",
       "      <th>subreddit</th>\n",
       "      <th>created_at</th>\n",
       "      <th>sentiment_blob</th>\n",
       "      <th>sentiment_nltk</th>\n",
       "      <th>score</th>\n",
       "      <th>top_level</th>\n",
       "      <th>...</th>\n",
       "      <th>is_mod</th>\n",
       "      <th>is_gold</th>\n",
       "      <th>is_banned</th>\n",
       "      <th>comment_karma</th>\n",
       "      <th>link_karma</th>\n",
       "      <th>user_created_at</th>\n",
       "      <th>banned_unverified</th>\n",
       "      <th>creation_year</th>\n",
       "      <th>diff</th>\n",
       "      <th>days_after_creation</th>\n",
       "    </tr>\n",
       "  </thead>\n",
       "  <tbody>\n",
       "    <tr>\n",
       "      <th>4562</th>\n",
       "      <td>t1_ginffyl</td>\n",
       "      <td>/r/EntitledBitch/comments/ktkm8u/fuck_amber_heard/ginffyl/</td>\n",
       "      <td>Johnny Depp beat her then tried to silence her.\\n\\nReddit hates women.\\n\\n\\nSo...</td>\n",
       "      <td>t1_gin6f9c</td>\n",
       "      <td>r/EntitledBitch</td>\n",
       "      <td>2021-01-09 12:36:22</td>\n",
       "      <td>Neutral</td>\n",
       "      <td>Negative</td>\n",
       "      <td>-62.0</td>\n",
       "      <td>comment</td>\n",
       "      <td>...</td>\n",
       "      <td>False</td>\n",
       "      <td>False</td>\n",
       "      <td>False</td>\n",
       "      <td>1774.0</td>\n",
       "      <td>160.0</td>\n",
       "      <td>2020-08-25 15:46:24</td>\n",
       "      <td>unverified</td>\n",
       "      <td>2020</td>\n",
       "      <td>136 days 20:49:58</td>\n",
       "      <td>136.0</td>\n",
       "    </tr>\n",
       "    <tr>\n",
       "      <th>4563</th>\n",
       "      <td>t1_ginuzgy</td>\n",
       "      <td>/r/EntitledBitch/comments/ktkm8u/fuck_amber_heard/ginuzgy/</td>\n",
       "      <td>Simping for a drug war propagandist who left River Phoenix to die.</td>\n",
       "      <td>t1_ginqn71</td>\n",
       "      <td>r/EntitledBitch</td>\n",
       "      <td>2021-01-09 15:36:35</td>\n",
       "      <td>Neutral</td>\n",
       "      <td>Negative</td>\n",
       "      <td>-15.0</td>\n",
       "      <td>comment</td>\n",
       "      <td>...</td>\n",
       "      <td>False</td>\n",
       "      <td>False</td>\n",
       "      <td>False</td>\n",
       "      <td>1774.0</td>\n",
       "      <td>160.0</td>\n",
       "      <td>2020-08-25 15:46:24</td>\n",
       "      <td>unverified</td>\n",
       "      <td>2020</td>\n",
       "      <td>136 days 23:50:11</td>\n",
       "      <td>136.0</td>\n",
       "    </tr>\n",
       "  </tbody>\n",
       "</table>\n",
       "<p>2 rows × 24 columns</p>\n",
       "</div>"
      ],
      "text/plain": [
       "        child_id                                                   permalink  \\\n",
       "4562  t1_ginffyl  /r/EntitledBitch/comments/ktkm8u/fuck_amber_heard/ginffyl/   \n",
       "4563  t1_ginuzgy  /r/EntitledBitch/comments/ktkm8u/fuck_amber_heard/ginuzgy/   \n",
       "\n",
       "                                                                                   text  \\\n",
       "4562  Johnny Depp beat her then tried to silence her.\\n\\nReddit hates women.\\n\\n\\nSo...   \n",
       "4563                 Simping for a drug war propagandist who left River Phoenix to die.   \n",
       "\n",
       "       parent_id        subreddit          created_at sentiment_blob  \\\n",
       "4562  t1_gin6f9c  r/EntitledBitch 2021-01-09 12:36:22        Neutral   \n",
       "4563  t1_ginqn71  r/EntitledBitch 2021-01-09 15:36:35        Neutral   \n",
       "\n",
       "     sentiment_nltk  score top_level  ... is_mod is_gold is_banned  \\\n",
       "4562       Negative  -62.0   comment  ...  False   False     False   \n",
       "4563       Negative  -15.0   comment  ...  False   False     False   \n",
       "\n",
       "      comment_karma  link_karma     user_created_at  banned_unverified  \\\n",
       "4562         1774.0       160.0 2020-08-25 15:46:24         unverified   \n",
       "4563         1774.0       160.0 2020-08-25 15:46:24         unverified   \n",
       "\n",
       "      creation_year               diff days_after_creation  \n",
       "4562           2020  136 days 20:49:58               136.0  \n",
       "4563           2020  136 days 23:50:11               136.0  \n",
       "\n",
       "[2 rows x 24 columns]"
      ]
     },
     "metadata": {},
     "output_type": "display_data"
    }
   ],
   "source": [
    "with pd.option_context('display.max_colwidth', None):\n",
    "  display(df_unverified[df_unverified.user_name == 'Expert_Grade'].head(2))\n",
    "\n",
    "# Defending AH"
   ]
  },
  {
   "cell_type": "markdown",
   "id": "83958499",
   "metadata": {},
   "source": [
    "https://www.reddit.com/r/EntitledBitch/comments/ktkm8u/fuck_amber_heard/ginffyl/"
   ]
  },
  {
   "cell_type": "markdown",
   "id": "efab1fbd",
   "metadata": {},
   "source": [
    "<a id='unverified_contributions'></a>\n",
    ">>### Contributions of Unverified accounts in 2021\n",
    "\n",
    "<ul>\n",
    "<li><a href=\"#largest_link_karma\">Unverified Accounts With The Largest Link Karma</a></li>   \n",
    "<li><a href=\"#largest_comment_karma\">Unverified Accounts With The Largest Comment Karma</a></li>\n",
    "    <br>\n",
    "<li><a href=\"#minimum_link_karma\">Unverified Accounts With The Minimum Link Karma</a></li>\n",
    "<li><a href=\"#minimum_comment_karma\">Unverified Accounts With The Minimum Comment Karma</a></li>\n",
    "    <br>\n",
    "<li><a href=\"#largest_scores\">Explore the largest scores</a></li>\n",
    "<li><a href=\"#minimum_scores\">Explore the minimum scores</a></li>\n",
    "    <br>\n",
    "<li><a href=\"#unverified_contributions\"><b><mark>Contributions of Unverified accounts in 2021</mark></b></a></li>\n",
    "<li><a href=\"#unverified_creations\">Creation years of the unverified accounts contributed in 2021</a></li>\n",
    "<li><a href=\"#unverified_peak\">Unverified Contributions Peaks</a></li>\n",
    "</ul>"
   ]
  },
  {
   "cell_type": "markdown",
   "id": "3f58909e",
   "metadata": {},
   "source": [
    ">>### Unverified accounts contributions in 2021"
   ]
  },
  {
   "cell_type": "markdown",
   "id": "1f54edb6",
   "metadata": {},
   "source": [
    "### Contributions"
   ]
  },
  {
   "cell_type": "code",
   "execution_count": 72,
   "id": "02a77dc2",
   "metadata": {},
   "outputs": [
    {
     "data": {
      "image/svg+xml": [
       "<svg class=\"main-svg\" xmlns=\"http://www.w3.org/2000/svg\" xmlns:xlink=\"http://www.w3.org/1999/xlink\" width=\"900\" height=\"500\" style=\"\" viewBox=\"0 0 900 500\"><rect x=\"0\" y=\"0\" width=\"900\" height=\"500\" style=\"fill: rgb(255, 255, 255); fill-opacity: 1;\"/><defs id=\"defs-93ef10\"><g class=\"clips\"/><g class=\"gradients\"/><g class=\"patterns\"/></defs><g class=\"bglayer\"/><g class=\"layer-below\"><g class=\"imagelayer\"/><g class=\"shapelayer\"/></g><g class=\"cartesianlayer\"/><g class=\"polarlayer\"/><g class=\"ternarylayer\"/><g class=\"geolayer\"/><g class=\"funnelarealayer\"/><g class=\"pielayer\"><g class=\"trace\" stroke-linejoin=\"round\" style=\"opacity: 1;\"><g class=\"slice\"><path class=\"surface\" d=\"M424.5,260l0,-160a160,160 0 1 1 -104.85599035665062,39.147936358844106Z\" style=\"pointer-events: all; stroke-width: 0; fill: rgb(76, 120, 168); fill-opacity: 1; stroke: rgb(68, 68, 68); stroke-opacity: 1;\"/><g class=\"slicetext\"><text data-notex=\"1\" class=\"slicetext\" transform=\"translate(452.48139966436423,331.64223553772797)\" text-anchor=\"middle\" x=\"0\" y=\"0\" style=\"font-family: 'Open Sans', verdana, arial, sans-serif; font-size: 12px; fill: rgb(255, 255, 255); fill-opacity: 1; white-space: pre;\"><tspan class=\"line\" dy=\"0em\" x=\"0\" y=\"0\">verified</tspan><tspan class=\"line\" dy=\"1.3em\" x=\"0\" y=\"0\">88.6%</tspan></text></g></g><g class=\"slice\"><path class=\"surface\" d=\"M424.5,260l-104.85599035665054,-120.85206364115595a160,160 0 0 1 104.85599035665054,-39.14793635884405Z\" style=\"pointer-events: all; stroke-width: 0; fill: rgb(245, 133, 24); fill-opacity: 1; stroke: rgb(68, 68, 68); stroke-opacity: 1;\"/><g class=\"slicetext\"><text data-notex=\"1\" class=\"slicetext\" transform=\"translate(383.0389339255271,145.643708026365)\" text-anchor=\"middle\" x=\"0\" y=\"0\" style=\"font-family: 'Open Sans', verdana, arial, sans-serif; font-size: 12px; fill: rgb(68, 68, 68); fill-opacity: 1; white-space: pre;\"><tspan class=\"line\" dy=\"0em\" x=\"0\" y=\"0\">unverified</tspan><tspan class=\"line\" dy=\"1.3em\" x=\"0\" y=\"0\">11.4%</tspan></text></g></g></g></g><g class=\"iciclelayer\"/><g class=\"treemaplayer\"/><g class=\"sunburstlayer\"/><g class=\"glimages\"/><defs id=\"topdefs-93ef10\"><g class=\"clips\"/><clipPath id=\"legend93ef10\"><rect width=\"105\" height=\"48\" x=\"0\" y=\"0\"/></clipPath></defs><g class=\"layer-above\"><g class=\"imagelayer\"/><g class=\"shapelayer\"/></g><g class=\"infolayer\"><g class=\"legend\" pointer-events=\"all\" transform=\"translate(782.78,100)\"><rect class=\"bg\" shape-rendering=\"crispEdges\" style=\"stroke: rgb(68, 68, 68); stroke-opacity: 1; fill: rgb(255, 255, 255); fill-opacity: 1; stroke-width: 0px;\" width=\"105\" height=\"48\" x=\"0\" y=\"0\"/><g class=\"scrollbox\" transform=\"\" clip-path=\"url(#legend93ef10)\"><g class=\"groups\"><g class=\"traces\" transform=\"translate(0,14.5)\" style=\"opacity: 1;\"><text class=\"legendtext\" text-anchor=\"start\" x=\"40\" y=\"4.680000000000001\" style=\"font-family: 'Open Sans', verdana, arial, sans-serif; font-size: 12px; fill: rgb(42, 63, 95); fill-opacity: 1; white-space: pre;\">verified</text><g class=\"layers\" style=\"opacity: 1;\"><g class=\"legendfill\"/><g class=\"legendlines\"/><g class=\"legendsymbols\"><g class=\"legendpoints\"><path class=\"legendpie\" d=\"M6,6H-6V-6H6Z\" transform=\"translate(20,0)\" style=\"stroke-width: 0; fill: rgb(76, 120, 168); fill-opacity: 1; stroke: rgb(68, 68, 68); stroke-opacity: 1;\"/></g></g></g><rect class=\"legendtoggle\" x=\"0\" y=\"-9.5\" width=\"99.765625\" height=\"19\" style=\"fill: rgb(0, 0, 0); fill-opacity: 0;\"/></g><g class=\"traces\" transform=\"translate(0,33.5)\" style=\"opacity: 1;\"><text class=\"legendtext\" text-anchor=\"start\" x=\"40\" y=\"4.680000000000001\" style=\"font-family: 'Open Sans', verdana, arial, sans-serif; font-size: 12px; fill: rgb(42, 63, 95); fill-opacity: 1; white-space: pre;\">unverified</text><g class=\"layers\" style=\"opacity: 1;\"><g class=\"legendfill\"/><g class=\"legendlines\"/><g class=\"legendsymbols\"><g class=\"legendpoints\"><path class=\"legendpie\" d=\"M6,6H-6V-6H6Z\" transform=\"translate(20,0)\" style=\"stroke-width: 0; fill: rgb(245, 133, 24); fill-opacity: 1; stroke: rgb(68, 68, 68); stroke-opacity: 1;\"/></g></g></g><rect class=\"legendtoggle\" x=\"0\" y=\"-9.5\" width=\"99.765625\" height=\"19\" style=\"fill: rgb(0, 0, 0); fill-opacity: 0;\"/></g></g></g><rect class=\"scrollbar\" rx=\"20\" ry=\"3\" width=\"0\" height=\"0\" style=\"fill: rgb(128, 139, 164); fill-opacity: 1;\" x=\"0\" y=\"0\"/></g><g class=\"g-gtitle\"><text class=\"gtitle\" x=\"45\" y=\"50\" text-anchor=\"start\" dy=\"0em\" style=\"font-family: 'Open Sans', verdana, arial, sans-serif; font-size: 17px; fill: rgb(42, 63, 95); opacity: 1; font-weight: normal; white-space: pre;\">Contributions of Unverified accounts in 2021</text></g></g></svg>"
      ]
     },
     "metadata": {},
     "output_type": "display_data"
    }
   ],
   "source": [
    "fig = px.pie(df_merged.has_verified_email.value_counts(),\n",
    "             values='has_verified_email', names=['verified', 'unverified'], color_discrete_sequence = colors,\n",
    "             title = 'Contributions of Unverified accounts in 2021')\n",
    "\n",
    "fig.update_traces(textposition='inside', textinfo='percent+label')\n",
    "\n",
    "fig.show()"
   ]
  },
  {
   "cell_type": "code",
   "execution_count": 73,
   "id": "b4317efa",
   "metadata": {},
   "outputs": [
    {
     "name": "stdout",
     "output_type": "stream",
     "text": [
      "The percentage % of 2021 contributions made by Unverified accounts:\n"
     ]
    },
    {
     "data": {
      "text/plain": [
       "11.373941546025677"
      ]
     },
     "execution_count": 73,
     "metadata": {},
     "output_type": "execute_result"
    }
   ],
   "source": [
    "print('The percentage % of 2021 contributions made by Unverified accounts:')\n",
    "unverified_contr_prop = df_unverified.shape[0] * 100 /df_merged.shape[0]\n",
    "unverified_contr_prop"
   ]
  },
  {
   "cell_type": "code",
   "execution_count": 74,
   "id": "42860e35",
   "metadata": {},
   "outputs": [
    {
     "data": {
      "image/svg+xml": [
       "<svg class=\"main-svg\" xmlns=\"http://www.w3.org/2000/svg\" xmlns:xlink=\"http://www.w3.org/1999/xlink\" width=\"900\" height=\"500\" style=\"\" viewBox=\"0 0 900 500\"><rect x=\"0\" y=\"0\" width=\"900\" height=\"500\" style=\"fill: rgb(255, 255, 255); fill-opacity: 1;\"/><defs id=\"defs-87d5ce\"><g class=\"clips\"><clipPath id=\"clip87d5cexyplot\" class=\"plotclip\"><rect width=\"740\" height=\"360\"/></clipPath><clipPath class=\"axesclip\" id=\"clip87d5cex\"><rect x=\"80\" y=\"0\" width=\"740\" height=\"500\"/></clipPath><clipPath class=\"axesclip\" id=\"clip87d5cey\"><rect x=\"0\" y=\"60\" width=\"900\" height=\"360\"/></clipPath><clipPath class=\"axesclip\" id=\"clip87d5cexy\"><rect x=\"80\" y=\"60\" width=\"740\" height=\"360\"/></clipPath></g><g class=\"gradients\"/><g class=\"patterns\"/></defs><g class=\"bglayer\"><rect class=\"bg\" x=\"80\" y=\"60\" width=\"740\" height=\"360\" style=\"fill: rgb(229, 236, 246); fill-opacity: 1; stroke-width: 0;\"/></g><g class=\"layer-below\"><g class=\"imagelayer\"/><g class=\"shapelayer\"/></g><g class=\"cartesianlayer\"><g class=\"subplot xy\"><g class=\"layer-subplot\"><g class=\"shapelayer\"/><g class=\"imagelayer\"/></g><g class=\"gridlayer\"><g class=\"x\"/><g class=\"y\"><path class=\"ygrid crisp\" transform=\"translate(0,377.84)\" d=\"M80,0h740\" style=\"stroke: rgb(255, 255, 255); stroke-opacity: 1; stroke-width: 1px;\"/><path class=\"ygrid crisp\" transform=\"translate(0,335.68)\" d=\"M80,0h740\" style=\"stroke: rgb(255, 255, 255); stroke-opacity: 1; stroke-width: 1px;\"/><path class=\"ygrid crisp\" transform=\"translate(0,293.51)\" d=\"M80,0h740\" style=\"stroke: rgb(255, 255, 255); stroke-opacity: 1; stroke-width: 1px;\"/><path class=\"ygrid crisp\" transform=\"translate(0,251.35)\" d=\"M80,0h740\" style=\"stroke: rgb(255, 255, 255); stroke-opacity: 1; stroke-width: 1px;\"/><path class=\"ygrid crisp\" transform=\"translate(0,209.19)\" d=\"M80,0h740\" style=\"stroke: rgb(255, 255, 255); stroke-opacity: 1; stroke-width: 1px;\"/><path class=\"ygrid crisp\" transform=\"translate(0,167.03)\" d=\"M80,0h740\" style=\"stroke: rgb(255, 255, 255); stroke-opacity: 1; stroke-width: 1px;\"/><path class=\"ygrid crisp\" transform=\"translate(0,124.86)\" d=\"M80,0h740\" style=\"stroke: rgb(255, 255, 255); stroke-opacity: 1; stroke-width: 1px;\"/><path class=\"ygrid crisp\" transform=\"translate(0,82.7)\" d=\"M80,0h740\" style=\"stroke: rgb(255, 255, 255); stroke-opacity: 1; stroke-width: 1px;\"/></g></g><g class=\"zerolinelayer\"><path class=\"yzl zl crisp\" transform=\"translate(0,420)\" d=\"M80,0h740\" style=\"stroke: rgb(255, 255, 255); stroke-opacity: 1; stroke-width: 2px;\"/></g><path class=\"xlines-below\"/><path class=\"ylines-below\"/><g class=\"overlines-below\"/><g class=\"xaxislayer-below\"/><g class=\"yaxislayer-below\"/><g class=\"overaxes-below\"/><g class=\"plot\" transform=\"translate(80,60)\" clip-path=\"url(#clip87d5cexyplot)\"><g class=\"barlayer mlayer\"><g class=\"trace bars\" style=\"opacity: 1;\"><g class=\"points\"><g class=\"point\"><path d=\"M37,360V18H333V360Z\" style=\"vector-effect: non-scaling-stroke; opacity: 1; stroke-width: 0.5px; fill: rgb(82, 150, 221); fill-opacity: 1; stroke: rgb(229, 236, 246); stroke-opacity: 1;\"/></g><g class=\"point\"><path d=\"M407,360V316.11H703V360Z\" style=\"vector-effect: non-scaling-stroke; opacity: 1; stroke-width: 0.5px; fill: rgb(82, 150, 221); fill-opacity: 1; stroke: rgb(229, 236, 246); stroke-opacity: 1;\"/></g></g></g></g></g><g class=\"overplot\"/><path class=\"xlines-above crisp\" d=\"M0,0\" style=\"fill: none;\"/><path class=\"ylines-above crisp\" d=\"M0,0\" style=\"fill: none;\"/><g class=\"overlines-above\"/><g class=\"xaxislayer-above\"><g class=\"xtick\"><text text-anchor=\"middle\" x=\"0\" y=\"433\" transform=\"translate(265,0)\" style=\"font-family: 'Open Sans', verdana, arial, sans-serif; font-size: 12px; fill: rgb(42, 63, 95); fill-opacity: 1; white-space: pre; opacity: 1;\">verified</text></g><g class=\"xtick\"><text text-anchor=\"middle\" x=\"0\" y=\"433\" transform=\"translate(635,0)\" style=\"font-family: 'Open Sans', verdana, arial, sans-serif; font-size: 12px; fill: rgb(42, 63, 95); fill-opacity: 1; white-space: pre; opacity: 1;\">unverified</text></g></g><g class=\"yaxislayer-above\"><g class=\"ytick\"><text text-anchor=\"end\" x=\"79\" y=\"4.199999999999999\" transform=\"translate(0,420)\" style=\"font-family: 'Open Sans', verdana, arial, sans-serif; font-size: 12px; fill: rgb(42, 63, 95); fill-opacity: 1; white-space: pre; opacity: 1;\">0</text></g><g class=\"ytick\"><text text-anchor=\"end\" x=\"79\" y=\"4.199999999999999\" style=\"font-family: 'Open Sans', verdana, arial, sans-serif; font-size: 12px; fill: rgb(42, 63, 95); fill-opacity: 1; white-space: pre; opacity: 1;\" transform=\"translate(0,377.84)\">2k</text></g><g class=\"ytick\"><text text-anchor=\"end\" x=\"79\" y=\"4.199999999999999\" style=\"font-family: 'Open Sans', verdana, arial, sans-serif; font-size: 12px; fill: rgb(42, 63, 95); fill-opacity: 1; white-space: pre; opacity: 1;\" transform=\"translate(0,335.68)\">4k</text></g><g class=\"ytick\"><text text-anchor=\"end\" x=\"79\" y=\"4.199999999999999\" style=\"font-family: 'Open Sans', verdana, arial, sans-serif; font-size: 12px; fill: rgb(42, 63, 95); fill-opacity: 1; white-space: pre; opacity: 1;\" transform=\"translate(0,293.51)\">6k</text></g><g class=\"ytick\"><text text-anchor=\"end\" x=\"79\" y=\"4.199999999999999\" style=\"font-family: 'Open Sans', verdana, arial, sans-serif; font-size: 12px; fill: rgb(42, 63, 95); fill-opacity: 1; white-space: pre; opacity: 1;\" transform=\"translate(0,251.35)\">8k</text></g><g class=\"ytick\"><text text-anchor=\"end\" x=\"79\" y=\"4.199999999999999\" style=\"font-family: 'Open Sans', verdana, arial, sans-serif; font-size: 12px; fill: rgb(42, 63, 95); fill-opacity: 1; white-space: pre; opacity: 1;\" transform=\"translate(0,209.19)\">10k</text></g><g class=\"ytick\"><text text-anchor=\"end\" x=\"79\" y=\"4.199999999999999\" style=\"font-family: 'Open Sans', verdana, arial, sans-serif; font-size: 12px; fill: rgb(42, 63, 95); fill-opacity: 1; white-space: pre; opacity: 1;\" transform=\"translate(0,167.03)\">12k</text></g><g class=\"ytick\"><text text-anchor=\"end\" x=\"79\" y=\"4.199999999999999\" style=\"font-family: 'Open Sans', verdana, arial, sans-serif; font-size: 12px; fill: rgb(42, 63, 95); fill-opacity: 1; white-space: pre; opacity: 1;\" transform=\"translate(0,124.86)\">14k</text></g><g class=\"ytick\"><text text-anchor=\"end\" x=\"79\" y=\"4.199999999999999\" style=\"font-family: 'Open Sans', verdana, arial, sans-serif; font-size: 12px; fill: rgb(42, 63, 95); fill-opacity: 1; white-space: pre; opacity: 1;\" transform=\"translate(0,82.7)\">16k</text></g></g><g class=\"overaxes-above\"/></g></g><g class=\"polarlayer\"/><g class=\"ternarylayer\"/><g class=\"geolayer\"/><g class=\"funnelarealayer\"/><g class=\"pielayer\"/><g class=\"iciclelayer\"/><g class=\"treemaplayer\"/><g class=\"sunburstlayer\"/><g class=\"glimages\"/><defs id=\"topdefs-87d5ce\"><g class=\"clips\"/></defs><g class=\"layer-above\"><g class=\"imagelayer\"/><g class=\"shapelayer\"/></g><g class=\"infolayer\"><g class=\"g-gtitle\"><text class=\"gtitle\" x=\"45\" y=\"30\" text-anchor=\"start\" dy=\"0em\" style=\"font-family: 'Open Sans', verdana, arial, sans-serif; font-size: 17px; fill: rgb(42, 63, 95); opacity: 1; font-weight: normal; white-space: pre;\">Contributions of Unverified accounts in 2021</text></g><g class=\"g-xtitle\"/><g class=\"g-ytitle\"><text class=\"ytitle\" transform=\"rotate(-90,31.840625000000003,240)\" x=\"31.840625000000003\" y=\"240\" text-anchor=\"middle\" style=\"font-family: 'Open Sans', verdana, arial, sans-serif; font-size: 14px; fill: rgb(42, 63, 95); opacity: 1; font-weight: normal; white-space: pre;\">n_contributions</text></g></g></svg>"
      ]
     },
     "metadata": {},
     "output_type": "display_data"
    }
   ],
   "source": [
    "px.bar(data_frame=df_merged['has_verified_email'].value_counts().to_frame().reset_index(),\n",
    "       x=['verified', 'unverified'], y=\"has_verified_email\").update_layout(title='Contributions of Unverified accounts in 2021',\n",
    "                   xaxis_title='',\n",
    "                   yaxis_title='n_contributions').update_traces(marker_color='#5296dd')\n"
   ]
  },
  {
   "cell_type": "code",
   "execution_count": 75,
   "id": "46f0f3fe",
   "metadata": {},
   "outputs": [
    {
     "name": "stdout",
     "output_type": "stream",
     "text": [
      "Total unverified accounts contributions in 2021:\n"
     ]
    },
    {
     "data": {
      "text/plain": [
       "2082"
      ]
     },
     "execution_count": 75,
     "metadata": {},
     "output_type": "execute_result"
    }
   ],
   "source": [
    "print('Total unverified accounts contributions in 2021:')\n",
    "df_unverified.shape[0]"
   ]
  },
  {
   "cell_type": "markdown",
   "id": "1be95a59",
   "metadata": {},
   "source": [
    "### Peak day contributions 17/04/2021"
   ]
  },
  {
   "cell_type": "code",
   "execution_count": 76,
   "id": "ca2675bd",
   "metadata": {},
   "outputs": [
    {
     "data": {
      "image/svg+xml": [
       "<svg class=\"main-svg\" xmlns=\"http://www.w3.org/2000/svg\" xmlns:xlink=\"http://www.w3.org/1999/xlink\" width=\"900\" height=\"500\" style=\"\" viewBox=\"0 0 900 500\"><rect x=\"0\" y=\"0\" width=\"900\" height=\"500\" style=\"fill: rgb(255, 255, 255); fill-opacity: 1;\"/><defs id=\"defs-e00457\"><g class=\"clips\"/><g class=\"gradients\"/><g class=\"patterns\"/></defs><g class=\"bglayer\"/><g class=\"layer-below\"><g class=\"imagelayer\"/><g class=\"shapelayer\"/></g><g class=\"cartesianlayer\"/><g class=\"polarlayer\"/><g class=\"ternarylayer\"/><g class=\"geolayer\"/><g class=\"funnelarealayer\"/><g class=\"pielayer\"><g class=\"trace\" stroke-linejoin=\"round\" style=\"opacity: 1;\"><g class=\"slice\"><path class=\"surface\" d=\"M424.5,260l0,-160a160,160 0 1 1 -142.6714902736095,87.57869192628907Z\" style=\"pointer-events: all; stroke-width: 0; fill: rgb(76, 120, 168); fill-opacity: 1; stroke: rgb(68, 68, 68); stroke-opacity: 1;\"/><g class=\"slicetext\"><text data-notex=\"1\" class=\"slicetext\" transform=\"translate(466.35180806758274,324.8746800643462)\" text-anchor=\"middle\" x=\"0\" y=\"0\" style=\"font-family: 'Open Sans', verdana, arial, sans-serif; font-size: 12px; fill: rgb(255, 255, 255); fill-opacity: 1; white-space: pre;\"><tspan class=\"line\" dy=\"0em\" x=\"0\" y=\"0\">verified</tspan><tspan class=\"line\" dy=\"1.3em\" x=\"0\" y=\"0\">82.5%</tspan></text></g></g><g class=\"slice\"><path class=\"surface\" d=\"M424.5,260l-142.6714902736094,-72.42130807371109a160,160 0 0 1 142.6714902736094,-87.57869192628891Z\" style=\"pointer-events: all; stroke-width: 0; fill: rgb(245, 133, 24); fill-opacity: 1; stroke: rgb(68, 68, 68); stroke-opacity: 1;\"/><g class=\"slicetext\"><text data-notex=\"1\" class=\"slicetext\" transform=\"translate(369.5456304505612,167.17100438103387)\" text-anchor=\"middle\" x=\"0\" y=\"0\" style=\"font-family: 'Open Sans', verdana, arial, sans-serif; font-size: 12px; fill: rgb(68, 68, 68); fill-opacity: 1; white-space: pre;\"><tspan class=\"line\" dy=\"0em\" x=\"0\" y=\"0\">unverified</tspan><tspan class=\"line\" dy=\"1.3em\" x=\"0\" y=\"0\">17.5%</tspan></text></g></g></g></g><g class=\"iciclelayer\"/><g class=\"treemaplayer\"/><g class=\"sunburstlayer\"/><g class=\"glimages\"/><defs id=\"topdefs-e00457\"><g class=\"clips\"/><clipPath id=\"legende00457\"><rect width=\"105\" height=\"48\" x=\"0\" y=\"0\"/></clipPath></defs><g class=\"layer-above\"><g class=\"imagelayer\"/><g class=\"shapelayer\"/></g><g class=\"infolayer\"><g class=\"legend\" pointer-events=\"all\" transform=\"translate(782.78,100)\"><rect class=\"bg\" shape-rendering=\"crispEdges\" width=\"105\" height=\"48\" x=\"0\" y=\"0\" style=\"stroke: rgb(68, 68, 68); stroke-opacity: 1; fill: rgb(255, 255, 255); fill-opacity: 1; stroke-width: 0px;\"/><g class=\"scrollbox\" transform=\"\" clip-path=\"url(#legende00457)\"><g class=\"groups\"><g class=\"traces\" transform=\"translate(0,14.5)\" style=\"opacity: 1;\"><text class=\"legendtext\" text-anchor=\"start\" x=\"40\" y=\"4.680000000000001\" style=\"font-family: 'Open Sans', verdana, arial, sans-serif; font-size: 12px; fill: rgb(42, 63, 95); fill-opacity: 1; white-space: pre;\">verified</text><g class=\"layers\" style=\"opacity: 1;\"><g class=\"legendfill\"/><g class=\"legendlines\"/><g class=\"legendsymbols\"><g class=\"legendpoints\"><path class=\"legendpie\" d=\"M6,6H-6V-6H6Z\" transform=\"translate(20,0)\" style=\"stroke-width: 0; fill: rgb(76, 120, 168); fill-opacity: 1; stroke: rgb(68, 68, 68); stroke-opacity: 1;\"/></g></g></g><rect class=\"legendtoggle\" x=\"0\" y=\"-9.5\" width=\"99.765625\" height=\"19\" style=\"fill: rgb(0, 0, 0); fill-opacity: 0;\"/></g><g class=\"traces\" transform=\"translate(0,33.5)\" style=\"opacity: 1;\"><text class=\"legendtext\" text-anchor=\"start\" x=\"40\" y=\"4.680000000000001\" style=\"font-family: 'Open Sans', verdana, arial, sans-serif; font-size: 12px; fill: rgb(42, 63, 95); fill-opacity: 1; white-space: pre;\">unverified</text><g class=\"layers\" style=\"opacity: 1;\"><g class=\"legendfill\"/><g class=\"legendlines\"/><g class=\"legendsymbols\"><g class=\"legendpoints\"><path class=\"legendpie\" d=\"M6,6H-6V-6H6Z\" transform=\"translate(20,0)\" style=\"stroke-width: 0; fill: rgb(245, 133, 24); fill-opacity: 1; stroke: rgb(68, 68, 68); stroke-opacity: 1;\"/></g></g></g><rect class=\"legendtoggle\" x=\"0\" y=\"-9.5\" width=\"99.765625\" height=\"19\" style=\"fill: rgb(0, 0, 0); fill-opacity: 0;\"/></g></g></g><rect class=\"scrollbar\" rx=\"20\" ry=\"3\" width=\"0\" height=\"0\" x=\"0\" y=\"0\" style=\"fill: rgb(128, 139, 164); fill-opacity: 1;\"/></g><g class=\"g-gtitle\"><text class=\"gtitle\" x=\"45\" y=\"50\" text-anchor=\"start\" dy=\"0em\" style=\"font-family: 'Open Sans', verdana, arial, sans-serif; font-size: 17px; fill: rgb(42, 63, 95); opacity: 1; font-weight: normal; white-space: pre;\">Contributions of Unverified accounts on peak day (17/04/2021)</text></g></g></svg>"
      ]
     },
     "metadata": {},
     "output_type": "display_data"
    }
   ],
   "source": [
    "fig = px.pie(df_peak.has_verified_email.value_counts(),\n",
    "             values='has_verified_email', names=['verified', 'unverified'], color_discrete_sequence = colors,\n",
    "             title = 'Contributions of Unverified accounts on peak day (17/04/2021)')\n",
    "\n",
    "fig.update_traces(textposition='inside', textinfo='percent+label')\n",
    "\n",
    "fig.show()"
   ]
  },
  {
   "cell_type": "markdown",
   "id": "6e338703",
   "metadata": {},
   "source": [
    "### Comments"
   ]
  },
  {
   "cell_type": "code",
   "execution_count": 77,
   "id": "69fe74b0",
   "metadata": {},
   "outputs": [
    {
     "name": "stdout",
     "output_type": "stream",
     "text": [
      "Total banned accounts comments in 2021:\n"
     ]
    },
    {
     "data": {
      "text/plain": [
       "1939"
      ]
     },
     "execution_count": 77,
     "metadata": {},
     "output_type": "execute_result"
    }
   ],
   "source": [
    "print('Total banned accounts comments in 2021:')\n",
    "df_unverified.query(\" submission_comment == 'comment' \").shape[0]"
   ]
  },
  {
   "cell_type": "code",
   "execution_count": 78,
   "id": "59ec597c",
   "metadata": {},
   "outputs": [
    {
     "data": {
      "text/plain": [
       "Amber                 5\n",
       "Same                  5\n",
       "Lol                   5\n",
       "Amber Heard           3\n",
       "Justice for Johnny    2\n",
       "Name: text, dtype: int64"
      ]
     },
     "execution_count": 78,
     "metadata": {},
     "output_type": "execute_result"
    }
   ],
   "source": [
    "df_unverified.query(\" submission_comment == 'comment' \").text.value_counts().head(5)"
   ]
  },
  {
   "cell_type": "markdown",
   "id": "9c842c3a",
   "metadata": {},
   "source": [
    "### Submissions"
   ]
  },
  {
   "cell_type": "code",
   "execution_count": 79,
   "id": "adf5efcb",
   "metadata": {},
   "outputs": [
    {
     "data": {
      "image/svg+xml": [
       "<svg class=\"main-svg\" xmlns=\"http://www.w3.org/2000/svg\" xmlns:xlink=\"http://www.w3.org/1999/xlink\" width=\"900\" height=\"500\" style=\"\" viewBox=\"0 0 900 500\"><rect x=\"0\" y=\"0\" width=\"900\" height=\"500\" style=\"fill: rgb(255, 255, 255); fill-opacity: 1;\"/><defs id=\"defs-a1ecfa\"><g class=\"clips\"/><g class=\"gradients\"/><g class=\"patterns\"/></defs><g class=\"bglayer\"/><g class=\"layer-below\"><g class=\"imagelayer\"/><g class=\"shapelayer\"/></g><g class=\"cartesianlayer\"/><g class=\"polarlayer\"/><g class=\"ternarylayer\"/><g class=\"geolayer\"/><g class=\"funnelarealayer\"/><g class=\"pielayer\"><g class=\"trace\" stroke-linejoin=\"round\" style=\"opacity: 1;\"><g class=\"slice\"><path class=\"surface\" d=\"M424.5,260l0,-160a160,160 0 1 1 -71.99793809473937,17.114392221938346Z\" style=\"pointer-events: all; stroke-width: 0; fill: rgb(76, 120, 168); fill-opacity: 1; stroke: rgb(68, 68, 68); stroke-opacity: 1;\"/><g class=\"slicetext\"><text data-notex=\"1\" class=\"slicetext\" transform=\"translate(443.0010227943962,334.5266182552116)\" text-anchor=\"middle\" x=\"0\" y=\"0\" style=\"font-family: 'Open Sans', verdana, arial, sans-serif; font-size: 12px; fill: rgb(255, 255, 255); fill-opacity: 1; white-space: pre;\"><tspan class=\"line\" dy=\"0em\" x=\"0\" y=\"0\">verified</tspan><tspan class=\"line\" dy=\"1.3em\" x=\"0\" y=\"0\">92.6%</tspan></text></g></g><g class=\"slice\"><path class=\"surface\" d=\"M424.5,260l-71.99793809473938,-142.88560777806165a160,160 0 0 1 71.99793809473938,-17.114392221938346Z\" style=\"pointer-events: all; stroke-width: 0; fill: rgb(245, 133, 24); fill-opacity: 1; stroke: rgb(68, 68, 68); stroke-opacity: 1;\"/><g class=\"slicetext\"><text data-notex=\"1\" class=\"slicetext\" transform=\"translate(399.8304936686971,141.92896606973468)rotate(76.62857142857138)\" text-anchor=\"middle\" x=\"0\" y=\"0\" style=\"font-family: 'Open Sans', verdana, arial, sans-serif; font-size: 12px; fill: rgb(68, 68, 68); fill-opacity: 1; white-space: pre;\"><tspan class=\"line\" dy=\"0em\" x=\"0\" y=\"0\">unverified</tspan><tspan class=\"line\" dy=\"1.3em\" x=\"0\" y=\"0\">7.43%</tspan></text></g></g></g></g><g class=\"iciclelayer\"/><g class=\"treemaplayer\"/><g class=\"sunburstlayer\"/><g class=\"glimages\"/><defs id=\"topdefs-a1ecfa\"><g class=\"clips\"/><clipPath id=\"legenda1ecfa\"><rect width=\"105\" height=\"48\" x=\"0\" y=\"0\"/></clipPath></defs><g class=\"layer-above\"><g class=\"imagelayer\"/><g class=\"shapelayer\"/></g><g class=\"infolayer\"><g class=\"legend\" pointer-events=\"all\" transform=\"translate(782.78,100)\"><rect class=\"bg\" shape-rendering=\"crispEdges\" width=\"105\" height=\"48\" x=\"0\" y=\"0\" style=\"stroke: rgb(68, 68, 68); stroke-opacity: 1; fill: rgb(255, 255, 255); fill-opacity: 1; stroke-width: 0px;\"/><g class=\"scrollbox\" transform=\"\" clip-path=\"url(#legenda1ecfa)\"><g class=\"groups\"><g class=\"traces\" transform=\"translate(0,14.5)\" style=\"opacity: 1;\"><text class=\"legendtext\" text-anchor=\"start\" x=\"40\" y=\"4.680000000000001\" style=\"font-family: 'Open Sans', verdana, arial, sans-serif; font-size: 12px; fill: rgb(42, 63, 95); fill-opacity: 1; white-space: pre;\">verified</text><g class=\"layers\" style=\"opacity: 1;\"><g class=\"legendfill\"/><g class=\"legendlines\"/><g class=\"legendsymbols\"><g class=\"legendpoints\"><path class=\"legendpie\" d=\"M6,6H-6V-6H6Z\" transform=\"translate(20,0)\" style=\"stroke-width: 0; fill: rgb(76, 120, 168); fill-opacity: 1; stroke: rgb(68, 68, 68); stroke-opacity: 1;\"/></g></g></g><rect class=\"legendtoggle\" x=\"0\" y=\"-9.5\" width=\"99.765625\" height=\"19\" style=\"fill: rgb(0, 0, 0); fill-opacity: 0;\"/></g><g class=\"traces\" transform=\"translate(0,33.5)\" style=\"opacity: 1;\"><text class=\"legendtext\" text-anchor=\"start\" x=\"40\" y=\"4.680000000000001\" style=\"font-family: 'Open Sans', verdana, arial, sans-serif; font-size: 12px; fill: rgb(42, 63, 95); fill-opacity: 1; white-space: pre;\">unverified</text><g class=\"layers\" style=\"opacity: 1;\"><g class=\"legendfill\"/><g class=\"legendlines\"/><g class=\"legendsymbols\"><g class=\"legendpoints\"><path class=\"legendpie\" d=\"M6,6H-6V-6H6Z\" transform=\"translate(20,0)\" style=\"stroke-width: 0; fill: rgb(245, 133, 24); fill-opacity: 1; stroke: rgb(68, 68, 68); stroke-opacity: 1;\"/></g></g></g><rect class=\"legendtoggle\" x=\"0\" y=\"-9.5\" width=\"99.765625\" height=\"19\" style=\"fill: rgb(0, 0, 0); fill-opacity: 0;\"/></g></g></g><rect class=\"scrollbar\" rx=\"20\" ry=\"3\" width=\"0\" height=\"0\" x=\"0\" y=\"0\" style=\"fill: rgb(128, 139, 164); fill-opacity: 1;\"/></g><g class=\"g-gtitle\"><text class=\"gtitle\" x=\"45\" y=\"50\" text-anchor=\"start\" dy=\"0em\" style=\"font-family: 'Open Sans', verdana, arial, sans-serif; font-size: 17px; fill: rgb(42, 63, 95); opacity: 1; font-weight: normal; white-space: pre;\">Submissions of Unverified accounts in 2021</text></g></g></svg>"
      ]
     },
     "metadata": {},
     "output_type": "display_data"
    }
   ],
   "source": [
    "fig = px.pie(df_submissions.has_verified_email.value_counts(),\n",
    "             values='has_verified_email', names=['verified', 'unverified'], color_discrete_sequence = colors,\n",
    "             title = 'Submissions of Unverified accounts in 2021')\n",
    "\n",
    "fig.update_traces(textposition='inside', textinfo='percent+label')\n",
    "\n",
    "fig.show()"
   ]
  },
  {
   "cell_type": "code",
   "execution_count": 80,
   "id": "ddc4b9f5",
   "metadata": {},
   "outputs": [
    {
     "name": "stdout",
     "output_type": "stream",
     "text": [
      "The percentage % of 2021 submissions made by Unverified accounts:\n"
     ]
    },
    {
     "data": {
      "text/plain": [
       "7.428571428571429"
      ]
     },
     "execution_count": 80,
     "metadata": {},
     "output_type": "execute_result"
    }
   ],
   "source": [
    "print('The percentage % of 2021 submissions made by Unverified accounts:')\n",
    "unverified_sub_prop = df_unverified.query(\" submission_comment == 'submission' \").shape[0] * 100\\\n",
    "/df_merged.query(\" submission_comment == 'submission' \").shape[0]\n",
    "\n",
    "unverified_sub_prop"
   ]
  },
  {
   "cell_type": "code",
   "execution_count": 81,
   "id": "e4faac3f",
   "metadata": {},
   "outputs": [
    {
     "data": {
      "image/svg+xml": [
       "<svg class=\"main-svg\" xmlns=\"http://www.w3.org/2000/svg\" xmlns:xlink=\"http://www.w3.org/1999/xlink\" width=\"900\" height=\"500\" style=\"\" viewBox=\"0 0 900 500\"><rect x=\"0\" y=\"0\" width=\"900\" height=\"500\" style=\"fill: rgb(255, 255, 255); fill-opacity: 1;\"/><defs id=\"defs-66f865\"><g class=\"clips\"><clipPath id=\"clip66f865xyplot\" class=\"plotclip\"><rect width=\"740\" height=\"360\"/></clipPath><clipPath class=\"axesclip\" id=\"clip66f865x\"><rect x=\"80\" y=\"0\" width=\"740\" height=\"500\"/></clipPath><clipPath class=\"axesclip\" id=\"clip66f865y\"><rect x=\"0\" y=\"60\" width=\"900\" height=\"360\"/></clipPath><clipPath class=\"axesclip\" id=\"clip66f865xy\"><rect x=\"80\" y=\"60\" width=\"740\" height=\"360\"/></clipPath></g><g class=\"gradients\"/><g class=\"patterns\"/></defs><g class=\"bglayer\"><rect class=\"bg\" x=\"80\" y=\"60\" width=\"740\" height=\"360\" style=\"fill: rgb(229, 236, 246); fill-opacity: 1; stroke-width: 0;\"/></g><g class=\"layer-below\"><g class=\"imagelayer\"/><g class=\"shapelayer\"/></g><g class=\"cartesianlayer\"><g class=\"subplot xy\"><g class=\"layer-subplot\"><g class=\"shapelayer\"/><g class=\"imagelayer\"/></g><g class=\"gridlayer\"><g class=\"x\"/><g class=\"y\"><path class=\"ygrid crisp\" transform=\"translate(0,381.62)\" d=\"M80,0h740\" style=\"stroke: rgb(255, 255, 255); stroke-opacity: 1; stroke-width: 1px;\"/><path class=\"ygrid crisp\" transform=\"translate(0,343.23)\" d=\"M80,0h740\" style=\"stroke: rgb(255, 255, 255); stroke-opacity: 1; stroke-width: 1px;\"/><path class=\"ygrid crisp\" transform=\"translate(0,304.85)\" d=\"M80,0h740\" style=\"stroke: rgb(255, 255, 255); stroke-opacity: 1; stroke-width: 1px;\"/><path class=\"ygrid crisp\" transform=\"translate(0,266.46000000000004)\" d=\"M80,0h740\" style=\"stroke: rgb(255, 255, 255); stroke-opacity: 1; stroke-width: 1px;\"/><path class=\"ygrid crisp\" transform=\"translate(0,228.08)\" d=\"M80,0h740\" style=\"stroke: rgb(255, 255, 255); stroke-opacity: 1; stroke-width: 1px;\"/><path class=\"ygrid crisp\" transform=\"translate(0,189.7)\" d=\"M80,0h740\" style=\"stroke: rgb(255, 255, 255); stroke-opacity: 1; stroke-width: 1px;\"/><path class=\"ygrid crisp\" transform=\"translate(0,151.31)\" d=\"M80,0h740\" style=\"stroke: rgb(255, 255, 255); stroke-opacity: 1; stroke-width: 1px;\"/><path class=\"ygrid crisp\" transform=\"translate(0,112.93)\" d=\"M80,0h740\" style=\"stroke: rgb(255, 255, 255); stroke-opacity: 1; stroke-width: 1px;\"/><path class=\"ygrid crisp\" transform=\"translate(0,74.55)\" d=\"M80,0h740\" style=\"stroke: rgb(255, 255, 255); stroke-opacity: 1; stroke-width: 1px;\"/></g></g><g class=\"zerolinelayer\"><path class=\"yzl zl crisp\" transform=\"translate(0,420)\" d=\"M80,0h740\" style=\"stroke: rgb(255, 255, 255); stroke-opacity: 1; stroke-width: 2px;\"/></g><path class=\"xlines-below\"/><path class=\"ylines-below\"/><g class=\"overlines-below\"/><g class=\"xaxislayer-below\"/><g class=\"yaxislayer-below\"/><g class=\"overaxes-below\"/><g class=\"plot\" transform=\"translate(80,60)\" clip-path=\"url(#clip66f865xyplot)\"><g class=\"barlayer mlayer\"><g class=\"trace bars\" style=\"opacity: 1;\"><g class=\"points\"><g class=\"point\"><path d=\"M37,360V18H333V360Z\" style=\"vector-effect: non-scaling-stroke; opacity: 1; stroke-width: 0.5px; fill: rgb(82, 150, 221); fill-opacity: 1; stroke: rgb(229, 236, 246); stroke-opacity: 1;\"/></g><g class=\"point\"><path d=\"M407,360V332.56H703V360Z\" style=\"vector-effect: non-scaling-stroke; opacity: 1; stroke-width: 0.5px; fill: rgb(82, 150, 221); fill-opacity: 1; stroke: rgb(229, 236, 246); stroke-opacity: 1;\"/></g></g></g></g></g><g class=\"overplot\"/><path class=\"xlines-above crisp\" d=\"M0,0\" style=\"fill: none;\"/><path class=\"ylines-above crisp\" d=\"M0,0\" style=\"fill: none;\"/><g class=\"overlines-above\"/><g class=\"xaxislayer-above\"><g class=\"xtick\"><text text-anchor=\"middle\" x=\"0\" y=\"433\" transform=\"translate(265,0)\" style=\"font-family: 'Open Sans', verdana, arial, sans-serif; font-size: 12px; fill: rgb(42, 63, 95); fill-opacity: 1; white-space: pre; opacity: 1;\">verified</text></g><g class=\"xtick\"><text text-anchor=\"middle\" x=\"0\" y=\"433\" transform=\"translate(635,0)\" style=\"font-family: 'Open Sans', verdana, arial, sans-serif; font-size: 12px; fill: rgb(42, 63, 95); fill-opacity: 1; white-space: pre; opacity: 1;\">unverified</text></g></g><g class=\"yaxislayer-above\"><g class=\"ytick\"><text text-anchor=\"end\" x=\"79\" y=\"4.199999999999999\" transform=\"translate(0,420)\" style=\"font-family: 'Open Sans', verdana, arial, sans-serif; font-size: 12px; fill: rgb(42, 63, 95); fill-opacity: 1; white-space: pre; opacity: 1;\">0</text></g><g class=\"ytick\"><text text-anchor=\"end\" x=\"79\" y=\"4.199999999999999\" style=\"font-family: 'Open Sans', verdana, arial, sans-serif; font-size: 12px; fill: rgb(42, 63, 95); fill-opacity: 1; white-space: pre; opacity: 1;\" transform=\"translate(0,381.62)\">200</text></g><g class=\"ytick\"><text text-anchor=\"end\" x=\"79\" y=\"4.199999999999999\" style=\"font-family: 'Open Sans', verdana, arial, sans-serif; font-size: 12px; fill: rgb(42, 63, 95); fill-opacity: 1; white-space: pre; opacity: 1;\" transform=\"translate(0,343.23)\">400</text></g><g class=\"ytick\"><text text-anchor=\"end\" x=\"79\" y=\"4.199999999999999\" style=\"font-family: 'Open Sans', verdana, arial, sans-serif; font-size: 12px; fill: rgb(42, 63, 95); fill-opacity: 1; white-space: pre; opacity: 1;\" transform=\"translate(0,304.85)\">600</text></g><g class=\"ytick\"><text text-anchor=\"end\" x=\"79\" y=\"4.199999999999999\" style=\"font-family: 'Open Sans', verdana, arial, sans-serif; font-size: 12px; fill: rgb(42, 63, 95); fill-opacity: 1; white-space: pre; opacity: 1;\" transform=\"translate(0,266.46000000000004)\">800</text></g><g class=\"ytick\"><text text-anchor=\"end\" x=\"79\" y=\"4.199999999999999\" style=\"font-family: 'Open Sans', verdana, arial, sans-serif; font-size: 12px; fill: rgb(42, 63, 95); fill-opacity: 1; white-space: pre; opacity: 1;\" transform=\"translate(0,228.08)\">1000</text></g><g class=\"ytick\"><text text-anchor=\"end\" x=\"79\" y=\"4.199999999999999\" style=\"font-family: 'Open Sans', verdana, arial, sans-serif; font-size: 12px; fill: rgb(42, 63, 95); fill-opacity: 1; white-space: pre; opacity: 1;\" transform=\"translate(0,189.7)\">1200</text></g><g class=\"ytick\"><text text-anchor=\"end\" x=\"79\" y=\"4.199999999999999\" style=\"font-family: 'Open Sans', verdana, arial, sans-serif; font-size: 12px; fill: rgb(42, 63, 95); fill-opacity: 1; white-space: pre; opacity: 1;\" transform=\"translate(0,151.31)\">1400</text></g><g class=\"ytick\"><text text-anchor=\"end\" x=\"79\" y=\"4.199999999999999\" style=\"font-family: 'Open Sans', verdana, arial, sans-serif; font-size: 12px; fill: rgb(42, 63, 95); fill-opacity: 1; white-space: pre; opacity: 1;\" transform=\"translate(0,112.93)\">1600</text></g><g class=\"ytick\"><text text-anchor=\"end\" x=\"79\" y=\"4.199999999999999\" style=\"font-family: 'Open Sans', verdana, arial, sans-serif; font-size: 12px; fill: rgb(42, 63, 95); fill-opacity: 1; white-space: pre; opacity: 1;\" transform=\"translate(0,74.55)\">1800</text></g></g><g class=\"overaxes-above\"/></g></g><g class=\"polarlayer\"/><g class=\"ternarylayer\"/><g class=\"geolayer\"/><g class=\"funnelarealayer\"/><g class=\"pielayer\"/><g class=\"iciclelayer\"/><g class=\"treemaplayer\"/><g class=\"sunburstlayer\"/><g class=\"glimages\"/><defs id=\"topdefs-66f865\"><g class=\"clips\"/></defs><g class=\"layer-above\"><g class=\"imagelayer\"/><g class=\"shapelayer\"/></g><g class=\"infolayer\"><g class=\"g-gtitle\"><text class=\"gtitle\" x=\"45\" y=\"30\" text-anchor=\"start\" dy=\"0em\" style=\"font-family: 'Open Sans', verdana, arial, sans-serif; font-size: 17px; fill: rgb(42, 63, 95); opacity: 1; font-weight: normal; white-space: pre;\">Submissions of Unverified accounts in 2021</text></g><g class=\"g-xtitle\"/><g class=\"g-ytitle\"><text class=\"ytitle\" transform=\"rotate(-90,23.684375000000003,240)\" x=\"23.684375000000003\" y=\"240\" text-anchor=\"middle\" style=\"font-family: 'Open Sans', verdana, arial, sans-serif; font-size: 14px; fill: rgb(42, 63, 95); opacity: 1; font-weight: normal; white-space: pre;\">n_submissions</text></g></g></svg>"
      ]
     },
     "metadata": {},
     "output_type": "display_data"
    }
   ],
   "source": [
    "px.bar(data_frame=df_submissions['has_verified_email'].value_counts(),\n",
    "       x=['verified', 'unverified'], y=\"has_verified_email\")\\\n",
    "       .update_layout(title='Submissions of Unverified accounts in 2021',\n",
    "                      xaxis_title='',\n",
    "                      yaxis_title='n_submissions').update_traces(marker_color='#5296dd')"
   ]
  },
  {
   "cell_type": "code",
   "execution_count": 82,
   "id": "dfb2a4f7",
   "metadata": {},
   "outputs": [
    {
     "name": "stdout",
     "output_type": "stream",
     "text": [
      "Total unverified accounts submissions in 2021:\n"
     ]
    },
    {
     "data": {
      "text/plain": [
       "143"
      ]
     },
     "execution_count": 82,
     "metadata": {},
     "output_type": "execute_result"
    }
   ],
   "source": [
    "print('Total unverified accounts submissions in 2021:')\n",
    "df_unverified.query(\" submission_comment == 'submission' \").shape[0]"
   ]
  },
  {
   "cell_type": "code",
   "execution_count": 83,
   "id": "28d58f3d",
   "metadata": {},
   "outputs": [
    {
     "data": {
      "text/plain": [
       "Amber Heard Touching Herself                                                                                                                                                                                                                                                 22\n",
       "Can Somebody RP as Amber Heard for me longterm?                                                                                                                                                                                                                               6\n",
       "Amber Heard                                                                                                                                                                                                                                                                   6\n",
       "It's official AMBER HEARD lied!: did not Donate 7 million divorce settlement which she PROMISED and stated to have donated in court under oath. 3,5 million are unaccounted, her legal team refuses to & is actively fighting against having to provide donation evidence     2\n",
       "Body Language Analyst REACTS to Amber Heard and Jonny Depp’s body Language [27:26]                                                                                                                                                                                            2\n",
       "Name: text, dtype: int64"
      ]
     },
     "execution_count": 83,
     "metadata": {},
     "output_type": "execute_result"
    }
   ],
   "source": [
    "df_unverified.query(\" submission_comment == 'submission' \").text.value_counts().head(5)"
   ]
  },
  {
   "cell_type": "code",
   "execution_count": 84,
   "id": "df1a21b2",
   "metadata": {},
   "outputs": [
    {
     "data": {
      "text/html": [
       "<div>\n",
       "<style scoped>\n",
       "    .dataframe tbody tr th:only-of-type {\n",
       "        vertical-align: middle;\n",
       "    }\n",
       "\n",
       "    .dataframe tbody tr th {\n",
       "        vertical-align: top;\n",
       "    }\n",
       "\n",
       "    .dataframe thead th {\n",
       "        text-align: right;\n",
       "    }\n",
       "</style>\n",
       "<table border=\"1\" class=\"dataframe\">\n",
       "  <thead>\n",
       "    <tr style=\"text-align: right;\">\n",
       "      <th></th>\n",
       "      <th>user_name</th>\n",
       "      <th>user_created_at</th>\n",
       "      <th>submission_comment</th>\n",
       "      <th>created_at</th>\n",
       "    </tr>\n",
       "  </thead>\n",
       "  <tbody>\n",
       "    <tr>\n",
       "      <th>13808</th>\n",
       "      <td>owenlinx</td>\n",
       "      <td>2019-01-01 09:15:33</td>\n",
       "      <td>submission</td>\n",
       "      <td>2021-04-14 12:17:01</td>\n",
       "    </tr>\n",
       "    <tr>\n",
       "      <th>13809</th>\n",
       "      <td>owenlinx</td>\n",
       "      <td>2019-01-01 09:15:33</td>\n",
       "      <td>submission</td>\n",
       "      <td>2021-04-14 12:17:03</td>\n",
       "    </tr>\n",
       "    <tr>\n",
       "      <th>13810</th>\n",
       "      <td>owenlinx</td>\n",
       "      <td>2019-01-01 09:15:33</td>\n",
       "      <td>submission</td>\n",
       "      <td>2021-04-14 12:17:06</td>\n",
       "    </tr>\n",
       "    <tr>\n",
       "      <th>13811</th>\n",
       "      <td>owenlinx</td>\n",
       "      <td>2019-01-01 09:15:33</td>\n",
       "      <td>submission</td>\n",
       "      <td>2021-04-14 12:17:06</td>\n",
       "    </tr>\n",
       "    <tr>\n",
       "      <th>13812</th>\n",
       "      <td>owenlinx</td>\n",
       "      <td>2019-01-01 09:15:33</td>\n",
       "      <td>submission</td>\n",
       "      <td>2021-04-14 12:17:09</td>\n",
       "    </tr>\n",
       "    <tr>\n",
       "      <th>13813</th>\n",
       "      <td>owenlinx</td>\n",
       "      <td>2019-01-01 09:15:33</td>\n",
       "      <td>submission</td>\n",
       "      <td>2021-04-14 12:17:09</td>\n",
       "    </tr>\n",
       "    <tr>\n",
       "      <th>13814</th>\n",
       "      <td>owenlinx</td>\n",
       "      <td>2019-01-01 09:15:33</td>\n",
       "      <td>submission</td>\n",
       "      <td>2021-04-14 12:17:12</td>\n",
       "    </tr>\n",
       "    <tr>\n",
       "      <th>13815</th>\n",
       "      <td>owenlinx</td>\n",
       "      <td>2019-01-01 09:15:33</td>\n",
       "      <td>submission</td>\n",
       "      <td>2021-04-14 12:17:12</td>\n",
       "    </tr>\n",
       "    <tr>\n",
       "      <th>13816</th>\n",
       "      <td>owenlinx</td>\n",
       "      <td>2019-01-01 09:15:33</td>\n",
       "      <td>submission</td>\n",
       "      <td>2021-04-14 12:17:19</td>\n",
       "    </tr>\n",
       "    <tr>\n",
       "      <th>13817</th>\n",
       "      <td>owenlinx</td>\n",
       "      <td>2019-01-01 09:15:33</td>\n",
       "      <td>submission</td>\n",
       "      <td>2021-04-14 12:21:45</td>\n",
       "    </tr>\n",
       "    <tr>\n",
       "      <th>13818</th>\n",
       "      <td>owenlinx</td>\n",
       "      <td>2019-01-01 09:15:33</td>\n",
       "      <td>submission</td>\n",
       "      <td>2021-04-14 12:22:05</td>\n",
       "    </tr>\n",
       "    <tr>\n",
       "      <th>13819</th>\n",
       "      <td>owenlinx</td>\n",
       "      <td>2019-01-01 09:15:33</td>\n",
       "      <td>submission</td>\n",
       "      <td>2021-04-14 12:22:35</td>\n",
       "    </tr>\n",
       "    <tr>\n",
       "      <th>13820</th>\n",
       "      <td>owenlinx</td>\n",
       "      <td>2019-01-01 09:15:33</td>\n",
       "      <td>submission</td>\n",
       "      <td>2021-04-14 12:23:06</td>\n",
       "    </tr>\n",
       "    <tr>\n",
       "      <th>13821</th>\n",
       "      <td>owenlinx</td>\n",
       "      <td>2019-01-01 09:15:33</td>\n",
       "      <td>submission</td>\n",
       "      <td>2021-04-14 12:23:30</td>\n",
       "    </tr>\n",
       "    <tr>\n",
       "      <th>13822</th>\n",
       "      <td>owenlinx</td>\n",
       "      <td>2019-01-01 09:15:33</td>\n",
       "      <td>submission</td>\n",
       "      <td>2021-04-14 12:23:58</td>\n",
       "    </tr>\n",
       "    <tr>\n",
       "      <th>13823</th>\n",
       "      <td>owenlinx</td>\n",
       "      <td>2019-01-01 09:15:33</td>\n",
       "      <td>submission</td>\n",
       "      <td>2021-04-14 12:24:23</td>\n",
       "    </tr>\n",
       "    <tr>\n",
       "      <th>13824</th>\n",
       "      <td>owenlinx</td>\n",
       "      <td>2019-01-01 09:15:33</td>\n",
       "      <td>submission</td>\n",
       "      <td>2021-04-14 12:24:50</td>\n",
       "    </tr>\n",
       "    <tr>\n",
       "      <th>13825</th>\n",
       "      <td>owenlinx</td>\n",
       "      <td>2019-01-01 09:15:33</td>\n",
       "      <td>submission</td>\n",
       "      <td>2021-04-14 12:25:15</td>\n",
       "    </tr>\n",
       "    <tr>\n",
       "      <th>13826</th>\n",
       "      <td>owenlinx</td>\n",
       "      <td>2019-01-01 09:15:33</td>\n",
       "      <td>submission</td>\n",
       "      <td>2021-04-14 12:25:40</td>\n",
       "    </tr>\n",
       "    <tr>\n",
       "      <th>13827</th>\n",
       "      <td>owenlinx</td>\n",
       "      <td>2019-01-01 09:15:33</td>\n",
       "      <td>submission</td>\n",
       "      <td>2021-04-14 12:26:07</td>\n",
       "    </tr>\n",
       "    <tr>\n",
       "      <th>13868</th>\n",
       "      <td>garretdanielkelly</td>\n",
       "      <td>2016-12-12 03:40:01</td>\n",
       "      <td>submission</td>\n",
       "      <td>2021-04-14 19:38:02</td>\n",
       "    </tr>\n",
       "    <tr>\n",
       "      <th>13869</th>\n",
       "      <td>garretdanielkelly</td>\n",
       "      <td>2016-12-12 03:40:01</td>\n",
       "      <td>submission</td>\n",
       "      <td>2021-04-14 19:38:02</td>\n",
       "    </tr>\n",
       "  </tbody>\n",
       "</table>\n",
       "</div>"
      ],
      "text/plain": [
       "               user_name     user_created_at submission_comment  \\\n",
       "13808           owenlinx 2019-01-01 09:15:33         submission   \n",
       "13809           owenlinx 2019-01-01 09:15:33         submission   \n",
       "13810           owenlinx 2019-01-01 09:15:33         submission   \n",
       "13811           owenlinx 2019-01-01 09:15:33         submission   \n",
       "13812           owenlinx 2019-01-01 09:15:33         submission   \n",
       "13813           owenlinx 2019-01-01 09:15:33         submission   \n",
       "13814           owenlinx 2019-01-01 09:15:33         submission   \n",
       "13815           owenlinx 2019-01-01 09:15:33         submission   \n",
       "13816           owenlinx 2019-01-01 09:15:33         submission   \n",
       "13817           owenlinx 2019-01-01 09:15:33         submission   \n",
       "13818           owenlinx 2019-01-01 09:15:33         submission   \n",
       "13819           owenlinx 2019-01-01 09:15:33         submission   \n",
       "13820           owenlinx 2019-01-01 09:15:33         submission   \n",
       "13821           owenlinx 2019-01-01 09:15:33         submission   \n",
       "13822           owenlinx 2019-01-01 09:15:33         submission   \n",
       "13823           owenlinx 2019-01-01 09:15:33         submission   \n",
       "13824           owenlinx 2019-01-01 09:15:33         submission   \n",
       "13825           owenlinx 2019-01-01 09:15:33         submission   \n",
       "13826           owenlinx 2019-01-01 09:15:33         submission   \n",
       "13827           owenlinx 2019-01-01 09:15:33         submission   \n",
       "13868  garretdanielkelly 2016-12-12 03:40:01         submission   \n",
       "13869  garretdanielkelly 2016-12-12 03:40:01         submission   \n",
       "\n",
       "               created_at  \n",
       "13808 2021-04-14 12:17:01  \n",
       "13809 2021-04-14 12:17:03  \n",
       "13810 2021-04-14 12:17:06  \n",
       "13811 2021-04-14 12:17:06  \n",
       "13812 2021-04-14 12:17:09  \n",
       "13813 2021-04-14 12:17:09  \n",
       "13814 2021-04-14 12:17:12  \n",
       "13815 2021-04-14 12:17:12  \n",
       "13816 2021-04-14 12:17:19  \n",
       "13817 2021-04-14 12:21:45  \n",
       "13818 2021-04-14 12:22:05  \n",
       "13819 2021-04-14 12:22:35  \n",
       "13820 2021-04-14 12:23:06  \n",
       "13821 2021-04-14 12:23:30  \n",
       "13822 2021-04-14 12:23:58  \n",
       "13823 2021-04-14 12:24:23  \n",
       "13824 2021-04-14 12:24:50  \n",
       "13825 2021-04-14 12:25:15  \n",
       "13826 2021-04-14 12:25:40  \n",
       "13827 2021-04-14 12:26:07  \n",
       "13868 2021-04-14 19:38:02  \n",
       "13869 2021-04-14 19:38:02  "
      ]
     },
     "execution_count": 84,
     "metadata": {},
     "output_type": "execute_result"
    }
   ],
   "source": [
    "txt = 'Amber Heard Touching Herself'\n",
    "df_unverified[df_unverified['text'] == txt][['user_name', 'user_created_at', 'submission_comment', 'created_at']]\n",
    "\n",
    "# Note that we don't have data on banned users except for their names."
   ]
  },
  {
   "cell_type": "markdown",
   "id": "c72d23b6",
   "metadata": {},
   "source": [
    "**\"owenlinx\" , \"garretdanielkelly\"** Both users are bots since, they posted more than one different submission with the same submission text <br> \"Amber Heard Touching Herself\" in exactly the same second!! <br>\n",
    "(sexual content)"
   ]
  },
  {
   "cell_type": "code",
   "execution_count": 85,
   "id": "43495b14",
   "metadata": {},
   "outputs": [
    {
     "data": {
      "text/html": [
       "<div>\n",
       "<style scoped>\n",
       "    .dataframe tbody tr th:only-of-type {\n",
       "        vertical-align: middle;\n",
       "    }\n",
       "\n",
       "    .dataframe tbody tr th {\n",
       "        vertical-align: top;\n",
       "    }\n",
       "\n",
       "    .dataframe thead th {\n",
       "        text-align: right;\n",
       "    }\n",
       "</style>\n",
       "<table border=\"1\" class=\"dataframe\">\n",
       "  <thead>\n",
       "    <tr style=\"text-align: right;\">\n",
       "      <th></th>\n",
       "      <th>user_name</th>\n",
       "      <th>user_created_at</th>\n",
       "      <th>submission_comment</th>\n",
       "      <th>created_at</th>\n",
       "    </tr>\n",
       "  </thead>\n",
       "  <tbody>\n",
       "    <tr>\n",
       "      <th>2923</th>\n",
       "      <td>RoleplayGuy21</td>\n",
       "      <td>2020-11-06 18:10:49</td>\n",
       "      <td>submission</td>\n",
       "      <td>2021-02-25 01:11:34</td>\n",
       "    </tr>\n",
       "    <tr>\n",
       "      <th>2924</th>\n",
       "      <td>RoleplayGuy21</td>\n",
       "      <td>2020-11-06 18:10:49</td>\n",
       "      <td>submission</td>\n",
       "      <td>2021-02-25 19:57:10</td>\n",
       "    </tr>\n",
       "    <tr>\n",
       "      <th>2925</th>\n",
       "      <td>RoleplayGuy21</td>\n",
       "      <td>2020-11-06 18:10:49</td>\n",
       "      <td>submission</td>\n",
       "      <td>2021-02-25 21:07:11</td>\n",
       "    </tr>\n",
       "    <tr>\n",
       "      <th>18054</th>\n",
       "      <td>RoleplayTime21</td>\n",
       "      <td>2021-04-14 11:10:20</td>\n",
       "      <td>submission</td>\n",
       "      <td>2021-05-21 18:08:45</td>\n",
       "    </tr>\n",
       "    <tr>\n",
       "      <th>18055</th>\n",
       "      <td>RoleplayTime21</td>\n",
       "      <td>2021-04-14 11:10:20</td>\n",
       "      <td>submission</td>\n",
       "      <td>2021-05-21 18:42:25</td>\n",
       "    </tr>\n",
       "    <tr>\n",
       "      <th>18056</th>\n",
       "      <td>RoleplayTime21</td>\n",
       "      <td>2021-04-14 11:10:20</td>\n",
       "      <td>submission</td>\n",
       "      <td>2021-05-21 20:34:18</td>\n",
       "    </tr>\n",
       "  </tbody>\n",
       "</table>\n",
       "</div>"
      ],
      "text/plain": [
       "            user_name     user_created_at submission_comment  \\\n",
       "2923    RoleplayGuy21 2020-11-06 18:10:49         submission   \n",
       "2924    RoleplayGuy21 2020-11-06 18:10:49         submission   \n",
       "2925    RoleplayGuy21 2020-11-06 18:10:49         submission   \n",
       "18054  RoleplayTime21 2021-04-14 11:10:20         submission   \n",
       "18055  RoleplayTime21 2021-04-14 11:10:20         submission   \n",
       "18056  RoleplayTime21 2021-04-14 11:10:20         submission   \n",
       "\n",
       "               created_at  \n",
       "2923  2021-02-25 01:11:34  \n",
       "2924  2021-02-25 19:57:10  \n",
       "2925  2021-02-25 21:07:11  \n",
       "18054 2021-05-21 18:08:45  \n",
       "18055 2021-05-21 18:42:25  \n",
       "18056 2021-05-21 20:34:18  "
      ]
     },
     "execution_count": 85,
     "metadata": {},
     "output_type": "execute_result"
    }
   ],
   "source": [
    "txt = 'Can Somebody RP as Amber Heard for me longterm?'\n",
    "df_unverified[df_unverified['text'] == txt][['user_name', 'user_created_at', 'submission_comment', 'created_at']]"
   ]
  },
  {
   "cell_type": "markdown",
   "id": "9007e8f9",
   "metadata": {},
   "source": [
    "**\"RoleplayGuy21\" , \"RoleplayTime21\"** Two different accounts posting submissions with the same submission text <br>\"Can Somebody RP as Amber Heard for me longterm?\". <br>\n",
    "(sexual content)"
   ]
  },
  {
   "cell_type": "markdown",
   "id": "2c50e185",
   "metadata": {},
   "source": [
    "<a id='unverified_creations'></a>\n",
    ">>### The account creation year of the unverified accounts contributed in 2021\n",
    "\n",
    "<ul>\n",
    "<li><a href=\"#largest_link_karma\">Unverified Accounts With The Largest Link Karma</a></li>   \n",
    "<li><a href=\"#largest_comment_karma\">Unverified Accounts With The Largest Comment Karma</a></li>\n",
    "    <br>\n",
    "<li><a href=\"#minimum_link_karma\">Unverified Accounts With The Minimum Link Karma</a></li>\n",
    "<li><a href=\"#minimum_comment_karma\">Unverified Accounts With The Minimum Comment Karma</a></li>\n",
    "    <br>\n",
    "<li><a href=\"#largest_scores\">Explore the largest scores</a></li>\n",
    "<li><a href=\"#minimum_scores\">Explore the minimum scores</a></li>\n",
    "    <br>\n",
    "<li><a href=\"#unverified_contributions\">Contributions of Unverified accounts in 2021</a></li>\n",
    "<li><a href=\"#unverified_creations\"><b><mark>Creation years of the unverified accounts contributed in 2021</mark></b></a></li>\n",
    "<li><a href=\"#unverified_peak\">Unverified Contributions Peaks</a></li>\n",
    "</ul>"
   ]
  },
  {
   "cell_type": "markdown",
   "id": "3b8273c5",
   "metadata": {},
   "source": [
    "### Contributions"
   ]
  },
  {
   "cell_type": "code",
   "execution_count": 86,
   "id": "2971d4a5",
   "metadata": {},
   "outputs": [
    {
     "data": {
      "image/svg+xml": [
       "<svg class=\"main-svg\" xmlns=\"http://www.w3.org/2000/svg\" xmlns:xlink=\"http://www.w3.org/1999/xlink\" width=\"900\" height=\"500\" style=\"\" viewBox=\"0 0 900 500\"><rect x=\"0\" y=\"0\" width=\"900\" height=\"500\" style=\"fill: rgb(255, 255, 255); fill-opacity: 1;\"/><defs id=\"defs-70b9a9\"><g class=\"clips\"/><g class=\"gradients\"/><g class=\"patterns\"/></defs><g class=\"bglayer\"/><g class=\"layer-below\"><g class=\"imagelayer\"/><g class=\"shapelayer\"/></g><g class=\"cartesianlayer\"/><g class=\"polarlayer\"/><g class=\"ternarylayer\"/><g class=\"geolayer\"/><g class=\"funnelarealayer\"/><g class=\"pielayer\"><g class=\"trace\" stroke-linejoin=\"round\" style=\"opacity: 1;\"><g class=\"slice\"><path class=\"surface\" d=\"M435,260l0,-160a160,160 0 0 1 150.04575007777308,215.55423371443854Z\" style=\"pointer-events: all; stroke-width: 0; fill: rgb(76, 120, 168); fill-opacity: 1; stroke: rgb(68, 68, 68); stroke-opacity: 1;\"/><g class=\"slicetext\"><text data-notex=\"1\" class=\"slicetext\" transform=\"translate(507.08436879767794,206.49071126920572)\" text-anchor=\"middle\" x=\"0\" y=\"0\" style=\"font-family: 'Open Sans', verdana, arial, sans-serif; font-size: 12px; fill: rgb(255, 255, 255); fill-opacity: 1; white-space: pre;\"><tspan class=\"line\" dy=\"0em\" x=\"0\" y=\"0\">2020</tspan><tspan class=\"line\" dy=\"1.3em\" x=\"0\" y=\"0\">30.6%</tspan></text></g></g><g class=\"slice\"><path class=\"surface\" d=\"M435,260l-156.59339131576107,32.84067289549534a160,160 0 0 1 156.59339131576107,-192.84067289549535Z\" style=\"pointer-events: all; stroke-width: 0; fill: rgb(245, 133, 24); fill-opacity: 1; stroke: rgb(68, 68, 68); stroke-opacity: 1;\"/><g class=\"slicetext\"><text data-notex=\"1\" class=\"slicetext\" transform=\"translate(365.03628867574696,199.91404467126068)\" text-anchor=\"middle\" x=\"0\" y=\"0\" style=\"font-family: 'Open Sans', verdana, arial, sans-serif; font-size: 12px; fill: rgb(68, 68, 68); fill-opacity: 1; white-space: pre;\"><tspan class=\"line\" dy=\"0em\" x=\"0\" y=\"0\">others</tspan><tspan class=\"line\" dy=\"1.3em\" x=\"0\" y=\"0\">28.3%</tspan></text></g></g><g class=\"slice\"><path class=\"surface\" d=\"M435,260l-11.57845439934624,159.58051069514178a160,160 0 0 1 -145.01493691641483,-126.73983779964644Z\" style=\"pointer-events: all; stroke-width: 0; fill: rgb(228, 87, 86); fill-opacity: 1; stroke: rgb(68, 68, 68); stroke-opacity: 1;\"/><g class=\"slicetext\"><text data-notex=\"1\" class=\"slicetext\" transform=\"translate(369.2302935786995,331.9039078967452)\" text-anchor=\"middle\" x=\"0\" y=\"0\" style=\"font-family: 'Open Sans', verdana, arial, sans-serif; font-size: 12px; fill: rgb(68, 68, 68); fill-opacity: 1; white-space: pre;\"><tspan class=\"line\" dy=\"0em\" x=\"0\" y=\"0\">2019</tspan><tspan class=\"line\" dy=\"1.3em\" x=\"0\" y=\"0\">20.6%</tspan></text></g></g><g class=\"slice\"><path class=\"surface\" d=\"M435,260l88.81594528038185,133.08541566960753a160,160 0 0 1 -100.3943996797281,26.495095025534255Z\" style=\"pointer-events: all; stroke-width: 0; fill: rgb(114, 183, 178); fill-opacity: 1; stroke: rgb(68, 68, 68); stroke-opacity: 1;\"/><g class=\"slicetext\"><text data-notex=\"1\" class=\"slicetext\" transform=\"translate(465.78656675953687,373.4988393897347)\" text-anchor=\"middle\" x=\"0\" y=\"0\" style=\"font-family: 'Open Sans', verdana, arial, sans-serif; font-size: 12px; fill: rgb(68, 68, 68); fill-opacity: 1; white-space: pre;\"><tspan class=\"line\" dy=\"0em\" x=\"0\" y=\"0\">2018</tspan><tspan class=\"line\" dy=\"1.3em\" x=\"0\" y=\"0\">10.5%</tspan></text></g></g><g class=\"slice\"><path class=\"surface\" d=\"M435,260l150.04575007777308,55.55423371443854a160,160 0 0 1 -61.229804797391225,77.53118195516899Z\" style=\"pointer-events: all; stroke-width: 0; fill: rgb(84, 162, 75); fill-opacity: 1; stroke: rgb(68, 68, 68); stroke-opacity: 1;\"/><g class=\"slicetext\"><text data-notex=\"1\" class=\"slicetext\" transform=\"translate(530.9048842596577,332.4664923458334)\" text-anchor=\"middle\" x=\"0\" y=\"0\" style=\"font-family: 'Open Sans', verdana, arial, sans-serif; font-size: 12px; fill: rgb(68, 68, 68); fill-opacity: 1; white-space: pre;\"><tspan class=\"line\" dy=\"0em\" x=\"0\" y=\"0\">2021</tspan><tspan class=\"line\" dy=\"1.3em\" x=\"0\" y=\"0\">9.99%</tspan></text></g></g></g></g><g class=\"iciclelayer\"/><g class=\"treemaplayer\"/><g class=\"sunburstlayer\"/><g class=\"glimages\"/><defs id=\"topdefs-70b9a9\"><g class=\"clips\"/><clipPath id=\"legend70b9a9\"><rect width=\"84\" height=\"105\" x=\"0\" y=\"0\"/></clipPath></defs><g class=\"layer-above\"><g class=\"imagelayer\"/><g class=\"shapelayer\"/></g><g class=\"infolayer\"><g class=\"legend\" pointer-events=\"all\" transform=\"translate(804.2,100)\"><rect class=\"bg\" shape-rendering=\"crispEdges\" style=\"stroke: rgb(68, 68, 68); stroke-opacity: 1; fill: rgb(255, 255, 255); fill-opacity: 1; stroke-width: 0px;\" width=\"84\" height=\"105\" x=\"0\" y=\"0\"/><g class=\"scrollbox\" transform=\"\" clip-path=\"url(#legend70b9a9)\"><g class=\"groups\"><g class=\"traces\" transform=\"translate(0,14.5)\" style=\"opacity: 1;\"><text class=\"legendtext\" text-anchor=\"start\" x=\"40\" y=\"4.680000000000001\" style=\"font-family: 'Open Sans', verdana, arial, sans-serif; font-size: 12px; fill: rgb(42, 63, 95); fill-opacity: 1; white-space: pre;\">2020</text><g class=\"layers\" style=\"opacity: 1;\"><g class=\"legendfill\"/><g class=\"legendlines\"/><g class=\"legendsymbols\"><g class=\"legendpoints\"><path class=\"legendpie\" d=\"M6,6H-6V-6H6Z\" transform=\"translate(20,0)\" style=\"stroke-width: 0; fill: rgb(76, 120, 168); fill-opacity: 1; stroke: rgb(68, 68, 68); stroke-opacity: 1;\"/></g></g></g><rect class=\"legendtoggle\" x=\"0\" y=\"-9.5\" width=\"78.875\" height=\"19\" style=\"fill: rgb(0, 0, 0); fill-opacity: 0;\"/></g><g class=\"traces\" transform=\"translate(0,33.5)\" style=\"opacity: 1;\"><text class=\"legendtext\" text-anchor=\"start\" x=\"40\" y=\"4.680000000000001\" style=\"font-family: 'Open Sans', verdana, arial, sans-serif; font-size: 12px; fill: rgb(42, 63, 95); fill-opacity: 1; white-space: pre;\">others</text><g class=\"layers\" style=\"opacity: 1;\"><g class=\"legendfill\"/><g class=\"legendlines\"/><g class=\"legendsymbols\"><g class=\"legendpoints\"><path class=\"legendpie\" d=\"M6,6H-6V-6H6Z\" transform=\"translate(20,0)\" style=\"stroke-width: 0; fill: rgb(245, 133, 24); fill-opacity: 1; stroke: rgb(68, 68, 68); stroke-opacity: 1;\"/></g></g></g><rect class=\"legendtoggle\" x=\"0\" y=\"-9.5\" width=\"78.875\" height=\"19\" style=\"fill: rgb(0, 0, 0); fill-opacity: 0;\"/></g><g class=\"traces\" transform=\"translate(0,52.5)\" style=\"opacity: 1;\"><text class=\"legendtext\" text-anchor=\"start\" x=\"40\" y=\"4.680000000000001\" style=\"font-family: 'Open Sans', verdana, arial, sans-serif; font-size: 12px; fill: rgb(42, 63, 95); fill-opacity: 1; white-space: pre;\">2019</text><g class=\"layers\" style=\"opacity: 1;\"><g class=\"legendfill\"/><g class=\"legendlines\"/><g class=\"legendsymbols\"><g class=\"legendpoints\"><path class=\"legendpie\" d=\"M6,6H-6V-6H6Z\" transform=\"translate(20,0)\" style=\"stroke-width: 0; fill: rgb(228, 87, 86); fill-opacity: 1; stroke: rgb(68, 68, 68); stroke-opacity: 1;\"/></g></g></g><rect class=\"legendtoggle\" x=\"0\" y=\"-9.5\" width=\"78.875\" height=\"19\" style=\"fill: rgb(0, 0, 0); fill-opacity: 0;\"/></g><g class=\"traces\" transform=\"translate(0,71.5)\" style=\"opacity: 1;\"><text class=\"legendtext\" text-anchor=\"start\" x=\"40\" y=\"4.680000000000001\" style=\"font-family: 'Open Sans', verdana, arial, sans-serif; font-size: 12px; fill: rgb(42, 63, 95); fill-opacity: 1; white-space: pre;\">2018</text><g class=\"layers\" style=\"opacity: 1;\"><g class=\"legendfill\"/><g class=\"legendlines\"/><g class=\"legendsymbols\"><g class=\"legendpoints\"><path class=\"legendpie\" d=\"M6,6H-6V-6H6Z\" transform=\"translate(20,0)\" style=\"stroke-width: 0; fill: rgb(114, 183, 178); fill-opacity: 1; stroke: rgb(68, 68, 68); stroke-opacity: 1;\"/></g></g></g><rect class=\"legendtoggle\" x=\"0\" y=\"-9.5\" width=\"78.875\" height=\"19\" style=\"fill: rgb(0, 0, 0); fill-opacity: 0;\"/></g><g class=\"traces\" transform=\"translate(0,90.5)\" style=\"opacity: 1;\"><text class=\"legendtext\" text-anchor=\"start\" x=\"40\" y=\"4.680000000000001\" style=\"font-family: 'Open Sans', verdana, arial, sans-serif; font-size: 12px; fill: rgb(42, 63, 95); fill-opacity: 1; white-space: pre;\">2021</text><g class=\"layers\" style=\"opacity: 1;\"><g class=\"legendfill\"/><g class=\"legendlines\"/><g class=\"legendsymbols\"><g class=\"legendpoints\"><path class=\"legendpie\" d=\"M6,6H-6V-6H6Z\" transform=\"translate(20,0)\" style=\"stroke-width: 0; fill: rgb(84, 162, 75); fill-opacity: 1; stroke: rgb(68, 68, 68); stroke-opacity: 1;\"/></g></g></g><rect class=\"legendtoggle\" x=\"0\" y=\"-9.5\" width=\"78.875\" height=\"19\" style=\"fill: rgb(0, 0, 0); fill-opacity: 0;\"/></g></g></g><rect class=\"scrollbar\" rx=\"20\" ry=\"3\" width=\"0\" height=\"0\" style=\"fill: rgb(128, 139, 164); fill-opacity: 1;\" x=\"0\" y=\"0\"/></g><g class=\"g-gtitle\"><text class=\"gtitle\" x=\"45\" y=\"50\" text-anchor=\"start\" dy=\"0em\" style=\"font-family: 'Open Sans', verdana, arial, sans-serif; font-size: 17px; fill: rgb(42, 63, 95); opacity: 1; font-weight: normal; white-space: pre;\">Contributions of Unverified accounts in 2021</text></g></g></svg>"
      ]
     },
     "metadata": {},
     "output_type": "display_data"
    }
   ],
   "source": [
    "fig = px.pie(df_unverified.creation_year.value_counts().to_frame().reset_index(),\n",
    "             values='creation_year', names='index', color_discrete_sequence = colors,\n",
    "             title = 'Contributions of Unverified accounts in 2021')\n",
    "\n",
    "fig.update_traces(textposition='inside', textinfo='percent+label')\n",
    "\n",
    "fig.show()"
   ]
  },
  {
   "cell_type": "code",
   "execution_count": 87,
   "id": "b637cd1b",
   "metadata": {},
   "outputs": [
    {
     "data": {
      "image/svg+xml": [
       "<svg class=\"main-svg\" xmlns=\"http://www.w3.org/2000/svg\" xmlns:xlink=\"http://www.w3.org/1999/xlink\" width=\"900\" height=\"500\" style=\"\" viewBox=\"0 0 900 500\"><rect x=\"0\" y=\"0\" width=\"900\" height=\"500\" style=\"fill: rgb(255, 255, 255); fill-opacity: 1;\"/><defs id=\"defs-f31b39\"><g class=\"clips\"><clipPath id=\"clipf31b39xyplot\" class=\"plotclip\"><rect width=\"692\" height=\"320\"/></clipPath><clipPath class=\"axesclip\" id=\"clipf31b39x\"><rect x=\"80\" y=\"0\" width=\"692\" height=\"500\"/></clipPath><clipPath class=\"axesclip\" id=\"clipf31b39y\"><rect x=\"0\" y=\"100\" width=\"900\" height=\"320\"/></clipPath><clipPath class=\"axesclip\" id=\"clipf31b39xy\"><rect x=\"80\" y=\"100\" width=\"692\" height=\"320\"/></clipPath></g><g class=\"gradients\"/><g class=\"patterns\"/></defs><g class=\"bglayer\"><rect class=\"bg\" x=\"80\" y=\"100\" width=\"692\" height=\"320\" style=\"fill: rgb(229, 236, 246); fill-opacity: 1; stroke-width: 0;\"/></g><g class=\"layer-below\"><g class=\"imagelayer\"/><g class=\"shapelayer\"/></g><g class=\"cartesianlayer\"><g class=\"subplot xy\"><g class=\"layer-subplot\"><g class=\"shapelayer\"/><g class=\"imagelayer\"/></g><g class=\"gridlayer\"><g class=\"x\"/><g class=\"y\"><path class=\"ygrid crisp\" transform=\"translate(0,372.35)\" d=\"M80,0h692\" style=\"stroke: rgb(255, 255, 255); stroke-opacity: 1; stroke-width: 1px;\"/><path class=\"ygrid crisp\" transform=\"translate(0,324.7)\" d=\"M80,0h692\" style=\"stroke: rgb(255, 255, 255); stroke-opacity: 1; stroke-width: 1px;\"/><path class=\"ygrid crisp\" transform=\"translate(0,277.05)\" d=\"M80,0h692\" style=\"stroke: rgb(255, 255, 255); stroke-opacity: 1; stroke-width: 1px;\"/><path class=\"ygrid crisp\" transform=\"translate(0,229.4)\" d=\"M80,0h692\" style=\"stroke: rgb(255, 255, 255); stroke-opacity: 1; stroke-width: 1px;\"/><path class=\"ygrid crisp\" transform=\"translate(0,181.76)\" d=\"M80,0h692\" style=\"stroke: rgb(255, 255, 255); stroke-opacity: 1; stroke-width: 1px;\"/><path class=\"ygrid crisp\" transform=\"translate(0,134.11)\" d=\"M80,0h692\" style=\"stroke: rgb(255, 255, 255); stroke-opacity: 1; stroke-width: 1px;\"/></g></g><g class=\"zerolinelayer\"><path class=\"yzl zl crisp\" transform=\"translate(0,420)\" d=\"M80,0h692\" style=\"stroke: rgb(255, 255, 255); stroke-opacity: 1; stroke-width: 2px;\"/></g><path class=\"xlines-below\"/><path class=\"ylines-below\"/><g class=\"overlines-below\"/><g class=\"xaxislayer-below\"/><g class=\"yaxislayer-below\"/><g class=\"overaxes-below\"/><g class=\"plot\" transform=\"translate(80,100)\" clip-path=\"url(#clipf31b39xyplot)\"><g class=\"barlayer mlayer\"><g class=\"trace bars\" style=\"opacity: 1;\"><g class=\"points\"><g class=\"point\"><path d=\"M11.53,320V215.65H103.8V320Z\" style=\"vector-effect: non-scaling-stroke; opacity: 1; stroke-width: 0px; fill: rgb(76, 120, 168); fill-opacity: 1;\"/></g></g></g><g class=\"trace bars\" style=\"opacity: 1;\"><g class=\"points\"><g class=\"point\"><path d=\"M126.87,320V116.06H219.13V320Z\" style=\"vector-effect: non-scaling-stroke; opacity: 1; stroke-width: 0px; fill: rgb(245, 133, 24); fill-opacity: 1;\"/></g></g></g><g class=\"trace bars\" style=\"opacity: 1;\"><g class=\"points\"><g class=\"point\"><path d=\"M242.2,320V16H334.47V320Z\" style=\"vector-effect: non-scaling-stroke; opacity: 1; stroke-width: 0px; fill: rgb(228, 87, 86); fill-opacity: 1;\"/></g></g></g><g class=\"trace bars\" style=\"opacity: 1;\"><g class=\"points\"><g class=\"point\"><path d=\"M357.53,320V220.89H449.8V320Z\" style=\"vector-effect: non-scaling-stroke; opacity: 1; stroke-width: 0px; fill: rgb(114, 183, 178); fill-opacity: 1;\"/></g></g></g><g class=\"trace bars\" style=\"opacity: 1;\"><g class=\"points\"><g class=\"point\"><path d=\"M588.2,320V39.35H680.47V320Z\" style=\"vector-effect: non-scaling-stroke; opacity: 1; stroke-width: 0px; fill: rgb(238, 202, 59); fill-opacity: 1;\"/></g></g></g></g></g><g class=\"overplot\"/><path class=\"xlines-above crisp\" d=\"M0,0\" style=\"fill: none;\"/><path class=\"ylines-above crisp\" d=\"M0,0\" style=\"fill: none;\"/><g class=\"overlines-above\"/><g class=\"xaxislayer-above\"><g class=\"xtick\"><text text-anchor=\"middle\" x=\"0\" y=\"433\" transform=\"translate(137.67000000000002,0)\" style=\"font-family: 'Open Sans', verdana, arial, sans-serif; font-size: 12px; fill: rgb(42, 63, 95); fill-opacity: 1; white-space: pre; opacity: 1;\">2018</text></g><g class=\"xtick\"><text text-anchor=\"middle\" x=\"0\" y=\"433\" transform=\"translate(253,0)\" style=\"font-family: 'Open Sans', verdana, arial, sans-serif; font-size: 12px; fill: rgb(42, 63, 95); fill-opacity: 1; white-space: pre; opacity: 1;\">2019</text></g><g class=\"xtick\"><text text-anchor=\"middle\" x=\"0\" y=\"433\" transform=\"translate(368.33,0)\" style=\"font-family: 'Open Sans', verdana, arial, sans-serif; font-size: 12px; fill: rgb(42, 63, 95); fill-opacity: 1; white-space: pre; opacity: 1;\">2020</text></g><g class=\"xtick\"><text text-anchor=\"middle\" x=\"0\" y=\"433\" transform=\"translate(483.67,0)\" style=\"font-family: 'Open Sans', verdana, arial, sans-serif; font-size: 12px; fill: rgb(42, 63, 95); fill-opacity: 1; white-space: pre; opacity: 1;\">2021</text></g><g class=\"xtick\"><text text-anchor=\"middle\" x=\"0\" y=\"433\" transform=\"translate(599,0)\" style=\"font-family: 'Open Sans', verdana, arial, sans-serif; font-size: 12px; fill: rgb(42, 63, 95); fill-opacity: 1; white-space: pre; opacity: 1;\">banned</text></g><g class=\"xtick\"><text text-anchor=\"middle\" x=\"0\" y=\"433\" transform=\"translate(714.33,0)\" style=\"font-family: 'Open Sans', verdana, arial, sans-serif; font-size: 12px; fill: rgb(42, 63, 95); fill-opacity: 1; white-space: pre; opacity: 1;\">others</text></g></g><g class=\"yaxislayer-above\"><g class=\"ytick\"><text text-anchor=\"end\" x=\"79\" y=\"4.199999999999999\" transform=\"translate(0,420)\" style=\"font-family: 'Open Sans', verdana, arial, sans-serif; font-size: 12px; fill: rgb(42, 63, 95); fill-opacity: 1; white-space: pre; opacity: 1;\">0</text></g><g class=\"ytick\"><text text-anchor=\"end\" x=\"79\" y=\"4.199999999999999\" style=\"font-family: 'Open Sans', verdana, arial, sans-serif; font-size: 12px; fill: rgb(42, 63, 95); fill-opacity: 1; white-space: pre; opacity: 1;\" transform=\"translate(0,372.35)\">100</text></g><g class=\"ytick\"><text text-anchor=\"end\" x=\"79\" y=\"4.199999999999999\" style=\"font-family: 'Open Sans', verdana, arial, sans-serif; font-size: 12px; fill: rgb(42, 63, 95); fill-opacity: 1; white-space: pre; opacity: 1;\" transform=\"translate(0,324.7)\">200</text></g><g class=\"ytick\"><text text-anchor=\"end\" x=\"79\" y=\"4.199999999999999\" style=\"font-family: 'Open Sans', verdana, arial, sans-serif; font-size: 12px; fill: rgb(42, 63, 95); fill-opacity: 1; white-space: pre; opacity: 1;\" transform=\"translate(0,277.05)\">300</text></g><g class=\"ytick\"><text text-anchor=\"end\" x=\"79\" y=\"4.199999999999999\" style=\"font-family: 'Open Sans', verdana, arial, sans-serif; font-size: 12px; fill: rgb(42, 63, 95); fill-opacity: 1; white-space: pre; opacity: 1;\" transform=\"translate(0,229.4)\">400</text></g><g class=\"ytick\"><text text-anchor=\"end\" x=\"79\" y=\"4.199999999999999\" style=\"font-family: 'Open Sans', verdana, arial, sans-serif; font-size: 12px; fill: rgb(42, 63, 95); fill-opacity: 1; white-space: pre; opacity: 1;\" transform=\"translate(0,181.76)\">500</text></g><g class=\"ytick\"><text text-anchor=\"end\" x=\"79\" y=\"4.199999999999999\" style=\"font-family: 'Open Sans', verdana, arial, sans-serif; font-size: 12px; fill: rgb(42, 63, 95); fill-opacity: 1; white-space: pre; opacity: 1;\" transform=\"translate(0,134.11)\">600</text></g></g><g class=\"overaxes-above\"/></g></g><g class=\"polarlayer\"/><g class=\"ternarylayer\"/><g class=\"geolayer\"/><g class=\"funnelarealayer\"/><g class=\"pielayer\"/><g class=\"iciclelayer\"/><g class=\"treemaplayer\"/><g class=\"sunburstlayer\"/><g class=\"glimages\"/><defs id=\"topdefs-f31b39\"><g class=\"clips\"/><clipPath id=\"legendf31b39\"><rect width=\"102\" height=\"124\" x=\"0\" y=\"0\"/></clipPath></defs><g class=\"layer-above\"><g class=\"imagelayer\"/><g class=\"shapelayer\"/></g><g class=\"infolayer\"><g class=\"legend\" pointer-events=\"all\" transform=\"translate(785.84,100)\"><rect class=\"bg\" shape-rendering=\"crispEdges\" style=\"stroke: rgb(68, 68, 68); stroke-opacity: 1; fill: rgb(255, 255, 255); fill-opacity: 1; stroke-width: 0px;\" width=\"102\" height=\"124\" x=\"0\" y=\"0\"/><g class=\"scrollbox\" transform=\"\" clip-path=\"url(#legendf31b39)\"><text class=\"legendtitletext\" text-anchor=\"start\" x=\"2\" y=\"18.2\" style=\"font-family: 'Open Sans', verdana, arial, sans-serif; font-size: 14px; fill: rgb(42, 63, 95); fill-opacity: 1; white-space: pre;\">creation_year</text><g class=\"groups\" transform=\"\"><g class=\"traces\" transform=\"translate(0,32.7)\" style=\"opacity: 1;\"><text class=\"legendtext\" text-anchor=\"start\" x=\"40\" y=\"4.680000000000001\" style=\"font-family: 'Open Sans', verdana, arial, sans-serif; font-size: 12px; fill: rgb(42, 63, 95); fill-opacity: 1; white-space: pre;\">2018</text><g class=\"layers\" style=\"opacity: 1;\"><g class=\"legendfill\"/><g class=\"legendlines\"/><g class=\"legendsymbols\"><g class=\"legendpoints\"><path class=\"legendundefined\" d=\"M6,6H-6V-6H6Z\" transform=\"translate(20,0)\" style=\"stroke-width: 0px; fill: rgb(76, 120, 168); fill-opacity: 1;\"/></g></g></g><rect class=\"legendtoggle\" x=\"0\" y=\"-9.5\" width=\"78.875\" height=\"19\" style=\"fill: rgb(0, 0, 0); fill-opacity: 0;\"/></g></g><g class=\"groups\" transform=\"\"><g class=\"traces\" transform=\"translate(0,51.7)\" style=\"opacity: 1;\"><text class=\"legendtext\" text-anchor=\"start\" x=\"40\" y=\"4.680000000000001\" style=\"font-family: 'Open Sans', verdana, arial, sans-serif; font-size: 12px; fill: rgb(42, 63, 95); fill-opacity: 1; white-space: pre;\">2019</text><g class=\"layers\" style=\"opacity: 1;\"><g class=\"legendfill\"/><g class=\"legendlines\"/><g class=\"legendsymbols\"><g class=\"legendpoints\"><path class=\"legendundefined\" d=\"M6,6H-6V-6H6Z\" transform=\"translate(20,0)\" style=\"stroke-width: 0px; fill: rgb(245, 133, 24); fill-opacity: 1;\"/></g></g></g><rect class=\"legendtoggle\" x=\"0\" y=\"-9.5\" width=\"78.875\" height=\"19\" style=\"fill: rgb(0, 0, 0); fill-opacity: 0;\"/></g></g><g class=\"groups\" transform=\"\"><g class=\"traces\" transform=\"translate(0,70.7)\" style=\"opacity: 1;\"><text class=\"legendtext\" text-anchor=\"start\" x=\"40\" y=\"4.680000000000001\" style=\"font-family: 'Open Sans', verdana, arial, sans-serif; font-size: 12px; fill: rgb(42, 63, 95); fill-opacity: 1; white-space: pre;\">2020</text><g class=\"layers\" style=\"opacity: 1;\"><g class=\"legendfill\"/><g class=\"legendlines\"/><g class=\"legendsymbols\"><g class=\"legendpoints\"><path class=\"legendundefined\" d=\"M6,6H-6V-6H6Z\" transform=\"translate(20,0)\" style=\"stroke-width: 0px; fill: rgb(228, 87, 86); fill-opacity: 1;\"/></g></g></g><rect class=\"legendtoggle\" x=\"0\" y=\"-9.5\" width=\"78.875\" height=\"19\" style=\"fill: rgb(0, 0, 0); fill-opacity: 0;\"/></g></g><g class=\"groups\" transform=\"\"><g class=\"traces\" transform=\"translate(0,89.7)\" style=\"opacity: 1;\"><text class=\"legendtext\" text-anchor=\"start\" x=\"40\" y=\"4.680000000000001\" style=\"font-family: 'Open Sans', verdana, arial, sans-serif; font-size: 12px; fill: rgb(42, 63, 95); fill-opacity: 1; white-space: pre;\">2021</text><g class=\"layers\" style=\"opacity: 1;\"><g class=\"legendfill\"/><g class=\"legendlines\"/><g class=\"legendsymbols\"><g class=\"legendpoints\"><path class=\"legendundefined\" d=\"M6,6H-6V-6H6Z\" transform=\"translate(20,0)\" style=\"stroke-width: 0px; fill: rgb(114, 183, 178); fill-opacity: 1;\"/></g></g></g><rect class=\"legendtoggle\" x=\"0\" y=\"-9.5\" width=\"78.875\" height=\"19\" style=\"fill: rgb(0, 0, 0); fill-opacity: 0;\"/></g></g><g class=\"groups\" transform=\"\"><g class=\"traces\" transform=\"translate(0,108.7)\" style=\"opacity: 1;\"><text class=\"legendtext\" text-anchor=\"start\" x=\"40\" y=\"4.680000000000001\" style=\"font-family: 'Open Sans', verdana, arial, sans-serif; font-size: 12px; fill: rgb(42, 63, 95); fill-opacity: 1; white-space: pre;\">others</text><g class=\"layers\" style=\"opacity: 1;\"><g class=\"legendfill\"/><g class=\"legendlines\"/><g class=\"legendsymbols\"><g class=\"legendpoints\"><path class=\"legendundefined\" d=\"M6,6H-6V-6H6Z\" transform=\"translate(20,0)\" style=\"stroke-width: 0px; fill: rgb(238, 202, 59); fill-opacity: 1;\"/></g></g></g><rect class=\"legendtoggle\" x=\"0\" y=\"-9.5\" width=\"78.875\" height=\"19\" style=\"fill: rgb(0, 0, 0); fill-opacity: 0;\"/></g></g></g><rect class=\"scrollbar\" rx=\"20\" ry=\"3\" width=\"0\" height=\"0\" x=\"0\" y=\"0\" style=\"fill: rgb(128, 139, 164); fill-opacity: 1;\"/></g><g class=\"g-gtitle\"><text class=\"gtitle\" x=\"45\" y=\"50\" text-anchor=\"start\" dy=\"0em\" style=\"font-family: 'Open Sans', verdana, arial, sans-serif; font-size: 17px; fill: rgb(42, 63, 95); opacity: 1; font-weight: normal; white-space: pre;\">Contributions of Unverified accounts in 2021</text></g><g class=\"g-xtitle\"><text class=\"xtitle\" x=\"426\" y=\"460.8\" text-anchor=\"middle\" style=\"font-family: 'Open Sans', verdana, arial, sans-serif; font-size: 14px; fill: rgb(42, 63, 95); opacity: 1; font-weight: normal; white-space: pre;\">creation_year</text></g><g class=\"g-ytitle\"><text class=\"ytitle\" transform=\"rotate(-90,31.309375000000003,260)\" x=\"31.309375000000003\" y=\"260\" text-anchor=\"middle\" style=\"font-family: 'Open Sans', verdana, arial, sans-serif; font-size: 14px; fill: rgb(42, 63, 95); opacity: 1; font-weight: normal; white-space: pre;\">count</text></g></g></svg>"
      ]
     },
     "metadata": {},
     "output_type": "display_data"
    }
   ],
   "source": [
    "fig = px.histogram(df_unverified, x='creation_year', color=\"creation_year\", \n",
    "                    color_discrete_sequence = colors,\n",
    "                   category_orders = dict(creation_year=['2018', '2019', '2020', '2021', 'banned', 'others']),\n",
    "                   title = 'Contributions of Unverified accounts in 2021')\n",
    "fig.show()"
   ]
  },
  {
   "cell_type": "code",
   "execution_count": 88,
   "id": "c7ebbe86",
   "metadata": {},
   "outputs": [
    {
     "data": {
      "image/svg+xml": [
       "<svg class=\"main-svg\" xmlns=\"http://www.w3.org/2000/svg\" xmlns:xlink=\"http://www.w3.org/1999/xlink\" width=\"900\" height=\"500\" style=\"\" viewBox=\"0 0 900 500\"><rect x=\"0\" y=\"0\" width=\"900\" height=\"500\" style=\"fill: rgb(255, 255, 255); fill-opacity: 1;\"/><defs id=\"defs-73eb69\"><g class=\"clips\"/><g class=\"gradients\"/><g class=\"patterns\"/></defs><g class=\"bglayer\"/><g class=\"layer-below\"><g class=\"imagelayer\"/><g class=\"shapelayer\"/></g><g class=\"cartesianlayer\"/><g class=\"polarlayer\"/><g class=\"ternarylayer\"/><g class=\"geolayer\"/><g class=\"funnelarealayer\"/><g class=\"pielayer\"><g class=\"trace\" stroke-linejoin=\"round\" style=\"opacity: 1;\"><g class=\"slice\"><path class=\"surface\" d=\"M435,260l0,-160a160,160 0 0 1 158.426309233441,182.38536447481096Z\" style=\"pointer-events: all; stroke-width: 0; fill: rgb(76, 120, 168); fill-opacity: 1; stroke: rgb(68, 68, 68); stroke-opacity: 1;\"/><g class=\"slicetext\"><text data-notex=\"1\" class=\"slicetext\" transform=\"translate(503.7904127024291,196.9076220008455)\" text-anchor=\"middle\" x=\"0\" y=\"0\" style=\"font-family: 'Open Sans', verdana, arial, sans-serif; font-size: 12px; fill: rgb(255, 255, 255); fill-opacity: 1; white-space: pre;\"><tspan class=\"line\" dy=\"0em\" x=\"0\" y=\"0\">2020</tspan><tspan class=\"line\" dy=\"1.3em\" x=\"0\" y=\"0\">27.2%</tspan></text></g></g><g class=\"slice\"><path class=\"surface\" d=\"M435,260l-159.71056699388004,9.619500532426752a160,160 0 0 1 159.71056699388004,-169.61950053242674Z\" style=\"pointer-events: all; stroke-width: 0; fill: rgb(245, 133, 24); fill-opacity: 1; stroke: rgb(68, 68, 68); stroke-opacity: 1;\"/><g class=\"slicetext\"><text data-notex=\"1\" class=\"slicetext\" transform=\"translate(367.2225737687101,193.2230854555104)\" text-anchor=\"middle\" x=\"0\" y=\"0\" style=\"font-family: 'Open Sans', verdana, arial, sans-serif; font-size: 12px; fill: rgb(68, 68, 68); fill-opacity: 1; white-space: pre;\"><tspan class=\"line\" dy=\"0em\" x=\"0\" y=\"0\">others</tspan><tspan class=\"line\" dy=\"1.3em\" x=\"0\" y=\"0\">26%</tspan></text></g></g><g class=\"slice\"><path class=\"surface\" d=\"M435,260l-44.330383432371036,153.7361932166234a160,160 0 0 1 -115.380183561509,-144.11669268419666Z\" style=\"pointer-events: all; stroke-width: 0; fill: rgb(228, 87, 86); fill-opacity: 1; stroke: rgb(68, 68, 68); stroke-opacity: 1;\"/><g class=\"slicetext\"><text data-notex=\"1\" class=\"slicetext\" transform=\"translate(355.7543369225113,320.108314447941)\" text-anchor=\"middle\" x=\"0\" y=\"0\" style=\"font-family: 'Open Sans', verdana, arial, sans-serif; font-size: 12px; fill: rgb(68, 68, 68); fill-opacity: 1; white-space: pre;\"><tspan class=\"line\" dy=\"0em\" x=\"0\" y=\"0\">2019</tspan><tspan class=\"line\" dy=\"1.3em\" x=\"0\" y=\"0\">19.6%</tspan></text></g></g><g class=\"slice\"><path class=\"surface\" d=\"M435,260l119.37907041247897,106.52998426477114a160,160 0 0 1 -163.70945384485,47.20620895185226Z\" style=\"pointer-events: all; stroke-width: 0; fill: rgb(114, 183, 178); fill-opacity: 1; stroke: rgb(68, 68, 68); stroke-opacity: 1;\"/><g class=\"slicetext\"><text data-notex=\"1\" class=\"slicetext\" transform=\"translate(463.88898102860287,357.01673868565024)\" text-anchor=\"middle\" x=\"0\" y=\"0\" style=\"font-family: 'Open Sans', verdana, arial, sans-serif; font-size: 12px; fill: rgb(68, 68, 68); fill-opacity: 1; white-space: pre;\"><tspan class=\"line\" dy=\"0em\" x=\"0\" y=\"0\">2018</tspan><tspan class=\"line\" dy=\"1.3em\" x=\"0\" y=\"0\">17.9%</tspan></text></g></g><g class=\"slice\"><path class=\"surface\" d=\"M435,260l158.426309233441,22.385364474810928a160,160 0 0 1 -39.047238820962036,84.14461978996022Z\" style=\"pointer-events: all; stroke-width: 0; fill: rgb(84, 162, 75); fill-opacity: 1; stroke: rgb(68, 68, 68); stroke-opacity: 1;\"/><g class=\"slicetext\"><text data-notex=\"1\" class=\"slicetext\" transform=\"translate(547.4783791130767,308.90893501272154)\" text-anchor=\"middle\" x=\"0\" y=\"0\" style=\"font-family: 'Open Sans', verdana, arial, sans-serif; font-size: 12px; fill: rgb(68, 68, 68); fill-opacity: 1; white-space: pre;\"><tspan class=\"line\" dy=\"0em\" x=\"0\" y=\"0\">2021</tspan><tspan class=\"line\" dy=\"1.3em\" x=\"0\" y=\"0\">9.36%</tspan></text></g></g></g></g><g class=\"iciclelayer\"/><g class=\"treemaplayer\"/><g class=\"sunburstlayer\"/><g class=\"glimages\"/><defs id=\"topdefs-73eb69\"><g class=\"clips\"/><clipPath id=\"legend73eb69\"><rect width=\"84\" height=\"105\" x=\"0\" y=\"0\"/></clipPath></defs><g class=\"layer-above\"><g class=\"imagelayer\"/><g class=\"shapelayer\"/></g><g class=\"infolayer\"><g class=\"legend\" pointer-events=\"all\" transform=\"translate(804.2,100)\"><rect class=\"bg\" shape-rendering=\"crispEdges\" width=\"84\" height=\"105\" x=\"0\" y=\"0\" style=\"stroke: rgb(68, 68, 68); stroke-opacity: 1; fill: rgb(255, 255, 255); fill-opacity: 1; stroke-width: 0px;\"/><g class=\"scrollbox\" transform=\"\" clip-path=\"url(#legend73eb69)\"><g class=\"groups\"><g class=\"traces\" transform=\"translate(0,14.5)\" style=\"opacity: 1;\"><text class=\"legendtext\" text-anchor=\"start\" x=\"40\" y=\"4.680000000000001\" style=\"font-family: 'Open Sans', verdana, arial, sans-serif; font-size: 12px; fill: rgb(42, 63, 95); fill-opacity: 1; white-space: pre;\">2020</text><g class=\"layers\" style=\"opacity: 1;\"><g class=\"legendfill\"/><g class=\"legendlines\"/><g class=\"legendsymbols\"><g class=\"legendpoints\"><path class=\"legendpie\" d=\"M6,6H-6V-6H6Z\" transform=\"translate(20,0)\" style=\"stroke-width: 0; fill: rgb(76, 120, 168); fill-opacity: 1; stroke: rgb(68, 68, 68); stroke-opacity: 1;\"/></g></g></g><rect class=\"legendtoggle\" x=\"0\" y=\"-9.5\" width=\"78.875\" height=\"19\" style=\"fill: rgb(0, 0, 0); fill-opacity: 0;\"/></g><g class=\"traces\" transform=\"translate(0,33.5)\" style=\"opacity: 1;\"><text class=\"legendtext\" text-anchor=\"start\" x=\"40\" y=\"4.680000000000001\" style=\"font-family: 'Open Sans', verdana, arial, sans-serif; font-size: 12px; fill: rgb(42, 63, 95); fill-opacity: 1; white-space: pre;\">others</text><g class=\"layers\" style=\"opacity: 1;\"><g class=\"legendfill\"/><g class=\"legendlines\"/><g class=\"legendsymbols\"><g class=\"legendpoints\"><path class=\"legendpie\" d=\"M6,6H-6V-6H6Z\" transform=\"translate(20,0)\" style=\"stroke-width: 0; fill: rgb(245, 133, 24); fill-opacity: 1; stroke: rgb(68, 68, 68); stroke-opacity: 1;\"/></g></g></g><rect class=\"legendtoggle\" x=\"0\" y=\"-9.5\" width=\"78.875\" height=\"19\" style=\"fill: rgb(0, 0, 0); fill-opacity: 0;\"/></g><g class=\"traces\" transform=\"translate(0,52.5)\" style=\"opacity: 1;\"><text class=\"legendtext\" text-anchor=\"start\" x=\"40\" y=\"4.680000000000001\" style=\"font-family: 'Open Sans', verdana, arial, sans-serif; font-size: 12px; fill: rgb(42, 63, 95); fill-opacity: 1; white-space: pre;\">2019</text><g class=\"layers\" style=\"opacity: 1;\"><g class=\"legendfill\"/><g class=\"legendlines\"/><g class=\"legendsymbols\"><g class=\"legendpoints\"><path class=\"legendpie\" d=\"M6,6H-6V-6H6Z\" transform=\"translate(20,0)\" style=\"stroke-width: 0; fill: rgb(228, 87, 86); fill-opacity: 1; stroke: rgb(68, 68, 68); stroke-opacity: 1;\"/></g></g></g><rect class=\"legendtoggle\" x=\"0\" y=\"-9.5\" width=\"78.875\" height=\"19\" style=\"fill: rgb(0, 0, 0); fill-opacity: 0;\"/></g><g class=\"traces\" transform=\"translate(0,71.5)\" style=\"opacity: 1;\"><text class=\"legendtext\" text-anchor=\"start\" x=\"40\" y=\"4.680000000000001\" style=\"font-family: 'Open Sans', verdana, arial, sans-serif; font-size: 12px; fill: rgb(42, 63, 95); fill-opacity: 1; white-space: pre;\">2018</text><g class=\"layers\" style=\"opacity: 1;\"><g class=\"legendfill\"/><g class=\"legendlines\"/><g class=\"legendsymbols\"><g class=\"legendpoints\"><path class=\"legendpie\" d=\"M6,6H-6V-6H6Z\" transform=\"translate(20,0)\" style=\"stroke-width: 0; fill: rgb(114, 183, 178); fill-opacity: 1; stroke: rgb(68, 68, 68); stroke-opacity: 1;\"/></g></g></g><rect class=\"legendtoggle\" x=\"0\" y=\"-9.5\" width=\"78.875\" height=\"19\" style=\"fill: rgb(0, 0, 0); fill-opacity: 0;\"/></g><g class=\"traces\" transform=\"translate(0,90.5)\" style=\"opacity: 1;\"><text class=\"legendtext\" text-anchor=\"start\" x=\"40\" y=\"4.680000000000001\" style=\"font-family: 'Open Sans', verdana, arial, sans-serif; font-size: 12px; fill: rgb(42, 63, 95); fill-opacity: 1; white-space: pre;\">2021</text><g class=\"layers\" style=\"opacity: 1;\"><g class=\"legendfill\"/><g class=\"legendlines\"/><g class=\"legendsymbols\"><g class=\"legendpoints\"><path class=\"legendpie\" d=\"M6,6H-6V-6H6Z\" transform=\"translate(20,0)\" style=\"stroke-width: 0; fill: rgb(84, 162, 75); fill-opacity: 1; stroke: rgb(68, 68, 68); stroke-opacity: 1;\"/></g></g></g><rect class=\"legendtoggle\" x=\"0\" y=\"-9.5\" width=\"78.875\" height=\"19\" style=\"fill: rgb(0, 0, 0); fill-opacity: 0;\"/></g></g></g><rect class=\"scrollbar\" rx=\"20\" ry=\"3\" width=\"0\" height=\"0\" x=\"0\" y=\"0\" style=\"fill: rgb(128, 139, 164); fill-opacity: 1;\"/></g><g class=\"g-gtitle\"><text class=\"gtitle\" x=\"45\" y=\"50\" text-anchor=\"start\" dy=\"0em\" style=\"font-family: 'Open Sans', verdana, arial, sans-serif; font-size: 17px; fill: rgb(42, 63, 95); opacity: 1; font-weight: normal; white-space: pre;\">Contributions of unverified accounts on the peak day (2021-04-17)</text></g></g></svg>"
      ]
     },
     "metadata": {},
     "output_type": "display_data"
    }
   ],
   "source": [
    "fig = px.pie(df_unverified_peak.creation_year.value_counts().to_frame().reset_index(),\n",
    "             values='creation_year', names='index', color_discrete_sequence = colors,\n",
    "             title = 'Contributions of unverified accounts on the peak day (2021-04-17)')\n",
    "\n",
    "fig.update_traces(textposition='inside', textinfo='percent+label')\n",
    "\n",
    "fig.show()"
   ]
  },
  {
   "cell_type": "code",
   "execution_count": 89,
   "id": "e77c0380",
   "metadata": {},
   "outputs": [
    {
     "data": {
      "image/svg+xml": [
       "<svg class=\"main-svg\" xmlns=\"http://www.w3.org/2000/svg\" xmlns:xlink=\"http://www.w3.org/1999/xlink\" width=\"900\" height=\"500\" style=\"\" viewBox=\"0 0 900 500\"><rect x=\"0\" y=\"0\" width=\"900\" height=\"500\" style=\"fill: rgb(255, 255, 255); fill-opacity: 1;\"/><defs id=\"defs-1d42ae\"><g class=\"clips\"><clipPath id=\"clip1d42aexyplot\" class=\"plotclip\"><rect width=\"692\" height=\"320\"/></clipPath><clipPath class=\"axesclip\" id=\"clip1d42aex\"><rect x=\"80\" y=\"0\" width=\"692\" height=\"500\"/></clipPath><clipPath class=\"axesclip\" id=\"clip1d42aey\"><rect x=\"0\" y=\"100\" width=\"900\" height=\"320\"/></clipPath><clipPath class=\"axesclip\" id=\"clip1d42aexy\"><rect x=\"80\" y=\"100\" width=\"692\" height=\"320\"/></clipPath></g><g class=\"gradients\"/><g class=\"patterns\"/></defs><g class=\"bglayer\"><rect class=\"bg\" x=\"80\" y=\"100\" width=\"692\" height=\"320\" style=\"fill: rgb(229, 236, 246); fill-opacity: 1; stroke-width: 0;\"/></g><g class=\"layer-below\"><g class=\"imagelayer\"/><g class=\"shapelayer\"/></g><g class=\"cartesianlayer\"><g class=\"subplot xy\"><g class=\"layer-subplot\"><g class=\"shapelayer\"/><g class=\"imagelayer\"/></g><g class=\"gridlayer\"><g class=\"x\"/><g class=\"y\"><path class=\"ygrid crisp\" transform=\"translate(0,372.5)\" d=\"M80,0h692\" style=\"stroke: rgb(255, 255, 255); stroke-opacity: 1; stroke-width: 1px;\"/><path class=\"ygrid crisp\" transform=\"translate(0,325)\" d=\"M80,0h692\" style=\"stroke: rgb(255, 255, 255); stroke-opacity: 1; stroke-width: 1px;\"/><path class=\"ygrid crisp\" transform=\"translate(0,277.5)\" d=\"M80,0h692\" style=\"stroke: rgb(255, 255, 255); stroke-opacity: 1; stroke-width: 1px;\"/><path class=\"ygrid crisp\" transform=\"translate(0,230)\" d=\"M80,0h692\" style=\"stroke: rgb(255, 255, 255); stroke-opacity: 1; stroke-width: 1px;\"/><path class=\"ygrid crisp\" transform=\"translate(0,182.5)\" d=\"M80,0h692\" style=\"stroke: rgb(255, 255, 255); stroke-opacity: 1; stroke-width: 1px;\"/><path class=\"ygrid crisp\" transform=\"translate(0,135)\" d=\"M80,0h692\" style=\"stroke: rgb(255, 255, 255); stroke-opacity: 1; stroke-width: 1px;\"/></g></g><g class=\"zerolinelayer\"><path class=\"yzl zl crisp\" transform=\"translate(0,420)\" d=\"M80,0h692\" style=\"stroke: rgb(255, 255, 255); stroke-opacity: 1; stroke-width: 2px;\"/></g><path class=\"xlines-below\"/><path class=\"ylines-below\"/><g class=\"overlines-below\"/><g class=\"xaxislayer-below\"/><g class=\"yaxislayer-below\"/><g class=\"overaxes-below\"/><g class=\"plot\" transform=\"translate(80,100)\" clip-path=\"url(#clip1d42aexyplot)\"><g class=\"barlayer mlayer\"><g class=\"trace bars\" style=\"opacity: 1;\"><g class=\"points\"><g class=\"point\"><path d=\"M11.53,320V120.5H103.8V320Z\" style=\"vector-effect: non-scaling-stroke; opacity: 1; stroke-width: 0px; fill: rgb(76, 120, 168); fill-opacity: 1;\"/></g></g></g><g class=\"trace bars\" style=\"opacity: 1;\"><g class=\"points\"><g class=\"point\"><path d=\"M126.87,320V101.5H219.13V320Z\" style=\"vector-effect: non-scaling-stroke; opacity: 1; stroke-width: 0px; fill: rgb(245, 133, 24); fill-opacity: 1;\"/></g></g></g><g class=\"trace bars\" style=\"opacity: 1;\"><g class=\"points\"><g class=\"point\"><path d=\"M242.2,320V16H334.47V320Z\" style=\"vector-effect: non-scaling-stroke; opacity: 1; stroke-width: 0px; fill: rgb(228, 87, 86); fill-opacity: 1;\"/></g></g></g><g class=\"trace bars\" style=\"opacity: 1;\"><g class=\"points\"><g class=\"point\"><path d=\"M357.53,320V215.5H449.8V320Z\" style=\"vector-effect: non-scaling-stroke; opacity: 1; stroke-width: 0px; fill: rgb(114, 183, 178); fill-opacity: 1;\"/></g></g></g><g class=\"trace bars\" style=\"opacity: 1;\"><g class=\"points\"><g class=\"point\"><path d=\"M588.2,320V30.25H680.47V320Z\" style=\"vector-effect: non-scaling-stroke; opacity: 1; stroke-width: 0px; fill: rgb(238, 202, 59); fill-opacity: 1;\"/></g></g></g></g></g><g class=\"overplot\"/><path class=\"xlines-above crisp\" d=\"M0,0\" style=\"fill: none;\"/><path class=\"ylines-above crisp\" d=\"M0,0\" style=\"fill: none;\"/><g class=\"overlines-above\"/><g class=\"xaxislayer-above\"><g class=\"xtick\"><text text-anchor=\"middle\" x=\"0\" y=\"433\" transform=\"translate(137.67000000000002,0)\" style=\"font-family: 'Open Sans', verdana, arial, sans-serif; font-size: 12px; fill: rgb(42, 63, 95); fill-opacity: 1; white-space: pre; opacity: 1;\">2018</text></g><g class=\"xtick\"><text text-anchor=\"middle\" x=\"0\" y=\"433\" transform=\"translate(253,0)\" style=\"font-family: 'Open Sans', verdana, arial, sans-serif; font-size: 12px; fill: rgb(42, 63, 95); fill-opacity: 1; white-space: pre; opacity: 1;\">2019</text></g><g class=\"xtick\"><text text-anchor=\"middle\" x=\"0\" y=\"433\" transform=\"translate(368.33,0)\" style=\"font-family: 'Open Sans', verdana, arial, sans-serif; font-size: 12px; fill: rgb(42, 63, 95); fill-opacity: 1; white-space: pre; opacity: 1;\">2020</text></g><g class=\"xtick\"><text text-anchor=\"middle\" x=\"0\" y=\"433\" transform=\"translate(483.67,0)\" style=\"font-family: 'Open Sans', verdana, arial, sans-serif; font-size: 12px; fill: rgb(42, 63, 95); fill-opacity: 1; white-space: pre; opacity: 1;\">2021</text></g><g class=\"xtick\"><text text-anchor=\"middle\" x=\"0\" y=\"433\" transform=\"translate(599,0)\" style=\"font-family: 'Open Sans', verdana, arial, sans-serif; font-size: 12px; fill: rgb(42, 63, 95); fill-opacity: 1; white-space: pre; opacity: 1;\">banned</text></g><g class=\"xtick\"><text text-anchor=\"middle\" x=\"0\" y=\"433\" transform=\"translate(714.33,0)\" style=\"font-family: 'Open Sans', verdana, arial, sans-serif; font-size: 12px; fill: rgb(42, 63, 95); fill-opacity: 1; white-space: pre; opacity: 1;\">others</text></g></g><g class=\"yaxislayer-above\"><g class=\"ytick\"><text text-anchor=\"end\" x=\"79\" y=\"4.199999999999999\" transform=\"translate(0,420)\" style=\"font-family: 'Open Sans', verdana, arial, sans-serif; font-size: 12px; fill: rgb(42, 63, 95); fill-opacity: 1; white-space: pre; opacity: 1;\">0</text></g><g class=\"ytick\"><text text-anchor=\"end\" x=\"79\" y=\"4.199999999999999\" style=\"font-family: 'Open Sans', verdana, arial, sans-serif; font-size: 12px; fill: rgb(42, 63, 95); fill-opacity: 1; white-space: pre; opacity: 1;\" transform=\"translate(0,372.5)\">10</text></g><g class=\"ytick\"><text text-anchor=\"end\" x=\"79\" y=\"4.199999999999999\" style=\"font-family: 'Open Sans', verdana, arial, sans-serif; font-size: 12px; fill: rgb(42, 63, 95); fill-opacity: 1; white-space: pre; opacity: 1;\" transform=\"translate(0,325)\">20</text></g><g class=\"ytick\"><text text-anchor=\"end\" x=\"79\" y=\"4.199999999999999\" style=\"font-family: 'Open Sans', verdana, arial, sans-serif; font-size: 12px; fill: rgb(42, 63, 95); fill-opacity: 1; white-space: pre; opacity: 1;\" transform=\"translate(0,277.5)\">30</text></g><g class=\"ytick\"><text text-anchor=\"end\" x=\"79\" y=\"4.199999999999999\" style=\"font-family: 'Open Sans', verdana, arial, sans-serif; font-size: 12px; fill: rgb(42, 63, 95); fill-opacity: 1; white-space: pre; opacity: 1;\" transform=\"translate(0,230)\">40</text></g><g class=\"ytick\"><text text-anchor=\"end\" x=\"79\" y=\"4.199999999999999\" style=\"font-family: 'Open Sans', verdana, arial, sans-serif; font-size: 12px; fill: rgb(42, 63, 95); fill-opacity: 1; white-space: pre; opacity: 1;\" transform=\"translate(0,182.5)\">50</text></g><g class=\"ytick\"><text text-anchor=\"end\" x=\"79\" y=\"4.199999999999999\" style=\"font-family: 'Open Sans', verdana, arial, sans-serif; font-size: 12px; fill: rgb(42, 63, 95); fill-opacity: 1; white-space: pre; opacity: 1;\" transform=\"translate(0,135)\">60</text></g></g><g class=\"overaxes-above\"/></g></g><g class=\"polarlayer\"/><g class=\"ternarylayer\"/><g class=\"geolayer\"/><g class=\"funnelarealayer\"/><g class=\"pielayer\"/><g class=\"iciclelayer\"/><g class=\"treemaplayer\"/><g class=\"sunburstlayer\"/><g class=\"glimages\"/><defs id=\"topdefs-1d42ae\"><g class=\"clips\"/><clipPath id=\"legend1d42ae\"><rect width=\"102\" height=\"124\" x=\"0\" y=\"0\"/></clipPath></defs><g class=\"layer-above\"><g class=\"imagelayer\"/><g class=\"shapelayer\"/></g><g class=\"infolayer\"><g class=\"legend\" pointer-events=\"all\" transform=\"translate(785.84,100)\"><rect class=\"bg\" shape-rendering=\"crispEdges\" width=\"102\" height=\"124\" x=\"0\" y=\"0\" style=\"stroke: rgb(68, 68, 68); stroke-opacity: 1; fill: rgb(255, 255, 255); fill-opacity: 1; stroke-width: 0px;\"/><g class=\"scrollbox\" transform=\"\" clip-path=\"url(#legend1d42ae)\"><text class=\"legendtitletext\" text-anchor=\"start\" x=\"2\" y=\"18.2\" style=\"font-family: 'Open Sans', verdana, arial, sans-serif; font-size: 14px; fill: rgb(42, 63, 95); fill-opacity: 1; white-space: pre;\">creation_year</text><g class=\"groups\" transform=\"\"><g class=\"traces\" transform=\"translate(0,32.7)\" style=\"opacity: 1;\"><text class=\"legendtext\" text-anchor=\"start\" x=\"40\" y=\"4.680000000000001\" style=\"font-family: 'Open Sans', verdana, arial, sans-serif; font-size: 12px; fill: rgb(42, 63, 95); fill-opacity: 1; white-space: pre;\">2018</text><g class=\"layers\" style=\"opacity: 1;\"><g class=\"legendfill\"/><g class=\"legendlines\"/><g class=\"legendsymbols\"><g class=\"legendpoints\"><path class=\"legendundefined\" d=\"M6,6H-6V-6H6Z\" transform=\"translate(20,0)\" style=\"stroke-width: 0px; fill: rgb(76, 120, 168); fill-opacity: 1;\"/></g></g></g><rect class=\"legendtoggle\" x=\"0\" y=\"-9.5\" width=\"78.875\" height=\"19\" style=\"fill: rgb(0, 0, 0); fill-opacity: 0;\"/></g></g><g class=\"groups\" transform=\"\"><g class=\"traces\" transform=\"translate(0,51.7)\" style=\"opacity: 1;\"><text class=\"legendtext\" text-anchor=\"start\" x=\"40\" y=\"4.680000000000001\" style=\"font-family: 'Open Sans', verdana, arial, sans-serif; font-size: 12px; fill: rgb(42, 63, 95); fill-opacity: 1; white-space: pre;\">2019</text><g class=\"layers\" style=\"opacity: 1;\"><g class=\"legendfill\"/><g class=\"legendlines\"/><g class=\"legendsymbols\"><g class=\"legendpoints\"><path class=\"legendundefined\" d=\"M6,6H-6V-6H6Z\" transform=\"translate(20,0)\" style=\"stroke-width: 0px; fill: rgb(245, 133, 24); fill-opacity: 1;\"/></g></g></g><rect class=\"legendtoggle\" x=\"0\" y=\"-9.5\" width=\"78.875\" height=\"19\" style=\"fill: rgb(0, 0, 0); fill-opacity: 0;\"/></g></g><g class=\"groups\" transform=\"\"><g class=\"traces\" transform=\"translate(0,70.7)\" style=\"opacity: 1;\"><text class=\"legendtext\" text-anchor=\"start\" x=\"40\" y=\"4.680000000000001\" style=\"font-family: 'Open Sans', verdana, arial, sans-serif; font-size: 12px; fill: rgb(42, 63, 95); fill-opacity: 1; white-space: pre;\">2020</text><g class=\"layers\" style=\"opacity: 1;\"><g class=\"legendfill\"/><g class=\"legendlines\"/><g class=\"legendsymbols\"><g class=\"legendpoints\"><path class=\"legendundefined\" d=\"M6,6H-6V-6H6Z\" transform=\"translate(20,0)\" style=\"stroke-width: 0px; fill: rgb(228, 87, 86); fill-opacity: 1;\"/></g></g></g><rect class=\"legendtoggle\" x=\"0\" y=\"-9.5\" width=\"78.875\" height=\"19\" style=\"fill: rgb(0, 0, 0); fill-opacity: 0;\"/></g></g><g class=\"groups\" transform=\"\"><g class=\"traces\" transform=\"translate(0,89.7)\" style=\"opacity: 1;\"><text class=\"legendtext\" text-anchor=\"start\" x=\"40\" y=\"4.680000000000001\" style=\"font-family: 'Open Sans', verdana, arial, sans-serif; font-size: 12px; fill: rgb(42, 63, 95); fill-opacity: 1; white-space: pre;\">2021</text><g class=\"layers\" style=\"opacity: 1;\"><g class=\"legendfill\"/><g class=\"legendlines\"/><g class=\"legendsymbols\"><g class=\"legendpoints\"><path class=\"legendundefined\" d=\"M6,6H-6V-6H6Z\" transform=\"translate(20,0)\" style=\"stroke-width: 0px; fill: rgb(114, 183, 178); fill-opacity: 1;\"/></g></g></g><rect class=\"legendtoggle\" x=\"0\" y=\"-9.5\" width=\"78.875\" height=\"19\" style=\"fill: rgb(0, 0, 0); fill-opacity: 0;\"/></g></g><g class=\"groups\" transform=\"\"><g class=\"traces\" transform=\"translate(0,108.7)\" style=\"opacity: 1;\"><text class=\"legendtext\" text-anchor=\"start\" x=\"40\" y=\"4.680000000000001\" style=\"font-family: 'Open Sans', verdana, arial, sans-serif; font-size: 12px; fill: rgb(42, 63, 95); fill-opacity: 1; white-space: pre;\">others</text><g class=\"layers\" style=\"opacity: 1;\"><g class=\"legendfill\"/><g class=\"legendlines\"/><g class=\"legendsymbols\"><g class=\"legendpoints\"><path class=\"legendundefined\" d=\"M6,6H-6V-6H6Z\" transform=\"translate(20,0)\" style=\"stroke-width: 0px; fill: rgb(238, 202, 59); fill-opacity: 1;\"/></g></g></g><rect class=\"legendtoggle\" x=\"0\" y=\"-9.5\" width=\"78.875\" height=\"19\" style=\"fill: rgb(0, 0, 0); fill-opacity: 0;\"/></g></g></g><rect class=\"scrollbar\" rx=\"20\" ry=\"3\" width=\"0\" height=\"0\" x=\"0\" y=\"0\" style=\"fill: rgb(128, 139, 164); fill-opacity: 1;\"/></g><g class=\"g-gtitle\"><text class=\"gtitle\" x=\"45\" y=\"50\" text-anchor=\"start\" dy=\"0em\" style=\"font-family: 'Open Sans', verdana, arial, sans-serif; font-size: 17px; fill: rgb(42, 63, 95); opacity: 1; font-weight: normal; white-space: pre;\">Contributions of unverified accounts on the peak day (2021-04-17)</text></g><g class=\"g-xtitle\"><text class=\"xtitle\" x=\"426\" y=\"460.8\" text-anchor=\"middle\" style=\"font-family: 'Open Sans', verdana, arial, sans-serif; font-size: 14px; fill: rgb(42, 63, 95); opacity: 1; font-weight: normal; white-space: pre;\">creation_year</text></g><g class=\"g-ytitle\"><text class=\"ytitle\" transform=\"rotate(-90,38.934375,260)\" x=\"38.934375\" y=\"260\" text-anchor=\"middle\" style=\"font-family: 'Open Sans', verdana, arial, sans-serif; font-size: 14px; fill: rgb(42, 63, 95); opacity: 1; font-weight: normal; white-space: pre;\">count</text></g></g></svg>"
      ]
     },
     "metadata": {},
     "output_type": "display_data"
    }
   ],
   "source": [
    "fig = px.histogram(df_unverified_peak, x='creation_year', color=\"creation_year\", \n",
    "                    color_discrete_sequence = colors,\n",
    "                   category_orders = dict(creation_year=['2018', '2019', '2020', '2021', 'banned', 'others']),\n",
    "                   title = 'Contributions of unverified accounts on the peak day (2021-04-17)')\n",
    "fig.show()"
   ]
  },
  {
   "cell_type": "markdown",
   "id": "0c731749",
   "metadata": {},
   "source": [
    "### Submissions"
   ]
  },
  {
   "cell_type": "code",
   "execution_count": 90,
   "id": "bcc34f25",
   "metadata": {},
   "outputs": [
    {
     "data": {
      "image/svg+xml": [
       "<svg class=\"main-svg\" xmlns=\"http://www.w3.org/2000/svg\" xmlns:xlink=\"http://www.w3.org/1999/xlink\" width=\"900\" height=\"500\" style=\"\" viewBox=\"0 0 900 500\"><rect x=\"0\" y=\"0\" width=\"900\" height=\"500\" style=\"fill: rgb(255, 255, 255); fill-opacity: 1;\"/><defs id=\"defs-51605b\"><g class=\"clips\"/><g class=\"gradients\"/><g class=\"patterns\"/></defs><g class=\"bglayer\"/><g class=\"layer-below\"><g class=\"imagelayer\"/><g class=\"shapelayer\"/></g><g class=\"cartesianlayer\"/><g class=\"polarlayer\"/><g class=\"ternarylayer\"/><g class=\"geolayer\"/><g class=\"funnelarealayer\"/><g class=\"pielayer\"><g class=\"trace\" stroke-linejoin=\"round\" style=\"opacity: 1;\"><g class=\"slice\"><path class=\"surface\" d=\"M435,260l0,-160a160,160 0 0 1 140.84766646113113,235.90740973352968Z\" style=\"pointer-events: all; stroke-width: 0; fill: rgb(76, 120, 168); fill-opacity: 1; stroke: rgb(68, 68, 68); stroke-opacity: 1;\"/><g class=\"slicetext\"><text data-notex=\"1\" class=\"slicetext\" transform=\"translate(508.8750863012244,212.5651370685769)\" text-anchor=\"middle\" x=\"0\" y=\"0\" style=\"font-family: 'Open Sans', verdana, arial, sans-serif; font-size: 12px; fill: rgb(255, 255, 255); fill-opacity: 1; white-space: pre;\"><tspan class=\"line\" dy=\"0em\" x=\"0\" y=\"0\">2020</tspan><tspan class=\"line\" dy=\"1.3em\" x=\"0\" y=\"0\">32.9%</tspan></text></g></g><g class=\"slice\"><path class=\"surface\" d=\"M435,260l-159.99034720019404,1.7574990075013601a160,160 0 0 1 159.99034720019404,-161.75749900750137Z\" style=\"pointer-events: all; stroke-width: 0; fill: rgb(245, 133, 24); fill-opacity: 1; stroke: rgb(68, 68, 68); stroke-opacity: 1;\"/><g class=\"slicetext\"><text data-notex=\"1\" class=\"slicetext\" transform=\"translate(368.47461079094643,190.93532882373333)\" text-anchor=\"middle\" x=\"0\" y=\"0\" style=\"font-family: 'Open Sans', verdana, arial, sans-serif; font-size: 12px; fill: rgb(68, 68, 68); fill-opacity: 1; white-space: pre;\"><tspan class=\"line\" dy=\"0em\" x=\"0\" y=\"0\">2019</tspan><tspan class=\"line\" dy=\"1.3em\" x=\"0\" y=\"0\">25.2%</tspan></text></g></g><g class=\"slice\"><path class=\"surface\" d=\"M435,260l-31.42989250782522,156.88263720675576a160,160 0 0 1 -128.5604546923688,-155.1251381992544Z\" style=\"pointer-events: all; stroke-width: 0; fill: rgb(228, 87, 86); fill-opacity: 1; stroke: rgb(68, 68, 68); stroke-opacity: 1;\"/><g class=\"slicetext\"><text data-notex=\"1\" class=\"slicetext\" transform=\"translate(359.3644248423754,319.3461642783763)\" text-anchor=\"middle\" x=\"0\" y=\"0\" style=\"font-family: 'Open Sans', verdana, arial, sans-serif; font-size: 12px; fill: rgb(68, 68, 68); fill-opacity: 1; white-space: pre;\"><tspan class=\"line\" dy=\"0em\" x=\"0\" y=\"0\">2021</tspan><tspan class=\"line\" dy=\"1.3em\" x=\"0\" y=\"0\">21.7%</tspan></text></g></g><g class=\"slice\"><path class=\"surface\" d=\"M435,260l120.91993189668133,104.77771743124558a160,160 0 0 1 -152.34982440450656,52.10491977551018Z\" style=\"pointer-events: all; stroke-width: 0; fill: rgb(114, 183, 178); fill-opacity: 1; stroke: rgb(68, 68, 68); stroke-opacity: 1;\"/><g class=\"slicetext\"><text data-notex=\"1\" class=\"slicetext\" transform=\"translate(469.4061318443677,357.4097811634753)\" text-anchor=\"middle\" x=\"0\" y=\"0\" style=\"font-family: 'Open Sans', verdana, arial, sans-serif; font-size: 12px; fill: rgb(68, 68, 68); fill-opacity: 1; white-space: pre;\"><tspan class=\"line\" dy=\"0em\" x=\"0\" y=\"0\">others</tspan><tspan class=\"line\" dy=\"1.3em\" x=\"0\" y=\"0\">16.8%</tspan></text></g></g><g class=\"slice\"><path class=\"surface\" d=\"M435,260l140.84766646113113,75.90740973352972a160,160 0 0 1 -19.927734564449793,28.87030769771586Z\" style=\"pointer-events: all; stroke-width: 0; fill: rgb(84, 162, 75); fill-opacity: 1; stroke: rgb(68, 68, 68); stroke-opacity: 1;\"/><g class=\"slicetext\"><text data-notex=\"1\" class=\"slicetext\" transform=\"translate(555.3203806060491,339.4577541679783)scale(0.8948854725843173)rotate(34.61538461538464)\" text-anchor=\"middle\" x=\"0\" y=\"0\" style=\"font-family: 'Open Sans', verdana, arial, sans-serif; font-size: 12px; fill: rgb(68, 68, 68); fill-opacity: 1; white-space: pre;\"><tspan class=\"line\" dy=\"0em\" x=\"0\" y=\"0\">2018</tspan><tspan class=\"line\" dy=\"1.3em\" x=\"0\" y=\"0\">3.5%</tspan></text></g></g></g></g><g class=\"iciclelayer\"/><g class=\"treemaplayer\"/><g class=\"sunburstlayer\"/><g class=\"glimages\"/><defs id=\"topdefs-51605b\"><g class=\"clips\"/><clipPath id=\"legend51605b\"><rect width=\"84\" height=\"105\" x=\"0\" y=\"0\"/></clipPath></defs><g class=\"layer-above\"><g class=\"imagelayer\"/><g class=\"shapelayer\"/></g><g class=\"infolayer\"><g class=\"legend\" pointer-events=\"all\" transform=\"translate(804.2,100)\"><rect class=\"bg\" shape-rendering=\"crispEdges\" width=\"84\" height=\"105\" x=\"0\" y=\"0\" style=\"stroke: rgb(68, 68, 68); stroke-opacity: 1; fill: rgb(255, 255, 255); fill-opacity: 1; stroke-width: 0px;\"/><g class=\"scrollbox\" transform=\"\" clip-path=\"url(#legend51605b)\"><g class=\"groups\"><g class=\"traces\" transform=\"translate(0,14.5)\" style=\"opacity: 1;\"><text class=\"legendtext\" text-anchor=\"start\" x=\"40\" y=\"4.680000000000001\" style=\"font-family: 'Open Sans', verdana, arial, sans-serif; font-size: 12px; fill: rgb(42, 63, 95); fill-opacity: 1; white-space: pre;\">2020</text><g class=\"layers\" style=\"opacity: 1;\"><g class=\"legendfill\"/><g class=\"legendlines\"/><g class=\"legendsymbols\"><g class=\"legendpoints\"><path class=\"legendpie\" d=\"M6,6H-6V-6H6Z\" transform=\"translate(20,0)\" style=\"stroke-width: 0; fill: rgb(76, 120, 168); fill-opacity: 1; stroke: rgb(68, 68, 68); stroke-opacity: 1;\"/></g></g></g><rect class=\"legendtoggle\" x=\"0\" y=\"-9.5\" width=\"78.875\" height=\"19\" style=\"fill: rgb(0, 0, 0); fill-opacity: 0;\"/></g><g class=\"traces\" transform=\"translate(0,33.5)\" style=\"opacity: 1;\"><text class=\"legendtext\" text-anchor=\"start\" x=\"40\" y=\"4.680000000000001\" style=\"font-family: 'Open Sans', verdana, arial, sans-serif; font-size: 12px; fill: rgb(42, 63, 95); fill-opacity: 1; white-space: pre;\">2019</text><g class=\"layers\" style=\"opacity: 1;\"><g class=\"legendfill\"/><g class=\"legendlines\"/><g class=\"legendsymbols\"><g class=\"legendpoints\"><path class=\"legendpie\" d=\"M6,6H-6V-6H6Z\" transform=\"translate(20,0)\" style=\"stroke-width: 0; fill: rgb(245, 133, 24); fill-opacity: 1; stroke: rgb(68, 68, 68); stroke-opacity: 1;\"/></g></g></g><rect class=\"legendtoggle\" x=\"0\" y=\"-9.5\" width=\"78.875\" height=\"19\" style=\"fill: rgb(0, 0, 0); fill-opacity: 0;\"/></g><g class=\"traces\" transform=\"translate(0,52.5)\" style=\"opacity: 1;\"><text class=\"legendtext\" text-anchor=\"start\" x=\"40\" y=\"4.680000000000001\" style=\"font-family: 'Open Sans', verdana, arial, sans-serif; font-size: 12px; fill: rgb(42, 63, 95); fill-opacity: 1; white-space: pre;\">2021</text><g class=\"layers\" style=\"opacity: 1;\"><g class=\"legendfill\"/><g class=\"legendlines\"/><g class=\"legendsymbols\"><g class=\"legendpoints\"><path class=\"legendpie\" d=\"M6,6H-6V-6H6Z\" transform=\"translate(20,0)\" style=\"stroke-width: 0; fill: rgb(228, 87, 86); fill-opacity: 1; stroke: rgb(68, 68, 68); stroke-opacity: 1;\"/></g></g></g><rect class=\"legendtoggle\" x=\"0\" y=\"-9.5\" width=\"78.875\" height=\"19\" style=\"fill: rgb(0, 0, 0); fill-opacity: 0;\"/></g><g class=\"traces\" transform=\"translate(0,71.5)\" style=\"opacity: 1;\"><text class=\"legendtext\" text-anchor=\"start\" x=\"40\" y=\"4.680000000000001\" style=\"font-family: 'Open Sans', verdana, arial, sans-serif; font-size: 12px; fill: rgb(42, 63, 95); fill-opacity: 1; white-space: pre;\">others</text><g class=\"layers\" style=\"opacity: 1;\"><g class=\"legendfill\"/><g class=\"legendlines\"/><g class=\"legendsymbols\"><g class=\"legendpoints\"><path class=\"legendpie\" d=\"M6,6H-6V-6H6Z\" transform=\"translate(20,0)\" style=\"stroke-width: 0; fill: rgb(114, 183, 178); fill-opacity: 1; stroke: rgb(68, 68, 68); stroke-opacity: 1;\"/></g></g></g><rect class=\"legendtoggle\" x=\"0\" y=\"-9.5\" width=\"78.875\" height=\"19\" style=\"fill: rgb(0, 0, 0); fill-opacity: 0;\"/></g><g class=\"traces\" transform=\"translate(0,90.5)\" style=\"opacity: 1;\"><text class=\"legendtext\" text-anchor=\"start\" x=\"40\" y=\"4.680000000000001\" style=\"font-family: 'Open Sans', verdana, arial, sans-serif; font-size: 12px; fill: rgb(42, 63, 95); fill-opacity: 1; white-space: pre;\">2018</text><g class=\"layers\" style=\"opacity: 1;\"><g class=\"legendfill\"/><g class=\"legendlines\"/><g class=\"legendsymbols\"><g class=\"legendpoints\"><path class=\"legendpie\" d=\"M6,6H-6V-6H6Z\" transform=\"translate(20,0)\" style=\"stroke-width: 0; fill: rgb(84, 162, 75); fill-opacity: 1; stroke: rgb(68, 68, 68); stroke-opacity: 1;\"/></g></g></g><rect class=\"legendtoggle\" x=\"0\" y=\"-9.5\" width=\"78.875\" height=\"19\" style=\"fill: rgb(0, 0, 0); fill-opacity: 0;\"/></g></g></g><rect class=\"scrollbar\" rx=\"20\" ry=\"3\" width=\"0\" height=\"0\" x=\"0\" y=\"0\" style=\"fill: rgb(128, 139, 164); fill-opacity: 1;\"/></g><g class=\"g-gtitle\"><text class=\"gtitle\" x=\"45\" y=\"50\" text-anchor=\"start\" dy=\"0em\" style=\"font-family: 'Open Sans', verdana, arial, sans-serif; font-size: 17px; fill: rgb(42, 63, 95); opacity: 1; font-weight: normal; white-space: pre;\">Submissions of Unverified accounts in 2021</text></g></g></svg>"
      ]
     },
     "metadata": {},
     "output_type": "display_data"
    }
   ],
   "source": [
    "fig = px.pie(df_unverified_submissions.creation_year.value_counts().to_frame().reset_index(),\n",
    "             values='creation_year', names='index', color_discrete_sequence = colors,\n",
    "             title = 'Submissions of Unverified accounts in 2021')\n",
    "\n",
    "fig.update_traces(textposition='inside', textinfo='percent+label')\n",
    "\n",
    "fig.show()"
   ]
  },
  {
   "cell_type": "code",
   "execution_count": 91,
   "id": "f59a7542",
   "metadata": {},
   "outputs": [
    {
     "data": {
      "image/svg+xml": [
       "<svg class=\"main-svg\" xmlns=\"http://www.w3.org/2000/svg\" xmlns:xlink=\"http://www.w3.org/1999/xlink\" width=\"900\" height=\"500\" style=\"\" viewBox=\"0 0 900 500\"><rect x=\"0\" y=\"0\" width=\"900\" height=\"500\" style=\"fill: rgb(255, 255, 255); fill-opacity: 1;\"/><defs id=\"defs-03ff51\"><g class=\"clips\"><clipPath id=\"clip03ff51xyplot\" class=\"plotclip\"><rect width=\"692\" height=\"320\"/></clipPath><clipPath class=\"axesclip\" id=\"clip03ff51x\"><rect x=\"80\" y=\"0\" width=\"692\" height=\"500\"/></clipPath><clipPath class=\"axesclip\" id=\"clip03ff51y\"><rect x=\"0\" y=\"100\" width=\"900\" height=\"320\"/></clipPath><clipPath class=\"axesclip\" id=\"clip03ff51xy\"><rect x=\"80\" y=\"100\" width=\"692\" height=\"320\"/></clipPath></g><g class=\"gradients\"/><g class=\"patterns\"/></defs><g class=\"bglayer\"><rect class=\"bg\" x=\"80\" y=\"100\" width=\"692\" height=\"320\" style=\"fill: rgb(229, 236, 246); fill-opacity: 1; stroke-width: 0;\"/></g><g class=\"layer-below\"><g class=\"imagelayer\"/><g class=\"shapelayer\"/></g><g class=\"cartesianlayer\"><g class=\"subplot xy\"><g class=\"layer-subplot\"><g class=\"shapelayer\"/><g class=\"imagelayer\"/></g><g class=\"gridlayer\"><g class=\"x\"/><g class=\"y\"><path class=\"ygrid crisp\" transform=\"translate(0,355.32)\" d=\"M80,0h692\" style=\"stroke: rgb(255, 255, 255); stroke-opacity: 1; stroke-width: 1px;\"/><path class=\"ygrid crisp\" transform=\"translate(0,290.64)\" d=\"M80,0h692\" style=\"stroke: rgb(255, 255, 255); stroke-opacity: 1; stroke-width: 1px;\"/><path class=\"ygrid crisp\" transform=\"translate(0,225.95999999999998)\" d=\"M80,0h692\" style=\"stroke: rgb(255, 255, 255); stroke-opacity: 1; stroke-width: 1px;\"/><path class=\"ygrid crisp\" transform=\"translate(0,161.28)\" d=\"M80,0h692\" style=\"stroke: rgb(255, 255, 255); stroke-opacity: 1; stroke-width: 1px;\"/></g></g><g class=\"zerolinelayer\"><path class=\"yzl zl crisp\" transform=\"translate(0,420)\" d=\"M80,0h692\" style=\"stroke: rgb(255, 255, 255); stroke-opacity: 1; stroke-width: 2px;\"/></g><path class=\"xlines-below\"/><path class=\"ylines-below\"/><g class=\"overlines-below\"/><g class=\"xaxislayer-below\"/><g class=\"yaxislayer-below\"/><g class=\"overaxes-below\"/><g class=\"plot\" transform=\"translate(80,100)\" clip-path=\"url(#clip03ff51xyplot)\"><g class=\"barlayer mlayer\"><g class=\"trace bars\" style=\"opacity: 1;\"><g class=\"points\"><g class=\"point\"><path d=\"M11.53,320V287.66H103.8V320Z\" style=\"vector-effect: non-scaling-stroke; opacity: 1; stroke-width: 0px; fill: rgb(76, 120, 168); fill-opacity: 1;\"/></g></g></g><g class=\"trace bars\" style=\"opacity: 1;\"><g class=\"points\"><g class=\"point\"><path d=\"M126.87,320V87.15H219.13V320Z\" style=\"vector-effect: non-scaling-stroke; opacity: 1; stroke-width: 0px; fill: rgb(245, 133, 24); fill-opacity: 1;\"/></g></g></g><g class=\"trace bars\" style=\"opacity: 1;\"><g class=\"points\"><g class=\"point\"><path d=\"M242.2,320V16H334.47V320Z\" style=\"vector-effect: non-scaling-stroke; opacity: 1; stroke-width: 0px; fill: rgb(228, 87, 86); fill-opacity: 1;\"/></g></g></g><g class=\"trace bars\" style=\"opacity: 1;\"><g class=\"points\"><g class=\"point\"><path d=\"M357.53,320V119.49H449.8V320Z\" style=\"vector-effect: non-scaling-stroke; opacity: 1; stroke-width: 0px; fill: rgb(114, 183, 178); fill-opacity: 1;\"/></g></g></g><g class=\"trace bars\" style=\"opacity: 1;\"><g class=\"points\"><g class=\"point\"><path d=\"M588.2,320V164.77H680.47V320Z\" style=\"vector-effect: non-scaling-stroke; opacity: 1; stroke-width: 0px; fill: rgb(238, 202, 59); fill-opacity: 1;\"/></g></g></g></g></g><g class=\"overplot\"/><path class=\"xlines-above crisp\" d=\"M0,0\" style=\"fill: none;\"/><path class=\"ylines-above crisp\" d=\"M0,0\" style=\"fill: none;\"/><g class=\"overlines-above\"/><g class=\"xaxislayer-above\"><g class=\"xtick\"><text text-anchor=\"middle\" x=\"0\" y=\"433\" transform=\"translate(137.67000000000002,0)\" style=\"font-family: 'Open Sans', verdana, arial, sans-serif; font-size: 12px; fill: rgb(42, 63, 95); fill-opacity: 1; white-space: pre; opacity: 1;\">2018</text></g><g class=\"xtick\"><text text-anchor=\"middle\" x=\"0\" y=\"433\" transform=\"translate(253,0)\" style=\"font-family: 'Open Sans', verdana, arial, sans-serif; font-size: 12px; fill: rgb(42, 63, 95); fill-opacity: 1; white-space: pre; opacity: 1;\">2019</text></g><g class=\"xtick\"><text text-anchor=\"middle\" x=\"0\" y=\"433\" transform=\"translate(368.33,0)\" style=\"font-family: 'Open Sans', verdana, arial, sans-serif; font-size: 12px; fill: rgb(42, 63, 95); fill-opacity: 1; white-space: pre; opacity: 1;\">2020</text></g><g class=\"xtick\"><text text-anchor=\"middle\" x=\"0\" y=\"433\" transform=\"translate(483.67,0)\" style=\"font-family: 'Open Sans', verdana, arial, sans-serif; font-size: 12px; fill: rgb(42, 63, 95); fill-opacity: 1; white-space: pre; opacity: 1;\">2021</text></g><g class=\"xtick\"><text text-anchor=\"middle\" x=\"0\" y=\"433\" transform=\"translate(599,0)\" style=\"font-family: 'Open Sans', verdana, arial, sans-serif; font-size: 12px; fill: rgb(42, 63, 95); fill-opacity: 1; white-space: pre; opacity: 1;\">banned</text></g><g class=\"xtick\"><text text-anchor=\"middle\" x=\"0\" y=\"433\" transform=\"translate(714.33,0)\" style=\"font-family: 'Open Sans', verdana, arial, sans-serif; font-size: 12px; fill: rgb(42, 63, 95); fill-opacity: 1; white-space: pre; opacity: 1;\">others</text></g></g><g class=\"yaxislayer-above\"><g class=\"ytick\"><text text-anchor=\"end\" x=\"79\" y=\"4.199999999999999\" transform=\"translate(0,420)\" style=\"font-family: 'Open Sans', verdana, arial, sans-serif; font-size: 12px; fill: rgb(42, 63, 95); fill-opacity: 1; white-space: pre; opacity: 1;\">0</text></g><g class=\"ytick\"><text text-anchor=\"end\" x=\"79\" y=\"4.199999999999999\" style=\"font-family: 'Open Sans', verdana, arial, sans-serif; font-size: 12px; fill: rgb(42, 63, 95); fill-opacity: 1; white-space: pre; opacity: 1;\" transform=\"translate(0,355.32)\">10</text></g><g class=\"ytick\"><text text-anchor=\"end\" x=\"79\" y=\"4.199999999999999\" style=\"font-family: 'Open Sans', verdana, arial, sans-serif; font-size: 12px; fill: rgb(42, 63, 95); fill-opacity: 1; white-space: pre; opacity: 1;\" transform=\"translate(0,290.64)\">20</text></g><g class=\"ytick\"><text text-anchor=\"end\" x=\"79\" y=\"4.199999999999999\" style=\"font-family: 'Open Sans', verdana, arial, sans-serif; font-size: 12px; fill: rgb(42, 63, 95); fill-opacity: 1; white-space: pre; opacity: 1;\" transform=\"translate(0,225.95999999999998)\">30</text></g><g class=\"ytick\"><text text-anchor=\"end\" x=\"79\" y=\"4.199999999999999\" style=\"font-family: 'Open Sans', verdana, arial, sans-serif; font-size: 12px; fill: rgb(42, 63, 95); fill-opacity: 1; white-space: pre; opacity: 1;\" transform=\"translate(0,161.28)\">40</text></g></g><g class=\"overaxes-above\"/></g></g><g class=\"polarlayer\"/><g class=\"ternarylayer\"/><g class=\"geolayer\"/><g class=\"funnelarealayer\"/><g class=\"pielayer\"/><g class=\"iciclelayer\"/><g class=\"treemaplayer\"/><g class=\"sunburstlayer\"/><g class=\"glimages\"/><defs id=\"topdefs-03ff51\"><g class=\"clips\"/><clipPath id=\"legend03ff51\"><rect width=\"102\" height=\"124\" x=\"0\" y=\"0\"/></clipPath></defs><g class=\"layer-above\"><g class=\"imagelayer\"/><g class=\"shapelayer\"/></g><g class=\"infolayer\"><g class=\"legend\" pointer-events=\"all\" transform=\"translate(785.84,100)\"><rect class=\"bg\" shape-rendering=\"crispEdges\" width=\"102\" height=\"124\" x=\"0\" y=\"0\" style=\"stroke: rgb(68, 68, 68); stroke-opacity: 1; fill: rgb(255, 255, 255); fill-opacity: 1; stroke-width: 0px;\"/><g class=\"scrollbox\" transform=\"\" clip-path=\"url(#legend03ff51)\"><text class=\"legendtitletext\" text-anchor=\"start\" x=\"2\" y=\"18.2\" style=\"font-family: 'Open Sans', verdana, arial, sans-serif; font-size: 14px; fill: rgb(42, 63, 95); fill-opacity: 1; white-space: pre;\">creation_year</text><g class=\"groups\" transform=\"\"><g class=\"traces\" transform=\"translate(0,32.7)\" style=\"opacity: 1;\"><text class=\"legendtext\" text-anchor=\"start\" x=\"40\" y=\"4.680000000000001\" style=\"font-family: 'Open Sans', verdana, arial, sans-serif; font-size: 12px; fill: rgb(42, 63, 95); fill-opacity: 1; white-space: pre;\">2018</text><g class=\"layers\" style=\"opacity: 1;\"><g class=\"legendfill\"/><g class=\"legendlines\"/><g class=\"legendsymbols\"><g class=\"legendpoints\"><path class=\"legendundefined\" d=\"M6,6H-6V-6H6Z\" transform=\"translate(20,0)\" style=\"stroke-width: 0px; fill: rgb(76, 120, 168); fill-opacity: 1;\"/></g></g></g><rect class=\"legendtoggle\" x=\"0\" y=\"-9.5\" width=\"78.875\" height=\"19\" style=\"fill: rgb(0, 0, 0); fill-opacity: 0;\"/></g></g><g class=\"groups\" transform=\"\"><g class=\"traces\" transform=\"translate(0,51.7)\" style=\"opacity: 1;\"><text class=\"legendtext\" text-anchor=\"start\" x=\"40\" y=\"4.680000000000001\" style=\"font-family: 'Open Sans', verdana, arial, sans-serif; font-size: 12px; fill: rgb(42, 63, 95); fill-opacity: 1; white-space: pre;\">2019</text><g class=\"layers\" style=\"opacity: 1;\"><g class=\"legendfill\"/><g class=\"legendlines\"/><g class=\"legendsymbols\"><g class=\"legendpoints\"><path class=\"legendundefined\" d=\"M6,6H-6V-6H6Z\" transform=\"translate(20,0)\" style=\"stroke-width: 0px; fill: rgb(245, 133, 24); fill-opacity: 1;\"/></g></g></g><rect class=\"legendtoggle\" x=\"0\" y=\"-9.5\" width=\"78.875\" height=\"19\" style=\"fill: rgb(0, 0, 0); fill-opacity: 0;\"/></g></g><g class=\"groups\" transform=\"\"><g class=\"traces\" transform=\"translate(0,70.7)\" style=\"opacity: 1;\"><text class=\"legendtext\" text-anchor=\"start\" x=\"40\" y=\"4.680000000000001\" style=\"font-family: 'Open Sans', verdana, arial, sans-serif; font-size: 12px; fill: rgb(42, 63, 95); fill-opacity: 1; white-space: pre;\">2020</text><g class=\"layers\" style=\"opacity: 1;\"><g class=\"legendfill\"/><g class=\"legendlines\"/><g class=\"legendsymbols\"><g class=\"legendpoints\"><path class=\"legendundefined\" d=\"M6,6H-6V-6H6Z\" transform=\"translate(20,0)\" style=\"stroke-width: 0px; fill: rgb(228, 87, 86); fill-opacity: 1;\"/></g></g></g><rect class=\"legendtoggle\" x=\"0\" y=\"-9.5\" width=\"78.875\" height=\"19\" style=\"fill: rgb(0, 0, 0); fill-opacity: 0;\"/></g></g><g class=\"groups\" transform=\"\"><g class=\"traces\" transform=\"translate(0,89.7)\" style=\"opacity: 1;\"><text class=\"legendtext\" text-anchor=\"start\" x=\"40\" y=\"4.680000000000001\" style=\"font-family: 'Open Sans', verdana, arial, sans-serif; font-size: 12px; fill: rgb(42, 63, 95); fill-opacity: 1; white-space: pre;\">2021</text><g class=\"layers\" style=\"opacity: 1;\"><g class=\"legendfill\"/><g class=\"legendlines\"/><g class=\"legendsymbols\"><g class=\"legendpoints\"><path class=\"legendundefined\" d=\"M6,6H-6V-6H6Z\" transform=\"translate(20,0)\" style=\"stroke-width: 0px; fill: rgb(114, 183, 178); fill-opacity: 1;\"/></g></g></g><rect class=\"legendtoggle\" x=\"0\" y=\"-9.5\" width=\"78.875\" height=\"19\" style=\"fill: rgb(0, 0, 0); fill-opacity: 0;\"/></g></g><g class=\"groups\" transform=\"\"><g class=\"traces\" transform=\"translate(0,108.7)\" style=\"opacity: 1;\"><text class=\"legendtext\" text-anchor=\"start\" x=\"40\" y=\"4.680000000000001\" style=\"font-family: 'Open Sans', verdana, arial, sans-serif; font-size: 12px; fill: rgb(42, 63, 95); fill-opacity: 1; white-space: pre;\">others</text><g class=\"layers\" style=\"opacity: 1;\"><g class=\"legendfill\"/><g class=\"legendlines\"/><g class=\"legendsymbols\"><g class=\"legendpoints\"><path class=\"legendundefined\" d=\"M6,6H-6V-6H6Z\" transform=\"translate(20,0)\" style=\"stroke-width: 0px; fill: rgb(238, 202, 59); fill-opacity: 1;\"/></g></g></g><rect class=\"legendtoggle\" x=\"0\" y=\"-9.5\" width=\"78.875\" height=\"19\" style=\"fill: rgb(0, 0, 0); fill-opacity: 0;\"/></g></g></g><rect class=\"scrollbar\" rx=\"20\" ry=\"3\" width=\"0\" height=\"0\" x=\"0\" y=\"0\" style=\"fill: rgb(128, 139, 164); fill-opacity: 1;\"/></g><g class=\"g-gtitle\"><text class=\"gtitle\" x=\"45\" y=\"50\" text-anchor=\"start\" dy=\"0em\" style=\"font-family: 'Open Sans', verdana, arial, sans-serif; font-size: 17px; fill: rgb(42, 63, 95); opacity: 1; font-weight: normal; white-space: pre;\">Submissions of Unverified accounts in 2021</text></g><g class=\"g-xtitle\"><text class=\"xtitle\" x=\"426\" y=\"460.8\" text-anchor=\"middle\" style=\"font-family: 'Open Sans', verdana, arial, sans-serif; font-size: 14px; fill: rgb(42, 63, 95); opacity: 1; font-weight: normal; white-space: pre;\">creation_year</text></g><g class=\"g-ytitle\"><text class=\"ytitle\" transform=\"rotate(-90,38.934375,260)\" x=\"38.934375\" y=\"260\" text-anchor=\"middle\" style=\"font-family: 'Open Sans', verdana, arial, sans-serif; font-size: 14px; fill: rgb(42, 63, 95); opacity: 1; font-weight: normal; white-space: pre;\">count</text></g></g></svg>"
      ]
     },
     "metadata": {},
     "output_type": "display_data"
    }
   ],
   "source": [
    "fig = px.histogram(df_unverified_submissions, x='creation_year', color=\"creation_year\", \n",
    "                   color_discrete_sequence = colors,\n",
    "                   category_orders = dict(creation_year=['2018', '2019', '2020', '2021', 'banned', 'others']),\n",
    "                   title = 'Submissions of Unverified accounts in 2021')\n",
    "fig.show()"
   ]
  },
  {
   "cell_type": "code",
   "execution_count": 92,
   "id": "00c669c8",
   "metadata": {},
   "outputs": [
    {
     "data": {
      "text/html": [
       "<div>\n",
       "<style scoped>\n",
       "    .dataframe tbody tr th:only-of-type {\n",
       "        vertical-align: middle;\n",
       "    }\n",
       "\n",
       "    .dataframe tbody tr th {\n",
       "        vertical-align: top;\n",
       "    }\n",
       "\n",
       "    .dataframe thead th {\n",
       "        text-align: right;\n",
       "    }\n",
       "</style>\n",
       "<table border=\"1\" class=\"dataframe\">\n",
       "  <thead>\n",
       "    <tr style=\"text-align: right;\">\n",
       "      <th></th>\n",
       "      <th>child_id</th>\n",
       "      <th>permalink</th>\n",
       "      <th>text</th>\n",
       "      <th>parent_id</th>\n",
       "      <th>subreddit</th>\n",
       "      <th>created_at</th>\n",
       "      <th>sentiment_blob</th>\n",
       "      <th>sentiment_nltk</th>\n",
       "      <th>score</th>\n",
       "      <th>top_level</th>\n",
       "      <th>...</th>\n",
       "      <th>is_mod</th>\n",
       "      <th>is_gold</th>\n",
       "      <th>is_banned</th>\n",
       "      <th>comment_karma</th>\n",
       "      <th>link_karma</th>\n",
       "      <th>user_created_at</th>\n",
       "      <th>banned_unverified</th>\n",
       "      <th>creation_year</th>\n",
       "      <th>diff</th>\n",
       "      <th>days_after_creation</th>\n",
       "    </tr>\n",
       "  </thead>\n",
       "  <tbody>\n",
       "  </tbody>\n",
       "</table>\n",
       "<p>0 rows × 24 columns</p>\n",
       "</div>"
      ],
      "text/plain": [
       "Empty DataFrame\n",
       "Columns: [child_id, permalink, text, parent_id, subreddit, created_at, sentiment_blob, sentiment_nltk, score, top_level, submission_comment, submission_text, user_name, has_verified_email, is_mod, is_gold, is_banned, comment_karma, link_karma, user_created_at, banned_unverified, creation_year, diff, days_after_creation]\n",
       "Index: []\n",
       "\n",
       "[0 rows x 24 columns]"
      ]
     },
     "execution_count": 92,
     "metadata": {},
     "output_type": "execute_result"
    }
   ],
   "source": [
    "df_unverified_peak_submissions"
   ]
  },
  {
   "cell_type": "markdown",
   "id": "79ad3753",
   "metadata": {},
   "source": [
    "Unverified Accounts made no submissions on the beak day 17/04/2021"
   ]
  },
  {
   "cell_type": "markdown",
   "id": "505c0971",
   "metadata": {},
   "source": [
    "<a id='unverified_peak'></a>\n",
    ">>### Which dates had the highest contrbitions of unverified accounts?\n",
    "\n",
    "<ul>\n",
    "<li><a href=\"#largest_link_karma\">Unverified Accounts With The Largest Link Karma</a></li>   \n",
    "<li><a href=\"#largest_comment_karma\">Unverified Accounts With The Largest Comment Karma</a></li>\n",
    "    <br>\n",
    "<li><a href=\"#minimum_link_karma\">Unverified Accounts With The Minimum Link Karma</a></li>\n",
    "<li><a href=\"#minimum_comment_karma\">Unverified Accounts With The Minimum Comment Karma</a></li>\n",
    "    <br>\n",
    "<li><a href=\"#largest_scores\">Explore the largest scores</a></li>\n",
    "<li><a href=\"#minimum_scores\">Explore the minimum scores</a></li>\n",
    "    <br>\n",
    "<li><a href=\"#unverified_contributions\">Contributions of Unverified accounts in 2021</a></li>\n",
    "<li><a href=\"#unverified_creations\">Creation years of the unverified accounts contributed in 2021</a></li>\n",
    "<li><a href=\"#unverified_peak\"><b><mark>Unverified Contributions Peaks</mark></b></a></li>\n",
    "</ul>"
   ]
  },
  {
   "cell_type": "code",
   "execution_count": 93,
   "id": "fba7bb9e",
   "metadata": {},
   "outputs": [
    {
     "data": {
      "image/svg+xml": [
       "<svg class=\"main-svg\" xmlns=\"http://www.w3.org/2000/svg\" xmlns:xlink=\"http://www.w3.org/1999/xlink\" width=\"900\" height=\"500\" style=\"\" viewBox=\"0 0 900 500\"><rect x=\"0\" y=\"0\" width=\"900\" height=\"500\" style=\"fill: rgb(255, 255, 255); fill-opacity: 1;\"/><defs id=\"defs-915ec7\"><g class=\"clips\"><clipPath id=\"clip915ec7xyplot\" class=\"plotclip\"><rect width=\"740\" height=\"360\"/></clipPath><clipPath class=\"axesclip\" id=\"clip915ec7x\"><rect x=\"80\" y=\"0\" width=\"740\" height=\"500\"/></clipPath><clipPath class=\"axesclip\" id=\"clip915ec7y\"><rect x=\"0\" y=\"60\" width=\"900\" height=\"360\"/></clipPath><clipPath class=\"axesclip\" id=\"clip915ec7xy\"><rect x=\"80\" y=\"60\" width=\"740\" height=\"360\"/></clipPath></g><g class=\"gradients\"/><g class=\"patterns\"/></defs><g class=\"bglayer\"><rect class=\"bg\" x=\"80\" y=\"60\" width=\"740\" height=\"360\" style=\"fill: rgb(229, 236, 246); fill-opacity: 1; stroke-width: 0;\"/></g><g class=\"layer-below\"><g class=\"imagelayer\"/><g class=\"shapelayer\"/></g><g class=\"cartesianlayer\"><g class=\"subplot xy\"><g class=\"layer-subplot\"><g class=\"shapelayer\"/><g class=\"imagelayer\"/></g><g class=\"gridlayer\"><g class=\"x\"/><g class=\"y\"><path class=\"ygrid crisp\" transform=\"translate(0,347.23)\" d=\"M80,0h740\" style=\"stroke: rgb(255, 255, 255); stroke-opacity: 1; stroke-width: 1px;\"/><path class=\"ygrid crisp\" transform=\"translate(0,274.47)\" d=\"M80,0h740\" style=\"stroke: rgb(255, 255, 255); stroke-opacity: 1; stroke-width: 1px;\"/><path class=\"ygrid crisp\" transform=\"translate(0,201.7)\" d=\"M80,0h740\" style=\"stroke: rgb(255, 255, 255); stroke-opacity: 1; stroke-width: 1px;\"/><path class=\"ygrid crisp\" transform=\"translate(0,128.94)\" d=\"M80,0h740\" style=\"stroke: rgb(255, 255, 255); stroke-opacity: 1; stroke-width: 1px;\"/></g></g><g class=\"zerolinelayer\"><path class=\"yzl zl crisp\" transform=\"translate(0,420)\" d=\"M80,0h740\" style=\"stroke: rgb(255, 255, 255); stroke-opacity: 1; stroke-width: 2px;\"/></g><path class=\"xlines-below\"/><path class=\"ylines-below\"/><g class=\"overlines-below\"/><g class=\"xaxislayer-below\"/><g class=\"yaxislayer-below\"/><g class=\"overaxes-below\"/><g class=\"plot\" transform=\"translate(80,60)\" clip-path=\"url(#clip915ec7xyplot)\"><g class=\"barlayer mlayer\"><g class=\"trace bars\" style=\"opacity: 1;\"><g class=\"points\"><g class=\"point\"><path d=\"M0.49,360V274.14H4.41V360Z\" style=\"vector-effect: non-scaling-stroke; opacity: 1; stroke-width: 1.5px; fill: rgb(82, 150, 221); fill-opacity: 1; stroke: rgb(229, 236, 246); stroke-opacity: 1;\"/></g><g class=\"point\"><path d=\"M5.39,360V311.97H9.31V360Z\" style=\"vector-effect: non-scaling-stroke; opacity: 1; stroke-width: 1.5px; fill: rgb(82, 150, 221); fill-opacity: 1; stroke: rgb(229, 236, 246); stroke-opacity: 1;\"/></g><g class=\"point\"><path d=\"M10.29,360V327.98H14.21V360Z\" style=\"vector-effect: non-scaling-stroke; opacity: 1; stroke-width: 1.5px; fill: rgb(82, 150, 221); fill-opacity: 1; stroke: rgb(229, 236, 246); stroke-opacity: 1;\"/></g><g class=\"point\"><path d=\"M15.19,360V320.71H19.11V360Z\" style=\"vector-effect: non-scaling-stroke; opacity: 1; stroke-width: 1.5px; fill: rgb(82, 150, 221); fill-opacity: 1; stroke: rgb(229, 236, 246); stroke-opacity: 1;\"/></g><g class=\"point\"><path d=\"M20.09,360V306.15H24.01V360Z\" style=\"vector-effect: non-scaling-stroke; opacity: 1; stroke-width: 1.5px; fill: rgb(82, 150, 221); fill-opacity: 1; stroke: rgb(229, 236, 246); stroke-opacity: 1;\"/></g><g class=\"point\"><path d=\"M24.99,360V335.26H28.91V360Z\" style=\"vector-effect: non-scaling-stroke; opacity: 1; stroke-width: 1.5px; fill: rgb(82, 150, 221); fill-opacity: 1; stroke: rgb(229, 236, 246); stroke-opacity: 1;\"/></g><g class=\"point\"><path d=\"M29.89,360V339.63H33.81V360Z\" style=\"vector-effect: non-scaling-stroke; opacity: 1; stroke-width: 1.5px; fill: rgb(82, 150, 221); fill-opacity: 1; stroke: rgb(229, 236, 246); stroke-opacity: 1;\"/></g><g class=\"point\"><path d=\"M34.79,360V351.27H38.72V360Z\" style=\"vector-effect: non-scaling-stroke; opacity: 1; stroke-width: 1.5px; fill: rgb(82, 150, 221); fill-opacity: 1; stroke: rgb(229, 236, 246); stroke-opacity: 1;\"/></g><g class=\"point\"><path d=\"M39.7,360V266.86H43.62V360Z\" style=\"vector-effect: non-scaling-stroke; opacity: 1; stroke-width: 1.5px; fill: rgb(82, 150, 221); fill-opacity: 1; stroke: rgb(229, 236, 246); stroke-opacity: 1;\"/></g><g class=\"point\"><path d=\"M44.6,360V338.17H48.52V360Z\" style=\"vector-effect: non-scaling-stroke; opacity: 1; stroke-width: 1.5px; fill: rgb(82, 150, 221); fill-opacity: 1; stroke: rgb(229, 236, 246); stroke-opacity: 1;\"/></g><g class=\"point\"><path d=\"M49.5,360V341.08H53.42V360Z\" style=\"vector-effect: non-scaling-stroke; opacity: 1; stroke-width: 1.5px; fill: rgb(82, 150, 221); fill-opacity: 1; stroke: rgb(229, 236, 246); stroke-opacity: 1;\"/></g><g class=\"point\"><path d=\"M54.4,360V330.89H58.32V360Z\" style=\"vector-effect: non-scaling-stroke; opacity: 1; stroke-width: 1.5px; fill: rgb(82, 150, 221); fill-opacity: 1; stroke: rgb(229, 236, 246); stroke-opacity: 1;\"/></g><g class=\"point\"><path d=\"M59.3,360V343.99H63.22V360Z\" style=\"vector-effect: non-scaling-stroke; opacity: 1; stroke-width: 1.5px; fill: rgb(82, 150, 221); fill-opacity: 1; stroke: rgb(229, 236, 246); stroke-opacity: 1;\"/></g><g class=\"point\"><path d=\"M64.2,360V343.99H68.12V360Z\" style=\"vector-effect: non-scaling-stroke; opacity: 1; stroke-width: 1.5px; fill: rgb(82, 150, 221); fill-opacity: 1; stroke: rgb(229, 236, 246); stroke-opacity: 1;\"/></g><g class=\"point\"><path d=\"M69.1,360V336.71H73.02V360Z\" style=\"vector-effect: non-scaling-stroke; opacity: 1; stroke-width: 1.5px; fill: rgb(82, 150, 221); fill-opacity: 1; stroke: rgb(229, 236, 246); stroke-opacity: 1;\"/></g><g class=\"point\"><path d=\"M74,360V271.23H77.92V360Z\" style=\"vector-effect: non-scaling-stroke; opacity: 1; stroke-width: 1.5px; fill: rgb(82, 150, 221); fill-opacity: 1; stroke: rgb(229, 236, 246); stroke-opacity: 1;\"/></g><g class=\"point\"><path d=\"M78.9,360V329.44H82.82V360Z\" style=\"vector-effect: non-scaling-stroke; opacity: 1; stroke-width: 1.5px; fill: rgb(82, 150, 221); fill-opacity: 1; stroke: rgb(229, 236, 246); stroke-opacity: 1;\"/></g><g class=\"point\"><path d=\"M83.8,360V330.89H87.72V360Z\" style=\"vector-effect: non-scaling-stroke; opacity: 1; stroke-width: 1.5px; fill: rgb(82, 150, 221); fill-opacity: 1; stroke: rgb(229, 236, 246); stroke-opacity: 1;\"/></g><g class=\"point\"><path d=\"M88.7,360V354.18H92.62V360Z\" style=\"vector-effect: non-scaling-stroke; opacity: 1; stroke-width: 1.5px; fill: rgb(82, 150, 221); fill-opacity: 1; stroke: rgb(229, 236, 246); stroke-opacity: 1;\"/></g><g class=\"point\"><path d=\"M93.6,360V346.9H97.52V360Z\" style=\"vector-effect: non-scaling-stroke; opacity: 1; stroke-width: 1.5px; fill: rgb(82, 150, 221); fill-opacity: 1; stroke: rgb(229, 236, 246); stroke-opacity: 1;\"/></g><g class=\"point\"><path d=\"M98.5,360V352.72H102.42V360Z\" style=\"vector-effect: non-scaling-stroke; opacity: 1; stroke-width: 1.5px; fill: rgb(82, 150, 221); fill-opacity: 1; stroke: rgb(229, 236, 246); stroke-opacity: 1;\"/></g><g class=\"point\"><path d=\"M103.4,360V351.27H107.32V360Z\" style=\"vector-effect: non-scaling-stroke; opacity: 1; stroke-width: 1.5px; fill: rgb(82, 150, 221); fill-opacity: 1; stroke: rgb(229, 236, 246); stroke-opacity: 1;\"/></g><g class=\"point\"><path d=\"M108.3,360V358.54H112.23V360Z\" style=\"vector-effect: non-scaling-stroke; opacity: 1; stroke-width: 1.5px; fill: rgb(82, 150, 221); fill-opacity: 1; stroke: rgb(229, 236, 246); stroke-opacity: 1;\"/></g><g class=\"point\"><path d=\"M113.21,360V355.63H117.13V360Z\" style=\"vector-effect: non-scaling-stroke; opacity: 1; stroke-width: 1.5px; fill: rgb(82, 150, 221); fill-opacity: 1; stroke: rgb(229, 236, 246); stroke-opacity: 1;\"/></g><g class=\"point\"><path d=\"M118.11,360V354.18H122.03V360Z\" style=\"vector-effect: non-scaling-stroke; opacity: 1; stroke-width: 1.5px; fill: rgb(82, 150, 221); fill-opacity: 1; stroke: rgb(229, 236, 246); stroke-opacity: 1;\"/></g><g class=\"point\"><path d=\"M123.01,360V355.63H126.93V360Z\" style=\"vector-effect: non-scaling-stroke; opacity: 1; stroke-width: 1.5px; fill: rgb(82, 150, 221); fill-opacity: 1; stroke: rgb(229, 236, 246); stroke-opacity: 1;\"/></g><g class=\"point\"><path d=\"M127.91,360V358.54H131.83V360Z\" style=\"vector-effect: non-scaling-stroke; opacity: 1; stroke-width: 1.5px; fill: rgb(82, 150, 221); fill-opacity: 1; stroke: rgb(229, 236, 246); stroke-opacity: 1;\"/></g><g class=\"point\"><path d=\"M132.81,360V338.17H136.73V360Z\" style=\"vector-effect: non-scaling-stroke; opacity: 1; stroke-width: 1.5px; fill: rgb(82, 150, 221); fill-opacity: 1; stroke: rgb(229, 236, 246); stroke-opacity: 1;\"/></g><g class=\"point\"><path d=\"M137.71,360V358.54H141.63V360Z\" style=\"vector-effect: non-scaling-stroke; opacity: 1; stroke-width: 1.5px; fill: rgb(82, 150, 221); fill-opacity: 1; stroke: rgb(229, 236, 246); stroke-opacity: 1;\"/></g><g class=\"point\"><path d=\"M142.61,360V314.89H146.53V360Z\" style=\"vector-effect: non-scaling-stroke; opacity: 1; stroke-width: 1.5px; fill: rgb(82, 150, 221); fill-opacity: 1; stroke: rgb(229, 236, 246); stroke-opacity: 1;\"/></g><g class=\"point\"><path d=\"M147.51,360V352.72H151.43V360Z\" style=\"vector-effect: non-scaling-stroke; opacity: 1; stroke-width: 1.5px; fill: rgb(82, 150, 221); fill-opacity: 1; stroke: rgb(229, 236, 246); stroke-opacity: 1;\"/></g><g class=\"point\"><path d=\"M152.41,360V307.61H156.33V360Z\" style=\"vector-effect: non-scaling-stroke; opacity: 1; stroke-width: 1.5px; fill: rgb(82, 150, 221); fill-opacity: 1; stroke: rgb(229, 236, 246); stroke-opacity: 1;\"/></g><g class=\"point\"><path d=\"M157.31,360V339.63H161.23V360Z\" style=\"vector-effect: non-scaling-stroke; opacity: 1; stroke-width: 1.5px; fill: rgb(82, 150, 221); fill-opacity: 1; stroke: rgb(229, 236, 246); stroke-opacity: 1;\"/></g><g class=\"point\"><path d=\"M162.21,360V339.63H166.13V360Z\" style=\"vector-effect: non-scaling-stroke; opacity: 1; stroke-width: 1.5px; fill: rgb(82, 150, 221); fill-opacity: 1; stroke: rgb(229, 236, 246); stroke-opacity: 1;\"/></g><g class=\"point\"><path d=\"M167.11,360V355.63H171.03V360Z\" style=\"vector-effect: non-scaling-stroke; opacity: 1; stroke-width: 1.5px; fill: rgb(82, 150, 221); fill-opacity: 1; stroke: rgb(229, 236, 246); stroke-opacity: 1;\"/></g><g class=\"point\"><path d=\"M172.01,360V354.18H175.93V360Z\" style=\"vector-effect: non-scaling-stroke; opacity: 1; stroke-width: 1.5px; fill: rgb(82, 150, 221); fill-opacity: 1; stroke: rgb(229, 236, 246); stroke-opacity: 1;\"/></g><g class=\"point\"><path d=\"M176.91,360V358.54H180.83V360Z\" style=\"vector-effect: non-scaling-stroke; opacity: 1; stroke-width: 1.5px; fill: rgb(82, 150, 221); fill-opacity: 1; stroke: rgb(229, 236, 246); stroke-opacity: 1;\"/></g><g class=\"point\"><path d=\"M181.81,360V357.09H185.74V360Z\" style=\"vector-effect: non-scaling-stroke; opacity: 1; stroke-width: 1.5px; fill: rgb(82, 150, 221); fill-opacity: 1; stroke: rgb(229, 236, 246); stroke-opacity: 1;\"/></g><g class=\"point\"><path d=\"M191.62,360V346.9H195.54V360Z\" style=\"vector-effect: non-scaling-stroke; opacity: 1; stroke-width: 1.5px; fill: rgb(82, 150, 221); fill-opacity: 1; stroke: rgb(229, 236, 246); stroke-opacity: 1;\"/></g><g class=\"point\"><path d=\"M196.52,360V335.26H200.44V360Z\" style=\"vector-effect: non-scaling-stroke; opacity: 1; stroke-width: 1.5px; fill: rgb(82, 150, 221); fill-opacity: 1; stroke: rgb(229, 236, 246); stroke-opacity: 1;\"/></g><g class=\"point\"><path d=\"M201.42,360V348.36H205.34V360Z\" style=\"vector-effect: non-scaling-stroke; opacity: 1; stroke-width: 1.5px; fill: rgb(82, 150, 221); fill-opacity: 1; stroke: rgb(229, 236, 246); stroke-opacity: 1;\"/></g><g class=\"point\"><path d=\"M206.32,360V349.81H210.24V360Z\" style=\"vector-effect: non-scaling-stroke; opacity: 1; stroke-width: 1.5px; fill: rgb(82, 150, 221); fill-opacity: 1; stroke: rgb(229, 236, 246); stroke-opacity: 1;\"/></g><g class=\"point\"><path d=\"M211.22,360V341.08H215.14V360Z\" style=\"vector-effect: non-scaling-stroke; opacity: 1; stroke-width: 1.5px; fill: rgb(82, 150, 221); fill-opacity: 1; stroke: rgb(229, 236, 246); stroke-opacity: 1;\"/></g><g class=\"point\"><path d=\"M216.12,360V342.54H220.04V360Z\" style=\"vector-effect: non-scaling-stroke; opacity: 1; stroke-width: 1.5px; fill: rgb(82, 150, 221); fill-opacity: 1; stroke: rgb(229, 236, 246); stroke-opacity: 1;\"/></g><g class=\"point\"><path d=\"M221.02,360V349.81H224.94V360Z\" style=\"vector-effect: non-scaling-stroke; opacity: 1; stroke-width: 1.5px; fill: rgb(82, 150, 221); fill-opacity: 1; stroke: rgb(229, 236, 246); stroke-opacity: 1;\"/></g><g class=\"point\"><path d=\"M225.92,360V354.18H229.84V360Z\" style=\"vector-effect: non-scaling-stroke; opacity: 1; stroke-width: 1.5px; fill: rgb(82, 150, 221); fill-opacity: 1; stroke: rgb(229, 236, 246); stroke-opacity: 1;\"/></g><g class=\"point\"><path d=\"M230.82,360V351.27H234.74V360Z\" style=\"vector-effect: non-scaling-stroke; opacity: 1; stroke-width: 1.5px; fill: rgb(82, 150, 221); fill-opacity: 1; stroke: rgb(229, 236, 246); stroke-opacity: 1;\"/></g><g class=\"point\"><path d=\"M235.72,360V358.54H239.64V360Z\" style=\"vector-effect: non-scaling-stroke; opacity: 1; stroke-width: 1.5px; fill: rgb(82, 150, 221); fill-opacity: 1; stroke: rgb(229, 236, 246); stroke-opacity: 1;\"/></g><g class=\"point\"><path d=\"M240.62,360V349.81H244.54V360Z\" style=\"vector-effect: non-scaling-stroke; opacity: 1; stroke-width: 1.5px; fill: rgb(82, 150, 221); fill-opacity: 1; stroke: rgb(229, 236, 246); stroke-opacity: 1;\"/></g><g class=\"point\"><path d=\"M245.52,360V202.83H249.44V360Z\" style=\"vector-effect: non-scaling-stroke; opacity: 1; stroke-width: 1.5px; fill: rgb(82, 150, 221); fill-opacity: 1; stroke: rgb(229, 236, 246); stroke-opacity: 1;\"/></g><g class=\"point\"><path d=\"M250.42,360V290.14H254.34V360Z\" style=\"vector-effect: non-scaling-stroke; opacity: 1; stroke-width: 1.5px; fill: rgb(82, 150, 221); fill-opacity: 1; stroke: rgb(229, 236, 246); stroke-opacity: 1;\"/></g><g class=\"point\"><path d=\"M255.32,360V320.71H259.25V360Z\" style=\"vector-effect: non-scaling-stroke; opacity: 1; stroke-width: 1.5px; fill: rgb(82, 150, 221); fill-opacity: 1; stroke: rgb(229, 236, 246); stroke-opacity: 1;\"/></g><g class=\"point\"><path d=\"M260.23,360V341.08H264.15V360Z\" style=\"vector-effect: non-scaling-stroke; opacity: 1; stroke-width: 1.5px; fill: rgb(82, 150, 221); fill-opacity: 1; stroke: rgb(229, 236, 246); stroke-opacity: 1;\"/></g><g class=\"point\"><path d=\"M265.13,360V355.63H269.05V360Z\" style=\"vector-effect: non-scaling-stroke; opacity: 1; stroke-width: 1.5px; fill: rgb(82, 150, 221); fill-opacity: 1; stroke: rgb(229, 236, 246); stroke-opacity: 1;\"/></g><g class=\"point\"><path d=\"M270.03,360V336.71H273.95V360Z\" style=\"vector-effect: non-scaling-stroke; opacity: 1; stroke-width: 1.5px; fill: rgb(82, 150, 221); fill-opacity: 1; stroke: rgb(229, 236, 246); stroke-opacity: 1;\"/></g><g class=\"point\"><path d=\"M274.93,360V351.27H278.85V360Z\" style=\"vector-effect: non-scaling-stroke; opacity: 1; stroke-width: 1.5px; fill: rgb(82, 150, 221); fill-opacity: 1; stroke: rgb(229, 236, 246); stroke-opacity: 1;\"/></g><g class=\"point\"><path d=\"M279.83,360V352.72H283.75V360Z\" style=\"vector-effect: non-scaling-stroke; opacity: 1; stroke-width: 1.5px; fill: rgb(82, 150, 221); fill-opacity: 1; stroke: rgb(229, 236, 246); stroke-opacity: 1;\"/></g><g class=\"point\"><path d=\"M284.73,360V218.83H288.65V360Z\" style=\"vector-effect: non-scaling-stroke; opacity: 1; stroke-width: 1.5px; fill: rgb(82, 150, 221); fill-opacity: 1; stroke: rgb(229, 236, 246); stroke-opacity: 1;\"/></g><g class=\"point\"><path d=\"M289.63,360V346.9H293.55V360Z\" style=\"vector-effect: non-scaling-stroke; opacity: 1; stroke-width: 1.5px; fill: rgb(82, 150, 221); fill-opacity: 1; stroke: rgb(229, 236, 246); stroke-opacity: 1;\"/></g><g class=\"point\"><path d=\"M294.53,360V354.18H298.45V360Z\" style=\"vector-effect: non-scaling-stroke; opacity: 1; stroke-width: 1.5px; fill: rgb(82, 150, 221); fill-opacity: 1; stroke: rgb(229, 236, 246); stroke-opacity: 1;\"/></g><g class=\"point\"><path d=\"M299.43,360V338.17H303.35V360Z\" style=\"vector-effect: non-scaling-stroke; opacity: 1; stroke-width: 1.5px; fill: rgb(82, 150, 221); fill-opacity: 1; stroke: rgb(229, 236, 246); stroke-opacity: 1;\"/></g><g class=\"point\"><path d=\"M304.33,360V266.86H308.25V360Z\" style=\"vector-effect: non-scaling-stroke; opacity: 1; stroke-width: 1.5px; fill: rgb(82, 150, 221); fill-opacity: 1; stroke: rgb(229, 236, 246); stroke-opacity: 1;\"/></g><g class=\"point\"><path d=\"M309.23,360V346.9H313.15V360Z\" style=\"vector-effect: non-scaling-stroke; opacity: 1; stroke-width: 1.5px; fill: rgb(82, 150, 221); fill-opacity: 1; stroke: rgb(229, 236, 246); stroke-opacity: 1;\"/></g><g class=\"point\"><path d=\"M319.03,360V358.54H322.95V360Z\" style=\"vector-effect: non-scaling-stroke; opacity: 1; stroke-width: 1.5px; fill: rgb(82, 150, 221); fill-opacity: 1; stroke: rgb(229, 236, 246); stroke-opacity: 1;\"/></g><g class=\"point\"><path d=\"M323.93,360V354.18H327.85V360Z\" style=\"vector-effect: non-scaling-stroke; opacity: 1; stroke-width: 1.5px; fill: rgb(82, 150, 221); fill-opacity: 1; stroke: rgb(229, 236, 246); stroke-opacity: 1;\"/></g><g class=\"point\"><path d=\"M328.83,360V357.09H332.75V360Z\" style=\"vector-effect: non-scaling-stroke; opacity: 1; stroke-width: 1.5px; fill: rgb(82, 150, 221); fill-opacity: 1; stroke: rgb(229, 236, 246); stroke-opacity: 1;\"/></g><g class=\"point\"><path d=\"M333.74,360V351.27H337.66V360Z\" style=\"vector-effect: non-scaling-stroke; opacity: 1; stroke-width: 1.5px; fill: rgb(82, 150, 221); fill-opacity: 1; stroke: rgb(229, 236, 246); stroke-opacity: 1;\"/></g><g class=\"point\"><path d=\"M338.64,360V354.18H342.56V360Z\" style=\"vector-effect: non-scaling-stroke; opacity: 1; stroke-width: 1.5px; fill: rgb(82, 150, 221); fill-opacity: 1; stroke: rgb(229, 236, 246); stroke-opacity: 1;\"/></g><g class=\"point\"><path d=\"M343.54,360V348.36H347.46V360Z\" style=\"vector-effect: non-scaling-stroke; opacity: 1; stroke-width: 1.5px; fill: rgb(82, 150, 221); fill-opacity: 1; stroke: rgb(229, 236, 246); stroke-opacity: 1;\"/></g><g class=\"point\"><path d=\"M348.44,360V345.45H352.36V360Z\" style=\"vector-effect: non-scaling-stroke; opacity: 1; stroke-width: 1.5px; fill: rgb(82, 150, 221); fill-opacity: 1; stroke: rgb(229, 236, 246); stroke-opacity: 1;\"/></g><g class=\"point\"><path d=\"M353.34,360V338.17H357.26V360Z\" style=\"vector-effect: non-scaling-stroke; opacity: 1; stroke-width: 1.5px; fill: rgb(82, 150, 221); fill-opacity: 1; stroke: rgb(229, 236, 246); stroke-opacity: 1;\"/></g><g class=\"point\"><path d=\"M358.24,360V349.81H362.16V360Z\" style=\"vector-effect: non-scaling-stroke; opacity: 1; stroke-width: 1.5px; fill: rgb(82, 150, 221); fill-opacity: 1; stroke: rgb(229, 236, 246); stroke-opacity: 1;\"/></g><g class=\"point\"><path d=\"M363.14,360V357.09H367.06V360Z\" style=\"vector-effect: non-scaling-stroke; opacity: 1; stroke-width: 1.5px; fill: rgb(82, 150, 221); fill-opacity: 1; stroke: rgb(229, 236, 246); stroke-opacity: 1;\"/></g><g class=\"point\"><path d=\"M368.04,360V358.54H371.96V360Z\" style=\"vector-effect: non-scaling-stroke; opacity: 1; stroke-width: 1.5px; fill: rgb(82, 150, 221); fill-opacity: 1; stroke: rgb(229, 236, 246); stroke-opacity: 1;\"/></g><g class=\"point\"><path d=\"M372.94,360V351.27H376.86V360Z\" style=\"vector-effect: non-scaling-stroke; opacity: 1; stroke-width: 1.5px; fill: rgb(82, 150, 221); fill-opacity: 1; stroke: rgb(229, 236, 246); stroke-opacity: 1;\"/></g><g class=\"point\"><path d=\"M377.84,360V358.54H381.76V360Z\" style=\"vector-effect: non-scaling-stroke; opacity: 1; stroke-width: 1.5px; fill: rgb(82, 150, 221); fill-opacity: 1; stroke: rgb(229, 236, 246); stroke-opacity: 1;\"/></g><g class=\"point\"><path d=\"M382.74,360V357.09H386.66V360Z\" style=\"vector-effect: non-scaling-stroke; opacity: 1; stroke-width: 1.5px; fill: rgb(82, 150, 221); fill-opacity: 1; stroke: rgb(229, 236, 246); stroke-opacity: 1;\"/></g><g class=\"point\"><path d=\"M387.64,360V358.54H391.56V360Z\" style=\"vector-effect: non-scaling-stroke; opacity: 1; stroke-width: 1.5px; fill: rgb(82, 150, 221); fill-opacity: 1; stroke: rgb(229, 236, 246); stroke-opacity: 1;\"/></g><g class=\"point\"><path d=\"M392.54,360V358.54H396.46V360Z\" style=\"vector-effect: non-scaling-stroke; opacity: 1; stroke-width: 1.5px; fill: rgb(82, 150, 221); fill-opacity: 1; stroke: rgb(229, 236, 246); stroke-opacity: 1;\"/></g><g class=\"point\"><path d=\"M397.44,360V358.54H401.36V360Z\" style=\"vector-effect: non-scaling-stroke; opacity: 1; stroke-width: 1.5px; fill: rgb(82, 150, 221); fill-opacity: 1; stroke: rgb(229, 236, 246); stroke-opacity: 1;\"/></g><g class=\"point\"><path d=\"M402.34,360V354.18H406.26V360Z\" style=\"vector-effect: non-scaling-stroke; opacity: 1; stroke-width: 1.5px; fill: rgb(82, 150, 221); fill-opacity: 1; stroke: rgb(229, 236, 246); stroke-opacity: 1;\"/></g><g class=\"point\"><path d=\"M421.95,360V342.54H425.87V360Z\" style=\"vector-effect: non-scaling-stroke; opacity: 1; stroke-width: 1.5px; fill: rgb(82, 150, 221); fill-opacity: 1; stroke: rgb(229, 236, 246); stroke-opacity: 1;\"/></g><g class=\"point\"><path d=\"M426.85,360V329.44H430.77V360Z\" style=\"vector-effect: non-scaling-stroke; opacity: 1; stroke-width: 1.5px; fill: rgb(82, 150, 221); fill-opacity: 1; stroke: rgb(229, 236, 246); stroke-opacity: 1;\"/></g><g class=\"point\"><path d=\"M431.75,360V333.8H435.67V360Z\" style=\"vector-effect: non-scaling-stroke; opacity: 1; stroke-width: 1.5px; fill: rgb(82, 150, 221); fill-opacity: 1; stroke: rgb(229, 236, 246); stroke-opacity: 1;\"/></g><g class=\"point\"><path d=\"M436.65,360V333.8H440.57V360Z\" style=\"vector-effect: non-scaling-stroke; opacity: 1; stroke-width: 1.5px; fill: rgb(82, 150, 221); fill-opacity: 1; stroke: rgb(229, 236, 246); stroke-opacity: 1;\"/></g><g class=\"point\"><path d=\"M441.55,360V343.99H445.47V360Z\" style=\"vector-effect: non-scaling-stroke; opacity: 1; stroke-width: 1.5px; fill: rgb(82, 150, 221); fill-opacity: 1; stroke: rgb(229, 236, 246); stroke-opacity: 1;\"/></g><g class=\"point\"><path d=\"M446.45,360V349.81H450.37V360Z\" style=\"vector-effect: non-scaling-stroke; opacity: 1; stroke-width: 1.5px; fill: rgb(82, 150, 221); fill-opacity: 1; stroke: rgb(229, 236, 246); stroke-opacity: 1;\"/></g><g class=\"point\"><path d=\"M451.35,360V352.72H455.27V360Z\" style=\"vector-effect: non-scaling-stroke; opacity: 1; stroke-width: 1.5px; fill: rgb(82, 150, 221); fill-opacity: 1; stroke: rgb(229, 236, 246); stroke-opacity: 1;\"/></g><g class=\"point\"><path d=\"M456.25,360V358.54H460.17V360Z\" style=\"vector-effect: non-scaling-stroke; opacity: 1; stroke-width: 1.5px; fill: rgb(82, 150, 221); fill-opacity: 1; stroke: rgb(229, 236, 246); stroke-opacity: 1;\"/></g><g class=\"point\"><path d=\"M461.15,360V355.63H465.07V360Z\" style=\"vector-effect: non-scaling-stroke; opacity: 1; stroke-width: 1.5px; fill: rgb(82, 150, 221); fill-opacity: 1; stroke: rgb(229, 236, 246); stroke-opacity: 1;\"/></g><g class=\"point\"><path d=\"M466.05,360V354.18H469.97V360Z\" style=\"vector-effect: non-scaling-stroke; opacity: 1; stroke-width: 1.5px; fill: rgb(82, 150, 221); fill-opacity: 1; stroke: rgb(229, 236, 246); stroke-opacity: 1;\"/></g><g class=\"point\"><path d=\"M470.95,360V327.98H474.87V360Z\" style=\"vector-effect: non-scaling-stroke; opacity: 1; stroke-width: 1.5px; fill: rgb(82, 150, 221); fill-opacity: 1; stroke: rgb(229, 236, 246); stroke-opacity: 1;\"/></g><g class=\"point\"><path d=\"M475.85,360V352.72H479.77V360Z\" style=\"vector-effect: non-scaling-stroke; opacity: 1; stroke-width: 1.5px; fill: rgb(82, 150, 221); fill-opacity: 1; stroke: rgb(229, 236, 246); stroke-opacity: 1;\"/></g><g class=\"point\"><path d=\"M480.75,360V355.63H484.68V360Z\" style=\"vector-effect: non-scaling-stroke; opacity: 1; stroke-width: 1.5px; fill: rgb(82, 150, 221); fill-opacity: 1; stroke: rgb(229, 236, 246); stroke-opacity: 1;\"/></g><g class=\"point\"><path d=\"M485.66,360V358.54H489.58V360Z\" style=\"vector-effect: non-scaling-stroke; opacity: 1; stroke-width: 1.5px; fill: rgb(82, 150, 221); fill-opacity: 1; stroke: rgb(229, 236, 246); stroke-opacity: 1;\"/></g><g class=\"point\"><path d=\"M500.36,360V358.54H504.28V360Z\" style=\"vector-effect: non-scaling-stroke; opacity: 1; stroke-width: 1.5px; fill: rgb(82, 150, 221); fill-opacity: 1; stroke: rgb(229, 236, 246); stroke-opacity: 1;\"/></g><g class=\"point\"><path d=\"M505.26,360V310.52H509.18V360Z\" style=\"vector-effect: non-scaling-stroke; opacity: 1; stroke-width: 1.5px; fill: rgb(82, 150, 221); fill-opacity: 1; stroke: rgb(229, 236, 246); stroke-opacity: 1;\"/></g><g class=\"point\"><path d=\"M510.16,360V348.36H514.08V360Z\" style=\"vector-effect: non-scaling-stroke; opacity: 1; stroke-width: 1.5px; fill: rgb(82, 150, 221); fill-opacity: 1; stroke: rgb(229, 236, 246); stroke-opacity: 1;\"/></g><g class=\"point\"><path d=\"M515.06,360V348.36H518.98V360Z\" style=\"vector-effect: non-scaling-stroke; opacity: 1; stroke-width: 1.5px; fill: rgb(82, 150, 221); fill-opacity: 1; stroke: rgb(229, 236, 246); stroke-opacity: 1;\"/></g><g class=\"point\"><path d=\"M519.96,360V18H523.88V360Z\" style=\"vector-effect: non-scaling-stroke; opacity: 1; stroke-width: 1.5px; fill: rgb(82, 150, 221); fill-opacity: 1; stroke: rgb(229, 236, 246); stroke-opacity: 1;\"/></g><g class=\"point\"><path d=\"M524.86,360V307.61H528.78V360Z\" style=\"vector-effect: non-scaling-stroke; opacity: 1; stroke-width: 1.5px; fill: rgb(82, 150, 221); fill-opacity: 1; stroke: rgb(229, 236, 246); stroke-opacity: 1;\"/></g><g class=\"point\"><path d=\"M529.76,360V336.71H533.68V360Z\" style=\"vector-effect: non-scaling-stroke; opacity: 1; stroke-width: 1.5px; fill: rgb(82, 150, 221); fill-opacity: 1; stroke: rgb(229, 236, 246); stroke-opacity: 1;\"/></g><g class=\"point\"><path d=\"M534.66,360V339.63H538.58V360Z\" style=\"vector-effect: non-scaling-stroke; opacity: 1; stroke-width: 1.5px; fill: rgb(82, 150, 221); fill-opacity: 1; stroke: rgb(229, 236, 246); stroke-opacity: 1;\"/></g><g class=\"point\"><path d=\"M539.56,360V354.18H543.48V360Z\" style=\"vector-effect: non-scaling-stroke; opacity: 1; stroke-width: 1.5px; fill: rgb(82, 150, 221); fill-opacity: 1; stroke: rgb(229, 236, 246); stroke-opacity: 1;\"/></g><g class=\"point\"><path d=\"M544.46,360V326.53H548.38V360Z\" style=\"vector-effect: non-scaling-stroke; opacity: 1; stroke-width: 1.5px; fill: rgb(82, 150, 221); fill-opacity: 1; stroke: rgb(229, 236, 246); stroke-opacity: 1;\"/></g><g class=\"point\"><path d=\"M549.36,360V349.81H553.28V360Z\" style=\"vector-effect: non-scaling-stroke; opacity: 1; stroke-width: 1.5px; fill: rgb(82, 150, 221); fill-opacity: 1; stroke: rgb(229, 236, 246); stroke-opacity: 1;\"/></g><g class=\"point\"><path d=\"M554.26,360V357.09H558.19V360Z\" style=\"vector-effect: non-scaling-stroke; opacity: 1; stroke-width: 1.5px; fill: rgb(82, 150, 221); fill-opacity: 1; stroke: rgb(229, 236, 246); stroke-opacity: 1;\"/></g><g class=\"point\"><path d=\"M559.17,360V339.63H563.09V360Z\" style=\"vector-effect: non-scaling-stroke; opacity: 1; stroke-width: 1.5px; fill: rgb(82, 150, 221); fill-opacity: 1; stroke: rgb(229, 236, 246); stroke-opacity: 1;\"/></g><g class=\"point\"><path d=\"M564.07,360V343.99H567.99V360Z\" style=\"vector-effect: non-scaling-stroke; opacity: 1; stroke-width: 1.5px; fill: rgb(82, 150, 221); fill-opacity: 1; stroke: rgb(229, 236, 246); stroke-opacity: 1;\"/></g><g class=\"point\"><path d=\"M568.97,360V354.18H572.89V360Z\" style=\"vector-effect: non-scaling-stroke; opacity: 1; stroke-width: 1.5px; fill: rgb(82, 150, 221); fill-opacity: 1; stroke: rgb(229, 236, 246); stroke-opacity: 1;\"/></g><g class=\"point\"><path d=\"M573.87,360V332.35H577.79V360Z\" style=\"vector-effect: non-scaling-stroke; opacity: 1; stroke-width: 1.5px; fill: rgb(82, 150, 221); fill-opacity: 1; stroke: rgb(229, 236, 246); stroke-opacity: 1;\"/></g><g class=\"point\"><path d=\"M578.77,360V352.72H582.69V360Z\" style=\"vector-effect: non-scaling-stroke; opacity: 1; stroke-width: 1.5px; fill: rgb(82, 150, 221); fill-opacity: 1; stroke: rgb(229, 236, 246); stroke-opacity: 1;\"/></g><g class=\"point\"><path d=\"M583.67,360V358.54H587.59V360Z\" style=\"vector-effect: non-scaling-stroke; opacity: 1; stroke-width: 1.5px; fill: rgb(82, 150, 221); fill-opacity: 1; stroke: rgb(229, 236, 246); stroke-opacity: 1;\"/></g><g class=\"point\"><path d=\"M588.57,360V338.17H592.49V360Z\" style=\"vector-effect: non-scaling-stroke; opacity: 1; stroke-width: 1.5px; fill: rgb(82, 150, 221); fill-opacity: 1; stroke: rgb(229, 236, 246); stroke-opacity: 1;\"/></g><g class=\"point\"><path d=\"M593.47,360V349.81H597.39V360Z\" style=\"vector-effect: non-scaling-stroke; opacity: 1; stroke-width: 1.5px; fill: rgb(82, 150, 221); fill-opacity: 1; stroke: rgb(229, 236, 246); stroke-opacity: 1;\"/></g><g class=\"point\"><path d=\"M598.37,360V357.09H602.29V360Z\" style=\"vector-effect: non-scaling-stroke; opacity: 1; stroke-width: 1.5px; fill: rgb(82, 150, 221); fill-opacity: 1; stroke: rgb(229, 236, 246); stroke-opacity: 1;\"/></g><g class=\"point\"><path d=\"M603.27,360V345.45H607.19V360Z\" style=\"vector-effect: non-scaling-stroke; opacity: 1; stroke-width: 1.5px; fill: rgb(82, 150, 221); fill-opacity: 1; stroke: rgb(229, 236, 246); stroke-opacity: 1;\"/></g><g class=\"point\"><path d=\"M608.17,360V355.63H612.09V360Z\" style=\"vector-effect: non-scaling-stroke; opacity: 1; stroke-width: 1.5px; fill: rgb(82, 150, 221); fill-opacity: 1; stroke: rgb(229, 236, 246); stroke-opacity: 1;\"/></g><g class=\"point\"><path d=\"M613.07,360V352.72H616.99V360Z\" style=\"vector-effect: non-scaling-stroke; opacity: 1; stroke-width: 1.5px; fill: rgb(82, 150, 221); fill-opacity: 1; stroke: rgb(229, 236, 246); stroke-opacity: 1;\"/></g><g class=\"point\"><path d=\"M617.97,360V352.72H621.89V360Z\" style=\"vector-effect: non-scaling-stroke; opacity: 1; stroke-width: 1.5px; fill: rgb(82, 150, 221); fill-opacity: 1; stroke: rgb(229, 236, 246); stroke-opacity: 1;\"/></g><g class=\"point\"><path d=\"M622.87,360V330.89H626.79V360Z\" style=\"vector-effect: non-scaling-stroke; opacity: 1; stroke-width: 1.5px; fill: rgb(82, 150, 221); fill-opacity: 1; stroke: rgb(229, 236, 246); stroke-opacity: 1;\"/></g><g class=\"point\"><path d=\"M627.77,360V323.62H631.7V360Z\" style=\"vector-effect: non-scaling-stroke; opacity: 1; stroke-width: 1.5px; fill: rgb(82, 150, 221); fill-opacity: 1; stroke: rgb(229, 236, 246); stroke-opacity: 1;\"/></g><g class=\"point\"><path d=\"M632.68,360V343.99H636.6V360Z\" style=\"vector-effect: non-scaling-stroke; opacity: 1; stroke-width: 1.5px; fill: rgb(82, 150, 221); fill-opacity: 1; stroke: rgb(229, 236, 246); stroke-opacity: 1;\"/></g><g class=\"point\"><path d=\"M637.58,360V272.68H641.5V360Z\" style=\"vector-effect: non-scaling-stroke; opacity: 1; stroke-width: 1.5px; fill: rgb(82, 150, 221); fill-opacity: 1; stroke: rgb(229, 236, 246); stroke-opacity: 1;\"/></g><g class=\"point\"><path d=\"M642.48,360V327.98H646.4V360Z\" style=\"vector-effect: non-scaling-stroke; opacity: 1; stroke-width: 1.5px; fill: rgb(82, 150, 221); fill-opacity: 1; stroke: rgb(229, 236, 246); stroke-opacity: 1;\"/></g><g class=\"point\"><path d=\"M647.38,360V323.62H651.3V360Z\" style=\"vector-effect: non-scaling-stroke; opacity: 1; stroke-width: 1.5px; fill: rgb(82, 150, 221); fill-opacity: 1; stroke: rgb(229, 236, 246); stroke-opacity: 1;\"/></g><g class=\"point\"><path d=\"M652.28,360V355.63H656.2V360Z\" style=\"vector-effect: non-scaling-stroke; opacity: 1; stroke-width: 1.5px; fill: rgb(82, 150, 221); fill-opacity: 1; stroke: rgb(229, 236, 246); stroke-opacity: 1;\"/></g><g class=\"point\"><path d=\"M657.18,360V348.36H661.1V360Z\" style=\"vector-effect: non-scaling-stroke; opacity: 1; stroke-width: 1.5px; fill: rgb(82, 150, 221); fill-opacity: 1; stroke: rgb(229, 236, 246); stroke-opacity: 1;\"/></g><g class=\"point\"><path d=\"M662.08,360V354.18H666V360Z\" style=\"vector-effect: non-scaling-stroke; opacity: 1; stroke-width: 1.5px; fill: rgb(82, 150, 221); fill-opacity: 1; stroke: rgb(229, 236, 246); stroke-opacity: 1;\"/></g><g class=\"point\"><path d=\"M666.98,360V349.81H670.9V360Z\" style=\"vector-effect: non-scaling-stroke; opacity: 1; stroke-width: 1.5px; fill: rgb(82, 150, 221); fill-opacity: 1; stroke: rgb(229, 236, 246); stroke-opacity: 1;\"/></g><g class=\"point\"><path d=\"M671.88,360V346.9H675.8V360Z\" style=\"vector-effect: non-scaling-stroke; opacity: 1; stroke-width: 1.5px; fill: rgb(82, 150, 221); fill-opacity: 1; stroke: rgb(229, 236, 246); stroke-opacity: 1;\"/></g><g class=\"point\"><path d=\"M676.78,360V348.36H680.7V360Z\" style=\"vector-effect: non-scaling-stroke; opacity: 1; stroke-width: 1.5px; fill: rgb(82, 150, 221); fill-opacity: 1; stroke: rgb(229, 236, 246); stroke-opacity: 1;\"/></g><g class=\"point\"><path d=\"M681.68,360V346.9H685.6V360Z\" style=\"vector-effect: non-scaling-stroke; opacity: 1; stroke-width: 1.5px; fill: rgb(82, 150, 221); fill-opacity: 1; stroke: rgb(229, 236, 246); stroke-opacity: 1;\"/></g><g class=\"point\"><path d=\"M686.58,360V352.72H690.5V360Z\" style=\"vector-effect: non-scaling-stroke; opacity: 1; stroke-width: 1.5px; fill: rgb(82, 150, 221); fill-opacity: 1; stroke: rgb(229, 236, 246); stroke-opacity: 1;\"/></g><g class=\"point\"><path d=\"M691.48,360V354.18H695.4V360Z\" style=\"vector-effect: non-scaling-stroke; opacity: 1; stroke-width: 1.5px; fill: rgb(82, 150, 221); fill-opacity: 1; stroke: rgb(229, 236, 246); stroke-opacity: 1;\"/></g><g class=\"point\"><path d=\"M696.38,360V358.54H700.3V360Z\" style=\"vector-effect: non-scaling-stroke; opacity: 1; stroke-width: 1.5px; fill: rgb(82, 150, 221); fill-opacity: 1; stroke: rgb(229, 236, 246); stroke-opacity: 1;\"/></g><g class=\"point\"><path d=\"M701.28,360V357.09H705.21V360Z\" style=\"vector-effect: non-scaling-stroke; opacity: 1; stroke-width: 1.5px; fill: rgb(82, 150, 221); fill-opacity: 1; stroke: rgb(229, 236, 246); stroke-opacity: 1;\"/></g><g class=\"point\"><path d=\"M706.19,360V354.18H710.11V360Z\" style=\"vector-effect: non-scaling-stroke; opacity: 1; stroke-width: 1.5px; fill: rgb(82, 150, 221); fill-opacity: 1; stroke: rgb(229, 236, 246); stroke-opacity: 1;\"/></g><g class=\"point\"><path d=\"M711.09,360V355.63H715.01V360Z\" style=\"vector-effect: non-scaling-stroke; opacity: 1; stroke-width: 1.5px; fill: rgb(82, 150, 221); fill-opacity: 1; stroke: rgb(229, 236, 246); stroke-opacity: 1;\"/></g><g class=\"point\"><path d=\"M715.99,360V358.54H719.91V360Z\" style=\"vector-effect: non-scaling-stroke; opacity: 1; stroke-width: 1.5px; fill: rgb(82, 150, 221); fill-opacity: 1; stroke: rgb(229, 236, 246); stroke-opacity: 1;\"/></g><g class=\"point\"><path d=\"M720.89,360V357.09H724.81V360Z\" style=\"vector-effect: non-scaling-stroke; opacity: 1; stroke-width: 1.5px; fill: rgb(82, 150, 221); fill-opacity: 1; stroke: rgb(229, 236, 246); stroke-opacity: 1;\"/></g><g class=\"point\"><path d=\"M725.79,360V358.54H729.71V360Z\" style=\"vector-effect: non-scaling-stroke; opacity: 1; stroke-width: 1.5px; fill: rgb(82, 150, 221); fill-opacity: 1; stroke: rgb(229, 236, 246); stroke-opacity: 1;\"/></g><g class=\"point\"><path d=\"M730.69,360V349.81H734.61V360Z\" style=\"vector-effect: non-scaling-stroke; opacity: 1; stroke-width: 1.5px; fill: rgb(82, 150, 221); fill-opacity: 1; stroke: rgb(229, 236, 246); stroke-opacity: 1;\"/></g><g class=\"point\"><path d=\"M735.59,360V358.54H739.51V360Z\" style=\"vector-effect: non-scaling-stroke; opacity: 1; stroke-width: 1.5px; fill: rgb(82, 150, 221); fill-opacity: 1; stroke: rgb(229, 236, 246); stroke-opacity: 1;\"/></g></g></g></g></g><g class=\"overplot\"/><path class=\"xlines-above crisp\" d=\"M0,0\" style=\"fill: none;\"/><path class=\"ylines-above crisp\" d=\"M0,0\" style=\"fill: none;\"/><g class=\"overlines-above\"/><g class=\"xaxislayer-above\"><g class=\"xtick\"><text text-anchor=\"middle\" x=\"0\" y=\"433\" transform=\"translate(92.25,0)\" style=\"font-family: 'Open Sans', verdana, arial, sans-serif; font-size: 12px; fill: rgb(42, 63, 95); fill-opacity: 1; white-space: pre; opacity: 1;\"><tspan class=\"line\" dy=\"0em\" x=\"0\" y=\"433\">Jan 3</tspan><tspan class=\"line\" dy=\"1.3em\" x=\"0\" y=\"433\">2021</tspan></text></g><g class=\"xtick\"><text text-anchor=\"middle\" x=\"0\" y=\"433\" style=\"font-family: 'Open Sans', verdana, arial, sans-serif; font-size: 12px; fill: rgb(42, 63, 95); fill-opacity: 1; white-space: pre; opacity: 1;\" transform=\"translate(160.86,0)\">Jan 17</text></g><g class=\"xtick\"><text text-anchor=\"middle\" x=\"0\" y=\"433\" style=\"font-family: 'Open Sans', verdana, arial, sans-serif; font-size: 12px; fill: rgb(42, 63, 95); fill-opacity: 1; white-space: pre; opacity: 1;\" transform=\"translate(229.47,0)\">Jan 31</text></g><g class=\"xtick\"><text text-anchor=\"middle\" x=\"0\" y=\"433\" style=\"font-family: 'Open Sans', verdana, arial, sans-serif; font-size: 12px; fill: rgb(42, 63, 95); fill-opacity: 1; white-space: pre; opacity: 1;\" transform=\"translate(298.08000000000004,0)\">Feb 14</text></g><g class=\"xtick\"><text text-anchor=\"middle\" x=\"0\" y=\"433\" style=\"font-family: 'Open Sans', verdana, arial, sans-serif; font-size: 12px; fill: rgb(42, 63, 95); fill-opacity: 1; white-space: pre; opacity: 1;\" transform=\"translate(366.69,0)\">Feb 28</text></g><g class=\"xtick\"><text text-anchor=\"middle\" x=\"0\" y=\"433\" style=\"font-family: 'Open Sans', verdana, arial, sans-serif; font-size: 12px; fill: rgb(42, 63, 95); fill-opacity: 1; white-space: pre; opacity: 1;\" transform=\"translate(435.3,0)\">Mar 14</text></g><g class=\"xtick\"><text text-anchor=\"middle\" x=\"0\" y=\"433\" style=\"font-family: 'Open Sans', verdana, arial, sans-serif; font-size: 12px; fill: rgb(42, 63, 95); fill-opacity: 1; white-space: pre; opacity: 1;\" transform=\"translate(503.91,0)\">Mar 28</text></g><g class=\"xtick\"><text text-anchor=\"middle\" x=\"0\" y=\"433\" style=\"font-family: 'Open Sans', verdana, arial, sans-serif; font-size: 12px; fill: rgb(42, 63, 95); fill-opacity: 1; white-space: pre; opacity: 1;\" transform=\"translate(572.52,0)\">Apr 11</text></g><g class=\"xtick\"><text text-anchor=\"middle\" x=\"0\" y=\"433\" style=\"font-family: 'Open Sans', verdana, arial, sans-serif; font-size: 12px; fill: rgb(42, 63, 95); fill-opacity: 1; white-space: pre; opacity: 1;\" transform=\"translate(641.13,0)\">Apr 25</text></g><g class=\"xtick\"><text text-anchor=\"middle\" x=\"0\" y=\"433\" style=\"font-family: 'Open Sans', verdana, arial, sans-serif; font-size: 12px; fill: rgb(42, 63, 95); fill-opacity: 1; white-space: pre; opacity: 1;\" transform=\"translate(709.74,0)\">May 9</text></g><g class=\"xtick\"><text text-anchor=\"middle\" x=\"0\" y=\"433\" style=\"font-family: 'Open Sans', verdana, arial, sans-serif; font-size: 12px; fill: rgb(42, 63, 95); fill-opacity: 1; white-space: pre; opacity: 1;\" transform=\"translate(778.34,0)\">May 23</text></g></g><g class=\"yaxislayer-above\"><g class=\"ytick\"><text text-anchor=\"end\" x=\"79\" y=\"4.199999999999999\" transform=\"translate(0,420)\" style=\"font-family: 'Open Sans', verdana, arial, sans-serif; font-size: 12px; fill: rgb(42, 63, 95); fill-opacity: 1; white-space: pre; opacity: 1;\">0</text></g><g class=\"ytick\"><text text-anchor=\"end\" x=\"79\" y=\"4.199999999999999\" style=\"font-family: 'Open Sans', verdana, arial, sans-serif; font-size: 12px; fill: rgb(42, 63, 95); fill-opacity: 1; white-space: pre; opacity: 1;\" transform=\"translate(0,347.23)\">50</text></g><g class=\"ytick\"><text text-anchor=\"end\" x=\"79\" y=\"4.199999999999999\" style=\"font-family: 'Open Sans', verdana, arial, sans-serif; font-size: 12px; fill: rgb(42, 63, 95); fill-opacity: 1; white-space: pre; opacity: 1;\" transform=\"translate(0,274.47)\">100</text></g><g class=\"ytick\"><text text-anchor=\"end\" x=\"79\" y=\"4.199999999999999\" style=\"font-family: 'Open Sans', verdana, arial, sans-serif; font-size: 12px; fill: rgb(42, 63, 95); fill-opacity: 1; white-space: pre; opacity: 1;\" transform=\"translate(0,201.7)\">150</text></g><g class=\"ytick\"><text text-anchor=\"end\" x=\"79\" y=\"4.199999999999999\" style=\"font-family: 'Open Sans', verdana, arial, sans-serif; font-size: 12px; fill: rgb(42, 63, 95); fill-opacity: 1; white-space: pre; opacity: 1;\" transform=\"translate(0,128.94)\">200</text></g></g><g class=\"overaxes-above\"/></g></g><g class=\"polarlayer\"/><g class=\"ternarylayer\"/><g class=\"geolayer\"/><g class=\"funnelarealayer\"/><g class=\"pielayer\"/><g class=\"iciclelayer\"/><g class=\"treemaplayer\"/><g class=\"sunburstlayer\"/><g class=\"glimages\"/><defs id=\"topdefs-915ec7\"><g class=\"clips\"/></defs><g class=\"layer-above\"><g class=\"imagelayer\"/><g class=\"shapelayer\"/></g><g class=\"infolayer\"><g class=\"g-gtitle\"><text class=\"gtitle\" x=\"450\" y=\"30\" text-anchor=\"middle\" dy=\"0.7em\" style=\"font-family: 'Open Sans', verdana, arial, sans-serif; font-size: 17px; fill: rgb(42, 63, 95); opacity: 1; font-weight: normal; white-space: pre;\">The number of contributions by users with unverified mails</text></g><g class=\"g-xtitle\"><text class=\"xtitle\" x=\"450\" y=\"476.409375\" text-anchor=\"middle\" style=\"font-family: 'Open Sans', verdana, arial, sans-serif; font-size: 14px; fill: rgb(42, 63, 95); opacity: 1; font-weight: normal; white-space: pre;\">created_at</text></g><g class=\"g-ytitle\"><text class=\"ytitle\" transform=\"rotate(-90,31.309375000000003,240)\" x=\"31.309375000000003\" y=\"240\" text-anchor=\"middle\" style=\"font-family: 'Open Sans', verdana, arial, sans-serif; font-size: 14px; fill: rgb(42, 63, 95); opacity: 1; font-weight: normal; white-space: pre;\">n_contributions</text></g></g></svg>"
      ]
     },
     "metadata": {},
     "output_type": "display_data"
    }
   ],
   "source": [
    "# group by date an count\n",
    "unverified_contributions = df_unverified.groupby(df_unverified.created_at.dt.date).size().reset_index(name='n_contributions')\n",
    "\n",
    "fig = px.bar(unverified_contributions,\n",
    "             x='created_at', y='n_contributions')\n",
    "\n",
    "fig.update_layout(\n",
    "            title={\n",
    "        'text': \"The number of contributions by users with unverified mails\",\n",
    "        'x':0.5,\n",
    "        'xanchor': 'center',\n",
    "        'yanchor': 'top'\n",
    "        })\n",
    "\n",
    "fig.update_traces(marker_color='#5296dd',\n",
    "                  marker_line_width=1.5, opacity=1, textposition='auto').update_layout()\n",
    "fig.show()"
   ]
  },
  {
   "cell_type": "code",
   "execution_count": 94,
   "id": "aa25429c",
   "metadata": {},
   "outputs": [
    {
     "data": {
      "image/svg+xml": [
       "<svg class=\"main-svg\" xmlns=\"http://www.w3.org/2000/svg\" xmlns:xlink=\"http://www.w3.org/1999/xlink\" width=\"900\" height=\"500\" style=\"\" viewBox=\"0 0 900 500\"><rect x=\"0\" y=\"0\" width=\"900\" height=\"500\" style=\"fill: rgb(255, 255, 255); fill-opacity: 1;\"/><defs id=\"defs-bff4f1\"><g class=\"clips\"><clipPath id=\"clipbff4f1xyplot\" class=\"plotclip\"><rect width=\"740\" height=\"348\"/></clipPath><clipPath class=\"axesclip\" id=\"clipbff4f1x\"><rect x=\"80\" y=\"0\" width=\"740\" height=\"500\"/></clipPath><clipPath class=\"axesclip\" id=\"clipbff4f1y\"><rect x=\"0\" y=\"60\" width=\"900\" height=\"348\"/></clipPath><clipPath class=\"axesclip\" id=\"clipbff4f1xy\"><rect x=\"80\" y=\"60\" width=\"740\" height=\"348\"/></clipPath></g><g class=\"gradients\"/><g class=\"patterns\"/></defs><g class=\"bglayer\"><rect class=\"bg\" x=\"80\" y=\"60\" width=\"740\" height=\"348\" style=\"fill: rgb(229, 236, 246); fill-opacity: 1; stroke-width: 0;\"/></g><g class=\"layer-below\"><g class=\"imagelayer\"/><g class=\"shapelayer\"/></g><g class=\"cartesianlayer\"><g class=\"subplot xy\"><g class=\"layer-subplot\"><g class=\"shapelayer\"/><g class=\"imagelayer\"/></g><g class=\"gridlayer\"><g class=\"x\"/><g class=\"y\"><path class=\"ygrid crisp\" transform=\"translate(0,337.66)\" d=\"M80,0h740\" style=\"stroke: rgb(255, 255, 255); stroke-opacity: 1; stroke-width: 1px;\"/><path class=\"ygrid crisp\" transform=\"translate(0,267.32)\" d=\"M80,0h740\" style=\"stroke: rgb(255, 255, 255); stroke-opacity: 1; stroke-width: 1px;\"/><path class=\"ygrid crisp\" transform=\"translate(0,196.98)\" d=\"M80,0h740\" style=\"stroke: rgb(255, 255, 255); stroke-opacity: 1; stroke-width: 1px;\"/><path class=\"ygrid crisp\" transform=\"translate(0,126.64)\" d=\"M80,0h740\" style=\"stroke: rgb(255, 255, 255); stroke-opacity: 1; stroke-width: 1px;\"/></g></g><g class=\"zerolinelayer\"><path class=\"yzl zl crisp\" transform=\"translate(0,408)\" d=\"M80,0h740\" style=\"stroke: rgb(255, 255, 255); stroke-opacity: 1; stroke-width: 2px;\"/></g><path class=\"xlines-below\"/><path class=\"ylines-below\"/><g class=\"overlines-below\"/><g class=\"xaxislayer-below\"/><g class=\"yaxislayer-below\"/><g class=\"overaxes-below\"/><g class=\"plot\" transform=\"translate(80,60)\" clip-path=\"url(#clipbff4f1xyplot)\"><g class=\"barlayer mlayer\"><g class=\"trace bars\" style=\"opacity: 1;\"><g class=\"points\"><g class=\"point\"><path d=\"M2.9,348V257.96H26.12V348Z\" style=\"vector-effect: non-scaling-stroke; opacity: 1; stroke-width: 1.5px; fill: rgb(82, 150, 221); fill-opacity: 1; stroke: rgb(229, 236, 246); stroke-opacity: 1;\"/></g><g class=\"point\"><path d=\"M307.61,348V196.06H330.82V348Z\" style=\"vector-effect: non-scaling-stroke; opacity: 1; stroke-width: 1.5px; fill: rgb(82, 150, 221); fill-opacity: 1; stroke: rgb(229, 236, 246); stroke-opacity: 1;\"/></g><g class=\"point\"><path d=\"M365.65,348V211.54H388.86V348Z\" style=\"vector-effect: non-scaling-stroke; opacity: 1; stroke-width: 1.5px; fill: rgb(82, 150, 221); fill-opacity: 1; stroke: rgb(229, 236, 246); stroke-opacity: 1;\"/></g><g class=\"point\"><path d=\"M394.67,348V257.96H417.88V348Z\" style=\"vector-effect: non-scaling-stroke; opacity: 1; stroke-width: 1.5px; fill: rgb(82, 150, 221); fill-opacity: 1; stroke: rgb(229, 236, 246); stroke-opacity: 1;\"/></g><g class=\"point\"><path d=\"M713.88,348V17.4H737.1V348Z\" style=\"vector-effect: non-scaling-stroke; opacity: 1; stroke-width: 1.5px; fill: rgb(82, 150, 221); fill-opacity: 1; stroke: rgb(229, 236, 246); stroke-opacity: 1;\"/></g></g></g></g></g><g class=\"overplot\"/><path class=\"xlines-above crisp\" d=\"M0,0\" style=\"fill: none;\"/><path class=\"ylines-above crisp\" d=\"M0,0\" style=\"fill: none;\"/><g class=\"overlines-above\"/><g class=\"xaxislayer-above\"><g class=\"xtick\"><text text-anchor=\"start\" x=\"0\" y=\"421\" transform=\"translate(94.51,0) rotate(30,0,415)\" style=\"font-family: 'Open Sans', verdana, arial, sans-serif; font-size: 12px; fill: rgb(42, 63, 95); fill-opacity: 1; white-space: pre; opacity: 1;\">Jan 9, 2021</text></g><g class=\"xtick\"><text text-anchor=\"start\" x=\"0\" y=\"421\" style=\"font-family: 'Open Sans', verdana, arial, sans-serif; font-size: 12px; fill: rgb(42, 63, 95); fill-opacity: 1; white-space: pre; opacity: 1;\" transform=\"translate(399.22,0) rotate(30,0,415)\">Feb 20, 2021</text></g><g class=\"xtick\"><text text-anchor=\"start\" x=\"0\" y=\"421\" style=\"font-family: 'Open Sans', verdana, arial, sans-serif; font-size: 12px; fill: rgb(42, 63, 95); fill-opacity: 1; white-space: pre; opacity: 1;\" transform=\"translate(457.25,0) rotate(30,0,415)\">Feb 28, 2021</text></g><g class=\"xtick\"><text text-anchor=\"start\" x=\"0\" y=\"421\" style=\"font-family: 'Open Sans', verdana, arial, sans-serif; font-size: 12px; fill: rgb(42, 63, 95); fill-opacity: 1; white-space: pre; opacity: 1;\" transform=\"translate(486.27,0) rotate(30,0,415)\">Mar 4, 2021</text></g><g class=\"xtick\"><text text-anchor=\"start\" x=\"0\" y=\"421\" style=\"font-family: 'Open Sans', verdana, arial, sans-serif; font-size: 12px; fill: rgb(42, 63, 95); fill-opacity: 1; white-space: pre; opacity: 1;\" transform=\"translate(805.49,0) rotate(30,0,415)\">Apr 17, 2021</text></g></g><g class=\"yaxislayer-above\"><g class=\"ytick\"><text text-anchor=\"end\" x=\"79\" y=\"4.199999999999999\" transform=\"translate(0,408)\" style=\"font-family: 'Open Sans', verdana, arial, sans-serif; font-size: 12px; fill: rgb(42, 63, 95); fill-opacity: 1; white-space: pre; opacity: 1;\">0</text></g><g class=\"ytick\"><text text-anchor=\"end\" x=\"79\" y=\"4.199999999999999\" style=\"font-family: 'Open Sans', verdana, arial, sans-serif; font-size: 12px; fill: rgb(42, 63, 95); fill-opacity: 1; white-space: pre; opacity: 1;\" transform=\"translate(0,337.66)\">50</text></g><g class=\"ytick\"><text text-anchor=\"end\" x=\"79\" y=\"4.199999999999999\" style=\"font-family: 'Open Sans', verdana, arial, sans-serif; font-size: 12px; fill: rgb(42, 63, 95); fill-opacity: 1; white-space: pre; opacity: 1;\" transform=\"translate(0,267.32)\">100</text></g><g class=\"ytick\"><text text-anchor=\"end\" x=\"79\" y=\"4.199999999999999\" style=\"font-family: 'Open Sans', verdana, arial, sans-serif; font-size: 12px; fill: rgb(42, 63, 95); fill-opacity: 1; white-space: pre; opacity: 1;\" transform=\"translate(0,196.98)\">150</text></g><g class=\"ytick\"><text text-anchor=\"end\" x=\"79\" y=\"4.199999999999999\" style=\"font-family: 'Open Sans', verdana, arial, sans-serif; font-size: 12px; fill: rgb(42, 63, 95); fill-opacity: 1; white-space: pre; opacity: 1;\" transform=\"translate(0,126.64)\">200</text></g></g><g class=\"overaxes-above\"/></g></g><g class=\"polarlayer\"/><g class=\"ternarylayer\"/><g class=\"geolayer\"/><g class=\"funnelarealayer\"/><g class=\"pielayer\"/><g class=\"iciclelayer\"/><g class=\"treemaplayer\"/><g class=\"sunburstlayer\"/><g class=\"glimages\"/><defs id=\"topdefs-bff4f1\"><g class=\"clips\"/></defs><g class=\"layer-above\"><g class=\"imagelayer\"/><g class=\"shapelayer\"/></g><g class=\"infolayer\"><g class=\"g-gtitle\"><text class=\"gtitle\" x=\"450\" y=\"30\" text-anchor=\"middle\" dy=\"0.7em\" style=\"font-family: 'Open Sans', verdana, arial, sans-serif; font-size: 17px; fill: rgb(42, 63, 95); opacity: 1; font-weight: normal; white-space: pre;\">The number of unverified users contributions on peak dates</text></g><g class=\"g-xtitle\"><text class=\"xtitle\" x=\"450\" y=\"487.5001953125\" text-anchor=\"middle\" style=\"font-family: 'Open Sans', verdana, arial, sans-serif; font-size: 14px; fill: rgb(42, 63, 95); opacity: 1; font-weight: normal; white-space: pre;\">Contribution Date</text></g><g class=\"g-ytitle\"><text class=\"ytitle\" transform=\"rotate(-90,31.309375000000003,234)\" x=\"31.309375000000003\" y=\"234\" text-anchor=\"middle\" style=\"font-family: 'Open Sans', verdana, arial, sans-serif; font-size: 14px; fill: rgb(42, 63, 95); opacity: 1; font-weight: normal; white-space: pre;\">n_contributions</text></g></g></svg>"
      ]
     },
     "metadata": {},
     "output_type": "display_data"
    }
   ],
   "source": [
    "# sort by n_contributions, take the top 3, then sort them by date \n",
    "unverified_contributions.sort_values('n_contributions', ascending=False, inplace=True)\n",
    "unverified_trendy = unverified_contributions.head(5)\n",
    "unverified_trendy.sort_values('created_at', inplace=True)\n",
    "\n",
    "fig = px.bar(unverified_trendy,\n",
    "             x='created_at', y='n_contributions')\n",
    "\n",
    "fig.update_layout(\n",
    "            title={\n",
    "        'text': \"The number of unverified users contributions on peak dates\",\n",
    "        'x':0.5,\n",
    "        'xanchor': 'center',\n",
    "        'yanchor': 'top'\n",
    "        })\n",
    "\n",
    "fig.update_layout(\n",
    "    xaxis = dict(\n",
    "        title='Contribution Date',\n",
    "        tickmode = 'array',\n",
    "        tickvals = unverified_trendy.created_at,\n",
    "    )\n",
    ")\n",
    "\n",
    "fig.update_traces(marker_color='#5296dd',\n",
    "                  marker_line_width=1.5, opacity=1, textposition='auto').update_layout()\n",
    "fig.show()"
   ]
  },
  {
   "cell_type": "markdown",
   "id": "f55fe4de",
   "metadata": {},
   "source": [
    "<a id='new_others'></a>\n",
    "># New Vs Others\n",
    "\n",
    "<ul>\n",
    "<li><a href=\"#banned_unverified\">Banned / Unverified</a></li>    \n",
    "<li><a href=\"#explore_banned\">Banned Accounts</a></li>\n",
    "    <br>\n",
    "<li><a href=\"#explore_unverified\">Unverified Accounts</a></li>\n",
    "    <br>\n",
    "<li><a href=\"#new_others\"><b><mark>New Vs Others</mark></b></a></li>\n",
    "<li><a href=\"#explore_new\">New Accounts</a></li>\n",
    "    <br>\n",
    "<li><a href=\"#contributions_scores\">2021 Contributions Scores</a></li>\n",
    "</ul>"
   ]
  },
  {
   "cell_type": "markdown",
   "id": "efed2e29",
   "metadata": {},
   "source": [
    "### Contributions"
   ]
  },
  {
   "cell_type": "code",
   "execution_count": 95,
   "id": "41927f3a",
   "metadata": {},
   "outputs": [
    {
     "data": {
      "image/svg+xml": [
       "<svg class=\"main-svg\" xmlns=\"http://www.w3.org/2000/svg\" xmlns:xlink=\"http://www.w3.org/1999/xlink\" width=\"900\" height=\"500\" style=\"\" viewBox=\"0 0 900 500\"><rect x=\"0\" y=\"0\" width=\"900\" height=\"500\" style=\"fill: rgb(255, 255, 255); fill-opacity: 1;\"/><defs id=\"defs-04d88e\"><g class=\"clips\"/><g class=\"gradients\"/><g class=\"patterns\"/></defs><g class=\"bglayer\"/><g class=\"layer-below\"><g class=\"imagelayer\"/><g class=\"shapelayer\"/></g><g class=\"cartesianlayer\"/><g class=\"polarlayer\"/><g class=\"ternarylayer\"/><g class=\"geolayer\"/><g class=\"funnelarealayer\"/><g class=\"pielayer\"><g class=\"trace\" stroke-linejoin=\"round\" style=\"opacity: 1;\"><g class=\"slice\"><path class=\"surface\" d=\"M432,260l0,-160a160,160 0 0 1 98.38918509334664,286.17277145512486Z\" style=\"pointer-events: all; stroke-width: 0; fill: rgb(76, 120, 168); fill-opacity: 1; stroke: rgb(68, 68, 68); stroke-opacity: 1;\"/><g class=\"slicetext\"><text data-notex=\"1\" class=\"slicetext\" transform=\"translate(509.72701298080995,229.95852424597007)\" text-anchor=\"middle\" x=\"0\" y=\"0\" style=\"font-family: 'Open Sans', verdana, arial, sans-serif; font-size: 12px; fill: rgb(255, 255, 255); fill-opacity: 1; white-space: pre;\"><tspan class=\"line\" dy=\"0em\" x=\"0\" y=\"0\">others</tspan><tspan class=\"line\" dy=\"1.3em\" x=\"0\" y=\"0\">39.5%</tspan></text></g></g><g class=\"slice\"><path class=\"surface\" d=\"M432,260l-155.17545205548507,-38.99460320833968a160,160 0 0 1 155.17545205548507,-121.00539679166032Z\" style=\"pointer-events: all; stroke-width: 0; fill: rgb(245, 133, 24); fill-opacity: 1; stroke: rgb(68, 68, 68); stroke-opacity: 1;\"/><g class=\"slicetext\"><text data-notex=\"1\" class=\"slicetext\" transform=\"translate(371.0362915661992,178.5664874660617)\" text-anchor=\"middle\" x=\"0\" y=\"0\" style=\"font-family: 'Open Sans', verdana, arial, sans-serif; font-size: 12px; fill: rgb(68, 68, 68); fill-opacity: 1; white-space: pre;\"><tspan class=\"line\" dy=\"0em\" x=\"0\" y=\"0\">2020</tspan><tspan class=\"line\" dy=\"1.3em\" x=\"0\" y=\"0\">21.1%</tspan></text></g></g><g class=\"slice\"><path class=\"surface\" d=\"M432,260l-118.74993127859665,107.230843610076a160,160 0 0 1 -36.42552077688842,-146.22544681841566Z\" style=\"pointer-events: all; stroke-width: 0; fill: rgb(228, 87, 86); fill-opacity: 1; stroke: rgb(68, 68, 68); stroke-opacity: 1;\"/><g class=\"slicetext\"><text data-notex=\"1\" class=\"slicetext\" transform=\"translate(326.41097950843846,282.98835705192215)\" text-anchor=\"middle\" x=\"0\" y=\"0\" style=\"font-family: 'Open Sans', verdana, arial, sans-serif; font-size: 12px; fill: rgb(68, 68, 68); fill-opacity: 1; white-space: pre;\"><tspan class=\"line\" dy=\"0em\" x=\"0\" y=\"0\">2019</tspan><tspan class=\"line\" dy=\"1.3em\" x=\"0\" y=\"0\">15.6%</tspan></text></g></g><g class=\"slice\"><path class=\"surface\" d=\"M432,260l-34.303713517159274,156.27941399599842a160,160 0 0 1 -84.44621776143737,-49.04857038592243Z\" style=\"pointer-events: all; stroke-width: 0; fill: rgb(114, 183, 178); fill-opacity: 1; stroke: rgb(68, 68, 68); stroke-opacity: 1;\"/><g class=\"slicetext\"><text data-notex=\"1\" class=\"slicetext\" transform=\"translate(370.3905125101186,362.70022712748244)\" text-anchor=\"middle\" x=\"0\" y=\"0\" style=\"font-family: 'Open Sans', verdana, arial, sans-serif; font-size: 12px; fill: rgb(68, 68, 68); fill-opacity: 1; white-space: pre;\"><tspan class=\"line\" dy=\"0em\" x=\"0\" y=\"0\">2018</tspan><tspan class=\"line\" dy=\"1.3em\" x=\"0\" y=\"0\">9.87%</tspan></text></g></g><g class=\"slice\"><path class=\"surface\" d=\"M432,260l37.728303290818715,155.48818325131978a160,160 0 0 1 -72.03201680797798,0.7912307446786428Z\" style=\"pointer-events: all; stroke-width: 0; fill: rgb(84, 162, 75); fill-opacity: 1; stroke: rgb(68, 68, 68); stroke-opacity: 1;\"/><g class=\"slicetext\"><text data-notex=\"1\" class=\"slicetext\" transform=\"translate(433.4344816295282,387.28756456279905)\" text-anchor=\"middle\" x=\"0\" y=\"0\" style=\"font-family: 'Open Sans', verdana, arial, sans-serif; font-size: 12px; fill: rgb(68, 68, 68); fill-opacity: 1; white-space: pre;\"><tspan class=\"line\" dy=\"0em\" x=\"0\" y=\"0\">banned</tspan><tspan class=\"line\" dy=\"1.3em\" x=\"0\" y=\"0\">7.23%</tspan></text></g></g><g class=\"slice\"><path class=\"surface\" d=\"M432,260l98.38918509334667,126.17277145512486a160,160 0 0 1 -60.66088180252795,29.315411796194923Z\" style=\"pointer-events: all; stroke-width: 0; fill: rgb(238, 202, 59); fill-opacity: 1; stroke: rgb(68, 68, 68); stroke-opacity: 1;\"/><g class=\"slicetext\"><text data-notex=\"1\" class=\"slicetext\" transform=\"translate(489.4718018285664,375.69960169948547)\" text-anchor=\"middle\" x=\"0\" y=\"0\" style=\"font-family: 'Open Sans', verdana, arial, sans-serif; font-size: 12px; fill: rgb(68, 68, 68); fill-opacity: 1; white-space: pre;\"><tspan class=\"line\" dy=\"0em\" x=\"0\" y=\"0\">2021</tspan><tspan class=\"line\" dy=\"1.3em\" x=\"0\" y=\"0\">6.75%</tspan></text></g></g></g></g><g class=\"iciclelayer\"/><g class=\"treemaplayer\"/><g class=\"sunburstlayer\"/><g class=\"glimages\"/><defs id=\"topdefs-04d88e\"><g class=\"clips\"/><clipPath id=\"legend04d88e\"><rect width=\"90\" height=\"124\" x=\"0\" y=\"0\"/></clipPath></defs><g class=\"layer-above\"><g class=\"imagelayer\"/><g class=\"shapelayer\"/></g><g class=\"infolayer\"><g class=\"legend\" pointer-events=\"all\" transform=\"translate(798.08,100)\"><rect class=\"bg\" shape-rendering=\"crispEdges\" width=\"90\" height=\"124\" x=\"0\" y=\"0\" style=\"stroke: rgb(68, 68, 68); stroke-opacity: 1; fill: rgb(255, 255, 255); fill-opacity: 1; stroke-width: 0px;\"/><g class=\"scrollbox\" transform=\"\" clip-path=\"url(#legend04d88e)\"><g class=\"groups\"><g class=\"traces\" transform=\"translate(0,14.5)\" style=\"opacity: 1;\"><text class=\"legendtext\" text-anchor=\"start\" x=\"40\" y=\"4.680000000000001\" style=\"font-family: 'Open Sans', verdana, arial, sans-serif; font-size: 12px; fill: rgb(42, 63, 95); fill-opacity: 1; white-space: pre;\">others</text><g class=\"layers\" style=\"opacity: 1;\"><g class=\"legendfill\"/><g class=\"legendlines\"/><g class=\"legendsymbols\"><g class=\"legendpoints\"><path class=\"legendpie\" d=\"M6,6H-6V-6H6Z\" transform=\"translate(20,0)\" style=\"stroke-width: 0; fill: rgb(76, 120, 168); fill-opacity: 1; stroke: rgb(68, 68, 68); stroke-opacity: 1;\"/></g></g></g><rect class=\"legendtoggle\" x=\"0\" y=\"-9.5\" width=\"84.5\" height=\"19\" style=\"fill: rgb(0, 0, 0); fill-opacity: 0;\"/></g><g class=\"traces\" transform=\"translate(0,33.5)\" style=\"opacity: 1;\"><text class=\"legendtext\" text-anchor=\"start\" x=\"40\" y=\"4.680000000000001\" style=\"font-family: 'Open Sans', verdana, arial, sans-serif; font-size: 12px; fill: rgb(42, 63, 95); fill-opacity: 1; white-space: pre;\">2020</text><g class=\"layers\" style=\"opacity: 1;\"><g class=\"legendfill\"/><g class=\"legendlines\"/><g class=\"legendsymbols\"><g class=\"legendpoints\"><path class=\"legendpie\" d=\"M6,6H-6V-6H6Z\" transform=\"translate(20,0)\" style=\"stroke-width: 0; fill: rgb(245, 133, 24); fill-opacity: 1; stroke: rgb(68, 68, 68); stroke-opacity: 1;\"/></g></g></g><rect class=\"legendtoggle\" x=\"0\" y=\"-9.5\" width=\"84.5\" height=\"19\" style=\"fill: rgb(0, 0, 0); fill-opacity: 0;\"/></g><g class=\"traces\" transform=\"translate(0,52.5)\" style=\"opacity: 1;\"><text class=\"legendtext\" text-anchor=\"start\" x=\"40\" y=\"4.680000000000001\" style=\"font-family: 'Open Sans', verdana, arial, sans-serif; font-size: 12px; fill: rgb(42, 63, 95); fill-opacity: 1; white-space: pre;\">2019</text><g class=\"layers\" style=\"opacity: 1;\"><g class=\"legendfill\"/><g class=\"legendlines\"/><g class=\"legendsymbols\"><g class=\"legendpoints\"><path class=\"legendpie\" d=\"M6,6H-6V-6H6Z\" transform=\"translate(20,0)\" style=\"stroke-width: 0; fill: rgb(228, 87, 86); fill-opacity: 1; stroke: rgb(68, 68, 68); stroke-opacity: 1;\"/></g></g></g><rect class=\"legendtoggle\" x=\"0\" y=\"-9.5\" width=\"84.5\" height=\"19\" style=\"fill: rgb(0, 0, 0); fill-opacity: 0;\"/></g><g class=\"traces\" transform=\"translate(0,71.5)\" style=\"opacity: 1;\"><text class=\"legendtext\" text-anchor=\"start\" x=\"40\" y=\"4.680000000000001\" style=\"font-family: 'Open Sans', verdana, arial, sans-serif; font-size: 12px; fill: rgb(42, 63, 95); fill-opacity: 1; white-space: pre;\">2018</text><g class=\"layers\" style=\"opacity: 1;\"><g class=\"legendfill\"/><g class=\"legendlines\"/><g class=\"legendsymbols\"><g class=\"legendpoints\"><path class=\"legendpie\" d=\"M6,6H-6V-6H6Z\" transform=\"translate(20,0)\" style=\"stroke-width: 0; fill: rgb(114, 183, 178); fill-opacity: 1; stroke: rgb(68, 68, 68); stroke-opacity: 1;\"/></g></g></g><rect class=\"legendtoggle\" x=\"0\" y=\"-9.5\" width=\"84.5\" height=\"19\" style=\"fill: rgb(0, 0, 0); fill-opacity: 0;\"/></g><g class=\"traces\" transform=\"translate(0,90.5)\" style=\"opacity: 1;\"><text class=\"legendtext\" text-anchor=\"start\" x=\"40\" y=\"4.680000000000001\" style=\"font-family: 'Open Sans', verdana, arial, sans-serif; font-size: 12px; fill: rgb(42, 63, 95); fill-opacity: 1; white-space: pre;\">banned</text><g class=\"layers\" style=\"opacity: 1;\"><g class=\"legendfill\"/><g class=\"legendlines\"/><g class=\"legendsymbols\"><g class=\"legendpoints\"><path class=\"legendpie\" d=\"M6,6H-6V-6H6Z\" transform=\"translate(20,0)\" style=\"stroke-width: 0; fill: rgb(84, 162, 75); fill-opacity: 1; stroke: rgb(68, 68, 68); stroke-opacity: 1;\"/></g></g></g><rect class=\"legendtoggle\" x=\"0\" y=\"-9.5\" width=\"84.5\" height=\"19\" style=\"fill: rgb(0, 0, 0); fill-opacity: 0;\"/></g><g class=\"traces\" transform=\"translate(0,109.5)\" style=\"opacity: 1;\"><text class=\"legendtext\" text-anchor=\"start\" x=\"40\" y=\"4.680000000000001\" style=\"font-family: 'Open Sans', verdana, arial, sans-serif; font-size: 12px; fill: rgb(42, 63, 95); fill-opacity: 1; white-space: pre;\">2021</text><g class=\"layers\" style=\"opacity: 1;\"><g class=\"legendfill\"/><g class=\"legendlines\"/><g class=\"legendsymbols\"><g class=\"legendpoints\"><path class=\"legendpie\" d=\"M6,6H-6V-6H6Z\" transform=\"translate(20,0)\" style=\"stroke-width: 0; fill: rgb(238, 202, 59); fill-opacity: 1; stroke: rgb(68, 68, 68); stroke-opacity: 1;\"/></g></g></g><rect class=\"legendtoggle\" x=\"0\" y=\"-9.5\" width=\"84.5\" height=\"19\" style=\"fill: rgb(0, 0, 0); fill-opacity: 0;\"/></g></g></g><rect class=\"scrollbar\" rx=\"20\" ry=\"3\" width=\"0\" height=\"0\" x=\"0\" y=\"0\" style=\"fill: rgb(128, 139, 164); fill-opacity: 1;\"/></g><g class=\"g-gtitle\"><text class=\"gtitle\" x=\"45\" y=\"50\" text-anchor=\"start\" dy=\"0em\" style=\"font-family: 'Open Sans', verdana, arial, sans-serif; font-size: 17px; fill: rgb(42, 63, 95); opacity: 1; font-weight: normal; white-space: pre;\">Contributions of newly created accounts in 2021</text></g></g></svg>"
      ]
     },
     "metadata": {},
     "output_type": "display_data"
    }
   ],
   "source": [
    "fig = px.pie(df_merged.creation_year.value_counts().to_frame().reset_index(),\n",
    "             values='creation_year', names='index', color_discrete_sequence = colors,\n",
    "             title = 'Contributions of newly created accounts in 2021')\n",
    "\n",
    "fig.update_traces(textposition='inside', textinfo='percent+label')\n",
    "\n",
    "fig.show()"
   ]
  },
  {
   "cell_type": "markdown",
   "id": "4a8484d1",
   "metadata": {},
   "source": [
    "**NOTE:** More than 60% of 2021 Contributions were made by newly created accounts (last 4 years)"
   ]
  },
  {
   "cell_type": "code",
   "execution_count": 96,
   "id": "a6751f2f",
   "metadata": {},
   "outputs": [
    {
     "data": {
      "image/svg+xml": [
       "<svg class=\"main-svg\" xmlns=\"http://www.w3.org/2000/svg\" xmlns:xlink=\"http://www.w3.org/1999/xlink\" width=\"900\" height=\"500\" style=\"\" viewBox=\"0 0 900 500\"><rect x=\"0\" y=\"0\" width=\"900\" height=\"500\" style=\"fill: rgb(255, 255, 255); fill-opacity: 1;\"/><defs id=\"defs-29df6a\"><g class=\"clips\"><clipPath id=\"clip29df6axyplot\" class=\"plotclip\"><rect width=\"692\" height=\"320\"/></clipPath><clipPath class=\"axesclip\" id=\"clip29df6ax\"><rect x=\"80\" y=\"0\" width=\"692\" height=\"500\"/></clipPath><clipPath class=\"axesclip\" id=\"clip29df6ay\"><rect x=\"0\" y=\"100\" width=\"900\" height=\"320\"/></clipPath><clipPath class=\"axesclip\" id=\"clip29df6axy\"><rect x=\"80\" y=\"100\" width=\"692\" height=\"320\"/></clipPath></g><g class=\"gradients\"/><g class=\"patterns\"/></defs><g class=\"bglayer\"><rect class=\"bg\" x=\"80\" y=\"100\" width=\"692\" height=\"320\" style=\"fill: rgb(229, 236, 246); fill-opacity: 1; stroke-width: 0;\"/></g><g class=\"layer-below\"><g class=\"imagelayer\"/><g class=\"shapelayer\"/></g><g class=\"cartesianlayer\"><g class=\"subplot xy\"><g class=\"layer-subplot\"><g class=\"shapelayer\"/><g class=\"imagelayer\"/></g><g class=\"gridlayer\"><g class=\"x\"/><g class=\"y\"><path class=\"ygrid crisp\" transform=\"translate(0,377.91)\" d=\"M80,0h692\" style=\"stroke: rgb(255, 255, 255); stroke-opacity: 1; stroke-width: 1px;\"/><path class=\"ygrid crisp\" transform=\"translate(0,335.82)\" d=\"M80,0h692\" style=\"stroke: rgb(255, 255, 255); stroke-opacity: 1; stroke-width: 1px;\"/><path class=\"ygrid crisp\" transform=\"translate(0,293.74)\" d=\"M80,0h692\" style=\"stroke: rgb(255, 255, 255); stroke-opacity: 1; stroke-width: 1px;\"/><path class=\"ygrid crisp\" transform=\"translate(0,251.65)\" d=\"M80,0h692\" style=\"stroke: rgb(255, 255, 255); stroke-opacity: 1; stroke-width: 1px;\"/><path class=\"ygrid crisp\" transform=\"translate(0,209.56)\" d=\"M80,0h692\" style=\"stroke: rgb(255, 255, 255); stroke-opacity: 1; stroke-width: 1px;\"/><path class=\"ygrid crisp\" transform=\"translate(0,167.47)\" d=\"M80,0h692\" style=\"stroke: rgb(255, 255, 255); stroke-opacity: 1; stroke-width: 1px;\"/><path class=\"ygrid crisp\" transform=\"translate(0,125.39)\" d=\"M80,0h692\" style=\"stroke: rgb(255, 255, 255); stroke-opacity: 1; stroke-width: 1px;\"/></g></g><g class=\"zerolinelayer\"><path class=\"yzl zl crisp\" transform=\"translate(0,420)\" d=\"M80,0h692\" style=\"stroke: rgb(255, 255, 255); stroke-opacity: 1; stroke-width: 2px;\"/></g><path class=\"xlines-below\"/><path class=\"ylines-below\"/><g class=\"overlines-below\"/><g class=\"xaxislayer-below\"/><g class=\"yaxislayer-below\"/><g class=\"overaxes-below\"/><g class=\"plot\" transform=\"translate(80,100)\" clip-path=\"url(#clip29df6axyplot)\"><g class=\"barlayer mlayer\"><g class=\"trace bars\" style=\"opacity: 1;\"><g class=\"points\"><g class=\"point\"><path d=\"M11.53,320V243.95H103.8V320Z\" style=\"vector-effect: non-scaling-stroke; opacity: 1; stroke-width: 0px; fill: rgb(76, 120, 168); fill-opacity: 1;\"/></g></g></g><g class=\"trace bars\" style=\"opacity: 1;\"><g class=\"points\"><g class=\"point\"><path d=\"M126.87,320V199.76H219.13V320Z\" style=\"vector-effect: non-scaling-stroke; opacity: 1; stroke-width: 0px; fill: rgb(245, 133, 24); fill-opacity: 1;\"/></g></g></g><g class=\"trace bars\" style=\"opacity: 1;\"><g class=\"points\"><g class=\"point\"><path d=\"M242.2,320V157.58H334.47V320Z\" style=\"vector-effect: non-scaling-stroke; opacity: 1; stroke-width: 0px; fill: rgb(228, 87, 86); fill-opacity: 1;\"/></g></g></g><g class=\"trace bars\" style=\"opacity: 1;\"><g class=\"points\"><g class=\"point\"><path d=\"M357.53,320V267.98H449.8V320Z\" style=\"vector-effect: non-scaling-stroke; opacity: 1; stroke-width: 0px; fill: rgb(114, 183, 178); fill-opacity: 1;\"/></g></g></g><g class=\"trace bars\" style=\"opacity: 1;\"><g class=\"points\"><g class=\"point\"><path d=\"M472.87,320V264.32H565.13V320Z\" style=\"vector-effect: non-scaling-stroke; opacity: 1; stroke-width: 0px; fill: rgb(84, 162, 75); fill-opacity: 1;\"/></g></g></g><g class=\"trace bars\" style=\"opacity: 1;\"><g class=\"points\"><g class=\"point\"><path d=\"M588.2,320V16H680.47V320Z\" style=\"vector-effect: non-scaling-stroke; opacity: 1; stroke-width: 0px; fill: rgb(238, 202, 59); fill-opacity: 1;\"/></g></g></g></g></g><g class=\"overplot\"/><path class=\"xlines-above crisp\" d=\"M0,0\" style=\"fill: none;\"/><path class=\"ylines-above crisp\" d=\"M0,0\" style=\"fill: none;\"/><g class=\"overlines-above\"/><g class=\"xaxislayer-above\"><g class=\"xtick\"><text text-anchor=\"middle\" x=\"0\" y=\"433\" transform=\"translate(137.67000000000002,0)\" style=\"font-family: 'Open Sans', verdana, arial, sans-serif; font-size: 12px; fill: rgb(42, 63, 95); fill-opacity: 1; white-space: pre; opacity: 1;\">2018</text></g><g class=\"xtick\"><text text-anchor=\"middle\" x=\"0\" y=\"433\" transform=\"translate(253,0)\" style=\"font-family: 'Open Sans', verdana, arial, sans-serif; font-size: 12px; fill: rgb(42, 63, 95); fill-opacity: 1; white-space: pre; opacity: 1;\">2019</text></g><g class=\"xtick\"><text text-anchor=\"middle\" x=\"0\" y=\"433\" transform=\"translate(368.33,0)\" style=\"font-family: 'Open Sans', verdana, arial, sans-serif; font-size: 12px; fill: rgb(42, 63, 95); fill-opacity: 1; white-space: pre; opacity: 1;\">2020</text></g><g class=\"xtick\"><text text-anchor=\"middle\" x=\"0\" y=\"433\" transform=\"translate(483.67,0)\" style=\"font-family: 'Open Sans', verdana, arial, sans-serif; font-size: 12px; fill: rgb(42, 63, 95); fill-opacity: 1; white-space: pre; opacity: 1;\">2021</text></g><g class=\"xtick\"><text text-anchor=\"middle\" x=\"0\" y=\"433\" transform=\"translate(599,0)\" style=\"font-family: 'Open Sans', verdana, arial, sans-serif; font-size: 12px; fill: rgb(42, 63, 95); fill-opacity: 1; white-space: pre; opacity: 1;\">banned</text></g><g class=\"xtick\"><text text-anchor=\"middle\" x=\"0\" y=\"433\" transform=\"translate(714.33,0)\" style=\"font-family: 'Open Sans', verdana, arial, sans-serif; font-size: 12px; fill: rgb(42, 63, 95); fill-opacity: 1; white-space: pre; opacity: 1;\">others</text></g></g><g class=\"yaxislayer-above\"><g class=\"ytick\"><text text-anchor=\"end\" x=\"79\" y=\"4.199999999999999\" transform=\"translate(0,420)\" style=\"font-family: 'Open Sans', verdana, arial, sans-serif; font-size: 12px; fill: rgb(42, 63, 95); fill-opacity: 1; white-space: pre; opacity: 1;\">0</text></g><g class=\"ytick\"><text text-anchor=\"end\" x=\"79\" y=\"4.199999999999999\" style=\"font-family: 'Open Sans', verdana, arial, sans-serif; font-size: 12px; fill: rgb(42, 63, 95); fill-opacity: 1; white-space: pre; opacity: 1;\" transform=\"translate(0,377.91)\">1000</text></g><g class=\"ytick\"><text text-anchor=\"end\" x=\"79\" y=\"4.199999999999999\" style=\"font-family: 'Open Sans', verdana, arial, sans-serif; font-size: 12px; fill: rgb(42, 63, 95); fill-opacity: 1; white-space: pre; opacity: 1;\" transform=\"translate(0,335.82)\">2000</text></g><g class=\"ytick\"><text text-anchor=\"end\" x=\"79\" y=\"4.199999999999999\" style=\"font-family: 'Open Sans', verdana, arial, sans-serif; font-size: 12px; fill: rgb(42, 63, 95); fill-opacity: 1; white-space: pre; opacity: 1;\" transform=\"translate(0,293.74)\">3000</text></g><g class=\"ytick\"><text text-anchor=\"end\" x=\"79\" y=\"4.199999999999999\" style=\"font-family: 'Open Sans', verdana, arial, sans-serif; font-size: 12px; fill: rgb(42, 63, 95); fill-opacity: 1; white-space: pre; opacity: 1;\" transform=\"translate(0,251.65)\">4000</text></g><g class=\"ytick\"><text text-anchor=\"end\" x=\"79\" y=\"4.199999999999999\" style=\"font-family: 'Open Sans', verdana, arial, sans-serif; font-size: 12px; fill: rgb(42, 63, 95); fill-opacity: 1; white-space: pre; opacity: 1;\" transform=\"translate(0,209.56)\">5000</text></g><g class=\"ytick\"><text text-anchor=\"end\" x=\"79\" y=\"4.199999999999999\" style=\"font-family: 'Open Sans', verdana, arial, sans-serif; font-size: 12px; fill: rgb(42, 63, 95); fill-opacity: 1; white-space: pre; opacity: 1;\" transform=\"translate(0,167.47)\">6000</text></g><g class=\"ytick\"><text text-anchor=\"end\" x=\"79\" y=\"4.199999999999999\" style=\"font-family: 'Open Sans', verdana, arial, sans-serif; font-size: 12px; fill: rgb(42, 63, 95); fill-opacity: 1; white-space: pre; opacity: 1;\" transform=\"translate(0,125.39)\">7000</text></g></g><g class=\"overaxes-above\"/></g></g><g class=\"polarlayer\"/><g class=\"ternarylayer\"/><g class=\"geolayer\"/><g class=\"funnelarealayer\"/><g class=\"pielayer\"/><g class=\"iciclelayer\"/><g class=\"treemaplayer\"/><g class=\"sunburstlayer\"/><g class=\"glimages\"/><defs id=\"topdefs-29df6a\"><g class=\"clips\"/><clipPath id=\"legend29df6a\"><rect width=\"102\" height=\"143\" x=\"0\" y=\"0\"/></clipPath></defs><g class=\"layer-above\"><g class=\"imagelayer\"/><g class=\"shapelayer\"/></g><g class=\"infolayer\"><g class=\"legend\" pointer-events=\"all\" transform=\"translate(785.84,100)\"><rect class=\"bg\" shape-rendering=\"crispEdges\" width=\"102\" height=\"143\" x=\"0\" y=\"0\" style=\"stroke: rgb(68, 68, 68); stroke-opacity: 1; fill: rgb(255, 255, 255); fill-opacity: 1; stroke-width: 0px;\"/><g class=\"scrollbox\" transform=\"\" clip-path=\"url(#legend29df6a)\"><text class=\"legendtitletext\" text-anchor=\"start\" x=\"2\" y=\"18.2\" style=\"font-family: 'Open Sans', verdana, arial, sans-serif; font-size: 14px; fill: rgb(42, 63, 95); fill-opacity: 1; white-space: pre;\">creation_year</text><g class=\"groups\" transform=\"\"><g class=\"traces\" transform=\"translate(0,32.7)\" style=\"opacity: 1;\"><text class=\"legendtext\" text-anchor=\"start\" x=\"40\" y=\"4.680000000000001\" style=\"font-family: 'Open Sans', verdana, arial, sans-serif; font-size: 12px; fill: rgb(42, 63, 95); fill-opacity: 1; white-space: pre;\">2018</text><g class=\"layers\" style=\"opacity: 1;\"><g class=\"legendfill\"/><g class=\"legendlines\"/><g class=\"legendsymbols\"><g class=\"legendpoints\"><path class=\"legendundefined\" d=\"M6,6H-6V-6H6Z\" transform=\"translate(20,0)\" style=\"stroke-width: 0px; fill: rgb(76, 120, 168); fill-opacity: 1;\"/></g></g></g><rect class=\"legendtoggle\" x=\"0\" y=\"-9.5\" width=\"84.5\" height=\"19\" style=\"fill: rgb(0, 0, 0); fill-opacity: 0;\"/></g></g><g class=\"groups\" transform=\"\"><g class=\"traces\" transform=\"translate(0,51.7)\" style=\"opacity: 1;\"><text class=\"legendtext\" text-anchor=\"start\" x=\"40\" y=\"4.680000000000001\" style=\"font-family: 'Open Sans', verdana, arial, sans-serif; font-size: 12px; fill: rgb(42, 63, 95); fill-opacity: 1; white-space: pre;\">2019</text><g class=\"layers\" style=\"opacity: 1;\"><g class=\"legendfill\"/><g class=\"legendlines\"/><g class=\"legendsymbols\"><g class=\"legendpoints\"><path class=\"legendundefined\" d=\"M6,6H-6V-6H6Z\" transform=\"translate(20,0)\" style=\"stroke-width: 0px; fill: rgb(245, 133, 24); fill-opacity: 1;\"/></g></g></g><rect class=\"legendtoggle\" x=\"0\" y=\"-9.5\" width=\"84.5\" height=\"19\" style=\"fill: rgb(0, 0, 0); fill-opacity: 0;\"/></g></g><g class=\"groups\" transform=\"\"><g class=\"traces\" transform=\"translate(0,70.7)\" style=\"opacity: 1;\"><text class=\"legendtext\" text-anchor=\"start\" x=\"40\" y=\"4.680000000000001\" style=\"font-family: 'Open Sans', verdana, arial, sans-serif; font-size: 12px; fill: rgb(42, 63, 95); fill-opacity: 1; white-space: pre;\">2020</text><g class=\"layers\" style=\"opacity: 1;\"><g class=\"legendfill\"/><g class=\"legendlines\"/><g class=\"legendsymbols\"><g class=\"legendpoints\"><path class=\"legendundefined\" d=\"M6,6H-6V-6H6Z\" transform=\"translate(20,0)\" style=\"stroke-width: 0px; fill: rgb(228, 87, 86); fill-opacity: 1;\"/></g></g></g><rect class=\"legendtoggle\" x=\"0\" y=\"-9.5\" width=\"84.5\" height=\"19\" style=\"fill: rgb(0, 0, 0); fill-opacity: 0;\"/></g></g><g class=\"groups\" transform=\"\"><g class=\"traces\" transform=\"translate(0,89.7)\" style=\"opacity: 1;\"><text class=\"legendtext\" text-anchor=\"start\" x=\"40\" y=\"4.680000000000001\" style=\"font-family: 'Open Sans', verdana, arial, sans-serif; font-size: 12px; fill: rgb(42, 63, 95); fill-opacity: 1; white-space: pre;\">2021</text><g class=\"layers\" style=\"opacity: 1;\"><g class=\"legendfill\"/><g class=\"legendlines\"/><g class=\"legendsymbols\"><g class=\"legendpoints\"><path class=\"legendundefined\" d=\"M6,6H-6V-6H6Z\" transform=\"translate(20,0)\" style=\"stroke-width: 0px; fill: rgb(114, 183, 178); fill-opacity: 1;\"/></g></g></g><rect class=\"legendtoggle\" x=\"0\" y=\"-9.5\" width=\"84.5\" height=\"19\" style=\"fill: rgb(0, 0, 0); fill-opacity: 0;\"/></g></g><g class=\"groups\" transform=\"\"><g class=\"traces\" transform=\"translate(0,108.7)\" style=\"opacity: 1;\"><text class=\"legendtext\" text-anchor=\"start\" x=\"40\" y=\"4.680000000000001\" style=\"font-family: 'Open Sans', verdana, arial, sans-serif; font-size: 12px; fill: rgb(42, 63, 95); fill-opacity: 1; white-space: pre;\">banned</text><g class=\"layers\" style=\"opacity: 1;\"><g class=\"legendfill\"/><g class=\"legendlines\"/><g class=\"legendsymbols\"><g class=\"legendpoints\"><path class=\"legendundefined\" d=\"M6,6H-6V-6H6Z\" transform=\"translate(20,0)\" style=\"stroke-width: 0px; fill: rgb(84, 162, 75); fill-opacity: 1;\"/></g></g></g><rect class=\"legendtoggle\" x=\"0\" y=\"-9.5\" width=\"84.5\" height=\"19\" style=\"fill: rgb(0, 0, 0); fill-opacity: 0;\"/></g></g><g class=\"groups\" transform=\"\"><g class=\"traces\" transform=\"translate(0,127.7)\" style=\"opacity: 1;\"><text class=\"legendtext\" text-anchor=\"start\" x=\"40\" y=\"4.680000000000001\" style=\"font-family: 'Open Sans', verdana, arial, sans-serif; font-size: 12px; fill: rgb(42, 63, 95); fill-opacity: 1; white-space: pre;\">others</text><g class=\"layers\" style=\"opacity: 1;\"><g class=\"legendfill\"/><g class=\"legendlines\"/><g class=\"legendsymbols\"><g class=\"legendpoints\"><path class=\"legendundefined\" d=\"M6,6H-6V-6H6Z\" transform=\"translate(20,0)\" style=\"stroke-width: 0px; fill: rgb(238, 202, 59); fill-opacity: 1;\"/></g></g></g><rect class=\"legendtoggle\" x=\"0\" y=\"-9.5\" width=\"84.5\" height=\"19\" style=\"fill: rgb(0, 0, 0); fill-opacity: 0;\"/></g></g></g><rect class=\"scrollbar\" rx=\"20\" ry=\"3\" width=\"0\" height=\"0\" x=\"0\" y=\"0\" style=\"fill: rgb(128, 139, 164); fill-opacity: 1;\"/></g><g class=\"g-gtitle\"><text class=\"gtitle\" x=\"45\" y=\"50\" text-anchor=\"start\" dy=\"0em\" style=\"font-family: 'Open Sans', verdana, arial, sans-serif; font-size: 17px; fill: rgb(42, 63, 95); opacity: 1; font-weight: normal; white-space: pre;\">Contributions of newly created accounts in 2021</text></g><g class=\"g-xtitle\"><text class=\"xtitle\" x=\"426\" y=\"460.8\" text-anchor=\"middle\" style=\"font-family: 'Open Sans', verdana, arial, sans-serif; font-size: 14px; fill: rgb(42, 63, 95); opacity: 1; font-weight: normal; white-space: pre;\">creation_year</text></g><g class=\"g-ytitle\"><text class=\"ytitle\" transform=\"rotate(-90,23.684375000000003,260)\" x=\"23.684375000000003\" y=\"260\" text-anchor=\"middle\" style=\"font-family: 'Open Sans', verdana, arial, sans-serif; font-size: 14px; fill: rgb(42, 63, 95); opacity: 1; font-weight: normal; white-space: pre;\">count</text></g></g></svg>"
      ]
     },
     "metadata": {},
     "output_type": "display_data"
    }
   ],
   "source": [
    "fig = px.histogram(df_merged, x='creation_year', color=\"creation_year\", \n",
    "                    color_discrete_sequence = colors,\n",
    "                   category_orders = dict(creation_year=['2018', '2019', '2020', '2021', 'banned', 'others']),\n",
    "                   title = 'Contributions of newly created accounts in 2021')\n",
    "fig.show()"
   ]
  },
  {
   "cell_type": "code",
   "execution_count": 97,
   "id": "3a541f95",
   "metadata": {},
   "outputs": [
    {
     "data": {
      "image/svg+xml": [
       "<svg class=\"main-svg\" xmlns=\"http://www.w3.org/2000/svg\" xmlns:xlink=\"http://www.w3.org/1999/xlink\" width=\"900\" height=\"500\" style=\"\" viewBox=\"0 0 900 500\"><rect x=\"0\" y=\"0\" width=\"900\" height=\"500\" style=\"fill: rgb(255, 255, 255); fill-opacity: 1;\"/><defs id=\"defs-e33a53\"><g class=\"clips\"/><g class=\"gradients\"/><g class=\"patterns\"/></defs><g class=\"bglayer\"/><g class=\"layer-below\"><g class=\"imagelayer\"/><g class=\"shapelayer\"/></g><g class=\"cartesianlayer\"/><g class=\"polarlayer\"/><g class=\"ternarylayer\"/><g class=\"geolayer\"/><g class=\"funnelarealayer\"/><g class=\"pielayer\"><g class=\"trace\" stroke-linejoin=\"round\" style=\"opacity: 1;\"><g class=\"slice\"><path class=\"surface\" d=\"M432,260l0,-160a160,160 0 0 1 86.24437317538167,294.7661236942931Z\" style=\"pointer-events: all; stroke-width: 0; fill: rgb(76, 120, 168); fill-opacity: 1; stroke: rgb(68, 68, 68); stroke-opacity: 1;\"/><g class=\"slicetext\"><text data-notex=\"1\" class=\"slicetext\" transform=\"translate(510.31839326747263,233.76903599445387)\" text-anchor=\"middle\" x=\"0\" y=\"0\" style=\"font-family: 'Open Sans', verdana, arial, sans-serif; font-size: 12px; fill: rgb(255, 255, 255); fill-opacity: 1; white-space: pre;\"><tspan class=\"line\" dy=\"0em\" x=\"0\" y=\"0\">others</tspan><tspan class=\"line\" dy=\"1.3em\" x=\"0\" y=\"0\">40.9%</tspan></text></g></g><g class=\"slice\"><path class=\"surface\" d=\"M432,260l-157.69768952850092,-27.045123726330655a160,160 0 0 1 157.69768952850092,-132.95487627366936Z\" style=\"pointer-events: all; stroke-width: 0; fill: rgb(245, 133, 24); fill-opacity: 1; stroke: rgb(68, 68, 68); stroke-opacity: 1;\"/><g class=\"slicetext\"><text data-notex=\"1\" class=\"slicetext\" transform=\"translate(369.25018692386027,182.31413332384483)\" text-anchor=\"middle\" x=\"0\" y=\"0\" style=\"font-family: 'Open Sans', verdana, arial, sans-serif; font-size: 12px; fill: rgb(68, 68, 68); fill-opacity: 1; white-space: pre;\"><tspan class=\"line\" dy=\"0em\" x=\"0\" y=\"0\">2020</tspan><tspan class=\"line\" dy=\"1.3em\" x=\"0\" y=\"0\">22.3%</tspan></text></g></g><g class=\"slice\"><path class=\"surface\" d=\"M432,260l-128.71179230693838,95.04354013364377a160,160 0 0 1 -28.98589722156254,-122.08866385997443Z\" style=\"pointer-events: all; stroke-width: 0; fill: rgb(228, 87, 86); fill-opacity: 1; stroke: rgb(68, 68, 68); stroke-opacity: 1;\"/><g class=\"slicetext\"><text data-notex=\"1\" class=\"slicetext\" transform=\"translate(320.1376934773431,283.24402681748927)\" text-anchor=\"middle\" x=\"0\" y=\"0\" style=\"font-family: 'Open Sans', verdana, arial, sans-serif; font-size: 12px; fill: rgb(68, 68, 68); fill-opacity: 1; white-space: pre;\"><tspan class=\"line\" dy=\"0em\" x=\"0\" y=\"0\">2019</tspan><tspan class=\"line\" dy=\"1.3em\" x=\"0\" y=\"0\">12.8%</tspan></text></g></g><g class=\"slice\"><path class=\"surface\" d=\"M432,260l-39.688716689293265,154.99937344246592a160,160 0 0 1 -89.0230756176451,-59.95583330882215Z\" style=\"pointer-events: all; stroke-width: 0; fill: rgb(114, 183, 178); fill-opacity: 1; stroke: rgb(68, 68, 68); stroke-opacity: 1;\"/><g class=\"slicetext\"><text data-notex=\"1\" class=\"slicetext\" transform=\"translate(365.03183812439784,356.07236967549255)\" text-anchor=\"middle\" x=\"0\" y=\"0\" style=\"font-family: 'Open Sans', verdana, arial, sans-serif; font-size: 12px; fill: rgb(68, 68, 68); fill-opacity: 1; white-space: pre;\"><tspan class=\"line\" dy=\"0em\" x=\"0\" y=\"0\">2018</tspan><tspan class=\"line\" dy=\"1.3em\" x=\"0\" y=\"0\">10.9%</tspan></text></g></g><g class=\"slice\"><path class=\"surface\" d=\"M432,260l37.506143281962444,155.54192108918068a160,160 0 0 1 -77.19485997125571,-0.5425476467147519Z\" style=\"pointer-events: all; stroke-width: 0; fill: rgb(84, 162, 75); fill-opacity: 1; stroke: rgb(68, 68, 68); stroke-opacity: 1;\"/><g class=\"slicetext\"><text data-notex=\"1\" class=\"slicetext\" transform=\"translate(431.0549900001295,385.59549447900645)\" text-anchor=\"middle\" x=\"0\" y=\"0\" style=\"font-family: 'Open Sans', verdana, arial, sans-serif; font-size: 12px; fill: rgb(68, 68, 68); fill-opacity: 1; white-space: pre;\"><tspan class=\"line\" dy=\"0em\" x=\"0\" y=\"0\">2021</tspan><tspan class=\"line\" dy=\"1.3em\" x=\"0\" y=\"0\">7.76%</tspan></text></g></g><g class=\"slice\"><path class=\"surface\" d=\"M432,260l86.24437317538151,134.76612369429319a160,160 0 0 1 -48.73822989341907,20.77579739488749Z\" style=\"pointer-events: all; stroke-width: 0; fill: rgb(238, 202, 59); fill-opacity: 1; stroke: rgb(68, 68, 68); stroke-opacity: 1;\"/><g class=\"slicetext\"><text data-notex=\"1\" class=\"slicetext\" transform=\"translate(487.16179432739006,380.9773357633016)rotate(66.91275167785238)\" text-anchor=\"middle\" x=\"0\" y=\"0\" style=\"font-family: 'Open Sans', verdana, arial, sans-serif; font-size: 12px; fill: rgb(68, 68, 68); fill-opacity: 1; white-space: pre;\"><tspan class=\"line\" dy=\"0em\" x=\"0\" y=\"0\">banned</tspan><tspan class=\"line\" dy=\"1.3em\" x=\"0\" y=\"0\">5.29%</tspan></text></g></g></g></g><g class=\"iciclelayer\"/><g class=\"treemaplayer\"/><g class=\"sunburstlayer\"/><g class=\"glimages\"/><defs id=\"topdefs-e33a53\"><g class=\"clips\"/><clipPath id=\"legende33a53\"><rect width=\"90\" height=\"124\" x=\"0\" y=\"0\"/></clipPath></defs><g class=\"layer-above\"><g class=\"imagelayer\"/><g class=\"shapelayer\"/></g><g class=\"infolayer\"><g class=\"legend\" pointer-events=\"all\" transform=\"translate(798.08,100)\"><rect class=\"bg\" shape-rendering=\"crispEdges\" width=\"90\" height=\"124\" x=\"0\" y=\"0\" style=\"stroke: rgb(68, 68, 68); stroke-opacity: 1; fill: rgb(255, 255, 255); fill-opacity: 1; stroke-width: 0px;\"/><g class=\"scrollbox\" transform=\"\" clip-path=\"url(#legende33a53)\"><g class=\"groups\"><g class=\"traces\" transform=\"translate(0,14.5)\" style=\"opacity: 1;\"><text class=\"legendtext\" text-anchor=\"start\" x=\"40\" y=\"4.680000000000001\" style=\"font-family: 'Open Sans', verdana, arial, sans-serif; font-size: 12px; fill: rgb(42, 63, 95); fill-opacity: 1; white-space: pre;\">others</text><g class=\"layers\" style=\"opacity: 1;\"><g class=\"legendfill\"/><g class=\"legendlines\"/><g class=\"legendsymbols\"><g class=\"legendpoints\"><path class=\"legendpie\" d=\"M6,6H-6V-6H6Z\" transform=\"translate(20,0)\" style=\"stroke-width: 0; fill: rgb(76, 120, 168); fill-opacity: 1; stroke: rgb(68, 68, 68); stroke-opacity: 1;\"/></g></g></g><rect class=\"legendtoggle\" x=\"0\" y=\"-9.5\" width=\"84.5\" height=\"19\" style=\"fill: rgb(0, 0, 0); fill-opacity: 0;\"/></g><g class=\"traces\" transform=\"translate(0,33.5)\" style=\"opacity: 1;\"><text class=\"legendtext\" text-anchor=\"start\" x=\"40\" y=\"4.680000000000001\" style=\"font-family: 'Open Sans', verdana, arial, sans-serif; font-size: 12px; fill: rgb(42, 63, 95); fill-opacity: 1; white-space: pre;\">2020</text><g class=\"layers\" style=\"opacity: 1;\"><g class=\"legendfill\"/><g class=\"legendlines\"/><g class=\"legendsymbols\"><g class=\"legendpoints\"><path class=\"legendpie\" d=\"M6,6H-6V-6H6Z\" transform=\"translate(20,0)\" style=\"stroke-width: 0; fill: rgb(245, 133, 24); fill-opacity: 1; stroke: rgb(68, 68, 68); stroke-opacity: 1;\"/></g></g></g><rect class=\"legendtoggle\" x=\"0\" y=\"-9.5\" width=\"84.5\" height=\"19\" style=\"fill: rgb(0, 0, 0); fill-opacity: 0;\"/></g><g class=\"traces\" transform=\"translate(0,52.5)\" style=\"opacity: 1;\"><text class=\"legendtext\" text-anchor=\"start\" x=\"40\" y=\"4.680000000000001\" style=\"font-family: 'Open Sans', verdana, arial, sans-serif; font-size: 12px; fill: rgb(42, 63, 95); fill-opacity: 1; white-space: pre;\">2019</text><g class=\"layers\" style=\"opacity: 1;\"><g class=\"legendfill\"/><g class=\"legendlines\"/><g class=\"legendsymbols\"><g class=\"legendpoints\"><path class=\"legendpie\" d=\"M6,6H-6V-6H6Z\" transform=\"translate(20,0)\" style=\"stroke-width: 0; fill: rgb(228, 87, 86); fill-opacity: 1; stroke: rgb(68, 68, 68); stroke-opacity: 1;\"/></g></g></g><rect class=\"legendtoggle\" x=\"0\" y=\"-9.5\" width=\"84.5\" height=\"19\" style=\"fill: rgb(0, 0, 0); fill-opacity: 0;\"/></g><g class=\"traces\" transform=\"translate(0,71.5)\" style=\"opacity: 1;\"><text class=\"legendtext\" text-anchor=\"start\" x=\"40\" y=\"4.680000000000001\" style=\"font-family: 'Open Sans', verdana, arial, sans-serif; font-size: 12px; fill: rgb(42, 63, 95); fill-opacity: 1; white-space: pre;\">2018</text><g class=\"layers\" style=\"opacity: 1;\"><g class=\"legendfill\"/><g class=\"legendlines\"/><g class=\"legendsymbols\"><g class=\"legendpoints\"><path class=\"legendpie\" d=\"M6,6H-6V-6H6Z\" transform=\"translate(20,0)\" style=\"stroke-width: 0; fill: rgb(114, 183, 178); fill-opacity: 1; stroke: rgb(68, 68, 68); stroke-opacity: 1;\"/></g></g></g><rect class=\"legendtoggle\" x=\"0\" y=\"-9.5\" width=\"84.5\" height=\"19\" style=\"fill: rgb(0, 0, 0); fill-opacity: 0;\"/></g><g class=\"traces\" transform=\"translate(0,90.5)\" style=\"opacity: 1;\"><text class=\"legendtext\" text-anchor=\"start\" x=\"40\" y=\"4.680000000000001\" style=\"font-family: 'Open Sans', verdana, arial, sans-serif; font-size: 12px; fill: rgb(42, 63, 95); fill-opacity: 1; white-space: pre;\">2021</text><g class=\"layers\" style=\"opacity: 1;\"><g class=\"legendfill\"/><g class=\"legendlines\"/><g class=\"legendsymbols\"><g class=\"legendpoints\"><path class=\"legendpie\" d=\"M6,6H-6V-6H6Z\" transform=\"translate(20,0)\" style=\"stroke-width: 0; fill: rgb(84, 162, 75); fill-opacity: 1; stroke: rgb(68, 68, 68); stroke-opacity: 1;\"/></g></g></g><rect class=\"legendtoggle\" x=\"0\" y=\"-9.5\" width=\"84.5\" height=\"19\" style=\"fill: rgb(0, 0, 0); fill-opacity: 0;\"/></g><g class=\"traces\" transform=\"translate(0,109.5)\" style=\"opacity: 1;\"><text class=\"legendtext\" text-anchor=\"start\" x=\"40\" y=\"4.680000000000001\" style=\"font-family: 'Open Sans', verdana, arial, sans-serif; font-size: 12px; fill: rgb(42, 63, 95); fill-opacity: 1; white-space: pre;\">banned</text><g class=\"layers\" style=\"opacity: 1;\"><g class=\"legendfill\"/><g class=\"legendlines\"/><g class=\"legendsymbols\"><g class=\"legendpoints\"><path class=\"legendpie\" d=\"M6,6H-6V-6H6Z\" transform=\"translate(20,0)\" style=\"stroke-width: 0; fill: rgb(238, 202, 59); fill-opacity: 1; stroke: rgb(68, 68, 68); stroke-opacity: 1;\"/></g></g></g><rect class=\"legendtoggle\" x=\"0\" y=\"-9.5\" width=\"84.5\" height=\"19\" style=\"fill: rgb(0, 0, 0); fill-opacity: 0;\"/></g></g></g><rect class=\"scrollbar\" rx=\"20\" ry=\"3\" width=\"0\" height=\"0\" x=\"0\" y=\"0\" style=\"fill: rgb(128, 139, 164); fill-opacity: 1;\"/></g><g class=\"g-gtitle\"><text class=\"gtitle\" x=\"45\" y=\"50\" text-anchor=\"start\" dy=\"0em\" style=\"font-family: 'Open Sans', verdana, arial, sans-serif; font-size: 17px; fill: rgb(42, 63, 95); opacity: 1; font-weight: normal; white-space: pre;\">Contributions of newly created accounts on the peak day (2021-04-17)</text></g></g></svg>"
      ]
     },
     "metadata": {},
     "output_type": "display_data"
    }
   ],
   "source": [
    "fig = px.pie(df_peak.creation_year.value_counts().to_frame().reset_index(),\n",
    "             values='creation_year', names='index', color_discrete_sequence = colors,\n",
    "             title = 'Contributions of newly created accounts on the peak day (2021-04-17)')\n",
    "\n",
    "fig.update_traces(textposition='inside', textinfo='percent+label')\n",
    "\n",
    "fig.show()"
   ]
  },
  {
   "cell_type": "markdown",
   "id": "290a9589",
   "metadata": {},
   "source": [
    "**NOTE:** About 60% of 2021 Contributions were made by newly created accounts (last 4 years)"
   ]
  },
  {
   "cell_type": "code",
   "execution_count": 98,
   "id": "cc646f8a",
   "metadata": {},
   "outputs": [
    {
     "data": {
      "image/svg+xml": [
       "<svg class=\"main-svg\" xmlns=\"http://www.w3.org/2000/svg\" xmlns:xlink=\"http://www.w3.org/1999/xlink\" width=\"900\" height=\"500\" style=\"\" viewBox=\"0 0 900 500\"><rect x=\"0\" y=\"0\" width=\"900\" height=\"500\" style=\"fill: rgb(255, 255, 255); fill-opacity: 1;\"/><defs id=\"defs-d84b16\"><g class=\"clips\"><clipPath id=\"clipd84b16xyplot\" class=\"plotclip\"><rect width=\"692\" height=\"320\"/></clipPath><clipPath class=\"axesclip\" id=\"clipd84b16x\"><rect x=\"80\" y=\"0\" width=\"692\" height=\"500\"/></clipPath><clipPath class=\"axesclip\" id=\"clipd84b16y\"><rect x=\"0\" y=\"100\" width=\"900\" height=\"320\"/></clipPath><clipPath class=\"axesclip\" id=\"clipd84b16xy\"><rect x=\"80\" y=\"100\" width=\"692\" height=\"320\"/></clipPath></g><g class=\"gradients\"/><g class=\"patterns\"/></defs><g class=\"bglayer\"><rect class=\"bg\" x=\"80\" y=\"100\" width=\"692\" height=\"320\" style=\"fill: rgb(229, 236, 246); fill-opacity: 1; stroke-width: 0;\"/></g><g class=\"layer-below\"><g class=\"imagelayer\"/><g class=\"shapelayer\"/></g><g class=\"cartesianlayer\"><g class=\"subplot xy\"><g class=\"layer-subplot\"><g class=\"shapelayer\"/><g class=\"imagelayer\"/></g><g class=\"gridlayer\"><g class=\"x\"/><g class=\"y\"><path class=\"ygrid crisp\" transform=\"translate(0,364.63)\" d=\"M80,0h692\" style=\"stroke: rgb(255, 255, 255); stroke-opacity: 1; stroke-width: 1px;\"/><path class=\"ygrid crisp\" transform=\"translate(0,309.25)\" d=\"M80,0h692\" style=\"stroke: rgb(255, 255, 255); stroke-opacity: 1; stroke-width: 1px;\"/><path class=\"ygrid crisp\" transform=\"translate(0,253.88)\" d=\"M80,0h692\" style=\"stroke: rgb(255, 255, 255); stroke-opacity: 1; stroke-width: 1px;\"/><path class=\"ygrid crisp\" transform=\"translate(0,198.51)\" d=\"M80,0h692\" style=\"stroke: rgb(255, 255, 255); stroke-opacity: 1; stroke-width: 1px;\"/><path class=\"ygrid crisp\" transform=\"translate(0,143.13)\" d=\"M80,0h692\" style=\"stroke: rgb(255, 255, 255); stroke-opacity: 1; stroke-width: 1px;\"/></g></g><g class=\"zerolinelayer\"><path class=\"yzl zl crisp\" transform=\"translate(0,420)\" d=\"M80,0h692\" style=\"stroke: rgb(255, 255, 255); stroke-opacity: 1; stroke-width: 2px;\"/></g><path class=\"xlines-below\"/><path class=\"ylines-below\"/><g class=\"overlines-below\"/><g class=\"xaxislayer-below\"/><g class=\"yaxislayer-below\"/><g class=\"overaxes-below\"/><g class=\"plot\" transform=\"translate(80,100)\" clip-path=\"url(#clipd84b16xyplot)\"><g class=\"barlayer mlayer\"><g class=\"trace bars\" style=\"opacity: 1;\"><g class=\"points\"><g class=\"point\"><path d=\"M11.53,320V239.15H103.8V320Z\" style=\"vector-effect: non-scaling-stroke; opacity: 1; stroke-width: 0px; fill: rgb(76, 120, 168); fill-opacity: 1;\"/></g></g></g><g class=\"trace bars\" style=\"opacity: 1;\"><g class=\"points\"><g class=\"point\"><path d=\"M126.87,320V224.76H219.13V320Z\" style=\"vector-effect: non-scaling-stroke; opacity: 1; stroke-width: 0px; fill: rgb(245, 133, 24); fill-opacity: 1;\"/></g></g></g><g class=\"trace bars\" style=\"opacity: 1;\"><g class=\"points\"><g class=\"point\"><path d=\"M242.2,320V154.43H334.47V320Z\" style=\"vector-effect: non-scaling-stroke; opacity: 1; stroke-width: 0px; fill: rgb(228, 87, 86); fill-opacity: 1;\"/></g></g></g><g class=\"trace bars\" style=\"opacity: 1;\"><g class=\"points\"><g class=\"point\"><path d=\"M357.53,320V262.41H449.8V320Z\" style=\"vector-effect: non-scaling-stroke; opacity: 1; stroke-width: 0px; fill: rgb(114, 183, 178); fill-opacity: 1;\"/></g></g></g><g class=\"trace bars\" style=\"opacity: 1;\"><g class=\"points\"><g class=\"point\"><path d=\"M472.87,320V280.68H565.13V320Z\" style=\"vector-effect: non-scaling-stroke; opacity: 1; stroke-width: 0px; fill: rgb(84, 162, 75); fill-opacity: 1;\"/></g></g></g><g class=\"trace bars\" style=\"opacity: 1;\"><g class=\"points\"><g class=\"point\"><path d=\"M588.2,320V16H680.47V320Z\" style=\"vector-effect: non-scaling-stroke; opacity: 1; stroke-width: 0px; fill: rgb(238, 202, 59); fill-opacity: 1;\"/></g></g></g></g></g><g class=\"overplot\"/><path class=\"xlines-above crisp\" d=\"M0,0\" style=\"fill: none;\"/><path class=\"ylines-above crisp\" d=\"M0,0\" style=\"fill: none;\"/><g class=\"overlines-above\"/><g class=\"xaxislayer-above\"><g class=\"xtick\"><text text-anchor=\"middle\" x=\"0\" y=\"433\" transform=\"translate(137.67000000000002,0)\" style=\"font-family: 'Open Sans', verdana, arial, sans-serif; font-size: 12px; fill: rgb(42, 63, 95); fill-opacity: 1; white-space: pre; opacity: 1;\">2018</text></g><g class=\"xtick\"><text text-anchor=\"middle\" x=\"0\" y=\"433\" transform=\"translate(253,0)\" style=\"font-family: 'Open Sans', verdana, arial, sans-serif; font-size: 12px; fill: rgb(42, 63, 95); fill-opacity: 1; white-space: pre; opacity: 1;\">2019</text></g><g class=\"xtick\"><text text-anchor=\"middle\" x=\"0\" y=\"433\" transform=\"translate(368.33,0)\" style=\"font-family: 'Open Sans', verdana, arial, sans-serif; font-size: 12px; fill: rgb(42, 63, 95); fill-opacity: 1; white-space: pre; opacity: 1;\">2020</text></g><g class=\"xtick\"><text text-anchor=\"middle\" x=\"0\" y=\"433\" transform=\"translate(483.67,0)\" style=\"font-family: 'Open Sans', verdana, arial, sans-serif; font-size: 12px; fill: rgb(42, 63, 95); fill-opacity: 1; white-space: pre; opacity: 1;\">2021</text></g><g class=\"xtick\"><text text-anchor=\"middle\" x=\"0\" y=\"433\" transform=\"translate(599,0)\" style=\"font-family: 'Open Sans', verdana, arial, sans-serif; font-size: 12px; fill: rgb(42, 63, 95); fill-opacity: 1; white-space: pre; opacity: 1;\">banned</text></g><g class=\"xtick\"><text text-anchor=\"middle\" x=\"0\" y=\"433\" transform=\"translate(714.33,0)\" style=\"font-family: 'Open Sans', verdana, arial, sans-serif; font-size: 12px; fill: rgb(42, 63, 95); fill-opacity: 1; white-space: pre; opacity: 1;\">others</text></g></g><g class=\"yaxislayer-above\"><g class=\"ytick\"><text text-anchor=\"end\" x=\"79\" y=\"4.199999999999999\" transform=\"translate(0,420)\" style=\"font-family: 'Open Sans', verdana, arial, sans-serif; font-size: 12px; fill: rgb(42, 63, 95); fill-opacity: 1; white-space: pre; opacity: 1;\">0</text></g><g class=\"ytick\"><text text-anchor=\"end\" x=\"79\" y=\"4.199999999999999\" style=\"font-family: 'Open Sans', verdana, arial, sans-serif; font-size: 12px; fill: rgb(42, 63, 95); fill-opacity: 1; white-space: pre; opacity: 1;\" transform=\"translate(0,364.63)\">100</text></g><g class=\"ytick\"><text text-anchor=\"end\" x=\"79\" y=\"4.199999999999999\" style=\"font-family: 'Open Sans', verdana, arial, sans-serif; font-size: 12px; fill: rgb(42, 63, 95); fill-opacity: 1; white-space: pre; opacity: 1;\" transform=\"translate(0,309.25)\">200</text></g><g class=\"ytick\"><text text-anchor=\"end\" x=\"79\" y=\"4.199999999999999\" style=\"font-family: 'Open Sans', verdana, arial, sans-serif; font-size: 12px; fill: rgb(42, 63, 95); fill-opacity: 1; white-space: pre; opacity: 1;\" transform=\"translate(0,253.88)\">300</text></g><g class=\"ytick\"><text text-anchor=\"end\" x=\"79\" y=\"4.199999999999999\" style=\"font-family: 'Open Sans', verdana, arial, sans-serif; font-size: 12px; fill: rgb(42, 63, 95); fill-opacity: 1; white-space: pre; opacity: 1;\" transform=\"translate(0,198.51)\">400</text></g><g class=\"ytick\"><text text-anchor=\"end\" x=\"79\" y=\"4.199999999999999\" style=\"font-family: 'Open Sans', verdana, arial, sans-serif; font-size: 12px; fill: rgb(42, 63, 95); fill-opacity: 1; white-space: pre; opacity: 1;\" transform=\"translate(0,143.13)\">500</text></g></g><g class=\"overaxes-above\"/></g></g><g class=\"polarlayer\"/><g class=\"ternarylayer\"/><g class=\"geolayer\"/><g class=\"funnelarealayer\"/><g class=\"pielayer\"/><g class=\"iciclelayer\"/><g class=\"treemaplayer\"/><g class=\"sunburstlayer\"/><g class=\"glimages\"/><defs id=\"topdefs-d84b16\"><g class=\"clips\"/><clipPath id=\"legendd84b16\"><rect width=\"102\" height=\"143\" x=\"0\" y=\"0\"/></clipPath></defs><g class=\"layer-above\"><g class=\"imagelayer\"/><g class=\"shapelayer\"/></g><g class=\"infolayer\"><g class=\"legend\" pointer-events=\"all\" transform=\"translate(785.84,100)\"><rect class=\"bg\" shape-rendering=\"crispEdges\" width=\"102\" height=\"143\" x=\"0\" y=\"0\" style=\"stroke: rgb(68, 68, 68); stroke-opacity: 1; fill: rgb(255, 255, 255); fill-opacity: 1; stroke-width: 0px;\"/><g class=\"scrollbox\" transform=\"\" clip-path=\"url(#legendd84b16)\"><text class=\"legendtitletext\" text-anchor=\"start\" x=\"2\" y=\"18.2\" style=\"font-family: 'Open Sans', verdana, arial, sans-serif; font-size: 14px; fill: rgb(42, 63, 95); fill-opacity: 1; white-space: pre;\">creation_year</text><g class=\"groups\" transform=\"\"><g class=\"traces\" transform=\"translate(0,32.7)\" style=\"opacity: 1;\"><text class=\"legendtext\" text-anchor=\"start\" x=\"40\" y=\"4.680000000000001\" style=\"font-family: 'Open Sans', verdana, arial, sans-serif; font-size: 12px; fill: rgb(42, 63, 95); fill-opacity: 1; white-space: pre;\">2018</text><g class=\"layers\" style=\"opacity: 1;\"><g class=\"legendfill\"/><g class=\"legendlines\"/><g class=\"legendsymbols\"><g class=\"legendpoints\"><path class=\"legendundefined\" d=\"M6,6H-6V-6H6Z\" transform=\"translate(20,0)\" style=\"stroke-width: 0px; fill: rgb(76, 120, 168); fill-opacity: 1;\"/></g></g></g><rect class=\"legendtoggle\" x=\"0\" y=\"-9.5\" width=\"84.5\" height=\"19\" style=\"fill: rgb(0, 0, 0); fill-opacity: 0;\"/></g></g><g class=\"groups\" transform=\"\"><g class=\"traces\" transform=\"translate(0,51.7)\" style=\"opacity: 1;\"><text class=\"legendtext\" text-anchor=\"start\" x=\"40\" y=\"4.680000000000001\" style=\"font-family: 'Open Sans', verdana, arial, sans-serif; font-size: 12px; fill: rgb(42, 63, 95); fill-opacity: 1; white-space: pre;\">2019</text><g class=\"layers\" style=\"opacity: 1;\"><g class=\"legendfill\"/><g class=\"legendlines\"/><g class=\"legendsymbols\"><g class=\"legendpoints\"><path class=\"legendundefined\" d=\"M6,6H-6V-6H6Z\" transform=\"translate(20,0)\" style=\"stroke-width: 0px; fill: rgb(245, 133, 24); fill-opacity: 1;\"/></g></g></g><rect class=\"legendtoggle\" x=\"0\" y=\"-9.5\" width=\"84.5\" height=\"19\" style=\"fill: rgb(0, 0, 0); fill-opacity: 0;\"/></g></g><g class=\"groups\" transform=\"\"><g class=\"traces\" transform=\"translate(0,70.7)\" style=\"opacity: 1;\"><text class=\"legendtext\" text-anchor=\"start\" x=\"40\" y=\"4.680000000000001\" style=\"font-family: 'Open Sans', verdana, arial, sans-serif; font-size: 12px; fill: rgb(42, 63, 95); fill-opacity: 1; white-space: pre;\">2020</text><g class=\"layers\" style=\"opacity: 1;\"><g class=\"legendfill\"/><g class=\"legendlines\"/><g class=\"legendsymbols\"><g class=\"legendpoints\"><path class=\"legendundefined\" d=\"M6,6H-6V-6H6Z\" transform=\"translate(20,0)\" style=\"stroke-width: 0px; fill: rgb(228, 87, 86); fill-opacity: 1;\"/></g></g></g><rect class=\"legendtoggle\" x=\"0\" y=\"-9.5\" width=\"84.5\" height=\"19\" style=\"fill: rgb(0, 0, 0); fill-opacity: 0;\"/></g></g><g class=\"groups\" transform=\"\"><g class=\"traces\" transform=\"translate(0,89.7)\" style=\"opacity: 1;\"><text class=\"legendtext\" text-anchor=\"start\" x=\"40\" y=\"4.680000000000001\" style=\"font-family: 'Open Sans', verdana, arial, sans-serif; font-size: 12px; fill: rgb(42, 63, 95); fill-opacity: 1; white-space: pre;\">2021</text><g class=\"layers\" style=\"opacity: 1;\"><g class=\"legendfill\"/><g class=\"legendlines\"/><g class=\"legendsymbols\"><g class=\"legendpoints\"><path class=\"legendundefined\" d=\"M6,6H-6V-6H6Z\" transform=\"translate(20,0)\" style=\"stroke-width: 0px; fill: rgb(114, 183, 178); fill-opacity: 1;\"/></g></g></g><rect class=\"legendtoggle\" x=\"0\" y=\"-9.5\" width=\"84.5\" height=\"19\" style=\"fill: rgb(0, 0, 0); fill-opacity: 0;\"/></g></g><g class=\"groups\" transform=\"\"><g class=\"traces\" transform=\"translate(0,108.7)\" style=\"opacity: 1;\"><text class=\"legendtext\" text-anchor=\"start\" x=\"40\" y=\"4.680000000000001\" style=\"font-family: 'Open Sans', verdana, arial, sans-serif; font-size: 12px; fill: rgb(42, 63, 95); fill-opacity: 1; white-space: pre;\">banned</text><g class=\"layers\" style=\"opacity: 1;\"><g class=\"legendfill\"/><g class=\"legendlines\"/><g class=\"legendsymbols\"><g class=\"legendpoints\"><path class=\"legendundefined\" d=\"M6,6H-6V-6H6Z\" transform=\"translate(20,0)\" style=\"stroke-width: 0px; fill: rgb(84, 162, 75); fill-opacity: 1;\"/></g></g></g><rect class=\"legendtoggle\" x=\"0\" y=\"-9.5\" width=\"84.5\" height=\"19\" style=\"fill: rgb(0, 0, 0); fill-opacity: 0;\"/></g></g><g class=\"groups\" transform=\"\"><g class=\"traces\" transform=\"translate(0,127.7)\" style=\"opacity: 1;\"><text class=\"legendtext\" text-anchor=\"start\" x=\"40\" y=\"4.680000000000001\" style=\"font-family: 'Open Sans', verdana, arial, sans-serif; font-size: 12px; fill: rgb(42, 63, 95); fill-opacity: 1; white-space: pre;\">others</text><g class=\"layers\" style=\"opacity: 1;\"><g class=\"legendfill\"/><g class=\"legendlines\"/><g class=\"legendsymbols\"><g class=\"legendpoints\"><path class=\"legendundefined\" d=\"M6,6H-6V-6H6Z\" transform=\"translate(20,0)\" style=\"stroke-width: 0px; fill: rgb(238, 202, 59); fill-opacity: 1;\"/></g></g></g><rect class=\"legendtoggle\" x=\"0\" y=\"-9.5\" width=\"84.5\" height=\"19\" style=\"fill: rgb(0, 0, 0); fill-opacity: 0;\"/></g></g></g><rect class=\"scrollbar\" rx=\"20\" ry=\"3\" width=\"0\" height=\"0\" x=\"0\" y=\"0\" style=\"fill: rgb(128, 139, 164); fill-opacity: 1;\"/></g><g class=\"g-gtitle\"><text class=\"gtitle\" x=\"45\" y=\"50\" text-anchor=\"start\" dy=\"0em\" style=\"font-family: 'Open Sans', verdana, arial, sans-serif; font-size: 17px; fill: rgb(42, 63, 95); opacity: 1; font-weight: normal; white-space: pre;\">Contributions of newly created accounts on the peak day (2021-04-17)</text></g><g class=\"g-xtitle\"><text class=\"xtitle\" x=\"426\" y=\"460.8\" text-anchor=\"middle\" style=\"font-family: 'Open Sans', verdana, arial, sans-serif; font-size: 14px; fill: rgb(42, 63, 95); opacity: 1; font-weight: normal; white-space: pre;\">creation_year</text></g><g class=\"g-ytitle\"><text class=\"ytitle\" transform=\"rotate(-90,31.309375000000003,260)\" x=\"31.309375000000003\" y=\"260\" text-anchor=\"middle\" style=\"font-family: 'Open Sans', verdana, arial, sans-serif; font-size: 14px; fill: rgb(42, 63, 95); opacity: 1; font-weight: normal; white-space: pre;\">count</text></g></g></svg>"
      ]
     },
     "metadata": {},
     "output_type": "display_data"
    }
   ],
   "source": [
    "fig = px.histogram(df_peak, \n",
    "                   x='creation_year', color=\"creation_year\", \n",
    "                   color_discrete_sequence = colors,\n",
    "                   category_orders = dict(creation_year=['2018', '2019', '2020', '2021', 'banned', 'others']),\n",
    "                   title = 'Contributions of newly created accounts on the peak day (2021-04-17)')\n",
    "fig.show()"
   ]
  },
  {
   "cell_type": "markdown",
   "id": "a886aee7",
   "metadata": {},
   "source": [
    "### Submissions"
   ]
  },
  {
   "cell_type": "code",
   "execution_count": 99,
   "id": "1b342e1c",
   "metadata": {},
   "outputs": [
    {
     "data": {
      "image/svg+xml": [
       "<svg class=\"main-svg\" xmlns=\"http://www.w3.org/2000/svg\" xmlns:xlink=\"http://www.w3.org/1999/xlink\" width=\"900\" height=\"500\" style=\"\" viewBox=\"0 0 900 500\"><rect x=\"0\" y=\"0\" width=\"900\" height=\"500\" style=\"fill: rgb(255, 255, 255); fill-opacity: 1;\"/><defs id=\"defs-6e38eb\"><g class=\"clips\"/><g class=\"gradients\"/><g class=\"patterns\"/></defs><g class=\"bglayer\"/><g class=\"layer-below\"><g class=\"imagelayer\"/><g class=\"shapelayer\"/></g><g class=\"cartesianlayer\"/><g class=\"polarlayer\"/><g class=\"ternarylayer\"/><g class=\"geolayer\"/><g class=\"funnelarealayer\"/><g class=\"pielayer\"><g class=\"trace\" stroke-linejoin=\"round\" style=\"opacity: 1;\"><g class=\"slice\"><path class=\"surface\" d=\"M432,260l0,-160a160,160 0 0 1 123.61434907756559,261.5849039086505Z\" style=\"pointer-events: all; stroke-width: 0; fill: rgb(76, 120, 168); fill-opacity: 1; stroke: rgb(68, 68, 68); stroke-opacity: 1;\"/><g class=\"slicetext\"><text data-notex=\"1\" class=\"slicetext\" transform=\"translate(507.93310439424187,220.7939672070642)\" text-anchor=\"middle\" x=\"0\" y=\"0\" style=\"font-family: 'Open Sans', verdana, arial, sans-serif; font-size: 12px; fill: rgb(255, 255, 255); fill-opacity: 1; white-space: pre;\"><tspan class=\"line\" dy=\"0em\" x=\"0\" y=\"0\">others</tspan><tspan class=\"line\" dy=\"1.3em\" x=\"0\" y=\"0\">35.9%</tspan></text></g></g><g class=\"slice\"><path class=\"surface\" d=\"M432,260l-148.61960545079253,-59.26392558420979a160,160 0 0 1 148.61960545079253,-100.73607441579021Z\" style=\"pointer-events: all; stroke-width: 0; fill: rgb(245, 133, 24); fill-opacity: 1; stroke: rgb(68, 68, 68); stroke-opacity: 1;\"/><g class=\"slicetext\"><text data-notex=\"1\" class=\"slicetext\" transform=\"translate(374.3062620937425,171.85426188181404)\" text-anchor=\"middle\" x=\"0\" y=\"0\" style=\"font-family: 'Open Sans', verdana, arial, sans-serif; font-size: 12px; fill: rgb(68, 68, 68); fill-opacity: 1; white-space: pre;\"><tspan class=\"line\" dy=\"0em\" x=\"0\" y=\"0\">2020</tspan><tspan class=\"line\" dy=\"1.3em\" x=\"0\" y=\"0\">19%</tspan></text></g></g><g class=\"slice\"><path class=\"surface\" d=\"M432,260l-118.14307215742761,107.89909407036211a160,160 0 0 1 -30.476533293364923,-167.16301965457188Z\" style=\"pointer-events: all; stroke-width: 0; fill: rgb(228, 87, 86); fill-opacity: 1; stroke: rgb(68, 68, 68); stroke-opacity: 1;\"/><g class=\"slicetext\"><text data-notex=\"1\" class=\"slicetext\" transform=\"translate(329.1484922652739,275.43969099138656)\" text-anchor=\"middle\" x=\"0\" y=\"0\" style=\"font-family: 'Open Sans', verdana, arial, sans-serif; font-size: 12px; fill: rgb(68, 68, 68); fill-opacity: 1; white-space: pre;\"><tspan class=\"line\" dy=\"0em\" x=\"0\" y=\"0\">2021</tspan><tspan class=\"line\" dy=\"1.3em\" x=\"0\" y=\"0\">17.8%</tspan></text></g></g><g class=\"slice\"><path class=\"surface\" d=\"M432,260l-13.822077550345483,159.4018512194643a160,160 0 0 1 -104.32099460708213,-51.502757149102194Z\" style=\"pointer-events: all; stroke-width: 0; fill: rgb(114, 183, 178); fill-opacity: 1; stroke: rgb(68, 68, 68); stroke-opacity: 1;\"/><g class=\"slicetext\"><text data-notex=\"1\" class=\"slicetext\" transform=\"translate(380.0556810833033,361.9107089862391)\" text-anchor=\"middle\" x=\"0\" y=\"0\" style=\"font-family: 'Open Sans', verdana, arial, sans-serif; font-size: 12px; fill: rgb(68, 68, 68); fill-opacity: 1; white-space: pre;\"><tspan class=\"line\" dy=\"0em\" x=\"0\" y=\"0\">banned</tspan><tspan class=\"line\" dy=\"1.3em\" x=\"0\" y=\"0\">11.8%</tspan></text></g></g><g class=\"slice\"><path class=\"surface\" d=\"M432,260l89.33852810074609,132.73517769149294a160,160 0 0 1 -103.16060565109157,26.66667352797137Z\" style=\"pointer-events: all; stroke-width: 0; fill: rgb(84, 162, 75); fill-opacity: 1; stroke: rgb(68, 68, 68); stroke-opacity: 1;\"/><g class=\"slicetext\"><text data-notex=\"1\" class=\"slicetext\" transform=\"translate(462.00147965457114,372.90780220187764)\" text-anchor=\"middle\" x=\"0\" y=\"0\" style=\"font-family: 'Open Sans', verdana, arial, sans-serif; font-size: 12px; fill: rgb(68, 68, 68); fill-opacity: 1; white-space: pre;\"><tspan class=\"line\" dy=\"0em\" x=\"0\" y=\"0\">2019</tspan><tspan class=\"line\" dy=\"1.3em\" x=\"0\" y=\"0\">10.8%</tspan></text></g></g><g class=\"slice\"><path class=\"surface\" d=\"M432,260l123.61434907756566,101.58490390865043a160,160 0 0 1 -34.275820976819574,31.150273782842504Z\" style=\"pointer-events: all; stroke-width: 0; fill: rgb(238, 202, 59); fill-opacity: 1; stroke: rgb(68, 68, 68); stroke-opacity: 1;\"/><g class=\"slicetext\"><text data-notex=\"1\" class=\"slicetext\" transform=\"translate(526.5659575724579,359.14089236095174)rotate(47.735064935064884)\" text-anchor=\"middle\" x=\"0\" y=\"0\" style=\"font-family: 'Open Sans', verdana, arial, sans-serif; font-size: 12px; fill: rgb(68, 68, 68); fill-opacity: 1; white-space: pre;\"><tspan class=\"line\" dy=\"0em\" x=\"0\" y=\"0\">2018</tspan><tspan class=\"line\" dy=\"1.3em\" x=\"0\" y=\"0\">4.62%</tspan></text></g></g></g></g><g class=\"iciclelayer\"/><g class=\"treemaplayer\"/><g class=\"sunburstlayer\"/><g class=\"glimages\"/><defs id=\"topdefs-6e38eb\"><g class=\"clips\"/><clipPath id=\"legend6e38eb\"><rect width=\"90\" height=\"124\" x=\"0\" y=\"0\"/></clipPath></defs><g class=\"layer-above\"><g class=\"imagelayer\"/><g class=\"shapelayer\"/></g><g class=\"infolayer\"><g class=\"legend\" pointer-events=\"all\" transform=\"translate(798.08,100)\"><rect class=\"bg\" shape-rendering=\"crispEdges\" width=\"90\" height=\"124\" x=\"0\" y=\"0\" style=\"stroke: rgb(68, 68, 68); stroke-opacity: 1; fill: rgb(255, 255, 255); fill-opacity: 1; stroke-width: 0px;\"/><g class=\"scrollbox\" transform=\"\" clip-path=\"url(#legend6e38eb)\"><g class=\"groups\"><g class=\"traces\" transform=\"translate(0,14.5)\" style=\"opacity: 1;\"><text class=\"legendtext\" text-anchor=\"start\" x=\"40\" y=\"4.680000000000001\" style=\"font-family: 'Open Sans', verdana, arial, sans-serif; font-size: 12px; fill: rgb(42, 63, 95); fill-opacity: 1; white-space: pre;\">others</text><g class=\"layers\" style=\"opacity: 1;\"><g class=\"legendfill\"/><g class=\"legendlines\"/><g class=\"legendsymbols\"><g class=\"legendpoints\"><path class=\"legendpie\" d=\"M6,6H-6V-6H6Z\" transform=\"translate(20,0)\" style=\"stroke-width: 0; fill: rgb(76, 120, 168); fill-opacity: 1; stroke: rgb(68, 68, 68); stroke-opacity: 1;\"/></g></g></g><rect class=\"legendtoggle\" x=\"0\" y=\"-9.5\" width=\"84.5\" height=\"19\" style=\"fill: rgb(0, 0, 0); fill-opacity: 0;\"/></g><g class=\"traces\" transform=\"translate(0,33.5)\" style=\"opacity: 1;\"><text class=\"legendtext\" text-anchor=\"start\" x=\"40\" y=\"4.680000000000001\" style=\"font-family: 'Open Sans', verdana, arial, sans-serif; font-size: 12px; fill: rgb(42, 63, 95); fill-opacity: 1; white-space: pre;\">2020</text><g class=\"layers\" style=\"opacity: 1;\"><g class=\"legendfill\"/><g class=\"legendlines\"/><g class=\"legendsymbols\"><g class=\"legendpoints\"><path class=\"legendpie\" d=\"M6,6H-6V-6H6Z\" transform=\"translate(20,0)\" style=\"stroke-width: 0; fill: rgb(245, 133, 24); fill-opacity: 1; stroke: rgb(68, 68, 68); stroke-opacity: 1;\"/></g></g></g><rect class=\"legendtoggle\" x=\"0\" y=\"-9.5\" width=\"84.5\" height=\"19\" style=\"fill: rgb(0, 0, 0); fill-opacity: 0;\"/></g><g class=\"traces\" transform=\"translate(0,52.5)\" style=\"opacity: 1;\"><text class=\"legendtext\" text-anchor=\"start\" x=\"40\" y=\"4.680000000000001\" style=\"font-family: 'Open Sans', verdana, arial, sans-serif; font-size: 12px; fill: rgb(42, 63, 95); fill-opacity: 1; white-space: pre;\">2021</text><g class=\"layers\" style=\"opacity: 1;\"><g class=\"legendfill\"/><g class=\"legendlines\"/><g class=\"legendsymbols\"><g class=\"legendpoints\"><path class=\"legendpie\" d=\"M6,6H-6V-6H6Z\" transform=\"translate(20,0)\" style=\"stroke-width: 0; fill: rgb(228, 87, 86); fill-opacity: 1; stroke: rgb(68, 68, 68); stroke-opacity: 1;\"/></g></g></g><rect class=\"legendtoggle\" x=\"0\" y=\"-9.5\" width=\"84.5\" height=\"19\" style=\"fill: rgb(0, 0, 0); fill-opacity: 0;\"/></g><g class=\"traces\" transform=\"translate(0,71.5)\" style=\"opacity: 1;\"><text class=\"legendtext\" text-anchor=\"start\" x=\"40\" y=\"4.680000000000001\" style=\"font-family: 'Open Sans', verdana, arial, sans-serif; font-size: 12px; fill: rgb(42, 63, 95); fill-opacity: 1; white-space: pre;\">banned</text><g class=\"layers\" style=\"opacity: 1;\"><g class=\"legendfill\"/><g class=\"legendlines\"/><g class=\"legendsymbols\"><g class=\"legendpoints\"><path class=\"legendpie\" d=\"M6,6H-6V-6H6Z\" transform=\"translate(20,0)\" style=\"stroke-width: 0; fill: rgb(114, 183, 178); fill-opacity: 1; stroke: rgb(68, 68, 68); stroke-opacity: 1;\"/></g></g></g><rect class=\"legendtoggle\" x=\"0\" y=\"-9.5\" width=\"84.5\" height=\"19\" style=\"fill: rgb(0, 0, 0); fill-opacity: 0;\"/></g><g class=\"traces\" transform=\"translate(0,90.5)\" style=\"opacity: 1;\"><text class=\"legendtext\" text-anchor=\"start\" x=\"40\" y=\"4.680000000000001\" style=\"font-family: 'Open Sans', verdana, arial, sans-serif; font-size: 12px; fill: rgb(42, 63, 95); fill-opacity: 1; white-space: pre;\">2019</text><g class=\"layers\" style=\"opacity: 1;\"><g class=\"legendfill\"/><g class=\"legendlines\"/><g class=\"legendsymbols\"><g class=\"legendpoints\"><path class=\"legendpie\" d=\"M6,6H-6V-6H6Z\" transform=\"translate(20,0)\" style=\"stroke-width: 0; fill: rgb(84, 162, 75); fill-opacity: 1; stroke: rgb(68, 68, 68); stroke-opacity: 1;\"/></g></g></g><rect class=\"legendtoggle\" x=\"0\" y=\"-9.5\" width=\"84.5\" height=\"19\" style=\"fill: rgb(0, 0, 0); fill-opacity: 0;\"/></g><g class=\"traces\" transform=\"translate(0,109.5)\" style=\"opacity: 1;\"><text class=\"legendtext\" text-anchor=\"start\" x=\"40\" y=\"4.680000000000001\" style=\"font-family: 'Open Sans', verdana, arial, sans-serif; font-size: 12px; fill: rgb(42, 63, 95); fill-opacity: 1; white-space: pre;\">2018</text><g class=\"layers\" style=\"opacity: 1;\"><g class=\"legendfill\"/><g class=\"legendlines\"/><g class=\"legendsymbols\"><g class=\"legendpoints\"><path class=\"legendpie\" d=\"M6,6H-6V-6H6Z\" transform=\"translate(20,0)\" style=\"stroke-width: 0; fill: rgb(238, 202, 59); fill-opacity: 1; stroke: rgb(68, 68, 68); stroke-opacity: 1;\"/></g></g></g><rect class=\"legendtoggle\" x=\"0\" y=\"-9.5\" width=\"84.5\" height=\"19\" style=\"fill: rgb(0, 0, 0); fill-opacity: 0;\"/></g></g></g><rect class=\"scrollbar\" rx=\"20\" ry=\"3\" width=\"0\" height=\"0\" x=\"0\" y=\"0\" style=\"fill: rgb(128, 139, 164); fill-opacity: 1;\"/></g><g class=\"g-gtitle\"><text class=\"gtitle\" x=\"45\" y=\"50\" text-anchor=\"start\" dy=\"0em\" style=\"font-family: 'Open Sans', verdana, arial, sans-serif; font-size: 17px; fill: rgb(42, 63, 95); opacity: 1; font-weight: normal; white-space: pre;\">Submissions of newly created accounts in 2021</text></g></g></svg>"
      ]
     },
     "metadata": {},
     "output_type": "display_data"
    }
   ],
   "source": [
    "fig = px.pie(df_submissions.creation_year.value_counts().to_frame().reset_index(),\n",
    "             values='creation_year', names='index', color_discrete_sequence = colors,\n",
    "             title = 'Submissions of newly created accounts in 2021')\n",
    "\n",
    "fig.update_traces(textposition='inside', textinfo='percent+label')\n",
    "\n",
    "fig.show()"
   ]
  },
  {
   "cell_type": "markdown",
   "id": "70195b29",
   "metadata": {},
   "source": [
    "**NOTE:** About 65% of 2021 Submissions were made by newly created accounts (last 4 years)"
   ]
  },
  {
   "cell_type": "code",
   "execution_count": 100,
   "id": "32466779",
   "metadata": {},
   "outputs": [
    {
     "data": {
      "image/svg+xml": [
       "<svg class=\"main-svg\" xmlns=\"http://www.w3.org/2000/svg\" xmlns:xlink=\"http://www.w3.org/1999/xlink\" width=\"900\" height=\"500\" style=\"\" viewBox=\"0 0 900 500\"><rect x=\"0\" y=\"0\" width=\"900\" height=\"500\" style=\"fill: rgb(255, 255, 255); fill-opacity: 1;\"/><defs id=\"defs-10e68b\"><g class=\"clips\"><clipPath id=\"clip10e68bxyplot\" class=\"plotclip\"><rect width=\"692\" height=\"320\"/></clipPath><clipPath class=\"axesclip\" id=\"clip10e68bx\"><rect x=\"80\" y=\"0\" width=\"692\" height=\"500\"/></clipPath><clipPath class=\"axesclip\" id=\"clip10e68by\"><rect x=\"0\" y=\"100\" width=\"900\" height=\"320\"/></clipPath><clipPath class=\"axesclip\" id=\"clip10e68bxy\"><rect x=\"80\" y=\"100\" width=\"692\" height=\"320\"/></clipPath></g><g class=\"gradients\"/><g class=\"patterns\"/></defs><g class=\"bglayer\"><rect class=\"bg\" x=\"80\" y=\"100\" width=\"692\" height=\"320\" style=\"fill: rgb(229, 236, 246); fill-opacity: 1; stroke-width: 0;\"/></g><g class=\"layer-below\"><g class=\"imagelayer\"/><g class=\"shapelayer\"/></g><g class=\"cartesianlayer\"><g class=\"subplot xy\"><g class=\"layer-subplot\"><g class=\"shapelayer\"/><g class=\"imagelayer\"/></g><g class=\"gridlayer\"><g class=\"x\"/><g class=\"y\"><path class=\"ygrid crisp\" transform=\"translate(0,376.07)\" d=\"M80,0h692\" style=\"stroke: rgb(255, 255, 255); stroke-opacity: 1; stroke-width: 1px;\"/><path class=\"ygrid crisp\" transform=\"translate(0,332.14)\" d=\"M80,0h692\" style=\"stroke: rgb(255, 255, 255); stroke-opacity: 1; stroke-width: 1px;\"/><path class=\"ygrid crisp\" transform=\"translate(0,288.21000000000004)\" d=\"M80,0h692\" style=\"stroke: rgb(255, 255, 255); stroke-opacity: 1; stroke-width: 1px;\"/><path class=\"ygrid crisp\" transform=\"translate(0,244.28)\" d=\"M80,0h692\" style=\"stroke: rgb(255, 255, 255); stroke-opacity: 1; stroke-width: 1px;\"/><path class=\"ygrid crisp\" transform=\"translate(0,200.35)\" d=\"M80,0h692\" style=\"stroke: rgb(255, 255, 255); stroke-opacity: 1; stroke-width: 1px;\"/><path class=\"ygrid crisp\" transform=\"translate(0,156.42000000000002)\" d=\"M80,0h692\" style=\"stroke: rgb(255, 255, 255); stroke-opacity: 1; stroke-width: 1px;\"/><path class=\"ygrid crisp\" transform=\"translate(0,112.49)\" d=\"M80,0h692\" style=\"stroke: rgb(255, 255, 255); stroke-opacity: 1; stroke-width: 1px;\"/></g></g><g class=\"zerolinelayer\"><path class=\"yzl zl crisp\" transform=\"translate(0,420)\" d=\"M80,0h692\" style=\"stroke: rgb(255, 255, 255); stroke-opacity: 1; stroke-width: 2px;\"/></g><path class=\"xlines-below\"/><path class=\"ylines-below\"/><g class=\"overlines-below\"/><g class=\"xaxislayer-below\"/><g class=\"yaxislayer-below\"/><g class=\"overaxes-below\"/><g class=\"plot\" transform=\"translate(80,100)\" clip-path=\"url(#clip10e68bxyplot)\"><g class=\"barlayer mlayer\"><g class=\"trace bars\" style=\"opacity: 1;\"><g class=\"points\"><g class=\"point\"><path d=\"M11.53,320V280.9H103.8V320Z\" style=\"vector-effect: non-scaling-stroke; opacity: 1; stroke-width: 0px; fill: rgb(76, 120, 168); fill-opacity: 1;\"/></g></g></g><g class=\"trace bars\" style=\"opacity: 1;\"><g class=\"points\"><g class=\"point\"><path d=\"M126.87,320V228.62H219.13V320Z\" style=\"vector-effect: non-scaling-stroke; opacity: 1; stroke-width: 0px; fill: rgb(245, 133, 24); fill-opacity: 1;\"/></g></g></g><g class=\"trace bars\" style=\"opacity: 1;\"><g class=\"points\"><g class=\"point\"><path d=\"M242.2,320V159.65H334.47V320Z\" style=\"vector-effect: non-scaling-stroke; opacity: 1; stroke-width: 0px; fill: rgb(228, 87, 86); fill-opacity: 1;\"/></g></g></g><g class=\"trace bars\" style=\"opacity: 1;\"><g class=\"points\"><g class=\"point\"><path d=\"M357.53,320V169.32H449.8V320Z\" style=\"vector-effect: non-scaling-stroke; opacity: 1; stroke-width: 0px; fill: rgb(114, 183, 178); fill-opacity: 1;\"/></g></g></g><g class=\"trace bars\" style=\"opacity: 1;\"><g class=\"points\"><g class=\"point\"><path d=\"M472.87,320V219.84H565.13V320Z\" style=\"vector-effect: non-scaling-stroke; opacity: 1; stroke-width: 0px; fill: rgb(84, 162, 75); fill-opacity: 1;\"/></g></g></g><g class=\"trace bars\" style=\"opacity: 1;\"><g class=\"points\"><g class=\"point\"><path d=\"M588.2,320V16H680.47V320Z\" style=\"vector-effect: non-scaling-stroke; opacity: 1; stroke-width: 0px; fill: rgb(238, 202, 59); fill-opacity: 1;\"/></g></g></g></g></g><g class=\"overplot\"/><path class=\"xlines-above crisp\" d=\"M0,0\" style=\"fill: none;\"/><path class=\"ylines-above crisp\" d=\"M0,0\" style=\"fill: none;\"/><g class=\"overlines-above\"/><g class=\"xaxislayer-above\"><g class=\"xtick\"><text text-anchor=\"middle\" x=\"0\" y=\"433\" transform=\"translate(137.67000000000002,0)\" style=\"font-family: 'Open Sans', verdana, arial, sans-serif; font-size: 12px; fill: rgb(42, 63, 95); fill-opacity: 1; white-space: pre; opacity: 1;\">2018</text></g><g class=\"xtick\"><text text-anchor=\"middle\" x=\"0\" y=\"433\" transform=\"translate(253,0)\" style=\"font-family: 'Open Sans', verdana, arial, sans-serif; font-size: 12px; fill: rgb(42, 63, 95); fill-opacity: 1; white-space: pre; opacity: 1;\">2019</text></g><g class=\"xtick\"><text text-anchor=\"middle\" x=\"0\" y=\"433\" transform=\"translate(368.33,0)\" style=\"font-family: 'Open Sans', verdana, arial, sans-serif; font-size: 12px; fill: rgb(42, 63, 95); fill-opacity: 1; white-space: pre; opacity: 1;\">2020</text></g><g class=\"xtick\"><text text-anchor=\"middle\" x=\"0\" y=\"433\" transform=\"translate(483.67,0)\" style=\"font-family: 'Open Sans', verdana, arial, sans-serif; font-size: 12px; fill: rgb(42, 63, 95); fill-opacity: 1; white-space: pre; opacity: 1;\">2021</text></g><g class=\"xtick\"><text text-anchor=\"middle\" x=\"0\" y=\"433\" transform=\"translate(599,0)\" style=\"font-family: 'Open Sans', verdana, arial, sans-serif; font-size: 12px; fill: rgb(42, 63, 95); fill-opacity: 1; white-space: pre; opacity: 1;\">banned</text></g><g class=\"xtick\"><text text-anchor=\"middle\" x=\"0\" y=\"433\" transform=\"translate(714.33,0)\" style=\"font-family: 'Open Sans', verdana, arial, sans-serif; font-size: 12px; fill: rgb(42, 63, 95); fill-opacity: 1; white-space: pre; opacity: 1;\">others</text></g></g><g class=\"yaxislayer-above\"><g class=\"ytick\"><text text-anchor=\"end\" x=\"79\" y=\"4.199999999999999\" transform=\"translate(0,420)\" style=\"font-family: 'Open Sans', verdana, arial, sans-serif; font-size: 12px; fill: rgb(42, 63, 95); fill-opacity: 1; white-space: pre; opacity: 1;\">0</text></g><g class=\"ytick\"><text text-anchor=\"end\" x=\"79\" y=\"4.199999999999999\" style=\"font-family: 'Open Sans', verdana, arial, sans-serif; font-size: 12px; fill: rgb(42, 63, 95); fill-opacity: 1; white-space: pre; opacity: 1;\" transform=\"translate(0,376.07)\">100</text></g><g class=\"ytick\"><text text-anchor=\"end\" x=\"79\" y=\"4.199999999999999\" style=\"font-family: 'Open Sans', verdana, arial, sans-serif; font-size: 12px; fill: rgb(42, 63, 95); fill-opacity: 1; white-space: pre; opacity: 1;\" transform=\"translate(0,332.14)\">200</text></g><g class=\"ytick\"><text text-anchor=\"end\" x=\"79\" y=\"4.199999999999999\" style=\"font-family: 'Open Sans', verdana, arial, sans-serif; font-size: 12px; fill: rgb(42, 63, 95); fill-opacity: 1; white-space: pre; opacity: 1;\" transform=\"translate(0,288.21000000000004)\">300</text></g><g class=\"ytick\"><text text-anchor=\"end\" x=\"79\" y=\"4.199999999999999\" style=\"font-family: 'Open Sans', verdana, arial, sans-serif; font-size: 12px; fill: rgb(42, 63, 95); fill-opacity: 1; white-space: pre; opacity: 1;\" transform=\"translate(0,244.28)\">400</text></g><g class=\"ytick\"><text text-anchor=\"end\" x=\"79\" y=\"4.199999999999999\" style=\"font-family: 'Open Sans', verdana, arial, sans-serif; font-size: 12px; fill: rgb(42, 63, 95); fill-opacity: 1; white-space: pre; opacity: 1;\" transform=\"translate(0,200.35)\">500</text></g><g class=\"ytick\"><text text-anchor=\"end\" x=\"79\" y=\"4.199999999999999\" style=\"font-family: 'Open Sans', verdana, arial, sans-serif; font-size: 12px; fill: rgb(42, 63, 95); fill-opacity: 1; white-space: pre; opacity: 1;\" transform=\"translate(0,156.42000000000002)\">600</text></g><g class=\"ytick\"><text text-anchor=\"end\" x=\"79\" y=\"4.199999999999999\" style=\"font-family: 'Open Sans', verdana, arial, sans-serif; font-size: 12px; fill: rgb(42, 63, 95); fill-opacity: 1; white-space: pre; opacity: 1;\" transform=\"translate(0,112.49)\">700</text></g></g><g class=\"overaxes-above\"/></g></g><g class=\"polarlayer\"/><g class=\"ternarylayer\"/><g class=\"geolayer\"/><g class=\"funnelarealayer\"/><g class=\"pielayer\"/><g class=\"iciclelayer\"/><g class=\"treemaplayer\"/><g class=\"sunburstlayer\"/><g class=\"glimages\"/><defs id=\"topdefs-10e68b\"><g class=\"clips\"/><clipPath id=\"legend10e68b\"><rect width=\"102\" height=\"143\" x=\"0\" y=\"0\"/></clipPath></defs><g class=\"layer-above\"><g class=\"imagelayer\"/><g class=\"shapelayer\"/></g><g class=\"infolayer\"><g class=\"legend\" pointer-events=\"all\" transform=\"translate(785.84,100)\"><rect class=\"bg\" shape-rendering=\"crispEdges\" width=\"102\" height=\"143\" x=\"0\" y=\"0\" style=\"stroke: rgb(68, 68, 68); stroke-opacity: 1; fill: rgb(255, 255, 255); fill-opacity: 1; stroke-width: 0px;\"/><g class=\"scrollbox\" transform=\"\" clip-path=\"url(#legend10e68b)\"><text class=\"legendtitletext\" text-anchor=\"start\" x=\"2\" y=\"18.2\" style=\"font-family: 'Open Sans', verdana, arial, sans-serif; font-size: 14px; fill: rgb(42, 63, 95); fill-opacity: 1; white-space: pre;\">creation_year</text><g class=\"groups\" transform=\"\"><g class=\"traces\" transform=\"translate(0,32.7)\" style=\"opacity: 1;\"><text class=\"legendtext\" text-anchor=\"start\" x=\"40\" y=\"4.680000000000001\" style=\"font-family: 'Open Sans', verdana, arial, sans-serif; font-size: 12px; fill: rgb(42, 63, 95); fill-opacity: 1; white-space: pre;\">2018</text><g class=\"layers\" style=\"opacity: 1;\"><g class=\"legendfill\"/><g class=\"legendlines\"/><g class=\"legendsymbols\"><g class=\"legendpoints\"><path class=\"legendundefined\" d=\"M6,6H-6V-6H6Z\" transform=\"translate(20,0)\" style=\"stroke-width: 0px; fill: rgb(76, 120, 168); fill-opacity: 1;\"/></g></g></g><rect class=\"legendtoggle\" x=\"0\" y=\"-9.5\" width=\"84.5\" height=\"19\" style=\"fill: rgb(0, 0, 0); fill-opacity: 0;\"/></g></g><g class=\"groups\" transform=\"\"><g class=\"traces\" transform=\"translate(0,51.7)\" style=\"opacity: 1;\"><text class=\"legendtext\" text-anchor=\"start\" x=\"40\" y=\"4.680000000000001\" style=\"font-family: 'Open Sans', verdana, arial, sans-serif; font-size: 12px; fill: rgb(42, 63, 95); fill-opacity: 1; white-space: pre;\">2019</text><g class=\"layers\" style=\"opacity: 1;\"><g class=\"legendfill\"/><g class=\"legendlines\"/><g class=\"legendsymbols\"><g class=\"legendpoints\"><path class=\"legendundefined\" d=\"M6,6H-6V-6H6Z\" transform=\"translate(20,0)\" style=\"stroke-width: 0px; fill: rgb(245, 133, 24); fill-opacity: 1;\"/></g></g></g><rect class=\"legendtoggle\" x=\"0\" y=\"-9.5\" width=\"84.5\" height=\"19\" style=\"fill: rgb(0, 0, 0); fill-opacity: 0;\"/></g></g><g class=\"groups\" transform=\"\"><g class=\"traces\" transform=\"translate(0,70.7)\" style=\"opacity: 1;\"><text class=\"legendtext\" text-anchor=\"start\" x=\"40\" y=\"4.680000000000001\" style=\"font-family: 'Open Sans', verdana, arial, sans-serif; font-size: 12px; fill: rgb(42, 63, 95); fill-opacity: 1; white-space: pre;\">2020</text><g class=\"layers\" style=\"opacity: 1;\"><g class=\"legendfill\"/><g class=\"legendlines\"/><g class=\"legendsymbols\"><g class=\"legendpoints\"><path class=\"legendundefined\" d=\"M6,6H-6V-6H6Z\" transform=\"translate(20,0)\" style=\"stroke-width: 0px; fill: rgb(228, 87, 86); fill-opacity: 1;\"/></g></g></g><rect class=\"legendtoggle\" x=\"0\" y=\"-9.5\" width=\"84.5\" height=\"19\" style=\"fill: rgb(0, 0, 0); fill-opacity: 0;\"/></g></g><g class=\"groups\" transform=\"\"><g class=\"traces\" transform=\"translate(0,89.7)\" style=\"opacity: 1;\"><text class=\"legendtext\" text-anchor=\"start\" x=\"40\" y=\"4.680000000000001\" style=\"font-family: 'Open Sans', verdana, arial, sans-serif; font-size: 12px; fill: rgb(42, 63, 95); fill-opacity: 1; white-space: pre;\">2021</text><g class=\"layers\" style=\"opacity: 1;\"><g class=\"legendfill\"/><g class=\"legendlines\"/><g class=\"legendsymbols\"><g class=\"legendpoints\"><path class=\"legendundefined\" d=\"M6,6H-6V-6H6Z\" transform=\"translate(20,0)\" style=\"stroke-width: 0px; fill: rgb(114, 183, 178); fill-opacity: 1;\"/></g></g></g><rect class=\"legendtoggle\" x=\"0\" y=\"-9.5\" width=\"84.5\" height=\"19\" style=\"fill: rgb(0, 0, 0); fill-opacity: 0;\"/></g></g><g class=\"groups\" transform=\"\"><g class=\"traces\" transform=\"translate(0,108.7)\" style=\"opacity: 1;\"><text class=\"legendtext\" text-anchor=\"start\" x=\"40\" y=\"4.680000000000001\" style=\"font-family: 'Open Sans', verdana, arial, sans-serif; font-size: 12px; fill: rgb(42, 63, 95); fill-opacity: 1; white-space: pre;\">banned</text><g class=\"layers\" style=\"opacity: 1;\"><g class=\"legendfill\"/><g class=\"legendlines\"/><g class=\"legendsymbols\"><g class=\"legendpoints\"><path class=\"legendundefined\" d=\"M6,6H-6V-6H6Z\" transform=\"translate(20,0)\" style=\"stroke-width: 0px; fill: rgb(84, 162, 75); fill-opacity: 1;\"/></g></g></g><rect class=\"legendtoggle\" x=\"0\" y=\"-9.5\" width=\"84.5\" height=\"19\" style=\"fill: rgb(0, 0, 0); fill-opacity: 0;\"/></g></g><g class=\"groups\" transform=\"\"><g class=\"traces\" transform=\"translate(0,127.7)\" style=\"opacity: 1;\"><text class=\"legendtext\" text-anchor=\"start\" x=\"40\" y=\"4.680000000000001\" style=\"font-family: 'Open Sans', verdana, arial, sans-serif; font-size: 12px; fill: rgb(42, 63, 95); fill-opacity: 1; white-space: pre;\">others</text><g class=\"layers\" style=\"opacity: 1;\"><g class=\"legendfill\"/><g class=\"legendlines\"/><g class=\"legendsymbols\"><g class=\"legendpoints\"><path class=\"legendundefined\" d=\"M6,6H-6V-6H6Z\" transform=\"translate(20,0)\" style=\"stroke-width: 0px; fill: rgb(238, 202, 59); fill-opacity: 1;\"/></g></g></g><rect class=\"legendtoggle\" x=\"0\" y=\"-9.5\" width=\"84.5\" height=\"19\" style=\"fill: rgb(0, 0, 0); fill-opacity: 0;\"/></g></g></g><rect class=\"scrollbar\" rx=\"20\" ry=\"3\" width=\"0\" height=\"0\" x=\"0\" y=\"0\" style=\"fill: rgb(128, 139, 164); fill-opacity: 1;\"/></g><g class=\"g-gtitle\"><text class=\"gtitle\" x=\"45\" y=\"50\" text-anchor=\"start\" dy=\"0em\" style=\"font-family: 'Open Sans', verdana, arial, sans-serif; font-size: 17px; fill: rgb(42, 63, 95); opacity: 1; font-weight: normal; white-space: pre;\">Submissions of newly created accounts in 2021</text></g><g class=\"g-xtitle\"><text class=\"xtitle\" x=\"426\" y=\"460.8\" text-anchor=\"middle\" style=\"font-family: 'Open Sans', verdana, arial, sans-serif; font-size: 14px; fill: rgb(42, 63, 95); opacity: 1; font-weight: normal; white-space: pre;\">creation_year</text></g><g class=\"g-ytitle\"><text class=\"ytitle\" transform=\"rotate(-90,31.309375000000003,260)\" x=\"31.309375000000003\" y=\"260\" text-anchor=\"middle\" style=\"font-family: 'Open Sans', verdana, arial, sans-serif; font-size: 14px; fill: rgb(42, 63, 95); opacity: 1; font-weight: normal; white-space: pre;\">count</text></g></g></svg>"
      ]
     },
     "metadata": {},
     "output_type": "display_data"
    }
   ],
   "source": [
    "fig = px.histogram(df_submissions, x='creation_year', color=\"creation_year\", \n",
    "                  color_discrete_sequence = colors,\n",
    "                   category_orders = dict(creation_year=['2018', '2019', '2020', '2021', 'banned', 'others']),\n",
    "                   title = 'Submissions of newly created accounts in 2021')\n",
    "fig.show()"
   ]
  },
  {
   "cell_type": "code",
   "execution_count": 101,
   "id": "5b951025",
   "metadata": {},
   "outputs": [
    {
     "data": {
      "image/svg+xml": [
       "<svg class=\"main-svg\" xmlns=\"http://www.w3.org/2000/svg\" xmlns:xlink=\"http://www.w3.org/1999/xlink\" width=\"900\" height=\"500\" style=\"\" viewBox=\"0 0 900 500\"><rect x=\"0\" y=\"0\" width=\"900\" height=\"500\" style=\"fill: rgb(255, 255, 255); fill-opacity: 1;\"/><defs id=\"defs-217f90\"><g class=\"clips\"/><g class=\"gradients\"/><g class=\"patterns\"/></defs><g class=\"bglayer\"/><g class=\"layer-below\"><g class=\"imagelayer\"/><g class=\"shapelayer\"/></g><g class=\"cartesianlayer\"/><g class=\"polarlayer\"/><g class=\"ternarylayer\"/><g class=\"geolayer\"/><g class=\"funnelarealayer\"/><g class=\"pielayer\"><g class=\"trace\" stroke-linejoin=\"round\" style=\"opacity: 1;\"><g class=\"slice\"><path class=\"surface\" d=\"M432,260l0,-160a160,160 0 0 1 54.72322293210702,310.3508193257453Z\" style=\"pointer-events: all; stroke-width: 0; fill: rgb(76, 120, 168); fill-opacity: 1; stroke: rgb(68, 68, 68); stroke-opacity: 1;\"/><g class=\"slicetext\"><text data-notex=\"1\" class=\"slicetext\" transform=\"translate(511.3485962003558,242.69712633585215)\" text-anchor=\"middle\" x=\"0\" y=\"0\" style=\"font-family: 'Open Sans', verdana, arial, sans-serif; font-size: 12px; fill: rgb(255, 255, 255); fill-opacity: 1; white-space: pre;\"><tspan class=\"line\" dy=\"0em\" x=\"0\" y=\"0\">others</tspan><tspan class=\"line\" dy=\"1.3em\" x=\"0\" y=\"0\">44.4%</tspan></text></g></g><g class=\"slice\"><path class=\"surface\" d=\"M432,260l-157.56924048195327,27.78370842670885a160,160 0 0 1 157.56924048195327,-187.78370842670884Z\" style=\"pointer-events: all; stroke-width: 0; fill: rgb(245, 133, 24); fill-opacity: 1; stroke: rgb(68, 68, 68); stroke-opacity: 1;\"/><g class=\"slicetext\"><text data-notex=\"1\" class=\"slicetext\" transform=\"translate(362.55888401454354,198.46007501740763)\" text-anchor=\"middle\" x=\"0\" y=\"0\" style=\"font-family: 'Open Sans', verdana, arial, sans-serif; font-size: 12px; fill: rgb(68, 68, 68); fill-opacity: 1; white-space: pre;\"><tspan class=\"line\" dy=\"0em\" x=\"0\" y=\"0\">2020</tspan><tspan class=\"line\" dy=\"1.3em\" x=\"0\" y=\"0\">27.8%</tspan></text></g></g><g class=\"slice\"><path class=\"surface\" d=\"M432,260l-54.72322293210702,150.35081932574533a160,160 0 0 1 -102.84601754984625,-122.56711089903649Z\" style=\"pointer-events: all; stroke-width: 0; fill: rgb(228, 87, 86); fill-opacity: 1; stroke: rgb(68, 68, 68); stroke-opacity: 1;\"/><g class=\"slicetext\"><text data-notex=\"1\" class=\"slicetext\" transform=\"translate(350.2495302339757,325.25932419989755)\" text-anchor=\"middle\" x=\"0\" y=\"0\" style=\"font-family: 'Open Sans', verdana, arial, sans-serif; font-size: 12px; fill: rgb(68, 68, 68); fill-opacity: 1; white-space: pre;\"><tspan class=\"line\" dy=\"0em\" x=\"0\" y=\"0\">2021</tspan><tspan class=\"line\" dy=\"1.3em\" x=\"0\" y=\"0\">16.7%</tspan></text></g></g><g class=\"slice\"><path class=\"surface\" d=\"M432,260l54.723222932106985,150.35081932574536a160,160 0 0 1 -109.44644586421401,-2.842170943040401e-14Z\" style=\"pointer-events: all; stroke-width: 0; fill: rgb(114, 183, 178); fill-opacity: 1; stroke: rgb(68, 68, 68); stroke-opacity: 1;\"/><g class=\"slicetext\"><text data-notex=\"1\" class=\"slicetext\" transform=\"translate(432,375.91856022525616)\" text-anchor=\"middle\" x=\"0\" y=\"0\" style=\"font-family: 'Open Sans', verdana, arial, sans-serif; font-size: 12px; fill: rgb(68, 68, 68); fill-opacity: 1; white-space: pre;\"><tspan class=\"line\" dy=\"0em\" x=\"0\" y=\"0\">banned</tspan><tspan class=\"line\" dy=\"1.3em\" x=\"0\" y=\"0\">11.1%</tspan></text></g></g></g></g><g class=\"iciclelayer\"/><g class=\"treemaplayer\"/><g class=\"sunburstlayer\"/><g class=\"glimages\"/><defs id=\"topdefs-217f90\"><g class=\"clips\"/><clipPath id=\"legend217f90\"><rect width=\"90\" height=\"86\" x=\"0\" y=\"0\"/></clipPath></defs><g class=\"layer-above\"><g class=\"imagelayer\"/><g class=\"shapelayer\"/></g><g class=\"infolayer\"><g class=\"legend\" pointer-events=\"all\" transform=\"translate(798.08,100)\"><rect class=\"bg\" shape-rendering=\"crispEdges\" width=\"90\" height=\"86\" x=\"0\" y=\"0\" style=\"stroke: rgb(68, 68, 68); stroke-opacity: 1; fill: rgb(255, 255, 255); fill-opacity: 1; stroke-width: 0px;\"/><g class=\"scrollbox\" transform=\"\" clip-path=\"url(#legend217f90)\"><g class=\"groups\"><g class=\"traces\" transform=\"translate(0,14.5)\" style=\"opacity: 1;\"><text class=\"legendtext\" text-anchor=\"start\" x=\"40\" y=\"4.680000000000001\" style=\"font-family: 'Open Sans', verdana, arial, sans-serif; font-size: 12px; fill: rgb(42, 63, 95); fill-opacity: 1; white-space: pre;\">others</text><g class=\"layers\" style=\"opacity: 1;\"><g class=\"legendfill\"/><g class=\"legendlines\"/><g class=\"legendsymbols\"><g class=\"legendpoints\"><path class=\"legendpie\" d=\"M6,6H-6V-6H6Z\" transform=\"translate(20,0)\" style=\"stroke-width: 0; fill: rgb(76, 120, 168); fill-opacity: 1; stroke: rgb(68, 68, 68); stroke-opacity: 1;\"/></g></g></g><rect class=\"legendtoggle\" x=\"0\" y=\"-9.5\" width=\"84.5\" height=\"19\" style=\"fill: rgb(0, 0, 0); fill-opacity: 0;\"/></g><g class=\"traces\" transform=\"translate(0,33.5)\" style=\"opacity: 1;\"><text class=\"legendtext\" text-anchor=\"start\" x=\"40\" y=\"4.680000000000001\" style=\"font-family: 'Open Sans', verdana, arial, sans-serif; font-size: 12px; fill: rgb(42, 63, 95); fill-opacity: 1; white-space: pre;\">2020</text><g class=\"layers\" style=\"opacity: 1;\"><g class=\"legendfill\"/><g class=\"legendlines\"/><g class=\"legendsymbols\"><g class=\"legendpoints\"><path class=\"legendpie\" d=\"M6,6H-6V-6H6Z\" transform=\"translate(20,0)\" style=\"stroke-width: 0; fill: rgb(245, 133, 24); fill-opacity: 1; stroke: rgb(68, 68, 68); stroke-opacity: 1;\"/></g></g></g><rect class=\"legendtoggle\" x=\"0\" y=\"-9.5\" width=\"84.5\" height=\"19\" style=\"fill: rgb(0, 0, 0); fill-opacity: 0;\"/></g><g class=\"traces\" transform=\"translate(0,52.5)\" style=\"opacity: 1;\"><text class=\"legendtext\" text-anchor=\"start\" x=\"40\" y=\"4.680000000000001\" style=\"font-family: 'Open Sans', verdana, arial, sans-serif; font-size: 12px; fill: rgb(42, 63, 95); fill-opacity: 1; white-space: pre;\">2021</text><g class=\"layers\" style=\"opacity: 1;\"><g class=\"legendfill\"/><g class=\"legendlines\"/><g class=\"legendsymbols\"><g class=\"legendpoints\"><path class=\"legendpie\" d=\"M6,6H-6V-6H6Z\" transform=\"translate(20,0)\" style=\"stroke-width: 0; fill: rgb(228, 87, 86); fill-opacity: 1; stroke: rgb(68, 68, 68); stroke-opacity: 1;\"/></g></g></g><rect class=\"legendtoggle\" x=\"0\" y=\"-9.5\" width=\"84.5\" height=\"19\" style=\"fill: rgb(0, 0, 0); fill-opacity: 0;\"/></g><g class=\"traces\" transform=\"translate(0,71.5)\" style=\"opacity: 1;\"><text class=\"legendtext\" text-anchor=\"start\" x=\"40\" y=\"4.680000000000001\" style=\"font-family: 'Open Sans', verdana, arial, sans-serif; font-size: 12px; fill: rgb(42, 63, 95); fill-opacity: 1; white-space: pre;\">banned</text><g class=\"layers\" style=\"opacity: 1;\"><g class=\"legendfill\"/><g class=\"legendlines\"/><g class=\"legendsymbols\"><g class=\"legendpoints\"><path class=\"legendpie\" d=\"M6,6H-6V-6H6Z\" transform=\"translate(20,0)\" style=\"stroke-width: 0; fill: rgb(114, 183, 178); fill-opacity: 1; stroke: rgb(68, 68, 68); stroke-opacity: 1;\"/></g></g></g><rect class=\"legendtoggle\" x=\"0\" y=\"-9.5\" width=\"84.5\" height=\"19\" style=\"fill: rgb(0, 0, 0); fill-opacity: 0;\"/></g></g></g><rect class=\"scrollbar\" rx=\"20\" ry=\"3\" width=\"0\" height=\"0\" x=\"0\" y=\"0\" style=\"fill: rgb(128, 139, 164); fill-opacity: 1;\"/></g><g class=\"g-gtitle\"><text class=\"gtitle\" x=\"45\" y=\"50\" text-anchor=\"start\" dy=\"0em\" style=\"font-family: 'Open Sans', verdana, arial, sans-serif; font-size: 17px; fill: rgb(42, 63, 95); opacity: 1; font-weight: normal; white-space: pre;\">Submissions of newly created accounts on the peak day (2021-04-17)</text></g></g></svg>"
      ]
     },
     "metadata": {},
     "output_type": "display_data"
    }
   ],
   "source": [
    "fig = px.pie(df_peak.query(\"submission_comment == 'submission'\").creation_year.value_counts().to_frame().reset_index(),\n",
    "             values='creation_year', names='index', color_discrete_sequence = colors,\n",
    "             title = 'Submissions of newly created accounts on the peak day (2021-04-17)')\n",
    "\n",
    "fig.update_traces(textposition='inside', textinfo='percent+label')\n",
    "\n",
    "fig.show()"
   ]
  },
  {
   "cell_type": "markdown",
   "id": "2fd957c3",
   "metadata": {},
   "source": [
    "**NOTE:** There is no submissions made (in the peak day of 2021) from 2018, 2019 accounts on that day. <br>\n",
    "Submissions are only made by accounts created in 2020 & 2021"
   ]
  },
  {
   "cell_type": "code",
   "execution_count": 102,
   "id": "1df89fa8",
   "metadata": {},
   "outputs": [
    {
     "data": {
      "text/plain": [
       "1341"
      ]
     },
     "execution_count": 102,
     "metadata": {},
     "output_type": "execute_result"
    }
   ],
   "source": [
    "df_peak.shape[0]"
   ]
  },
  {
   "cell_type": "code",
   "execution_count": 103,
   "id": "b078880e",
   "metadata": {},
   "outputs": [
    {
     "data": {
      "text/plain": [
       "18"
      ]
     },
     "execution_count": 103,
     "metadata": {},
     "output_type": "execute_result"
    }
   ],
   "source": [
    "df_peak.query(\"submission_comment == 'submission'\").shape[0]"
   ]
  },
  {
   "cell_type": "markdown",
   "id": "eb76f911",
   "metadata": {},
   "source": [
    "**NOTE:** We only have 18 submissions on peak day with about 1300 comments and replies"
   ]
  },
  {
   "cell_type": "code",
   "execution_count": 104,
   "id": "0a9bc36b",
   "metadata": {},
   "outputs": [
    {
     "data": {
      "image/svg+xml": [
       "<svg class=\"main-svg\" xmlns=\"http://www.w3.org/2000/svg\" xmlns:xlink=\"http://www.w3.org/1999/xlink\" width=\"900\" height=\"500\" style=\"\" viewBox=\"0 0 900 500\"><rect x=\"0\" y=\"0\" width=\"900\" height=\"500\" style=\"fill: rgb(255, 255, 255); fill-opacity: 1;\"/><defs id=\"defs-d54105\"><g class=\"clips\"><clipPath id=\"clipd54105xyplot\" class=\"plotclip\"><rect width=\"692\" height=\"320\"/></clipPath><clipPath class=\"axesclip\" id=\"clipd54105x\"><rect x=\"80\" y=\"0\" width=\"692\" height=\"500\"/></clipPath><clipPath class=\"axesclip\" id=\"clipd54105y\"><rect x=\"0\" y=\"100\" width=\"900\" height=\"320\"/></clipPath><clipPath class=\"axesclip\" id=\"clipd54105xy\"><rect x=\"80\" y=\"100\" width=\"692\" height=\"320\"/></clipPath></g><g class=\"gradients\"/><g class=\"patterns\"/></defs><g class=\"bglayer\"><rect class=\"bg\" x=\"80\" y=\"100\" width=\"692\" height=\"320\" style=\"fill: rgb(229, 236, 246); fill-opacity: 1; stroke-width: 0;\"/></g><g class=\"layer-below\"><g class=\"imagelayer\"/><g class=\"shapelayer\"/></g><g class=\"cartesianlayer\"><g class=\"subplot xy\"><g class=\"layer-subplot\"><g class=\"shapelayer\"/><g class=\"imagelayer\"/></g><g class=\"gridlayer\"><g class=\"x\"/><g class=\"y\"><path class=\"ygrid crisp\" transform=\"translate(0,382)\" d=\"M80,0h692\" style=\"stroke: rgb(255, 255, 255); stroke-opacity: 1; stroke-width: 1px;\"/><path class=\"ygrid crisp\" transform=\"translate(0,344)\" d=\"M80,0h692\" style=\"stroke: rgb(255, 255, 255); stroke-opacity: 1; stroke-width: 1px;\"/><path class=\"ygrid crisp\" transform=\"translate(0,306)\" d=\"M80,0h692\" style=\"stroke: rgb(255, 255, 255); stroke-opacity: 1; stroke-width: 1px;\"/><path class=\"ygrid crisp\" transform=\"translate(0,268)\" d=\"M80,0h692\" style=\"stroke: rgb(255, 255, 255); stroke-opacity: 1; stroke-width: 1px;\"/><path class=\"ygrid crisp\" transform=\"translate(0,230)\" d=\"M80,0h692\" style=\"stroke: rgb(255, 255, 255); stroke-opacity: 1; stroke-width: 1px;\"/><path class=\"ygrid crisp\" transform=\"translate(0,192)\" d=\"M80,0h692\" style=\"stroke: rgb(255, 255, 255); stroke-opacity: 1; stroke-width: 1px;\"/><path class=\"ygrid crisp\" transform=\"translate(0,154)\" d=\"M80,0h692\" style=\"stroke: rgb(255, 255, 255); stroke-opacity: 1; stroke-width: 1px;\"/><path class=\"ygrid crisp\" transform=\"translate(0,116)\" d=\"M80,0h692\" style=\"stroke: rgb(255, 255, 255); stroke-opacity: 1; stroke-width: 1px;\"/></g></g><g class=\"zerolinelayer\"><path class=\"yzl zl crisp\" transform=\"translate(0,420)\" d=\"M80,0h692\" style=\"stroke: rgb(255, 255, 255); stroke-opacity: 1; stroke-width: 2px;\"/></g><path class=\"xlines-below\"/><path class=\"ylines-below\"/><g class=\"overlines-below\"/><g class=\"xaxislayer-below\"/><g class=\"yaxislayer-below\"/><g class=\"overaxes-below\"/><g class=\"plot\" transform=\"translate(80,100)\" clip-path=\"url(#clipd54105xyplot)\"><g class=\"barlayer mlayer\"><g class=\"trace bars\" style=\"opacity: 1;\"><g class=\"points\"><g class=\"point\"><path d=\"M17.3,320V130H155.7V320Z\" style=\"vector-effect: non-scaling-stroke; opacity: 1; stroke-width: 0px; fill: rgb(228, 87, 86); fill-opacity: 1;\"/></g></g></g><g class=\"trace bars\" style=\"opacity: 1;\"><g class=\"points\"><g class=\"point\"><path d=\"M190.3,320V206H328.7V320Z\" style=\"vector-effect: non-scaling-stroke; opacity: 1; stroke-width: 0px; fill: rgb(114, 183, 178); fill-opacity: 1;\"/></g></g></g><g class=\"trace bars\" style=\"opacity: 1;\"><g class=\"points\"><g class=\"point\"><path d=\"M363.3,320V244H501.7V320Z\" style=\"vector-effect: non-scaling-stroke; opacity: 1; stroke-width: 0px; fill: rgb(84, 162, 75); fill-opacity: 1;\"/></g></g></g><g class=\"trace bars\" style=\"opacity: 1;\"><g class=\"points\"><g class=\"point\"><path d=\"M536.3,320V16H674.7V320Z\" style=\"vector-effect: non-scaling-stroke; opacity: 1; stroke-width: 0px; fill: rgb(238, 202, 59); fill-opacity: 1;\"/></g></g></g></g></g><g class=\"overplot\"/><path class=\"xlines-above crisp\" d=\"M0,0\" style=\"fill: none;\"/><path class=\"ylines-above crisp\" d=\"M0,0\" style=\"fill: none;\"/><g class=\"overlines-above\"/><g class=\"xaxislayer-above\"><g class=\"xtick\"><text text-anchor=\"middle\" x=\"0\" y=\"433\" transform=\"translate(166.5,0)\" style=\"font-family: 'Open Sans', verdana, arial, sans-serif; font-size: 12px; fill: rgb(42, 63, 95); fill-opacity: 1; white-space: pre; opacity: 1;\">2020</text></g><g class=\"xtick\"><text text-anchor=\"middle\" x=\"0\" y=\"433\" transform=\"translate(339.5,0)\" style=\"font-family: 'Open Sans', verdana, arial, sans-serif; font-size: 12px; fill: rgb(42, 63, 95); fill-opacity: 1; white-space: pre; opacity: 1;\">2021</text></g><g class=\"xtick\"><text text-anchor=\"middle\" x=\"0\" y=\"433\" transform=\"translate(512.5,0)\" style=\"font-family: 'Open Sans', verdana, arial, sans-serif; font-size: 12px; fill: rgb(42, 63, 95); fill-opacity: 1; white-space: pre; opacity: 1;\">banned</text></g><g class=\"xtick\"><text text-anchor=\"middle\" x=\"0\" y=\"433\" transform=\"translate(685.5,0)\" style=\"font-family: 'Open Sans', verdana, arial, sans-serif; font-size: 12px; fill: rgb(42, 63, 95); fill-opacity: 1; white-space: pre; opacity: 1;\">others</text></g></g><g class=\"yaxislayer-above\"><g class=\"ytick\"><text text-anchor=\"end\" x=\"79\" y=\"4.199999999999999\" transform=\"translate(0,420)\" style=\"font-family: 'Open Sans', verdana, arial, sans-serif; font-size: 12px; fill: rgb(42, 63, 95); fill-opacity: 1; white-space: pre; opacity: 1;\">0</text></g><g class=\"ytick\"><text text-anchor=\"end\" x=\"79\" y=\"4.199999999999999\" style=\"font-family: 'Open Sans', verdana, arial, sans-serif; font-size: 12px; fill: rgb(42, 63, 95); fill-opacity: 1; white-space: pre; opacity: 1;\" transform=\"translate(0,382)\">1</text></g><g class=\"ytick\"><text text-anchor=\"end\" x=\"79\" y=\"4.199999999999999\" style=\"font-family: 'Open Sans', verdana, arial, sans-serif; font-size: 12px; fill: rgb(42, 63, 95); fill-opacity: 1; white-space: pre; opacity: 1;\" transform=\"translate(0,344)\">2</text></g><g class=\"ytick\"><text text-anchor=\"end\" x=\"79\" y=\"4.199999999999999\" style=\"font-family: 'Open Sans', verdana, arial, sans-serif; font-size: 12px; fill: rgb(42, 63, 95); fill-opacity: 1; white-space: pre; opacity: 1;\" transform=\"translate(0,306)\">3</text></g><g class=\"ytick\"><text text-anchor=\"end\" x=\"79\" y=\"4.199999999999999\" style=\"font-family: 'Open Sans', verdana, arial, sans-serif; font-size: 12px; fill: rgb(42, 63, 95); fill-opacity: 1; white-space: pre; opacity: 1;\" transform=\"translate(0,268)\">4</text></g><g class=\"ytick\"><text text-anchor=\"end\" x=\"79\" y=\"4.199999999999999\" style=\"font-family: 'Open Sans', verdana, arial, sans-serif; font-size: 12px; fill: rgb(42, 63, 95); fill-opacity: 1; white-space: pre; opacity: 1;\" transform=\"translate(0,230)\">5</text></g><g class=\"ytick\"><text text-anchor=\"end\" x=\"79\" y=\"4.199999999999999\" style=\"font-family: 'Open Sans', verdana, arial, sans-serif; font-size: 12px; fill: rgb(42, 63, 95); fill-opacity: 1; white-space: pre; opacity: 1;\" transform=\"translate(0,192)\">6</text></g><g class=\"ytick\"><text text-anchor=\"end\" x=\"79\" y=\"4.199999999999999\" style=\"font-family: 'Open Sans', verdana, arial, sans-serif; font-size: 12px; fill: rgb(42, 63, 95); fill-opacity: 1; white-space: pre; opacity: 1;\" transform=\"translate(0,154)\">7</text></g><g class=\"ytick\"><text text-anchor=\"end\" x=\"79\" y=\"4.199999999999999\" style=\"font-family: 'Open Sans', verdana, arial, sans-serif; font-size: 12px; fill: rgb(42, 63, 95); fill-opacity: 1; white-space: pre; opacity: 1;\" transform=\"translate(0,116)\">8</text></g></g><g class=\"overaxes-above\"/></g></g><g class=\"polarlayer\"/><g class=\"ternarylayer\"/><g class=\"geolayer\"/><g class=\"funnelarealayer\"/><g class=\"pielayer\"/><g class=\"iciclelayer\"/><g class=\"treemaplayer\"/><g class=\"sunburstlayer\"/><g class=\"glimages\"/><defs id=\"topdefs-d54105\"><g class=\"clips\"/><clipPath id=\"legendd54105\"><rect width=\"102\" height=\"105\" x=\"0\" y=\"0\"/></clipPath></defs><g class=\"layer-above\"><g class=\"imagelayer\"/><g class=\"shapelayer\"/></g><g class=\"infolayer\"><g class=\"legend\" pointer-events=\"all\" transform=\"translate(785.84,100)\"><rect class=\"bg\" shape-rendering=\"crispEdges\" width=\"102\" height=\"105\" x=\"0\" y=\"0\" style=\"stroke: rgb(68, 68, 68); stroke-opacity: 1; fill: rgb(255, 255, 255); fill-opacity: 1; stroke-width: 0px;\"/><g class=\"scrollbox\" transform=\"\" clip-path=\"url(#legendd54105)\"><text class=\"legendtitletext\" text-anchor=\"start\" x=\"2\" y=\"18.2\" style=\"font-family: 'Open Sans', verdana, arial, sans-serif; font-size: 14px; fill: rgb(42, 63, 95); fill-opacity: 1; white-space: pre;\">creation_year</text><g class=\"groups\" transform=\"\"><g class=\"traces\" transform=\"translate(0,32.7)\" style=\"opacity: 1;\"><text class=\"legendtext\" text-anchor=\"start\" x=\"40\" y=\"4.680000000000001\" style=\"font-family: 'Open Sans', verdana, arial, sans-serif; font-size: 12px; fill: rgb(42, 63, 95); fill-opacity: 1; white-space: pre;\">2020</text><g class=\"layers\" style=\"opacity: 1;\"><g class=\"legendfill\"/><g class=\"legendlines\"/><g class=\"legendsymbols\"><g class=\"legendpoints\"><path class=\"legendundefined\" d=\"M6,6H-6V-6H6Z\" transform=\"translate(20,0)\" style=\"stroke-width: 0px; fill: rgb(228, 87, 86); fill-opacity: 1;\"/></g></g></g><rect class=\"legendtoggle\" x=\"0\" y=\"-9.5\" width=\"84.5\" height=\"19\" style=\"fill: rgb(0, 0, 0); fill-opacity: 0;\"/></g></g><g class=\"groups\" transform=\"\"><g class=\"traces\" transform=\"translate(0,51.7)\" style=\"opacity: 1;\"><text class=\"legendtext\" text-anchor=\"start\" x=\"40\" y=\"4.680000000000001\" style=\"font-family: 'Open Sans', verdana, arial, sans-serif; font-size: 12px; fill: rgb(42, 63, 95); fill-opacity: 1; white-space: pre;\">2021</text><g class=\"layers\" style=\"opacity: 1;\"><g class=\"legendfill\"/><g class=\"legendlines\"/><g class=\"legendsymbols\"><g class=\"legendpoints\"><path class=\"legendundefined\" d=\"M6,6H-6V-6H6Z\" transform=\"translate(20,0)\" style=\"stroke-width: 0px; fill: rgb(114, 183, 178); fill-opacity: 1;\"/></g></g></g><rect class=\"legendtoggle\" x=\"0\" y=\"-9.5\" width=\"84.5\" height=\"19\" style=\"fill: rgb(0, 0, 0); fill-opacity: 0;\"/></g></g><g class=\"groups\" transform=\"\"><g class=\"traces\" transform=\"translate(0,70.7)\" style=\"opacity: 1;\"><text class=\"legendtext\" text-anchor=\"start\" x=\"40\" y=\"4.680000000000001\" style=\"font-family: 'Open Sans', verdana, arial, sans-serif; font-size: 12px; fill: rgb(42, 63, 95); fill-opacity: 1; white-space: pre;\">banned</text><g class=\"layers\" style=\"opacity: 1;\"><g class=\"legendfill\"/><g class=\"legendlines\"/><g class=\"legendsymbols\"><g class=\"legendpoints\"><path class=\"legendundefined\" d=\"M6,6H-6V-6H6Z\" transform=\"translate(20,0)\" style=\"stroke-width: 0px; fill: rgb(84, 162, 75); fill-opacity: 1;\"/></g></g></g><rect class=\"legendtoggle\" x=\"0\" y=\"-9.5\" width=\"84.5\" height=\"19\" style=\"fill: rgb(0, 0, 0); fill-opacity: 0;\"/></g></g><g class=\"groups\" transform=\"\"><g class=\"traces\" transform=\"translate(0,89.7)\" style=\"opacity: 1;\"><text class=\"legendtext\" text-anchor=\"start\" x=\"40\" y=\"4.680000000000001\" style=\"font-family: 'Open Sans', verdana, arial, sans-serif; font-size: 12px; fill: rgb(42, 63, 95); fill-opacity: 1; white-space: pre;\">others</text><g class=\"layers\" style=\"opacity: 1;\"><g class=\"legendfill\"/><g class=\"legendlines\"/><g class=\"legendsymbols\"><g class=\"legendpoints\"><path class=\"legendundefined\" d=\"M6,6H-6V-6H6Z\" transform=\"translate(20,0)\" style=\"stroke-width: 0px; fill: rgb(238, 202, 59); fill-opacity: 1;\"/></g></g></g><rect class=\"legendtoggle\" x=\"0\" y=\"-9.5\" width=\"84.5\" height=\"19\" style=\"fill: rgb(0, 0, 0); fill-opacity: 0;\"/></g></g></g><rect class=\"scrollbar\" rx=\"20\" ry=\"3\" width=\"0\" height=\"0\" x=\"0\" y=\"0\" style=\"fill: rgb(128, 139, 164); fill-opacity: 1;\"/></g><g class=\"g-gtitle\"><text class=\"gtitle\" x=\"45\" y=\"50\" text-anchor=\"start\" dy=\"0em\" style=\"font-family: 'Open Sans', verdana, arial, sans-serif; font-size: 17px; fill: rgb(42, 63, 95); opacity: 1; font-weight: normal; white-space: pre;\">Submissions of newly created accounts on the peak day (2021-04-17)</text></g><g class=\"g-xtitle\"><text class=\"xtitle\" x=\"426\" y=\"460.8\" text-anchor=\"middle\" style=\"font-family: 'Open Sans', verdana, arial, sans-serif; font-size: 14px; fill: rgb(42, 63, 95); opacity: 1; font-weight: normal; white-space: pre;\">creation_year</text></g><g class=\"g-ytitle\"><text class=\"ytitle\" transform=\"rotate(-90,46.559375,260)\" x=\"46.559375\" y=\"260\" text-anchor=\"middle\" style=\"font-family: 'Open Sans', verdana, arial, sans-serif; font-size: 14px; fill: rgb(42, 63, 95); opacity: 1; font-weight: normal; white-space: pre;\">count</text></g></g></svg>"
      ]
     },
     "metadata": {},
     "output_type": "display_data"
    }
   ],
   "source": [
    "fig = px.histogram(df_merged[(df_merged['created_at'].dt.date.astype('str') == '2021-04-17') &\\\n",
    "                            (df_merged['submission_comment'] == 'submission')], \n",
    "                   x='creation_year', color=\"creation_year\", \n",
    "                  color_discrete_sequence = colors,\n",
    "                   category_orders = dict(creation_year=['2018', '2019', '2020', '2021', 'banned', 'others']),\n",
    "                   title = 'Submissions of newly created accounts on the peak day (2021-04-17)')\n",
    "fig.show()"
   ]
  },
  {
   "cell_type": "markdown",
   "id": "b74dfbbf",
   "metadata": {},
   "source": [
    "<a id='explore_new'></a>\n",
    "># New Accounts\n",
    "\n",
    "<ul>\n",
    "<li><a href=\"#banned_unverified\">Banned / Unverified</a></li>    \n",
    "<li><a href=\"#explore_banned\">Banned Accounts</a></li>\n",
    "    <br>\n",
    "<li><a href=\"#explore_unverified\">Unverified Accounts</a></li>\n",
    "    <br>\n",
    "<li><a href=\"#new_others\">New Vs Others</a></li>\n",
    "<li><a href=\"#explore_new\"><b><mark>New Accounts</mark></b></a></li>\n",
    "    <br>\n",
    "<li><a href=\"#contributions_scores\">2021 Contributions Scores</a></li>\n",
    "</ul>"
   ]
  },
  {
   "cell_type": "markdown",
   "id": "d0483f77",
   "metadata": {},
   "source": [
    "<a id='explore_4'></a>\n",
    ">># Last 4 Years\n",
    "\n",
    "<ul>\n",
    "<li><a href=\"#explore_4\"><b><mark>Last 4 Years</mark></b></a></li>\n",
    "<li><a href=\"#explore_2018\">Accounts created in 2018</a></li>\n",
    "<li><a href=\"#explore_2019\">Accounts created in 2019</a></li>\n",
    "<li><a href=\"#explore_2020\">Accounts created in 2020</a></li>\n",
    "<li><a href=\"#explore_2021\">Accounts created in 2021</a></li>\n",
    "</ul>"
   ]
  },
  {
   "cell_type": "markdown",
   "id": "5b7c6bb9",
   "metadata": {},
   "source": [
    "### Contributions"
   ]
  },
  {
   "cell_type": "code",
   "execution_count": 105,
   "id": "be2c03b1",
   "metadata": {},
   "outputs": [
    {
     "name": "stdout",
     "output_type": "stream",
     "text": [
      "Total contributions in 2021 made by newly created accounts(last 4 years):\n"
     ]
    },
    {
     "data": {
      "text/plain": [
       "9759"
      ]
     },
     "execution_count": 105,
     "metadata": {},
     "output_type": "execute_result"
    }
   ],
   "source": [
    "print('Total contributions in 2021 made by newly created accounts(last 4 years):')\n",
    "df_4.shape[0]"
   ]
  },
  {
   "cell_type": "code",
   "execution_count": 106,
   "id": "bf238930",
   "metadata": {},
   "outputs": [
    {
     "name": "stdout",
     "output_type": "stream",
     "text": [
      "The percentage % of 2021 contributions made by newly created accounts(last 4 years):\n"
     ]
    },
    {
     "data": {
      "text/plain": [
       "53.31330237639989"
      ]
     },
     "execution_count": 106,
     "metadata": {},
     "output_type": "execute_result"
    }
   ],
   "source": [
    "print('The percentage % of 2021 contributions made by newly created accounts(last 4 years):')\n",
    "contr_prop_4 = df_4.shape[0] * 100 /df_merged.shape[0]\n",
    "contr_prop_4"
   ]
  },
  {
   "cell_type": "markdown",
   "id": "0fede24e",
   "metadata": {},
   "source": [
    "### Comments"
   ]
  },
  {
   "cell_type": "code",
   "execution_count": 107,
   "id": "746d5b83",
   "metadata": {},
   "outputs": [
    {
     "name": "stdout",
     "output_type": "stream",
     "text": [
      "Total comments in 2021 made by newly created accounts(last 4 years):\n"
     ]
    },
    {
     "data": {
      "text/plain": [
       "8754"
      ]
     },
     "execution_count": 107,
     "metadata": {},
     "output_type": "execute_result"
    }
   ],
   "source": [
    "print('Total comments in 2021 made by newly created accounts(last 4 years):')\n",
    "df_4.query(\" submission_comment == 'comment' \").shape[0]"
   ]
  },
  {
   "cell_type": "code",
   "execution_count": 108,
   "id": "fac57227",
   "metadata": {},
   "outputs": [],
   "source": [
    "# df_4.query(\" submission_comment == 'comment' \").text.value_counts().head(5)"
   ]
  },
  {
   "cell_type": "markdown",
   "id": "0079ed73",
   "metadata": {},
   "source": [
    "### Submissions"
   ]
  },
  {
   "cell_type": "code",
   "execution_count": 109,
   "id": "25a907a1",
   "metadata": {},
   "outputs": [
    {
     "name": "stdout",
     "output_type": "stream",
     "text": [
      "Total submissions in 2021 made by newly created accounts(last 4 years):\n"
     ]
    },
    {
     "data": {
      "text/plain": [
       "1005"
      ]
     },
     "execution_count": 109,
     "metadata": {},
     "output_type": "execute_result"
    }
   ],
   "source": [
    "print('Total submissions in 2021 made by newly created accounts(last 4 years):')\n",
    "df_4.query(\" submission_comment == 'submission' \").shape[0]"
   ]
  },
  {
   "cell_type": "code",
   "execution_count": 110,
   "id": "38fbc6da",
   "metadata": {},
   "outputs": [
    {
     "name": "stdout",
     "output_type": "stream",
     "text": [
      "The percentage % of 2021 submissions made by newly created accounts(last 4 years):\n"
     ]
    },
    {
     "data": {
      "text/plain": [
       "52.20779220779221"
      ]
     },
     "execution_count": 110,
     "metadata": {},
     "output_type": "execute_result"
    }
   ],
   "source": [
    "print('The percentage % of 2021 submissions made by newly created accounts(last 4 years):')\n",
    "sub_prop_4 = df_4.query(\" submission_comment == 'submission' \").shape[0] * 100\\\n",
    "/df_merged.query(\" submission_comment == 'submission' \").shape[0]\n",
    "\n",
    "sub_prop_4"
   ]
  },
  {
   "cell_type": "code",
   "execution_count": 111,
   "id": "c618f093",
   "metadata": {},
   "outputs": [],
   "source": [
    "# df_4.query(\" submission_comment == 'submission' \").text.value_counts().head(5)"
   ]
  },
  {
   "cell_type": "markdown",
   "id": "56a9e665",
   "metadata": {},
   "source": [
    "<a id='explore_2018'></a>\n",
    ">># Accounts created in 2018\n",
    "\n",
    "<ul>\n",
    "<li><a href=\"#explore_4\">Last 4 Years</a></li>\n",
    "<li><a href=\"#explore_2018\"><b><mark>Accounts created in 2018</mark></b></a></li>\n",
    "<li><a href=\"#explore_2019\">Accounts created in 2019</a></li>\n",
    "<li><a href=\"#explore_2020\">Accounts created in 2020</a></li>\n",
    "<li><a href=\"#explore_2021\">Accounts created in 2021</a></li>\n",
    "</ul>"
   ]
  },
  {
   "cell_type": "markdown",
   "id": "7babc06d",
   "metadata": {},
   "source": [
    "### Contributions"
   ]
  },
  {
   "cell_type": "code",
   "execution_count": 112,
   "id": "d5bcdb0b",
   "metadata": {},
   "outputs": [
    {
     "name": "stdout",
     "output_type": "stream",
     "text": [
      "Total contributions in 2021 made by newly created accounts(2018):\n"
     ]
    },
    {
     "data": {
      "text/plain": [
       "1807"
      ]
     },
     "execution_count": 112,
     "metadata": {},
     "output_type": "execute_result"
    }
   ],
   "source": [
    "print('Total contributions in 2021 made by newly created accounts(2018):')\n",
    "df_18.shape[0]"
   ]
  },
  {
   "cell_type": "code",
   "execution_count": 113,
   "id": "ff56349a",
   "metadata": {},
   "outputs": [
    {
     "name": "stdout",
     "output_type": "stream",
     "text": [
      "The percentage % of 2021 contributions made by newly created accounts(2018):\n"
     ]
    },
    {
     "data": {
      "text/plain": [
       "9.871619776017482"
      ]
     },
     "execution_count": 113,
     "metadata": {},
     "output_type": "execute_result"
    }
   ],
   "source": [
    "print('The percentage % of 2021 contributions made by newly created accounts(2018):')\n",
    "contr_prop_18 = df_18.shape[0] * 100 /df_merged.shape[0]\n",
    "contr_prop_18"
   ]
  },
  {
   "cell_type": "markdown",
   "id": "80fcac11",
   "metadata": {},
   "source": [
    "### Comments"
   ]
  },
  {
   "cell_type": "code",
   "execution_count": 114,
   "id": "63cf8fed",
   "metadata": {},
   "outputs": [
    {
     "name": "stdout",
     "output_type": "stream",
     "text": [
      "Total comments in 2021 made by newly created accounts(2018):\n"
     ]
    },
    {
     "data": {
      "text/plain": [
       "1718"
      ]
     },
     "execution_count": 114,
     "metadata": {},
     "output_type": "execute_result"
    }
   ],
   "source": [
    "print('Total comments in 2021 made by newly created accounts(2018):')\n",
    "df_18.query(\" submission_comment == 'comment' \").shape[0]"
   ]
  },
  {
   "cell_type": "code",
   "execution_count": 115,
   "id": "7d0b2bba",
   "metadata": {},
   "outputs": [],
   "source": [
    "# df_18.query(\" submission_comment == 'comment' \").text.value_counts().head(5)"
   ]
  },
  {
   "cell_type": "markdown",
   "id": "c4e8d24c",
   "metadata": {},
   "source": [
    "### Submissions"
   ]
  },
  {
   "cell_type": "code",
   "execution_count": 116,
   "id": "1b27f9d9",
   "metadata": {},
   "outputs": [
    {
     "name": "stdout",
     "output_type": "stream",
     "text": [
      "Total submissions in 2021 made by newly created accounts(2018):\n"
     ]
    },
    {
     "data": {
      "text/plain": [
       "89"
      ]
     },
     "execution_count": 116,
     "metadata": {},
     "output_type": "execute_result"
    }
   ],
   "source": [
    "print('Total submissions in 2021 made by newly created accounts(2018):')\n",
    "df_18.query(\" submission_comment == 'submission' \").shape[0]"
   ]
  },
  {
   "cell_type": "code",
   "execution_count": 117,
   "id": "1942f7cb",
   "metadata": {},
   "outputs": [
    {
     "name": "stdout",
     "output_type": "stream",
     "text": [
      "The percentage % of 2021 submissions made by newly created accounts(2018):\n"
     ]
    },
    {
     "data": {
      "text/plain": [
       "4.623376623376624"
      ]
     },
     "execution_count": 117,
     "metadata": {},
     "output_type": "execute_result"
    }
   ],
   "source": [
    "print('The percentage % of 2021 submissions made by newly created accounts(2018):')\n",
    "sub_prop_18 = df_18.query(\" submission_comment == 'submission' \").shape[0] * 100\\\n",
    "/df_merged.query(\" submission_comment == 'submission' \").shape[0]\n",
    "\n",
    "sub_prop_18"
   ]
  },
  {
   "cell_type": "code",
   "execution_count": 118,
   "id": "0d9169ae",
   "metadata": {},
   "outputs": [],
   "source": [
    "# df_18.query(\" submission_comment == 'submission' \").text.value_counts().head(5)"
   ]
  },
  {
   "cell_type": "markdown",
   "id": "debdef07",
   "metadata": {},
   "source": [
    "<a id='explore_2019'></a>\n",
    ">># Accounts created in 2019\n",
    "\n",
    "<ul>\n",
    "<li><a href=\"#explore_4\">Last 4 Years</a></li>\n",
    "<li><a href=\"#explore_2018\">Accounts created in 2018</a></li>\n",
    "<li><a href=\"#explore_2019\"><b><mark>Accounts created in 2019</mark></b></a></li>\n",
    "<li><a href=\"#explore_2020\">Accounts created in 2020</a></li>\n",
    "<li><a href=\"#explore_2021\">Accounts created in 2021</a></li>\n",
    "</ul>"
   ]
  },
  {
   "cell_type": "markdown",
   "id": "157a8b12",
   "metadata": {},
   "source": [
    "### Contributions"
   ]
  },
  {
   "cell_type": "code",
   "execution_count": 119,
   "id": "0e31ef53",
   "metadata": {},
   "outputs": [
    {
     "name": "stdout",
     "output_type": "stream",
     "text": [
      "Total contributions in 2021 made by newly created accounts(2019):\n"
     ]
    },
    {
     "data": {
      "text/plain": [
       "2857"
      ]
     },
     "execution_count": 119,
     "metadata": {},
     "output_type": "execute_result"
    }
   ],
   "source": [
    "print('Total contributions in 2021 made by newly created accounts(2019):')\n",
    "df_19.shape[0]"
   ]
  },
  {
   "cell_type": "code",
   "execution_count": 120,
   "id": "e7e118e8",
   "metadata": {},
   "outputs": [
    {
     "name": "stdout",
     "output_type": "stream",
     "text": [
      "The percentage % of 2021 contributions made by newly created accounts(2019):\n"
     ]
    },
    {
     "data": {
      "text/plain": [
       "15.607757443321496"
      ]
     },
     "execution_count": 120,
     "metadata": {},
     "output_type": "execute_result"
    }
   ],
   "source": [
    "print('The percentage % of 2021 contributions made by newly created accounts(2019):')\n",
    "contr_prop_19 = df_19.shape[0] * 100 /df_merged.shape[0]\n",
    "contr_prop_19"
   ]
  },
  {
   "cell_type": "markdown",
   "id": "61573323",
   "metadata": {},
   "source": [
    "### Comments"
   ]
  },
  {
   "cell_type": "code",
   "execution_count": 121,
   "id": "13968656",
   "metadata": {},
   "outputs": [
    {
     "name": "stdout",
     "output_type": "stream",
     "text": [
      "Total comments in 2021 made by newly created accounts(2019):\n"
     ]
    },
    {
     "data": {
      "text/plain": [
       "2649"
      ]
     },
     "execution_count": 121,
     "metadata": {},
     "output_type": "execute_result"
    }
   ],
   "source": [
    "print('Total comments in 2021 made by newly created accounts(2019):')\n",
    "df_19.query(\" submission_comment == 'comment' \").shape[0]"
   ]
  },
  {
   "cell_type": "code",
   "execution_count": 122,
   "id": "ebf86a3b",
   "metadata": {},
   "outputs": [],
   "source": [
    "# df_19.query(\" submission_comment == 'comment' \").text.value_counts().head(5)"
   ]
  },
  {
   "cell_type": "markdown",
   "id": "72bc1ef3",
   "metadata": {},
   "source": [
    "### Submissions"
   ]
  },
  {
   "cell_type": "code",
   "execution_count": 123,
   "id": "0f97bfa2",
   "metadata": {},
   "outputs": [
    {
     "name": "stdout",
     "output_type": "stream",
     "text": [
      "Total submissions in 2021 made by newly created accounts(2019):\n"
     ]
    },
    {
     "data": {
      "text/plain": [
       "208"
      ]
     },
     "execution_count": 123,
     "metadata": {},
     "output_type": "execute_result"
    }
   ],
   "source": [
    "print('Total submissions in 2021 made by newly created accounts(2019):')\n",
    "df_19.query(\" submission_comment == 'submission' \").shape[0]"
   ]
  },
  {
   "cell_type": "code",
   "execution_count": 124,
   "id": "d88c23f2",
   "metadata": {},
   "outputs": [
    {
     "name": "stdout",
     "output_type": "stream",
     "text": [
      "The percentage % of 2021 submissions made by newly created accounts(2019):\n"
     ]
    },
    {
     "data": {
      "text/plain": [
       "10.805194805194805"
      ]
     },
     "execution_count": 124,
     "metadata": {},
     "output_type": "execute_result"
    }
   ],
   "source": [
    "print('The percentage % of 2021 submissions made by newly created accounts(2019):')\n",
    "sub_prop_19 = df_19.query(\" submission_comment == 'submission' \").shape[0] * 100\\\n",
    "/df_merged.query(\" submission_comment == 'submission' \").shape[0]\n",
    "\n",
    "sub_prop_19"
   ]
  },
  {
   "cell_type": "code",
   "execution_count": 125,
   "id": "48d52f48",
   "metadata": {},
   "outputs": [],
   "source": [
    "# df_19.query(\" submission_comment == 'submission' \").text.value_counts().head(5)"
   ]
  },
  {
   "cell_type": "markdown",
   "id": "91123a6f",
   "metadata": {},
   "source": [
    "<a id='explore_2020'></a>\n",
    ">># Accounts created in 2020\n",
    "\n",
    "<ul>\n",
    "<li><a href=\"#explore_4\">Last 4 Years</a></li>\n",
    "<li><a href=\"#explore_2018\">Accounts created in 2018</a></li>\n",
    "<li><a href=\"#explore_2019\">Accounts created in 2019</a></li>\n",
    "<li><a href=\"#explore_2020\"><b><mark>Accounts created in 2020</mark></b></a></li>\n",
    "<li><a href=\"#explore_2021\">Accounts created in 2021</a></li>\n",
    "</ul>"
   ]
  },
  {
   "cell_type": "markdown",
   "id": "29bf8231",
   "metadata": {},
   "source": [
    "### Contributions"
   ]
  },
  {
   "cell_type": "code",
   "execution_count": 126,
   "id": "fea4c71d",
   "metadata": {},
   "outputs": [
    {
     "name": "stdout",
     "output_type": "stream",
     "text": [
      "Total contributions in 2021 made by newly created accounts(2020):\n"
     ]
    },
    {
     "data": {
      "text/plain": [
       "3859"
      ]
     },
     "execution_count": 126,
     "metadata": {},
     "output_type": "execute_result"
    }
   ],
   "source": [
    "print('Total contributions in 2021 made by newly created accounts(2020):')\n",
    "df_20.shape[0]"
   ]
  },
  {
   "cell_type": "code",
   "execution_count": 127,
   "id": "fef1d705",
   "metadata": {},
   "outputs": [
    {
     "name": "stdout",
     "output_type": "stream",
     "text": [
      "The percentage % of 2021 contributions made by newly created accounts(2020):\n"
     ]
    },
    {
     "data": {
      "text/plain": [
       "21.0816716744059"
      ]
     },
     "execution_count": 127,
     "metadata": {},
     "output_type": "execute_result"
    }
   ],
   "source": [
    "print('The percentage % of 2021 contributions made by newly created accounts(2020):')\n",
    "contr_prop_20 = df_20.shape[0] * 100 /df_merged.shape[0]\n",
    "contr_prop_20"
   ]
  },
  {
   "cell_type": "markdown",
   "id": "6e1bd8bb",
   "metadata": {},
   "source": [
    "### Comments"
   ]
  },
  {
   "cell_type": "code",
   "execution_count": 128,
   "id": "7edd0252",
   "metadata": {},
   "outputs": [
    {
     "name": "stdout",
     "output_type": "stream",
     "text": [
      "Total comments in 2021 made by newly created accounts(2020):\n"
     ]
    },
    {
     "data": {
      "text/plain": [
       "3494"
      ]
     },
     "execution_count": 128,
     "metadata": {},
     "output_type": "execute_result"
    }
   ],
   "source": [
    "print('Total comments in 2021 made by newly created accounts(2020):')\n",
    "df_20.query(\" submission_comment == 'comment' \").shape[0]"
   ]
  },
  {
   "cell_type": "code",
   "execution_count": 129,
   "id": "a696aa06",
   "metadata": {},
   "outputs": [],
   "source": [
    "# df_20.query(\" submission_comment == 'comment' \").text.value_counts().head(5)"
   ]
  },
  {
   "cell_type": "markdown",
   "id": "d6f84c02",
   "metadata": {},
   "source": [
    "### Submissions"
   ]
  },
  {
   "cell_type": "code",
   "execution_count": 130,
   "id": "9bb0e37b",
   "metadata": {},
   "outputs": [
    {
     "name": "stdout",
     "output_type": "stream",
     "text": [
      "Total submissions in 2021 made by newly created accounts(2020):\n"
     ]
    },
    {
     "data": {
      "text/plain": [
       "365"
      ]
     },
     "execution_count": 130,
     "metadata": {},
     "output_type": "execute_result"
    }
   ],
   "source": [
    "print('Total submissions in 2021 made by newly created accounts(2020):')\n",
    "df_20.query(\" submission_comment == 'submission' \").shape[0]"
   ]
  },
  {
   "cell_type": "code",
   "execution_count": 131,
   "id": "77f6e346",
   "metadata": {},
   "outputs": [
    {
     "name": "stdout",
     "output_type": "stream",
     "text": [
      "The percentage % of 2021 submissions made by newly created accounts(2020):\n"
     ]
    },
    {
     "data": {
      "text/plain": [
       "18.961038961038962"
      ]
     },
     "execution_count": 131,
     "metadata": {},
     "output_type": "execute_result"
    }
   ],
   "source": [
    "print('The percentage % of 2021 submissions made by newly created accounts(2020):')\n",
    "sub_prop_20 = df_20.query(\" submission_comment == 'submission' \").shape[0] * 100\\\n",
    "/df_merged.query(\" submission_comment == 'submission' \").shape[0]\n",
    "\n",
    "sub_prop_20"
   ]
  },
  {
   "cell_type": "code",
   "execution_count": 132,
   "id": "642a748b",
   "metadata": {},
   "outputs": [],
   "source": [
    "# df_20.query(\" submission_comment == 'submission' \").text.value_counts().head(5)"
   ]
  },
  {
   "cell_type": "markdown",
   "id": "d0f5476c",
   "metadata": {},
   "source": [
    "<a id='explore_2021'></a>\n",
    ">># Accounts created in 2021\n",
    "\n",
    "<ul>\n",
    "<li><a href=\"#explore_4\">Last 4 Years</a></li>\n",
    "<li><a href=\"#explore_2018\">Accounts created in 2018</a></li>\n",
    "<li><a href=\"#explore_2019\">Accounts created in 2019</a></li>\n",
    "<li><a href=\"#explore_2020\">Accounts created in 2020</a></li>\n",
    "<li><a href=\"#explore_2021\"><b><mark>Accounts created in 2021</mark></b></a></li>\n",
    "</ul>"
   ]
  },
  {
   "cell_type": "markdown",
   "id": "b36a145b",
   "metadata": {},
   "source": [
    "### Contributions"
   ]
  },
  {
   "cell_type": "code",
   "execution_count": 133,
   "id": "99007ce4",
   "metadata": {},
   "outputs": [
    {
     "name": "stdout",
     "output_type": "stream",
     "text": [
      "Total contributions in 2021 made by newly created accounts(2021):\n"
     ]
    },
    {
     "data": {
      "text/plain": [
       "1236"
      ]
     },
     "execution_count": 133,
     "metadata": {},
     "output_type": "execute_result"
    }
   ],
   "source": [
    "print('Total contributions in 2021 made by newly created accounts(2021):')\n",
    "df_21.shape[0]"
   ]
  },
  {
   "cell_type": "code",
   "execution_count": 134,
   "id": "a106ec56",
   "metadata": {},
   "outputs": [
    {
     "name": "stdout",
     "output_type": "stream",
     "text": [
      "The percentage % of 2021 contributions made by newly created accounts(2021):\n"
     ]
    },
    {
     "data": {
      "text/plain": [
       "6.7522534826550125"
      ]
     },
     "execution_count": 134,
     "metadata": {},
     "output_type": "execute_result"
    }
   ],
   "source": [
    "print('The percentage % of 2021 contributions made by newly created accounts(2021):')\n",
    "contr_prop_21 = df_21.shape[0] * 100 /df_merged.shape[0]\n",
    "contr_prop_21"
   ]
  },
  {
   "cell_type": "markdown",
   "id": "0ec7c880",
   "metadata": {},
   "source": [
    "### Comments"
   ]
  },
  {
   "cell_type": "code",
   "execution_count": 135,
   "id": "9a5b53d3",
   "metadata": {},
   "outputs": [
    {
     "name": "stdout",
     "output_type": "stream",
     "text": [
      "Total comments in 2021 made by newly created accounts(2021):\n"
     ]
    },
    {
     "data": {
      "text/plain": [
       "893"
      ]
     },
     "execution_count": 135,
     "metadata": {},
     "output_type": "execute_result"
    }
   ],
   "source": [
    "print('Total comments in 2021 made by newly created accounts(2021):')\n",
    "df_21.query(\" submission_comment == 'comment' \").shape[0]"
   ]
  },
  {
   "cell_type": "code",
   "execution_count": 136,
   "id": "30f12174",
   "metadata": {},
   "outputs": [],
   "source": [
    "# df_21.query(\" submission_comment == 'comment' \").text.value_counts().head(5)"
   ]
  },
  {
   "cell_type": "markdown",
   "id": "fc592d98",
   "metadata": {},
   "source": [
    "### Submissions"
   ]
  },
  {
   "cell_type": "code",
   "execution_count": 137,
   "id": "29a00b57",
   "metadata": {},
   "outputs": [
    {
     "name": "stdout",
     "output_type": "stream",
     "text": [
      "Total submissions in 2021 made by newly created accounts(2021):\n"
     ]
    },
    {
     "data": {
      "text/plain": [
       "343"
      ]
     },
     "execution_count": 137,
     "metadata": {},
     "output_type": "execute_result"
    }
   ],
   "source": [
    "print('Total submissions in 2021 made by newly created accounts(2021):')\n",
    "df_21.query(\" submission_comment == 'submission' \").shape[0]"
   ]
  },
  {
   "cell_type": "code",
   "execution_count": 138,
   "id": "988543ee",
   "metadata": {},
   "outputs": [
    {
     "name": "stdout",
     "output_type": "stream",
     "text": [
      "The percentage % of 2021 submissions made by newly created accounts(2021):\n"
     ]
    },
    {
     "data": {
      "text/plain": [
       "17.818181818181817"
      ]
     },
     "execution_count": 138,
     "metadata": {},
     "output_type": "execute_result"
    }
   ],
   "source": [
    "print('The percentage % of 2021 submissions made by newly created accounts(2021):')\n",
    "sub_prop_21 = df_21.query(\" submission_comment == 'submission' \").shape[0] * 100\\\n",
    "/df_merged.query(\" submission_comment == 'submission' \").shape[0]\n",
    "\n",
    "sub_prop_21"
   ]
  },
  {
   "cell_type": "code",
   "execution_count": 139,
   "id": "1088157f",
   "metadata": {},
   "outputs": [],
   "source": [
    "# df_21.query(\" submission_comment == 'submission' \").text.value_counts().head(5)"
   ]
  },
  {
   "cell_type": "markdown",
   "id": "de75d7b1",
   "metadata": {},
   "source": [
    "<a id='contributions_scores'></a>\n",
    "># 2021 Contributions Scores\n",
    "\n",
    "<ul>\n",
    "<li><a href=\"#banned_unverified\">Banned / Unverified</a></li>    \n",
    "<li><a href=\"#explore_banned\">Banned Accounts</a></li>\n",
    "    <br>\n",
    "<li><a href=\"#explore_unverified\">Unverified Accounts</a></li>\n",
    "    <br>\n",
    "<li><a href=\"#new_others\">New Vs Others</a></li>\n",
    "<li><a href=\"#explore_new\">New Accounts</a></li>\n",
    "    <br>\n",
    "<li><a href=\"#contributions_scores\"><b><mark>2021 Contributions Scores</mark></b></a></li>\n",
    "</ul>"
   ]
  },
  {
   "cell_type": "markdown",
   "id": "a69ce9c7",
   "metadata": {},
   "source": [
    ">>### Explore the largest scores"
   ]
  },
  {
   "cell_type": "code",
   "execution_count": 140,
   "id": "91754d8f",
   "metadata": {},
   "outputs": [
    {
     "data": {
      "text/plain": [
       "count    18278.000000\n",
       "mean        23.909892\n",
       "std        374.406745\n",
       "min       -517.000000\n",
       "25%          1.000000\n",
       "50%          2.000000\n",
       "75%          6.000000\n",
       "max      29511.000000\n",
       "Name: score, dtype: float64"
      ]
     },
     "execution_count": 140,
     "metadata": {},
     "output_type": "execute_result"
    }
   ],
   "source": [
    "df_merged.score.describe()"
   ]
  },
  {
   "cell_type": "code",
   "execution_count": 141,
   "id": "54508292",
   "metadata": {},
   "outputs": [
    {
     "data": {
      "image/svg+xml": [
       "<svg class=\"main-svg\" xmlns=\"http://www.w3.org/2000/svg\" xmlns:xlink=\"http://www.w3.org/1999/xlink\" width=\"900\" height=\"500\" style=\"\" viewBox=\"0 0 900 500\"><rect x=\"0\" y=\"0\" width=\"900\" height=\"500\" style=\"fill: rgb(255, 255, 255); fill-opacity: 1;\"/><defs id=\"defs-391dcf\"><g class=\"clips\"><clipPath id=\"clip391dcfxyplot\" class=\"plotclip\"><rect width=\"740\" height=\"284\"/></clipPath><clipPath class=\"axesclip\" id=\"clip391dcfx\"><rect x=\"80\" y=\"0\" width=\"740\" height=\"500\"/></clipPath><clipPath class=\"axesclip\" id=\"clip391dcfy\"><rect x=\"0\" y=\"100\" width=\"900\" height=\"284\"/></clipPath><clipPath class=\"axesclip\" id=\"clip391dcfxy\"><rect x=\"80\" y=\"100\" width=\"740\" height=\"284\"/></clipPath></g><g class=\"gradients\"/><g class=\"patterns\"/></defs><g class=\"bglayer\"><rect class=\"bg\" x=\"80\" y=\"100\" width=\"740\" height=\"284\" style=\"fill: rgb(229, 236, 246); fill-opacity: 1; stroke-width: 0;\"/></g><g class=\"layer-below\"><g class=\"imagelayer\"/><g class=\"shapelayer\"/></g><g class=\"cartesianlayer\"><g class=\"subplot xy\"><g class=\"layer-subplot\"><g class=\"shapelayer\"/><g class=\"imagelayer\"/></g><g class=\"gridlayer\"><g class=\"x\"/><g class=\"y\"><path class=\"ygrid crisp\" transform=\"translate(0,338.28999999999996)\" d=\"M80,0h740\" style=\"stroke: rgb(255, 255, 255); stroke-opacity: 1; stroke-width: 1px;\"/><path class=\"ygrid crisp\" transform=\"translate(0,292.58000000000004)\" d=\"M80,0h740\" style=\"stroke: rgb(255, 255, 255); stroke-opacity: 1; stroke-width: 1px;\"/><path class=\"ygrid crisp\" transform=\"translate(0,246.86)\" d=\"M80,0h740\" style=\"stroke: rgb(255, 255, 255); stroke-opacity: 1; stroke-width: 1px;\"/><path class=\"ygrid crisp\" transform=\"translate(0,201.15)\" d=\"M80,0h740\" style=\"stroke: rgb(255, 255, 255); stroke-opacity: 1; stroke-width: 1px;\"/><path class=\"ygrid crisp\" transform=\"translate(0,155.44)\" d=\"M80,0h740\" style=\"stroke: rgb(255, 255, 255); stroke-opacity: 1; stroke-width: 1px;\"/><path class=\"ygrid crisp\" transform=\"translate(0,109.73)\" d=\"M80,0h740\" style=\"stroke: rgb(255, 255, 255); stroke-opacity: 1; stroke-width: 1px;\"/></g></g><g class=\"zerolinelayer\"><path class=\"yzl zl crisp\" transform=\"translate(0,384)\" d=\"M80,0h740\" style=\"stroke: rgb(255, 255, 255); stroke-opacity: 1; stroke-width: 2px;\"/></g><path class=\"xlines-below\"/><path class=\"ylines-below\"/><g class=\"overlines-below\"/><g class=\"xaxislayer-below\"/><g class=\"yaxislayer-below\"/><g class=\"overaxes-below\"/><g class=\"plot\" transform=\"translate(80,100)\" clip-path=\"url(#clip391dcfxyplot)\"><g class=\"barlayer mlayer\"><g class=\"trace bars\" style=\"opacity: 1;\"><g class=\"points\"><g class=\"point\"><path d=\"M8.22,284V14.2H74V284Z\" style=\"vector-effect: non-scaling-stroke; opacity: 1; stroke-width: 2px; fill: rgb(255, 0, 0); fill-opacity: 1; stroke: rgb(229, 236, 246); stroke-opacity: 1;\"/><text class=\"bartext bartext-inside\" text-anchor=\"middle\" data-notex=\"1\" x=\"0\" y=\"0\" style=\"font-family: 'Open Sans', verdana, arial, sans-serif; font-size: 12px; fill: rgb(255, 255, 255); fill-opacity: 1; white-space: pre;\" transform=\"translate(40.9225,29.2)\">29511.0</text></g><g class=\"point\"><path d=\"M90.44,284V124.81H156.22V284Z\" style=\"vector-effect: non-scaling-stroke; opacity: 1; stroke-width: 2px; fill: rgb(82, 150, 221); fill-opacity: 1; stroke: rgb(229, 236, 246); stroke-opacity: 1;\"/><text class=\"bartext bartext-inside\" text-anchor=\"middle\" data-notex=\"1\" x=\"0\" y=\"0\" style=\"font-family: 'Open Sans', verdana, arial, sans-serif; font-size: 12px; fill: rgb(68, 68, 68); fill-opacity: 1; white-space: pre;\" transform=\"translate(123.1425,139.81)\">17412.0</text></g><g class=\"point\"><path d=\"M172.67,284V140.83H238.44V284Z\" style=\"vector-effect: non-scaling-stroke; opacity: 1; stroke-width: 2px; fill: rgb(82, 150, 221); fill-opacity: 1; stroke: rgb(229, 236, 246); stroke-opacity: 1;\"/><text class=\"bartext bartext-inside\" text-anchor=\"middle\" data-notex=\"1\" x=\"0\" y=\"0\" style=\"font-family: 'Open Sans', verdana, arial, sans-serif; font-size: 12px; fill: rgb(68, 68, 68); fill-opacity: 1; white-space: pre;\" transform=\"translate(205.3675,155.83)\">15660.0</text></g><g class=\"point\"><path d=\"M254.89,284V149.26H320.67V284Z\" style=\"vector-effect: non-scaling-stroke; opacity: 1; stroke-width: 2px; fill: rgb(82, 150, 221); fill-opacity: 1; stroke: rgb(229, 236, 246); stroke-opacity: 1;\"/><text class=\"bartext bartext-inside\" text-anchor=\"middle\" data-notex=\"1\" x=\"0\" y=\"0\" style=\"font-family: 'Open Sans', verdana, arial, sans-serif; font-size: 12px; fill: rgb(68, 68, 68); fill-opacity: 1; white-space: pre;\" transform=\"translate(287.5925,164.26)\">14738.0</text></g><g class=\"point\"><path d=\"M337.11,284V170.21H402.89V284Z\" style=\"vector-effect: non-scaling-stroke; opacity: 1; stroke-width: 2px; fill: rgb(82, 150, 221); fill-opacity: 1; stroke: rgb(229, 236, 246); stroke-opacity: 1;\"/><text class=\"bartext bartext-inside\" text-anchor=\"middle\" data-notex=\"1\" x=\"0\" y=\"0\" style=\"font-family: 'Open Sans', verdana, arial, sans-serif; font-size: 12px; fill: rgb(68, 68, 68); fill-opacity: 1; white-space: pre;\" transform=\"translate(369.8125,185.21)\">12447.0</text></g><g class=\"point\"><path d=\"M419.33,284V175.26H485.11V284Z\" style=\"vector-effect: non-scaling-stroke; opacity: 1; stroke-width: 2px; fill: rgb(82, 150, 221); fill-opacity: 1; stroke: rgb(229, 236, 246); stroke-opacity: 1;\"/><text class=\"bartext bartext-inside\" text-anchor=\"middle\" data-notex=\"1\" x=\"0\" y=\"0\" style=\"font-family: 'Open Sans', verdana, arial, sans-serif; font-size: 12px; fill: rgb(68, 68, 68); fill-opacity: 1; white-space: pre;\" transform=\"translate(452.0325,190.26)\">11894.0</text></g><g class=\"point\"><path d=\"M501.56,284V179.08H567.33V284Z\" style=\"vector-effect: non-scaling-stroke; opacity: 1; stroke-width: 2px; fill: rgb(82, 150, 221); fill-opacity: 1; stroke: rgb(229, 236, 246); stroke-opacity: 1;\"/><text class=\"bartext bartext-inside\" text-anchor=\"middle\" data-notex=\"1\" x=\"0\" y=\"0\" style=\"font-family: 'Open Sans', verdana, arial, sans-serif; font-size: 12px; fill: rgb(68, 68, 68); fill-opacity: 1; white-space: pre;\" transform=\"translate(534.2575,194.08)\">11476.0</text></g><g class=\"point\"><path d=\"M583.78,284V199.1H649.56V284Z\" style=\"vector-effect: non-scaling-stroke; opacity: 1; stroke-width: 2px; fill: rgb(82, 150, 221); fill-opacity: 1; stroke: rgb(229, 236, 246); stroke-opacity: 1;\"/><text class=\"bartext bartext-inside\" text-anchor=\"middle\" data-notex=\"1\" x=\"0\" y=\"0\" style=\"font-family: 'Open Sans', verdana, arial, sans-serif; font-size: 12px; fill: rgb(68, 68, 68); fill-opacity: 1; white-space: pre;\" transform=\"translate(616.4825,214.1)\">9286.0</text></g><g class=\"point\"><path d=\"M501.56,179.08V99.11H567.33V179.08Z\" style=\"vector-effect: non-scaling-stroke; opacity: 1; stroke-width: 2px; fill: rgb(82, 150, 221); fill-opacity: 1; stroke: rgb(229, 236, 246); stroke-opacity: 1;\"/><text class=\"bartext bartext-inside\" text-anchor=\"middle\" data-notex=\"1\" x=\"0\" y=\"0\" style=\"font-family: 'Open Sans', verdana, arial, sans-serif; font-size: 12px; fill: rgb(68, 68, 68); fill-opacity: 1; white-space: pre;\" transform=\"translate(534.2575,114.11)\">8747.0</text></g><g class=\"point\"><path d=\"M666,284V224.59H731.78V284Z\" style=\"vector-effect: non-scaling-stroke; opacity: 1; stroke-width: 2px; fill: rgb(82, 150, 221); fill-opacity: 1; stroke: rgb(229, 236, 246); stroke-opacity: 1;\"/><text class=\"bartext bartext-inside\" text-anchor=\"middle\" data-notex=\"1\" x=\"0\" y=\"0\" style=\"font-family: 'Open Sans', verdana, arial, sans-serif; font-size: 12px; fill: rgb(68, 68, 68); fill-opacity: 1; white-space: pre;\" transform=\"translate(698.7025,239.59)\">6498.0</text></g></g></g></g></g><g class=\"overplot\"/><path class=\"xlines-above crisp\" d=\"M0,0\" style=\"fill: none;\"/><path class=\"ylines-above crisp\" d=\"M0,0\" style=\"fill: none;\"/><g class=\"overlines-above\"/><g class=\"xaxislayer-above\"><g class=\"xtick\"><text text-anchor=\"start\" x=\"0\" y=\"397\" transform=\"translate(121.11,0) rotate(30,0,391)\" style=\"font-family: 'Open Sans', verdana, arial, sans-serif; font-size: 12px; fill: rgb(42, 63, 95); fill-opacity: 1; white-space: pre; opacity: 1;\">MahatmaGandamnit</text></g><g class=\"xtick\"><text text-anchor=\"start\" x=\"0\" y=\"397\" transform=\"translate(203.32999999999998,0) rotate(30,0,391)\" style=\"font-family: 'Open Sans', verdana, arial, sans-serif; font-size: 12px; fill: rgb(42, 63, 95); fill-opacity: 1; white-space: pre; opacity: 1;\">UltraMagnus0001</text></g><g class=\"xtick\"><text text-anchor=\"start\" x=\"0\" y=\"397\" transform=\"translate(285.56,0) rotate(30,0,391)\" style=\"font-family: 'Open Sans', verdana, arial, sans-serif; font-size: 12px; fill: rgb(42, 63, 95); fill-opacity: 1; white-space: pre; opacity: 1;\">Gato1980</text></g><g class=\"xtick\"><text text-anchor=\"start\" x=\"0\" y=\"397\" transform=\"translate(367.78,0) rotate(30,0,391)\" style=\"font-family: 'Open Sans', verdana, arial, sans-serif; font-size: 12px; fill: rgb(42, 63, 95); fill-opacity: 1; white-space: pre; opacity: 1;\">big_pog_human2478</text></g><g class=\"xtick\"><text text-anchor=\"start\" x=\"0\" y=\"397\" transform=\"translate(450,0) rotate(30,0,391)\" style=\"font-family: 'Open Sans', verdana, arial, sans-serif; font-size: 12px; fill: rgb(42, 63, 95); fill-opacity: 1; white-space: pre; opacity: 1;\">-banned-</text></g><g class=\"xtick\"><text text-anchor=\"start\" x=\"0\" y=\"397\" transform=\"translate(532.22,0) rotate(30,0,391)\" style=\"font-family: 'Open Sans', verdana, arial, sans-serif; font-size: 12px; fill: rgb(42, 63, 95); fill-opacity: 1; white-space: pre; opacity: 1;\">steave_ned</text></g><g class=\"xtick\"><text text-anchor=\"start\" x=\"0\" y=\"397\" transform=\"translate(614.44,0) rotate(30,0,391)\" style=\"font-family: 'Open Sans', verdana, arial, sans-serif; font-size: 12px; fill: rgb(42, 63, 95); fill-opacity: 1; white-space: pre; opacity: 1;\">Truthbetheprejudice</text></g><g class=\"xtick\"><text text-anchor=\"start\" x=\"0\" y=\"397\" transform=\"translate(696.67,0) rotate(30,0,391)\" style=\"font-family: 'Open Sans', verdana, arial, sans-serif; font-size: 12px; fill: rgb(42, 63, 95); fill-opacity: 1; white-space: pre; opacity: 1;\">enavarro7</text></g><g class=\"xtick\"><text text-anchor=\"start\" x=\"0\" y=\"397\" transform=\"translate(778.89,0) rotate(30,0,391)\" style=\"font-family: 'Open Sans', verdana, arial, sans-serif; font-size: 12px; fill: rgb(42, 63, 95); fill-opacity: 1; white-space: pre; opacity: 1;\">fancyantler</text></g></g><g class=\"yaxislayer-above\"><g class=\"ytick\"><text text-anchor=\"end\" x=\"79\" y=\"4.199999999999999\" transform=\"translate(0,384)\" style=\"font-family: 'Open Sans', verdana, arial, sans-serif; font-size: 12px; fill: rgb(42, 63, 95); fill-opacity: 1; white-space: pre; opacity: 1;\">0</text></g><g class=\"ytick\"><text text-anchor=\"end\" x=\"79\" y=\"4.199999999999999\" style=\"font-family: 'Open Sans', verdana, arial, sans-serif; font-size: 12px; fill: rgb(42, 63, 95); fill-opacity: 1; white-space: pre; opacity: 1;\" transform=\"translate(0,338.28999999999996)\">5k</text></g><g class=\"ytick\"><text text-anchor=\"end\" x=\"79\" y=\"4.199999999999999\" style=\"font-family: 'Open Sans', verdana, arial, sans-serif; font-size: 12px; fill: rgb(42, 63, 95); fill-opacity: 1; white-space: pre; opacity: 1;\" transform=\"translate(0,292.58000000000004)\">10k</text></g><g class=\"ytick\"><text text-anchor=\"end\" x=\"79\" y=\"4.199999999999999\" style=\"font-family: 'Open Sans', verdana, arial, sans-serif; font-size: 12px; fill: rgb(42, 63, 95); fill-opacity: 1; white-space: pre; opacity: 1;\" transform=\"translate(0,246.86)\">15k</text></g><g class=\"ytick\"><text text-anchor=\"end\" x=\"79\" y=\"4.199999999999999\" style=\"font-family: 'Open Sans', verdana, arial, sans-serif; font-size: 12px; fill: rgb(42, 63, 95); fill-opacity: 1; white-space: pre; opacity: 1;\" transform=\"translate(0,201.15)\">20k</text></g><g class=\"ytick\"><text text-anchor=\"end\" x=\"79\" y=\"4.199999999999999\" style=\"font-family: 'Open Sans', verdana, arial, sans-serif; font-size: 12px; fill: rgb(42, 63, 95); fill-opacity: 1; white-space: pre; opacity: 1;\" transform=\"translate(0,155.44)\">25k</text></g><g class=\"ytick\"><text text-anchor=\"end\" x=\"79\" y=\"4.199999999999999\" style=\"font-family: 'Open Sans', verdana, arial, sans-serif; font-size: 12px; fill: rgb(42, 63, 95); fill-opacity: 1; white-space: pre; opacity: 1;\" transform=\"translate(0,109.73)\">30k</text></g></g><g class=\"overaxes-above\"/></g></g><g class=\"polarlayer\"/><g class=\"ternarylayer\"/><g class=\"geolayer\"/><g class=\"funnelarealayer\"/><g class=\"pielayer\"/><g class=\"iciclelayer\"/><g class=\"treemaplayer\"/><g class=\"sunburstlayer\"/><g class=\"glimages\"/><defs id=\"topdefs-391dcf\"><g class=\"clips\"/></defs><g class=\"layer-above\"><g class=\"imagelayer\"/><g class=\"shapelayer\"/></g><g class=\"infolayer\"><g class=\"g-gtitle\"><text class=\"gtitle\" x=\"45\" y=\"50\" text-anchor=\"start\" dy=\"0em\" style=\"font-family: 'Open Sans', verdana, arial, sans-serif; font-size: 17px; fill: rgb(42, 63, 95); opacity: 1; font-weight: normal; white-space: pre;\">Accounts with highest contribution scores in 2021</text></g><g class=\"g-xtitle\"><text class=\"xtitle\" x=\"450\" y=\"487.7423828125\" text-anchor=\"middle\" style=\"font-family: 'Open Sans', verdana, arial, sans-serif; font-size: 14px; fill: rgb(42, 63, 95); opacity: 1; font-weight: normal; white-space: pre;\">user name</text></g><g class=\"g-ytitle\"><text class=\"ytitle\" transform=\"rotate(-90,31.840625000000003,242)\" x=\"31.840625000000003\" y=\"242\" text-anchor=\"middle\" style=\"font-family: 'Open Sans', verdana, arial, sans-serif; font-size: 14px; fill: rgb(42, 63, 95); opacity: 1; font-weight: normal; white-space: pre;\">score</text></g></g></svg>"
      ]
     },
     "metadata": {},
     "output_type": "display_data"
    }
   ],
   "source": [
    "# Filter on largest scores\n",
    "\n",
    "df_scores_high = df_merged.sort_values('score', ascending=False).head(10)\n",
    "\n",
    "fig = px.bar(df_scores_high,\n",
    "             x='user_name', \n",
    "             y=df_scores_high.score, text = df_scores_high.score, title='Accounts with highest contribution scores in 2021')\n",
    "\n",
    "fig.update_layout(\n",
    "    xaxis = dict(\n",
    "        title='user name',\n",
    "        tickmode = 'array',\n",
    "        tickvals = df_scores_high.user_name,\n",
    "    )\n",
    ")\n",
    "\n",
    "clrs = ['red' if (y > 18000) else '#5296dd' for y in df_scores_high.score]\n",
    "\n",
    "fig.update_traces(marker_color=clrs,\n",
    "                  marker_line_width=2, opacity=1, textposition='auto')\n",
    "\n",
    "\n",
    "fig.show()"
   ]
  },
  {
   "cell_type": "markdown",
   "id": "b613b9ad",
   "metadata": {},
   "source": [
    "**MahatmaGandamnit** <br>\n",
    "- Created on 2016-10-10 \n",
    "- Has only one negative submission in 2021 (28 Feb) and got the highest contribution scores (29.5K)\n",
    "- reddit.com/r/pussypassdenied/comments/lu5055/amber_heard_has_been_fired_from_jason_momoas/"
   ]
  },
  {
   "cell_type": "code",
   "execution_count": 142,
   "id": "f3641d21",
   "metadata": {},
   "outputs": [
    {
     "data": {
      "text/html": [
       "<div>\n",
       "<style scoped>\n",
       "    .dataframe tbody tr th:only-of-type {\n",
       "        vertical-align: middle;\n",
       "    }\n",
       "\n",
       "    .dataframe tbody tr th {\n",
       "        vertical-align: top;\n",
       "    }\n",
       "\n",
       "    .dataframe thead th {\n",
       "        text-align: right;\n",
       "    }\n",
       "</style>\n",
       "<table border=\"1\" class=\"dataframe\">\n",
       "  <thead>\n",
       "    <tr style=\"text-align: right;\">\n",
       "      <th></th>\n",
       "      <th>child_id</th>\n",
       "      <th>permalink</th>\n",
       "      <th>text</th>\n",
       "      <th>parent_id</th>\n",
       "      <th>subreddit</th>\n",
       "      <th>created_at</th>\n",
       "      <th>sentiment_blob</th>\n",
       "      <th>sentiment_nltk</th>\n",
       "      <th>score</th>\n",
       "      <th>top_level</th>\n",
       "      <th>...</th>\n",
       "      <th>is_mod</th>\n",
       "      <th>is_gold</th>\n",
       "      <th>is_banned</th>\n",
       "      <th>comment_karma</th>\n",
       "      <th>link_karma</th>\n",
       "      <th>user_created_at</th>\n",
       "      <th>banned_unverified</th>\n",
       "      <th>creation_year</th>\n",
       "      <th>diff</th>\n",
       "      <th>days_after_creation</th>\n",
       "    </tr>\n",
       "  </thead>\n",
       "  <tbody>\n",
       "    <tr>\n",
       "      <th>10577</th>\n",
       "      <td>t3_lu5055</td>\n",
       "      <td>/r/pussypassdenied/comments/lu5055/amber_heard_has_been_fired_from_jason_momoas/</td>\n",
       "      <td>Amber Heard Has Been Fired From Jason Momoa's \"Aquaman 2\"</td>\n",
       "      <td>NaN</td>\n",
       "      <td>r/pussypassdenied</td>\n",
       "      <td>2021-02-28 03:51:34</td>\n",
       "      <td>Neutral</td>\n",
       "      <td>Negative</td>\n",
       "      <td>29511.0</td>\n",
       "      <td>NaN</td>\n",
       "      <td>...</td>\n",
       "      <td>False</td>\n",
       "      <td>False</td>\n",
       "      <td>False</td>\n",
       "      <td>7219.0</td>\n",
       "      <td>10995.0</td>\n",
       "      <td>2016-10-10 00:01:25</td>\n",
       "      <td>others</td>\n",
       "      <td>others</td>\n",
       "      <td>1602 days 03:50:09</td>\n",
       "      <td>1602.0</td>\n",
       "    </tr>\n",
       "  </tbody>\n",
       "</table>\n",
       "<p>1 rows × 24 columns</p>\n",
       "</div>"
      ],
      "text/plain": [
       "        child_id  \\\n",
       "10577  t3_lu5055   \n",
       "\n",
       "                                                                              permalink  \\\n",
       "10577  /r/pussypassdenied/comments/lu5055/amber_heard_has_been_fired_from_jason_momoas/   \n",
       "\n",
       "                                                            text parent_id  \\\n",
       "10577  Amber Heard Has Been Fired From Jason Momoa's \"Aquaman 2\"       NaN   \n",
       "\n",
       "               subreddit          created_at sentiment_blob sentiment_nltk  \\\n",
       "10577  r/pussypassdenied 2021-02-28 03:51:34        Neutral       Negative   \n",
       "\n",
       "         score top_level  ... is_mod is_gold is_banned  comment_karma  \\\n",
       "10577  29511.0       NaN  ...  False   False     False         7219.0   \n",
       "\n",
       "       link_karma     user_created_at  banned_unverified  creation_year  \\\n",
       "10577     10995.0 2016-10-10 00:01:25             others         others   \n",
       "\n",
       "                     diff days_after_creation  \n",
       "10577  1602 days 03:50:09              1602.0  \n",
       "\n",
       "[1 rows x 24 columns]"
      ]
     },
     "metadata": {},
     "output_type": "display_data"
    }
   ],
   "source": [
    "with pd.option_context('display.max_colwidth', None):\n",
    "  display(df_merged[df_merged.user_name == 'MahatmaGandamnit'])\n",
    "\n",
    "# Negative Submission"
   ]
  },
  {
   "cell_type": "markdown",
   "id": "07b50c15",
   "metadata": {},
   "source": [
    ">>### Explore the minimum scores"
   ]
  },
  {
   "cell_type": "markdown",
   "id": "ba8f132e",
   "metadata": {},
   "source": [
    "https://stackoverflow.com/questions/67590028/plotly-how-to-move-x-axis-to-top-and-y-axis-to-the-right"
   ]
  },
  {
   "cell_type": "code",
   "execution_count": 143,
   "id": "ce772fab",
   "metadata": {},
   "outputs": [
    {
     "data": {
      "image/svg+xml": [
       "<svg class=\"main-svg\" xmlns=\"http://www.w3.org/2000/svg\" xmlns:xlink=\"http://www.w3.org/1999/xlink\" width=\"900\" height=\"500\" style=\"\" viewBox=\"0 0 900 500\"><rect x=\"0\" y=\"0\" width=\"900\" height=\"500\" style=\"fill: rgb(255, 255, 255); fill-opacity: 1;\"/><defs id=\"defs-ed7b68\"><g class=\"clips\"><clipPath id=\"cliped7b68xyplot\" class=\"plotclip\"><rect width=\"740\" height=\"303\"/></clipPath><clipPath class=\"axesclip\" id=\"cliped7b68x\"><rect x=\"80\" y=\"0\" width=\"740\" height=\"500\"/></clipPath><clipPath class=\"axesclip\" id=\"cliped7b68y\"><rect x=\"0\" y=\"117\" width=\"900\" height=\"303\"/></clipPath><clipPath class=\"axesclip\" id=\"cliped7b68xy\"><rect x=\"80\" y=\"117\" width=\"740\" height=\"303\"/></clipPath></g><g class=\"gradients\"/><g class=\"patterns\"/></defs><g class=\"bglayer\"><rect class=\"bg\" x=\"80\" y=\"117\" width=\"740\" height=\"303\" style=\"fill: rgb(229, 236, 246); fill-opacity: 1; stroke-width: 0;\"/></g><g class=\"layer-below\"><g class=\"imagelayer\"/><g class=\"shapelayer\"/></g><g class=\"cartesianlayer\"><g class=\"subplot xy\"><g class=\"layer-subplot\"><g class=\"shapelayer\"/><g class=\"imagelayer\"/></g><g class=\"gridlayer\"><g class=\"x\"/><g class=\"y\"><path class=\"ygrid crisp\" transform=\"translate(0,401)\" d=\"M80,0h740\" style=\"stroke: rgb(255, 255, 255); stroke-opacity: 1; stroke-width: 1px;\"/><path class=\"ygrid crisp\" transform=\"translate(0,360.41999999999996)\" d=\"M80,0h740\" style=\"stroke: rgb(255, 255, 255); stroke-opacity: 1; stroke-width: 1px;\"/><path class=\"ygrid crisp\" transform=\"translate(0,319.85)\" d=\"M80,0h740\" style=\"stroke: rgb(255, 255, 255); stroke-opacity: 1; stroke-width: 1px;\"/><path class=\"ygrid crisp\" transform=\"translate(0,279.28)\" d=\"M80,0h740\" style=\"stroke: rgb(255, 255, 255); stroke-opacity: 1; stroke-width: 1px;\"/><path class=\"ygrid crisp\" transform=\"translate(0,238.70999999999998)\" d=\"M80,0h740\" style=\"stroke: rgb(255, 255, 255); stroke-opacity: 1; stroke-width: 1px;\"/><path class=\"ygrid crisp\" transform=\"translate(0,198.14)\" d=\"M80,0h740\" style=\"stroke: rgb(255, 255, 255); stroke-opacity: 1; stroke-width: 1px;\"/><path class=\"ygrid crisp\" transform=\"translate(0,157.57)\" d=\"M80,0h740\" style=\"stroke: rgb(255, 255, 255); stroke-opacity: 1; stroke-width: 1px;\"/></g></g><g class=\"zerolinelayer\"><path class=\"yzl zl crisp\" transform=\"translate(0,117)\" d=\"M80,0h740\" style=\"stroke: rgb(255, 255, 255); stroke-opacity: 1; stroke-width: 2px;\"/></g><path class=\"xlines-below\"/><path class=\"ylines-below\"/><g class=\"overlines-below\"/><g class=\"xaxislayer-below\"/><g class=\"yaxislayer-below\"/><g class=\"overaxes-below\"/><g class=\"plot\" transform=\"translate(80,117)\" clip-path=\"url(#cliped7b68xyplot)\"><g class=\"barlayer mlayer\"><g class=\"trace bars\" style=\"opacity: 1;\"><g class=\"points\"><g class=\"point\"><path d=\"M5.29,0V104.88H47.57V0Z\" style=\"vector-effect: non-scaling-stroke; opacity: 1; stroke-width: 2px; fill: rgb(255, 0, 0); fill-opacity: 1; stroke: rgb(229, 236, 246); stroke-opacity: 1;\"/><text class=\"bartext bartext-inside\" text-anchor=\"middle\" data-notex=\"1\" x=\"0\" y=\"0\" style=\"font-family: 'Open Sans', verdana, arial, sans-serif; font-size: 12px; fill: rgb(255, 255, 255); fill-opacity: 1; white-space: pre;\" transform=\"translate(26.2425,86.020625)rotate(90 0.1875 -4.5)\">-517.0</text></g><g class=\"point\"><path d=\"M5.29,104.88V206.3H47.57V104.88Z\" style=\"vector-effect: non-scaling-stroke; opacity: 1; stroke-width: 2px; fill: rgb(255, 0, 0); fill-opacity: 1; stroke: rgb(229, 236, 246); stroke-opacity: 1;\"/><text class=\"bartext bartext-inside\" text-anchor=\"middle\" data-notex=\"1\" x=\"0\" y=\"0\" style=\"font-family: 'Open Sans', verdana, arial, sans-serif; font-size: 12px; fill: rgb(255, 255, 255); fill-opacity: 1; white-space: pre;\" transform=\"translate(26.2425,187.440625)rotate(90 0.1875 -4.5)\">-500.0</text></g><g class=\"point\"><path d=\"M58.14,0V76.88H100.43V0Z\" style=\"vector-effect: non-scaling-stroke; opacity: 1; stroke-width: 2px; fill: rgb(255, 0, 0); fill-opacity: 1; stroke: rgb(229, 236, 246); stroke-opacity: 1;\"/><text class=\"bartext bartext-inside\" text-anchor=\"middle\" data-notex=\"1\" x=\"0\" y=\"0\" style=\"font-family: 'Open Sans', verdana, arial, sans-serif; font-size: 12px; fill: rgb(255, 255, 255); fill-opacity: 1; white-space: pre;\" transform=\"translate(79.0975,58.020624999999995)rotate(90 0.1875 -4.5)\">-379.0</text></g><g class=\"point\"><path d=\"M5.29,206.3V263.51H47.57V206.3Z\" style=\"vector-effect: non-scaling-stroke; opacity: 1; stroke-width: 2px; fill: rgb(255, 0, 0); fill-opacity: 1; stroke: rgb(229, 236, 246); stroke-opacity: 1;\"/><text class=\"bartext bartext-inside\" text-anchor=\"middle\" data-notex=\"1\" x=\"0\" y=\"0\" style=\"font-family: 'Open Sans', verdana, arial, sans-serif; font-size: 12px; fill: rgb(255, 255, 255); fill-opacity: 1; white-space: pre;\" transform=\"translate(26.2425,244.650625)rotate(90 0.1875 -4.5)\">-282.0</text></g><g class=\"point\"><path d=\"M111,0V38.34H153.29V0Z\" style=\"vector-effect: non-scaling-stroke; opacity: 1; stroke-width: 2px; fill: rgb(82, 150, 221); fill-opacity: 1; stroke: rgb(229, 236, 246); stroke-opacity: 1;\"/><text class=\"bartext bartext-inside\" text-anchor=\"middle\" data-notex=\"1\" x=\"0\" y=\"0\" style=\"font-family: 'Open Sans', verdana, arial, sans-serif; font-size: 12px; fill: rgb(68, 68, 68); fill-opacity: 1; white-space: pre;\" transform=\"translate(131.97789332310052,32.6662931696086)scale(0.8912356101304679)\">-189.0</text></g><g class=\"point\"><path d=\"M163.86,0V37.93H206.14V0Z\" style=\"vector-effect: non-scaling-stroke; opacity: 1; stroke-width: 2px; fill: rgb(82, 150, 221); fill-opacity: 1; stroke: rgb(229, 236, 246); stroke-opacity: 1;\"/><text class=\"bartext bartext-inside\" text-anchor=\"middle\" data-notex=\"1\" x=\"0\" y=\"0\" style=\"font-family: 'Open Sans', verdana, arial, sans-serif; font-size: 12px; fill: rgb(68, 68, 68); fill-opacity: 1; white-space: pre;\" transform=\"translate(184.83293937068305,32.257029930928624)scale(0.8909900230237906)\">-187.0</text></g><g class=\"point\"><path d=\"M216.71,0V37.73H259V0Z\" style=\"vector-effect: non-scaling-stroke; opacity: 1; stroke-width: 2px; fill: rgb(82, 150, 221); fill-opacity: 1; stroke: rgb(229, 236, 246); stroke-opacity: 1;\"/><text class=\"bartext bartext-inside\" text-anchor=\"middle\" data-notex=\"1\" x=\"0\" y=\"0\" style=\"font-family: 'Open Sans', verdana, arial, sans-serif; font-size: 12px; fill: rgb(68, 68, 68); fill-opacity: 1; white-space: pre;\" transform=\"translate(237.68789332310055,32.056293169608594)scale(0.8912356101304679)\">-186.0</text></g><g class=\"point\"><path d=\"M269.57,0V32.66H311.86V0Z\" style=\"vector-effect: non-scaling-stroke; opacity: 1; stroke-width: 2px; fill: rgb(82, 150, 221); fill-opacity: 1; stroke: rgb(229, 236, 246); stroke-opacity: 1;\"/><text class=\"bartext bartext-inside\" text-anchor=\"middle\" data-notex=\"1\" x=\"0\" y=\"0\" style=\"font-family: 'Open Sans', verdana, arial, sans-serif; font-size: 12px; fill: rgb(68, 68, 68); fill-opacity: 1; white-space: pre;\" transform=\"translate(290.5478933231006,26.98629316960859)scale(0.8912356101304687)\">-161.0</text></g><g class=\"point\"><path d=\"M322.43,0V32.25H364.71V0Z\" style=\"vector-effect: non-scaling-stroke; opacity: 1; stroke-width: 2px; fill: rgb(82, 150, 221); fill-opacity: 1; stroke: rgb(229, 236, 246); stroke-opacity: 1;\"/><text class=\"bartext bartext-inside\" text-anchor=\"middle\" data-notex=\"1\" x=\"0\" y=\"0\" style=\"font-family: 'Open Sans', verdana, arial, sans-serif; font-size: 12px; fill: rgb(68, 68, 68); fill-opacity: 1; white-space: pre;\" transform=\"translate(343.40293937068304,26.577029930928628)scale(0.8909900230237906)\">-159.0</text></g><g class=\"point\"><path d=\"M375.29,0V30.83H417.57V0Z\" style=\"vector-effect: non-scaling-stroke; opacity: 1; stroke-width: 2px; fill: rgb(82, 150, 221); fill-opacity: 1; stroke: rgb(229, 236, 246); stroke-opacity: 1;\"/><text class=\"bartext bartext-inside\" text-anchor=\"middle\" data-notex=\"1\" x=\"0\" y=\"0\" style=\"font-family: 'Open Sans', verdana, arial, sans-serif; font-size: 12px; fill: rgb(68, 68, 68); fill-opacity: 1; white-space: pre;\" transform=\"translate(396.26293937068306,25.157029930928626)scale(0.8909900230237906)\">-152.0</text></g><g class=\"point\"><path d=\"M428.14,0V26.37H470.43V0Z\" style=\"vector-effect: non-scaling-stroke; opacity: 1; stroke-width: 2px; fill: rgb(82, 150, 221); fill-opacity: 1; stroke: rgb(229, 236, 246); stroke-opacity: 1;\"/><text class=\"bartext bartext-inside\" text-anchor=\"middle\" data-notex=\"1\" x=\"0\" y=\"0\" style=\"font-family: 'Open Sans', verdana, arial, sans-serif; font-size: 12px; fill: rgb(68, 68, 68); fill-opacity: 1; white-space: pre;\" transform=\"translate(449.11789332310053,20.696293169608595)scale(0.8912356101304687)\">-130.0</text></g><g class=\"point\"><path d=\"M111,38.34V64.51H153.29V38.34Z\" style=\"vector-effect: non-scaling-stroke; opacity: 1; stroke-width: 2px; fill: rgb(82, 150, 221); fill-opacity: 1; stroke: rgb(229, 236, 246); stroke-opacity: 1;\"/><text class=\"bartext bartext-inside\" text-anchor=\"middle\" data-notex=\"1\" x=\"0\" y=\"0\" style=\"font-family: 'Open Sans', verdana, arial, sans-serif; font-size: 12px; fill: rgb(68, 68, 68); fill-opacity: 1; white-space: pre;\" transform=\"translate(131.97789332310052,58.8362931696086)scale(0.8912356101304679)\">-129.0</text></g><g class=\"point\"><path d=\"M481,0V25.97H523.29V0Z\" style=\"vector-effect: non-scaling-stroke; opacity: 1; stroke-width: 2px; fill: rgb(82, 150, 221); fill-opacity: 1; stroke: rgb(229, 236, 246); stroke-opacity: 1;\"/><text class=\"bartext bartext-inside\" text-anchor=\"middle\" data-notex=\"1\" x=\"0\" y=\"0\" style=\"font-family: 'Open Sans', verdana, arial, sans-serif; font-size: 12px; fill: rgb(68, 68, 68); fill-opacity: 1; white-space: pre;\" transform=\"translate(501.97789332310055,20.296293169608596)scale(0.8912356101304673)\">-128.0</text></g><g class=\"point\"><path d=\"M375.29,30.83V55.78H417.57V30.83Z\" style=\"vector-effect: non-scaling-stroke; opacity: 1; stroke-width: 2px; fill: rgb(82, 150, 221); fill-opacity: 1; stroke: rgb(229, 236, 246); stroke-opacity: 1;\"/><text class=\"bartext bartext-inside\" text-anchor=\"middle\" data-notex=\"1\" x=\"0\" y=\"0\" style=\"font-family: 'Open Sans', verdana, arial, sans-serif; font-size: 12px; fill: rgb(68, 68, 68); fill-opacity: 1; white-space: pre;\" transform=\"translate(396.26293937068306,50.10702993092863)scale(0.8909900230237906)\">-123.0</text></g><g class=\"point\"><path d=\"M5.29,263.51V287.85H47.57V263.51Z\" style=\"vector-effect: non-scaling-stroke; opacity: 1; stroke-width: 2px; fill: rgb(82, 150, 221); fill-opacity: 1; stroke: rgb(229, 236, 246); stroke-opacity: 1;\"/><text class=\"bartext bartext-inside\" text-anchor=\"middle\" data-notex=\"1\" x=\"0\" y=\"0\" style=\"font-family: 'Open Sans', verdana, arial, sans-serif; font-size: 12px; fill: rgb(68, 68, 68); fill-opacity: 1; white-space: pre;\" transform=\"translate(26.26293937068304,282.17702993092865)scale(0.8909900230237913)\">-120.0</text></g><g class=\"point\"><path d=\"M533.86,0V23.53H576.14V0Z\" style=\"vector-effect: non-scaling-stroke; opacity: 1; stroke-width: 2px; fill: rgb(82, 150, 221); fill-opacity: 1; stroke: rgb(229, 236, 246); stroke-opacity: 1;\"/><text class=\"bartext bartext-inside\" text-anchor=\"middle\" data-notex=\"1\" x=\"0\" y=\"0\" style=\"font-family: 'Open Sans', verdana, arial, sans-serif; font-size: 12px; fill: rgb(68, 68, 68); fill-opacity: 1; white-space: pre;\" transform=\"translate(554.832939370683,17.85702993092863)scale(0.8909900230237906)\">-116.0</text></g><g class=\"point\"><path d=\"M586.71,0V22.31H629V0Z\" style=\"vector-effect: non-scaling-stroke; opacity: 1; stroke-width: 2px; fill: rgb(82, 150, 221); fill-opacity: 1; stroke: rgb(229, 236, 246); stroke-opacity: 1;\"/><text class=\"bartext bartext-inside\" text-anchor=\"middle\" data-notex=\"1\" x=\"0\" y=\"0\" style=\"font-family: 'Open Sans', verdana, arial, sans-serif; font-size: 12px; fill: rgb(68, 68, 68); fill-opacity: 1; white-space: pre;\" transform=\"translate(607.6878933231005,16.636293169608596)scale(0.8912356101304673)\">-110.0</text></g><g class=\"point\"><path d=\"M58.14,76.88V98.99H100.43V76.88Z\" style=\"vector-effect: non-scaling-stroke; opacity: 1; stroke-width: 2px; fill: rgb(82, 150, 221); fill-opacity: 1; stroke: rgb(229, 236, 246); stroke-opacity: 1;\"/><text class=\"bartext bartext-inside\" text-anchor=\"middle\" data-notex=\"1\" x=\"0\" y=\"0\" style=\"font-family: 'Open Sans', verdana, arial, sans-serif; font-size: 12px; fill: rgb(68, 68, 68); fill-opacity: 1; white-space: pre;\" transform=\"translate(79.11789332310053,93.31629316960858)scale(0.8912356101304683)\">-109.0</text></g><g class=\"point\"><path d=\"M639.57,0V21.3H681.86V0Z\" style=\"vector-effect: non-scaling-stroke; opacity: 1; stroke-width: 2px; fill: rgb(82, 150, 221); fill-opacity: 1; stroke: rgb(229, 236, 246); stroke-opacity: 1;\"/><text class=\"bartext bartext-inside\" text-anchor=\"middle\" data-notex=\"1\" x=\"0\" y=\"0\" style=\"font-family: 'Open Sans', verdana, arial, sans-serif; font-size: 12px; fill: rgb(68, 68, 68); fill-opacity: 1; white-space: pre;\" transform=\"translate(660.5478933231005,15.626293169608598)scale(0.8912356101304673)\">-105.0</text></g><g class=\"point\"><path d=\"M692.43,0V21.3H734.71V0Z\" style=\"vector-effect: non-scaling-stroke; opacity: 1; stroke-width: 2px; fill: rgb(82, 150, 221); fill-opacity: 1; stroke: rgb(229, 236, 246); stroke-opacity: 1;\"/><text class=\"bartext bartext-inside\" text-anchor=\"middle\" data-notex=\"1\" x=\"0\" y=\"0\" style=\"font-family: 'Open Sans', verdana, arial, sans-serif; font-size: 12px; fill: rgb(68, 68, 68); fill-opacity: 1; white-space: pre;\" transform=\"translate(713.4029393706829,15.627029930928622)scale(0.8909900230237934)\">-105.0</text></g></g></g></g></g><g class=\"overplot\"/><path class=\"xlines-above crisp\" d=\"M0,0\" style=\"fill: none;\"/><path class=\"ylines-above crisp\" d=\"M0,0\" style=\"fill: none;\"/><g class=\"overlines-above\"/><g class=\"xaxislayer-above\"><g class=\"xtick\"><text text-anchor=\"end\" x=\"0\" y=\"113.6\" transform=\"translate(106.43,0) rotate(30,0,107.6)\" style=\"font-family: 'Open Sans', verdana, arial, sans-serif; font-size: 12px; fill: rgb(42, 63, 95); fill-opacity: 1; white-space: pre; opacity: 1;\">-banned-</text></g><g class=\"xtick\"><text text-anchor=\"end\" x=\"0\" y=\"113.6\" transform=\"translate(159.29000000000002,0) rotate(30,0,107.6)\" style=\"font-family: 'Open Sans', verdana, arial, sans-serif; font-size: 12px; fill: rgb(42, 63, 95); fill-opacity: 1; white-space: pre; opacity: 1;\">Count_Money</text></g><g class=\"xtick\"><text text-anchor=\"end\" x=\"0\" y=\"113.6\" transform=\"translate(212.14,0) rotate(30,0,107.6)\" style=\"font-family: 'Open Sans', verdana, arial, sans-serif; font-size: 12px; fill: rgb(42, 63, 95); fill-opacity: 1; white-space: pre; opacity: 1;\">My_pp_big_and_hard</text></g><g class=\"xtick\"><text text-anchor=\"end\" x=\"0\" y=\"113.6\" transform=\"translate(265,0) rotate(30,0,107.6)\" style=\"font-family: 'Open Sans', verdana, arial, sans-serif; font-size: 12px; fill: rgb(42, 63, 95); fill-opacity: 1; white-space: pre; opacity: 1;\">MikiSayaka33</text></g><g class=\"xtick\"><text text-anchor=\"end\" x=\"0\" y=\"113.6\" transform=\"translate(317.86,0) rotate(30,0,107.6)\" style=\"font-family: 'Open Sans', verdana, arial, sans-serif; font-size: 12px; fill: rgb(42, 63, 95); fill-opacity: 1; white-space: pre; opacity: 1;\">ran-Us</text></g><g class=\"xtick\"><text text-anchor=\"end\" x=\"0\" y=\"113.6\" transform=\"translate(370.71,0) rotate(30,0,107.6)\" style=\"font-family: 'Open Sans', verdana, arial, sans-serif; font-size: 12px; fill: rgb(42, 63, 95); fill-opacity: 1; white-space: pre; opacity: 1;\">Completeepicness_1</text></g><g class=\"xtick\"><text text-anchor=\"end\" x=\"0\" y=\"113.6\" transform=\"translate(423.57,0) rotate(30,0,107.6)\" style=\"font-family: 'Open Sans', verdana, arial, sans-serif; font-size: 12px; fill: rgb(42, 63, 95); fill-opacity: 1; white-space: pre; opacity: 1;\">AmazingAdminAnus</text></g><g class=\"xtick\"><text text-anchor=\"end\" x=\"0\" y=\"113.6\" transform=\"translate(476.43,0) rotate(30,0,107.6)\" style=\"font-family: 'Open Sans', verdana, arial, sans-serif; font-size: 12px; fill: rgb(42, 63, 95); fill-opacity: 1; white-space: pre; opacity: 1;\">Haveluna55</text></g><g class=\"xtick\"><text text-anchor=\"end\" x=\"0\" y=\"113.6\" transform=\"translate(529.29,0) rotate(30,0,107.6)\" style=\"font-family: 'Open Sans', verdana, arial, sans-serif; font-size: 12px; fill: rgb(42, 63, 95); fill-opacity: 1; white-space: pre; opacity: 1;\">digitalPeneTrashun</text></g><g class=\"xtick\"><text text-anchor=\"end\" x=\"0\" y=\"113.6\" transform=\"translate(582.14,0) rotate(30,0,107.6)\" style=\"font-family: 'Open Sans', verdana, arial, sans-serif; font-size: 12px; fill: rgb(42, 63, 95); fill-opacity: 1; white-space: pre; opacity: 1;\">theycallmesasha</text></g><g class=\"xtick\"><text text-anchor=\"end\" x=\"0\" y=\"113.6\" transform=\"translate(635,0) rotate(30,0,107.6)\" style=\"font-family: 'Open Sans', verdana, arial, sans-serif; font-size: 12px; fill: rgb(42, 63, 95); fill-opacity: 1; white-space: pre; opacity: 1;\">ThirdPersonRecording</text></g><g class=\"xtick\"><text text-anchor=\"end\" x=\"0\" y=\"113.6\" transform=\"translate(687.86,0) rotate(30,0,107.6)\" style=\"font-family: 'Open Sans', verdana, arial, sans-serif; font-size: 12px; fill: rgb(42, 63, 95); fill-opacity: 1; white-space: pre; opacity: 1;\">a_satanic_mechanic</text></g><g class=\"xtick\"><text text-anchor=\"end\" x=\"0\" y=\"113.6\" transform=\"translate(740.71,0) rotate(30,0,107.6)\" style=\"font-family: 'Open Sans', verdana, arial, sans-serif; font-size: 12px; fill: rgb(42, 63, 95); fill-opacity: 1; white-space: pre; opacity: 1;\">_theangrybadger_</text></g><g class=\"xtick\"><text text-anchor=\"end\" x=\"0\" y=\"113.6\" transform=\"translate(793.57,0) rotate(30,0,107.6)\" style=\"font-family: 'Open Sans', verdana, arial, sans-serif; font-size: 12px; fill: rgb(42, 63, 95); fill-opacity: 1; white-space: pre; opacity: 1;\">ObviousTrollB8</text></g></g><g class=\"yaxislayer-above\"><g class=\"ytick\"><text text-anchor=\"end\" x=\"79\" y=\"4.199999999999999\" transform=\"translate(0,401)\" style=\"font-family: 'Open Sans', verdana, arial, sans-serif; font-size: 12px; fill: rgb(42, 63, 95); fill-opacity: 1; white-space: pre; opacity: 1;\">−1400</text></g><g class=\"ytick\"><text text-anchor=\"end\" x=\"79\" y=\"4.199999999999999\" style=\"font-family: 'Open Sans', verdana, arial, sans-serif; font-size: 12px; fill: rgb(42, 63, 95); fill-opacity: 1; white-space: pre; opacity: 1;\" transform=\"translate(0,360.41999999999996)\">−1200</text></g><g class=\"ytick\"><text text-anchor=\"end\" x=\"79\" y=\"4.199999999999999\" style=\"font-family: 'Open Sans', verdana, arial, sans-serif; font-size: 12px; fill: rgb(42, 63, 95); fill-opacity: 1; white-space: pre; opacity: 1;\" transform=\"translate(0,319.85)\">−1000</text></g><g class=\"ytick\"><text text-anchor=\"end\" x=\"79\" y=\"4.199999999999999\" style=\"font-family: 'Open Sans', verdana, arial, sans-serif; font-size: 12px; fill: rgb(42, 63, 95); fill-opacity: 1; white-space: pre; opacity: 1;\" transform=\"translate(0,279.28)\">−800</text></g><g class=\"ytick\"><text text-anchor=\"end\" x=\"79\" y=\"4.199999999999999\" style=\"font-family: 'Open Sans', verdana, arial, sans-serif; font-size: 12px; fill: rgb(42, 63, 95); fill-opacity: 1; white-space: pre; opacity: 1;\" transform=\"translate(0,238.70999999999998)\">−600</text></g><g class=\"ytick\"><text text-anchor=\"end\" x=\"79\" y=\"4.199999999999999\" style=\"font-family: 'Open Sans', verdana, arial, sans-serif; font-size: 12px; fill: rgb(42, 63, 95); fill-opacity: 1; white-space: pre; opacity: 1;\" transform=\"translate(0,198.14)\">−400</text></g><g class=\"ytick\"><text text-anchor=\"end\" x=\"79\" y=\"4.199999999999999\" style=\"font-family: 'Open Sans', verdana, arial, sans-serif; font-size: 12px; fill: rgb(42, 63, 95); fill-opacity: 1; white-space: pre; opacity: 1;\" transform=\"translate(0,157.57)\">−200</text></g><g class=\"ytick\"><text text-anchor=\"end\" x=\"79\" y=\"4.199999999999999\" style=\"font-family: 'Open Sans', verdana, arial, sans-serif; font-size: 12px; fill: rgb(42, 63, 95); fill-opacity: 1; white-space: pre; opacity: 1;\" transform=\"translate(0,117)\">0</text></g></g><g class=\"overaxes-above\"/></g></g><g class=\"polarlayer\"/><g class=\"ternarylayer\"/><g class=\"geolayer\"/><g class=\"funnelarealayer\"/><g class=\"pielayer\"/><g class=\"iciclelayer\"/><g class=\"treemaplayer\"/><g class=\"sunburstlayer\"/><g class=\"glimages\"/><defs id=\"topdefs-ed7b68\"><g class=\"clips\"/></defs><g class=\"layer-above\"><g class=\"imagelayer\"/><g class=\"shapelayer\"/></g><g class=\"infolayer\"><g class=\"g-gtitle\"><text class=\"gtitle\" x=\"450\" y=\"400\" text-anchor=\"middle\" dy=\"0em\" style=\"font-family: 'Open Sans', verdana, arial, sans-serif; font-size: 17px; fill: rgb(42, 63, 95); opacity: 1; font-weight: normal; white-space: pre;\">Accounts with minimum contribution scores in 2021</text></g><g class=\"g-xtitle\" transform=\"translate(0,2.362499999999997)\"><text class=\"xtitle\" x=\"450\" y=\"11.637500000000003\" text-anchor=\"middle\" style=\"font-family: 'Open Sans', verdana, arial, sans-serif; font-size: 14px; fill: rgb(42, 63, 95); opacity: 1; font-weight: normal; white-space: pre;\">user name</text></g><g class=\"g-ytitle\" transform=\"translate(0.1435546875,0)\"><text class=\"ytitle\" transform=\"rotate(-90,13.856250000000003,268.5)\" x=\"13.856250000000003\" y=\"268.5\" text-anchor=\"middle\" style=\"font-family: 'Open Sans', verdana, arial, sans-serif; font-size: 14px; fill: rgb(42, 63, 95); opacity: 1; font-weight: normal; white-space: pre;\">score</text></g></g></svg>"
      ]
     },
     "metadata": {},
     "output_type": "display_data"
    }
   ],
   "source": [
    "# Filter on minimum scores\n",
    "\n",
    "df_scores_low = df_merged.sort_values('score').head(20)\n",
    "\n",
    "fig = px.bar(df_scores_low,\n",
    "             x='user_name', \n",
    "             y=df_scores_low.score, \n",
    "             text = df_scores_low.score)\n",
    "\n",
    "fig.update_layout(title_text='Accounts with minimum contribution scores in 2021', title_x=0.5, title_y=0.2)\n",
    "\n",
    "fig.update_layout(\n",
    "    xaxis = dict(\n",
    "        side='top',\n",
    "        title='user name',\n",
    "        tickmode = 'array',\n",
    "        tickvals = df_scores_low.user_name,\n",
    "    )\n",
    ")\n",
    "\n",
    "clrs = ['red' if (y < -200) else '#5296dd' for y in df_scores_low.score]\n",
    "\n",
    "fig.update_traces(marker_color=clrs,\n",
    "                  marker_line_width=2, opacity=1, textposition='auto')\n",
    "\n",
    "\n",
    "fig.show()\n"
   ]
  },
  {
   "cell_type": "markdown",
   "id": "f07b859b",
   "metadata": {},
   "source": [
    "**Count_Money** <br>\n",
    "- Created on 2016-07-28 \n",
    "- Has the minimum contribution scores in 2021\n",
    "- Posting sexual comments"
   ]
  },
  {
   "cell_type": "code",
   "execution_count": 144,
   "id": "d1aff009",
   "metadata": {},
   "outputs": [
    {
     "data": {
      "text/html": [
       "<div>\n",
       "<style scoped>\n",
       "    .dataframe tbody tr th:only-of-type {\n",
       "        vertical-align: middle;\n",
       "    }\n",
       "\n",
       "    .dataframe tbody tr th {\n",
       "        vertical-align: top;\n",
       "    }\n",
       "\n",
       "    .dataframe thead th {\n",
       "        text-align: right;\n",
       "    }\n",
       "</style>\n",
       "<table border=\"1\" class=\"dataframe\">\n",
       "  <thead>\n",
       "    <tr style=\"text-align: right;\">\n",
       "      <th></th>\n",
       "      <th>child_id</th>\n",
       "      <th>permalink</th>\n",
       "      <th>text</th>\n",
       "      <th>parent_id</th>\n",
       "      <th>subreddit</th>\n",
       "      <th>created_at</th>\n",
       "      <th>sentiment_blob</th>\n",
       "      <th>sentiment_nltk</th>\n",
       "      <th>score</th>\n",
       "      <th>top_level</th>\n",
       "      <th>...</th>\n",
       "      <th>is_mod</th>\n",
       "      <th>is_gold</th>\n",
       "      <th>is_banned</th>\n",
       "      <th>comment_karma</th>\n",
       "      <th>link_karma</th>\n",
       "      <th>user_created_at</th>\n",
       "      <th>banned_unverified</th>\n",
       "      <th>creation_year</th>\n",
       "      <th>diff</th>\n",
       "      <th>days_after_creation</th>\n",
       "    </tr>\n",
       "  </thead>\n",
       "  <tbody>\n",
       "    <tr>\n",
       "      <th>13134</th>\n",
       "      <td>t1_gsuiv6l</td>\n",
       "      <td>/r/iamatotalpieceofshit/comments/mgjuv3/amber_...</td>\n",
       "      <td>She is super hot though</td>\n",
       "      <td>t3_mgjuv3</td>\n",
       "      <td>r/iamatotalpieceofshit</td>\n",
       "      <td>2021-03-30 21:39:50</td>\n",
       "      <td>Positive</td>\n",
       "      <td>Positive</td>\n",
       "      <td>-26.0</td>\n",
       "      <td>submission</td>\n",
       "      <td>...</td>\n",
       "      <td>False</td>\n",
       "      <td>False</td>\n",
       "      <td>False</td>\n",
       "      <td>27855.0</td>\n",
       "      <td>52.0</td>\n",
       "      <td>2016-07-28 21:39:06</td>\n",
       "      <td>others</td>\n",
       "      <td>others</td>\n",
       "      <td>1706 days 00:00:44</td>\n",
       "      <td>1706.0</td>\n",
       "    </tr>\n",
       "    <tr>\n",
       "      <th>13135</th>\n",
       "      <td>t1_gsujy3d</td>\n",
       "      <td>/r/iamatotalpieceofshit/comments/mgjuv3/amber_...</td>\n",
       "      <td>Love is respect</td>\n",
       "      <td>t1_gsujuvn</td>\n",
       "      <td>r/iamatotalpieceofshit</td>\n",
       "      <td>2021-03-30 21:48:42</td>\n",
       "      <td>Positive</td>\n",
       "      <td>Positive</td>\n",
       "      <td>-379.0</td>\n",
       "      <td>comment</td>\n",
       "      <td>...</td>\n",
       "      <td>False</td>\n",
       "      <td>False</td>\n",
       "      <td>False</td>\n",
       "      <td>27855.0</td>\n",
       "      <td>52.0</td>\n",
       "      <td>2016-07-28 21:39:06</td>\n",
       "      <td>others</td>\n",
       "      <td>others</td>\n",
       "      <td>1706 days 00:09:36</td>\n",
       "      <td>1706.0</td>\n",
       "    </tr>\n",
       "    <tr>\n",
       "      <th>13136</th>\n",
       "      <td>t1_gsum27o</td>\n",
       "      <td>/r/iamatotalpieceofshit/comments/mgjuv3/amber_...</td>\n",
       "      <td>This is sad. I hope you find love one day.</td>\n",
       "      <td>t1_gsulr33</td>\n",
       "      <td>r/iamatotalpieceofshit</td>\n",
       "      <td>2021-03-30 22:06:13</td>\n",
       "      <td>Neutral</td>\n",
       "      <td>Neutral</td>\n",
       "      <td>-109.0</td>\n",
       "      <td>comment</td>\n",
       "      <td>...</td>\n",
       "      <td>False</td>\n",
       "      <td>False</td>\n",
       "      <td>False</td>\n",
       "      <td>27855.0</td>\n",
       "      <td>52.0</td>\n",
       "      <td>2016-07-28 21:39:06</td>\n",
       "      <td>others</td>\n",
       "      <td>others</td>\n",
       "      <td>1706 days 00:27:07</td>\n",
       "      <td>1706.0</td>\n",
       "    </tr>\n",
       "    <tr>\n",
       "      <th>13137</th>\n",
       "      <td>t1_gsumt4r</td>\n",
       "      <td>/r/iamatotalpieceofshit/comments/mgjuv3/amber_...</td>\n",
       "      <td>Well I do usually pay for everything when I go...</td>\n",
       "      <td>t1_gsumj0k</td>\n",
       "      <td>r/iamatotalpieceofshit</td>\n",
       "      <td>2021-03-30 22:12:25</td>\n",
       "      <td>Positive</td>\n",
       "      <td>Neutral</td>\n",
       "      <td>-40.0</td>\n",
       "      <td>comment</td>\n",
       "      <td>...</td>\n",
       "      <td>False</td>\n",
       "      <td>False</td>\n",
       "      <td>False</td>\n",
       "      <td>27855.0</td>\n",
       "      <td>52.0</td>\n",
       "      <td>2016-07-28 21:39:06</td>\n",
       "      <td>others</td>\n",
       "      <td>others</td>\n",
       "      <td>1706 days 00:33:19</td>\n",
       "      <td>1706.0</td>\n",
       "    </tr>\n",
       "    <tr>\n",
       "      <th>13138</th>\n",
       "      <td>t1_gsuui2x</td>\n",
       "      <td>/r/iamatotalpieceofshit/comments/mgjuv3/amber_...</td>\n",
       "      <td>It really is isn't it</td>\n",
       "      <td>t1_gsuu4m1</td>\n",
       "      <td>r/iamatotalpieceofshit</td>\n",
       "      <td>2021-03-30 23:19:00</td>\n",
       "      <td>Positive</td>\n",
       "      <td>Neutral</td>\n",
       "      <td>1.0</td>\n",
       "      <td>comment</td>\n",
       "      <td>...</td>\n",
       "      <td>False</td>\n",
       "      <td>False</td>\n",
       "      <td>False</td>\n",
       "      <td>27855.0</td>\n",
       "      <td>52.0</td>\n",
       "      <td>2016-07-28 21:39:06</td>\n",
       "      <td>others</td>\n",
       "      <td>others</td>\n",
       "      <td>1706 days 01:39:54</td>\n",
       "      <td>1706.0</td>\n",
       "    </tr>\n",
       "    <tr>\n",
       "      <th>13139</th>\n",
       "      <td>t1_gsuw8oc</td>\n",
       "      <td>/r/iamatotalpieceofshit/comments/mgjuv3/amber_...</td>\n",
       "      <td>Lol that's so cute. My wife is going to think ...</td>\n",
       "      <td>t1_gsuuq1b</td>\n",
       "      <td>r/iamatotalpieceofshit</td>\n",
       "      <td>2021-03-30 23:34:00</td>\n",
       "      <td>Positive</td>\n",
       "      <td>Positive</td>\n",
       "      <td>-1.0</td>\n",
       "      <td>comment</td>\n",
       "      <td>...</td>\n",
       "      <td>False</td>\n",
       "      <td>False</td>\n",
       "      <td>False</td>\n",
       "      <td>27855.0</td>\n",
       "      <td>52.0</td>\n",
       "      <td>2016-07-28 21:39:06</td>\n",
       "      <td>others</td>\n",
       "      <td>others</td>\n",
       "      <td>1706 days 01:54:54</td>\n",
       "      <td>1706.0</td>\n",
       "    </tr>\n",
       "  </tbody>\n",
       "</table>\n",
       "<p>6 rows × 24 columns</p>\n",
       "</div>"
      ],
      "text/plain": [
       "         child_id                                          permalink  \\\n",
       "13134  t1_gsuiv6l  /r/iamatotalpieceofshit/comments/mgjuv3/amber_...   \n",
       "13135  t1_gsujy3d  /r/iamatotalpieceofshit/comments/mgjuv3/amber_...   \n",
       "13136  t1_gsum27o  /r/iamatotalpieceofshit/comments/mgjuv3/amber_...   \n",
       "13137  t1_gsumt4r  /r/iamatotalpieceofshit/comments/mgjuv3/amber_...   \n",
       "13138  t1_gsuui2x  /r/iamatotalpieceofshit/comments/mgjuv3/amber_...   \n",
       "13139  t1_gsuw8oc  /r/iamatotalpieceofshit/comments/mgjuv3/amber_...   \n",
       "\n",
       "                                                    text   parent_id  \\\n",
       "13134                            She is super hot though   t3_mgjuv3   \n",
       "13135                                    Love is respect  t1_gsujuvn   \n",
       "13136         This is sad. I hope you find love one day.  t1_gsulr33   \n",
       "13137  Well I do usually pay for everything when I go...  t1_gsumj0k   \n",
       "13138                              It really is isn't it  t1_gsuu4m1   \n",
       "13139  Lol that's so cute. My wife is going to think ...  t1_gsuuq1b   \n",
       "\n",
       "                    subreddit          created_at sentiment_blob  \\\n",
       "13134  r/iamatotalpieceofshit 2021-03-30 21:39:50       Positive   \n",
       "13135  r/iamatotalpieceofshit 2021-03-30 21:48:42       Positive   \n",
       "13136  r/iamatotalpieceofshit 2021-03-30 22:06:13        Neutral   \n",
       "13137  r/iamatotalpieceofshit 2021-03-30 22:12:25       Positive   \n",
       "13138  r/iamatotalpieceofshit 2021-03-30 23:19:00       Positive   \n",
       "13139  r/iamatotalpieceofshit 2021-03-30 23:34:00       Positive   \n",
       "\n",
       "      sentiment_nltk  score   top_level  ... is_mod is_gold is_banned  \\\n",
       "13134       Positive  -26.0  submission  ...  False   False     False   \n",
       "13135       Positive -379.0     comment  ...  False   False     False   \n",
       "13136        Neutral -109.0     comment  ...  False   False     False   \n",
       "13137        Neutral  -40.0     comment  ...  False   False     False   \n",
       "13138        Neutral    1.0     comment  ...  False   False     False   \n",
       "13139       Positive   -1.0     comment  ...  False   False     False   \n",
       "\n",
       "       comment_karma  link_karma     user_created_at  banned_unverified  \\\n",
       "13134        27855.0        52.0 2016-07-28 21:39:06             others   \n",
       "13135        27855.0        52.0 2016-07-28 21:39:06             others   \n",
       "13136        27855.0        52.0 2016-07-28 21:39:06             others   \n",
       "13137        27855.0        52.0 2016-07-28 21:39:06             others   \n",
       "13138        27855.0        52.0 2016-07-28 21:39:06             others   \n",
       "13139        27855.0        52.0 2016-07-28 21:39:06             others   \n",
       "\n",
       "       creation_year                diff days_after_creation  \n",
       "13134         others  1706 days 00:00:44              1706.0  \n",
       "13135         others  1706 days 00:09:36              1706.0  \n",
       "13136         others  1706 days 00:27:07              1706.0  \n",
       "13137         others  1706 days 00:33:19              1706.0  \n",
       "13138         others  1706 days 01:39:54              1706.0  \n",
       "13139         others  1706 days 01:54:54              1706.0  \n",
       "\n",
       "[6 rows x 24 columns]"
      ]
     },
     "execution_count": 144,
     "metadata": {},
     "output_type": "execute_result"
    }
   ],
   "source": [
    "df_count = df_merged[df_merged.user_name == 'Count_Money'].sort_values('created_at')\n",
    "df_count\n",
    "\n",
    "# Posting sexual comments"
   ]
  },
  {
   "cell_type": "code",
   "execution_count": null,
   "id": "f33de477",
   "metadata": {},
   "outputs": [],
   "source": []
  },
  {
   "cell_type": "markdown",
   "id": "b2885f59",
   "metadata": {},
   "source": [
    "<a id='conclusions'></a>\n",
    "## Conclusions\n",
    "\n",
    "<ul>\n",
    "<li><a href=\"#intro\">Introduction</a></li>\n",
    "<li><a href=\"#eda\">Exploratory Data Analysis</a></li>\n",
    "<li><a href=\"#conclusions\"><b><mark>Conclusions</mark></b></a></li>\n",
    "</ul>"
   ]
  },
  {
   "cell_type": "markdown",
   "id": "8f9483fc",
   "metadata": {},
   "source": [
    ">### Banned / Unverified Accounts \n",
    "\n",
    "- 20% of 2021 contributions were made by banned (7.23% --> 1323) and unverified (11.4% --> 2082) accounts.\n",
    "- 20% of 2021 submissions were made by banned (11.8% --> 228) and unverified (7.43% --> 143) accounts.\n",
    "-\n",
    "- 25% of the peak day contributions (17/04/2021) were made by banned (5.29% --> 71) and unverified (17.5% --> 235) accounts.\n",
    "- 11% (2 submissions) of the peak day submissions (17/04/2021) were made by banned accounts.\n",
    "\n",
    ">### Banned\n",
    "\n",
    "**Truthbetheprejudice:** <br>\n",
    "(banned)\n",
    "- This user contributions got the hieghest scores (more than 25K scores in 2021).\n",
    "- Made 43 submissions in 2021, no comments at all.\n",
    "- Posting the same submission in more than one subreddit within a few seconds/minutes.\n",
    "- Most of the submissions were on May, 2021.\n",
    "- made 4 submissions with the same text \"Remove Amber Heard from Aquaman 2\" within only 30 seconds!!\n",
    "\n",
    "\n",
    "**the-speed-of-pain:** <br>\n",
    "(banned)\n",
    "- Made 2 submissions with the same text \"Remove Amber Heard from Aquaman 2\" within only 3 seconds!!\n",
    "\n",
    "**90police:** <br>\n",
    "(banned)\n",
    "- Made 17 submissions in different subreddits within only 5 minutes!! --> (Sexual Content)\n",
    "\n",
    "**My_pp_big_and_hard:** <br>\n",
    "(banned)\n",
    "- Has the minimum contributions scores (-400) --> (Sexual Comments)\n",
    "\n",
    ">### Unverified\n",
    "\n",
    "**\"owenlinx\" , \"garretdanielkelly\"** Both users are bots since, they posted more than one different submission with the same submission text <br> \"Amber Heard Touching Herself\" in exactly the same second!! <br>\n",
    "(sexual content)\n",
    "\n",
    "**\"RoleplayGuy21\" , \"RoleplayTime21\"** Two different accounts posting submissions with the same submission text <br>\"Can Somebody RP as Amber Heard for me longterm?\". <br>\n",
    "(sexual content)\n",
    "\n",
    "#### Unverified Accounts Contributions in 2021\n",
    "| Accounts Creation Year | n_contributions |\n",
    "| :--|:--|\n",
    "|2021| 9.99% (208)|\n",
    "|2020 | 30.6% (638)|\n",
    "|2019 | 20.6% (428)|\n",
    "|2018 | 10.5% (219)|\n",
    "|others | 28.3% (589)|\n",
    "\n",
    "#### Unverified Accounts Submissions in 2021\n",
    "| Accounts Creation Year | n_submissions |\n",
    "| :--|:--|\n",
    "|2021| 21.7% (31)|\n",
    "|2020 | 32.9% (47)|\n",
    "|2019 | 25.2% (36)|\n",
    "|2018 | 3.5% (5)|\n",
    "|others | 16.8% (24)|\n",
    "\n",
    "\n",
    ">### New Accounts \n",
    "\n",
    "- 60% of 2021 contributions were made by newly created accounts (last 4 years).\n",
    "- 65% of 2021 submissions were made by newly created accounts (last 4 years).\n",
    "-\n",
    "- 60% of the peak day contributions (17/04/2021) were made by newly created accounts (last 4 years).\n",
    "- 55% of the peak day submissions (17/04/2021) were made by newly created accounts (last 4 years).\n",
    "\n",
    "#### New Accounts Contributions in 2021\n",
    "| Accounts Creation Year | n_contributions |\n",
    "| :--|:--|\n",
    "|2021| 6.75% (1236)|\n",
    "|2020 | 21.1% (3859)|\n",
    "|2019 | 15.6% (2857)|\n",
    "|2018 | 9.87% (1807)|\n",
    "|banned | 7.23% (1323)|\n",
    "|others | 39.5% (7223)|\n",
    "\n",
    "#### New Accounts Submissions in 2021\n",
    "| Accounts Creation Year | n_contributions |\n",
    "| :--|:--|\n",
    "|2021| 17.8% (343)|\n",
    "|2020 | 19% (365)|\n",
    "|2019 | 10.8% (208)|\n",
    "|2018 | 4.62% (89)|\n",
    "|banned | 11.8% (228)|\n",
    "|others | 35.9% (692)|\n",
    "\n",
    "**MahatmaGandamnit** <br>\n",
    "- Created on 2016-10-10 \n",
    "- Has only one negative submission in 2021 (28 Feb) and got the highest contribution scores (29.5K)\n",
    "- reddit.com/r/pussypassdenied/comments/lu5055/amber_heard_has_been_fired_from_jason_momoas/\n",
    "\n",
    "**Count_Money** <br>\n",
    "- Created on 2016-07-28 \n",
    "- Has the minimum contribution scores in 2021\n",
    "- Posting sexual comments"
   ]
  },
  {
   "cell_type": "code",
   "execution_count": 145,
   "id": "bd06811f",
   "metadata": {},
   "outputs": [],
   "source": [
    "# !jupyter nbconvert --to html new_banned_unverified_2021.ipynb "
   ]
  },
  {
   "cell_type": "code",
   "execution_count": null,
   "id": "ca999925",
   "metadata": {},
   "outputs": [],
   "source": []
  }
 ],
 "metadata": {
  "kernelspec": {
   "display_name": "Python 3",
   "language": "python",
   "name": "python3"
  },
  "language_info": {
   "codemirror_mode": {
    "name": "ipython",
    "version": 3
   },
   "file_extension": ".py",
   "mimetype": "text/x-python",
   "name": "python",
   "nbconvert_exporter": "python",
   "pygments_lexer": "ipython3",
   "version": "3.8.8"
  }
 },
 "nbformat": 4,
 "nbformat_minor": 5
}
